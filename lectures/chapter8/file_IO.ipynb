{
 "cells": [
  {
   "cell_type": "markdown",
   "metadata": {
    "slideshow": {
     "slide_type": "slide"
    }
   },
   "source": [
    "# 8.3 File I/O"
   ]
  },
  {
   "cell_type": "markdown",
   "metadata": {
    "slideshow": {
     "slide_type": "slide"
    }
   },
   "source": [
    "Standard Input/Output is to and from the console. \n"
   ]
  },
  {
   "cell_type": "code",
   "execution_count": 1,
   "metadata": {
    "collapsed": false,
    "slideshow": {
     "slide_type": "fragment"
    }
   },
   "outputs": [
    {
     "name": "stdout",
     "output_type": "stream",
     "text": [
      "Input goes here Test\n",
      "('This is your output', 'Test')\n"
     ]
    }
   ],
   "source": [
    "input1 = raw_input('Input goes here ')\n",
    "\n",
    "print ('This is your output', input1)"
   ]
  },
  {
   "cell_type": "markdown",
   "metadata": {
    "collapsed": false,
    "slideshow": {
     "slide_type": "fragment"
    }
   },
   "source": [
    "Because we are working on computers and doing very many interesting things, we are often interest in Input/Output to files. "
   ]
  },
  {
   "cell_type": "markdown",
   "metadata": {
    "slideshow": {
     "slide_type": "slide"
    }
   },
   "source": [
    "## Python File Manipulation\n",
    "\n",
    "Files are identified by their name; the filename. \n",
    "\n",
    "File names are stored as strings and opened as file objects. "
   ]
  },
  {
   "cell_type": "code",
   "execution_count": 3,
   "metadata": {
    "collapsed": false,
    "slideshow": {
     "slide_type": "fragment"
    }
   },
   "outputs": [
    {
     "ename": "IOError",
     "evalue": "[Errno 2] No such file or directory: 'fileToOpen.txt'",
     "output_type": "error",
     "traceback": [
      "\u001b[1;31m---------------------------------------------------------------------------\u001b[0m",
      "\u001b[1;31mIOError\u001b[0m                                   Traceback (most recent call last)",
      "\u001b[1;32m<ipython-input-3-7466afc945a0>\u001b[0m in \u001b[0;36m<module>\u001b[1;34m()\u001b[0m\n\u001b[1;32m----> 1\u001b[1;33m \u001b[0mopenedFile\u001b[0m \u001b[1;33m=\u001b[0m \u001b[0mfile\u001b[0m\u001b[1;33m(\u001b[0m\u001b[1;34m'fileToOpen.txt'\u001b[0m\u001b[1;33m)\u001b[0m\u001b[1;33m\u001b[0m\u001b[0m\n\u001b[0m",
      "\u001b[1;31mIOError\u001b[0m: [Errno 2] No such file or directory: 'fileToOpen.txt'"
     ]
    }
   ],
   "source": [
    "openedFile = file('fileToOpen.txt')"
   ]
  },
  {
   "cell_type": "markdown",
   "metadata": {
    "slideshow": {
     "slide_type": "subslide"
    }
   },
   "source": [
    "### Some File Object Methods"
   ]
  },
  {
   "cell_type": "markdown",
   "metadata": {
    "slideshow": {
     "slide_type": "fragment"
    }
   },
   "source": [
    "Opening a file "
   ]
  },
  {
   "cell_type": "code",
   "execution_count": 6,
   "metadata": {
    "collapsed": false,
    "slideshow": {
     "slide_type": "fragment"
    }
   },
   "outputs": [],
   "source": [
    "openedFile = file('ArthurAndDennis.txt')"
   ]
  },
  {
   "cell_type": "markdown",
   "metadata": {
    "collapsed": false,
    "slideshow": {
     "slide_type": "fragment"
    }
   },
   "source": [
    "Closing a file\n"
   ]
  },
  {
   "cell_type": "code",
   "execution_count": 8,
   "metadata": {
    "collapsed": false,
    "slideshow": {
     "slide_type": "fragment"
    }
   },
   "outputs": [],
   "source": [
    "openedFile.close()"
   ]
  },
  {
   "cell_type": "markdown",
   "metadata": {
    "slideshow": {
     "slide_type": "subslide"
    }
   },
   "source": [
    "### Some File Object Methods"
   ]
  },
  {
   "cell_type": "markdown",
   "metadata": {
    "collapsed": false,
    "slideshow": {
     "slide_type": "fragment"
    }
   },
   "source": [
    "Reading the contents of the file to a string. "
   ]
  },
  {
   "cell_type": "code",
   "execution_count": 16,
   "metadata": {
    "collapsed": false,
    "slideshow": {
     "slide_type": "fragment"
    }
   },
   "outputs": [
    {
     "name": "stdout",
     "output_type": "stream",
     "text": [
      "Arthur: Old woman!\n",
      "Dennis: MAN!\n",
      "Arthur: Man, sorry. What knight lives in that castle over there?\n",
      "Dennis: I'm 37.\n",
      "Arthur: What?\n",
      "Dennis: I'm 37! I'm not old!\n",
      "Arthur: Well, I can't just call you \"man\".\n",
      "Dennis: You could say \"Dennis\".\n",
      "Arthur: I didn't know you were called Dennis.\n",
      "Dennis: Well you didn't bother to find out, did you?\n",
      "Arthur: I did say I'm sorry about the \"old woman\", but from behind you looked...\n",
      "Dennis: What I object to is you automatically treatin' me like an inferior.\n",
      "Arthur: Well, I am king.\n",
      "Dennis: Oh, king, eh - very nice. And how'd you get that, then? By exploiting the\n",
      "workers! By hanging on to outdated imperialist dogma which perpetuates the\n",
      "economic and social differences in our society. If there's ever going to be any\n",
      "progress...\n",
      "Dennis' Mother: Dennis, Dennis! There's some lovely filth down here. Oh, how'd\n",
      "you do?\n",
      "Arthur: How'd you do good lady? I am Arthur, king of the Britons. Whose castle\n",
      "is that?\n",
      "Dennis' Mother: King of the who?\n",
      "Arthur: The Britons.\n",
      "Dennis' Mother: Who are the Britons?\n",
      "Arthur: We all are. We are all Britons, and I am your king.\n",
      "Dennis' Mother: I didn't know we had a king. I thought we were an autonomous\n",
      "collective. \n"
     ]
    }
   ],
   "source": [
    "openedFile = file('ArthurAndDennis.txt')\n",
    "transcript = openedFile.read()\n",
    "print transcript\n",
    "openedFile.close()"
   ]
  },
  {
   "cell_type": "markdown",
   "metadata": {
    "collapsed": true,
    "slideshow": {
     "slide_type": "subslide"
    }
   },
   "source": [
    "### Some File Object Methods"
   ]
  },
  {
   "cell_type": "markdown",
   "metadata": {
    "slideshow": {
     "slide_type": "fragment"
    }
   },
   "source": [
    "Reading a single line of a file. "
   ]
  },
  {
   "cell_type": "code",
   "execution_count": 17,
   "metadata": {
    "collapsed": false,
    "slideshow": {
     "slide_type": "fragment"
    }
   },
   "outputs": [
    {
     "name": "stdout",
     "output_type": "stream",
     "text": [
      "Arthur: Old woman!\n",
      "\n"
     ]
    }
   ],
   "source": [
    "openedFile = file('ArthurAndDennis.txt')\n",
    "Line1 = openedFile.readline()\n",
    "print Line1\n",
    "\n"
   ]
  },
  {
   "cell_type": "markdown",
   "metadata": {
    "collapsed": false,
    "slideshow": {
     "slide_type": "subslide"
    }
   },
   "source": [
    "### Some File Object Methods\n"
   ]
  },
  {
   "cell_type": "markdown",
   "metadata": {
    "slideshow": {
     "slide_type": "fragment"
    }
   },
   "source": [
    "Reading the rest of the lines in a file into a list of strings. "
   ]
  },
  {
   "cell_type": "code",
   "execution_count": 20,
   "metadata": {
    "collapsed": false,
    "slideshow": {
     "slide_type": "fragment"
    }
   },
   "outputs": [
    {
     "name": "stdout",
     "output_type": "stream",
     "text": [
      "[]\n"
     ]
    }
   ],
   "source": [
    "AllLines = openedFile.readlines()\n",
    "print AllLines\n",
    "openedFile.close()"
   ]
  },
  {
   "cell_type": "markdown",
   "metadata": {
    "slideshow": {
     "slide_type": "subslide"
    }
   },
   "source": [
    "### Some file object methods"
   ]
  },
  {
   "cell_type": "markdown",
   "metadata": {
    "slideshow": {
     "slide_type": "fragment"
    }
   },
   "source": [
    "Iterating through all the lines a file. "
   ]
  },
  {
   "cell_type": "code",
   "execution_count": 22,
   "metadata": {
    "collapsed": false,
    "slideshow": {
     "slide_type": "fragment"
    }
   },
   "outputs": [
    {
     "name": "stdout",
     "output_type": "stream",
     "text": [
      "Arthur: Old woman!\n",
      "\n",
      "Dennis: MAN!\n",
      "\n",
      "Arthur: Man, sorry. What knight lives in that castle over there?\n",
      "\n",
      "Dennis: I'm 37.\n",
      "\n",
      "Arthur: What?\n",
      "\n",
      "Dennis: I'm 37! I'm not old!\n",
      "\n",
      "Arthur: Well, I can't just call you \"man\".\n",
      "\n",
      "Dennis: You could say \"Dennis\".\n",
      "\n",
      "Arthur: I didn't know you were called Dennis.\n",
      "\n",
      "Dennis: Well you didn't bother to find out, did you?\n",
      "\n",
      "Arthur: I did say I'm sorry about the \"old woman\", but from behind you looked...\n",
      "\n",
      "Dennis: What I object to is you automatically treatin' me like an inferior.\n",
      "\n",
      "Arthur: Well, I am king.\n",
      "\n",
      "Dennis: Oh, king, eh - very nice. And how'd you get that, then? By exploiting the\n",
      "\n",
      "workers! By hanging on to outdated imperialist dogma which perpetuates the\n",
      "\n",
      "economic and social differences in our society. If there's ever going to be any\n",
      "\n",
      "progress...\n",
      "\n",
      "Dennis' Mother: Dennis, Dennis! There's some lovely filth down here. Oh, how'd\n",
      "\n",
      "you do?\n",
      "\n",
      "Arthur: How'd you do good lady? I am Arthur, king of the Britons. Whose castle\n",
      "\n",
      "is that?\n",
      "\n",
      "Dennis' Mother: King of the who?\n",
      "\n",
      "Arthur: The Britons.\n",
      "\n",
      "Dennis' Mother: Who are the Britons?\n",
      "\n",
      "Arthur: We all are. We are all Britons, and I am your king.\n",
      "\n",
      "Dennis' Mother: I didn't know we had a king. I thought we were an autonomous\n",
      "\n",
      "collective. \n"
     ]
    }
   ],
   "source": [
    "openedFile = file('ArthurAndDennis.txt')\n",
    "for i in openedFile:\n",
    "    print(i)\n",
    "openedFile.close()"
   ]
  },
  {
   "cell_type": "markdown",
   "metadata": {
    "slideshow": {
     "slide_type": "slide"
    }
   },
   "source": [
    "## Writing to a file. \n",
    "\n",
    "We've done plenty of ways of reading a plaintext file so far, but we're also equally interested in storing things in files. Let's improve upon the Monty Python transcipt we've been working with. \n",
    "\n"
   ]
  },
  {
   "cell_type": "code",
   "execution_count": 24,
   "metadata": {
    "collapsed": false,
    "slideshow": {
     "slide_type": "fragment"
    }
   },
   "outputs": [
    {
     "ename": "IOError",
     "evalue": "File not open for writing",
     "output_type": "error",
     "traceback": [
      "\u001b[1;31m---------------------------------------------------------------------------\u001b[0m",
      "\u001b[1;31mIOError\u001b[0m                                   Traceback (most recent call last)",
      "\u001b[1;32m<ipython-input-24-54a6f83c545e>\u001b[0m in \u001b[0;36m<module>\u001b[1;34m()\u001b[0m\n\u001b[0;32m      1\u001b[0m \u001b[0mopenedFile\u001b[0m \u001b[1;33m=\u001b[0m \u001b[0mfile\u001b[0m\u001b[1;33m(\u001b[0m\u001b[1;34m'ArthurAndDennis.txt'\u001b[0m\u001b[1;33m)\u001b[0m\u001b[1;33m\u001b[0m\u001b[0m\n\u001b[0;32m      2\u001b[0m \u001b[0mAddedJoke\u001b[0m \u001b[1;33m=\u001b[0m \u001b[1;34m\"An additional Punchline\"\u001b[0m\u001b[1;33m\u001b[0m\u001b[0m\n\u001b[1;32m----> 3\u001b[1;33m \u001b[0mopenedFile\u001b[0m\u001b[1;33m.\u001b[0m\u001b[0mwrite\u001b[0m\u001b[1;33m(\u001b[0m\u001b[0mAddedJoke\u001b[0m\u001b[1;33m)\u001b[0m\u001b[1;33m\u001b[0m\u001b[0m\n\u001b[0m\u001b[0;32m      4\u001b[0m \u001b[0mopenedFile\u001b[0m\u001b[1;33m.\u001b[0m\u001b[0mclose\u001b[0m\u001b[1;33m(\u001b[0m\u001b[1;33m)\u001b[0m\u001b[1;33m\u001b[0m\u001b[0m\n",
      "\u001b[1;31mIOError\u001b[0m: File not open for writing"
     ]
    }
   ],
   "source": [
    "openedFile = file('ArthurAndDennis.txt')\n",
    "AddedJoke = \"An additional Punchline\"\n",
    "openedFile.write(AddedJoke)\n",
    "openedFile.close()\n"
   ]
  },
  {
   "cell_type": "markdown",
   "metadata": {
    "slideshow": {
     "slide_type": "fragment"
    }
   },
   "source": [
    "**By default, files are opened only for reading**"
   ]
  },
  {
   "cell_type": "markdown",
   "metadata": {
    "slideshow": {
     "slide_type": "subslide"
    }
   },
   "source": [
    "### Writing to a file\n",
    "\n",
    "If we wish to write to a file, we must specify what we plan on doing with the file when we open it. This is done with the additonal flag argument in the file method. \n",
    "\n",
    "'r' - Read only mode\n",
    "\n",
    "'w' - Write mode (overwrites the file.)\n",
    "\n",
    "'a' - Append mode. Puts new stuff at the end of the file. "
   ]
  },
  {
   "cell_type": "markdown",
   "metadata": {
    "slideshow": {
     "slide_type": "subslide"
    }
   },
   "source": [
    "### Writing to a file. "
   ]
  },
  {
   "cell_type": "code",
   "execution_count": 30,
   "metadata": {
    "collapsed": false,
    "slideshow": {
     "slide_type": "fragment"
    }
   },
   "outputs": [
    {
     "name": "stdout",
     "output_type": "stream",
     "text": [
      "An additional Punchline\n"
     ]
    }
   ],
   "source": [
    "openedFile = file('ArthurAndDennis.txt','w')\n",
    "AddedJoke = \"An additional Punchline\"\n",
    "openedFile.write(AddedJoke)\n",
    "openedFile.close()\n",
    "\n",
    "\n",
    "openedFile = file('ArthurAndDennis.txt','r')\n",
    "newString = openedFile.read()\n",
    "print(newString)\n",
    "openedFile.close()"
   ]
  },
  {
   "cell_type": "markdown",
   "metadata": {
    "slideshow": {
     "slide_type": "subslide"
    }
   },
   "source": [
    "### Writing to a file \n",
    "\n"
   ]
  },
  {
   "cell_type": "code",
   "execution_count": 31,
   "metadata": {
    "collapsed": false,
    "slideshow": {
     "slide_type": "fragment"
    }
   },
   "outputs": [
    {
     "name": "stdout",
     "output_type": "stream",
     "text": [
      "An additional PunchlineAn additional Punchline\n"
     ]
    }
   ],
   "source": [
    "openedFile = file('ArthurAndDennis.txt','a')\n",
    "openedFile.write(AddedJoke)\n",
    "openedFile.close()\n",
    "\n",
    "\n",
    "openedFile = file('ArthurAndDennis.txt','r')\n",
    "newString = openedFile.read()\n",
    "print(newString)\n",
    "openedFile.close()"
   ]
  },
  {
   "cell_type": "markdown",
   "metadata": {
    "slideshow": {
     "slide_type": "subslide"
    }
   },
   "source": [
    "### The newline character\n",
    "\n",
    "Occassionally, we want our file output not to be a jumbled mess all on the same line. \n",
    "\n",
    "'\\n' set of characters codes for a new line in a file. "
   ]
  },
  {
   "cell_type": "code",
   "execution_count": 34,
   "metadata": {
    "collapsed": false,
    "slideshow": {
     "slide_type": "fragment"
    }
   },
   "outputs": [
    {
     "name": "stdout",
     "output_type": "stream",
     "text": [
      "An additional PunchlineAn additional Punchline\n",
      "An additional Punchline\n",
      "An additional Punchline\n",
      "An additional Punchline\n"
     ]
    }
   ],
   "source": [
    "AddedJoke = \"\\nAn additional Punchline\"\n",
    "openedFile = file('ArthurAndDennis.txt','a')\n",
    "openedFile.write(AddedJoke)\n",
    "openedFile.close()\n",
    "\n",
    "\n",
    "openedFile = file('ArthurAndDennis.txt','r')\n",
    "newString = openedFile.read()\n",
    "print(newString)\n",
    "openedFile.close()"
   ]
  },
  {
   "cell_type": "markdown",
   "metadata": {
    "slideshow": {
     "slide_type": "subslide"
    }
   },
   "source": [
    "## Let's restore our file to it's original state. \n",
    "\n"
   ]
  },
  {
   "cell_type": "code",
   "execution_count": 35,
   "metadata": {
    "collapsed": false
   },
   "outputs": [
    {
     "name": "stdout",
     "output_type": "stream",
     "text": [
      "Arthur: Old woman!\n",
      "Dennis: MAN!\n",
      "Arthur: Man, sorry. What knight lives in that castle over there?\n",
      "Dennis: I'm 37.\n",
      "Arthur: What?\n",
      "Dennis: I'm 37! I'm not old!\n",
      "Arthur: Well, I can't just call you \"man\".\n",
      "Dennis: You could say \"Dennis\".\n",
      "Arthur: I didn't know you were called Dennis.\n",
      "Dennis: Well you didn't bother to find out, did you?\n",
      "Arthur: I did say I'm sorry about the \"old woman\", but from behind you looked...\n",
      "Dennis: What I object to is you automatically treatin' me like an inferior.\n",
      "Arthur: Well, I am king.\n",
      "Dennis: Oh, king, eh - very nice. And how'd you get that, then? By exploiting the\n",
      "workers! By hanging on to outdated imperialist dogma which perpetuates the\n",
      "economic and social differences in our society. If there's ever going to be any\n",
      "progress...\n",
      "Dennis' Mother: Dennis, Dennis! There's some lovely filth down here. Oh, how'd\n",
      "you do?\n",
      "Arthur: How'd you do good lady? I am Arthur, king of the Britons. Whose castle\n",
      "is that?\n",
      "Dennis' Mother: King of the who?\n",
      "Arthur: The Britons.\n",
      "Dennis' Mother: Who are the Britons?\n",
      "Arthur: We all are. We are all Britons, and I am your king.\n",
      "Dennis' Mother: I didn't know we had a king. I thought we were an autonomous\n",
      "collective. \n"
     ]
    }
   ],
   "source": [
    "openedFile = file('ArthurAndDennis.txt','w')\n",
    "openedFile.write(transcript)\n",
    "openedFile.close()\n",
    "\n",
    "\n",
    "openedFile = file('ArthurAndDennis.txt','r')\n",
    "newString = openedFile.read()\n",
    "print(newString)\n",
    "openedFile.close()"
   ]
  },
  {
   "cell_type": "markdown",
   "metadata": {
    "slideshow": {
     "slide_type": "slide"
    }
   },
   "source": [
    "## Saving a file\n",
    "\n",
    "The file is only guranteed to be saved when and if you call the close() method on that file object. \n",
    "\n",
    "If the program ends, expectedly or not, before the close method is called, then changes your program made are not likely to be reflected in the file on the disk. \n",
    "\n",
    "This is becasue the file and the changes to it are stored in a buffer (volatile memory) until being saved onto the disk (nonvolatile memory). \n",
    "\n",
    "To save changes to a file to nonvolatile memory, use the flush() method. "
   ]
  },
  {
   "cell_type": "markdown",
   "metadata": {
    "slideshow": {
     "slide_type": "skip"
    }
   },
   "source": [
    "## CSV Files"
   ]
  },
  {
   "cell_type": "markdown",
   "metadata": {
    "slideshow": {
     "slide_type": "skip"
    }
   },
   "source": [
    "Often times, we're interested in manipulating "
   ]
  },
  {
   "cell_type": "markdown",
   "metadata": {
    "slideshow": {
     "slide_type": "slide"
    }
   },
   "source": [
    "## Non-plaintext files \n",
    "\n",
    "The files we've been operating with so far are plaintext files. They containt plain text. \n",
    "\n",
    "These files have the advantage that they are human-readable. \n",
    "\n",
    "The are also incredibly bulky due to the lack of compression. Most every file you interact with daily is stored in a binary format. Binary formats require special readers. "
   ]
  },
  {
   "cell_type": "markdown",
   "metadata": {
    "slideshow": {
     "slide_type": "subslide"
    }
   },
   "source": [
    "### Image files\n",
    "\n",
    "Image files can be opened and manipulated via numerous libraries, such as SciPy"
   ]
  },
  {
   "cell_type": "code",
   "execution_count": 36,
   "metadata": {
    "collapsed": true,
    "slideshow": {
     "slide_type": "fragment"
    }
   },
   "outputs": [],
   "source": [
    "from scipy import ndimage"
   ]
  },
  {
   "cell_type": "markdown",
   "metadata": {
    "slideshow": {
     "slide_type": "subslide"
    }
   },
   "source": [
    "### High-performance binary file formats\n",
    "\n",
    "These can be read in using h5py or yt"
   ]
  },
  {
   "cell_type": "markdown",
   "metadata": {
    "slideshow": {
     "slide_type": "subslide"
    }
   },
   "source": [
    "### Video files \n",
    "\n",
    "Video files can be read in and manipulated by the OpenCV module cv2. "
   ]
  },
  {
   "cell_type": "markdown",
   "metadata": {
    "slideshow": {
     "slide_type": "subslide"
    }
   },
   "source": [
    "### Sound files\n",
    "\n",
    "Sound files can be read in and manipulated via multiple libraries such as pyffmpeg or PySoundFile\n"
   ]
  },
  {
   "cell_type": "code",
   "execution_count": null,
   "metadata": {
    "collapsed": true
   },
   "outputs": [],
   "source": []
  }
 ],
 "metadata": {
  "celltoolbar": "Slideshow",
  "kernelspec": {
   "display_name": "Python 2",
   "language": "python",
   "name": "python2"
  },
  "language_info": {
   "codemirror_mode": {
    "name": "ipython",
    "version": 2
   },
   "file_extension": ".py",
   "mimetype": "text/x-python",
   "name": "python",
   "nbconvert_exporter": "python",
   "pygments_lexer": "ipython2",
   "version": "2.7.11"
  }
 },
 "nbformat": 4,
 "nbformat_minor": 0
}
