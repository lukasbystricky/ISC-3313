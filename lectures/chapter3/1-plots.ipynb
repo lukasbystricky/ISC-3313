{
 "cells": [
  {
   "cell_type": "markdown",
   "metadata": {
    "collapsed": true,
    "slideshow": {
     "slide_type": "slide"
    }
   },
   "source": [
    "<p style=\"text-align: center;\"><font size=\"8\"><b>Plotting</b></font><br>"
   ]
  },
  {
   "cell_type": "markdown",
   "metadata": {
    "slideshow": {
     "slide_type": "slide"
    }
   },
   "source": [
    "A nice feature of Python is the ease in which we can create graphics. Your textbook dedicates an entire chapter to the `cs1graphics` module which was written by the authors of the book. This module introduces concepts like vector drawing. For scientific applications however the graphics we will mainly be interested in are related to data visualization. \n",
    "\n",
    "The standard package we will use is called `matplotlib`, specifically the `matplotlib.pyplot` submodule. This allows us to plot using similar syntax to Matlab (don't worry if this doens't mean anything to you)."
   ]
  },
  {
   "cell_type": "markdown",
   "metadata": {
    "slideshow": {
     "slide_type": "subslide"
    }
   },
   "source": [
    "To start with, in Jupyter when we create new plots, by default they open as new windows. For display purposes (at least for lectures and assignments) we'd like to display them in the notebook. We do this by including the following directive at the top of the notebook (before the plots). "
   ]
  },
  {
   "cell_type": "code",
   "execution_count": 6,
   "metadata": {
    "collapsed": false
   },
   "outputs": [],
   "source": [
    "%matplotlib inline"
   ]
  },
  {
   "cell_type": "markdown",
   "metadata": {},
   "source": [
    "Plotting outside of Jupyter in scripts or in the interactive session is different. The commands are the same, however nothing is shown until you explicitly tell Python to show the plot."
   ]
  },
  {
   "cell_type": "markdown",
   "metadata": {
    "slideshow": {
     "slide_type": "slide"
    }
   },
   "source": [
    "# Basic Plots\n",
    "\n",
    "Without further ado, let's start looking at some plots. First we'll import `matplotlib.pylot` module. To avoid lots of typing later on, we will call this module `plt`."
   ]
  },
  {
   "cell_type": "code",
   "execution_count": 7,
   "metadata": {
    "collapsed": true
   },
   "outputs": [],
   "source": [
    "import matplotlib.pyplot as plt"
   ]
  },
  {
   "cell_type": "markdown",
   "metadata": {
    "slideshow": {
     "slide_type": "subslide"
    }
   },
   "source": [
    "The `plt.plot` command creates a plot."
   ]
  },
  {
   "cell_type": "code",
   "execution_count": 8,
   "metadata": {
    "collapsed": false
   },
   "outputs": [
    {
     "data": {
      "text/plain": [
       "[<matplotlib.lines.Line2D at 0x1b694d601d0>]"
      ]
     },
     "execution_count": 8,
     "metadata": {},
     "output_type": "execute_result"
    },
    {
     "data": {
      "image/png": "[encoded data removed]",
      "text/plain": [
       "<matplotlib.figure.Figure at 0x1b694b4b9b0>"
      ]
     },
     "metadata": {},
     "output_type": "display_data"
    }
   ],
   "source": [
    "plt.plot([1,2,4,3])\n",
    "\n",
    "# in interactive sessions/scripts add the following to show the plot\n",
    "# plt.show()"
   ]
  },
  {
   "cell_type": "markdown",
   "metadata": {},
   "source": [
    "You'll note that the x-axis ranges from 0 to 3 while the y axis ranges from 1 to 4. If you provide a single list or array to the `plot` command `matlplotlib` assumes it is a sequence of y values and automatically generates the x values for you. The default x values start at 0 (the leading index for Python arrays) and has the same length as y. Therefore in this example x gets the values [0,1,2,3]. The plot above connects the points (0,1), (1,2), (1,4) and (1,3)."
   ]
  },
  {
   "cell_type": "markdown",
   "metadata": {
    "slideshow": {
     "slide_type": "subslide"
    }
   },
   "source": [
    "The plot command can take in an arbitrary number of arguments. For example if you have a specific set of x values you can input a list (or array) of x value in addition to the y values."
   ]
  },
  {
   "cell_type": "code",
   "execution_count": 4,
   "metadata": {
    "collapsed": false
   },
   "outputs": [
    {
     "data": {
      "text/plain": [
       "[<matplotlib.lines.Line2D at 0x1da4ca53c88>]"
      ]
     },
     "execution_count": 4,
     "metadata": {},
     "output_type": "execute_result"
    },
    {
     "data": {
      "image/png": "[encoded data removed]",
      "text/plain": [
       "<matplotlib.figure.Figure at 0x1da4c9bd2e8>"
      ]
     },
     "metadata": {},
     "output_type": "display_data"
    }
   ],
   "source": [
    "plt.plot([1,2,8,9], [1,2,4,3])"
   ]
  },
  {
   "cell_type": "markdown",
   "metadata": {
    "slideshow": {
     "slide_type": "subslide"
    }
   },
   "source": [
    "## Exercise\n",
    "\n",
    "Plot the data:\n",
    "\n",
    "| x | y  |\n",
    "|---|----|\n",
    "| 1 | 50 | \n",
    "| 2 | 60 |\n",
    "| 4 | 40 | \n",
    "| 6 | 30 |\n",
    "| 10| 40 |"
   ]
  },
  {
   "cell_type": "markdown",
   "metadata": {
    "slideshow": {
     "slide_type": "subslide"
    }
   },
   "source": [
    "After the data, an optional argument to the plot command is a string which indicates the color and type of the plot. These letters and symbols of the string are identical to Matlab (again don't worry if you don't know anything about Matlab). "
   ]
  },
  {
   "cell_type": "markdown",
   "metadata": {
    "slideshow": {
     "slide_type": "-"
    }
   },
   "source": [
    "The color is specified by one of the following characters:\n",
    "* 'b' - blue (default)\n",
    "* 'r' - red\n",
    "* 'g' - green\n",
    "* 'c' - cyan\n",
    "* 'y' - yellow\n",
    "* 'm' - magenta\n",
    "* 'k' - black\n",
    "* 'w' - white"
   ]
  },
  {
   "cell_type": "markdown",
   "metadata": {
    "slideshow": {
     "slide_type": "subslide"
    }
   },
   "source": [
    "To plot the individual data points, you can specify one of the following characters:\n",
    "* 'o' - points plotted as circles\n",
    "* 's' - points plotted as squares\n",
    "* '^' - points plotted as triangles\n",
    "* '.' - points plotted as dots\n",
    "\n",
    "The line style can can be one given as one of:\n",
    "* '-'  - continuous line (default)\n",
    "* '--' - dashed line\n",
    "* ':'  - dotted line "
   ]
  },
  {
   "cell_type": "markdown",
   "metadata": {
    "slideshow": {
     "slide_type": "subslide"
    }
   },
   "source": [
    "For example to plot the data using red circles we would pass in \"ro\". "
   ]
  },
  {
   "cell_type": "code",
   "execution_count": 5,
   "metadata": {
    "collapsed": false
   },
   "outputs": [
    {
     "data": {
      "text/plain": [
       "[<matplotlib.lines.Line2D at 0x1da4cdf0a90>]"
      ]
     },
     "execution_count": 5,
     "metadata": {},
     "output_type": "execute_result"
    },
    {
     "data": {
      "image/png": "[encoded data removed]",
      "text/plain": [
       "<matplotlib.figure.Figure at 0x1da4ca6b080>"
      ]
     },
     "metadata": {},
     "output_type": "display_data"
    }
   ],
   "source": [
    "plt.plot([1,2,8,9], [1,2,4,3], \"ro\")"
   ]
  },
  {
   "cell_type": "markdown",
   "metadata": {
    "slideshow": {
     "slide_type": "subslide"
    }
   },
   "source": [
    "These plots are all well and good, but you may want to make them look better or easier to understand. For starters the last plot had some of the data points on the edges of the plot. There is a command called `xlim` that takes in a list of 2 numbers: a lower bound for x and an upper bound for x and sets the x axis to these values. The command `ylim` does the same thing for the y axis."
   ]
  },
  {
   "cell_type": "code",
   "execution_count": 13,
   "metadata": {
    "collapsed": false
   },
   "outputs": [
    {
     "data": {
      "text/plain": [
       "(0, 5)"
      ]
     },
     "execution_count": 13,
     "metadata": {},
     "output_type": "execute_result"
    },
    {
     "data": {
      "image/png": "[encoded data removed]",
      "text/plain": [
       "<matplotlib.figure.Figure at 0x1b694e65f28>"
      ]
     },
     "metadata": {},
     "output_type": "display_data"
    }
   ],
   "source": [
    "plt.plot([1,2,8,9], [1,2,4,3], \"g^--\")\n",
    "plt.ylim([0,5])"
   ]
  },
  {
   "cell_type": "markdown",
   "metadata": {
    "slideshow": {
     "slide_type": "subslide"
    }
   },
   "source": [
    "All good plots should also have axis labels. The commands `xlabel` and `ylabel` do just that. The title command provides a title."
   ]
  },
  {
   "cell_type": "code",
   "execution_count": 14,
   "metadata": {
    "collapsed": false
   },
   "outputs": [
    {
     "data": {
      "text/plain": [
       "<matplotlib.text.Text at 0x1b694e7ceb8>"
      ]
     },
     "execution_count": 14,
     "metadata": {},
     "output_type": "execute_result"
    },
    {
     "data": {
      "image/png": "[encoded data removed]",
      "text/plain": [
       "<matplotlib.figure.Figure at 0x1b69543ea20>"
      ]
     },
     "metadata": {},
     "output_type": "display_data"
    }
   ],
   "source": [
    "plt.plot([1,2,8,9], [1,2,4,3], \"-ro\")\n",
    "plt.ylim([0,5])\n",
    "plt.xlabel(\"x values\")\n",
    "plt.ylabel(\"y values\")\n",
    "plt.title(\"A simple plot\")"
   ]
  },
  {
   "cell_type": "markdown",
   "metadata": {
    "slideshow": {
     "slide_type": "subslide"
    }
   },
   "source": [
    "Plots can also have legends. The command `plt.legend()` creates one. In Python there are two ways to populate them.\n",
    "\n",
    "1. Pass an argument `label` to the plot command\n",
    "2. Add a list of names directly to the `legend` command"
   ]
  },
  {
   "cell_type": "code",
   "execution_count": 15,
   "metadata": {
    "collapsed": false
   },
   "outputs": [
    {
     "data": {
      "text/plain": [
       "<matplotlib.legend.Legend at 0x1b69544cb38>"
      ]
     },
     "execution_count": 15,
     "metadata": {},
     "output_type": "execute_result"
    },
    {
     "data": {
      "image/png": "[encoded data removed]",
      "text/plain": [
       "<matplotlib.figure.Figure at 0x1b694a59898>"
      ]
     },
     "metadata": {},
     "output_type": "display_data"
    }
   ],
   "source": [
    "plt.plot([1,2,8,9], [1,2,4,3], \"-ro\", label=\"red line with circles\")\n",
    "plt.ylim([0,5])\n",
    "plt.xlabel(\"x values\")\n",
    "plt.ylabel(\"y values\")\n",
    "plt.title(\"A simple plot\")\n",
    "plt.legend()"
   ]
  },
  {
   "cell_type": "code",
   "execution_count": 31,
   "metadata": {
    "collapsed": false,
    "slideshow": {
     "slide_type": "subslide"
    }
   },
   "outputs": [
    {
     "data": {
      "text/plain": [
       "<matplotlib.legend.Legend at 0x1b696c28908>"
      ]
     },
     "execution_count": 31,
     "metadata": {},
     "output_type": "execute_result"
    },
    {
     "data": {
      "image/png": "[encoded data removed]",
      "text/plain": [
       "<matplotlib.figure.Figure at 0x1b696c288d0>"
      ]
     },
     "metadata": {},
     "output_type": "display_data"
    }
   ],
   "source": [
    "plt.plot([1,2,8,9], [1,2,4,3], \"-g^\")\n",
    "plt.ylim([0,5])\n",
    "plt.xlabel(\"x values\")\n",
    "plt.ylabel(\"y values\")\n",
    "plt.title(\"A simple plot\")\n",
    "plt.legend([\"green line with triangles\"]) #this command takes in a list of names"
   ]
  },
  {
   "cell_type": "markdown",
   "metadata": {
    "slideshow": {
     "slide_type": "subslide"
    }
   },
   "source": [
    "## Exercise\n",
    "\n",
    "Plot the data:\n",
    "\n",
    "| x | y  |\n",
    "|---|----|\n",
    "| 1 | 50 | \n",
    "| 2 | 60 |\n",
    "| 4 | 40 | \n",
    "| 6 | 30 |\n",
    "| 10| 40 |\n",
    "\n",
    "Color the data points with red triangles and connect them with dashed lines. Make the yaxis range from 20 to 80. Add a title and axis labels. "
   ]
  },
  {
   "cell_type": "markdown",
   "metadata": {
    "slideshow": {
     "slide_type": "subslide"
    }
   },
   "source": [
    "# Plotting Functions\n",
    "\n",
    "Say for example we wish to plot the function $y(t) = t^2e^{-t^2}$ for $0 \\leq t\\leq 3$. To do this we will generate a number of equally spaced coordinates in $t$. Then we can evaluate $y(t)$ at each of those points. To do this we will use the `linspace` command from the NumPy module."
   ]
  },
  {
   "cell_type": "code",
   "execution_count": 32,
   "metadata": {
    "collapsed": false
   },
   "outputs": [
    {
     "name": "stdout",
     "output_type": "stream",
     "text": [
      "[ 0.          0.15789474  0.31578947  0.47368421  0.63157895  0.78947368\n",
      "  0.94736842  1.10526316  1.26315789  1.42105263  1.57894737  1.73684211\n",
      "  1.89473684  2.05263158  2.21052632  2.36842105  2.52631579  2.68421053\n",
      "  2.84210526  3.        ]\n"
     ]
    }
   ],
   "source": [
    "import numpy as np # import the NumPy module\n",
    "\n",
    "N = 20\n",
    "\n",
    "# create N equally spaced points on the interval [0,3]\n",
    "t = np.linspace(0,3,N)\n",
    "print(t)"
   ]
  },
  {
   "cell_type": "markdown",
   "metadata": {
    "slideshow": {
     "slide_type": "subslide"
    }
   },
   "source": [
    "To evaluate the function $y(t)$ at all these points, we can plug this array into $y$."
   ]
  },
  {
   "cell_type": "code",
   "execution_count": 33,
   "metadata": {
    "collapsed": false
   },
   "outputs": [
    {
     "name": "stdout",
     "output_type": "stream",
     "text": [
      "[ 0.          0.02431689  0.09025809  0.17928016  0.26768172  0.33418978\n",
      "  0.36580994  0.36007615  0.32357053  0.2680465   0.20606616  0.14771311\n",
      "  0.09907603  0.06234629  0.03688445  0.02054842  0.01079419  0.00535239\n",
      "  0.00250749  0.00111069]\n"
     ]
    }
   ],
   "source": [
    "y = t**2*np.exp(-t**2)\n",
    "print(y)"
   ]
  },
  {
   "cell_type": "markdown",
   "metadata": {
    "slideshow": {
     "slide_type": "subslide"
    }
   },
   "source": [
    "To plot $y$ vs $t$ we simply call `plot`:"
   ]
  },
  {
   "cell_type": "code",
   "execution_count": 11,
   "metadata": {
    "collapsed": false,
    "scrolled": true
   },
   "outputs": [
    {
     "data": {
      "text/plain": [
       "<matplotlib.text.Text at 0x1b694da10b8>"
      ]
     },
     "execution_count": 11,
     "metadata": {},
     "output_type": "execute_result"
    },
    {
     "data": {
      "image/png": "[encoded data removed]",
      "text/plain": [
       "<matplotlib.figure.Figure at 0x1b694d6e2b0>"
      ]
     },
     "metadata": {},
     "output_type": "display_data"
    }
   ],
   "source": [
    "plt.plot(t,y)\n",
    "plt.xlabel(\"t\")\n",
    "plt.ylabel(\"y(t)\")"
   ]
  },
  {
   "cell_type": "markdown",
   "metadata": {
    "collapsed": true,
    "slideshow": {
     "slide_type": "subslide"
    }
   },
   "source": [
    "Alternatively, we don't have to create y at all."
   ]
  },
  {
   "cell_type": "code",
   "execution_count": 12,
   "metadata": {
    "collapsed": false
   },
   "outputs": [
    {
     "data": {
      "text/plain": [
       "<matplotlib.text.Text at 0x1b694de2ac8>"
      ]
     },
     "execution_count": 12,
     "metadata": {},
     "output_type": "execute_result"
    },
    {
     "data": {
      "image/png": "[encoded data removed]",
      "text/plain": [
       "<matplotlib.figure.Figure at 0x1b694debd68>"
      ]
     },
     "metadata": {},
     "output_type": "display_data"
    }
   ],
   "source": [
    "plt.plot(t, t**2*np.exp(-t**2))\n",
    "plt.xlabel(\"t\")\n",
    "plt.ylabel(\"y(t)\")"
   ]
  },
  {
   "cell_type": "markdown",
   "metadata": {
    "slideshow": {
     "slide_type": "subslide"
    }
   },
   "source": [
    "## Exercise\n",
    "\n",
    "Plot the function $y = \\sin(x)\\cos(x)$ on the interval $0\\leq x\\leq 2\\pi$."
   ]
  },
  {
   "cell_type": "markdown",
   "metadata": {
    "slideshow": {
     "slide_type": "slide"
    }
   },
   "source": [
    "# Multiple Plots on the Same Figure\n",
    "\n",
    "Often we'll want multiple plots on the same figure. This can be done simply by calling successive plot commands."
   ]
  },
  {
   "cell_type": "code",
   "execution_count": 15,
   "metadata": {
    "collapsed": false
   },
   "outputs": [
    {
     "data": {
      "text/plain": [
       "<matplotlib.legend.Legend at 0x1da4d12b240>"
      ]
     },
     "execution_count": 15,
     "metadata": {},
     "output_type": "execute_result"
    },
    {
     "data": {
      "image/png": "[encoded data removed]",
      "text/plain": [
       "<matplotlib.figure.Figure at 0x1da4cfc5780>"
      ]
     },
     "metadata": {},
     "output_type": "display_data"
    }
   ],
   "source": [
    "plt.plot(t, t**2*np.exp(-t**2), 'm-')\n",
    "plt.plot([1,2,8,9], [0.1,0.2,0.4,0.3], \"g^--\")\n",
    "plt.xlabel(\"t\")\n",
    "plt.ylabel(\"y(t)\")\n",
    "plt.legend([\"function\",\"points\"])"
   ]
  },
  {
   "cell_type": "markdown",
   "metadata": {
    "slideshow": {
     "slide_type": "subslide"
    }
   },
   "source": [
    "## Exercise\n",
    "\n",
    "Plot the functions $y=\\sin(x)$ and $y=\\cos(x)$ on the same plot on the interval $0\\leq x\\leq 2\\pi$. Add a legend that indicates which is which. "
   ]
  },
  {
   "cell_type": "markdown",
   "metadata": {
    "collapsed": true,
    "slideshow": {
     "slide_type": "slide"
    }
   },
   "source": [
    "# Subplots\n",
    "\n",
    "Sometimes we wish to have multiple plots in a single figure. The `subplot` command lets us create a figure with $r$ rows and $c$ columns of plots.\n",
    "\n",
    "Calling `plt.subplot(r,c,p)` creates a figure (if it doesn't already exist) containing a tiling of $r$ rows of plots and $c$ columns. Any plotting commands you call will be placed in entry $p$. The plots are numbered from 1 to $r\\times c$, starting in the top left and proceeding left to right and then top to bottom.\n",
    "\n",
    "To switch to another plot, simply call `plt.subplot` again with the new position. "
   ]
  },
  {
   "cell_type": "code",
   "execution_count": 24,
   "metadata": {
    "collapsed": false,
    "slideshow": {
     "slide_type": "subslide"
    }
   },
   "outputs": [
    {
     "data": {
      "image/png": "[encoded data removed]",
      "text/plain": [
       "<matplotlib.figure.Figure at 0x1b6956065f8>"
      ]
     },
     "metadata": {},
     "output_type": "display_data"
    }
   ],
   "source": [
    "plt.subplot(2,1,1)\n",
    "plt.plot(t, t**2*np.exp(-t**2))\n",
    "plt.title(\"Top plot\")\n",
    "plt.xlabel(\"t\")\n",
    "plt.ylabel(\"y(t)\")\n",
    "\n",
    "plt.subplot(2,1,2)\n",
    "plt.plot([1,2,8,9], [1,2,4,3], \"-ro\")\n",
    "plt.axis([0, 10, 0, 5])\n",
    "plt.xlabel(\"x values\")\n",
    "plt.ylabel(\"y values\")\n",
    "plt.title(\"Bottom plot\")\n",
    "\n",
    "# should add this to get correct spacing between subplots\n",
    "plt.tight_layout()"
   ]
  },
  {
   "cell_type": "markdown",
   "metadata": {
    "slideshow": {
     "slide_type": "subslide"
    }
   },
   "source": [
    "## Exercise\n",
    "\n",
    "Create a 2x2 suplot with the following plots:\n",
    "\n",
    "1. $y=\\sin(x)$ for $0\\leq x\\leq 2\\pi$\n",
    "2. $y=\\cos(x)$ for $0\\leq x\\leq 2\\pi$\n",
    "3. $y=\\tan(x)$ for $0\\leq x\\leq 2\\pi$\n",
    "4. $y=\\sin(x)+\\cos(x)+\\tan(x)$ for $0\\leq x\\leq 2\\pi$\n",
    "\n",
    "Add titles and axis labels to all plots. Set the y-axis to range between -1.2 and 1.2 on all plots."
   ]
  },
  {
   "cell_type": "code",
   "execution_count": 29,
   "metadata": {
    "collapsed": false
   },
   "outputs": [],
   "source": [
    "# create x values\n",
    "x= np.linspace(0,2*np.pi,100)\n",
    "\n",
    "# plot sin(x)\n",
    "plt.subplot(2,2,1)\n",
    "\n",
    "# plot cos(x)\n",
    "plt.subplot(2,2,2)\n",
    "\n",
    "# plot tan(x)\n",
    "plt.subplot(2,2,3)\n",
    "\n",
    "# plot sin(x) + cos(x) + tan(x)\n",
    "plt.subplot(2,2,4)\n",
    "\n",
    "plt.tight_layout()"
   ]
  },
  {
   "cell_type": "markdown",
   "metadata": {
    "slideshow": {
     "slide_type": "slide"
    }
   },
   "source": [
    "# Saving Plots\n",
    "\n",
    "To save a figure as an image, we can use the command `savefig`. Python can tell what type of image you want (png, jpg, eps, gif) based on the file extension."
   ]
  },
  {
   "cell_type": "code",
   "execution_count": 16,
   "metadata": {
    "collapsed": false
   },
   "outputs": [
    {
     "data": {
      "text/plain": [
       "<matplotlib.figure.Figure at 0x1da4ce45630>"
      ]
     },
     "metadata": {},
     "output_type": "display_data"
    }
   ],
   "source": [
    "plt.savefig(\"first_plot.png\")"
   ]
  },
  {
   "cell_type": "markdown",
   "metadata": {
    "slideshow": {
     "slide_type": "subslide"
    }
   },
   "source": [
    "## Exercise\n",
    "\n",
    "Create a plot of your choice and save it as a jpg. Find it on your computer and open and inspect it."
   ]
  }
 ],
 "metadata": {
  "anaconda-cloud": {},
  "celltoolbar": "Slideshow",
  "kernelspec": {
   "display_name": "Python [Root]",
   "language": "python",
   "name": "Python [Root]"
  },
  "language_info": {
   "codemirror_mode": {
    "name": "ipython",
    "version": 3
   },
   "file_extension": ".py",
   "mimetype": "text/x-python",
   "name": "python",
   "nbconvert_exporter": "python",
   "pygments_lexer": "ipython3",
   "version": "3.5.2"
  }
 },
 "nbformat": 4,
 "nbformat_minor": 0
}
