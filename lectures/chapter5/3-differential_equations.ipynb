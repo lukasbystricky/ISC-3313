{
 "cells": [
  {
   "cell_type": "markdown",
   "metadata": {
    "slideshow": {
     "slide_type": "slide"
    }
   },
   "source": [
    "<p style=\"text-align: center;\"><font size=\"8\"><b>Ordinary Differential Equations</b></font><br>"
   ]
  },
  {
   "cell_type": "markdown",
   "metadata": {
    "slideshow": {
     "slide_type": "slide"
    }
   },
   "source": [
    "Differential equations are an invaluable way to model a wide range of scientific and engineering problems. \n",
    "\n",
    "They can describe everything from predator-prey relationships to how heat travels throughout a room to how fast a rocket moves as it burns fuel."
   ]
  },
  {
   "cell_type": "markdown",
   "metadata": {
    "collapsed": true,
    "slideshow": {
     "slide_type": "subslide"
    }
   },
   "source": [
    "![lorenz equations](code/lorenz.gif)"
   ]
  },
  {
   "cell_type": "markdown",
   "metadata": {
    "slideshow": {
     "slide_type": "slide"
    }
   },
   "source": [
    "Before we look at specific applications, we should state exactly what a differential equation is. \n",
    "\n",
    "A differential equation is an equation for an unknown function $y$ that contains dervivatives of $y$. We will limit ourselves to *ordinary differential equations* (ODEs) where $y$ is a function of one variable. \n"
   ]
  },
  {
   "cell_type": "markdown",
   "metadata": {
    "slideshow": {
     "slide_type": "subslide"
    }
   },
   "source": [
    "For example, an ODE we might be interested in is:\n",
    "\n",
    "\\begin{align*}\n",
    "    y'(t) &= t^2 y,\\\\\n",
    "    y(0) &= 1.\n",
    "  \\end{align*}\n",
    "  \n",
    "The function $y$ (and its derivative $y'(t)$) are unknown, however we know how they are related. The second equation $y(0)=1$ is called the *initial condition*. We will be interested in the behavior of $y$ as a function of $t$ from $t=0$ to $t=T$. $T$ is called the *time horizon*. Every ODE must come with an initial condition (or boundary conditions) in order to have a unique solution."
   ]
  },
  {
   "cell_type": "markdown",
   "metadata": {
    "slideshow": {
     "slide_type": "subslide"
    }
   },
   "source": [
    "To understand why, it may be helpful to look at an analytic solution of this ODE. We can write the ODE in the form:\n",
    "$$ \\frac{\\text{d}y}{\\text{d}t} = t^2 y.$$\n",
    "\n",
    "Lets move all the terms involving $y$ to the left hand side and all the terms invovling $t$ to the right hand side.\n",
    "\n",
    "$$ \\frac{\\text{d}y}{y} = t^2\\text{d}t.$$"
   ]
  },
  {
   "cell_type": "markdown",
   "metadata": {
    "slideshow": {
     "slide_type": "subslide"
    }
   },
   "source": [
    "This technique is called *separation of variables* and is the simplest technique to attempt to solve an ODE. At this point we can integrate both sides:\n",
    "\n",
    "\\begin{align*}\n",
    "    \\int \\frac{\\text{d}y}{y} &= \\int t^2 \\text{d}t,\\\\\n",
    "    \\Rightarrow\\ln |y| &= \\frac{t^3}{3} + C.\n",
    "\\end{align*}\n",
    "\n",
    "Where $C$ is an arbitrary constant coming from doing the indefinite integrals. Using the properties of logarithms we can solve for $y(t)$. \n",
    "\n",
    "$$ y(t) = Ce^{t^3/3}.$$"
   ]
  },
  {
   "cell_type": "markdown",
   "metadata": {
    "slideshow": {
     "slide_type": "subslide"
    }
   },
   "source": [
    "At this point we're almost done, however we still have an arbitrary constant as part of our solution. Here we where we make use of the initial condition to solve for $C$.\n",
    "\n",
    "$$ y(0) = 1 \\Rightarrow y(0) = 1 = Ce^{0} \\Rightarrow C = 1.$$\n",
    "\n",
    "Thus our solution to the ODE is\n",
    "$$ y(t) = e^{t^3/3}.$$"
   ]
  },
  {
   "cell_type": "markdown",
   "metadata": {
    "slideshow": {
     "slide_type": "subslide"
    }
   },
   "source": [
    "In this class you will not be expected to solve ODEs analytically. In general solving ODEs in this manner is tedious, if not impossible. For example consider the ODE:\n",
    "\n",
    "\\begin{align*}\n",
    "    y'(t) &= \\sin(t)t^2e^{t^2},\\\\\n",
    "    y(0) &=1.\n",
    "\\end{align*}\n",
    "\n",
    "This ODE does not have an analytic solution. Thus we must turn to computers to find an approximate solution."
   ]
  },
  {
   "cell_type": "markdown",
   "metadata": {
    "slideshow": {
     "slide_type": "subslide"
    }
   },
   "source": [
    "The general ODE takes the form:\n",
    "$$\\begin{align*}\n",
    "    y'(t) &= f(y,t),\\\\\n",
    "    y(0) &=a.\n",
    "\\end{align*}$$\n",
    "\n",
    "There are many ways to approximate solutions to ODEs on a computer. We will look at the simplest and oldest method."
   ]
  },
  {
   "cell_type": "markdown",
   "metadata": {
    "slideshow": {
     "slide_type": "subslide"
    }
   },
   "source": [
    "# Forward Euler\n",
    "\n",
    "The *forward Euler method* simply replaces the derivative by a forward finite difference scheme.\n",
    "\n",
    "Mathematically this looks like:\n",
    "$$ \\frac{y(t + \\Delta t) - y(t)}{\\Delta t} = f(y(t),t).$$"
   ]
  },
  {
   "cell_type": "markdown",
   "metadata": {
    "slideshow": {
     "slide_type": "subslide"
    }
   },
   "source": [
    "We begin by splitting our time interval $[0,T]$ into $N$ equal intervals of length $\\Delta t$ to get a series of time steps $t_0, t_1, \\dots, t_N$. We call $\\Delta t$ the time step size."
   ]
  },
  {
   "cell_type": "markdown",
   "metadata": {
    "slideshow": {
     "slide_type": "subslide"
    }
   },
   "source": [
    "Starting from the initial condition $Y_0 = y(0)$, we construct a sequence $Y_1, Y_2, \\dots$ such that:\n",
    "\n",
    "$$ Y_{k+1} = Y_k + \\Delta t f(Y_k, k\\Delta t).$$\n",
    "\n",
    "Note that $Y_k \\approx y(k\\Delta t)$. We have essentially turned our ODE into a reccurence relation."
   ]
  },
  {
   "cell_type": "markdown",
   "metadata": {
    "collapsed": true,
    "slideshow": {
     "slide_type": "subslide"
    }
   },
   "source": [
    "For example, let's look at the ODE:\n",
    "$$\\begin{align*}\n",
    "    y'(t) &= y\\sin(t)t^2 e^{-t^2}\\\\\n",
    "    y(0) &= 1\n",
    "\\end{align*}$$\n",
    "\n",
    "So we have $Y_0 = y(0) = 1$. We can construct $Y_1$:\n",
    "$$ Y_1 = Y_0 + \\Delta t Y_0\\sin(t_0)t_0^2 e^{-t_0^2}.$$\n",
    "\n",
    "From $Y_1$ we can construct $Y_2$ and so on..."
   ]
  },
  {
   "cell_type": "markdown",
   "metadata": {
    "collapsed": true,
    "slideshow": {
     "slide_type": "subslide"
    }
   },
   "source": [
    "An implementation would look like this:"
   ]
  },
  {
   "cell_type": "code",
   "execution_count": 7,
   "metadata": {
    "collapsed": false
   },
   "outputs": [],
   "source": [
    "import numpy as np\n",
    "\n",
    "# define time horizon and number of intervals\n",
    "T = 10\n",
    "N = 100\n",
    "dt = T/N\n",
    "\n",
    "t = np.linspace(0,T,N+1)\n",
    "y0 = 1\n",
    "\n",
    "# construct a list to contain y values at each time step, append initial condition\n",
    "y = []\n",
    "y.append(y0)\n",
    "\n",
    "for i in range(1,N+1):\n",
    "    y.append(y[i-1] + dt*(y[i-1]*np.sin(t[i-1])*t[i-1]**2*np.exp(-t[i-1]**2)))\n"
   ]
  },
  {
   "cell_type": "markdown",
   "metadata": {
    "slideshow": {
     "slide_type": "subslide"
    }
   },
   "source": [
    "We can plot $y(t)$."
   ]
  },
  {
   "cell_type": "code",
   "execution_count": 5,
   "metadata": {
    "collapsed": false
   },
   "outputs": [
    {
     "data": {
      "text/plain": [
       "<matplotlib.text.Text at 0x24daa617550>"
      ]
     },
     "execution_count": 5,
     "metadata": {},
     "output_type": "execute_result"
    },
    {
     "data": {
      "image/png": "[encoded data removed]",
      "text/plain": [
       "<matplotlib.figure.Figure at 0x24da886c668>"
      ]
     },
     "metadata": {},
     "output_type": "display_data"
    }
   ],
   "source": [
    "import matplotlib.pyplot as plt\n",
    "%matplotlib inline\n",
    "\n",
    "plt.plot(t,y)\n",
    "plt.xlabel(\"t\")\n",
    "plt.ylabel(\"y(t)\")"
   ]
  },
  {
   "cell_type": "markdown",
   "metadata": {
    "slideshow": {
     "slide_type": "subslide"
    }
   },
   "source": [
    "## Exercise\n",
    "\n",
    "Use forward Euler to evaluate the ODE:\n",
    "$$\\begin{align*}\n",
    "    y'(t) &= \\cos(y t)\\\\\n",
    "    y(0) &= 0\n",
    "\\end{align*}$$\n",
    "\n",
    "for $t$ between 0 and 5. Use $\\Delta t=0.1$."
   ]
  },
  {
   "cell_type": "markdown",
   "metadata": {
    "slideshow": {
     "slide_type": "slide"
    }
   },
   "source": [
    "# Systems of ODEs\n",
    "\n",
    "Consider the system of ODEs:\n",
    "$$\\begin{align*}\n",
    "    x'(t) &= \\frac{2}{3}x - \\frac{4}{3}xy\\\\\n",
    "    y'(t) &= xy - y\\\\\n",
    "    x(0) &= a, \\qquad y(0) = b\n",
    "\\end{align*}$$\n",
    "\n",
    "This is called the *Lotka-Volerra equations*. They are used to model predator-prey relations. We call $x$ the number of prey (e.g. rabbits) and $y$ the number or predators (e.g. foxes)."
   ]
  },
  {
   "cell_type": "markdown",
   "metadata": {
    "slideshow": {
     "slide_type": "subslide"
    }
   },
   "source": [
    "Applying forward Euler to a system of equations is no different than applying it to a single equation. We just now have two lists we have to keep track of: one for x and another for y."
   ]
  },
  {
   "cell_type": "code",
   "execution_count": 21,
   "metadata": {
    "collapsed": false,
    "slideshow": {
     "slide_type": "subslide"
    }
   },
   "outputs": [],
   "source": [
    "# define time horizon and number of intervals\n",
    "T = 50\n",
    "N = 50000\n",
    "dt = T/N\n",
    "\n",
    "t = np.linspace(0,T,N+1)\n",
    "x0 = 1\n",
    "y0 = 1\n",
    "\n",
    "# constructs a list to contain x and y values at each time step, append initial condition\n",
    "x = []\n",
    "y = []\n",
    "x.append(x0)\n",
    "y.append(y0)\n",
    "\n",
    "for i in range(1,N+1):\n",
    "    x.append(x[i-1] + dt*(2/3*x[i-1] - 4/3*x[i-1]*y[i-1]))\n",
    "    y.append(y[i-1] + dt*(x[i-1]*y[i-1] - y[i-1]))\n",
    "    \n"
   ]
  },
  {
   "cell_type": "code",
   "execution_count": 24,
   "metadata": {
    "collapsed": false,
    "slideshow": {
     "slide_type": "subslide"
    }
   },
   "outputs": [
    {
     "data": {
      "text/plain": [
       "<matplotlib.legend.Legend at 0x24dad210fd0>"
      ]
     },
     "execution_count": 24,
     "metadata": {},
     "output_type": "execute_result"
    },
    {
     "data": {
      "image/png": "[encoded data removed]",
      "text/plain": [
       "<matplotlib.figure.Figure at 0x24dac1ff908>"
      ]
     },
     "metadata": {},
     "output_type": "display_data"
    }
   ],
   "source": [
    "plt.plot(t,x)\n",
    "plt.plot(t,y)\n",
    "plt.xlabel(\"time\")\n",
    "plt.legend([\"prey\",\"predators\"])"
   ]
  },
  {
   "cell_type": "markdown",
   "metadata": {
    "slideshow": {
     "slide_type": "subslide"
    }
   },
   "source": [
    "*Phase plots* plot the variables in the system against each other. "
   ]
  },
  {
   "cell_type": "code",
   "execution_count": 23,
   "metadata": {
    "collapsed": false,
    "slideshow": {
     "slide_type": "-"
    }
   },
   "outputs": [
    {
     "data": {
      "text/plain": [
       "<matplotlib.text.Text at 0x24dac19d198>"
      ]
     },
     "execution_count": 23,
     "metadata": {},
     "output_type": "execute_result"
    },
    {
     "data": {
      "image/png": "[encoded data removed]",
      "text/plain": [
       "<matplotlib.figure.Figure at 0x24dac1517b8>"
      ]
     },
     "metadata": {},
     "output_type": "display_data"
    }
   ],
   "source": [
    "plt.plot(x,y)\n",
    "plt.xlabel(\"prey\")\n",
    "plt.ylabel(\"predators\")"
   ]
  },
  {
   "cell_type": "markdown",
   "metadata": {
    "slideshow": {
     "slide_type": "subslide"
    }
   },
   "source": [
    "## Exercise\n",
    "\n",
    "Use forward Euler to evaulate the following system of ODEs:\n",
    "$$\\begin{align*}\n",
    "    x'(t) &= x(1.5 - x - 0.5y)\\\\\n",
    "    y'(t) &= y(2 - y -0.75x)\\\\\n",
    "    x(0) &= 1,\\qquad y(0)=1\n",
    "\\end{align*}$$\n",
    "for $t$ between 0 and 30, and $\\Delta t=0.01$."
   ]
  },
  {
   "cell_type": "markdown",
   "metadata": {
    "slideshow": {
     "slide_type": "slide"
    }
   },
   "source": [
    "# Forward Euler as a function\n",
    "\n",
    "We would like to code up forward Euler as a function. Ideally this function would be able to evaluate any ODE. It would need to take in as parameters:\n",
    "* $f(y,t)$\n",
    "* $y_0$\n",
    "* $T$\n",
    "* $\\Delta t$ or $N$"
   ]
  },
  {
   "cell_type": "code",
   "execution_count": 35,
   "metadata": {
    "collapsed": true,
    "slideshow": {
     "slide_type": "subslide"
    }
   },
   "outputs": [],
   "source": [
    "def forward_euler_step(f, y, t, dt):\n",
    "\n",
    "    return y + dt*f(y,t)\n"
   ]
  },
  {
   "cell_type": "code",
   "execution_count": 44,
   "metadata": {
    "collapsed": true,
    "slideshow": {
     "slide_type": "subslide"
    }
   },
   "outputs": [],
   "source": [
    "def forward_euler(f, y0, T, N):\n",
    "    \n",
    "    # split time into intervals\n",
    "    t = np.linspace(0,T,N+1)\n",
    "    dt = T/N\n",
    "    \n",
    "    y = []\n",
    "    y.append(y0)\n",
    "    \n",
    "    for i in range(1,N+1):\n",
    "\n",
    "        y.append(forward_euler_step(f, y[i-1], t[i-1], dt))\n",
    "        \n",
    "    return (t,y)"
   ]
  },
  {
   "cell_type": "code",
   "execution_count": 45,
   "metadata": {
    "collapsed": false,
    "slideshow": {
     "slide_type": "subslide"
    }
   },
   "outputs": [
    {
     "data": {
      "text/plain": [
       "[<matplotlib.lines.Line2D at 0x24dad443ac8>]"
      ]
     },
     "execution_count": 45,
     "metadata": {},
     "output_type": "execute_result"
    },
    {
     "data": {
      "image/png": "[encoded data removed]",
      "text/plain": [
       "<matplotlib.figure.Figure at 0x24dad2d2a90>"
      ]
     },
     "metadata": {},
     "output_type": "display_data"
    }
   ],
   "source": [
    "f = lambda y,t : y*np.sin(t)*t**2*np.exp(-t**2)\n",
    "y0 = 1\n",
    "T = 10\n",
    "N = 100\n",
    "\n",
    "(t,y) = forward_euler(f, y0, T, N)\n",
    "\n",
    "plt.plot(t,y)"
   ]
  },
  {
   "cell_type": "code",
   "execution_count": 52,
   "metadata": {
    "collapsed": false,
    "slideshow": {
     "slide_type": "subslide"
    }
   },
   "outputs": [],
   "source": [
    "f = lambda y,t : np.array([2/3*y[0] - 4/3*y[0]*y[1], y[0]*y[1] - y[1]])\n",
    "y0 = np.array([1,1])\n",
    "T = 50\n",
    "N = 50000\n",
    "\n",
    "(t,y) = forward_euler(f, y0, T, N)"
   ]
  },
  {
   "cell_type": "code",
   "execution_count": 53,
   "metadata": {
    "collapsed": false
   },
   "outputs": [
    {
     "data": {
      "text/plain": [
       "<matplotlib.legend.Legend at 0x24dad6328d0>"
      ]
     },
     "execution_count": 53,
     "metadata": {},
     "output_type": "execute_result"
    },
    {
     "data": {
      "image/png": "[encoded data removed]",
      "text/plain": [
       "<matplotlib.figure.Figure at 0x24dad4e2be0>"
      ]
     },
     "metadata": {},
     "output_type": "display_data"
    }
   ],
   "source": [
    "y = np.asarray(y)\n",
    "plt.plot(t,y[:,0])\n",
    "plt.plot(t,y[:,1])\n",
    "plt.legend([\"prey\", \"predators\"])"
   ]
  },
  {
   "cell_type": "code",
   "execution_count": null,
   "metadata": {
    "collapsed": true
   },
   "outputs": [],
   "source": []
  }
 ],
 "metadata": {
  "anaconda-cloud": {},
  "celltoolbar": "Slideshow",
  "kernelspec": {
   "display_name": "Python [Root]",
   "language": "python",
   "name": "Python [Root]"
  },
  "language_info": {
   "codemirror_mode": {
    "name": "ipython",
    "version": 3
   },
   "file_extension": ".py",
   "mimetype": "text/x-python",
   "name": "python",
   "nbconvert_exporter": "python",
   "pygments_lexer": "ipython3",
   "version": "3.5.2"
  }
 },
 "nbformat": 4,
 "nbformat_minor": 0
}
