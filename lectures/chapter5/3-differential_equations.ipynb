{
 "cells": [
  {
   "cell_type": "markdown",
   "metadata": {
    "slideshow": {
     "slide_type": "slide"
    }
   },
   "source": [
    "<p style=\"text-align: center;\"><font size=\"8\"><b>Ordinary Differential Equations</b></font><br>"
   ]
  },
  {
   "cell_type": "markdown",
   "metadata": {
    "slideshow": {
     "slide_type": "slide"
    }
   },
   "source": [
    "Differential equations are an invaluable way to model a wide range of scientific and engineering problems. \n",
    "\n",
    "They can describe everything from predator-prey relationships to how heat travels throughout a room to how fast a rocket moves as it burns fuel."
   ]
  },
  {
   "cell_type": "markdown",
   "metadata": {
    "collapsed": true,
    "slideshow": {
     "slide_type": "subslide"
    }
   },
   "source": [
    "![lorenz equations](code/lorenz.gif)"
   ]
  },
  {
   "cell_type": "markdown",
   "metadata": {
    "slideshow": {
     "slide_type": "slide"
    }
   },
   "source": [
    "Before we look at specific applications, we should state exactly what a differential equation is. \n",
    "\n",
    "A differential equation is an equation for an unknown function $y$ that contains dervivatives of $y$. We will limit ourselves to *ordinary differential equations* (ODEs) where $y$ is a function of one variable. Specifcally we will look at *initial value problems*. In this case we will be given an initial state of a variable and we will be interested in how it evolves in time.\n"
   ]
  },
  {
   "cell_type": "markdown",
   "metadata": {
    "slideshow": {
     "slide_type": "subslide"
    }
   },
   "source": [
    "For example, an ODE we might be interested in is:\n",
    "\n",
    "\\begin{align*}\n",
    "    y'(t) &= t^2 y,\\\\\n",
    "    y(0) &= 1.\n",
    "  \\end{align*}\n",
    "  \n",
    "The function $y$ (and its derivative $y'(t)$) are unknown, however we know how they are related. The second equation $y(0)=1$ is called the *initial condition*. We will be interested in the behavior of $y$ as a function of $t$ from $t=0$ to $t=T$. $T$ is called the *time horizon*. Every ODE must come with an initial condition (or boundary conditions) in order to have a unique solution."
   ]
  },
  {
   "cell_type": "markdown",
   "metadata": {
    "slideshow": {
     "slide_type": "subslide"
    }
   },
   "source": [
    "To understand why, it may be helpful to look at an analytic solution of this ODE. We can write the ODE in the form:\n",
    "$$ \\frac{\\text{d}y}{\\text{d}t} = t^2 y.$$\n",
    "\n",
    "Lets move all the terms involving $y$ to the left hand side and all the terms invovling $t$ to the right hand side.\n",
    "\n",
    "$$ \\frac{\\text{d}y}{y} = t^2\\text{d}t.$$"
   ]
  },
  {
   "cell_type": "markdown",
   "metadata": {
    "slideshow": {
     "slide_type": "subslide"
    }
   },
   "source": [
    "This technique is called *separation of variables* and is the simplest technique to attempt to solve an ODE. At this point we can integrate both sides:\n",
    "\n",
    "\\begin{align*}\n",
    "    \\int \\frac{\\text{d}y}{y} &= \\int t^2 \\text{d}t,\\\\\n",
    "    \\Rightarrow\\ln |y| &= \\frac{t^3}{3} + C.\n",
    "\\end{align*}\n",
    "\n",
    "Where $C$ is an arbitrary constant coming from doing the indefinite integrals. Using the properties of logarithms we can solve for $y(t)$. \n",
    "\n",
    "$$ y(t) = Ce^{t^3/3}.$$"
   ]
  },
  {
   "cell_type": "markdown",
   "metadata": {
    "slideshow": {
     "slide_type": "subslide"
    }
   },
   "source": [
    "At this point we're almost done, however we still have an arbitrary constant as part of our solution. Here we where we make use of the initial condition to solve for $C$.\n",
    "\n",
    "$$ y(0) = 1 \\Rightarrow y(0) = 1 = Ce^{0} \\Rightarrow C = 1.$$\n",
    "\n",
    "Thus our solution to the ODE is\n",
    "$$ y(t) = e^{t^3/3}.$$"
   ]
  },
  {
   "cell_type": "markdown",
   "metadata": {
    "slideshow": {
     "slide_type": "subslide"
    }
   },
   "source": [
    "In this class you will not be expected to solve ODEs analytically. In general solving ODEs in this manner is tedious, if not impossible. For example consider the ODE:\n",
    "\n",
    "\\begin{align*}\n",
    "    y'(t) &= \\sin(t)t^2e^{t^2},\\\\\n",
    "    y(0) &=1.\n",
    "\\end{align*}\n",
    "\n",
    "This ODE does not have an analytic solution. Thus we must turn to computers to find an approximate solution."
   ]
  },
  {
   "cell_type": "markdown",
   "metadata": {
    "slideshow": {
     "slide_type": "subslide"
    }
   },
   "source": [
    "The general ODE takes the form:\n",
    "$$\\begin{align*}\n",
    "    y'(t) &= f(y,t),\\\\\n",
    "    y(0) &=a.\n",
    "\\end{align*}$$\n",
    "\n",
    "There are many ways to approximate solutions to ODEs on a computer. We will look at the simplest and oldest method."
   ]
  },
  {
   "cell_type": "markdown",
   "metadata": {
    "slideshow": {
     "slide_type": "subslide"
    }
   },
   "source": [
    "# Forward Euler\n",
    "\n",
    "The *forward Euler method* simply replaces the derivative by a forward finite difference scheme.\n",
    "\n",
    "Mathematically this looks like:\n",
    "$$ \\frac{y(t + \\Delta t) - y(t)}{\\Delta t} = f(y(t),t).$$"
   ]
  },
  {
   "cell_type": "markdown",
   "metadata": {
    "slideshow": {
     "slide_type": "subslide"
    }
   },
   "source": [
    "We begin by splitting our time interval $[0,T]$ into $N$ equal intervals of length $\\Delta t$ to get a series of time steps $t_0, t_1, \\dots, t_N$. We call $\\Delta t$ the time step size."
   ]
  },
  {
   "cell_type": "markdown",
   "metadata": {
    "slideshow": {
     "slide_type": "subslide"
    }
   },
   "source": [
    "Starting from the initial condition $Y_0 = y(0)$, we construct a sequence $Y_1, Y_2, \\dots$ such that:\n",
    "\n",
    "$$ Y_{k+1} = Y_k + \\Delta t f(Y_k, k\\Delta t).$$\n",
    "\n",
    "Note that $Y_k \\approx y(k\\Delta t)$. We have essentially turned our ODE into a reccurence relation."
   ]
  },
  {
   "cell_type": "markdown",
   "metadata": {
    "collapsed": true,
    "slideshow": {
     "slide_type": "subslide"
    }
   },
   "source": [
    "For example, let's look at the ODE:\n",
    "$$\\begin{align*}\n",
    "    y'(t) &= y\\sin(t)t^2 e^{-t^2}\\\\\n",
    "    y(0) &= 1\n",
    "\\end{align*}$$\n",
    "\n",
    "So we have $Y_0 = y(0) = 1$. We can construct $Y_1$:\n",
    "$$ Y_1 = Y_0 + \\Delta t Y_0\\sin(t_0)t_0^2 e^{-t_0^2}.$$\n",
    "\n",
    "From $Y_1$ we can construct $Y_2$ and so on..."
   ]
  },
  {
   "cell_type": "markdown",
   "metadata": {
    "collapsed": true,
    "slideshow": {
     "slide_type": "subslide"
    }
   },
   "source": [
    "An implementation would look like this:"
   ]
  },
  {
   "cell_type": "code",
   "execution_count": 7,
   "metadata": {
    "collapsed": false
   },
   "outputs": [],
   "source": [
    "import numpy as np\n",
    "\n",
    "# define time horizon and number of intervals\n",
    "T = 10\n",
    "N = 100\n",
    "dt = T/N\n",
    "\n",
    "t = np.linspace(0,T,N+1)\n",
    "y0 = 1\n",
    "\n",
    "# construct a list to contain y values at each time step, append initial condition\n",
    "y = []\n",
    "y.append(y0)\n",
    "\n",
    "for i in range(1,N+1):\n",
    "    y.append(y[i-1] + dt*(y[i-1]*np.sin(t[i-1])*t[i-1]**2*np.exp(-t[i-1]**2)))\n"
   ]
  },
  {
   "cell_type": "markdown",
   "metadata": {
    "slideshow": {
     "slide_type": "subslide"
    }
   },
   "source": [
    "We can plot $y(t)$."
   ]
  },
  {
   "cell_type": "code",
   "execution_count": 5,
   "metadata": {
    "collapsed": false
   },
   "outputs": [
    {
     "data": {
      "text/plain": [
       "<matplotlib.text.Text at 0x24daa617550>"
      ]
     },
     "execution_count": 5,
     "metadata": {},
     "output_type": "execute_result"
    },
    {
     "data": {
      "image/png": "[encoded data removed]",
      "text/plain": [
       "<matplotlib.figure.Figure at 0x24da886c668>"
      ]
     },
     "metadata": {},
     "output_type": "display_data"
    }
   ],
   "source": [
    "import matplotlib.pyplot as plt\n",
    "%matplotlib inline\n",
    "\n",
    "plt.plot(t,y)\n",
    "plt.xlabel(\"t\")\n",
    "plt.ylabel(\"y(t)\")"
   ]
  },
  {
   "cell_type": "markdown",
   "metadata": {
    "slideshow": {
     "slide_type": "subslide"
    }
   },
   "source": [
    "## Exercise\n",
    "\n",
    "Use forward Euler to evaluate the ODE:\n",
    "$$\\begin{align*}\n",
    "    y'(t) &= \\cos(y t)\\\\\n",
    "    y(0) &= 0\n",
    "\\end{align*}$$\n",
    "\n",
    "for $t$ between 0 and 5. Use $\\Delta t=0.1$."
   ]
  },
  {
   "cell_type": "markdown",
   "metadata": {
    "slideshow": {
     "slide_type": "slide"
    }
   },
   "source": [
    "# Systems of ODEs\n",
    "\n",
    "Consider the system of ODEs:\n",
    "$$\\begin{align*}\n",
    "    x'(t) &= \\frac{2}{3}x - \\frac{4}{3}xy\\\\\n",
    "    y'(t) &= xy - y\\\\\n",
    "    x(0) &= a, \\qquad y(0) = b\n",
    "\\end{align*}$$\n",
    "\n",
    "This is called the *Lotka-Volerra equations*. They are used to model predator-prey relations. We call $x$ the number of prey (e.g. rabbits) and $y$ the number or predators (e.g. foxes)."
   ]
  },
  {
   "cell_type": "markdown",
   "metadata": {
    "slideshow": {
     "slide_type": "subslide"
    }
   },
   "source": [
    "Applying forward Euler to a system of equations is no different than applying it to a single equation. We just now have two lists we have to keep track of: one for x and another for y."
   ]
  },
  {
   "cell_type": "code",
   "execution_count": 63,
   "metadata": {
    "collapsed": false,
    "slideshow": {
     "slide_type": "subslide"
    }
   },
   "outputs": [],
   "source": [
    "# define time horizon and number of intervals\n",
    "T = 50\n",
    "N = 50000\n",
    "dt = T/N\n",
    "\n",
    "t = np.linspace(0,T,N+1)\n",
    "x0 = 1\n",
    "y0 = 1\n",
    "\n",
    "# constructs a list to contain x and y values at each time step, append initial condition\n",
    "x = []\n",
    "y = []\n",
    "x.append(x0)\n",
    "y.append(y0)\n",
    "\n",
    "for i in range(1,N+1):\n",
    "    x.append(x[i-1] + dt*(2/3*x[i-1] - 4/3*x[i-1]*y[i-1]))\n",
    "    y.append(y[i-1] + dt*(x[i-1]*y[i-1] - y[i-1]))\n",
    "    \n"
   ]
  },
  {
   "cell_type": "code",
   "execution_count": 64,
   "metadata": {
    "collapsed": false,
    "slideshow": {
     "slide_type": "subslide"
    }
   },
   "outputs": [
    {
     "data": {
      "text/plain": [
       "<matplotlib.legend.Legend at 0x24dad6ad780>"
      ]
     },
     "execution_count": 64,
     "metadata": {},
     "output_type": "execute_result"
    },
    {
     "data": {
      "image/png": "[encoded data removed]",
      "text/plain": [
       "<matplotlib.figure.Figure at 0x24dabee21d0>"
      ]
     },
     "metadata": {},
     "output_type": "display_data"
    }
   ],
   "source": [
    "plt.plot(t,x)\n",
    "plt.plot(t,y)\n",
    "plt.xlabel(\"time\")\n",
    "plt.legend([\"prey\",\"predators\"])"
   ]
  },
  {
   "cell_type": "markdown",
   "metadata": {
    "slideshow": {
     "slide_type": "subslide"
    }
   },
   "source": [
    "*Phase plots* plot the variables in the system against each other. "
   ]
  },
  {
   "cell_type": "code",
   "execution_count": 65,
   "metadata": {
    "collapsed": false,
    "slideshow": {
     "slide_type": "-"
    }
   },
   "outputs": [
    {
     "data": {
      "text/plain": [
       "<matplotlib.text.Text at 0x24dabe890f0>"
      ]
     },
     "execution_count": 65,
     "metadata": {},
     "output_type": "execute_result"
    },
    {
     "data": {
      "image/png": "[encoded data removed]",
      "text/plain": [
       "<matplotlib.figure.Figure at 0x24dad6d82e8>"
      ]
     },
     "metadata": {},
     "output_type": "display_data"
    }
   ],
   "source": [
    "plt.plot(x,y)\n",
    "plt.xlabel(\"prey\")\n",
    "plt.ylabel(\"predators\")"
   ]
  },
  {
   "cell_type": "markdown",
   "metadata": {
    "slideshow": {
     "slide_type": "subslide"
    }
   },
   "source": [
    "Once we have the data for x and y, we can create an animation as we saw last class."
   ]
  },
  {
   "cell_type": "code",
   "execution_count": 80,
   "metadata": {
    "collapsed": false
   },
   "outputs": [
    {
     "name": "stdout",
     "output_type": "stream",
     "text": [
      "Using matplotlib backend: Qt4Agg\n"
     ]
    }
   ],
   "source": [
    "from matplotlib.animation import FuncAnimation\n",
    "from matplotlib import rc\n",
    "\n",
    "# configure matplotlib animations to display in notebook\n",
    "rc('animation', html='html5')\n",
    "%matplotlib\n",
    "\n",
    "# initialize plot\n",
    "fig, ax = plt.subplots()\n",
    "ax.set_xlim((min(x) - 0.1, max(x) + 0.1))\n",
    "ax.set_ylim((min(y) - 0.1, max(y) + 0.1))\n",
    "ax.set_aspect('equal')\n",
    "ax.set_xlabel(\"prey\")\n",
    "ax.set_ylabel(\"predators\")\n",
    "\n",
    "data_line, = ax.plot(x[0],y[0], 'b') # solid blue line for past values\n",
    "data_point, = ax.plot(x[0],y[0], 'ro') # red dot for current value\n",
    "\n",
    "\n",
    "# define update function\n",
    "def update_frame(i, x, y, t):\n",
    "    data_line.set_data(x[:i+1], y[:i+1])\n",
    "    data_point.set_data(x[i], y[i])\n",
    "    ax.set_title(\"Time %3.2f\"%t[i])\n",
    "\n",
    "anim = FuncAnimation(fig, update_frame, frames = np.arange(0,N,500), fargs=(x,y,t))"
   ]
  },
  {
   "cell_type": "code",
   "execution_count": 81,
   "metadata": {
    "collapsed": false,
    "slideshow": {
     "slide_type": "subslide"
    }
   },
   "outputs": [
    {
     "data": {
      "text/html": [
       "<video width=\"800.0\" height=\"600.0\" controls autoplay loop>\n",
       "  <source type=\"video/mp4\" src=\"data:video/mp4;base64,AAAAHGZ0eXBNNFYgAAACAGlzb21pc28yYXZjMQAAAAhmcmVlAAEdw21kYXQAAAKtBgX//6ncRem9\n",
       "5tlIt5Ys2CDZI+7veDI2NCAtIGNvcmUgMTQ4IHIyNjM4IDc1OTkyMTAgLSBILjI2NC9NUEVHLTQg\n",
       "QVZDIGNvZGVjIC0gQ29weWxlZnQgMjAwMy0yMDE1IC0gaHR0cDovL3d3dy52aWRlb2xhbi5vcmcv\n",
       "eDI2NC5odG1sIC0gb3B0aW9uczogY2FiYWM9MSByZWY9MyBkZWJsb2NrPTE6MDowIGFuYWx5c2U9\n",
       "MHgzOjB4MTEzIG1lPWhleCBzdWJtZT03IHBzeT0xIHBzeV9yZD0xLjAwOjAuMDAgbWl4ZWRfcmVm\n",
       "PTEgbWVfcmFuZ2U9MTYgY2hyb21hX21lPTEgdHJlbGxpcz0xIDh4OGRjdD0xIGNxbT0wIGRlYWR6\n",
       "b25lPTIxLDExIGZhc3RfcHNraXA9MSBjaHJvbWFfcXBfb2Zmc2V0PS0yIHRocmVhZHM9OSBsb29r\n",
       "YWhlYWRfdGhyZWFkcz0xIHNsaWNlZF90aHJlYWRzPTAgbnI9MCBkZWNpbWF0ZT0xIGludGVybGFj\n",
       "ZWQ9MCBibHVyYXlfY29tcGF0PTAgY29uc3RyYWluZWRfaW50cmE9MCBiZnJhbWVzPTMgYl9weXJh\n",
       "bWlkPTIgYl9hZGFwdD0xIGJfYmlhcz0wIGRpcmVjdD0xIHdlaWdodGI9MSBvcGVuX2dvcD0wIHdl\n",
       "aWdodHA9MiBrZXlpbnQ9MjUwIGtleWludF9taW49NSBzY2VuZWN1dD00MCBpbnRyYV9yZWZyZXNo\n",
       "PTAgcmNfbG9va2FoZWFkPTQwIHJjPWNyZiBtYnRyZWU9MSBjcmY9MjMuMCBxY29tcD0wLjYwIHFw\n",
       "bWluPTAgcXBtYXg9NjkgcXBzdGVwPTQgaXBfcmF0aW89MS40MCBhcT0xOjEuMDAAgAAAGVVliIQA\n",
       "FP/+98dPwKbo+WbLnUU9ITCK2PpIKL1Y7NAydQAAAwAAAwAAAwAAiYQ/tPWAG1jBaAAAAwAd0APE\n",
       "BDQiH/mZLV/mASwfgLkL/Na18Nzb+Gm9HPAG+2eaS/206DDOPECb/y7tWps00oZDNZPMUx5W8DxC\n",
       "Fx3a+Ujv4q0x4Hhykj41dNB3ctTSZYnaUtPrAHP+SM+oWY1azr9k8phs8Li/RNdVs72wKQXfPdjp\n",
       "594UWw31MU7PtPYglxBBS5f984gXdhstNsUMGQHQ0YLke7OOgUuVK3rEyH2muUMQt6l5MmXBGcie\n",
       "ezTCzMGdvqB1KmS4pELHrLn3If3Z850GW+9dinRbC/FMVKaXFoIEa7BWSCCF6nDe4qvhdMn3yJD2\n",
       "CD7X41dBdBvLcTXnEkq8/fFn/nuGRC1Jrg7hs+LlVgmj4zSulS3gohJXWmgjjAQGdLADLe9lIt/X\n",
       "nNCpn1OztWWIv4KdUE/x/fBC9uz4wCiIW/iQwYDQGtoxH3m7dq7jqjENr71eOWPfsd4lr5yrGUO5\n",
       "KsLqnt/H+zcaOuRahmcZG4NaF/B7vYWcElUFop4jX/2+hsjXjnVAmNfBXMuUIk1xD6mk+rcgDGNm\n",
       "vnVpnF1XUi8DSmACvnCy+ecDf02119Sw5l5q8pvmA9EVqkNanjq48vMEKi5VxBqavQdqMVdOktrK\n",
       "dlQW//sKEKuPysY1Zw3cVGNxZbp+sdIp2lXkg7AqvHEFE3+whRWU5LNtTXqueVsn/vjzoBPpjAw/\n",
       "2/SNHhALEVwYl3zFyKhjFZakUz2dHDWlUci23mTrVn0ksG6eS6i1mCvo/zRPDhPWS/T6sxyz6rg2\n",
       "8bln89NNbXohwXuX9tLJm83WlNr2SaJxw2e7Wh9knGomqs3uJXWxXbomu5HoyFvdyYA2a2pBaVIJ\n",
       "AH109CeJ0IsWXMMCemUeRpOObpdYTfGvmk3SxK6HSJWaQAVmRxamAc2+iNm8IJVAWmXktX6SglyQ\n",
       "/I4ND+n8gURCyT/XKPffLxPVzXrYwhVTs+wh1NiDYp/k+fH1GFJ1rq1iB0inIBKo8djPZccT0jq+\n",
       "5ncMdo+qWtlKWcf2Azp9tuQvnVyhIvCCwVUEe/MtLmv3em7deU61xvZhvCBYGdLe0ykufgn4R+3F\n",
       "UfHEh815SIJMTiXAl3Bm/Om1oVOo5oNItIo5TtABD88UoOhJRmRi6I6V1J//UAgczQj1ZLwek1Fg\n",
       "uDT1i0VfZTJQoqhn6znZWS+TYVrcDrrR6xncqGJ+zXLkqGcBpadfKSUefK0Ssiff2L+rJc8Tsnqj\n",
       "RECY/mD/v273GtUO7Ttuow2TjQZNa1TDjrZBlc9TYNoZH8DhsA2CCYJs4rB+TzUSHa5KvQV67aO2\n",
       "t6NaIlxBA+dTlzF6D/8VeblXA8W6jiT6njUQfDriaFS64iH0fJxqu1wuFsP+XqIcGlMY07prB0B9\n",
       "oXVKdMZYBs8BCnUVT8XI2R+SfywzVmIb/ZgKeBevtWXqnsO9HB4LD0qmJsnuBacziSvJDc8NDQKb\n",
       "a+1bjeNUyp++VbZfA6xskLdoMXqLx2KgfUxNC+NTtkRUJFlBGPum+ORZU0PCSgikAAADAYFO9fjL\n",
       "bJRjydP1IAYw0RGfJgisGuhZ0wqOIl7HXzHTdOb5/ggzuV7Hq3r4BDIDLv/REXgTqqWPD5xgyvYa\n",
       "LchFVL6HtzeZSyM8Q5C63sNx3jmTA+KZvt84y/06XQf6yMSEfa27bfy61zlvw9OXyC+flxRY9QuF\n",
       "mKFeKzm716Q+bjqNezy4mr0Fj1Mp95mkQ6i71bI0Z6WpgNdOv7qBtPdzsOBThTSeKVnkMQLWg/ir\n",
       "AtDM5JX2pEVm7yMKPv7Hwo5f5ZVB0tZ331kLr3oYP4op7Q2B4Vewn5qnPK3k9lgxBySaxeOuOyZy\n",
       "AuAxFT8lNGoKDBOELCiqY7jOFrGeKGv/PvZFJ4Df5IcEqXljW0XTu8i3BTDh+RF+/3cbvMQvLZdG\n",
       "y22xS0hpwJFDhtdj+TI1Lml3RDLBjlv8l3GGshEWHvh7GZc6GmFjivN0wm7+aAU7zO8nWEvIfL0K\n",
       "UJyAMPWzZU5v3YNZjX4B+khKCEhSDLrQoKia9sXGKJbJuGAybtRhxrYvkGZ96ZG+qZxXAHM753nA\n",
       "bW30xBgAkcXBM9gOQG5Zz+0iHDgiZ4wMP+/mBOJcXlbFOK6ZJmBw1888wNm2Ih0vo82R/sQGO7HT\n",
       "3bJp1y+6vrDwI8gVjR9GK65Xb3H5mDLqFTOMf7+XqyhgDG3KtVh2IRTUsinRmY/buZpRphxL5suw\n",
       "A+DQ5ZWB+ub8yIKyXPb2gPzU2H7TKxulv5E2tSCePk2JtZJb2BunNXKxwnIvAgrMg2cgfL+6vYpO\n",
       "UOk5zfzizNmJIptvuzxX5h2vqUN9UlIIuIwZUg5QdZLYGizItTAw9u8OI21ZU0D/+rPTFqBZgPo4\n",
       "thDCJvuzKjahWAJGeFPv2dLt39hGnqdh3ZfEOmByrGFfbAvd2Z3pWxStPelH3u16J4vbfgnT2imQ\n",
       "5A1e/VoThRcJKuqmufBQMHPdmdJme/A9bXw/d9JTjaF0NNcQ3hUaXixfPMAcz6obJVAkDp/ju3og\n",
       "wAAAAwOC1KT0xFKyUvJWsbLuH5IvinsApseA3q0n+HdwKiZhBq3i9wcurm+C9d0IVoJs1mzw44Z8\n",
       "x19X292Tq+5ehhprZLnmac5XY0W1pTUrXmSorD6Bvmh7VpBI7PALL0NzLonH7ktTNTfer0dcNvml\n",
       "ufpnHVL05PhFzCg7uwQQSmbZAAVj9DphW+IeSsrZhzGl44M/aPk9q0wNEn87pzTDlQz0xfBS8ZZG\n",
       "WBwwOeJxnKm0fvKbcj/KIXLeK0xiwR2fbKEWyVa63ED9cLu4J5qsua0QNP5OZF3hieHBEDVRYgq7\n",
       "spE1taxnzvXs7ijBRrksrKO4Kf7zkKeuRuFTcU1TIC0WxVnHzqJSLLiUeVikr1TmCWkQNliWC40r\n",
       "STnN5VF47x3z5wbjwz41shx8iiT6TwbEeUrQADq6MwAnlarcHwepGWtAyEU7elhLtbYeUcV8YX5T\n",
       "ZRaI2GAKJq/ia1ESl7qdEQMAJGe5U15TC8sYWLUqXT7b2/0+AVzRowriGq9/odLPVqbqqjymOSEz\n",
       "yTWRU1k6KWVqfBuZ486KTirA6amPC4IOE71rjmPu55qZvc63P1DsY5UsqyLCK4n+OqMQ53cxDPZ7\n",
       "axLa/48ebeHvAwECENESZ++QZXDLPtyydcoRA1g5fGLmECkylqLR6rdujTVZD2HCQqLOLlpKLyX3\n",
       "RqEnSGxSgAZgnJD/jOju32OhqnYxSv2hX8ARdAQfhrwZuUlg9PZMmRIcDyg1EX8/jEqhZs+7RYLz\n",
       "bbuJFHsTd/OexeWFr/tvbbJSagwXl2HJNs+i2bT4Jo1dtYTG5ya+DVDT1JNJn6D6O7nptv/VA2M9\n",
       "CzthPUUBW5bTg0pytJbpWhnUyzCQjV/o0is40vG+4+bnxGnOB/8HUnNQe3uDkBoYr+0/DTSVqqNn\n",
       "LUtmtezhGOGdL+SF/KH7D3z/+AVUA5MERtYicUFEvFNCR97Up8ZQ44HCIc1PD/OX/RfJ8+cU9ez+\n",
       "TNwaqntSXgUJ78XuB3uhOvWaWrBuV3Oz+jNe2WhSRORskWq0BMKM00IBo9P0ZCDKTN257ERMJC++\n",
       "/qsjkZh6bXxRcX8Yhsme+acO9giYTjPdmUlER3nI97IoiC26MYOfJkCxRxog3vZGQNkAKiu/QtWC\n",
       "8nOqx9CTVnZP8a1xx7bP71zxCiwzMwYWjVjrdCdynji/VZA8aBlMvAQZf5ABt9V7pu7rE5tMbS/Z\n",
       "HACs/lKvzZTdNpvDJSzs6UA5UOLc+NGKBf6lEefCvXDokJ/d59rYxd+miskI5feu2BxRTnQUCHe2\n",
       "Vh/8NkH0Ci0hT5TJMs4e3xtJPiqSBU9HRz4Ghn/HJ6Ob1PEG/SEe50bnRX+Y1Qmi4zwAxU51YBqk\n",
       "c99Y7E0uZ2ey+TjqQdm5JKD1wOK+4FxJiev5aJA7VMMRk6Oit+iNlKS6PmxZCzqT9TaaszxEa41z\n",
       "rz35EOPLxqM5f0szoK9d1wQkE9vYqH6yYuBLgbPKSNudB95kQr/jOXhXN/BUbqKGNaD9IfkOjP0X\n",
       "7uaX7kGVqIJT4MgoV6iRb//+17i/uoB2sIYC87gsD8fAWF4ZsZs2nDk7Hj6Bnj4j/2xm36lI5OAh\n",
       "05Ki82P38iXaQUjUkAA6ITkcqBPp7U+EbAN2DnuDPUDZL4twJoxnRUQZ8GV1bpAfsK2eu+N5LyX4\n",
       "lEXijrWAMrVkRhnNKPI1Gj27iN5Ej1kpI771057oM7NKJkl45reaVdcxiE3EsGeAAACWX0ah8RMl\n",
       "hp3NtOVYnbAfqhULj3HeojzQv84I20TuveJl1Qmc4fwM7ueOf2eVeUvZ70fTwNQcIlhxiWGtUeZ8\n",
       "ny2IuZ3R48mBGjcxuvcA1lNSN2s3Ao6mgrcRrBYn81xaNVK84YheIzomiB/aC/Qtm31IAtuGgAEq\n",
       "EethayNm2Kg6LZ0VOIFElaT3J60A4rA+l9+gmc4Xscvfa3AtuCZpsKmV+6m0jP3qwunwO8mD2riI\n",
       "gMx2kB4BzTqEU91HyKajbqxO2RHJNMWjIUHvYBX0aVJadv3/AfwQvI+8rQMZ0OjLyGQxDZk9oP/h\n",
       "tjBA0HeveY87/CGils7lnAFBBimcM4CeEAN6riDc8NA9ow088/iLxXvWW7ESTMRj85HsH71ufimX\n",
       "BkGd+UHejNaANXmnROrXo2d7yDxjjS+fIVI8yQod11TYF/uFwAAAAwAAAwGJzwBP0bBpgBmArY28\n",
       "591qvBqY7wNcyUgNUU9CMCnBm7ttQpb9esRWhHLdNLqUnuz0veyrpEE4BtojoefFkKn5n1/GHX50\n",
       "Tz/zi1tU6Yz6/swQpFgnMnVgC1JvUQP/FqGlITiNPAZcQ7w3Ewx64OZ1du95ldRmnBxAAfdfpwFr\n",
       "li2joHEPMfJ2x5F9hrptC5Jd9yPgMG4zawj7o8deFVuwRoLSkLoBC+3mrR86aJS4TzT6TYNYjlfZ\n",
       "9JZsntt+GtaEp6GOMyoySoWVxhEo6J07hZcguK7NItnS92XVKB5v2oF0SougZAKCBKMzDwmnYDob\n",
       "mGB+2sB8Stggpaes+BPKxwy4+CPUhC/2axP6Hdx4Ry2+Zrc5DE0mRbVZE9+tDaWqvjpgqPrkeMke\n",
       "d/mHDka6uhCdjbjkyA815IOzv6gVAALztYOLqw+DoY5BXB7/Dixtbdm39R/i3KWq2EWTpF6qT8+C\n",
       "Myem4iBxk4TPzyE2m5y9ioLco4Xq1jnWtlgSP//ogQGjG4WF8b+PLx3SeC+BGmuevbFpJbfHUKBQ\n",
       "uCnL5ItL5CCnst8tXtfK7yTH8BOownnUqTtqM3k+iauwwK8zo6oL6NHba//TItQvYCX5uYnu9IJM\n",
       "+bNpeHJc3DluVyt7CHluFQizUf/rpm9w7lo0ECoT4nqeZVThl1elqbSbGk4U+IlmaIt3ngvYqkCF\n",
       "w4DMWvV4qohzyGem85gxAdOHYY/a5Dqi1sEC+eSVEdEdlTjwujcDCeslPfZWDT+yU9gINhGbCXs9\n",
       "Rxl7+YTRO42zEp2pdzU77FxFAPcYVA6Zm2R/UR2VOPC+JDsUpuCKBx0eZKeEiOykNhUaOfYTppx3\n",
       "l10bL/LOOsICPsMpRAYct9NdbF0bbFzuykT3lPvWkU3c0WxMHSk8X19EM7JVt4bIyyKPBR/c6f3F\n",
       "8q2PB9si0gaZQ63HTfqVf+8wmkQJ4shBwyQnlraD6Dm0FDz1Ar2T1bZso0kU2hYnJl9hhMT9TVxn\n",
       "MZPeNNrk+uyCBvBMHaXnbTq3rilW0fZ9q6aIdhyFfxrd69/7N2t+AnUFEVzUX4U+8kmDxMJ9/C8Z\n",
       "7u3a4KPd2bUPP1juTnH//5V2f2inKRsftnjHjFYxrEB28l4UEVOuaKcEVrndbBx7SN534GnW/Ipi\n",
       "4FI8FJ3KSRlg4hZR/LBEerMN5Yt5XSPQZYui6zu3pGSXrtwP7s1Cn8+wzderwiZk7mUr9ZBHJXyG\n",
       "7HmNP++p+uEbd8RCMVCts1LbFe6yihbtx1SkA3lo8/oDMWy+UWiZK9J9fw2uRQrIcY3plUQuu1F2\n",
       "S9k1ec9kfPQo4o6Y5Z6iewK+slE7pOTmS3PeiZ6k7W03M3LfyUGtvjcbKOmFOBgvznBENqFto+pL\n",
       "2A3oUS7QROl2T7cQJd5IatgH9flVyiEDNn2OXUF6uAUq4rZxTsL1KyeEX7SKzglBshFlLQq809GQ\n",
       "BHvN+PCnjHNoh19WtiWvh942tW8IRyxxjCNmQuz/Yce93IIrfI/Fg3n0K4dassAf/GrzIm9Zn+XY\n",
       "OPnfYSNXZ+JipFbUSKFo/ZeyrkFUqY2YdgeRa1vJeU5yv3f3bHBAJ8TAYeyN2Uflw3b92JsKuNds\n",
       "Sn5y5CAeupYZIzzbaWxCW+cDRvOVSi2kSZIa24jZM3LQ1fv17TUSLAZ9DXoAc9WpBuoulx7jaC+v\n",
       "RXx9RHRrVcOIFakqX+3EFSaP0Q5mmBLVDKt1zr8w+3K3mua6D7qMS+hdVgWKsa0yYRsr5udi944Z\n",
       "m19Q2uxiaiOar9wMl0T6P+kArufrLlzxYxGtZuGKxCO7om28oivEYjawPeuKpvqkXLLM58m5+akk\n",
       "ZAdaKC4FtYzxGg49l2bpWZR/oHfhGlN8p2G/Nty8ooqRgyB+0D6p4pNTKfp32AiVPxoa9fEjdTYJ\n",
       "qFWAmrhp5jzy7zFswmvkid9xlLRJ09/J2PoBidhbCC+zA1wiewml3W10xu0ScWJl+w9uRLIKccry\n",
       "Pg2YVFlxplqM/bsFo/P/YZcktwf/WTXU1Ch2QdZw8eDPf+3Y6C/JToikP2hMe/VCBXk8drfrdUtu\n",
       "JEwbWAkeXaDpwcjaYp2cm8wOWPcZp9nNn9OqnrdcgQHQiososrRGvsSJMmy7e895lE97Ti11VsXs\n",
       "ivMCgv62g50tuufI02q8/O078r5BtmTcGDnp/sf7Z/S71llfr+FJ6WM1eH+nQjolKqEa7403rKCQ\n",
       "cog8jwt4ytgm2RMA31VAF93DJqpo5hS+n3fTqL+l5GYxSb4FjEOQ4FTUZuCDoYTYqcILU5JFla2B\n",
       "WSqcinBqzgi6AAFfFh3mlIT50g32BxIIQK1HDl9/eSCxdJBVtpagCnmbEAclpB8EB7/0ETKMSn6P\n",
       "dBGQz9qGcaAjFO9JDdm3Kc+mVdOdEgA/4MXOEtjCJmIT18t7Vmdw2vERJoi9VV5LMYOzJ79vS9oI\n",
       "mKlTButnyPih6uL7hDyV0m15K6pdq1CLxO6l/rNFCkTJND7MFS+GTa2UmAjBJFm/h/uwOw2TGVVx\n",
       "z4t+vkrHqEG7mCBSGo/ZDHb2pB2uYfdZbkk/qvJtXgzoHizMITn9xNfFD0ZdISatzUUWSfVayWE4\n",
       "81kEyipUfp7kitjpz8WjEfN58aB0Dfr9gboNfhmWt9q3BS/9fluzm5hX0bco79zIgKv4d+sAeLRA\n",
       "COPdE59SvaKNNp2cb0/TRmzdt8juWp1WQErS3HJepam0t2E8uFO62Wg7WKoHqYZWPA8vcQA0eMLQ\n",
       "JK2pOHLh+wdCc2XNt79+9ounq8rqBWgYf6Pn05jhEH5o+5VqTZLMUwjVTYp9KHM4Xmkfah1KlNxO\n",
       "h+c7famT3+FeTuJKWl4unQSHvw75T2kqIIUbYi5JCkOIFT+nXg9rRXvgo+p3cdohG2v8uyhgb6No\n",
       "ytcREXjy8N8nQjVd7wTFSXO3Y/fNpocKxxcOtRNnB772deA/vblF6lbZZrRq8BRW8cgPlE8HYHnW\n",
       "pyh5isjn0vFY9xvtEO7Nihq3Fk0MjDIoCgxe2qrFsRM6QfAvQm5obGBt+RZ73FS8MUYnz2B3gxXj\n",
       "X44tuZLSVksv2oJ7qgu1rq2IwluULuNG3VAtaJPw7/4rneaKsNiVOwmbJtZZq5/cvXbH0thKQyXu\n",
       "sWxeQ7fQXQsYMA2V63FpoajgxUiGzRoxxnUkHMCxKo3seyvM7QgFX9cwRXiZ4eICSPu6H/++wcAP\n",
       "pf8fM4FNfc7f426Xq6xv+/xNgbVOZk5hIO5z3H9MuoQQl/ya8Goo/TN5OzZVj1YHuvZMpBJ8MEmp\n",
       "Vqv+2DDC8XXx1J+WccXTNnv7843fdzFzoP2AcSEQznwvNp9T0rreQSuQAAjtD3OsNGIrLzWOx1XF\n",
       "yo4Z+hHn5fEJ9Rt9JAHaqMrVwNvWm2IWQtiUC33YUli9J1OFSP71HDOHCqUeD0M9oChqXfGLDcnm\n",
       "ZcsMq9p+CMAXd3PaNB2f0gXU3AIlsUKlnxsEpr9VMOdVBHkd+fLMJq7LdQbz2pAxqx8PKwFzzjrM\n",
       "qezEomOI5wAupH0ZWhVx8YIXqABFgAA+yYmgr2Cr9HuiELg4qVRW9Dohd301QkVx/MeOc9QN8jW4\n",
       "jIY6maTFuqv/QbDE6u3/D1N3gULSHcJjfMxsBG0qlD4KWPeotPB+xbT+BM/6tQo+s2NtGrqpFULV\n",
       "kOnWrCHOIPHclwDAisbQ4stD2ahYajkWWybmG+DtU3rduDCImCx1d4zP6pCN0sAlD45Lgfqv0Ohd\n",
       "nmoBfVtdEdvGFmroYjq02cbsMm09qaUWB6eIWlvDb6rMJwhWQoE2SlI0NLssTmQnEMRsl8ztclqf\n",
       "3yL+BcJy7tzDeoADK2duRw2ZlWSeRG9bkgWxdMHJ3IAAAAMAAAMBswAACjBBmiRsQU/+1oywABqN\n",
       "HgAAsSmRKkQxShil01+21fb7mtPrExJ32ef6bT7BS90CFwI74vsBnaXTS0nlJVP2olzAUUKbRnwp\n",
       "d4tyIIGjzI2cE/yt9t5g2ze/qxNlsK1R4WZls4rMJOgWI8IqIQhcOh+2Jjg6Iym7j7C9HCTGvoDz\n",
       "8x1NdkPgWSoJE4UVCjv+VJuJuMgJQ4xizshiezsutTdTt4YUNxc1Wp0UpygPoURtQN4/VBAIQtBa\n",
       "FTxSs/vjngT5/Z1oLBBb4Epf4Ug3usVKYTZY8gdUiCR7T2Zkjo8xn68YeBHToxa8LPDR6qDzRiuR\n",
       "iegrncRnQZ1btd+IoRETDhTII5j5m7hs3yE9414Fng6/+kKoFzgdFBNw4s5/rkEqPPVmeN8vghKt\n",
       "r/haCs550MK/Fmjp7oWoR6X2LQ1ZbomZ74nwfyv1ud9qF2OnKorqu927Ezr+587EHJXt2okOYNhH\n",
       "+JLezyzOcMVQuK3wGoe6D4+5aQrOJID07oD/c3Kf9yGXY925OXnZVE8PAWC+2i1uzTD0B7W3dmT0\n",
       "6T4urDT5IFb2smW1ziLErASuzrdHNRgHZDLK7fz19TnckguD/giomdW9WRnSthQC7IjjTfc+SeQv\n",
       "MKfmwbOz5xRZqJr6cpqKN+f9eLxpb5q49PBwsWxtEOlW+PvXyuZKjcSUJU/1HQvX3iz/Q4nYYiMD\n",
       "87t9v8u9L46c5VEh1OXuBJJ9xahbxYj4Vkk6VJmXu8Fpz1xh0QYJHNj6giU6HYcZRiJw3lO950jB\n",
       "XfPqsqMe1e8HZGmI4NHb64Gf/tNtZEGka8Y3TzjJ4zO5v6Mk007Ap8c49qEmO5EhIta98bii1vto\n",
       "CdkLHexkMVqwuEWkboBF3J1RfNjY9e06e0NGNZDNHQ9I3ZbGmHr4VAbo477+Ru7T1vTScQE7Defg\n",
       "ssMnZ1xNP60GNxj7EX+ecfmoAVbSdXN2ytcUULo/9BNMBw4sSgMAWQEILsfgC6Sfu9VTlaaG9MuU\n",
       "pxNpAY9ATYlhg42pDfdeeDrRuyj31vBVJvWlsR8vvryZs3GULDHCZFASQOoZkvivuB3XU3nAA2WN\n",
       "kwqPQNTWk8m0swoHO3eKKYxB5LUFA+I8WeWxJxMMMWLy3XUX5UH+175fNx2AMKlnhK6M0hwYTKH8\n",
       "vBdJh1h1EgfoPG+HgJ5CBajjFKwxhqJ1eEElP6drsc7VcD8CP08bP5/o13JVnslhLl2ZS2ZcOMG1\n",
       "i4GicjI7sudWDzXi7Sf1OW5V1ih09naIb1YHsafOTEKwnFE4ctnrHYEoLmCT2B0k2ONkV6utKemQ\n",
       "Q6V7OH4+rWU4Zeg5ymZ5ntjbP/L7R2uYCP2vfdhnEEvaOzbTbLyfXI+9RlVhHwvZeYybzF0aB44x\n",
       "i5ZZ4jJ9mO3DXYp8+CeySIe16fXr3cC8Hl0SP/iNmNvZ9V/ayMxdQ3b08wpyJLl3OPHDBWYMEY7P\n",
       "jCRFzq5V0gEKKADx+483wZlM8fHwt+YT6KxU+ukde1XUVvFnhD6sIJAoH1xyfmJnzkThN/Ni3PK+\n",
       "1kk8sVRY584IdtLlWFnMoX6Ficw4UqoFVuPfykYESDDBrJS2cqQqok9wgmdcWAFBGGbhpjd2ZJQo\n",
       "/+WXa+cQ/4pS9RbaUCSlfylR1+RUvn4L2fMEcLDkLr1TWwhxrcJMuizTg1kVQs8NipEqhbXRtq+h\n",
       "botYczfTxZc7qQB4W/+io4l4qyehoMkUO9zgvObbhCUHkL93/KhESmm3DofNvKNqky1cKCfpSrqC\n",
       "dZ7OuKSbJ/qDbl+8mxqHwFFZv0+u7Eny7slli98wIU1Tk8l3ivIyPX2uddlzm3a1QtvZbx64KLOg\n",
       "W5TDwhXj/OILA5nmyUzAVwzDoZiYgoPbXz6z0jBisgmmoBGMzftAAMErLdNJEzCmLoQbaIdjBtRY\n",
       "98gH0uH8Oym8T0EF+Z5lyu0UF0OHs8zFba44zvsOqWjg5ah3CwEqY/t1kD+T7KB1wgcKBAJ7ZzWy\n",
       "r1glQ6mJDJBCpjeULHf14bewGnSrQto2InS08xMRjqlv46EEOgL7GwqLEpVg5alS/nuePflyuKtx\n",
       "r+8gE4gkMv1o9CEdvGndc8th9ChihlnuhUoPs+tM7w8/jwd6RXUpCCl5OJBT8sDgEJjYt4+ozn8x\n",
       "nQbyfFW7eUhvGuBQC3hV1xlhktSnwxT82vz0iPrOJQcIlDVmSWabgPlC2043cNaEyqmaXyTQI7Dh\n",
       "2krulpk6mqYtz/fCivwIbUYIzH7yYij4xBR2K9Rc/aoghL+Sq2s/oSGTDtAySIEK/mUiGou2Yx6p\n",
       "/5pvUDuvZDAznasWg7+vX14ZUwwSRVAAlRc2ACPZSPo5A579hYx5LM18sm6349ofbX2zNq6ju1hN\n",
       "23zX1AGpdZwS1Ddofq1hrzTl5K6SoGmc+FBlRNycdIhPGSa9XMZcL3Z3Eo9Hm/LsCuNGlWchAHI8\n",
       "GbKxQ64hyslcN+xvABd+c8sQF89mn8SyPAQuIrw/KkQR6LblhzhyuvWHC47OKfxB+VEdt7XcRrna\n",
       "SP8FJlbR7m8JUeldIhD8UzplXKlJPRg6n3cYNbmVNFqCeU95VOpwn1hIJGfg29j0ineztKtp0gSt\n",
       "xZVWEWndpqXPC+TxavFyswFVIBez3Gjl+T5DxN4+c1G0j4yMqBWhsoesfhpq7fz6ek+twUKD64rx\n",
       "0lsDVTuF+RP4eXAhjTzBo/IkNra1YDAbErgHgOaa5kfRMR1a00O3eKodwFLwoLCKbYyGAM0wEtBD\n",
       "xfZexUkCkFjPxGtW08rRMCq48+5UVeqYwRMrzDhgzqwjVJ/KZQclOcV9c6VptC7XBKM/YcT7Taid\n",
       "adBs6MX0RiTsdCn9nOCTeT4RleEjlTLZNLZWBZFtdk2FWM0p4WorEr7t5YLUW+xqqJCvYiOtpXnY\n",
       "sqQP7fYZxuy/s0aua6NVy4NVhcz6/Xf7FJan1aPlvZho1DSVEk7wACKd2ue4SqXvNi3nqas4FdEk\n",
       "MFWzsfA5fixEsLDBY87qnlI3XHED6HtcrLmS/n1Ntbhk7bntdExY2/T1biNoagEEjmFm08Vfp28C\n",
       "nxKjLyfdzth0AiuBjuWW9ZiyPAiMaVulp5nhZE6nP3oF0gEtg+pcavFT4yQexU3AYFL2TByvsN5b\n",
       "qJJJqPZLudIXvnfXecrm6/10fHR+f1+u2dv6+vLh5jP/RD8eWxz06dwA/qYzWzdH6+6EUQemBMNN\n",
       "KXKyb64MDHXLAKUEdsOwOvZy3SCrZbvVYnjkyu0f7DRTGHlGMdwwkABO/J8yWlPWcc9GRou5NpcM\n",
       "8VXv5YrBmJkvUPtrR/JKLx/CvBqQ4M93BEM8l6n6ErcE1O8DAE6st8p/a+dovRSOj8mijQvzQthz\n",
       "4c3S0UgAAf3GmyC61pmrSLTw02H0UteBdIr/3iWWYGyz1fBYh3eNU8rYNOUDZANlV0XvTrn9xonh\n",
       "qSOVcYKgF7VZZEkU0OKNAVJiVMfQhhDoknYh6AhYAAABAUGeQniCHwAAfue4UdWt+0B348QAstV5\n",
       "Raf43fROP/ZN8IAkApV0sC/0zm9UFkn4sIQElSIiAZAds7KVu/tUAesXX6Dma7tT4byGtuSj7q9K\n",
       "AAPUFRkcoFonneEmYayvkdNlFWXAWRrlhCBRWcqL3um6+FKWcZyDWCfrhuD/+/qN7UXQZles+gvO\n",
       "1eJNt2DJ3fRb+P6JGZAXrcanf/KyXwz9jAdIVDvNetlL3U9jq/3ST5n23RGccPF7kk2V+PfMfLmy\n",
       "H6vLiqP+m262/RAF0tB7kBRaLkY8oc20eVc7g34JlLvZgXdWtHMTk/YvWYpfbRc4PJv3gAAVdlSE\n",
       "rlgMgJuBAAABFgGeYXRD/wABHVyTJN0Laf6cePQHACEFCPvew0/sCV6lscibAO/w/3aypGF7tUCR\n",
       "vtb/lailAPFM6ed1IN7sLa9GLSZxE6zGledrtDZzmJ65z7Ec894KxQK6bswYTzEvkFC7NE6zYosW\n",
       "8eh4TJnjuXxG26G2Ye8RRDFZx1sI2AckffmDvyVGf22wtAdmed37lULXdcxWoJVj7hVEejPTy0Mm\n",
       "bQHMwmw8SYIyYYSeHcVSqP9ardX9rLOFOQrMuwP58pcrQYQIMAc1uaki9nO0z40Da6mHHKny5rcL\n",
       "tP8Q5Cx7dMwdf9hSTApyPCZkqOzHid5O9QowDKX2+FZfOrHyKwijBohPs3nELAAAAwBtFr7IInZX\n",
       "04soAAAA9AGeY2pD/wABBYM4P/048d44AEOKEfe9hp/YEr1LY5E2Ad/h/u1lSML3aoEjfa3/K1FK\n",
       "AeKZ087qQb3YW16MWkzjIjZGcVqhdobOcxPXOfYjnnvBWKBXTdmDCeYl8goXZonWbFFi3j1PczbJ\n",
       "1jxGG7/dXA2jyTBNnn7hg3wmR5p5wvwgPa+Ownp/PrW10bZ/v7P5ar//jlbipLjCqcAq7ioavarW\n",
       "lf1RDI9CKwfwry+S9cz0ZqgabSHn6KLGlbq09jorGJolKlHx140m0OV/ty6JDeCoLUy1pde+7cQT\n",
       "YZRMm6qPINDJVmV0MPojtNCgAmXgHjEAAAW0QZpoSahBaJlMCCn//taMsAAYsj+sWON8AA5eGDxM\n",
       "SpcjFS0XswBwOVJdlPqsIxSKzNi8VjFT1WLBdRUx3nsPXy+Ojnt6f9JyqvHWnhNJAfubq6qYRpwc\n",
       "sRvrKSSK3gdXB+d9H8gfrrvpo3DOIMglX0pi0n3gvEbsLUrtfTCuC8etssam2PENHyzRDMF53cPk\n",
       "0UN5pIC7k5F8nDNdUKR0s9yio+tr0TeUWVPTMpN7anixSx0rLwbpvNOCGFh5blNdB3rQsWjyekit\n",
       "AHIoZ+sqB0mU+wLLL1xCTou2HsRGg9xFADJqiCLQ00pVrzerZcaNJxrGggvleeRnHH08aPgliRVQ\n",
       "+qrwzQ7BZgy97Yx9KbZi+jFgwxue3cqCxguZdh5Jds5tSDp0j7hcul9LihKXvYXtEg4Ohx/o6/Do\n",
       "hK2qgpnm19wRJ9fQcwJGnRMhfEhAmTtOY4PRTZAWgGJk7Rm08kdeOzFN8p4hPBJZwosUOmuZMzKd\n",
       "TbNJXJZbHRNLIcFZae5XZEwcD3//3J+6dFr1LZTFZAdKmFe9FOJeevCOFrIsAV/VppYSHZv9xhFo\n",
       "0ufIYX5Td8OInW/UWrjcbLDiCxmS7r+W2BIU7M5nyhCG2gEOZFOzWEXo9a2y6W3khqFDGUCH8x+i\n",
       "Gay6Gf6NZdk3QHKtHWRdQlaPmGu3mBXGwFej412NofhEqFHqKT5HRZdZHawR4H/2sdKkbTd5helZ\n",
       "WupOGaHMJxcgi2U+8Kml71NUsIVCbgcNx4L28/u9pE96GWwDDUvOR9fiiv3V/xXwFwtiltr1SKic\n",
       "dVFkJdffe5jVS4Z2x4oEAJr59dC4HKrGotocOJ9XSYfb2sZvg2smgdKJDJh7RbyiYHKPQ2iOlLLY\n",
       "jbWayPz7KaZhM/Viymp9Xo/eg3VOuEVrjJQajZrTjh8DhM7ZLq9Akg/jMEG6pGJty4NLoktnItVg\n",
       "KZzLt1UjjhttZ8v0dJqdCB7hg2fhe/iAjv68fo90XthKJXg0dz0Edo94MwY6aqZArEEvDqHGgm/6\n",
       "UeAepQZIb9ioEJVNh2FcWqnMFmmjRLXgaDTpvd4N8ZywUYNyA4Q0ALXIHOxClNnW94W0tbF3JPQt\n",
       "LksZvI5/CWKf2kRmmBEZ2URxx3zLtrtalpsAdzyKoXVvYrffToSLnCiNSojL75l/rMY1f7pazrkY\n",
       "jrimf90ypnjw+EI4SSlzYl/9+7X5bde3N31OPvuKeePu3M0OnuAnQjhDqHI7anTz57pELM8SKI5Q\n",
       "4wvS4y1WgVAras3jLTmUsPV0Pp1PXDtshOWhdIQDgEpUFfhD2lkLyg41Yft6LS9H00ZiKN5e1nP+\n",
       "/yZuIiT9pg2AtLe9j3kI4LoIei5By0fRVUo9wuWsVkvZEWO/JLc2d7Zh6QDDGHiN7oeU9MAthqaK\n",
       "dVgLVPr7V+oKRn7sIWl2wp7zxnHH0z7qo4EhtMOWi6He8okQuqhbe0Z4968r3VlytuX8piSw+haz\n",
       "OFt5fflMJaQUwgNyXDvV8nzax8SEOLkW0P21XPpPFu4vY+3CBqQELrrwoH5t9e3mBbuKfgCvw5TJ\n",
       "gKjDI98PTpANgOm6D8RkqB44ggVvEAmmNQ27VyQTldabChQSKxcaltG7TNaE+FrZohuFgyOprovO\n",
       "x314gtZZ226/Hv00GYkGUugLNC1zC0nFDOLg+NDxAxtATMJJ0vU4C66ERfUEiISjTgr7hcIf6H5S\n",
       "eC4IzC6f7HzYjo3CFT35Zqn/FJYofNQGwHdnAKIkB0eb+P7RGHbfSdTE7mA7DV48KX3CtLRq7pOR\n",
       "DHE9THIlQ0KURmuexG7OlNdCXY5Ou59bcqHcGl8brIjg4VUr53EXXccuaXxia9WZP/pTLAo/YXGk\n",
       "tEZ9bgT50skWxQlNGivlXLOhFkfJmhk0kmv4Rrh8f56cyAQp79hxSUBBjiOq1NO4awRdmHkILdmw\n",
       "cKl0Bd0AAADrQZ6GRREsEP8AAHatyDAAstAahTmKSO8f0SHJDqg+PpQKF/TMeMY7eDLhR8hze4BV\n",
       "Gi7Ro/owO4kcu3OvT82LWvmU25TSUvMghzTQORYbqj/VegQyoIYIUqlTn11HQrbl4jtXQSjOnelq\n",
       "42X5rUP3IROvteXmhHWNRBCof62QF0fZNMe8ntKkgrZFPbOdwi36EavANUPO5O5AB+JczEOdHTJ2\n",
       "sL4rFZ+5Y2o6TnmBdh72dxW86EOD5J4azbBgkscgw9f20C7BOxDyFvFql4bs/TrCSUuGsYsE6bSU\n",
       "6VE1MF4TngTBNjiT6+gB4wAAAPQBnqV0Q/8AAQWMcH/6ceO8cACHFCPvew0/sCV6lscibAO/w/3a\n",
       "ypGF7tUCRvtb/lailAPFM6ed1IN7sLa9GLSZxkjY8Vob/pn9nOYnrnPsRzz3grFArpuzBhPMS+QU\n",
       "Ls0TrNiixbx6nuMZ3Lc4CDgZpNYi2Rz53VqryKvmxZ6ZWgeVp6mT+zXec+hKFMwpLXlX4bmA4PNE\n",
       "x+/57NQXLkKbt7lWjtm7qmov2tS6ZpJOMk+4vQxLpuyoTM1m1GtDUzIJYD4tfwM0KlavgTlgc6fR\n",
       "sqA8Qh3X3C+p1VzyZzaFI7yQ+XmgYat9vzPuJ7NKaaDleAEzAAAA7wGep2pD/wABBYMrR8BHoidD\n",
       "qAA2UlPqgdqyVDIqUMZ/8uGvqS4R6TRaf1fxdQnAnT4BHSLAQhlLKmgVB1jRKmkRyiRvsMNz4MmZ\n",
       "u2y5bYECUVyoWRJaeJRzJFhr3nFe24/x/vCMOEBFgDd9eyhWgHfc5IvmKeGoUkDImB7/aAIBza6O\n",
       "HOSPnmcnDRWmygS9m4YDfqT8878LaqEbRX0w17CORKh1viLmHLs0ONuq8wO84LJLdzSh9LjSaM5p\n",
       "LQQj+KGJE+wIQhxUD4RkT4LpyXUjT28QTeNZ+CpH7o1euJpn7VMLVocQexX0D+DBAAF3AAAH+UGa\n",
       "rEmoQWyZTAgp//7WjLAAGL34jejAAOKsDX4jIYkCZHPbzPZtGHUDlWSvNWXL0sJ7Ulft70wosqOQ\n",
       "gV5x56Z2DweFxTvdYcT/CK/70cTZOyK2Hbs7SPH9DgMHplfIxoU4EF3tP/IJ5VSelsmudcu+CGcM\n",
       "NRzRNFWUqOBtSKOA8oyVMl+2u3roZdU7uHocSHJyoZNwT9gJDWzC9T7cfjKMN6cbWGiDgAAT4B7l\n",
       "6UofLgpSJivEgYDN/VFchFdGVG4W9m/8y/DRigY+r8o3/dHi2alvCB9EuW851NYJCSC9zE62NtJX\n",
       "/OmoeIcHHairNZQfKzV8asmWQ/bqu5EPaNZBMhIl/oLU6YKHgCjU1+q/a2g4cfkPSjGOtpguNTDq\n",
       "1G8fmg0/wGCmojnBnwmONgCWEbm6jeGDf8wYc4iHFEiSYFyZP7mUYRloR6av0TWQMkjcmIuBYWiq\n",
       "4a9OJTfBuQgNjJnh7KEDHG5piz/7HLb58KAfkIM+M7/oGNvA1cQ24oqwq1URlgzxm1c/Tod/Bq8r\n",
       "qxRDJ2y1yzGjlS02GaiMBiDyKGGROZM2s5wmjuEaiymVWkh7erArKpymYs6z+mcXj35wOftpHMer\n",
       "8r15/SCCt0sQBai6gSaiqpHzDOX5Tcoww5yWebfT3zv+rxE1qLEoPeFSaSoWNdoi5zAmZI2ANSPo\n",
       "9rBeV2L2vf+8VK1GrH7zBAAPJ6k1+Gr5IoWQ7dF61EeLDqAgBOMPeSc8DttsSrn2ecBlj2BMj3el\n",
       "pNm0Bx/8KQ5jU2RXuC9KtH6rNLc/gtRVbkRqLea8Q6RqXraFNhZfC0DMkaMhTIqGnL0EGDB3AF9w\n",
       "nHTNBHgiM96IBw+m3y/F1bgwZsmcJeVan5xo565MkB4UgAcXb43TRFeHYgjqhXLgXe0cfiOiUhgs\n",
       "Q6cN8Wk5aqG+gtTVf4XPHjP107tHH2gT1fJiAtgSmNb2tL4aGWP85/ICA0YaO4MZDYWYnV9Cusb6\n",
       "sr4/dHpu5MlaXLgGbK2OZcP9WBnUpinWWeEmnf//mbFwmZ5FfGli60nVTJSWOOR6nQjLHs9p+s7T\n",
       "oHutr1Eysi5TGwwzo8/qCkx5pHGsr6IdWhvh9LbxTCRGEQkealYqc5kmRwIIpQHQKf/yhwGujYV2\n",
       "1o7MEDixhB7ewDzyxzz857Z2/5D4MujhjFKHu0r5h9XXFWkIpq9x1gmNBzcHWe2KAZyE7R7rqeeq\n",
       "LhqBn57UO27TMJ+qpzWpkd94C0frReiUfY/gB0AGKV5VoRIyCqcACOmom31Au/ybYpoAV5Hxp+lN\n",
       "GtopnhqQqsjCOOmuR+DZ7Ep5e0MN0lqt4fT3b5Zifldb3XQg+7nuoM3/U61ZkAf8tgtrft+8YRKs\n",
       "Ig7OEABnoAxBOQ4B8NI26q4lEIaElJsDZUgDEg1r3Qd2fwUZna6dWVZqp0iv63552rXV/lmjQulh\n",
       "TK1MmHI1omE/hL9TkA7NrYssabA9qn4ITFjQVEyHTKnVHQwW/iaFQiHo2xtW/dYXs81r1z367L76\n",
       "Rgg7p9NWXxiYJdkI5n0zGw6e5BnpGflCgbnFCgRxSxMfYpAV2E0hM4tjS9CTYUAYq5tAaouNhJc0\n",
       "1Yd903PnNtHVqBIxtHes5y/3uNUi0eNJ1XlGFyLsV4XL2mzpAQk/3mCBqm7FGaaLW/iM35xFPP3f\n",
       "IMVmprl/rwO7c02R1PK1sJh26Zr3PyWJAO+56ibuLUCLlLyNi7FjYsdHTaQhWHmYOF5n1s04VQC7\n",
       "ux2uTwsydV8PupYxeTbTy6b5ah8B/tO2TgGiyRkfHyiJ0dpxL7ky44MJ3ZPTncMt7ONc+9iXE8gM\n",
       "o8gSsHJYfS3vjT0iH8VV7FI9rfz15MI+krchTPfW+e1bo6ldP3WBzwEl1i9kE2crkOs9JxGl7xaK\n",
       "FtEpK2E7r+r+G6sZ+Qv5vSZ2EBQLpqexheRnVMot/3gXH/Q4J+wS2tZNrwntexcENeMq24zY5cX7\n",
       "DxskS4L1rqmXofxNwbvx28F8bDFFuJmgx8fXOfIDZUYmt6UWv0zoBuvukx5Yyr3bJlxmOkj8T90F\n",
       "gqizXXX/Svo0b5QdWD2dmShNCeJcC3u5c+fn/c/f1KFfywqKimhl3qbcj42lWEUQM6OQeraw64L6\n",
       "gPBQiAY802Z/wc8/Tdo0rqDH3UHNIVDAF/NOT7XDOJwqzf4p/FN7cdIy7h9m5yOqOQiJ8HNkuQkL\n",
       "6VQs7pJTiW7xk0yQmAlV00X12OHYXZfm5mq2snLVn5BSf6P0+uxqcFGj1xxgC3H2Dz6ooGqrJp0/\n",
       "I26y6Tpcm9nwyKKdug6jvgBXr8Nb5Rh7jvZQPYDpkDsKgwjpavzaU8+Kl44ztQfK1zNeXcdACZLQ\n",
       "OFYN1w74BLX8I9n3JuhIP5WHxQKeZLrjswz+X/5xGemtcDbbvf287q2qPdSuUsqbBZbwZiVd5WXS\n",
       "/KaS36NkVpGbMgkC1PzNpUpZtU4flneY+pA6LLoRAvBlA5oYGT7i/37aYkRuVHfoTqyJfZT5dSg+\n",
       "KBHXmydqTKNcBtObKJU1zfFdb6uyaGokDsJUynae3MBXBUXrMHfZQxj8AIj0o6SdqLGu0aIFu7oF\n",
       "wY3pluTqMzCkOwPpLq7TJXiaTbGIsSEcAOhYr7dqD1S6cnJILOlAt2s7+7AHyCOl+aI9us+Wj7Mr\n",
       "Ukrtvg9BtwsZEoeEgkNjderXPLkcQlV19x9kz2nQdaLf+BkHKz5XZIwACpgAAAEUQZ7KRRUsEP8A\n",
       "AHVMyGdH5ppXABNEPhbPiRDXud7tjVmpUP3Bbg3KJuQeQjciWe4rHCmuzVwh4bvh8fDA9eRMEWXl\n",
       "pMsF3atDZh1sY+SX3sv8nfXn8pZTCIm+8yoAZHI4bCmEKQDZsShxdp2gCkok7iwTgTsFcAADB0RO\n",
       "vmX/jM5fSZBMi5Xf3/6K/h27vtJX98FsBY/8+lNYiwEZkoF3DIF5rqx/O4+sS0Jz22MCF0ueSNDD\n",
       "86DOR+owgykLUFtTMJoE0lcQtPVpylbAz2IbsMS8/PrMTQ6zRVvUR1kcC0yfueeM4TXR1lHhxsxq\n",
       "u87HxlcsXNiArNK83Xre01j7y5zAADWxc0DlY0Up7FLQDdNIaQIvAAAA+gGe6XRD/wABBYxWhqFO\n",
       "fm5JpABDihGUod1vEKoqUMZ/8uGvqS4R6TRaf1fxdQnAnT4BHSLAQhlLKmgVB1jRKmkRyiSzVYgo\n",
       "TJmbtsuW2BAlFcqFkSWniUcyRYa95xXtuP8f7wjDhARYA2ib8MaLNgKyUBrXQA8X0EAuaMasQ+ZG\n",
       "BH+D6q6tkELL+8pn6VT/+l3BZlpd+rK/wvUnDmbMC/LjNMuH4Xql3MNEwBpx0EebWaG7qA3NjCFL\n",
       "IAMmNTTlHBAJiJX57OXeZgEwIPWYKFn58FoJtwzQVX9yRUPwuZAKcJXaELeafSDbLSc5XYHfVAuk\n",
       "c2qa3j32A7oAAAEcAZ7rakP/AAEFgzg//Tjx3jgAQ4oR972Gn9gSvUtjkTYB3+H+7WVIwvdqgSN9\n",
       "rf8rUUoB4pnTzupBvdhbXoxaTOMiNkggOhdobOcxPXOfYjnnvBWKBXTdmDCeYl8goXZonWbFFi3j\n",
       "1PcYzuXEyeBGP8wEIurf9VVPzZrW6Gp41T4RvFME7GaNO+KotlKOV9krs8hZvWpDkO3H76ZUr3V8\n",
       "UayYKAzDi7jSN1ngiVHyodL9jNOJtlNSC5eNI97qmPhOwi7MxLdcSdgn/ByIC8F4LSwDhBhwBX+B\n",
       "7HyKzFKq6irq8v6JdugDp9f/gokrdTiVVuYD4BhEi4v6B59ggSKbsMcwZuuJUUmNY7RJSOgpW25g\n",
       "ZOaHJT6thIXQJWAAAA2/QZrwSahBbJlMCCn//taMsAAYqqmaOtpaoACXX+tgWbv8CZNgsB4+ABCQ\n",
       "5p4NEN5vNpvTQKWeiZ/SurWmUDoeLHETa9pyCoK5TVvrh0vpiJrp30/3e+L+1cFewHCg/tu9aG+p\n",
       "BxqPM8v3sG1fhJ4pWS8Mb+84CRBP8HwXNy+1BWnDcg2wUWcjkhdWbcX4dSc6kz/QNIj3FzVDTg2N\n",
       "8d5rhvhFQGmnsXV0kVdBYDc3e6XWJQECDEtCROIdesJIoySh/BLnnh+3fkFFE1vVVbdt3NVzj1aw\n",
       "7dhnEbKi+4mvrNwClRUD4A41ieXBuucn+Ub5aaQPMF/hQxQil0EK356MIWsmZppwenrOd/H+chrF\n",
       "C2ivlI4LL5bXTowPMXexP+8B6lD/HwcsOXwHqzCT6z+ouvSJi7gfuMz34lSn/zYpVhTbdtLqYiRc\n",
       "QkSEgCXhHawdKocl2xvqWQfRNFOuMtGDtrq6NcwA4QtUEdkr/11iS/lsL8V+pNaZNo6F8h9gIpVB\n",
       "yWz7dNl8YrSfQkk99f1h7Q3X48jEaAodyFTUe4Wvts3UOLVCDTYtx6h4dLvMoCJvlz1UxHwFbWg1\n",
       "ggGqc0T4FkAfKpsYjzbd11VivTllWZDfmOuH91yeiWWH5K93/bsm37D1unNTszC6WM4i83iH5xAM\n",
       "yLNHFWA9kUDecxkEgFQuYmUylF3za+mOMkicifcPqHMGCNF1aPJdr6ATgYxbtCQO/8eRnbQSuhJW\n",
       "sWnxl8RmWjHpMxCrIjPoOO8I05NdrjMghKPFYgOSjbi1zuLKSw5joL8uRjFspeWHr9AtukXhuA5Y\n",
       "EqHC7ElHBHq6lCYf686p3mxZX8Y4bOvopARaUQkvEyW1kpFKfwBE3i8/NU1GhB6YGHfkLu9c4rZJ\n",
       "MbCFFDhoqVwum2YHSoZ4j2UHNEMcJC6FYo1KoTFM2Gr7A8P+THM0+OxIi4UutTcsL6ULF0q0GaW3\n",
       "twSGSN5K+RYPFIOeXlEuxdidW76a0+d6lv/E6bOLhuWrbwghsU85UqN+QMEvqCS47U5XaGrupB4s\n",
       "emHBT1h23sQa5tFLzzRSq78GrLuO5fH1e5rS7IzaEsgiUIXtJkBesrSncvhB0uFKlcgEJV0wCNVy\n",
       "rAKCoTyfdCBNWdIe6EbzuCfQB1LU+MDOWdfwlsQ3TL3GHJNtpdJXdbfxEBojek+Kji9vOA5fFtWb\n",
       "3++sQrv1BBHKw0F1qAZmsm52t9oL6ONm3FjqMiz7rZtaYjMuVaT12uWlw6OS+8APWE4dWA7jY4wO\n",
       "xlmuJwYoYygD6vTGxO7AXAw+WshiLsBa+27knqAv32qnw/dIxRNdzbYwG5vXcfEI6RPAyYteRdVj\n",
       "Bx5J3cn1KRv1tIhf0glTT7nxboxHFAp9U2N9qVX9kfxikM2KoKqV+MjGgby6oU1Orx7XnfKDk2jH\n",
       "uncgUt1KgbNvnuCDcQ8Fb1CJWslr7y3jPBd1EUTZiUbeuj87fnG2R5p5SQcGxWwMUhe32IeL0XXc\n",
       "FT7EQDoXWD0D7WcOZw71xkrMk5jfbvxvtQrJvIgktiSyMKnpaCeQRjO3E78ujX4mATzfiyrk8D/v\n",
       "8pjVRbvEcOapNjUnoxgqGDhSi7J4So0QtXu3Yd43Tfdr7GoPCcWf/gDpsvK5WYIne42rcNL8oFBR\n",
       "xlaU5QLdrdFPz52BBdWwUFEmYO6jqaadyuhgegRj6LZwzmVojFbvd+q4fdCfvMrRKVm+XCowe5nC\n",
       "7nrrhK81CtXZlExVm5zQEA/sdr4RR3V2IiYwN1f/bMTgAbOzp5i4Unuvt3tq1y86z/22xQRcs4NY\n",
       "KRBwyLtQfzAb0kS9u0Oa9Y7uHvyES1hN3B7B0HpAA/Rqr7hWJV0KU+fd7HkUDb2sGTHFwSLGDxck\n",
       "iKF3qlrKxJeZf2XWxiSv0hdjme69jCrtwf3+SMnPiNKV91IFzOJkPrOiWjc0DuJ5Zss24E+J5gX5\n",
       "EAqpmrIGKqZvVBQffLiQZKVZssu0V4y5zuT6oIUNJDwjKlQ7oQd2JdEYlonIs+Y5ucE4mOtVzVED\n",
       "bHLJ82pmnfG8Nnwbgs0uR7tjXRGK8+3DNHhDNz7/Onz2h0786r6qBugvLthtyMpTJQM47UCy0D45\n",
       "NvyPiraIhAKX/fXWjRFqHp9y3F9FWIREurBaxl5iNjAq/WzB9iN4vn77VQvcnNGzt+hPMkdcJ5pB\n",
       "TXq7pqDD63njrGfRid6k3AzV0jsXhEyBF0F6eWlNUriu/grRIAfYEkgTLlJl12MHkZ4nabJFqvYT\n",
       "EBfel055jaELxQcIY1Gbx6zfrRbs4VIlsr/qV5VnTbMWnLuAoWO5wZgiN+0DGbL0x7KNEcIMun24\n",
       "5o4l9Djvzj3rWy4YmTVoANmNFjfHlgsQSqfqi80SgOtBPMPHmfhqX7x1YslbhYkWf8bdE3M8GtW2\n",
       "xEgfEmtCZxPuN/48foR5JTYKqRh0w3Hpgj/d7vWoSOAqRSFQSxd2J0R74WdIdS44Ro+eTHMXWvt8\n",
       "u4/P0psQk6v18gxpaLBsQhz70DwwK8IRbK3x+MoTUMwGB8aTm3QXkDntX/gt3s7N4mrysIdX177m\n",
       "PRJCwgrU2q8PGb+qjxEjpcQKDfCestg57dHcSPQvh6+9Z1oo2mEAqdmH1IaBgDuZaA6ehtFTbucu\n",
       "F85EgmSxThShUTUXR9N5FkJoSjHVCcvh4v4CEizU5RUy8s149Ol/7RP7vfjC/uYRiO6g0Dt+/VAC\n",
       "oOMMi6E3ShKLOEhJvbBCMeM2mUrty4c68vr3rAi8bc/9L4d91hMBjYwX+x5N+Hg3lxUmOJNRQNug\n",
       "19q/uTJvoHbZnoKMpDXNFgT+jiHE5z0xmlMnvIdJHxmIKF531xwNludxhSdXBdt43v9SmJXjoe2k\n",
       "xw4uqkWsCcMpbejpv0PjaAk+h7FNESFQqXMfxtuQFncfveWFvazrBmlqIXqnohI1Rvhh+81DN4W6\n",
       "hiQqHrzdYTYy3Y6UCJvTuGBbahtr2DdOiikLgZXk7NMbEY2CWGCFi/DmRXJrfVWdiAuz66qVNt62\n",
       "F4cmDuR7HfvizPNp0Hu/hIdWgLN5crOztXEyagtlT3RPg8K7Bpv0rV6owfP/jwivMtThAkq+HUlj\n",
       "X59XXNYyjtPsm+Eaq7NIN3KAeOYx1YU0cNL570SzuabQ72tcrMNotcKmB4CQ3Bv/P3HsXDdKyIKL\n",
       "BH/v2Znm0Y2yp+5m38tERjQM8HZbGwU/9NTsOFl424vGBO5LQSZSwNStvEueoNzHW4rlmPkBj9Z5\n",
       "OVBR/PpS93mbnlTSyKe8hSbRBUSIMlZYdma4ca64O4qTHEQKwQPv6MvmhkOKFKCnhKzrcV58Yt2e\n",
       "JwZEh9Pq3Qc0f7f850Pe7816UoHacllu02ayPnQUVbU5UiU/ycirzJLoHWZnuiMK82FFJ/kMWM/O\n",
       "n35dU0yelaX2Tyr6MRkzvhaQ7eH9IbAo0Ij+heTqu+hHdc8VLKdPdCzMlhxeO0FxQFZnFJKWaXrH\n",
       "DipBRRLNowuRAIGlxgdsfVzzqyv2vogPP5oocnbhXUBsQcQ0489HeevVLUAL5OAE+Hy39XkOJVJa\n",
       "lSRg+OQX5OCy4ZIhnTBjNHsLhGQpKNbu+TU1gtCyvh4Rmt9dA6WQGDWlqmFd+p+FL4+4KiW6gVvt\n",
       "hiKSmD40rDYfEM0+Bon3Egj8mi9+G5r2iTjduuwBw0+XmgRv2KEzZz/WVVDdAJLLrB5ijGnhFWQz\n",
       "EvzUMdq8JPlNshBWSf2zvXwA7c57S884IupACzxp+ttomuoW/Olef2lrx3Gyl43Csk60t6gQlY3q\n",
       "6tlq9AIi7PwxlOL2IY9kiLfR8bnGLM0t994Se6zC9oGGHlzX69TnK8mHOQuuzcOPbpWt8xVkEIWJ\n",
       "9iagFUlNrkItDplXUA9RWifXVDk6/shteTIPKL3Z/fLY8pVtjm9RFFN00P6CzYOrU3rq4DWv9blF\n",
       "SYJiph9iTvUbAL0gBSHSU2d6jvRUX7BEAeZWl2RoIyS+9JxOGY2SzjmFXYrL5CCCPGgkzaP9nC2a\n",
       "PIi8Po4Ndwke6WqYN114W/wccSEMr9e2jShfAKl60hHrxS+k5+AG6spTy92hzt7vVQw++cUKYDn+\n",
       "ncMXyztrT01lUWQufX5IRx7ZD5R5VJfnBFn3HIGrfBspwgjFOUPXmS/jeKWBdktQ7uZdGOWcFe5w\n",
       "ecnhNlVVZa6dPKu+3v//XR5ZwBHFWY3dyHs/XAlRfSyZ5XiL6FneBdiHbwy7VBpcm9TucCHlhCSL\n",
       "CqJHZLjDHniHg5+rGdHSAwk9RnaE9ziUoDzsjwzVrU8+lXbPUBmq4AMb+/Qv/1dmH/U55ZGcpk/8\n",
       "zW8TftQdF1MnH7/isgi16iKhEUaecHZytv4UxSym8wmrUX+z+qbK7ld44Y1YWaBw9C3Cn/mN+akn\n",
       "nmnv4R7hiX4n+WOe8LGERzY7JJJOvsD8Stm2Vp0Ij+CnzuoZ5w9JZSnK90dydKi7PhJaoBcmAf5Q\n",
       "aGotGaIbpVdGaz2mQVx+CPCAQIWnlRDD/Cn0YXrYg6WKvVpxNFXRT1O7Ebiaa1ipKCqU71nhtnn1\n",
       "92nQ5XMLmkr5xjYotSHfP0rZoWaP0s6rIhmiGBzFoliU4xNfTxXoH3tEiUWpy9mJcSuLVxDPZGIk\n",
       "WA2V129Pw28zSMrOMfIuBQJ9Vb+aoxzx+gLp0n3bYEKrFb6Ox0nknrJy9ZEitdxNewtOtdpdAAEj\n",
       "AAABEkGfDkUVLBD/AAB1rO/b5j650ALLXFTLdbFaEAGup+enHPcR7Ckmns7dyMYr/XZ4TC1P8yCm\n",
       "IJKFUiEgvC8aBrT5R70f0f0ppOZAs8K94Bm2AMuhaIE3n3IFLNj7DxsDT55zYQ9/0PJaG9G0FJlf\n",
       "0339xWbxKUQfNig+dmmUCbnSjR4IJT+T03QqoomsMNDBpKCbXOdhBC+9AuzeCpmTRItFoQY4NvJi\n",
       "257m16TmoA9KH9c1FR9UwGsRZNoaT70X3TICZUEImr2LkyhiWFx3TRwJL/3VcQxhYyu/U9EzgZth\n",
       "hjYA8ONz4zFZK0a/UEK5cdn9h3yXwpr/FUvcJmi5BDsfzUGHqiPjuygzlxJwBQQAgYEAAAD6AZ8t\n",
       "dEP/AAEFjHB/+nHjvHAAhxQj73sNP7AlepbHImwDv8P92sqRhe7VAkb7W/5WopQDxTOnndSDe7C2\n",
       "vRi0mcZI2OyBf/TP7OcxPXOfYjnnvBWKBXTdmDCeYl8goXZonWbFFi3j1PcYzuXjisHxBoYhRpco\n",
       "IVkJCnEYyxNutuOBXUiS8wePKCGWsMNNF8TCPiUpW9CeWM58xIRhmRUpLsBs+f/hVtwiHQCLDVcF\n",
       "u8ABEAkxSerN4C6PKjEQ3252e1SdBMM9uLg90Z9eKPp8GsApugKPer1/u7ts08AGIe7USlv93fO5\n",
       "S2m6Q6s/5Lc2rSPX7tGAYIABEwAAASoBny9qQ/8AAQWDOD/9OPHeOABDihH3vYaf2BK9S2ORNgHf\n",
       "4f7tZUjC92qBI32t/ytRSgHimdPO6kG92FtejFpM4yI2Rs+L/6Z/ZzmJ65z7Ec894KxQK6bswYTz\n",
       "EvkFC7NE6zYosW8ep7jGd6F6o/62l5PxnSvZFFAOAAeW6wKuTC15cvBEjTNUA9VCGN/8+x5pF4ab\n",
       "RiBVuiEwE6i8tFk/7hSsTwBR48JsPv4N7QDq6JP56KwuNlqnUH9fGdwIcgbWiYN4ZACXaot76VH1\n",
       "k2994rjtjKUW/5BwdZqWoGhEb9AteBa4mFHjfgHr5J9th3CXkKS/GIZ8m9P6J1ajjKJkKHgNn7xJ\n",
       "ZX+DamFNAeftXo1StPHHcxNF1L9Hl8D+wuQfUNoDDAcJ0CmgAAAJakGbNEmoQWyZTAgp//7WjLAA\n",
       "Gy1pQn/kLx6UdYHz5kugtAC4IicWJr4YeZx5aBlEiOKe+lSz2Qi9hu2DetvTsHe9z3zc3VsdaSZE\n",
       "yZFh1/ANOkycd/nWgKhW83z1233UoFAqrUnGtr9rDMaQ3ZeMyIlrgzcVa8OzC4BxhfsZtGwPoLJy\n",
       "Pxsd9PyhwDkWkkoK0IaXV5VXVox6lIzj4HGdErojofDuQylTnQJT5AWmFgEfKCyLMyKRVeeaRNbs\n",
       "QEzUjjm+CQyQzg/FJWcx1/7dt6BpzO4FfMO+9mdnzvWf+gloMgHlnyQHlNtrjeSjvg9084/djNXj\n",
       "tIMdCGM8eEzq6v+deGDLVGkGYK/rC/sFsrcm2krj/Nt6TnWE2l3Gq6skA8aJu2zGSCiypT9UPuqx\n",
       "XmEsIBW+T3fu7mJAe171nq4x9Io4+alXzblKNkkaI0Q8756wpehbO/u2EKcKTF1T32qMWCHw6MLp\n",
       "/Hf6U3xaPaKmm7JUMp1TQCLWem54AysV8+OkVOI9elCWmks7XaiUnbKDiKjXaDVj+lMcthpdnvBI\n",
       "XCf+XpZSXzyHPx/xwcDtliulgx5PTvJ4SVkTi9smtZzFrnsHScqFEzOoOrFXbFhoAOh2EGXg2Kmk\n",
       "W6eIjFg0op0y4mCBsmKgdOyO4Rh9Fsa7cc18Ym5c5zQiv9NpTzbNDllNTV3MT6reI1e/aYRw6fEi\n",
       "ezOfLdRdjTrJTU0lIAsaTFYLCNvJWgdWOxQ2clj/y7sgflPHitB7WLvEBVFWmiU8wqpBoBJSrZ1i\n",
       "RJibvmbzzhVaWYwcc1d+0hNoZtAkDzJczKLpfj3ZqtlTMG938xSU9rL/F3nMAS6EY9EJFnWjLMUe\n",
       "5BPzBzHZNu0rRJZkn38PPk+yE8iIaEZYzR9QOX5MoKU9gPIMIKaN0o/fiE4rr+pE5W9uHNOZo3WM\n",
       "H4zElgviMrxg/siG4tbvxH3rReTGUjQDoDdMw7OHLASYWyPv8Jf19nweYhO5LbOrQxAEap9Dm7Yg\n",
       "8dD/cREHs7Y7pl0aBWH8E+Qlqz8Ad4r8Zzd8sZLUHqzo0zP8Xab6nH+IVQjcBZiVkhJBeaIVqER/\n",
       "WjPnTyhcyne0s2502smkoTc8UUz9XXsbuR8h8JnW97gP3wUffetjCFuxvmmccjXuNtY5QL/QFn8r\n",
       "qD3liVYRBy25Wp3G8+trrxYg4XqRorKa8wakKLyNZbcwz3lK7uJ4U53iC106dx4lWa+n/CprGv4C\n",
       "nrbcShGgeYMVcGFg+ksft2xxayy49ADGCwlBN4Z1Gnns3CGIQ/7YH3WjdXSh7iWMJ8U3hmpzZLhc\n",
       "QhmBZV9wacf5UIBrUUFnvbGuhS1yVFxkxMFyWRndOvHFVWieEQhd5k4YjefbsXFMcDLUfRe0ytE8\n",
       "Qb4QGtg4ZuF4h4MNtJOHJhxYkI9n4XqbjzAJMA5kFhKPnR3S0ckBfRUvZXVyoUrhtZYbzFKv1P4c\n",
       "M46ODmk7WVUwrGIHkziBajLQ45CUYj163hYfvpk6yS6JHhblfJUsdLND+ucbGUes1YPSHVBKdnjN\n",
       "BM4uj7hrjU2qAnH6gGRSrpf836d98ba+pgQgJv4xCVcfqJMkfB1M6n3ntSDaxKP/LkkaIkQGOdOp\n",
       "YhezX0uXcyvGE2EfcpTqr+rACR+UlH1X/3ANx2tvlEIRFba0+U+w3TuYHKOaq571DIp0Lan9rubu\n",
       "TjJuLt+GwXOy1rQs/R4nOWfwst/Kduytby5NDI1tIYbsH7S3XWoZIDdwrF3Y/SFcRbvjp58RphRL\n",
       "JTkAC/ez3KutaBeVcCVO52LntuceVDJWLXWgeJtD7nh2mzg4rbKBvtFXNtdCzMH7+l1I0G6mPy+W\n",
       "0zvZsK7vZ91LPX59JF9cFkKRjQkwgI+obo7/WRuOKczQtXhpufSyKOZysTeluX4ZMZBj7M5KBJuj\n",
       "9vHjfAZmZ6Nd8xxpw/IJew1i/equu6NzTfxfizoR9AT5uWtrOaAvqBAcFZM1PNnct0bC+rgmCIfG\n",
       "RRZKa287UxOjkBnlirGzIoH5d0EIOWhe8W1Z0Qt52KaymyqGiYetEDbd8A1GGc02bZGopbs+HxAy\n",
       "BxE1dMl7476qaI+hlmQB5OYQFsO/fq9tez6VyAm0RZS4wutYedXL88A0UXOlq8V8RsfWOPkNNACl\n",
       "+6JUXCnrShgZ5JFFRanEohRtkZenLXTZwqtRt4JSUPWL5397OM9XIWOZE5rD+6K+0GNqYqoNysmr\n",
       "MHSRBD/56IzhlsVu8NzyOsZlt9c4U3opBHK0wWiuVlr2FUa1yp5zS1uZXBe16hRKpHSC2tj8eCmP\n",
       "g0y8kW//SduDW+X8LcMLGD/og/v96eSwRIxUmNhtUmiIoBcSggo8fLEsdOdqnG+l5gc/Os4fG73F\n",
       "KjsWEdpcBfm+6i0OHgI7ov7Q+bSZdgcD7VDhqI93Y9M9i9pFDZIuT+kqlQzTujPPY3flGGtqGKek\n",
       "B/WrBNVWj29o+j2n315g45KNAO2hDqu5AIomEG3lo5Bz7+8MfuCs4qf/Cg744AfVPABifPAtLPSe\n",
       "wsr4W9jHMxlnBYBEUr607axkU10/CPxOEhyM/V0/3xWXifP2H7xfNeYxt61CV9x5w/8eC8MZExhu\n",
       "uHQ32L8YsUVKqobTfCGujXB2Xe1Zc9pZpZyGjfK9CFRUtSu0HPuKsJoH8fAZpQvn0cc8oH3XzJ9/\n",
       "2kXuB0vcVy7No2W5TN3HdNBVKJZStufofEvF8ViRs9wPoNBRtnqqQFOt+IqtepCOJbylAJeMDsdS\n",
       "CM/OHDu7MtM78TGgHQpSvsYah+qOSyOxNO/vela4uvqNP0uIPYIoz+pxTJtAwLhMe73Esd02+eNu\n",
       "U43HMX958zkzmw5KXLb/GMC+NTp5ObRmnR89u/wNnp6YSUMrx2sNn5qgiCBL7BLjlIyTFEGLLxHm\n",
       "UPuL54TKpC2Z9b23d/oUYyi0ktMPBN2e7twdckR06kDWmqlqmcVTKfWjz4npw9qEwnZAX+2RYbV3\n",
       "7I9kK+0sfyXb+z79xr2THiDpplyBLdLXpUnYM/dPiM8RM6U31ROrPMDaEsMBR/VMLbHZ2+ImpHHA\n",
       "UvVRRJDB/7BPxnlpLrICkm8vN58U9nnEjL//T1vhIkcLr3d7k+/UZQSDjsJczrmZHzelyUBrI+P/\n",
       "pT+zLbgrJ9UPACj6AUSIz/BAUhUhXrcs6si0jEOi/KqIBhQwGeJHkSC349cQhxKCDYI/IsAAAyoA\n",
       "AAEqQZ9SRRUsEP8AAIKtrqu11lw1FsACaNp93qmUg5o0QNi97cK7QOHmtL7vibBpFbPFSEev266m\n",
       "NQ9ZET9Cs5F8juiAI91FAANAWUCQShcLbMcMIjortEDib8Lt00jI12+26ry8ZSdIdN6rTusG/XZv\n",
       "pBift5d9NZoGASWKH4PNcyf0AGIohBPk1So8dHtpf6Ca0jZV2J+boY27/DJuorVBXKi6Rjj3eA1o\n",
       "d+Kg3I/38BT72RkLVu1XbCzjQqeMcF+IwxzirRwrJ9kjjpYTJyhBSKxYLYn8piPp0ziKplAKseI+\n",
       "XvCe1tuf3Xq80OC9M5x126C9GOrNlMHA3LMpvYf/iXzJz/BWgigAeXgn6Fd4VpwUmqd40ib93G1+\n",
       "GxUjFgjS1mOtSU/mEZgJuQAAAQQBn3F0Q/8AAQWMcH/6ceO8cACHFCPvew0/sCV6lscibAO/w/3a\n",
       "ypGF7tUCRvtb/lailAPFM6ed1IN7sLa9GLSZxkjZAM6qpn9nOYnrnPsRzz3grFArpuzBhPMS+QUL\n",
       "s0TrNiixbx6nuXNr6ylRtRF0RZWHceDIZnl0DJhIvifHOlCKkY7kQtC9PynKvpPRASnygulDQlYD\n",
       "1KmLw4K/bh2BVdBX7SXYB3rpnbYnXFVp3OXTYkbjCqUqWG3D91vFDLBg0lpzBOHud4whMC3+p7ET\n",
       "8tyT3ekHoCBAKz8x+sDwRcbdwIcx9BjUtVh2jk4raGS2ZNB65EG0SsqocwfiEjgg1wAHpAAAAQkB\n",
       "n3NqQ/8AASWDW5nHblYWn9OPHuOgBCChH3vYaf2BK9S2ORNgHf4f7tZUjC92qBI32t/ytRSgHimd\n",
       "PO6kG92FtejFpM3eg5ngnDL3vCBXKZ/ZzmJ65z7Ec894KxQK6bswYgW9Vi+vMnsABdmGXXBe1PgV\n",
       "5cwmUtrWWcB39i/SfdV/wFw7xXpvQe1YQLNXJdI4OnXzRVLj1zcwl4rBvEiFnv9CXnzZzLxUgFJ3\n",
       "6Tc0x9M0RR7QomCkBTBkOYuzcugFsKZPK4jYjIZRa+jzkMrkpXvApl/cOW7NetHwZQUD5hoqGfUK\n",
       "B/1/0JCOIKPDfeIxJnqMVHvL0l21gXMoWtJYMV3AvAMeAB3QAAAFK0GbeEmoQWyZTAgp//7WjLAA\n",
       "GKqk+4XCsAA5eNwjt8d/+lkOblp5ipG+wiwjNt+MSQuqi7+42SMQEFbQoG2JFb3A1sxb66oVePLA\n",
       "/qBWU6xgKeFs/T1+lJzpRGYEt32goKLmRGbktoSAv9hDgopSwNGvKZdkv7csuozGhLMCVrMmkSl1\n",
       "xTbY9T2UWnQrdFUTlqigv+byEw4l+1FQoAq8DLFQ5dcdp2gur5f/h24DfgqNRTEnt/k+KUGJDNdV\n",
       "K5IYHjZD/1ni97jsVR8bKWW9lF4kH1RaUGgnLNrgUFPZI6yv8IuMf9FGU/tn6UbTrpgSJR1RN2kA\n",
       "kWOuw3MTRaJQd+E5rIAQboAce5QxGvg0/FijrrPlkq4nWzZDq0tuBSv/hLRfItR4bLHkg9wGDFAx\n",
       "XLDjbUyPYV+zgIG97Zm+EPjzlKtmmtWm/FhnDkfO4wgrro5B1Kw+JkC3ZWu5g8iz34tp570iPPqL\n",
       "wymwjaewI/r3QouzcxI6dxht8IDKC6yq+vzl/YcSWQQN66uC8E4N4w+5jCGXpdABnEXn0fkJbG+i\n",
       "ZU+R5mkn0pgngr/zHOijRGrQ3ffdvrYFR4iFmZKaCSVx00D05mhy8s2Dv98XvWW8sgfnzIHCBz4o\n",
       "MnQ6TFE2Z2pX4EDOG2L83lta0K4ZS4c8umbUmnI73URkhG5ZuN4s0eDALnVftPPMw5F5jpPcxoQp\n",
       "XnVrFzT1jYRjR/iA50RTmjvPkFwEBpxwAAjTwBUgs2avVyK4QGsNHxNqg2RAmtEDog29dwSyHALV\n",
       "ucQ9jMSg6QcQAgmdOIWx+ITbHW76pHrrLQ2ULSwXOIGmJ/H1SlY8O5I5j4A3eJPc6WtEKn5ZzFAf\n",
       "kZ22W5K2szi/mO4xL5KHXHl214aeN1AM1wSJXLI/HutpOS1dXznmqbWawTfuXEgJk43Czm9mgiFZ\n",
       "MWFPJjx5LNigRb0EH8tv3v5ducWd4iBMCjzZKV9SMJsmovuZTAJcdAMHtGwxv9f/GI3MQTxTNyny\n",
       "l+exPBeTJNfPBN+qduFWM7Ud4QGt/M/hxL+gLc4LNb4ehd9Mcmf52xl8hRKg51KUSw6C4AZPOH8d\n",
       "dJzbpWjpq/1Pr1vAfiA0bGx0KO4xtlHuaep7JR02uInGb1eJVzPOxvcXyfdb1bdcJnPNJ6X3wdIx\n",
       "sHmNowe4yy1PxXSDBG7WvMbCYnccOSMGZwSCAchmBHc1aUn9XL0kEHZwIqLM/xVUAZ3jYbnRLPAA\n",
       "Tw7rxLRHmzyoXsAl4yOffF8Ne76xoM7QXgqAdtLYzLL0MjC6yEgetw6Jb6vnkZlj772WT5PDl1JK\n",
       "3WMSj2Q+ClfoXv3XxpbfdMXM2wAQV9wIMvCjV7Xo7Ar6/D69fW1CNtNXugZnbO1XxLANLqg30dhm\n",
       "ZOdBC3iaIvMzlpJz6rD5v2zQU9/GPWZ1ndYrrAaWrrzVj39B9L8L4aoTvqNdTbVV4lNG2fhlf35V\n",
       "jseTSpNcX76sW0wEKgWIki1qg98wVSmc5j94HcWiyVj4A/wLyf37ttNvwo0IQdas4iI2mkuLbcvf\n",
       "x/enVLqdd1O/2HoajiW049JI5KNV79xfH/KzPCl4whcrC+I8+UNQAlK+dRRVLPZeKxDXCZAvx0BD\n",
       "eyVQe6MmKz0yHya9Oqbi7wB5R/cDGoK7MaZ91TX+qeRQxUL9DFv4IP/B1J/jASj3d4Hssqr06EiC\n",
       "aBSfPFTHKSS3+Z2L+Zj1oeg8qVd2GdvWitnokUJRoVNparjOn1Q8nZZmCw6eZaRc9DWNZwAAAThB\n",
       "n5ZFFSwQ/wAAdU8DWmAPDgAWyVkjVlCjAHLR+X8s76WTH7zhS1HWA/BoamkYHGt6F0CqD4C8dwMx\n",
       "AlnR8+6lJdSmirubIOfrsO3J7vkSOWtZ7AE+BZWx6U0ZtxWGU/pXNk37pVAMrAJCnKcmnPKEMk6d\n",
       "O6Mcx+c5Hrb648iiiWkMh5y0z17xALk6qMporOu3pPkIUcJMX9p30VonyVny7S4Cl+hGu3HOEchx\n",
       "ed9fPCzWJM/nhKV2uyHaGHh0pSek5hK/JY/Vb5JCDzNvp0oAELRzIDhx7UPzwLQCe9fD5jJdoMVe\n",
       "Wgrq1WrFObrw7yOx5Ld+ttvXZG/YlVxeRIxGgFfnPOW/zPYLnoYIS4K0nu9/MZUrsZO8hHddHFyH\n",
       "5EyBXvxebEgT1QJa1J8NrOXPARqeUbbYAbMAAAEjAZ+1dEP/AAEFjKtDr1AB3PFDUfj0bphhD1vS\n",
       "w8odyCYW88qYib4llAvxD4c89i5XX7ZvJQHZmCC+q9BijBwOsZbQAEBATyuBeve1fe/yeUmzUit0\n",
       "a7bzsGg/trsdSp71nt+YVFXhXrr4lOwbbGvGFsoy/kvvxv6fD93s6swapbXfQYg9iv94+K9WpJGJ\n",
       "n194h482VluqDDix6qCW9D3lBl3cZEUIcYkRAV6WiFOxFW8B6dkAdCOmYcEl+Oo14xH8BQoLxZ50\n",
       "VLSIh3SR5Lb4YkYdrrDbwQgu3EKBE5b56X68nacXdYj1XDreq1iwJD6dqS+wvg+xJiVGKzzKQs4a\n",
       "1Qf/jiqOXkvkhSbcQc3D+xC++xopiM0iYXDyPchEyqrzaAVNAAABLwGft2pD/wABBYNapEwACT0F\n",
       "DUfj0bphhD1vSw8odyCYW88qYib4llAvxD4c89jmSj7ZvJQHZmCC+q9BijBwOsZbQAEBATyuBeve\n",
       "1fe/yeUmzUityWljc5BoP7a7HUqe9Z7fmFRV4V66+JTsG2ya6lhSjL+S+/G/p8P3ezqzBqlsADin\n",
       "/3VqGxBLseiPM5Bc4BJChLktQQhR6mL794K9U7oNSMqxdKDisVu/KZA9kYrkh2mpo4BmSY3RNf2O\n",
       "SmsDO9YoBfsbeDfpWGnsEzhsdHnzbywiY+zaM+ehwP9NyQPpywqt+PV6fbivXYDevy3mO/opoNcd\n",
       "0lQMf1V3prFKr0EqPC3RR5oIIDGkHr0q0zl9afpR3QCOCdJJcQFBzH/VizcJEOc6cQai5UoAqgAC\n",
       "VwAABtFBm7xJqEFsmUwIKf/+1oywABivLRklMAAy77PE7bNWnVaeiOn1kst7v3Fh35TDZEykPAKA\n",
       "BJDv82h8IbDPDBb0x4l9+TKqGJXp8kT0KP2TJHlvcWIqdTd97xakfFSledqU2ZEutZtZjizbTvpx\n",
       "HdixM6I+vPAEVqwZCpPRwtv7Zxjb347WRt0g/z3nsVEP1W9mCUIik7OF7o4AAEcjUPJQ43l/xnAX\n",
       "zOFK9oJHdC2N2xW6Am4RcWicJn0Uk3fjnNn2RazTFnn2V09sjLlBRYYo94beFxiRVMxBI9S3ZyPj\n",
       "BtKiozDJkYUj3mm+c8uI8ZJCn8OvDyAGpY2fhgkeZKoVZdLemxgAo/3tJ+6FzX/7w+6yLDeBeJSg\n",
       "DhXYW4FaugIAYVNuOjsZBDWxj+prSJjmnS0QtZE+PUJfftQV5uuA+5jczTjtzMHT7qR4UayV4Ho5\n",
       "uCdAmADJQ0a0QK7QTfr1DzrXKxPWao0ldALLQ2v4UXkTkTsexrXC2I0DxItsFFj5GNjI3OVFctcY\n",
       "5zUc2FfKnWfuy10acHUBzoXyxU3cQkFMyMuCEKk+7km/GaDeJSWYf8lTg0j620vuc/42XYlbup0l\n",
       "OndU3fetDvfM9iesOgRo9lGAoYH3fkNLFKTcjSVo/sOTukvNj9/DwEfou/g1TKAKmKbkAfI4mF7g\n",
       "bSD+hce1RChbpaSweNwfTs8Z532htS5Agx5b3iYrEYCmFJCctuD+tMi2EglTI4GiySikyUACu5my\n",
       "uZ0CYrcjOncTzsoEbqrtphZnpeVAUMYOzuUkqorUH+gi7ohrSNm5bQlA5tzL32+SqviOL3XsZ61p\n",
       "q5bclHv64FRlz/03lLbpDO1mybcK+S66YtxFFrgE2zJvvKco2GWRPw1NPzZ8xTBDgloHZ0d0c3jk\n",
       "s2mbZ6kxpo9CIfM9byo4gmbZxqhC8Zf3lUUthIsoSTTNJyA6FhQZReTH1UtGTX/Up8EhRcLmNv/J\n",
       "CYe40IgT3FhYwqhBiPquGBxLbOr7flGifOvRC4ifu7nOKbD6aVmzQcFv4Q+MXTyEi5Y3yWwWejKE\n",
       "hwp3sX6qFUQEUlEkVdiMMbd+im4NIopT3vjOP4yFdXmJ5552qvQ+Eu6Gr62daybeiBGkKUrcX1mU\n",
       "eW5lyCmGuQuMFyx6H7XJT/8+VgtRe2sx+0k+SC1GiSJdM+ts+5OfG59DzZUjgxgmSLOd27jWCZ6H\n",
       "pGQy183qw5Lv0d/Q4IR+ixhGYWltQSBmV0vMdgC08qc56GbXnD3tZiDbHiaKwlZLdWgOn39vcekC\n",
       "DOSa5pNGleARanB7NqNaJchG+hlpAPc3CPGtklq3VoSTngyxVvAhNLPOvoPUi2j/q9ZiJwA8olU1\n",
       "ToaufkwhXOXZysVaDRuxbEzrrWZDmYz+KSF4d1NnlG0A6LsHOtGaC3dS3z2xvIG4rCFDQWmiVhaY\n",
       "bToFNHuia741OIdR7KJrjhTfJP+NhbPZrGduLQb3iXstBjDhHPHbLZYpplM6zHn8SbfL3gNZN3x9\n",
       "0LF1be3173qL+x98GpiHqT/c9/sw8kMuivRYm9hIQSzrmYiyjJdT0V4GV/FelgHbjlRJjy5Hlmd3\n",
       "y3MjuQr9ljlavTBVgBnUZcEov9vxbZiLFUdX6OW5kLERqdiRqs0dchcpH5JwisU9FjrgrDzrP+w7\n",
       "OwLhCsV8PcLXEqe01SFJH86PnzZWaBpaRIOPlQmA7C9+wKTaKXhUzVcaZfDEkeGw8ECxGsVvleEa\n",
       "5TOmI4/negNDnPp+8kRbIgwsiQ+IaWASUAakaV7xZkyeJtBiPtl2MuffG8XWCpFxNNvXHWXOlOPF\n",
       "KRteS4nT8+bwuC5RGq7/AB6ycfCsFDwtwr1nQ6GTe7ogF5TyJeEDjNzs0pF1kfUG+5NpxAX9/F6i\n",
       "pvzaDJsUz03qT6RjhJfLn/+i4N+w23vRzHxBbuX75tq9uWTtslxwORNrqGi0ir5hGsJQT1t3IRoX\n",
       "OoGj5ccQ2BumoNrU88ENH17abfK6t1iTYq4B+wpb7FACa9wR7P51rRlNCwOM+L0xCOnzbF6Vt3LN\n",
       "L0MY1/ORXR7/E/9pTO46DSV9DqFgNE21SPqeUnokLivK6W8c0E2xBarOS6cR0e9FFHizXighjGCZ\n",
       "9i7uRXbiy0s1HGQcE99TP5OnbkfuXLvZGEzEsHUmwkJmLmwSy3KZcqmPNidc9rmNp81SMPOraNZa\n",
       "KMCHDsw1mgVYBf5RCamZ8s+S5t9b4ayfmAeqhCf8xaU+oEJhfUzrlXWk1bwD5cFXkbUQmRNhMXWV\n",
       "ws2xyOtBJANFD3azpjZuCa2/18fNPFKgn32VxwQGt7iG9b27ucC7dgAAAS5Bn9pFFSwQ/wAAdVY5\n",
       "MACapk6QvTPdaD6Sokek40jaiPmbIAaoiD0YVCnZz/6zM3fdP9x4hYMKqb1lrr84Oc8pXrx00/6a\n",
       "qzpM/FJyz5xlWanKe2vJNMej6MnN10UxHJCNBLgXsu2YWYXKla3OpwRZH2DUTsixyWJaUwX+ukox\n",
       "YiLWBg8JIBjubmqE0efLAYcmudMtT/mcdRZIoupPNma17SR8P8izTQfCK0pWn/x5WXG9DgqbYcqN\n",
       "p6IRgop8T0mrSHNn/R4hY8JSGV9IOIH8nnqEcnzJcoDCJkc8HDKxw1hMq8QSupOa6b679lB7jm9X\n",
       "RcJvOTQut2B2WWlut7q3QDaCVxoIK0YmDBvMfZ0ilrIjZV5EoZ1bncCYx697Jk7P/Tb7D7Uq9AbS\n",
       "EHADAwAAASABn/l0Q/8AAQWMpXsRgAEnoKGo/Ho3TDCHrelh5Q7kEwt55UxE3xLKBRGS3Z9xmVq6\n",
       "0VqcZ+Ymxl9V6DFGDgdYy2gAICAnlcC9e9q+9/k8pNmpFbo/NPYCqqDQf212OpU96z2/MKirwr11\n",
       "8SnYNthuaZbKMv5L78b+nw/d7OrMGqWxKY6rMAj+80v/u/FvZBeZx72dMA5+ctT2LIXFQOEAcFs6\n",
       "bcwdkU7QaDHo6p86Nh66y8YRKN4ShunvO4wQnCnTPhQzS+a9SsAtxgkak6IJq3KsWPPA3NFxLGet\n",
       "Un9pI7SmyXqQOP1PyQpox9sTGpqvyyHmm3OrFoSbo7tmfY7UfX5erC0nkQpjbNWQjaivCtde5yYf\n",
       "oHZDGEH8QNZMAjYAAAEtAZ/7akP/AAEFg1LCCMAAk9BQ1H49G6YYQ9b0sPKHcgmFvPKmIm+JZQL8\n",
       "Q+HPPY5ko+2byUB2ZggvqvQYowcDrGW0ABAQE8rgXr3tX3v8nlJs1Irc51dduwaD+2ux1KnvWe35\n",
       "hRu+S++4XQ7Ca8oZ3/A6Mv7L78b+nW7vbOrMGqWxKUREnVX+QxU8svEbSCNGF3s3norVVL/hq4c7\n",
       "JK/ZDZr6MhjqZGwlYbdxt9Da0SkwQhmI82kf8MsISZawlgvYdbBgjFYd5bDPjxme5UCJbKtAsFpK\n",
       "AYWmvC3SGGprxmXpNBw57mXU+DRhpznhOGptMYNGNkeqKEHmPcKb2wUSfBSUuGj5RyBnWAlUiwZv\n",
       "ehnDoyq7L9dQxbGrvR0gbauod67upf7fEhPGIQAbMQAAC9pBm+BJqEFsmUwIKf/+1oywABi5n+S7\n",
       "AAqVTIR8QBOd1RFmvpmSUR9RMpixbbklnktr1J5lSstesPEcK80N5UbUEUx/bPvr0KX0AzbYRz60\n",
       "pWCK0S4Xl/S7lCViYZqWxvwiC5Mtnn9bxlr473iu2zC55ttrRFM7w/+F70jarrzyJ/TkPahzmt+O\n",
       "6nMKULeQaO8tl3JQBGRc2W8hPasZiS3mLOZ+fVxBwrUmONaw+5sqO1yCoKNOIeVYfE3yJ+tW5gG9\n",
       "YqXJkbcfz3nZQv/rTBvNtk/Sr8Lyy4n9MYYW/i3hPYDqkU/EwF3yO+HT6f3XiKVFRJDYfVNA05Rf\n",
       "9mq8Et03MTzEXsfTQPxexID4c/5dDx6GyLw46owC8+PgE6b+JiIzPSrWRcuVe7dN6rV8JPnyskQF\n",
       "Cr0PpJyPDesY8j+b4lzENIoEhBv0hdX39IJsrsbD828OChS7cIvRx9f+0AdvFuWOUn1wxEJIURoQ\n",
       "2C9vbrlyZbyakR9h6/8ISE90oRwPoryIhItd+1c/EmUusJ6Q2JnlbdGwqkG/aECz89yrk3RRjeVV\n",
       "2p7bTSvSsJX8kAGlzBxiTyMr+6R29zgVSiC042uKFYbiMjs6oGBfvOHjsCptsUr96HpDtEbLTs5m\n",
       "yJYccXdPR58oUt6JM8bxNYTPlCQAI1OWRo+G2L17XApYKYm/jJ63C7XEWT70s5LaikzDMPuvRBOY\n",
       "f0pZOg2zfyvuiqnRc/IAMOmpdNb3bSLbREwLZpgDO9z99Uh/NKU0KWF+rtdX3V8CNsBSUhmEP9nq\n",
       "Z7tpiPffNff7dltMJZirRNMOwu9rJguHbrP52U4+V4an/qVjGZx7ZSQpG2fxX8CHd0EXWlvOUOZ8\n",
       "GgeuQrBTAosz0YgwXzKSnIDW1ggYXOlLBsAJrCebON9Gl1P03q4hPKFeH294zJClNSJp0iM88xob\n",
       "qAxAQ24RnLVM9jAsOZsOk3aBuuPrUSK9SSNkoP9OuxVhpcJ4ZwaaHqBNXg1i8Krmc042JA9Y+1vZ\n",
       "Tufd9GU2ZOuqMu+xoo2V2P25TVPaHLYlELjMR3YrxPkpte2+oRsmVXMgM5gOotbbtH5foL2xng6n\n",
       "7mSEMcdr6xMX8WwfhBK3LxychfA094lcm5dOMESOuPrOcGjTREg+eF5KU9G3r4qiqmCUv3E8W8QN\n",
       "Q4HbTzfiP+MvCO5IRHad2T58w1rarHLVVrG/juuYZNQcbZkx6/EFKkBd8Zlub469chofT33d3Gye\n",
       "LgrdBwcwvCtID/epFKQgv+JApIU1WqkYA/7Pn3MXcEe1cCNaHw6ew+Yonu2G/Xtn+ypsP4NUXLq7\n",
       "XIopOBN7BiyStoB8TCjsX+HURl0IW+WLQ6su7KYIs1DRBGV4K7G9a7iCNn7uQiuX0znwH/o1M4hR\n",
       "pjAdxZrZy8c+1okwDsWP9nSS8r+OtzkYSk+6L3ml8cj0dwH57PlvmlvzEBUsbqR/UVMXGYTLdiM4\n",
       "YwCCDwcdavdFxC1JtF3iDRI303IDNV4RdFPrWEafydGT7WRdHmBhsEEzk/9g/gnHgfZQ1b0gL7/O\n",
       "4QYGLd7vve0zyBSJbEoC3XaUpOqPgiwVi8o+jHfAr2vI3rIvG5oUtvg5Z+XK9u+CYKtalat45oQA\n",
       "iInf2zPf1gyTvVdWhRAVYXyslJyOwJonTDTu6OuTdYAo+otW3bmfm9MMgbZSI3Gw0OVfe0kFgdqA\n",
       "ksESDjk9Gpw4dWjhWfn+AmPlilJyRwXQVjewDHcm9Tkjjq90Ig5yf/FQeS+G8cNcsAcbGWWKoC3l\n",
       "B/LZT8nnhtfoaMAe/CF4PdekWXAJgmw+qRa8wRMka0hkLi1bUTLpagV9bAFCKLyrLXwORnc8KN0u\n",
       "0lPSiarHruPBgZOAz+XBiphFhylE7kjHU7hmM3EScXSFLz1lIFT9nP+RHLm80iKFUAWbh5hgDrCk\n",
       "OgL5sqAjOfG8ouRJtrymrQWzBh11ac16uLUzvEinRwYelWHjtdhO49BIAPLOZeM3X/qCY20TUriw\n",
       "gFYB8mzCTnANPNIG9h7Lwv/syFMC15rH5cPN0SvY50r14RGvS2tfyvcgW1AevPQNBaOeRk0Ys+ng\n",
       "8LkUjEoeWMYf16QbGuXGp9gq7GTNmynnIEeM+v9xLl4kaFOLOe3AbS6fkJ/xxb6++BRiQutBun1y\n",
       "EyNRur3yawWtwTHab21P9BisBDSAm0zVSHvQiXOYOw9FCw/0fXcBI0CvKCNw/m4iF9WCgxlGrWiP\n",
       "dsT1E76NICb8qqASRXdUJ6TKGKv2MU0t11oBoLIJaPevYIotkD86HjOtaxztOzuq/uxZSj41yjPe\n",
       "bbyUjpQX9r8IO2ooB1DWzR1Iy2fVQP84gSaOkwPBM5Kni5fIbVpb7Va9VvONcIElaWMeN+sWekV5\n",
       "dj12ou2pszvwQU9K0jNUv7DCF5ldCgnH3LVW6ffHgzarNMnwluAOrlfvoqRdhBVGHw19SxnTSw7l\n",
       "GJCDwBkHwGHC9Iyg1BLE7YVczQdnyZTWouQaVTWOum2+KX8VDMI4bFb212yQKl4vEpCALW2Bz7ZC\n",
       "OzYHgJNshC1Hga7a1rlOClD1xA6D7yEsOrLqhJS7t0V95FeRU63PLBUTxg5XDxhRFK+6zJvb/g0s\n",
       "y8tLRzRcBna4yjQtOsCuY8HHdp8oTAnrFe8fdE9YLMKt9QKCT5ntO+sV03LMshbsNuBPCeLkXUdA\n",
       "VL3EAG0UMR5nnyK3Z3H3BtasndEquvQ8Rqh4NPT2FcShOpLBDBlTcQDNZUwL8fCbA6M6hoE/jszJ\n",
       "s7x5tJ7vR0zvaDeD3Au/EpBrHC8NAgLAmTqM0N32A2nqw5QfLG63zlFPOUfV2QqzgYU3Lz0DQSKE\n",
       "Rv8aJhnlLtirwAu4IdHLcoqt0oWp0/z+I/d6vadc4DkGqgFhVOQGUGsSFMceldulqJr06e3ZyrXg\n",
       "i+rXSLe5QZgojSJO3tMplajuUqZW6TxpTWkVz93qQQy2rqIG0gRGkhlh71/yRwL9pJ72gWYzsci5\n",
       "dROa/2pWlEkLsCuVheWwcBwUjIZkvGx6YbJwOeKH0G69li+gN3Z9pm2Ftv+0LLp16Nw6LQ8wLBiP\n",
       "YGe8qGs7xd4UvrfhD4PjHEZ+ShAsTt8WJno4i6h7kau1IqAqVnoeEqNIdv4h4qvA2UhUpkJ5MlPa\n",
       "Sgfllwoh/aF1/oRFshidcxcHXwlZVJI2ACkHZzch6ZiO83g62/T4i3g9fnZ+dqTynpBV5qCE1gEL\n",
       "AG9JxIZt7eNd/sglT7/EPcRGK/ymLOcGLMo3Z4iIQGoZIsg6DxkGxRX/LyUpkUuoYo5MzsFNWNbd\n",
       "u/zQPVzSTBszbDv2uyLvyOQHQ0kiufplkXE9t65/omxnZE3TaS0X/nd9k4kPgYhza7Wpp5sTPz5W\n",
       "uOeCXoYP6I48CDd7OIuRNQZjDWlXn4IamO9ql9h1DbGbMPG39zmU0DgOe/I7yjBEG9tVKbU2lc0f\n",
       "rrtXt39d2OMi23UhpYnqxgGz1rKwKfxIfGNERdbnw5VmYFnOKFd/nP/KYN/ecdBEW60ENLB6vdGT\n",
       "YSkve0ZMRdYDIdxJV+/tMQOszRCaDoVzPrb2gA9K9wjrLArDVuaslOovH6YwC9duqftggVOEkwQa\n",
       "deHDc7LGn6aIGQDiVXizbOHI1iWWieV/YGl9k/xoPMQQQn6V9aXRf4cuBphuVIz1Y/IbbS+v3udI\n",
       "n3Gih4GCCB6H957m/5++5kVLW54jGssRP85aIm/yhZVOzlCNB9puUCpB8UDi0i9yKydvW9naNRde\n",
       "x4drKiDvGcdxoudgEAhZHoGFcvJ6aEthuavcYXfGhUWC+t1XlSNsjtIrZcp4FVBgRTL8ag+q96IO\n",
       "ZckP6UwhaXpZ0y9HB6IxoMkH3qQRPaS+6YFKady4coU1iU4TakFdTic8LPhb4w1UFK4AIkTGQXzy\n",
       "XkLjcwYh3RVYvnkvW6FcB7TuIgaZgoMVIkRlZObESrevuDcrXZKyIXOG5HKqPv8J9x5ep8vwlNkg\n",
       "CkR4BxEo4cip1qlCe/4Cbh5JbFIFqjFwjet9CYg6D8FbQY/IlkxD9CTnWzicAAWVAAABH0GeHkUV\n",
       "LBD/AAB2ZFqkDPgAEnqhEagnNH0fACdS1Aqc7Arz9XWr89l8ta8GkqZIwFWB9yi513ZEspfLyRZl\n",
       "WhZqTsdoz2Bf6KTYh3/80uOvV5ZPTH0HxziHVpfvjWLoYAruMKki6j8YEDe99qv9PhaX8eajHaHj\n",
       "yIpiQdfp17pQxnsXeFC+NYADWiGHLPryT+DFkf9jAaSaz8YCF9znWySrz1RPaDurlbW8dNBFLM01\n",
       "4+ISI/PGVd91an0egMhUERKr+aIzGBqDUeAClFvkcmfnWyuzPKE9w3SxNl7nPoeI5Rjd4L6v8g7w\n",
       "WfVPnDA1wi57IoDT+kpiTST4gQRdOcSCJZLIqdaKJu5BR/mwrKgs089Xf9fJfk20poF9VgLaAAAB\n",
       "NwGePXRD/wABBOF+m9cAAk9BQ1H49G6YYQ9b0sPKHcgmFvPKmIm+JZQL8Q+HPPY5ko+2byUB2Zgg\n",
       "vqvQYowcDrGW0ABAQE8rgXr3tX3v8nlJs1IrdJxvOdg0H9tdjqVPes9vzCjd8l99wuh2E14XEYWy\n",
       "jL+y+/G/p1u72zqzBqlsADit/3hGIWPthtA0Fo0sA3Vg8FeAkJ+NoMTPjLdTePGijTNYTtPRGK5i\n",
       "grXBDEGN7WJOLuknR3tiaWaIdAEbtHJOo/qVxfWK0+9iYQeDbA2BO908TCC1EYvfTPpdos108rng\n",
       "K7fUHuyZZG/42vub7w1fv9fAzWTZM3k46BeIBIon1lXdLdaTzEyEJZ3CdFM52p4u7Lh1CIzTeRXd\n",
       "uKcyhz/FFwLqxF0xn+/ZBJnDhssWCAktgCLgAAABPgGeP2pD/wABBYNS2404ABJ6ChqPx6N0wwh6\n",
       "3pYeUO5BMLeeVMRN8SygX4h8OeexzJR9s3koDszBBfVegxRg4HWMtoACAgJ5XAvXvavvf5PKTZqR\n",
       "W5zb42XokH9tdjqVPes9vzCjd8l99wuh2E15QzjK2UZf2X3439Ot3e2dWYNUuIRsxhToCnTsoMHj\n",
       "1zAJyB5bRSZ5sie8Oot18O71BnkKUgmROwJFemX7MjRJZ/tjj5uOmzg2o8VaS3DUJKx+M+iAhPKO\n",
       "LVXBVNloXdMZy5z2iipzWNPsxh6/z221X0S+0I+uxa7B57mrifX/LLFouEGliE0RLHcA6xCpH+rO\n",
       "TMz3792SIBIm4TF97OS11LUUOakLGI6GfRq7FWbqL3pNbZgiesUHdbWTyMChm7MHDcVroyWZs93N\n",
       "xLjANiWBDwAAB3hBmiRJqEFsmUwIKf/+1oywABiwprGGAAZWj+xRGxCcpt1sN5WRy1znKzMwyUAO\n",
       "9VRGpr4i1YyWXY61dNhLn04EbXA/BvfjBmNloGPOqW4CJ4A6QLcBEuoESuXs92Wip33CK+ahVsJG\n",
       "gm49R1nf0qz4whGTr1iQamE4QczHCrj/FWBtRHGscWLBFvG/Zq+6WG+3k5VIgwAWGX7+XVxfjowi\n",
       "KkU3aUogSXaE1Ck+0ulY2lZcmpKhsQXECGGMLP7v7ESO3kJwPHxRGelLq4RHEDCfEZy3LVlwVP4S\n",
       "oEJdxt2jmSe/l2J+RYNBR7BrqvlLsZr/lKCoo9YUDyio3EzYMGMSqNB8goh3q/6nF/oh/LQMfwt1\n",
       "Y7XYWDhvSTiszxT1gt0xacWC9Lk82VZlsK+KCsJs5Fz4p9EDujZbAtOsXg3DLq0Cc8BHbnCbwFiz\n",
       "Jpy96lVxx3B2lzzAcp5V+LqqxRlJFweyMf70gihZolHkKOo6p/kokGfGSfnfxeEWAx+RhuK97KuN\n",
       "gf2KCkC01bNbjESULf/g7KYv9/FQkeN7eKiOLO/NXSm/WVBPCRyWBXgKMDY6DG2VO5/TTZe9BF2g\n",
       "q4oKuSBGJR+rMbdqWXiqEpTX9ypn7VCtonn8lyJH/S7bVvFLjmBjqs74QNa0inRddB8ALlWfOwqV\n",
       "L+GvpFIJ/LrFpa8408/pSFPcp01R1Z0YiHAosVYHjmpn9xTm+L7uZuMalPGkvZe7N3qxAjBCslZN\n",
       "6qaIeVaN3TbXWH4e1v2O+4elhLD9LN3D+nVOFsiRf1dd77SOYA52sGimdRwfXB4koeSCh0pwE/J3\n",
       "C3ST7cXzyX5VytY/HPMmBmMOa5G/w9JyEmZgKNhPlk6HuYqoFvu1hxQVmaQOJhOwJMhGazY3d4Y5\n",
       "Dt7eMIh/ub9e5lcMHuUPcM3S7LkSfypOvDH4JY3/WlEfAhAd82aiv8qXGtuo9GngBzgXMQT82EQ1\n",
       "ZzMu4puFthuXkZOp84chlPA8S7AkVZOxZqVWB5UAkCSW/IESckXwajbW6xQNkO9bAEhbivQviiMT\n",
       "HaZQU66Sk9u9YVkRSHOmfCgnaOjUl8xB4zWSNmAJ3XKmNxxsQrYgujEFeZTh9V9d5K0wgU6cqUqv\n",
       "2ScvFtmwnQ7KJwIILB+cRZDR0Fy6/hq1P9SvS4pvSL6KeguxQU1AmAd4T8kZ8Z+Ch910AxM+02Jm\n",
       "2k41pnKBN6BCxb22ERxD9Yd3AnCd8LFF2yfO+Y/rW0fjwGNtvFL9i2Q1YWKks8XaBBMMOOFQbWvu\n",
       "9Qk2XL0cezhtGadM0r611S6SnEMQ7Jxmj4fu/tVJGhbsVQ41LIxLyNqcW0b9vutuKGWuhLKXyC7F\n",
       "gQBlk5L6W3iNy9J6fTHpePzs3gRo9/Is0l1bnWxOJNgvcYJ4m148wMGqg8o1uEr/YXLVQhIow+nY\n",
       "HslphF6Iam29qVJggfj7JLHloKixJz9M1qW5edIiuDFja79lm5l5itx1XY8iKETymOhrdesXUmSj\n",
       "iNUbtVj/YT0/uSl7wrUdZ+oLL5ssWaCHVMIwR6Nej8PKNCvTRWt3S4abUspQC6VDTviOD2bdi5hA\n",
       "D65qg8MLqPJRiBkBZkfuChtR0/sU4UWlkwfL7YXdDFJcdDFOBWm0X70s20mdwHR1LzIiy4wJWyng\n",
       "YjJxZ/iqQKnLziEP2JHgS8Uovuo1A187D5hS84k7iXFWa8BhQjSB8EIH6mNytw4BhQQl0gTQ0+Xd\n",
       "2r15CC0A5an8x+XRMCmVeLvjMfKeq6udG+4bxDphCF07+/qqshZUPuZ89AfWoOZXuD0FsxXOGdY3\n",
       "P0rmlM9UWuSIWcs96347/wUAz95B8+HxtvCGU0ILNvzV0IJb5ZwxhnFoXK+2QGGxxpmcdOFL/L6I\n",
       "gDXLlVDtBPZdSDKKDxtGJVDGfndX3f5Uk2wyzWrGTbye8OLLS1ybl7Bj/FD2Vu9jZfEj3lS2WBk1\n",
       "kJcEETfCtQlotkM+ixMbsnlg+C5Jdv8iMPjp+Y6+fNrbr31dOuaY4pw1i/xRTmWTwVf4XL9v1Ssu\n",
       "mT8PSA7W5vs5Ff0tld/o8MwxygQw7iOZTsrNX9xz4o8br2F7pdaEK6dLbW/uaH0y0jX2oyjsHlbI\n",
       "phEI0olWFnNYx15XTzrzf4/uVEQPPmSJOa2Fx88oi9JTWRSEzxzKHeBgMhe3nz2+uwdFLS59Omyh\n",
       "l3yRdptwrbe2AcfbCuY+Mgevuepa5S6xlPZ/RAqygkjYL+zexqtZSIhfSY1TsBzeONw4gxa/AW5p\n",
       "b6iu+sbIcY8YMY6xSTfEvLvwjfW1S4x9YJA1vwSw+DjjUHFWy6KDznmwIgjjPBJStsea4Rm9stVj\n",
       "3liT6EmdHvDvm7K9CfDtyL85YnPL5nhUl/a7kGgLtSMQOr6P/2XR6NkFTnKG1Nr67hUZV+yw9xme\n",
       "XPj1xkw9FxEWfwAjxw/AbZFbZqrvXRZsm9YD3SlpjrCm1k0nejAlB5OnyDNSjs4xqp/9ZRrZ4DBV\n",
       "+SujWSBV/ElLhZ6+WIgTuUgtJp8A/S+rtdvxMOyQKZfppVHiQ7IAAEvAAAABU0GeQkUVLBD/AAB1\n",
       "rO+Au6OGwAJm/r/7/A6Eh3jC8Q+akkb99H/zCI3lXJRLP5Z+ZUJ94wo/Jtgw4K92xBd1X/YHLYLR\n",
       "75uf7O5Le3fQ7OerWv4qrJKXHYDMEA5CGcfuKGFbhNqQHTNC252Kluhfn9zL9Bqyr8EZvhcuJBh1\n",
       "+I+R32l/TsHx2Ksi0ka3gYPAmSwb8s0cXUL1GZ0kixLHVhqkF6g7U9QXYjlrSiAo6CIwJjhPd/QX\n",
       "dVIBcUNSsFGqEwzkrOP6fH4KLZq0RrC57Beb0T/5l+7fsPVAV1Cnfc0YQ1ZyDyujqMI+Cxj+XgzT\n",
       "lAP8d4znIT9/tKM3mA+/cgC4DdpLp8ER1H8UepqjmfJVdZrL7tLUiqCCfrsYH0BvkR3Fcv7J7i3w\n",
       "b63cKftn+Lcm/BGTy5urKm6RJCGHqERKO+g6I6pvcGWYOW/OuxSTrWA3oQAAASwBnmF0Q/8AAQWM\n",
       "q0OvUAHc8UNR+PRumGEPW9LDyh3IJhbzypiJviWUC/EPhzz2OZKPtm8lAdmYIL6r0GKMHA6xltAA\n",
       "QEBPK4F697V97/J5SbNSK3RrtvOwaD+2ux1KnvWe35hRu+S++4XQ7Ca8deK4HRl/Zffjf063d7Z1\n",
       "Zg1S4y/JvaRx7J+qUJfw2iSf7K4afJhCd2+Moac2cmgxk318Ne6G7HQ98LWxvcJfcGnsU7EokYCz\n",
       "JQJ8UqcqiaNgO1x9P9y0L0wNEG/aPG+UDiSEm6UK2e7kShSvN3eGuYKxVHqP2nNma0AwGsdRuDCU\n",
       "H+BENx1tra4+lDF1abU6Yt1TL+SQxnXJZpNvEIc/YyNjKBbb2bSA543A+0ghFKKItqdunMfnb1ZT\n",
       "AGqAAf4AAAFCAZ5jakP/AAEFg1LCCMAAk9BQ1H49G6YYQ9b0sPKHcgmFvPKmIm+JZQL8Q+HPPY5k\n",
       "o+2byUB2ZggvqvQYowcDrGW0ABAQE8rgXr3tX3v8nlJs1IrZ4Tg/kARjBSEOb9zALj78Ebz1RQQY\n",
       "CJCTyrZCKeB0fq22wVVfq8aANPeIgJkbAFJaTRFoTRJfXQLcHIvb+/7O4lYtlOsAKmU7wpAWXLkK\n",
       "uH9t2CYqKaq1oIXDGfPbmMdrDYdXucPhX6SXkPJtkfdqA0e0ZfGEoraJ0+Mw4yGvoa9TQDFXjBdN\n",
       "0E3qE2GwyQfkxqpDXNvpyrJ/eJShgmI2VEpA9Krxj7e7e/HRvSyH7kHxrKTnZPxFWyc/kXMLOtPX\n",
       "ZbTiFGfy3urBW/sMTBEzNuRJwxYLtsfjgov2siDahutqz/2FDR2Ye7RBDtQEHQAABKBBmmhJqEFs\n",
       "mUwIKf/+1oywABlKlsQnWwAlG3DVIpgBXcYLDr1Jz5Qro+vnQn9VcaA1K4UDRjt/vU3S7HaG8wvT\n",
       "1ZPtLUWPtnZSshkwN+IgXO7A18XvJVKec2Oqrpeot1cAgbn8BRNhQ8uA2trn3hditIRhVBXxrAXo\n",
       "05ziKhamP4Dmqy+hflu6KbqCPul2Vdkze++nm9XiC6feke2kMYdBAcrvZwpkwayx5DnSQbLVRSo9\n",
       "JqbGsLxRdTDagjX53SOf7xU/B5qaOgK5QZPhunxdIqRIa4q6rF3n5m4Sev40xyqmblAC36wS84LU\n",
       "VJOaLrW9HIukBnbj3ukYKK69XyPfiRvluLVg+AlJ79v40ELirASwTCGRQkh/oqb6L4lullHwNmyE\n",
       "QUUeZRdn/fS8Dlhwzq+H7bf6mh8QlN4UTpyVIzFOcZegcVIlMtYzwY+e0HKwthQLrkNZU7lHp2Fg\n",
       "U73xGJb3CYFYpqdk5VfR7+y5obyb9i2RRMfWMjpz8mRQY+C1oOeC/o4942N5B4BFKPuRP9qQg5X7\n",
       "GuxLicMUtvFZufdPAyhJ3Vxizd1kWXamUP5vmdqxhT5Smwn65EFJ/kq20LowPAQxbSGqIbSVIlZ/\n",
       "vhn3OG2+00wOBzBxWYWxIncXG3RODZy6EhcPBCEsjsOvvVpFweIib9mrzdScyVdiRGwNckAtrpps\n",
       "ugwcMIMeQigyv7pWL3IXzpfyb/6LU6TyuhWHaJaQZTm1wzR9iCXcZLOUCF5amCGl0gFO0xykMLLo\n",
       "f66iIDMnw3Au2t6fKetFT0YiGNf1g+t3Sk1fPucdzmJBKqc/x0E2/KBzo2bqOTjJQevFP6ugT3Qh\n",
       "GCtD3kxt4yVpeAxdMIZqx7EtHnm9s/SLhzR2fipBg+IfbOH0XpF5TXRE4mP8CNUnUA3dDErPDoen\n",
       "kyt6+Pcb7tSNUXlH1MvO8CB82iSk15l4pwUE43RowMGHt36Zg/WDNT4sxi44YZkI5j1jZVse2ylN\n",
       "SA5enzPoAN+nh44q2Cly+kPyuPbde4Elv4npplgQNoerTtX3l+S603uP07tr2hwzWAtBTlvc1g0U\n",
       "TUdkfEdG2Gk1Xem/nKcQXpggetkyWVaF/CHaExWAxxOb9ZcThVvCi0pmGLRo+834VSstC6HGMfDi\n",
       "DQXgVD7HeploMfd/b3TsykXeexJd9ivMtuLdty8BrQC12/Y+GBV50r7nohdIBWHFr89e/uqeGFe7\n",
       "yVKiqBHnix86SanjdRgbrnfGrqMmhDfL0O/calgqus0JHuqSLqenFLGGmjr4NRJT4suuFMO9DMb+\n",
       "2ERWZ6zFde8+dw9eHLpIPwMzxoNmc82oq6h5M4u6+ROCwnnVIEwePf8K+YViP5J21gKe8UIXFPPO\n",
       "UP/S5R0g0iuV0f2G6uTUYWYPDbn19xJHZupmH4b0wDXVOkfhCjNvjBuXrdrqSDi4YivVgML1VIX6\n",
       "jh63XbBJHwy43IDcXxDc6im/XqyNa5gLf26LYVn4M6KHOWV5mbAWDWb+qU+tjFrjz97kGmcIl7BX\n",
       "MurVrNYMo06RrSSyQllc/FRO/bpk96uYcQgeFdfFJUHqfHk5aQAAATZBnoZFFSwQ/wAAeW/oGCQA\n",
       "APzrxsrENrdF6S4XEry3MG0dElBK+jURSQGtxq4hhANtDvwhYM4UmjusDAjpph4Zij2Qln1ydu/l\n",
       "OqOKZmdxAwOiiVDImnzAtQfARWqj4QI1R6GEc1bAZwN9m9L8fjHp8PnsZLKJRTyGEmn3/ka/M6bm\n",
       "fPUxYqXgrGKNK250ReamgstuL4w8n8pOp8Qgl/K4gbfBla3RjQVqrAjF40eYw+WfVUY3Ha4PwVPa\n",
       "ZmD7cOFtX8wt/xvY9Oz1B6pM7JzRmI5T9F74ludsP/CizM/7ix9030ijCG/KFds+Xzjyd42/xsYk\n",
       "MtODpP8C07bDaxWxdIdQAeKCUeob4LCvI7JnjhoYS5FRgLu88A6+6RSdE/qWEOlnMUbo/8z4uuoh\n",
       "HQFIDhGFwIWBAAABLAGepXRD/wABBOF9ZAvgAEnoKGo/Ho3TDCHrelh5Q7kEwt55UxE3xLKBfiHw\n",
       "557HMlH2zeSgOzMEF9V6DFGDgdYy2gAICAnlcC9e9q+9/k8pNmpFbqHUrbcGg/trsdSp71nt+YUb\n",
       "vkvvuF0OwmvCDoMDoy/svvxv6dbu9s6swapcGVC3Rz57iIAr7Sr3hg1nh+Rh2X/kqHvJyGrQKqof\n",
       "D5Zez8qhNQ0wib5Gu7sMciUezyOmZ/m9+GWCSTG3l+LehxMcR4uJ2+1r+1f6ZO2vuY3AGRgG+LPv\n",
       "Kod7fmjFOS7JEyD6tMgYterCOCX8kWFqqhtPOAax17vvOrv9T1EZvDt+Nr1Mf8gjBKPZb0pvmK57\n",
       "gy8QKmybVyasvBUQXe3vecbVmpDS/0I5IACggQAAASoBnqdqQ/8AAQ2DW5e26TAAJPQUNR+PRumG\n",
       "EPW9LDyh3IJhbzypiJviWUC/EPhzz2OZKPtm+2d5ibGX1XoMUYOB1jLaAAgICeVwL172r73+Tyk2\n",
       "akVyH+etWy4RQuF/CicrKPmPzCjd8l99wuh2E15FzkDPRl/Zffjf063d7Z1Zg1VEMt69VD1nuyQC\n",
       "DetkJ8zsgGRSKyPfMoN5L7XrV3HwK/PIiA9mB70V+aGK3t/EdmpjIUJyfe2G+M6BChpcZmAdPmZ0\n",
       "Q0e4Z33IFUpuJe+grnYIx+YTGXQld0/LjMRk8HnCAtMFzo161SCDaDP94mmcc2e3CqubHvPrTa3I\n",
       "fhoE1v6RCjC08DVVEs6ED6GHCPlZg6Hs2FpYAugb9OLQWFSNcHFgpQF4AAQcAAAFMEGarEmoQWyZ\n",
       "TAgp//7WjLAAGKqWwJcKwADl43B6aOqPHDvR9ssszzVFAgJ5920FpCg6WhlRkuO0Zuu3mrc/CKRg\n",
       "u7MTEyQVGkf2aiRnAtHHtuD35/Z1XLHALm+KfE8g/eTQ37t+hb7/IZpED+aaOeej1Bay5dE3ewOH\n",
       "iQ+gzEc2ChaANwmAYWhJ0rOFJ1rySJM/niA7hZVAi7hhvPnIump62QAhN/qW/jCe1ITzV5oeYcwN\n",
       "9hTJJMhgwL2d5KnUZDKnPcAhXTanixvxhUAvFExxCkwx7HVhzoraTUGgEOCPeOKsCc11vmXexV5K\n",
       "mbqqwXyHyUwJw+ZrNhy6N5D4jtdJdi5A5cL8PmD6xWGOquPqRkRnSYjfCVe7KzYFAjE9ht1Z6g1M\n",
       "Mqw64DxW1QX6McBC0XozlGt0epd4q//ifBEdE7TJQNLIV5Z1+41Z+U/YL6xwAzkhGEcco+0v7Asy\n",
       "0G2d8sd5YNSq95uR88nvNIT1WgdDYy3cc11lsRH14qnwGLT3CjskiBSwVnIsVk+ys5aLG9M4TqGg\n",
       "VRlDUJVNZ5AHm+qN58Mwpb2ObFpSXT0jQbulaCr5EchHde6QlQW1tWYTHtUF4eRjwiH5yVtTQg0E\n",
       "paZhs/wTRmbkcPXx/HqJ9erbZuRQAM5qe+iBfTrkPFOnFeWJ4tUIfaojKyRf+3xtd1i9jwr+OgAX\n",
       "87GW12UqBhl6kdLAePoJlf1Z0sR5NEtCkSJMGNHg6TfmxSgUtURWNOkf/RDeQfAuukme7IKSWNU4\n",
       "GKWBGD6RvntCu558e8E3q4DuIbwBg3sBb3++zYfAjVfmIfgZnIyxNVgPXJbxkFR/5on4xSCbfZf9\n",
       "IObhUO/LqM/uSFydG9g7tkapQnUUH40+8ToUuB5bOwnbDIhcXe0eU7tgNkjTDogqlx9gMCm7s3J+\n",
       "rUnyAN53fqAXaFW02jNh+exftcAE7lT2WwQB90ffiNxgYv/sU9dNHLFjoaNy494vuZLdVVMSWcVY\n",
       "pKKtkmTATgS844P0lPY45DPIpAfXh12AbtXJFK2nAX95WzCStCUaD58MB5g5vn7jVcYhd/P+SFSB\n",
       "fEH8mya4kvp0Z7dbHB6n6ISTRFnBF8Zm5Q9SUiVzecPogngETih13r5b67o5vhps55/zzkr/USU3\n",
       "BLr4UX7lgwkC5PK6h79iYt74YRjeUb8Xp2msmcRKNahWVj27dffznvd4yG7UMXTlR8ABGHR6VlPM\n",
       "1BN/Ca54MmTyv5sS/7T65dVQCdHayRPZSEvPfJCFnlCTKZQN4tri9CcDZZhetVlE9meGTNbNrL2+\n",
       "f0K0dEQcM38hjLhAdItzpr+0SEm5lbBpKZ6AJbvIVbME3iILOOzjyAmk5JyIL4dVxy24zIqGE+xx\n",
       "bbS0VmpPFKQEfu3qWl+w1e5IGfstGKt0xImoGoAeYbXKNfjNBBy1TT5WuLQS4b401q9Dh1LAn3B2\n",
       "RjELtg5M+WHPNA3lJaLzESQ+Gt53HQilVeLlfOxI2DpOkrVheU25CB2NnPufDAZNm71c/IIIjMGe\n",
       "X9da/cCaFeV7bjZYg+NtmU27AnC7qYpg+OavaaQ9AxYxk+i7hZhhqjqTcoWmDYHX0gUju5eRIUn2\n",
       "dCJg5Wez6+tRGTt3oAmp+z2U+yf1kDA6HUipncsKw3lhK10Pt6KlNK47Byv8AgIDF5wOT//ISaLt\n",
       "bgyypLCINcx+Xjr8nsRYM3AnH7YnjD0hzm+pdB+b0AU2PGOMMJ9IsNzvppdWbxvkNZ8zyDkoAy6d\n",
       "KbH4gqXquTX9AAABLkGeykUVLBD/AAB27TAAmX9yUA03TxE7GhoCz1q3uGe44tDtt8AhS68bFuxr\n",
       "y+8bDFh3ZbNpPaUfljDob3v+x5xIf2NAf1hWJ06L0omIthhYoL8eMGD4UosS/plQvH9OutAyqmbm\n",
       "SAflyQW5tGcBVRdaW2IsunEBQbClbUFPkia6kYBHXyHo1z0iynJK/qgUDfldMMEUaRSuYWFE//7M\n",
       "Y98XsQpAJ+/CFY+B8if1TuZI6C2V/9dxztWKRA5Be1cj4sQKRpo9dyO+1kwKtIRTYQnZQbSJp/GN\n",
       "tdud8Jgo5jL/gg1SeRccxcgXZuEe3AWCyEKfOADmbrXHLHpPBeGGCUgG1/y3aKZwZWriQSa7zK1a\n",
       "9yw9TLVAcCm02FljxOfWcvu4feQmDJqhw2hNQKCBAAABRAGe6XRD/wABBYyrQ69QAdzxQ1H49G6Y\n",
       "YQ9b0sPKHcgmFvPKmIm+JZQL8Q+HPPY5ko+2byUB2ZggvqvQYowcDrGW0ABAQE8rgXr3tX3v8nlJ\n",
       "s1IrdGal7dg0H9tdjqVPes9vzCjd8lkPCxxEcdnWqVu4zCZe03/98C+AoomNp2T8RNBAhTAcOTTQ\n",
       "BagkO2+QC/lE+e/t5vx85hkQSxFiHUSFG0lQkYIZ1+2I/bLzQcN+vpjZbyuV/hFsZa8eOklIYGwK\n",
       "TdQ7hBFwvwXev5Qrrm3Hes4Zy6DYbEOPus2OPffVJWV5u+tHzOSZITmrwKlmvZxpz7qEEIl5AwEy\n",
       "cSeKINAD29uuLPgQhL5WoRZ/B5LZoz7S2i+hyY3P3D/S3hGNKDQMOm7TlzjZE0fyxtlcPt/deCTZ\n",
       "UaK7pqW6kPLX+UHXfsAB/gAAATgBnutqQ/8AAQWDWqRMAAk9BQ1H49G6YYQ9b0sPKHcgmFvPKmIm\n",
       "+JZQKIyW7PuMytXWitTjPzE2MvqvQYowcDrGW0ABAQE8rgXr3tX3v8nlJs1IrZWQZEbdg0H9tdjq\n",
       "VPes9vzCjd8lkPCxxEcdmHqVu4zCZe03/98C+AoomNp2T8TVhAgxv3ZEG772wCSY/UMKvHuxQ7x7\n",
       "OPv5TQIwnPGFuuij7OHLneGmciRXg174v7MXwGN+icgPJb5SvCk2BDLfJ1+NHEi3XT3tStNqCUYJ\n",
       "ENdgNW998kjC4p6EkrDHIju22gvqjJYWnFyrCLLfEvxAL8dq8O8Uup9c4p0iHHUGqDNZNX2d1gvT\n",
       "VKNEyIuC1ML8YZNs00ArT3m9tOfSJUjzz6U0mNdTCuqS8stJFQD5ZLlqQFiMAUkAAAq+QZrwSahB\n",
       "bJlMCCn//taMsAAYqqhAFEHwAL7UvcHzXHG4oIhoz+szaqKq4tpQr6KXuLQuTk5DLUSOLq6DCAwe\n",
       "xgHIP5eLDlez2Yk6qOfbguS9yRD8OduXMA0OD1zrqFDEPLarWGO2xZiDzY1/pa5nxYdubLGJ/6I6\n",
       "PNq1kQXPhw7BmdIPqk/2+imiOgaT5W3YnfpfxpnjqOssW/VQiOXGu45Ltic2XZJN6cflk6FmOAeY\n",
       "fqIfu3Ph0Sssv2tWsNgITy0Bw1dVH2qEVGyAu7DX9Yx4wb/8SQOylVDKpq4De7HU72+ug9HBKxAs\n",
       "XFcRvbZGsvY72RCkVp40lkmd9kPWQY/hE2DqzrX46f1jXPRkRl1GMlRDcNOQTI6xRr+GDAAZZgkI\n",
       "A58NMZRxN2aFMYr5iuvaDu90MjJ8tk68gXfFPnvw1siFmZtenm/c+r+bnnZBqoTnWjbRGLh6RxpA\n",
       "R+2CtMCC6HxfjNnk2Y3nIi3FBNjwkAUottgsDPBfy0WxaaymVaMzx98RcE2/QtJPHUPegPllqZ3O\n",
       "SXbeYjIgDWTI05W7Dm41S+q6DAPIfmtwtONel3WE4hBjvNEdn1eG6z17OWS+IaAPJhh6S/Db0nVA\n",
       "JzF0dHIGtxsKlUmKl2xcYcglGeBJgq5PB2um5R6/O1gCi3M0NSXay2Y5TnT/GOOQraDhzv6LnrYR\n",
       "jdkjI5LkehSvUni+OOAwdwIXIfF1Fc9y3oRQ3zWo8M74qrwCzxrk/TITopbfTcVoL+1d6j2M8CkC\n",
       "UQtUyPRvMwmg3cP3TLJrESvEa/9grSitf3N5gmtsEJWgAydchDSE7qy48dWwzVq9bAXoqdZmo+iD\n",
       "sKLpnnF7mduQrbFdclqM3eyKkfz1srvYpTGymMng9q3Hme8/wshB1pjoKPjjkeMOWoX0T57LRDxP\n",
       "feceWWUbaCrcXCNY9CAAxiwxdYRxBOp1dS1M0kFZjKxzvXC6+OtM0w2EhRJZ05bLtehQTb0BJTX7\n",
       "YBsw4H4TA3SLjShJBsPzhu6BwelkBpYrwoqsxGC1NEIVUsx7hF+gfQPAKwU2EqP3iUpPGcCsbaOR\n",
       "9e3YSTns12em82L3eKJ5253YYD2LAr3uW6ECx6pC1W0jQRIHlO6pLg9ed6lLZYjTWjUeRlXVoNMi\n",
       "djeHmpE6WVCmlfQ59+hnF0OWsslTnMJOtqE+mNiwxY7MM44JqNrPwspYWe9Mx30QKHpDu2pvf1tS\n",
       "pxvsRXW6+gQljHTlgXLZLgKb8hh9L/LUOq3xE9ZQZTrQ3XpJFbX8bvZ53vyOJ+Vkyx9xAd0VwPD7\n",
       "wDPdAiYZShujb58Hzt0+bolxQU7J8OmJxizBnC0S9WqO8+NObsAzpZWOn9bQJM56DcydjLCID7lH\n",
       "zPDTFIP1qx7a7OqlcsBqHsuwdDr97t0SSn0ff3du6kH+Zymmi9HSTJRgN3fQXXuVrJvynLHpWSbj\n",
       "z0M0Uwkf6P+UtVvqfuh6yWSUnZhNzCJvbrWk8s/BP0C30TZd5tO9JgD4ooxqfJuOT6SPnodxLibx\n",
       "s1IdPjXFFXCXe5gZGzq1P75VRSE7DlpSNPogALOMSW0AMWvni7T8FEZ3DZwwa0Zkhmru6RreY5Be\n",
       "SU8URnMnn8JZQrg/12PdeosLtMGszKAjjprbRFVmDoML75I7Gj7JVFZ3AptzuscaZKkHqD4eGOEP\n",
       "9FDWlbhGDXMEDRz/y/9QfvWAjNb6j8WT39RNUfP25E1B1KA3a595jSq4ntGec35Bdq5XAOCziB3u\n",
       "C8v5EpPWBqse4JSx/Gt+72APpbUIznGcKWLBWnlEpPrkZGO16Emp9KxBRPmvLJdG9/5TaRpAQdzr\n",
       "XGXQxiio3h9jrd7i7A75yq6KzNrjcs3LcItasItFUmfwb7JSFnDkp1OfD7dI8WQ+PGLsLeCKww/M\n",
       "Q1FW0jltIitYlITVbCcmeVXPQZYbGcRaUpISjXb3J/2yY3mUanBhcnhL00Fsty+AlkMpYV0zGaje\n",
       "6xTceZaLrW0aNTsKaGWzCa+zb1xk6PuHfxryE6RSbYKsAJ3KW5vMRb9oSMDcuTzuoa85us3zU6uI\n",
       "ksUFAOGVjRYgtyxh/iQA6o7QNYWmhO2F+Scau88CQHw7Tzyc5PzMmOT4ht7VGMhgbfn9/Ayldy8l\n",
       "L1WXkgaIIgc0xKTSGplmEs9MknW8NE+uvbsaYS/8TiLW8+SNzViENauwfF+YVmsEhi1Rc3ZRZGvz\n",
       "Hnk9HV8dSEmYFwgZOd/O3PLfIWjJkXCE3AcLoT5q20wc0AL4nZhRF6pwuALocwRU5kw8yBltmuvU\n",
       "JD0kGLBNeIjuBGkud/QPEYTNGN6HPm2oIyyutiBqgKU1szO9xhMOAtIdE7CeLe4dm3bV/xfOXEoi\n",
       "CoumKnnvb6L1zfGb69pLEQXtw7wm5ayGnxJvKFCbLXfXfMVRZbUueVyzDg6vy7uC54xkwn89P9PC\n",
       "hgrzOweZV5+h5wBfKzkfYHfZ4c9DT5bxaBqaYfe+wcNLLaD0RlLY4Joh7xeb1iFgTuM+rCFwogbF\n",
       "jLpDxLypEh3vG8bgQaWU9hRxiEk4q0Zyp7wvtt+hC7hH3yKgrNIbIoXv5QBhhmsfNopeJK+ACrtg\n",
       "jYAggYqEW8akeMWzkJrDZBWxe1uwP8fZDPtTZAYGyc+q4TJZI/MIhVS0opL/TQc0Wt5wPfVcE/Dt\n",
       "ANbfMaJ6KBabah53vS5byDkagZ3EyOu6C81tcupdDN0jcq2zPI09+xQX4turB8v7vLGJsZ8MjjFk\n",
       "u3F2wIs6CnUTRVqfBedoG5ZzWEjfcvkpz/PJsx5OrQ8ALyvCoc9yeGSen9a2MW/IZ/71VsDyyr9F\n",
       "JW95jKbLxeRvtreF8dq2YQJspnfDvAFVTXO+jtCWEuV+vB6c/UfH6NQIE1KnmmAOJKZqqYYuCVZE\n",
       "nayI6IoKcCNB+0QSsypEUAvcVL0ee0MMKwCy3vJ2hS1b4e7M8Wxl0hw4khdSLkZuRdhG0xz9oMO+\n",
       "PHiQHJh0A9ve74t/bV7efqlw/U0X6RWVEMGI2StxShHWkbp4gA0ikYnq2+HPgzrrhmRcmywkUwfH\n",
       "fC/s/3JcZkraUJnC78LHV6e48Q41vKyiwQyxnSfYWexpz6xuGV6aIq1sWsTCQPEohVwHIHVKMq5r\n",
       "JHDddju7M2fhpmu6eVYfP20suFvyIxDgQFbiQOR02bHIBaE2WHlRL/JdfPj9sjIo6WRB1HOn79UJ\n",
       "59pgXYpTyCiRBKRZf/bR9dcWzejk+yv5DZeOOe1J1gfThwDN6R6nVKaOvMztoha/LObLEyiHaUPR\n",
       "iH9cEtDYNsRf6BuvvIiiMh+T6bDtVLOk7yjW9JvqhfjXVJ+ixCv4cB5em9rl677rWVxFPtIPqgvP\n",
       "xHHC5k0RMORzGnXUSYTeJRJ5Rv/fnVBhmCCozAlyjudtayqMtj7s9po3roftLQG8WUZRNcltXlan\n",
       "AK6garW9qhh3JQfBSeRXfaOjL7pIl3dFSxdWoNC8eZkiJqkLmoLAJd7Yu9AickgXcytJRGLkIGf/\n",
       "w30SYSmcFNTAhlHgocRBZ+dGjLtptDxSNVu7DDOd0oA4pHBN0P22Lm2UliyDI/WAMaDMxgXqqj9H\n",
       "7Tsadezkj9ucvJSsomGxeRvrnly56LqeCxxLjQ2JKRszwCdivtYpRdVeMX93msoIntmUGUV7Et29\n",
       "7DHaTYdQAl8AAAE3QZ8ORRUsEP8AAHVWOTAAmr5yhqHCaVVpp+8z9QjhkCWiCBAvP6ogz+rf5vYb\n",
       "Tex5oMHrDhRggIhVTee1ayCAXdM94uuoyvg4LMYHDk/Ir7Bp/7mX4IQ0qbzJauFpOiN8TQ8QOzUm\n",
       "f2pNlJDDuIg4Jgc8ddrFZE6YNe1vUfPwneyEl0jQAwCYsixKjHtGyLkh9Xcxs0EcfX6nC6wJRdFr\n",
       "rMzKKiEpLzEosKGDfy5xzUd5H3bUiFFKWDYlxQzJrDaZ1WJbTnSt4Ui2sn7XAyyDN4C9Rw/YJyf5\n",
       "JocATU2Y612p+7tvwt7ojed9Q/8gZAVeb+U2NTi+DVbAeoTyhV9VOWLrFuhY/+SFD34Qxlo0dqOs\n",
       "dWtyfS6enTnAfSHcRLhprwmWf081nR+nlF4E4KugKIpsC7ZQDekAAAFHAZ8tdEP/AAEFjKtDr1AB\n",
       "3PFDUfj0bphhD1vSw8odyCYW88qYib4llAvxD4c89jmSj7ZvJQHZmCC+q9BijBwOsZbQAEBATyuB\n",
       "eve1fe/yeUmzUit0SA/scBA3dd7a7HUqe9Z7fmFG75L77hdDsJrwlxZbKMv7L78b+nW7vbOrMGqX\n",
       "BkpG8XLAcxJFgI6ozYKEuV0X9YttSPKplJ9pk2mqk/aMcNu9sSh0dJQ2D2qNXF8ZoqI8Xms3e2a+\n",
       "+q1TcGj16hf8TOKrMLEHjCx5Ki8XSYewB5Uewg6IBw9Lkm/TZxz+BP1MEIt8ONe7bKM4Z8o7+wLt\n",
       "7O99uzScgA9pjtsRb6lbbaiUWeHnyQ0dPlCpW9dVuscm73kF1ycln36Oop4Rcv9k8pWb0dfWft7Y\n",
       "psILI8FKmaDz220Zr5hAq9ZtP2DA1oEFwAFtAAABKgGfL2pD/wABBYNSwgjAAJPQUNR+PRumGEPW\n",
       "9LDyh3IJhbzypiJviWUCiMluz7jMrV1orU4z8xNjL6r0GKMHA6xltAAQEBPK4F697V97/J5SbNSK\n",
       "3OdXXbsGg/trsdSp71nt+YUbvkvvuF0OwmvJ4ZfA6Mv7L78b+nW7vbOrMGqXDl+Ji1L8eozDzmvl\n",
       "5JIZ2gIq45ON16bsrBVyCNaJNLPpcy4ehVtJBCjMuqBLvSSFVtFvE4757uiY0ZzPDszmi7WDIhJD\n",
       "JzZ85JEQZY2WmFpqwsTrCvskw2mU9GtxSt1RR2RFfAsL2ZrD5WtH23n0x83omfrqnL07py/m0qQw\n",
       "5KOk+r4j2E0hGUP5RNXVxZTXHTzByATT2WU/fF9E2LsTX1GfWw285Y8ApoAAAAc5QZs0SahBbJlM\n",
       "CCn//taMsAAYqpbEVCzOQAVKph0BgFw00TU+geFqhU6+2FQ3nUqoVNHp8UhrjPF4I2VCHck3Bx9L\n",
       "MnydJHmH4e63hREsXWjhEkne5Cfj670J11/A/UgnIO7cKzt1tP2JuFtsV4QR2yp4+r9IR0QCN7MM\n",
       "FzqtLuXZRvAGs68EpJalw/7aZdZak4R+vOyaxLwutqsj137MtVbHF5Z+KCL8SkTB7QSPdvtpsUkP\n",
       "ZzpGbhmD7G2Yt+4+V2HHiKyaRZpWbmcI3qvrQ6FPfCnYWnqc+tqlmjPoRAwSuVCzueaem4Ij0NrR\n",
       "6U5yGEqw/tmGrLTrQdJQUi5Evjc3JLBQoMRArXRxXeF03LJ1wMjkovuuU1fdP7KMXdljSNNunZuj\n",
       "/LgtsJkeAr5V9zV1FminIiSbS7ROekp+R+Qov1Yo/mTIWdk9yQQq62P2dW6YNV/PG/5G2rtNSDFu\n",
       "ek8DXrWp4HtvhZpISipk8vQLWdJx2etfyPNM3CtMHiS346/Q9DNKpyuNMA3U0ejqQEVNqgCAVhQi\n",
       "a5pMu085DqQVbkvLwcFYUWwU8blAM6hvvmQP9X4Nl6eiOpoyH94o7yxTKGnf0RDaLioeK7Bpmj7W\n",
       "3n1GYSEcJo65BSSkyx036rQqp84AoIFYR2o/x51ml+2AUQ5sXLVKq8UepwCI1LDYkw8xlPlJ2mDy\n",
       "g6+GQWlHlyu//kwqoE2gqxymagmaU2AqGrscrXoUv13ZbSAxLoaIq9LNgAPBhnbWsB1HNgWInvP0\n",
       "m+u+30Yd+0DOyb/o6A7TtjZwK/D3smUyZiZ9XiP7vXLikLjj4qpXMOSSuQ9zBwtk1+SEt9c7rUEU\n",
       "N2exmVjVp7C0Xf9ZCzXOzk0S3Gfyf72GYRKyNfAzd+2/bwmY4CWdwODi03zK2TvD01V2rP012T+g\n",
       "tYiAqEi9f4Jyn+L9cOsreh1dsBI9WDZY62I/cQV72JZmPcEHp8fghgfGSq/bKbys64Qf8EVGDmzh\n",
       "4pjx97Yu16eVcMCQKj6EGWaxnwW5MdCYY/RJ5zHS8T0egJv1Kl8GTZTLRPEzTgWAnNOh1aZkOTJy\n",
       "6ukKe0k8u6LlxW/sA+R44Yz6E8CopTJiV0zucWYesey3vFy3E71+SNYDD2Z9gQM+mxQ+80TxOShs\n",
       "0SM1OhYR4D9yVBuTezA6iU1wo7fYB8e8WXjnpRzj3NPPCWUmvKk+QsX3LQ2VfDVcQ7l+f/YjTgMU\n",
       "yutMQj6ZR35vuKYD52xFHgv8GTEIItgqd8qkYdW4oqrFR49VEo6+lqZ04/mSrA3A+fuuD3UNqlsG\n",
       "QFavtOiEAPki0voii5tuOfzk5d7wNrkbk8poND+IoX6X+QqT9tGcjpsnWAgj7B1e2ABh+3g899Zy\n",
       "c1aoDovCCJVQS5TT33YBdeF/nRwT9KZnxzSsgcpTad+0VA48wrTSgIoB8xtSYDdHyewHa2MLj0Uy\n",
       "hinVRjFF0R97zfOWKSXuPVuY3sTAyy9qMXjgMDKoyBjCTyGcWws0QA0TlVHC2QTnAmHHnxcw6U9G\n",
       "Y5CfAVWOrm8WQ1osIcgN9GnucOohARWv8dppWT/uG0pCGsWkKNDX+wzuKxJiDxrbWtnPJu1GFQuy\n",
       "KaqvyXKIX5FDwcG62ZrMuV/ObVcH2ch4xTLV2BY5qo2US6mWVvXssugpSzSP/dmEAiNfvMRPq9hV\n",
       "uA7WxpSAfbQf6xiC7dGg4oFS8ulCon6owb2R5JA8nffD07bhVfmg7LpxDLstmtSMqE/MYFVl5n5Z\n",
       "02bys2MqZYWbR9Psg+uVPI5Ul4qdeNJDgk+wxAqqejADebgoZo5ND13MfKzH0QhpYasxIo5wpnRL\n",
       "QppOlZlqnn7EwUY0VbGH5Dy+8wbrFIR5PpHF7iV9rh3n/FgKjyYkqcjPxnEGaMvEXDaEWuVBxFpM\n",
       "hasl7eZ/eYjwBbZmNCXP8VfO3vaWZlNexPQSvb5U6acORCoXArGQnTRYBlpfZREYkZojhMnOvINH\n",
       "EjUPzRxk1a7xoJqeahYPjQ9J5rEfXTUgMxVj70A/RpvnDcsFrIn2V8eNkpEYvBnMLt7Q13Iql8UV\n",
       "b18XjzKpZv4D1LgK9TJG0WEtd7fUu5mnnNYf8J2FWppdybyzhEiSNZ12+fYFf4YmdsIvQFWVhnM3\n",
       "GjtKE4dpzPbx5dZq+6j2KgemohuMf1wA3XdYqAi22fRdyXekVbW1WeCwB28F6fYphqX67KBmhtNJ\n",
       "AI9O+8c05dNcr/pxl1eQEVgl4tCCGZiTvenjuDkZNlNJO5pWaePg6O3ClN2k49Fp1UX34BGAeFij\n",
       "qoCIeVGIPBUpsV+W/jIXo71LJs2l0ELx0k42As02YWYQuJoVsrBxxux8T8meiLlymCKYOjt8ITSx\n",
       "3S2qMrDkAqPJe4ozfyGhFiDa/q0jZEIviuoQbphPAxnLv26W0WGO1FVub3bsD9/r6MWA6S/MdSYC\n",
       "9xlxHnnKmbHqMq6y7oAC7gAAAQpBn1JFFSwQ/wAAdU6wLDppFlAAEuahDXoviUYlby73SL2msjDm\n",
       "g9TKA6TpiIwnCAXBpXIM++GZJ8qnVe5KeMUspokf6P+PenIMxM91DZSPmZSxO64bEBtYrHxXeWgO\n",
       "/CTsazO7VpoWIcidD1OLGANwHzMFzweS3IuRE8+BlkH/MKb5liPVg/SL7mGh+LMNNqMDUDhS0l1/\n",
       "Bqa1rkvXb1gmrl9gyS2E/mUph4kCjmDLF78KdR2UmP/syrRMeL0Cf6NLMQARilQ8hTexS3c9rzZ9\n",
       "qcC+1ZN7vqfcKKhUJMozBD4hyp+iQccAa7+3zeo/2cYi9M7CFQMeEvbS7DSUW4Unr2esdGW2xAB0\n",
       "wQAAAUkBn3F0Q/8AAQWMtWwwACT0FDUfj0bphhD1vSw8odyCYW88qYib4llAojJbs+4zK1daK1OM\n",
       "/MTYy+q9BijBwOsZbQAEBATyuBeve1fe/yeUmzUitz6C8ZyDQf212OpU96z2/MKN3yX33C6HYTXj\n",
       "Viy2UZf2X3439Ot3e2dWYNUuN6d6HaEo0YRkxWNWkJxYs/8M37fXgd6wKAmgSzscHQo7x4V6KVSp\n",
       "HmM3u6hIdaY6KzD9xieeec/fHQUOnS76ae2oCdVO5C34ATFEkvtvcB8mmVybVdk4cTyQhYE2me11\n",
       "8EIvQxDUVLOiHcYljZY+lExC7CIxtEX6hTlsyGa06yYytb1C96GkaENg1XTVjI1sTHJvW0N0gbw+\n",
       "FzsG1kfILlZ01mc8AknD2rCNpF8PXezOlhWLh5aoaV4D/AAJE6G/fiF0vJx5FmuBGwAAASoBn3Nq\n",
       "Q/8AAQWDUsIIwACT0FDUfj0bphhD1vSzWqwcOPVWZUxE3xLKBRGS3Z9xmVq60VqcZ+Ymxl9V6DFG\n",
       "DgdYy2gAICAnlcC9e9q+9/k8pNmpFbnOrrt2DQf212OpU96z2/MKN3yWQ8LHERx2UFL4NRmEy9pv\n",
       "/74F8BRRMbTsoJUSGw3V0aG1q/djrbbySqpvAsonmx6zouwcn366DxsPNKyf5BbqGltUAobdkz+C\n",
       "nffkpAB5w0xmP83YCl7KsCtLdObGIZmWKPGzKH0GtGCc2knibhB66OFm+Z0cG6mV5UimFk4wj7eo\n",
       "2LyTBjqcO1Phggv7JnK67uzHPb+NXc+ir3iqswd7t5Rq1az1AaDZvWGVdKCYPwHO9NRqVVhxpAIg\n",
       "mIvKUpr32BNwAAAELkGbeEmoQWyZTAgp//7WjLAAGKqsPiAeoAA43Iqu0cs8D4tm1GIAzLOmg4r/\n",
       "jaOHwEi30AEOEXXWgMap2oq7SDN6vtyN7qo08dSFIdSOJiqQrJXOUa1zOffPw6bBH6Putu0+2XTe\n",
       "rUxfMaANjVnlI+86qQ2eexRLPj1jCxKAoNLnrrLdlG4uIiQdK72xSzt2rx1NLZLwsYkWMi6M8tjv\n",
       "t47sZdYzEM32QMBaO1N6cz00tlOIns9F9KpNhSYTBw17tDMSbzR3ibgxg4ETZkHsRI/70DX8cqBE\n",
       "RI7RlkphM8jqZ0aEq8kvJKwIG9ZflvLqjmR39M6uHH78y3OJXsdZeggDELLKXEpfQG+5CNLZuxD3\n",
       "368vH8cqIFbpkq5zWW1cirs6y8OEKuJj5nfhcSUUwgUji7sfc8I2lObzh1+nHTP8T5kQ6fYOBHnu\n",
       "pYUUs8pagBNRYBHbasTBLAJeQtf97iMjn+Y1Fuj1b/zKP2Bfq7dKlYmyuKUZt2zJU0VbHBdrPn+B\n",
       "qcqhsY1ORhIl7ReBhbrClsBh+/UeE+2cAWChb95ZTi7clCDBdyTCgkVvunDMIjKefPH1l7BToshN\n",
       "FUQbKGLkQO9p/WoPJBW4Z1xyTXqPV8BN63pTxoXO7L1AoetDhFXeICRO0Mo2agWzYQbFpyMbyVWs\n",
       "6/YDQobAWD2lJhzrJ2t5e2IoeNlGfNlujaw9+SC7CJ8aH5xscOJkycjcFsYPlxgNV/V2Ndq7Y1WN\n",
       "ldwl8SAsVPtwDU/McRkDUa7arm5v7lSw45j893imblUZXzbzuuhLhATXe5R1ASw6dfzG+BSJMA+K\n",
       "BskB1mtqCa4uZNAYgHhI46zAyLRkkIpQ0JCUBSoNbPRIjnpc58hQiskoM4RuQoksjQkCxb7CXcMa\n",
       "vQItJy8XGLwHWMv78UKqbBTAE+wOh1jt16bxUXIYdJy6BxWDgItwNKLkG+7+azCVrSMnS5QTxjpP\n",
       "BFdIjM9B+5gMeWoCIyoDwozvl0haeG9VaSl7gMUJpY7DPoAXrpPpisuQrKfx77+G6ayQEtBMHQvR\n",
       "NTbfdJj2t74ngfAFCL/GAWsqnyj4gDzqGP4w6tuw1beBQ+eX50ORCJGq2hWSIcP9g0YkVTL02jg7\n",
       "3ncG0RQ0sESJghJLv3G3FIMRuftOOWCG32LWByzGo50XLxZxt6YstrDOwL90k9FprfGfdBlKyNjL\n",
       "iMq5sDq8OL7001gtbijVxkC6XfXkRQ3a7UB4Dldh8b+vvxi3LA4XHOL6ci4yIHYYku5tLyEAKEah\n",
       "BY1/SGtXUkklXftXmZCaSFuJYxGpXQJDesCOIbtmVGO9PP9OuaCLC2sIFrB0fEuEbi4VgPrVRQBN\n",
       "FpRy4K+SjfDKcHA82KVkOASs16K9sFpMMxDiTInhh8K3fXkP/b22T5X5UQpI4kJRvdnY5Lj0XEe5\n",
       "AAABHUGflkUVLBD/AAB2JBXMVwAJmV0rMcU8fIhpzV/uvnlc+wEh0EC78am7V94rMWw0F/FmZ2dy\n",
       "dVQS7mml1dV/1Aur8ymR/XF0DjmDReTNBvW8yoAwYd/qBWPFDbWb2S0g0hjv28/bTzRxmTtWVZD4\n",
       "pra5K7JjPK4aNB441JhOlvg1gm9WYK5pE2BfTIFFoDDah8jZ18orToUsE3VHQ27tqIyS9i9Hfmf3\n",
       "9oyyDaBLirj13Ycl0Z86PvEFphW0LOg1NblyZdylgdFvRrJ2pA1L7ztNgMeHpLkaWNUmFqFIFJRh\n",
       "uOrMfAncFZcdoS/cg8VCllEhgTpS1U/ml21pW38qhfDpCGx+rXKcKzXIxUSLZtR+GvLSJNz7AFhL\n",
       "yXgBHwAAASsBn7V0Q/8AAQWMq0OvUAHc8UNR+PRumGEPW9LNarBw49VZlTETfEsoFEZLdn3GZWrr\n",
       "RWpxn5ibGX1XoMUYOB1jLaAAgICeVwL172r73+Tyk2akVujXbedg0H9tdjqVPes9vzCjd8lkPCxx\n",
       "EcdcyMLdxmEy9pv/74F8BRRMbTsnWHRcIft1ZEeAALCH1vmJs+DT1mKEX201q1eEUwiLR/4dC0kd\n",
       "vxMJlXu4eeyb1bUqqcAWSKnGo+DLwr4DpAPNiyiCJHyz+YbX4mDzymf5xT9eG9WP1dpY/acB7bIm\n",
       "1ubU0F2lg0wsBRnXH76raIPioFkea1Yhk+tCOXxMcuHlb86TX55eGKO1toD66jcVIsjscqLQH9qS\n",
       "Uz3uU41JExMXoJmOwAaIbRaJg1cBWwAAATwBn7dqQ/8AAQWDUsIIwACT0FDUfj0bphhD1vSw8ody\n",
       "CYW88qYib4llAojJbs+4zK1daK1OM/MTYy+q9BijBwOsZbQAEBATyuBeve1fe/yeUmzUitznV127\n",
       "BoP7a7HUqe9Z7fmFG75LIeFjiI47KCl8GozCZe03/98C+AoomNp2TrEdYmfAW1014HiedRYAAAMB\n",
       "w1uaSQ6YJzTJd58eORkulJsl3GKVxHNEL5Gibb4aE0oCj+kvIPigbZRizA+1DVkgB+zYX0a3Dd8D\n",
       "vDrGwo+aXmclP+nq1mbaLjYl1+w7hThaYnR1CEns+lgIXBgi0NJPNIsJJetIclqvXCbizThzqPlc\n",
       "J6UJeO4GSoby4XJE2YzaWdZBKo34V3+YZjx9ljMzw4C4Uk+EskNHA5pQL9dipbRg622gkIM1wFbB\n",
       "AAAFQEGbvEmoQWyZTAgp//7WjLAAGU3PAABVNe+F6UYRsA/j77muWyCC2Vg5rlabmg419/K6HZnj\n",
       "Ym5AGoy40vaOKh8m5lx2xF/qf/xur6IHm8Wu/T+SxNH6y8ceHLJvsSEnWsase1KeMTMe5Zhh5lAz\n",
       "YeWeRDE+ULCqLPBd9V0aWb7d49GONYQZEGPbjd3bqojnRihha8C5KpAgwoduJ3oBe10NU3raTxbD\n",
       "BwB+NKWMwA2iE9F4fcitiKJfRLMbZpG97Z9OvkugX6KxMUWdHRbXYHvxgL76rxXlvUSCcc6+GXgj\n",
       "k6bHjllBvVGUiEVpwgISONanrTpcTilN7re1gJZHJgNaf4FR8L+PsvNd0dpp/dkr+sBqHCUkTyMz\n",
       "gaDDzvaLU9i5HAJ45MpG9xadsKNgSwT+IwhSWk7JbJlfFE6d/stxY6BFJInyCFvG//lFT1t0Rk+M\n",
       "gf/6AMPc24ozssn1wWiwAAo4sGXeyRav9VFfnJNg/wtV8gB/8jiBBY3qhk6aE75/e+2qvBAX1tF9\n",
       "9d5RSlLdxojlhY8Any2Q3NX4iUmCtxnrolPlK1YgO0zVIaObCi5zGu9DPNvGPHWaq1JOEilaNd+y\n",
       "ZqGuQwUmb/s8MgnOJkEPeQYLMnDZ2vccmqBvgcyXO/9UvoJGAnZQ1wv7drm4QzEIfFeYg0xOrJTd\n",
       "fFtbTw/CyS/VYC6Ua/MZvHrOp0QEf15W5lyUBV3oGhA4exFkttCjnPaxnNZ4gPefwfcb4LnbATDJ\n",
       "3U0wNIvmTIQJ9a1+qlnQU2xh2hIGg5KoJ/QbjrbeRfQe0BU7AwMDNKXZPYgLxy51AM5iMdHDgiFl\n",
       "qKRL5xVwjVsflYYgKfX8gj8Icpi9jIFcfqF/g/TmPwTnrQ3fZa3VyHBoX2YekLWV6RdF4J21asbS\n",
       "q3NiVY7BnUc/xRejGVVPOYT2t3fq7c8bz/8jSLbnMeZpZQKBYV89ZBkdt+w2vPgfG2kPtVSFMNhy\n",
       "2uO6qt2XBBBHggM4ZkoQKqG7g0PgxOlgPtQDLVMslq5O+7f2dzimjXogXRe5dFag/9uppgSRV5lF\n",
       "jhB6+EOWs/ZgjM9YJxZle74nYuJ0D4tfbP3taGiA77+Opb9htKfI2RKOIR88fTSVLeY54+CyjNOt\n",
       "r7/3a3zDmyfzO+nE8RlC1qLenDtVfEDXAp+5h6VYVuGtf6YPg3T8lvNcAKxIx5kPHyl5FX1t2cE0\n",
       "WTuhxHGq5NWWwhtVp4ygIqXyvDlQLyq8UhSlf9sG/4plu+ru7x3CXP9penQOWndsnIfMNd1ADUAS\n",
       "uUqy3KqV/92GHPHk0ZtiMJdmnOKAs31qozUuJGQ5Q9SnY6ESxElNfr4SPu3aO1lHX9oBNpYtmlJ+\n",
       "Txd6HCqDBf6S5mEJ8x7EFRV9xc5trPqx+M9N4+L8EXfycKmzUswe+P3nbXtIIhjKDBu6GSHv7/AC\n",
       "Zu+Ohb3qUgllF19HpPOnHqSKt6Dl9GDKjnkV8PMiLqPboJidwJhiV6ZYeXA9SmVKv7hIEQ88Qk0v\n",
       "uwCgfbaBhiW1Owh9zaCim/agt0iNHQgq4NMI9Z3WklUG991dgEbTABO6LCop9Sut/iPzKnKjGhql\n",
       "E+oXMcXxUyU63FLM7Rxdp2vQcP/gh3lIkkIZDqK7mJH5Z3ApKrJaswmoAIqczfQ2Ta1pDYFL7smd\n",
       "P/03tEJRKojqbh/GrobZs7mkxRF+eXSwEv+ymD93xU7EMgkkQw+WypZPtd5uOHRH7n4C0mchGbav\n",
       "5nc9XNyOSkJRSGAv1cZ6QINhmj+6dMeAkqCWr83qh4E2LgyOCAAAAUdBn9pFFSwQ/wAAeW/m0StS\n",
       "AA/OvGysSBQ3EVKr2lAnKxbcLmUn5LCE7AzGXuZn/kIaXA5MBGGmxJXa4xkMIVf+QZfaRLT8GUPt\n",
       "yq8mKOnVhty60GbwHmRo5m31poVFplR74zliAesHAFrvKf9sgfRGLlKq9rGaK7jeFrlfI4AQy0DO\n",
       "xzQviAAXOjQ48VzK8CyabOSKx+cgQt93QSFH4k5C8a40XFtMQKJZaGmLYK2DaDbW95XssnyJVzQ0\n",
       "9JOnXsf4zJQLg6oLjX4/h7CBM7ocgs+y37FijHJl/8Obg4Lz00N2+XSxbd1yHyu4g8JOTvwZU8WD\n",
       "Zq+1eGo0hsU4WzwcO2bTfruCVGxfgEHOuRTrurRaJDYKkPEcOobunwzMa7G1V7nkswM4+t92f0rr\n",
       "g0YuB3FXZIq+P0CTXF1cCo83nkIZ0M+wNqEAAAE+AZ/5dEP/AAEFjKtDr1AB3PFDUfj0bphhD1vS\n",
       "w8odyCYW88qYib4llAojJbs+4zK1daK1OM/MTYy+q9BijBwOsZbQAEBATyuBeve1fe/yeUmzUit0\n",
       "a7bzsGg/trsdSp71nt+YUbvksh4WOIjjrmRhbuMwmXtN//fAvgKKJjadk6w6DGe1lj0unxAEcsM4\n",
       "z+WzcZMJ4zfO4XwaH/9Opx+HZgtUCRHWZ9TFncUrAIg/6guYKtY7hZJ5rmDQB/fzD0IxiCNWA06p\n",
       "p4jbBwSA4hG1NYF0D5gQBKKM4A+bbGY7xXz6gwVgB4ZZHOy5CNr/5iCkZRUim5eSr6+e6tYwXmKm\n",
       "czF4daPaogpkMF4kZnVxWtnnZtU4NHOVMtZOgVJ0NdVTjEgRqQi0ksK7sltb0ENwgHSHLaV+xLto\n",
       "2O17sA1IAAABJAGf+2pD/wABDYNbl7bpMAAk9BQ1H49G6YYQ9b0sPKHcgmFvPKmIm+JZQKIyW7Pu\n",
       "MytXWitbvPzE2MvqvQYowcDrGW0ABAQE8rgXr3tX3v8nlJs1IrkP89atlwihcL+FE5WUfMfmFG75\n",
       "LIeFjiI47EiyBqozCZe03/98C+AoomNp20zEZlcDUmFikBSfkw3GuXHuvOHSbwN87YYEdBYmtOad\n",
       "QSpRziCjLWwbaHD93EDJ4QzZTP1gZzIYZSYC337IbvzZe8VLFDCDW4qDJLAmWtHqN0Ot6DIILpJ7\n",
       "odeywGSlm5WRrMw0awQH7PXE3yViWCg9cxZfSjNERRNMdOurJ7fg0FHaBdI3e1dNwokVlFlq03gy\n",
       "Fx2YxdEczWPoL/VTCV0AAjcAAAoqQZvgSahBbJlMCCn//taMsAAYqqT7hcKwADl420Umt85ATFXB\n",
       "ObGPzTk2TEYReyYMqZd30g336sLZVBRhwZGT7Ef6BW0mX0ajn16rFq/H5APEfeQFXQUDzN+hZy6D\n",
       "0L6isqt3rgioYodirr52DPMJmgu6TVg2hrAjxdmAtz32eVOpuTqPBOg7hvF3TTJw4s4BRvAP8HHs\n",
       "Ow2IzcllBM+xTEbUQbmTb3UHpedCwhllJe4/KvyJxZla3f1wxn5/8LnfytmZ4QamHVz/waE/f2ce\n",
       "Qce9Sn7FxYgHe/YOyNQIUB0uv0mndQ2gC9qzxdL6QXxlX1qblg5xf2ctbv8DKP5OSR/bIGc3RQUs\n",
       "or9p7PtO+vmE+QMFDUjsvmmCI80tebUO8I4VE0BYMTmYzK3yMuhovR3UlxBqOGME+oNgfwKaVqLl\n",
       "87LnmkY/eKQhiCw5VWft+LMDc9NDNhNp1rkEWKdFKyPCMxEL/tCqt7ZJJaxzK5mXy3yHTnf9BOlG\n",
       "joExja2bQdR1Y9We6krvCPeUqp6LEvMaXONmuGWTeVGS4tQcUaD3QU7e860e4JAs0dAbUkf8e4yp\n",
       "d4x87mSaRhb5FwJdnYReFexH2ae6p8OtL03yU/6W22EeLU1gsaQcEXP30EUq/WogS+z5pxMysgup\n",
       "QqUtzDrZJbdLYqV+t50yqSSiMDcg4NYGDusa39+c88PIxgRsWG2ECiw5DN7QentNthnZQBRbSNJG\n",
       "T7cchmHlEAj91JTMzbtnNMbZufMmJr5Jtas95pzHrO9Y8MnMmtITUQzDFxv+0BumwSUlyh8q0v2Q\n",
       "d4lrwk6dHFOSHGyJ6VS7JOynd8nHyCb9BOtOdlyZ+vn+RpRkvYILgCDN9ZcPpTOVo8TdEAotR7cU\n",
       "DmsqepuJ5sxR+iJSnQgzPnl/MGTg3Lmw+wER5mxy26eLqXwzugDUMmflLWhIHzRxHgUlvctjwhdR\n",
       "CdSF4rVOJ0Q8++81OPynA2QWL2xWctK9uwiaV2OG1lMXgNf3JGVyth83tke8pYyP91x3FojCWRtK\n",
       "LAX5cE9O52XZtp+a/rNiQ7BVcYXh3GQ/WBiOEiW+ghvpia1fknWnn06ErdhBeVmTiCxaF166JWRz\n",
       "9tym7L+Bload7bN8Mb82hB01QucZyvMoiX7fX9/wwZXNGQUU/Y039w6z+ha96J1j/3tGAiCyQAWn\n",
       "mXINIW20vUUqtwCZ6ZIuELh0MIhe2+zohAuXPgpu5Nngk4e3iidtvNdWTgasjus4zpGx8xQp0lWF\n",
       "It2+OZ7/5er8OpSxN9rQheHz0lr4KA/95CUirBBDfNaAtgqYzhcVhUeW7pcDRiX87RQSswW5rnS8\n",
       "6Z3S+Y+w4eRKJSCJdpRzXRs29Uvq8iXaQV4CXI0GcYu0x0SOPnq1vTpUqRh/QtVIijXa7J5DJg4V\n",
       "eyw0pkMJXMjMpCNzK1JAsfy1UdfQBd6w5lHnRBMFWx+xkmzK8F9JbVh9HdLQKwkUbfY+9suev85x\n",
       "bZO/zmNDrMGsSM9W1J1XB5iKgjBupweTBFJUoQpcd586lUhsD3D1PszB9pg0n6xVuA/2NLy7pQUm\n",
       "b5QahK1GeMu5okGXPWDPGwrLJpDmLR2AMvcjEuxDveiG7vuv5FTtlUqTV/SuJjRrBewWv5uLSG9E\n",
       "puBMNJZM2yQfvUzZyn3EZsicQBskhNNVHc5zCQjJMAq4bJkrCD/PjTxQDCH5dRM6U7KXTNwlKnkL\n",
       "gToqqxt5REtXFg01uP/UxdTnCk0h0XrRGTkOt7Qr/yGqc6TH4s8vKCrqN6PAm5FGJnKUycRn1/Js\n",
       "kBeOS1rTQkrxiPhSRurE1NRoLX18TxfJIrNkQN2M1DN5Hetrd20kU8qR6ZpUWwbU8/RSkv/u7ADn\n",
       "zCR1V2rIedXZer8PNWorVAi/JK4OsjTZ+yTZDNaOzZJoYwWbUQs8o1/4Mapo5+nBSBq1ZZWi9YhT\n",
       "e/ZXknAIOrlUpxhqOP4ZQ8WXNAcgukMmjPm7hLewCxQzFjRfpBwN14a6R3JdujRf+mXf9l/qp/Qa\n",
       "8HmTKtm1makoFR4+9A5B7QPGQ7s+W+Bcdh/qDBt+SaaF3+/J49s7hCyMbBT95lNyFv71YaBpTtZB\n",
       "ym7xhVpTIFfcmuPYT72wRidIEJ/t7gWexTiA1dLHZWSSi4vCf06c+ATcy92BHDfBqjsHxa1upnBO\n",
       "7u9K/G7EuSfqH7fBfLQLRFQE5jSZlK3iy4zv8Qv1wdH3ub6IEFFT9u9gk3Teg1A48dS0P3rplpoR\n",
       "IyJlVDrE+aIs6ci/BeWWFXDWrr1f4AviVrxen4lUzIpiMC5FFQDxi1sc/VvvQ8ZLS70MAqpZf3R3\n",
       "aY19+HjWBT7QBbIKQyV/hHSeKhtyXM3ojtSRzlZyBV4CDr9nZbryfdPpvJHzb4wva6oDS7qIImho\n",
       "seubuNoYhJ9YXPHdkLY1hlKDCgwzbLI9hJDsTppXkcboU+D/oQt878/Wlvd7i+cf0xJgeSN+mmD+\n",
       "Hivs4Fmt7YBorvpjTAyWethxjXEhPfy2yh2bWx4MuENbTgA/Ja22DEN/XVFIL0u+HiP4RTztMNAU\n",
       "XFrPZ8a5SrTML+Dh4YZ4dQ9YI8yea9PuNNSgAR1gzqjhWuJ6AVtsFHZvPa6zSExS0FXiXkWaFUs9\n",
       "0PiV4a4J5avwQqdhDa+M/QQilBYxHM9f9DjXHe3+q2pJJtGoQ2WPkFF1q1XabA806o8rWHxtIPQy\n",
       "CGIqI2N1jyB8/BZY4EsKTaMbyvWHxkDd6zO844DsAxDP8kG3L26xqnChUo38ln74Y2vlyVUoGdDb\n",
       "oLnsZHKUlaiM9ofuY35UXZHxijDPfJp13mDqe1UKeWEesMniPnQLnTOz57Kv3HQyfT73e9vLJgJR\n",
       "iIFEnyfHsRyOZvCAq3bTdZQMlIQSqr4b32iy2jm+BmacCcwndphLNMSCrHGo59bgbcREB40MtjAB\n",
       "xEMbqj79di45zHdf6TVo6Xvux4k+dv9DS3WojXB7CRtcy7qAwqxgh8lUbKcwyrVljQ6NsfjpNdr/\n",
       "CeeEi0Kj3g65eEwhO1DePl5hRnczTnnj1Z5wD6ZQDZLVc+cey2n/mOaJha7ZD0QZqvmVtHsyqe7K\n",
       "+EBIq9F6EnzMuiY6IwzFrJvDSTze88x7jpf1xKKy/NrlFEfwDbkLtDMdZic0mvehT9rvO8W19Roa\n",
       "GmiT1Cc8bSDq4UOD6X1DGS4jRzblJnNbyyhDXVORhMkoDeWzNFm9Hy5vBJBWDJQ806Nh0aU+kO8i\n",
       "0aqNfed3BamWsNcjpLZ/UJ7MXHsemJ6U3hXX2N2bHGpQ81YKfbdfs0br985Rgdvk8sqI48NYmNG1\n",
       "kNTa6yYsgzYChE7yKE0DhORy8xLgL6Gk8Zf0+uKHMIUE0E7BHehz/r864IFezO6KDNeyyp+NU9bT\n",
       "4rKsDxBfjvk2WNoMofKFwv1iXxwM7sECPmrkJYQEaKL6QtzwVwHGUUWzwkGMmVTdhe0sWEFKtHQB\n",
       "jwAAAUBBnh5FFSwQ/wAAdjiotlWS8ACZldq+tMRzN4zRrfPotG4CbtfcxSztNTFOZnAJnrozyrnY\n",
       "zP580UJL7936q5HAAzO6BmQ9arJ9oOmy63dIS59qRPp+zNCkTSBYSQEn8c94ZGSZpnla6xfcq4ou\n",
       "v1ervAeZBYxRqe8SiXda0uh2WkncT0El/E9fHJ/bH8O2BQV7kpEKiukthoGK+BNCOf/YDdn/LXMS\n",
       "2oUK2T/Hf+EYwy1Y5WEc+fwOvdj4Ft+zs0UXyU/oynExtrR5sOb2Ic2Zg54qthjbfkX/ITg36v1r\n",
       "4hwOYwnPS4on8GuqGiFFj+8cp0jHMH6XfWodT3NWEbreoRwx7nKs++nidxXhoa9Bqi4U1UPlYha2\n",
       "FNyWICb2ah7FT/UErQLsGNH8ctsDlBJOSS89ZD3Ok1wX6G5dC6AVsAAAAS8Bnj10Q/8AAQWMq0Ov\n",
       "UAHc8UNR+PRumGEPW9LDyh3IJhbzypiJviWUCiMluz7jMrV1orU4z8xNjL6r0GKMHA6xltAAQEBP\n",
       "K4F697V97/J5SbNSK3RrtvOwaD+2ux1KnvWe35hRu+SyHhY4iOOvMjC3cZhMvab/++BfAUUTG07J\n",
       "+J5F9P9wvYJqhAAQSP1MVi4a2wgc77JVQxXJBK8mJZ2HW9Opy0JcijVQ5o0AkEMebVA3WLVyv736\n",
       "zmH4zXYZ1lMO8G0rY1B6D4AcCrGvA9AjXybGbmwLArOPPctz8mtdO/hs737sMZApDWAtPoOhRFuP\n",
       "Kaf/H1//K4rykwWxlT/tu4Yk6ZZx8kTEmI8O4jLy/bKGGNVg2NFVYpAY1We9e9u3W9ZyPNIjgs8Q\n",
       "kVLKAekAAAFdAZ4/akP/AAEFg1qkTAAJPQUNR+PRumGEPW9LDyh3IJhbzypiJviWUCiMluz7jMrV\n",
       "1orU4z8xNjL6r0GKMHA6xltAAQEBPK4F697V97/J5SbNSK3JaWNzkGg/trsdSp71nt+YUbvksh4W\n",
       "OIjjsouAsGozCZe03/98C+AoomNp2T/DEn+87L/IRZVCOyIjSJeBD41IfaAFUF7uDl//UVEBYW27\n",
       "4ECozSe1arNFaJYy6mmylfQlLWxs0yqbEaiA/nbgCsWkM5eC+wZdHJ77goBCYRbMQbjrlcP71D3G\n",
       "6u8J2z/auNpIU/7edlFzCfXJRCqpw7chjZQ7jYuWb0FTviBuD6FA4f147+WAIsbzP+qI+PFh/mTg\n",
       "yKbqVW3Gvc2tMWYpoR/6CLxc4mZK0oduRhmtBth6faAlSLcPD5vaOJF3kIofzodevBh7XAjos72N\n",
       "aSUFL8X3LkjERU4XHWAGpQAABsBBmiRJqEFsmUwIKf/+1oywABivLRklMAAy9S8PqbRcMu1nonSi\n",
       "ODCwKPS5tRFvoPJX45znFMnsqIJDOyxXGyC48SNm2cx6sSne/bRFvNe5Idh5+gdNYh908CH4ZoMo\n",
       "FySYrq1dse9pcwKuRwhkS+68XQa1geu2hijn4vYUSRlSnqFEV7XT6NC/fLq26Iw0ei2VsuqZasZS\n",
       "lcpNLF3ASqktC8fhklktqI+tI8M7XDbAPSlCPjCj3pilUHOCLeUyXLdF9dzcodoNzPIn3oZKx1Xy\n",
       "UIrbNu4BDCBREjx9ex3tcEcMptjf6d/OIaJk4//CWVtmMUcoVmeK01Hx9zYKdDWdCSk/CbhUQFTi\n",
       "HX7MRWCmoju6gNgHVErVEqKCvQr2bKLWiVRjONMfjh2S5sgpt7eiQa3ydIEaW63DmJcM9HKrbinT\n",
       "iKblSzemxlIYbAj24DjsikJvgCH0mZUPGHbQRVIHT82BvrA9kLunzCYhL+acywbqCRVHv8VCNof4\n",
       "1wQ23Cye7petHfdLBa4wDRCVQbY1jKT2mX5uaa/rZB0zIz5KgnOnS6JZBqBArQfOdWl4WM8YcLOI\n",
       "mYK0Z3UCcoKO82MXqEsodNED1FfJGBeHMUPIvzG1YSF/c7pL1IeO/m0NlpG6oF5r2FFZbCC8EnB5\n",
       "w1zhKy/Pm3ccXYVzTDrUMAVv8EWWn/c3eAqI0E4/KePv+etCMiV88K+aZcnwMfcUe2y023MYQlaY\n",
       "PvCVhdBgI2or2YeLrTy3dK/b3xgFD6riw0+1BIsfs7dH/qlloyZMZ0Wi2eCMYLe7epRYU3GP4zzu\n",
       "SkBSVuQtl3A6kzzA6OUBgHAVfs3Hvjej7Not5e2qg/E/nOiz6GO9zr4z3IGQEjBT9KtX8mx0wnVN\n",
       "DumK3L54r7WLb7HwZsLvbG4P573sFIkoLZMwIFaJF4rmAU9XTg0ayZfk1DQ4olAj526K+Q+fOzem\n",
       "DtM/G2ZS9T0CEYMzDO34NOHBCNIliZjHOiJG6llxyBWsLKNPdGY9N93ROJvblEC+2TSYmCNon0KU\n",
       "Dw+RavLzDC5o8H/MzqHIhu9nWgybd2D6Z/GeS4VtOPd6X4YAEaeCUTbOA8CYst/dwTABotnf/KAl\n",
       "VlkCIGWg3F/AiS3CSwMz7NRAq+gAIaCizJSxKm0T05p49+k8rHYoW6tu0bb9lR6EqFYKIZO+qRsm\n",
       "M+fw/ilPBi01zntfq3wJWkx2sQ9KC4FaiXtxXcytBFfKzijMGfrYD6jTWCKy5pjJLFBwetIKDWnp\n",
       "e94N2VzsjGYsGsj8IWxwQ1OBQnWTkAkQTK91uHuoJj7Yr9I95WSBPLT96cTFZHR9YknzHPeZh7Dl\n",
       "8VtTTLRwkKFJVCoI69X3MJfLUldDamuJls6IfKUlfXAHEyMSkl36SwYt+1ir91Tnu43BUlSgaTnD\n",
       "Gbyss62u8fUx9qvguz1ank+POeKGQVwgZ1RHELezoXOMTwbcVIm8mTPD8pFweK+nS+m/4kqj71Sa\n",
       "0In4XT5vfRr4r0dB1L/5DcJ5hr37+dmQ4Jc9/weM0d9QFyJiepEyqeTHxvfU5QS/uth4g+8wdBty\n",
       "Tuhq8ZrTqhDKDZKpaLxurt06hYIy2XQkC9Lb1RBlHizwvb7J7kzmSbup31gkuiYhiN3sWvMirgHo\n",
       "ImuOIn7x6QpbfoMmKEFY3uH9Rvqw1GjnkARLXr8bNkjou7pRzFm+pYgvR/ka5QWPB1aJqI794ADZ\n",
       "f69TRDTpmAmnZ6eFz/Y5qIL17tqUImgsRcf069kUojgrveOG+Sl7WEaA8qzOmB66X4Immer70ZG3\n",
       "JrXCYnRilf0Lsa7DebkI1ZxcYn+q/+V4izBFb5VBlaiZQr67hPHsSldXYgVow7V43VrIWNq35wZP\n",
       "i/gVnPNdrTR91hPkzwZrU48FrW9OAZTT9f3ryOt/+ChMSjVY+TAxdYFWrErpZi7d8iCi/DWh5VBw\n",
       "bITKgZtGBKTMb+ff4Jp9sok5YsE6X/5IUEi7UfsMwd282ZI+lag/Rx8rpUE/rJYM33aRNkZpGEac\n",
       "ntMLhkNzd/e0LkqRn1H0I2WelsXj55SuXcfL9Ax0bhQv/XO5R9VRgfGv2fDFMASvfMh0ePXlRV1T\n",
       "D+P+Yr6w0zCh+ktX79J8zIe9P+23pCZ37Qn+CYD1OVAYrvsOcFclsILnn9oj1yHTfUBzvZEHYcSB\n",
       "yXTwPTMrZ+lucw5XMFZEtyymP3qQSAfOekUWZ6JwMyYvWJ7QIS42vD/gbBdSrICUjdl9jv17eI/0\n",
       "IAX3I51MJPLO1lc3HakZ3iCAQfGgBzQ2vPF9fECbsq+G0rYALaAAAAEUQZ5CRRUsEP8AAHVWOTAA\n",
       "mr5xlD7WJkcO/La6PNE3rfc7ImZd1/AO4pZX1CrPsh+fIyjk4AFxIupuv+/B4ThpwTpnvF1QhAVH\n",
       "TPh3YWnUO2RW+0eyTJR9SuapZ7I+VKWjrtknEEonmmnyMNbmYXJalQDsJMyf+R4QOVwpnu0thls5\n",
       "zkmKPTf3gO4xtkl+wR8EbgPu5vFeyETcHRwS0YzinnRUV2vIwaxXEnGBnN5LuPA9xcxofVw/z75C\n",
       "Pmvn00WnCP/j0hCdNrdpObTWmVqGSE/Il9lpCuJqB6SrjVMyzwoVQ2QETE+KLiwcz2aV2vfpAzXq\n",
       "7/oUoWJaD125HDdw6moewusdt7+qtcvZBpHBRgY4ADehAAABLQGeYXRD/wABBYyrQ69QAdzxQ1H4\n",
       "9G6YYQ9b0sPKHcgmFvPKmIm+JZQKIyW7PuMytXWitTjPzE2MvqvQYowcDrGW0ABAQE8rgXr3tX3v\n",
       "8nlJs1IrdEgP7HAQN3Xe2ux1KnvWe35hRu+SyHhY4iOOp/DLdxmEy9pv/74F8BRRMbTsoJSfBO0F\n",
       "l29gfJMG7f/OHIgClTvuqYu+b8aNzD29TZ9mh75AKEJCLJhCbxlEXFm+yPV4+9kLh9u1P5MBGDGX\n",
       "rWsavqIqxVxqUQFJEhWrwyhC9QKxKVN5U623y9TxkhdsnNHQ0Yu+9sO3lwkO7Tpf2UPTOObzX6zS\n",
       "SMP4D3U0liW98Aqpbhi1Zd88PDuqRCUcwT4uejKATkBsDGfTQ1QAXnp9vdS9ChLx11aRA9IAAAE7\n",
       "AZ5jakP/AAEFg1LCCMAAk9BQ1H49G6YYQ9b0sPKHcgmFvPKmIm+JZQKIyW7PuMytXWitTjPzE2Mv\n",
       "qvQYowcDrGW0ABAQE8rgXr3tX3v8nlJs1Irc51dduwaD+2ux1KnvWe35hRu+SyHhY4iOOygpfBqM\n",
       "wmXtN//fAvgKKJjadk6W0ekfo3YUaF8jBAOiYAvi7gdKkY4oW2PsTFsdcfZnouMt3kTrjQM6W8zF\n",
       "/BcWczZ3Oe14PGzIVrIP+P/nOJ483UbHfmntVyOtm1VfbzVUUxwH81YZLPDs9neULKzykPcwzUhn\n",
       "gG/ztNzi1Gza49vdvXsjlq36G1QH+oq9cV9kMkgqzYgdGptt4yIaLMOAoYAgaoh6WsvPNLFfhL6E\n",
       "PW+55HtbJV/pxWK7mvB4SEynjdke83fAGCMcABixAAAD/UGaaEmoQWyZTAgp//7WjLAAGLmf5LsA\n",
       "CpVMOrFnGRX5ML7hFGZENfXnH1NPgOgRPzZj6IG9FP5sN7udrl9RNGdXmwmF0+IPxMovQa0GJPpW\n",
       "K/4x7rRWGzOGD5M4NdTVhztWmv26FYC54UpXT94ZTxNrZRKKsZEvuyiRUq94lBmlCRISFDnZ/LDs\n",
       "Swr+GJw8KZOeS8keefgFIKCIHBwLJmbldN+Pjnw+DG+J/K08PG12e4m2IY90q75N3Hs0skG3xG/k\n",
       "1b0v4v28J9kujsev9PfQoBSJmOo3wt+ZzriIH+wdZKtIEbdPisUfyEgfi3W0PF0HQO9D7Qi0DPKz\n",
       "eEPDY0VYZeDb+tbl0nty8+/aQ6A6HN09woQGnsSKarqdHVLyioFFtN08/kA/B8RdaHWlR5UjDe7u\n",
       "5Cz8iltnWzMEAvxiubEaPQjylmTXWAymP5uiXygek2q8oSZQCjlkx3gNGO2hTRFT5nTnKTe1llu5\n",
       "EczUMRw2ktZtsQgzP3PFjKCzHH+teI3gIyQ8MA34U+wk8YhDMVxN976xSjMS/btCaeIGK6agfFI3\n",
       "whVgP8WGXUXmBSqMFHhzMPJzXjX3FtpKmV+SsxGihg71ZZwBHGNdmxVy8gVGvw7uCVOv4GYwdgr8\n",
       "Q8XcM8tYLNXtyLVZ1YOFFU5GqX7U0S5XGDcMA4jkd0ogtcO5lkkhpRguT0gkiN/G+3i31JGCip/D\n",
       "B/pH5FzAsPrstEW4lqMI4B2nwfiAYImMF7+dIuts9OI4HQqcLyHj5xLd01N9or1MzThDbm0W8VTt\n",
       "LlQv7TLHzhsAkruNuo0BeMI6RVNgJT8lMk6j89f3ZPQH21giCOEdMuY0u5fyUB/fABhozxCKptC/\n",
       "kFplmpQ5Ss3VPoy0oRDILnnBpSYMXUGaGkdO9zYDbem1l6SDPpa9Sl+kWCPrICztDBTE30RPUZia\n",
       "u7mpyV15dRftj6eNzlKMLRKgzjfj6AEYGuHpt7dnQ3DMcIyS6VkMaBqzHBUHnpHjlsGzjeXkhPFV\n",
       "9QutPtI5U8XiPtPBG2IwJNFb6Jg2tJExp+ZLTDJDaLWRZp6k04zKCFCBDJsffcElobqeJBsnhj6v\n",
       "w5HqQex8aTRL1EpNt/FWg6WNH39oJ4CPSKJ31TB5r9H+bGTmqiT98GteRbdmZW4DjgGyrvsqwUbE\n",
       "+6qXv1Bmksgjofnf8i7w0bVoPVfzQVodbrG/zmG55WU4KJYa5l9reJ0RWvKNfueOTyERStDeJOSA\n",
       "srXScufFhmE+NuHXW1QQlCgchuJ7lBZIr6t25fyPptbMwc3zJ2lVErec45yNMqYDar6b0zEhdzQB\n",
       "YP39U1hWbKmSwKFFVtgSTOjalLg+et7687aRkuMAAAD/QZ6GRRUsEP8AAHVL+odbRHccAAHxjCFY\n",
       "2Bm5oZMw9J4JtUehlCe7wqtijCU/1RGXZW9lDiYouRDs4CSqdp6uPgAIws3uEURoG/sgdt3imsY6\n",
       "MbyB0Ne2iJUQRLkQnA+2X+wH6KSm+tGSr127SrVVdWYaLtuQCgvypB2H7IM3Nj8qd7nVV+HdlGDt\n",
       "iDRj9VFkyOi8vOmXlObnEgfNQXfHg74DzIgTcbay5pa1lhxqAs1mwYKGkYQfpbb4JAbjeXFdUjXQ\n",
       "tzy/pYVuc8jJEVkX9GQwJq6Xu8rme3bTT9tvKeq42I4mFug5SDhiYcydWoY2vDKDwuMB6+rAhUYS\n",
       "0CmhAAABJAGepXRD/wABBUT9jME1wACT0FDUfj0bphhD1vSw8odyCYW88qYib4llAojJbs+4zK1d\n",
       "aK1OM/MTYy+q9BijBwOsZbQAEBATyuBeve1fe/yeUmzUit0YN7suiQf212OpU96z2/MKN3yWQ8LH\n",
       "ERx1zIit3GYTL2m//vgXwFFExtOydLWFGrj2YH8QQ+SPBb/sQBc0oh3vH0WFb1JBy0ljaayjW4p0\n",
       "rCAmrrx1cJhDYb8aIeS8cdtg2tTqyYmCOAzSKbn9V87hUYgDXZoBye+B4TtghxcJjLQXKhAjuw5F\n",
       "lypeJRcgG4njZ2gFycxrR9/YcGkG3kn75IlmsLZrAEDxbMJ495A+U/egK4pdQ/isPbfEYivsRJpx\n",
       "qLlVq0t0YBSx8axgH+EAAAE2AZ6nakP/AAEFgytDV9vLQAehlmPwlUElZ3k6pd5EtGU8LI8X3pCB\n",
       "FDgsGGrxTuxahDN2YZcXiiouYsLokqLbs9nUdzGrcLq07ga/dAc4Ik2140Ca2iMvUkG0cOV7tYa3\n",
       "Ek5w9hPiuvRxwjFWpiIh0CbT8SM3n8eq3XbFIBjVLa7+3+S9OY82WxoSp8/rLCPviO7y+0peLiEX\n",
       "6eZag6y9JFaROP0pYHqc5X7l5JmP33CmaZ2fmPzkfvBl10hg9QSPcpnwHvZyvsiUQKoOt6CsUHnG\n",
       "ek91nZEou3xvhqEkgVuhGBY7T2JHxrf9KaH2IhkZlXy4rSbbnzrxX6B4/AHsuZKdlOF3LbuJmq89\n",
       "zawn7B7Jr5zJPMNuYDT/N7KUliBjfKDbYkz4eVZAMWTnFIJ9ZgJcdZAccAAABF5BmqxJqEFsmUwI\n",
       "Kf/+1oywABirPVIAAyN75z7m8KkodkUAX4XBacQDFbWDzvK2UyEVOJvK8BpJESfbGZCcyc6HYQLQ\n",
       "uTc4AciN/TuQ+N0LXnUaxsIfIB295tQUoO6+b+Ex2vsSP4/m32OnlUMKWUfYTLNQnYdftBkhzrQC\n",
       "RxdBReFqFj0KEO7iqz+QvwW8AMdEsRsYAAADAAsf3OIPvRCzxGWWdDtfLkPkU6owEjZ8uckMfUAL\n",
       "Tb1KfZQJtNks0A2lAbl6XIbtu14a7Fovv8lc8wvSSuu4HqIhvexUJefZlUpCwIJAW0x6S6YdNUYy\n",
       "1VoxWkacg7PiuwE2LClmJcpq4h2j++WDJpysKSofJWCm+5BI9DszsyvaSXJrdp1DzIRKQxRyW2TT\n",
       "vU+h+S2f6mB/ol45Ute5ceIIjxhT0CPVJpu5ip0FZt/R7usiJIdYOPU8iQRqsfB+hAC2ptm3D0k+\n",
       "+lm/ianzFN0mvk5aZF4G8lJz3uCv9LS6CyyuvSpOulu0Fyce8YTaboZp8O+Fw2VAzAPzvnoPZcU+\n",
       "AByHkIiUrgyZH7Napr7Db3Nlhdu2kD9wQQYPvBeku7fuweb5K119DrN26N0K6nlYIpQxlJz0SKQK\n",
       "5MvsSt+ArkoOee4Ddq4JrPxiJMMsv3Qe9DdVDkpqEVCnLIsm8rwVjdFiljW1KQGZjSs1QjAqJWxv\n",
       "W81vsHMHWue0+lLIB+qaHwi2WPIHFqvzKj6yBdpsckYqYdkSerD3LvjKQGYMILhNFw7TXhhk7IIo\n",
       "ZCqfXhU7oJnHxjads8X2MfI+Eo/dUc+taecOCuXywIQoGHcL9HKqAZNGqrh4kW3F2v+uqGBtYVuI\n",
       "uz9XTNQELST1aUAm3jN8fvAotz9AJZ+G9GeFtdDd5RXwJ/vxfVSLlLoFNubIKM9herNAFnV+pUmu\n",
       "0c/MJgjf5CERQy180iyj+7cIViRE5y3GJhikUzoaLpWzdghhBy7FMaRXhfI5uWuTs/UNFyCRWu9d\n",
       "kDgPujrqzL419SZx22I7LAuPmsLJDg96kMZM5yH8osCTsO5tphMoLYYDinWkJsvcgeb8vN/pZc2i\n",
       "Q+UYvPOWghNEhHgeI10iCiPNNfe1iIeW54Cczz2vopF2I4ncCOKP34mK0bVqINPhaCzv4JuXHhL0\n",
       "6eWjr4R0TdiW8Nx9nymRfw6UrQ+fcKKsljap6XXWROfuxtuXzbtW6ICTIpY/IX2Ty6TvYMw71PJ4\n",
       "nSiuGtxIaXMbxhhdbOAyAbzKVRtzPOZ6RDCn3GLsd/GIqbf2U7oohYmlo+HZhZpq+CAiwtM7iWZC\n",
       "jEHn3y8thSB8ixQDtAMTxEKeo8EO6XrKsxK0zVfoB7AcT4B95b9G0m/YbL8phEMP1XU5FWcg7pLv\n",
       "fKPBbGrW3rkchaptyu3Uml0yM1lruQ2gElsgQRH5x4meZITGB2dD73mu0O6bhUpsCPVg3dkkHTB1\n",
       "TgLvTI73qpSGb1PqfXgZw1rkHRRSEhPA2AAAAT9BnspFFSwQ/wAAdiQVzFcACZldKyMvLkPLMnre\n",
       "YLWs9/Z/RdA1h+ZsY9yeXG8THArVZnMf9h9Rnaxb7+1S99Td5aib0v3jG0vhinyNvkAHiVeJa4G5\n",
       "h6kfygos37909L84v/uI+pOhZIIFOgcRLj3XrmT1TJRma0/ipn7G0CFyvb2TTm1ox8VAMqsEtwYP\n",
       "9bwQyqT++ffI6x6T26Z2mwb53lCt753QoC6sO6ik/9zoW0OeR2DpDAzcwPMKM+EnKmwGdpXUyRaF\n",
       "/mp98nIoQUYznhIzhb0hnXTSCwion0bXjfjtzS4N0bPPHZktY5F145/K61bsuOvq4rchhT0C2xIR\n",
       "+5y2BtHveiH467Yg5L2oD3zp2y+3jbFsZsLznbL491AUvNtzhsoeTEXXmQmFsCCjYqKN+5iNlfgI\n",
       "HPA8ABixAAABGwGe6XRD/wABBYyrQ5tAB8TOcL2GgPiyvnzQOJAzM99FC37GWyCvZ2al6i55NlBO\n",
       "dclUUjC4gO4ZkX8aT4PFlTEkPRrjasv8I5q235ZUhuo0/8W8zwyW3lCe4j8xL63+AqdQ6x9uEzgE\n",
       "ZUJ0MQZFRZyP9oxHJIH9c+GpOc5vug+cAADXYf4r1boMr0Td7wmMUY+UH8wkQAVgnROj9Yp5vuDt\n",
       "byqJ62cvAK3837DW2jD17onhnP4Y8MsCG3sYfwx4vRmuxulP2sNhAVUxUoy6Z/eC9ABY+Ks55PJd\n",
       "ylhoD2WiCbgcd3dwXcEsPBnwv2jWIzPORJf8MI008fW4RlKqU8MREnfqspQnEKGw1a/O3iRhYkLd\n",
       "KnBcWnKkCLgAAAEqAZ7rakP/AAEFg1VhzeAASegoaj8ejdMMIet6WHlDuQTC3nlTETfEsoFEZLdn\n",
       "3GZWrrRWpxn5ibGX1XoMUYOB1jLaAAgICeVwL172r73+Tyk2akVubUF+DhD8Gg/xWnMAuPvwN/PV\n",
       "jLYnVDWNoHBqx8t7DZEjTBD9NEQBqIuEBMjUAAL6PvicEugvA/Av6B21SvrsOJxNgnegAABTVUcR\n",
       "tQUfw2a/8X2Ae2oW+8t1909OzoqOdll4ooSOnQErZ1+7BbIvwWmueEBXfKnQ5P8fyPIkNSxpRaNz\n",
       "Ek7HYAtncm4XXKnzTZwCbIFuAXtY0r+Zxp0garU8VdSZIK/OjB+AbDJZKGUdPjGqzW+eb5UsEjfD\n",
       "ktbWrb1ZbLeYspYGLBLwTS4rCLKIlqABjwAACP5BmvBJqEFsmUwIKf/+1oywABlfJ/4FEAArxHaY\n",
       "0+X6MTY7bvLAKLP+QewUmBSFXiB9t1LbVtwqPrfSUzCSiWZ3YZkjoa0Fh3e/CjNt4yWT4y2YDLF7\n",
       "aDfAa04XRfqYeJeyoMeJcwM18/nNxp6wInilXOzcqy6/YY+/Sjj40DDYd3U9knAy0y1xW5ZfAL7Y\n",
       "gyu4ZvZ6TuKrZEfb22qRWMFY4Kz5grYdGaE0iFm9VFfwrmD9K/PBRjGgzHbkFl1Ggwzv9ZJAT3kG\n",
       "0czxlkiirKc9xneaE7jEjbSskgM6f25TLJIrOU2Hhbm4wJ1p3b9LEtPGwes19QDARaqVRu8CI8GM\n",
       "yjaZcif3p48kzVk3b3ZMefKFW9LOdEAaDRA2DQZxZZZCHcMB9zolX7ZzLButm8XYtGkDlS8iRGkp\n",
       "ZreCdcg0/Aadp/g+lbL79vHCq2WmCuoJ+l0R8b6cKIpANc9kyrWh6oOJw1RHUEb48p+hdclGeuES\n",
       "9quQj3JfobNlV4a90mG++TH5QxBtqQoB4qFV+IOL2TAIPVL37aLV1Ty9hqDAp6bvMiOPESjZ9Fbm\n",
       "hMWfHaPR/NuQlr+SFLphx3QxhoOi988BSmqrqYgTJGXBrrsBZvFDAh6iwosCtEbVfymvnSmtJIC5\n",
       "ZcD/mJFet7hZo1fVzCYLio7lun0e+j1lKtL2ocv2s/6JJQNClpDucWMshvmzPg4iOuxpyStxmhn6\n",
       "MIOPT6SCeByUrecaVy1ZceQjJUpDfUC1Zo+zq4t9ulC4M+0I+nJp4MP/dPZPyPab45yfj5v+lNjc\n",
       "M4qJOvDKegc1nOk9WNCV/7ilUmXlhzG/Jwn9Dph9EDIUMLPQm0SPCi4KZISgouNFmTxWQuxVSpKs\n",
       "NeU+BPWWb61wxXHGWVvdAWIwZVz/7kfK6eCpgCpbg1z6/ZJUsUKvpxDXG1HChYhlC7QE+Fl4TDPj\n",
       "ru2we6N7s+OjnkFVgbHuUj7s7d0z1D2VcwiW++vVbUcmKNEwzkmokZZf7ignsnWMkZ3E3o7PpPYi\n",
       "t617iovxYDgE2tHA7sCmyVK1cprCAVnRkmVaub3uFkkXr+uyoGm81NwxBcS2Ka8/ZOrU85ReXobv\n",
       "TJDO7KgEdV3Es6Kq7YX2cHqs5E0aqCY3VU5oQUlb1i10KNNxObW/Z3ni6d2avZ94I+yShJN6WtfI\n",
       "30uKbttxdcf6JbQ0cx2kZX6N8O0yMMQJzca1GABX8Y/G9M5HSou965cSNHPgEr4YAFtLXp/pO9yA\n",
       "cV/+9NfwJ3t3VmExgWj7uoyXER5qJ68q74HeLB/gB1qd/zDzNr/UsGtfQC6v/0rZaWJMPvCwl1ix\n",
       "QqSSDli4wmSg8Y2u2rm+D22dcz2Efl11UTiteImy+zCBcdYOBZLTl2h1Km0QvBvRuGwuHJjwxInn\n",
       "DIgeA2MllKKNVjWmQCL3u91oTv9W5NS9xeml8mhz9wi6vltU4dg+y+ScP9TnRA7xDi3MUGEkXhM8\n",
       "RiqNEbreK5/C6GeaJlfsdCCseI4JkH8/DMOsXEmdOzkmdGCePVJCP0pmt9JuVK/ysJEowYQZlWWZ\n",
       "9jQaeEAqUZWnL0ZxwJ8IGGiKMjuZM+zyK2GX6U6gIe3pMeHh8vDybXgQxOFbHf6lZySLrjZ09KAd\n",
       "7tSMxptXJi5Rlsjw/r6hsCMuum/+nhSXc0Cv41mwHuk0aT14GYqtlvJSH33Fsd1jzJvU5tbvK3Rf\n",
       "mkMDlZ4HFQDJ93A8WFbSw0b9CTJXkUOzShLKp0Rt32mmPpsrd1P+lOMuKaZpLiYNwmBqLzPNHRP5\n",
       "wszVrAHEIMwbRIJIJwYG95s2fNW/Q2kvxbydHSp7QS3g72ZcCRlBfT/nOZ+AqeSdocConjdgAnEV\n",
       "6PoUp3PjdGKwBqSaEp8jp2z3EZhJ929t08RMM/I/wY6xO5UOQCAUCVsAeBn8CARmZ6t72IZgVUcL\n",
       "gPz6jaMN9C7xXLB3+IWT0jYRkW5pxh1J04HS44p2DwYzePPOSvceQ89OlatG+fNJE7LYUz3z3EGf\n",
       "UM8aKvwW8IPaoJEtIXPTI1tWA1FpuxFfMD187rCidlQf5/RFBlJwPp+/e0SP6ryzinhQLD23ebTv\n",
       "RqsTCEntvvqAE854NVT4sFX0VuNX9YKWEv+fDPUKWk54cReVNw3eLVUp+6kpmpx3MuSXvLYp/orF\n",
       "u882IT8O4y656+IFt9As1JnIQERcef2Cm0Cv0w2MsfOREutEpESukG6pzkjKaamOBYQkGjtVFqPX\n",
       "LRHVGijN3kQH/TFm1Ehk8PiKVugpb7+5MmVDuE/O0rhVnPkFBQp9q8TJLTdcXceW+mgzODOr4Sji\n",
       "qHeHNXfKWfd57A7oTVAN0QQ95qN38CjtbEzIY75h3aALuUePcJPxSXtQVU63CcX95ZGHgNPiFwar\n",
       "rYrGGi8is+1Gg9iBPMkLnI6hgNDSo5uzfaBo9y+wnY12Ex2OJI7pbtiLkeKPCh+DO1G1skua+raq\n",
       "/5GufhS2l/5bUKoN155MHCD/D5qDFkzrS7BMMV7GMe+sXA54P/Kfr2LG69scVi44LiClYdHz3K36\n",
       "ZT3b/325an0CppBxw4aMNpxYAv59FPwb75/brKufY7ltpog3IVVSPbxlh7JIOdsGyXGuRmqjruRg\n",
       "mDmqwUSGr2af62yQFhfTosij+1GXSaVXqDbsWwRzk8ktwKAq2+ZUmn/bBoolS/3q8Su0fa0yzuFy\n",
       "kkg/iA2iyIvTPIhkY7FXm5mCUzqO4E2eKKFgDgIWt0hF5ZSBPuSdls9kODFAbvB/40zoEexGh9gS\n",
       "TjRfx37Ot355Cm9ec218kadsytrVfOkrl48zT2QMYIyMXwdIYTIy6xMQUZzXHqGfsMQwNl1GqBT8\n",
       "CtIQJ4t9nj23GykaVtfw068lqOrTLnp9twBe4Lklqc6RE3Yox28wsFyIWHTtIuCCDgxujC9Dcz3F\n",
       "pMKSG9XB67CoNHbhfrMG0PUbgeHLQY6NJG2XKC+2/dLbgmpp6qxZ2437DOXRXT8FWq1+YmR+lYYV\n",
       "n/kszAwBmjqAxzXg++EWY4EjWpTSHPGY501JkvrDxq8TFsKclhiWigEhyBiwdLmVBWfZAAABHEGf\n",
       "DkUVLBD/AAB5b+bRK3igA7o02EDD6ZCWIHbbV2HmRtDr0GBueKfpbvpCVLJQsDlako9VpYCMkMjv\n",
       "2/OCt2UH2KJ53KCeJNDNWv5oxF5MUaaI5e+UQA5SueYmxuvBMrrc6N+DlhPHqLgnxYrgoeBFdd64\n",
       "GCvP9Ks70t4tdNvIa7Pvnyg8MA1eQ362e+m1oYUQPyYFdvol+rbkNZeI/g23cIn9eV81vpThWxJ6\n",
       "IVMhVmySp1WPIfJdt12mt+NXrp0uE0F6SJWGGBjGmXwViamtEI9beOP8U2nuRZY/Z/R2WCJvg/ke\n",
       "75eFK8mnEfpNcIVr4Y6xh5StasebgiEJnPIvsoXXd0Dz4TjzGIMSHr82ebRRIZ9cAjRSgG3BAAAB\n",
       "MAGfLXRD/wABBYylexGAASegoaj8ejdMMIet6Wa1WDhx6qzKmIm+JZQKIyW7PuMytXWitTjPzE2M\n",
       "vqvQYowcDrGW0ABAQE8rgXr3tX3v8nlJs1IrdJwPOdg0H9tdjqVMpnO/zCjd8lkPCxxEcdSS+4NR\n",
       "mEy9pv/74F8BRRMbTsnQ2M71Il1Hr7hjGagn1f5ywA5sMf0ExqU85P8Zmq8ieHrRdTmiaQyYQGx9\n",
       "rsHbaIX2kq3SCF+NJ8VrE6hzDvO4c6HaxYzkxtaVqw7v+lo365VUaQeX02tnce0MPSemikMZAWRp\n",
       "DgiaF/fxADfU+9sKBwy6/ytPCBNvqgW00klUM0swV7JmtBCKv7/VoxD6ddHx71ni91yj+fCbuLl7\n",
       "Kgp7hK2320oULrBeDWGgBMQAFbEAAAE0AZ8vakP/AAENg1uQRlu2AXgA9DLMfhKoJKzvJ1S7yJaM\n",
       "p4WR4vvSECKHBYMNXindi1CGbsw07vFFRcxYXRJUW3Z7Oo7mNW4XVp3A1+6A5wRJtrxoakISOdBs\n",
       "u2jhyvdrDW4knOHsJ8V16OOEYq02ZSumG0/EjN5/Hqt12xSAY1VEYtrTEk4ziFoamsVsAN4b05aG\n",
       "Z9juhPZfYRAMm1+yPDxcCDPgCNOrk1vodb0mb14zWwlWIZuNfeP4XvStskFamlKlqhcUL2dPO5L3\n",
       "42+KxK+MrMHPYEHVuwKngaWCjgJjTTLQ/inIhryPlW9aTWVPCRg6R6nXbWqy+aDw8RJH0FyrsSg2\n",
       "BIeRfweHElbGD0ffh1zygfkOPv65nvCGBlz0WmtKeQBXAQMNiMLmn7fdEbbApoAAAAZPQZs0SahB\n",
       "bJlMCCf//rUqgABgJ0fdjTZgAQivLi+NjA8S4RLgWAtFc9yrZT6COERILMALhAyicR+ochrcFPNE\n",
       "vN53d5BR2KylGHVeua0jAG459N7mQ5k+ilI9Hdh9+koPDa6dx6XwyM6PBBmaMS95ncKY9jgpaR6M\n",
       "kMT6JNqBMZ91BrQKwlMIOdWYCOh6elr4dCzIDVsesO0bqSlOEquElWWgWnweI5mr2ZgseTA8n+VR\n",
       "HB4JWDs7Zcb07ToIOrfAg77EwXzPJky3xrKNeoPa5lZ5vyEEqpjpL6EmqgyKtyAdh0jR+QnFcee0\n",
       "hPYa5lCwgcn+O0tkh05p154dslqr8jjKe8IdzGZD36RbyQ6hD86UaY8jPPe3YD6PHfn9vnVplNMX\n",
       "NJe/TwWFKt3xJCX7Y5Rv0YKgMn35SXepgkWxek9LWWw7nmect9hYC3oLO7m86b13RxLHhlXyr5/a\n",
       "VvNVj0C2E/v59P9jyJqPvu4beq6VYe2TMmCRhpf7GJC+HKALpP7Pys9jQTiL2aTM6vaDgTY59kbt\n",
       "RlZF7UJwpeTjEtHTkG4yOKP0X+Bh75S19y0aPqun5kRZ/S5rNkdPd9slZoaDVEusSre8ACDEjGti\n",
       "p1pXQfO6hKBXIyupd6tewR38sSl6GcyV01eXioLYo+6N5uNATItYF0sqhQvBD6O1uvqLAQcCNHDg\n",
       "200OeEYKxP5whg/ZnRep4bDIN5sTBq6zeAg570JQfrGzkxRNk1PrlvyLLjlfjZa1TGTOpi8cVm/C\n",
       "FqwarXewPgg96wrmvUZcQy3/t/KcEgSt3NNQivPW5Me/rq3PRqOi7AMfDb2xPp33seCctmuz5ryL\n",
       "Qm+La0g2uvY2IHRYsQQLv7PLkfOTxwyGpDBB1z2g4UA54nCY+ArGJ5HMEMaPLC7ch7lVKg6Ie/NQ\n",
       "dliDZz7agZ+BDJZ9kNPj9oarWzpul/Lu+mrxm0dYSyWd3wcbGxj++rQ/F5QUAL0Afm2XrlB5v85z\n",
       "ZGUSNy798SdwP4TPyDqAh22X3yZ1Xu1oqdwofTgsfz5ezVwsIwejUS05uXMuBd1+Qobxi+m98zbs\n",
       "7yIdMHqOYHMyjow0eyvpdrtRxgyrsLNMRrWJ3NqDCvcm8YrkOAsFXZmlbpxr/LzSKXFQiR9Rr0FC\n",
       "cagssGd+scRspD5FH9bqWV0WA1cBiSUfj4GocxS+3Bc35VxqKibHVfTLFJc+GizzoO0/m7F6TmOY\n",
       "XH9Of+Af14E3RmntzKKPJpZy2C1DRJiudZ6r/V616UtLTtrmEY7BHRa4G6qzLEGnIm34fiyiCLWR\n",
       "aieEsFXd+6VB75RAu79oC7l0FtDvFGPfXovkmYb2wmMJKgCbD4MzW57O4yzXFENEJ/ZvUMUjO0Xh\n",
       "rF6gtPHB6H9DNoEMJATr0rO/4GeVnFRKUfr1jNfcdtzfGs0ue5Y7Jwbw1mFBN18MQwawEB6vGj0B\n",
       "m5THeaa4PSqLfKABinfB7yMIpmOEVBMG4dFDKTmKpnSPstSjGoC1GsIWGBaSFvNsd6y19rBA2r79\n",
       "WRlBpyeaMcvaoL+hsI2vyMiA8xTITh1CBfIKDpkE3g1qBACp0WejtzEPcqbpLsYDZaAtzo/vsT/R\n",
       "K4aU57NrXWVSyTagHDBr+f/OYgBDFR4JqSz4R8RV8gOApgBu0ZP7jFjK9KDnXFFE8nOP7GZvWsXr\n",
       "sTdQKYDmyQS1BkUT1uqty91NAI8Qtq2SjU3lgXmGASTknAjB8kWXnHGlAAr1yD2Mxj523bfUhJkW\n",
       "2ueat9zKi4AskxpWyVtiSuftHXqQHkOjjE5x/f+JWMfApNt9xzd4DCt18ci8aQjG0zVEzVARf9O6\n",
       "JT4enAWz5YiAcGxKh4IrBltjHhrJY+tAYK5ok3Sci8/P6HT2e+930p/l5y+EOJHR2OEk+SYW0nGy\n",
       "GFDXwQWmC1sWjGK8H84ebfjr2kvq5qpv23A3f7ysn78MHDdwed8ltNBjJiRKBAM6BJdzp1BWzlwe\n",
       "x+OYBlrT0Cq6SRyGJXKEr7XmU0nahdyo0CZOe+RKxWohFLCEmkiHh4I+MJsUBEUEEtDIKRZSoKyZ\n",
       "Nk/idnLwK5rT90Fm8q7L9K9ckWq+ACYfh82CDRPhodbzuWEqqifipxgreNofrG98kv/Ir4LAop/J\n",
       "70AM16vyVuRl2AAKSAAAAU1Bn1JFFSwQ/wAAdqiJ4AJyE/MoKWNuNLdc6tW4D23O8pPBhUxxlI8Y\n",
       "TwzyyIKLSmnkD56tzWfrrC+jLVMrUvQ2VGafEPh0pG7ZoFN8nWIZRng8N09n0zUcinjrLfy61d+1\n",
       "3NAo0wHc/t3Z2ikqkfIwJbkSf7pNxFxJTJFV2+IixYblB3n6+bjQDvqcWkm9cgfwxx5WIXpnu/Lp\n",
       "fiV60DlIl5A0tQo+rZ/a+/nMNVT9zu0FC1xps3XCMCsxdwv7RrtkNBT/kyDm4SQqbi2KwistsTqO\n",
       "oWEJvRKu8pMq7wmViU55pYo5797kHyXVlIaIO+UxrcIGdBU4NWROAYr+4KvCAU8Qu1VDC5QqZGwp\n",
       "wjgJ4+VL3+vfCIs8/4GaA5qPCuzO/dXNDwQ5BAiACWnl+oj5UTEGSBM9r1rCxjLKQX7zpT6rDlZh\n",
       "+6xKHKalAxcAAAEMAZ9xdEP/AAEFjKtDm0AHxM5wvYaA+LK+fNA4kDMz30ULfsZbIK9nZqXqLnk2\n",
       "UE51yVRSMLiA7hmRfxpPg8WVMSQ9GuNqy/wjmrbfllSG6jT/xbzPDJbeUJ7iPzEvrf4Cp1DrH24T\n",
       "OARlQnQxBkVFnI/2jEckgf1z4ak5zm+6D5/QlrKi+5wDKarr8t6n7jVl8cUuUtNa2a4hyCYNXoxp\n",
       "0kS7TnlqlPZ8EoZLYIybMXzcaNLf8ptL7vQgzY/IZ0BCSZUESvZDmHVqH0z2XMTHbZ5JQg44qKFv\n",
       "Wy5wFNh9oSpRiVNCvH/PKJOJ4vGJQPfE8wELbh7yXH2RnlCi9X/gey6QHqAUVLgGgAA+4AAAASwB\n",
       "n3NqQ/8AAQWDWqRMAAk9BQ1H49G6YYQ9b0sPKHcgmFvPKmIm+JZQKIyW7PuMytXWitTjPzE2Mvqv\n",
       "QYowcDrGW0ABAQE8rgXr3tX3v8nlJs1IrclpY3OQaD+2ux1KmUznf5hRu+SyHhY4iOOyWxLBqMwm\n",
       "XtN//fAvgKKJjadlW/IJdd3uRPAdsNaCtL+H3YezJHuWIB2YZLLg2MFWrGWu+Vf3XcPMxoeuLtqO\n",
       "3J9R3oDmD3HyWWH5aR+9vWq081YkUrqjyDy5XV3chvBSJ4Q7+aP6L3C2FwpaaBjNLcCLJgHiEY6I\n",
       "qk3sd3pcEYbdAApXgKH/nbK+4McYAf6W+uMqLkJu8Tz/fm/1mo7B/af/jcBy3CSPiLoT/tL7sTXA\n",
       "RcUAigCEljPEAtIAGPAAAANpQZt4SahBbJlMCCf//rUqgABgJ10to5kEABzm8gTNGI+WvvCF6zYm\n",
       "o9hw6Y4XpjJUdVqy6rf5IC9NAsyoqF/jAR+jiQfxr1ndsekIqqSQ+3vf3ORF60/F1SacdaNaFabE\n",
       "G6k0HDxJKefg8acfEgl6FbXpC9RN1AC4dmQyDa9FfqMgvjOQOay/5f/r/2umAU66XgdQuDcLdys1\n",
       "TUTvjC17lIz9fFpgCz7FyZaewulhx8pMj66ftcADhSRoYHEk/j1WesVWH8HSW74dZxQQo4EbsPwz\n",
       "rFBlfSNSu3uyUazaf4vwI2UuZSYZcABZUnRTYLS1nb90Wy8L/VbL0nPUrWW81HAJmwm16HRv+bIj\n",
       "/B6yKVCYROA6K6WNabpL7GT4cw2Udx+yxItd1FKXgqgRfSuIxah5NCi+Z0dO1J7BI8riLanq/9j+\n",
       "sBI7j5Vxiu2bFhH95CsIKTpzpBbdS0jgu0fzBDQiIomNalg94yhLcGNN33BaNwGjDP5hLjLiHUtQ\n",
       "h3Bz/2aUkXYfnN49uVazYp1viGURm35hfoLh2Z08CUoBEZFGIF88TMy8nGvH/pjMpu3Axczj5Ahz\n",
       "DXOZzPGzJOBkPHM3LPnDk87+UbCgWPu/I7JL1xbZYiMPD9L95F3dMwwh/84OC1mOSnTPBQAptBb5\n",
       "ZFnTNZW/WJhdW/xjTMnDd0C+GvoxHNfop3J0X6rWAXrI/OLlBXe1KnuqWKNj2yA0CXc4aEtYRRun\n",
       "PDTU15kmoFh+jSqPRYrZd8GX8ALqNy/FF3jbrj1ut1xz3yTkJHXxrIPOUyg94ObpyfQi/mHQ9JUX\n",
       "aGifUbJO9z36evRzpfHOkpUF8qeCnvTsPEnF2bJWs5eAxMsTsSjFj3cPFGpUvj3G0tZuALIw+04z\n",
       "2p6K22ehn107bh1GtTlra98HLgkI6H0w+zQQeEd/emVLzvd+ik/v3hOiz1KGlxRvvlBUxj+L2UWV\n",
       "xXsXrAp/fS7I4dpHos9iXSXqBvSdY4SpFCyF+gkZKDePrBfsmx4rZkc7h5Y0OTJjanNEMHFbyTrg\n",
       "loSpX1/mL4hkfEfqy2VVfsGQRMD1ct2pxLAxw1KtNgjdT6Fro3tsK8KN9FrMqC+ipcv/CimddBuq\n",
       "TQrRQBYViKxOdyuEpxRKONQsZ0Y3qPLK/Dw32d6Q+6zUnxHBAAABI0GflkUVLBD/AAB1VjkwAJq6\n",
       "D+iqqm+k0FEj11lW607fYCSBbq/JFftU/zRxfDXOBciD1jKnjCqnJ6ltKuysA4xbXdJWOPqj+SRr\n",
       "5FlxOGAvxmP7tpnFJ+ioGArjPo6Cl98mWa/Ao3fOFufW5mUYsDexGiJOHntPgsNYlhDqCNsDkAio\n",
       "M/AB+2BqfmkH5z+LS/oqKGmS6Ge/Fv5ucuMziWa0mxrsFrEfsKclkgzlaQeOG7T//HEZDL3LaJ5P\n",
       "PB0Whm5OhPA6VhGH5RUojpmJQzTe6E2qEahA8YKBARYLZo8hFdMdAlqtVILq9A8sJJJE3yL2WTIp\n",
       "0+0zsE5gGlIMTUMewZyp/9GvoYcSkrOC501pvAcs49WbaNKEV71CaAAqgAC8gAAAARsBn7V0Q/8A\n",
       "AQWMq0OvUAHc8UNR+PRumGEPW9LDyh3IJhbzypiJviWUC/EPhzz2OZKPtm8lAdmYIL6r0GKMHA6x\n",
       "ltAAQEBPK4F697V97/J5SbNSK3RrtvOwaD+2ux1KmUznf5hRu+SyHhY4iOOuZGFu4zCZe03/98C+\n",
       "AoomNp2TrDor4m0Z1W1XGpJCGPczRgDG899mW5EnXCFV18UbTWdXfJ3EN7RtmMxHfEWQQsAqTbeq\n",
       "ChOCrcZag8mg/ozuM//DLc4hChYOzH7c2Z8rHz9al32vG9soEJOdGxKqx+jQPei8Vn9ssbYLWmYN\n",
       "vc0MSPFcJUM7NSZhEEmPakuVJDCd8Y1En4Ss08HsCE/O3eWC8Q3zpawGV8F+gAH/AAAA/AGft2pD\n",
       "/wABBYNSwgjAAJPQUNR+PRumGEPW9LDyh3IJhbzypiJviWUCiMluz7jMrV1orU4z8xNjL6r0GKMH\n",
       "A6xltAAQEBPK4F697V97/J5SbNSK3OdXXbsGg/trsdSplM53+YUbvksh4WOIjjsoKXwajMJl7Tf/\n",
       "3wL4CiiY2nZOsR1iZ5CBqMQSEJAtXjJ3cqY2bH6qqGVlqBOqg4lD3b7hhJsUA/ZAqhqwZqwGfHbj\n",
       "+6uLy00mgETHrx6h5oJ4kO8gza0+iLT/wdyAYMlwYLhv8L1ZYIz1uIJFK+yWaxdUVt6Nk/qst7Zb\n",
       "AfxGlEfRcrYbrIyD37itZKAj4QAAA41Bm7xJqEFsmUwIJ//+tSqAAGBkEbgMAF9qV1asZpXcxU7L\n",
       "Xuyh8WlStp4QXbiAdtWSTcGOT5xNk2Dhjs8W+VCLcIsx8QRPl+pQHwwXZLUPe92/+SkSYZ9b8tHX\n",
       "5+cpeZFv5R6dKClrDRLsQ9mZ+eC6p14I2vhq3npokc6C6kFy1xhnVN8yAUNNSdeAkK9cUaJI7bq+\n",
       "8vt3b7NeaKMgQ0ADLZHLcIfM3Dts0Fn92z8Ms/uDe2EHZY+QGXo9MQx5Thf3HkVWet5P6KTNYbSS\n",
       "VHPr9ygXFa3zDG7JHp0lbAITLLhfubbAzn+W8k2hEdAqwPoS88Bocw5Gcy0pqVN/K2orY3RuFq14\n",
       "zT/KAFOt0LZfeo7roQmFQkwMLRwEGxVuq5UIJovAcLtXhgrmh+U02Zi/9kxwAVftMPFSqv6QvJIu\n",
       "qkvg0SvOgcO2cb2rQvzZL4mueT1oXYzPVE5a0wu5bDxRCH0lyoWMhpDgfgSvt4ojw+Opkc/ce0wY\n",
       "uT2JsbAWC4T5w09KF8r65gqxz+qZcumuO1vvVLrOd0X5oVDTVtOGGeETe6jCTn6YmQbSXaMolDSd\n",
       "iptc+/g5ZJCOoI6RN19Y91x2vDyTXQgetAiG15iU3MhGBY932KrXAqMBcwhvQBnSUxRhZhxn2srx\n",
       "doj97tvP/dvknhlYuLWNyPPHaeB76VJxZln9FzJSbMNK0DFVkmUCNMZsltxgj033NVA/6INzNFO3\n",
       "+ZgY8y6POqO8CXi6aMexzWCihAtHxFCG+GlRizJijbSKTadsl83WiYqfpSaCXjSwgPsXcmJ2mcFn\n",
       "efMGewoJwAo/n0wuKw8KFEfYneM2x0d2NJxaGNG6E/2p61nrrHGFl6PYiPD0UBrcBFC2i87c3zyh\n",
       "4HLrknnetqWucqnNbM7pFHmyoKhkrEUlyYzXOJLE36GaaPcI0yRxLPpZUHEJfROSbFs1w2cMrR3D\n",
       "yBJRZCnNRvun+Rro2HZT1SjQBOZNo5sisVhNOjQHdUOj/N/xfz5Gh2kI5RR4avvBAvUm/BPxEvOc\n",
       "7h9ccoXz7QJFP59oaSPX+xA04qs8fv9Trg0XfT7XtM/YWKT/zvYeaBysjSk9D4czK/WbGVDxNoES\n",
       "F2+aYA/eDNQUB8Zi/fbMwXAtdREMkzGzg3vXSwwbZQJOhDOkFQnJkw31ImdhPgyoKZ/5lQAPbUH4\n",
       "0oZi+sBUvien4LjLK9cydNakHAwAAAE2QZ/aRRUsEP8AAHZkW1O8uAASeqD9+TwFqFHTeZDqvKzt\n",
       "YaeLBJg0iApJm/pBAKRBwF0vuD0ZPdlqUqwKhDlwlayHXzJrjUua2cPx8Gj/0heB0m03P7HsEtFA\n",
       "Akoj77reFTWwP9tOkA1lsTzAq7O9eprTkb4azvbaOgwt3z/m1gPvNZZg2qRSd/hyx/9eKr88JSzH\n",
       "GOFm5yaY6mOO2ovy37dbQxao5p4dszoKWce1h/L+k/dsQYIg+MVFKppUI2PI5vzQp3pR0mZNVAa4\n",
       "JkmAAeUm4eNPjwQ2pJXckL+8vzQfQNYNnvfZFOrvk1V9b4Tbp9ABjh2znkre1YDa8pHqHdKtZxJJ\n",
       "ELBVy/n3fL0W32z4EvR9qarVfUdgquZq4LRI4unGklododGH8ct6dF73YWA6kgAV8QAAAUsBn/l0\n",
       "Q/8AAQWMtWwwACT0FDUfj0bphhD1vSw8odyCYW88qYib4llAojJbs+4zK1daK1OM/MTYy+q9BijB\n",
       "wOsZbQAEBATyuBeve1fe/yeUmzUitz6C8ZyDQf212OpUymc7/MKN3yWQ8LHERx1yost3GYTL2m//\n",
       "vgXwFFExtOyreBIgEqXH2IehNmcAeAWr+6NE/dMo/8lFwo1o8eEe9VcPzM/9Gn2EXhxkryYuOQ7b\n",
       "fL+ASxanByW6Zu86eqU5HGhi4aPC1WKn61j+JwaBm0HQjpA3Fjh8HYZ0RoCJgsfgmQ2zgguN6Lim\n",
       "tgji3JOodQqNuSK/1D6kTFwY0gq9hhjCiODlvrVcL10hQhsuwWO7Tw6Mf/co3WlLxM0d1uzo5mPa\n",
       "v+hPph9q6FpQt8MKo/6sU91ler6plfLBT+ygYRt+t0ZWe6ASkubMEBswAAABSwGf+2pD/wABBYNS\n",
       "2404ABJ6ChqPx6N0wwh63pYeUO5BMLeeVMRN8SygURkt2fcZlautFanGfmJsZfVegxRg4HWMtoAC\n",
       "AgJ5XAvXvavvf5PKTZqRW5zb42XokH9tdjqVMpnO/zCjd8lkPCxxEcdlBMq3cZhMvab/++BfAUUT\n",
       "G07Kt+pFQLhHvkHkCGu38sAiC/frxkNecDj4FY2/vBhBvqiSLM6nefQ9se0EYTofsMHIUalT/Q6W\n",
       "oJ1WFAL42adUOo0Ue/bNGgSdxOjOnmXvfWBFYiCtF+cLsOQtS0wSVoJLNVS2OPYyE/CJHiDNPlFv\n",
       "YggnnnbLxhwIuBg3m7f9/aVdj2QlNdVeBTjF5cFgVNQMtpO1daXDo5x4DZkMUEEFAdjSizSiKUym\n",
       "3p+nruHqa+blSO2Dl4FvCe4qsDHF2Yq4d2CNS597N9AAg4EAAAWhQZvgSahBbJlMCCX//rUqgABg\n",
       "JB3TxdgAEIoU2xurJeBx9kGYWzdQNhIBJ1k8c9sQNod8KryVGd2ybzs2CTpepxT3bRCz/5EGwqVx\n",
       "faOibBUsQOlHDt/wEr3wsYZdQersv5DspSKjD07dALOTyiw+HJq5xNF4fmHvcPURBD9HCnnGBidh\n",
       "qAoyo0zVrlFdnJ1/PXAcxqCptWauU8HtgBrNDjxaY00lxiZiDktiVWJEcpJxvQdq6vSpSmVGuxf1\n",
       "nlVZ5asWYHLbPOQ3AuAYydl+BcQlWlBT6u4PmKxYVZzV+HxinLFsLxHXR4OREt61w3v5aQcnz+be\n",
       "oG+s9rkDIbF4PIjCAmpSeOOkuQcZD6l060sVHw0QiCB9DrjlcD5EoZB3zf041ymDrzR2uFil6y9R\n",
       "Mbk/NsfzhtaPsJ6BBd5Tz/Vsp/X5Hl5v6j4yXmKrbb4BmYuEpSma/mu+v0PRZIsBuNwN87NRe8ZJ\n",
       "nURPeP3VyRiytEx/P6117sxorPQup+VFKAkaMgOOncl3xZkxaDzyvkrGibfQvR2OWmvbNUMuCpvT\n",
       "MiFUuOV06HiJlQCj1WriKqCyG6Nc4mN1nnVpPz8F0d7NtXbf/Oe6Xr0mC6OUMPOSWKn7HwGKhXUD\n",
       "gs2UxdIS40Joon29qH8ljju/B0iul3coEhgM10NeVOzwBOmZxtQrw9axEWZ5/4MViWTozI7RSIM8\n",
       "STI0kTZev2yETqOiPXqAJoSpb9nbKVtkt2wTufdVuHrp5MA1DqLiP5gOR+yVHz8l2PRXZ1YXX5wO\n",
       "VEVKnWIgf+jUle9z0i5rVdJO7WSu4Oeqpe/Ka3MnnqgVAvxgr+gj39wLZL0jvEXv1tE2tP+eKs7j\n",
       "95y87gSmA/WzRGeOY75VRMUL/pso2mHuZXT/eFVAcXC/G7y/uhu+KBlvwief1ZZUirCM6sGiwA+7\n",
       "CAcu6j6dnZrHHmR/aByZbLHNlZ2aUlbyWncCGUPU0roiE+DRElHsrLcD3WaDaW9RLgu8ihjeS685\n",
       "/zKD0OWQ3Ssbq3pXIEfKG9azFL6n6FCWBcQhSG6mGc8hdMKVkZ2unHg0raOToVibN0Tqwp+lTjX9\n",
       "eShcaMtWSZO+zIgMtgKPEJdynGni6bolxqcHw8O7fsrqZZD5EnC2/BNVTz1eRHkqjrBIxBxoL3nx\n",
       "vYpNfV6MyudreA9sLwNVouXP6IMpHvMEnYN7CftlEzsXKY6pNxm5EjpF93S58cUGWtFrgXKoveL/\n",
       "plCQObX6EQEZGV5IC/Lm6Yb5deQh565rrKH53SDumLvoYS510Dm6wqw4qHGfJMkiFUBqR5UW5tpr\n",
       "1yz1USv9zjgjbjL8ktEI888OPMujE8dxbL3aRfR60LcKwYs5ffMcnLlooP08GSTAiFyy3pUBCL8V\n",
       "o4D427WK5gbM/taibSPqr6sP+if7dTnINabW9PTgBtMKivchz6HL07j3HPVXxYqLyMr5ySV/ncQb\n",
       "MLMm/LMw/z4Lsdft7KcFlKVDJ6L8IhkRbE0sgWLqU6fdEROIhc8yNy5RcYdrX0jOVKlORwbspwmJ\n",
       "Z6hlFr+IhseSqJoWWyYa5YhGWR1o4nlldvrqSoPg5Ccqw/Q/ilbBVXWc00aL5cDtqcmOe/Ej4VAi\n",
       "ega/r3nS+FUY0iJs040wZgrBSy+y/W5/siEye6Y69PD7Nrxstw026eNH0M92ED8yR5buumDP02qH\n",
       "eAsv1Saj1JtOAmrrlWl6U/ktyYr0/R8OxwAmQvXg1Un3kiJr/eQZAsDin/bH37Wg2BQdyB5E13pG\n",
       "9/+YO0d2nJloXlUMarwu6XBGTfu005SGD1RQ7lRTPl/A5M86qkqeWnil78c+GqeLKwfXL3GHcmO+\n",
       "Qi8ptvODaN1PMDNn1wZAMaf0FAJZIhwOUsgfFASb0+qIIJAkSFXR7wwVYJK8jG2eSYM3/BQxgwAA\n",
       "AUFBnh5FFSwQ/wAAdazvpcFiENoAS5vGmpWKAHm5OY7l7URYcq95QwQ4f0+EQSO/IdJMzqxg9JR0\n",
       "/xz+nSeygEnUV3bEBPd6igpnT/+EXly7a5WhFnokMVeqkBXpvg7r4xCKuiWGP8KnIcZiC4Hbc0n5\n",
       "EQS6YOhSx+th+qxVg8mMN23rGrTfr1IvvTeGnjtje3dht9yVCdHO95tylYv7JkDgp84O9o494kle\n",
       "QRIjweH98bubFOgvWpuyoaTUfOxrnEPWvoWJUvF3b8fTVV+tDMkRy4yfu6Tibv0yL8hT+jj3z+57\n",
       "mBPC4SFSlvekObM07LNZn3LvWzKcFs3zxq769ughB7JfLXkr9yiP8Gs0Fwp88UdfvD3LK+JVXVph\n",
       "2TNI3NIE6FQ2EfCH/tJEK0u/gq930qboR/DriO7h2dnk9UUoGfAAAAD5AZ49dEP/AAEFjKtDr1AB\n",
       "3PFDUfj0bphhD1vSw8odyCYW88qYib4llAojJbs+4zK1daK1OM/MTYy+q9BijBwOsZbQAEBATyuB\n",
       "eve1fe/yeUmzUit0a7bzsGg/trsdSplM53+YUbvksh4WOIjjrmRhbuMwmXtN//fAvgKKJjadk4BJ\n",
       "SkLPqNFbVFJnOdIFB61w74wtYOLF219lj27EoNiWAWQL70B/B59pkp7Crv+Lau2k7V6vayz9nfEt\n",
       "OPSe/OGqTSyh2uzYSwps1N+VxDB7Qru+51arY7IsAdThOpOI+tdGaqE3NzO2qOJE316kGGGFeEJ4\n",
       "BoCMAAM+AAABDQGeP2pD/wABBYNSwgCgAmhLnC9hoD4sr580DiQMzPfRQt+xlsgr2dmpeoueTZQT\n",
       "nXJVFIwuIDuGZF/Gk+DxZUxJD0a42rL/COatt+WVIbqNP/FvM7jxKWjQLFKd1NvpOq2vWWkZBEwu\n",
       "h0qYY7WZSiQaInEmxWrP8L09WSoLsVqXDGCf8XQqFmG8WJTNRMhAwV2i3aPIvl7kSiS02xt9qpxb\n",
       "34vN2cGKFXJQYcGZrFQof7K6oVth7MePTH/XtoDVreJEGUNcGcQztzGw25ssJaRgLe8A3L4r4Fb2\n",
       "sr7r2+t4qiWS+t4KfNnaZvLvLiocnaHWrdA22/z+0jzPy7hoEmLqgoEPLBjvfbbfgLKBAAADVkGa\n",
       "I0moQWyZTAh///6plgAC7ryM0AAf1Rbqd+CZ4yaFy83suWEXitu3kodSchgBSgJ5LZdiDSnhBMkj\n",
       "ZUCKQMgj2rMjAkTLzs/GGiHHr1WAmumCIRqnTDP95s9SUOSKpnJyuYE5oVkI04zTwGAUO2+KX6vu\n",
       "coyVuAdPtWxSYTGi6sTuxBqJbMZZA2a/vq2j+J5N1X79yb7x3X5WWntwQ0mL89ax0N/S7LCHTmDE\n",
       "kQx/r/6gY1APiCrBSE4DT+G8IhgIQvCDd3CesI91j+gkT+z6Ia9SiWy1mNGkciyQj2KEPlrGSihZ\n",
       "zJs5ZaboLCd3nGaQtePDvHwEHMKo4Saltew/hicLeaNzj3ApEoU1IngkC6phwxaFKW4iMQqOvdEu\n",
       "mwWgMxtRR4YsugZX3h6+rH5jE0mFVDxYHbrHuxE5Nn9BuQZppDDJdUoXYfAEt4niHjnIxy5+Vm5k\n",
       "eyERkhSg+zTKMbTPdUHAJBUZuOwhcu4KMPAh83vCABHQM9bylguVMpRORDFiHX+oS3ZNhNAHBPPZ\n",
       "U2+7IJUBsWKWoMzN1L6wvqEL1AQGkbl0MGj/Vhzb57+7CSIjzTI7ztfpj2POmpBAciyn2qeO5fNq\n",
       "lPJO58pFMbhCTcfIIHcCANns8F/HDrL51yG4ffmXft/ASLhl5PRtRjmeAMoGfEJY8FyezgnbsxAM\n",
       "Qv9W6U6ez5Tl4N3Zw9dP926eez8zfMa9MaPyBcRIv0PAKMXjMNwuT/WtiiJuosdMAMZuYgdOKF3Z\n",
       "uIHrqdYvZCTYWcDnd9IqmQHr8BkHBkC2JT3koYFv/XTGYYwerR4yYKT3bAs7Ej3y6QU+PGo4I8PA\n",
       "t3Wzw+D/0cnKzIeaLAnir5rL5jFE16ykuqPcTUas9rO+v03NnqC74e015MD0JrK1n80Xxv68aVJm\n",
       "WGnEtvs/RVdPWHJVH2P2nd1Q7gjY2O3T87OKnmzKPp67fZxZQcCkT8Y26g3IcwjCP4NzL7W+Pyor\n",
       "NFcmXeKUg3YyfBrCCIsIX4L3WDLvdkOOpPFWNXF3amoG39KyZCzqqlWKilMaw7RI1jlUryMNyS0o\n",
       "LTo9hNa4wsZc9rkn5wyyf9J3dloaxpt77THS/4zDGWKcQvp62oJglUUgNiAS/tR3AAADAAh4AAAA\n",
       "v0GeQkIf/wABBQVkkaA3GuHGu/7HiSy73Lj6O0fK3mkb2VxCJ+XSRv8PW3AHiMAAXKSpg0V2IzA8\n",
       "uqoZ8rWLJvVwyEv+d44hqmMuBTE0k2TctCLZNAaL5daW3sChu4pz3ZOQAAuWlS5S43gKFz/lMtux\n",
       "ByVruWhnp+u2rC3IwsqkkpX0Hp7aawxOUTkX8f5lovaEpk2Dd9QHkYaiyr7crtVal13uc17INuHb\n",
       "OWQgDXExFG8vYd0CArXLGBWUAGBBAAAAlQGeYWkQ/wABBYNS5HO21S+O8ZVSe8P2ZvOMAF0oeaOB\n",
       "EfX5Z1sc/wbHGO3PCHSPKqUBkgvGFKCZqQaFrXHDgjn5p0RiMwm4QadUAq3YbJFbJzcXwidQCDlZ\n",
       "xnDQvIGFH2l1kMsPia53QhO47AkwyLplX/layzNvmyBG6pX3af4c6IEiWfclTaBJAM2N7IF50XIF\n",
       "vAEnAAAH4G1vb3YAAABsbXZoZAAAAAAAAAAAAAAAAAAAA+gAAE4gAAEAAAEAAAAAAAAAAAAAAAAB\n",
       "AAAAAAAAAAAAAAAAAAAAAQAAAAAAAAAAAAAAAAAAQAAAAAAAAAAAAAAAAAAAAAAAAAAAAAAAAAAA\n",
       "AAAAAAIAAAcKdHJhawAAAFx0a2hkAAAAAwAAAAAAAAAAAAAAAQAAAAAAAE4gAAAAAAAAAAAAAAAA\n",
       "AAAAAAABAAAAAAAAAAAAAAAAAAAAAQAAAAAAAAAAAAAAAAAAQAAAAAMgAAACWAAAAAAAJGVkdHMA\n",
       "AAAcZWxzdAAAAAAAAAABAABOIAAAEAAAAQAAAAAGgm1kaWEAAAAgbWRoZAAAAAAAAAAAAAAAAAAA\n",
       "KAAAAyAAVcQAAAAAAC1oZGxyAAAAAAAAAAB2aWRlAAAAAAAAAAAAAAAAVmlkZW9IYW5kbGVyAAAA\n",
       "Bi1taW5mAAAAFHZtaGQAAAABAAAAAAAAAAAAAAAkZGluZgAAABxkcmVmAAAAAAAAAAEAAAAMdXJs\n",
       "IAAAAAEAAAXtc3RibAAAALVzdHNkAAAAAAAAAAEAAAClYXZjMQAAAAAAAAABAAAAAAAAAAAAAAAA\n",
       "AAAAAAMgAlgASAAAAEgAAAAAAAAAAQAAAAAAAAAAAAAAAAAAAAAAAAAAAAAAAAAAAAAAAAAAABj/\n",
       "/wAAADNhdmNDAWQAH//hABpnZAAfrNlAyBN+WEAAAAMAQAAAAwKDxgxlgAEABmjr48siwAAAABx1\n",
       "dWlka2hA8l8kT8W6OaUbzwMj8wAAAAAAAAAYc3R0cwAAAAAAAAABAAAAZAAACAAAAAAUc3RzcwAA\n",
       "AAAAAAABAAAAAQAAAzBjdHRzAAAAAAAAAGQAAAABAAAQAAAAAAEAACgAAAAAAQAAEAAAAAABAAAA\n",
       "AAAAAAEAAAgAAAAAAQAAKAAAAAABAAAQAAAAAAEAAAAAAAAAAQAACAAAAAABAAAoAAAAAAEAABAA\n",
       "AAAAAQAAAAAAAAABAAAIAAAAAAEAACgAAAAAAQAAEAAAAAABAAAAAAAAAAEAAAgAAAAAAQAAKAAA\n",
       "AAABAAAQAAAAAAEAAAAAAAAAAQAACAAAAAABAAAoAAAAAAEAABAAAAAAAQAAAAAAAAABAAAIAAAA\n",
       "AAEAACgAAAAAAQAAEAAAAAABAAAAAAAAAAEAAAgAAAAAAQAAKAAAAAABAAAQAAAAAAEAAAAAAAAA\n",
       "AQAACAAAAAABAAAoAAAAAAEAABAAAAAAAQAAAAAAAAABAAAIAAAAAAEAACgAAAAAAQAAEAAAAAAB\n",
       "AAAAAAAAAAEAAAgAAAAAAQAAKAAAAAABAAAQAAAAAAEAAAAAAAAAAQAACAAAAAABAAAoAAAAAAEA\n",
       "ABAAAAAAAQAAAAAAAAABAAAIAAAAAAEAACgAAAAAAQAAEAAAAAABAAAAAAAAAAEAAAgAAAAAAQAA\n",
       "KAAAAAABAAAQAAAAAAEAAAAAAAAAAQAACAAAAAABAAAoAAAAAAEAABAAAAAAAQAAAAAAAAABAAAI\n",
       "AAAAAAEAACgAAAAAAQAAEAAAAAABAAAAAAAAAAEAAAgAAAAAAQAAKAAAAAABAAAQAAAAAAEAAAAA\n",
       "AAAAAQAACAAAAAABAAAoAAAAAAEAABAAAAAAAQAAAAAAAAABAAAIAAAAAAEAACgAAAAAAQAAEAAA\n",
       "AAABAAAAAAAAAAEAAAgAAAAAAQAAKAAAAAABAAAQAAAAAAEAAAAAAAAAAQAACAAAAAABAAAoAAAA\n",
       "AAEAABAAAAAAAQAAAAAAAAABAAAIAAAAAAEAACgAAAAAAQAAEAAAAAABAAAAAAAAAAEAAAgAAAAA\n",
       "AQAAKAAAAAABAAAQAAAAAAEAAAAAAAAAAQAACAAAAAABAAAoAAAAAAEAABAAAAAAAQAAAAAAAAAB\n",
       "AAAIAAAAAAEAACAAAAAAAQAAEAAAAAABAAAAAAAAABxzdHNjAAAAAAAAAAEAAAABAAAAZAAAAAEA\n",
       "AAGkc3RzegAAAAAAAAAAAAAAZAAAHAoAAAo0AAABBQAAARoAAAD4AAAFuAAAAO8AAAD4AAAA8wAA\n",
       "B/0AAAEYAAAA/gAAASAAAA3DAAABFgAAAP4AAAEuAAAJbgAAAS4AAAEIAAABDQAABS8AAAE8AAAB\n",
       "JwAAATMAAAbVAAABMgAAASQAAAExAAAL3gAAASMAAAE7AAABQgAAB3wAAAFXAAABMAAAAUYAAASk\n",
       "AAABOgAAATAAAAEuAAAFNAAAATIAAAFIAAABPAAACsIAAAE7AAABSwAAAS4AAAc9AAABDgAAAU0A\n",
       "AAEuAAAEMgAAASEAAAEvAAABQAAABUQAAAFLAAABQgAAASgAAAouAAABRAAAATMAAAFhAAAGxAAA\n",
       "ARgAAAExAAABPwAABAEAAAEDAAABKAAAAToAAARiAAABQwAAAR8AAAEuAAAJAgAAASAAAAE0AAAB\n",
       "OAAABlMAAAFRAAABEAAAATAAAANtAAABJwAAAR8AAAEAAAADkQAAAToAAAFPAAABTwAABaUAAAFF\n",
       "AAAA/QAAAREAAANaAAAAwwAAAJkAAAAUc3RjbwAAAAAAAAABAAAALAAAAGJ1ZHRhAAAAWm1ldGEA\n",
       "AAAAAAAAIWhkbHIAAAAAAAAAAG1kaXJhcHBsAAAAAAAAAAAAAAAALWlsc3QAAAAlqXRvbwAAAB1k\n",
       "YXRhAAAAAQAAAABMYXZmNTYuNDAuMTAx\n",
       "\">\n",
       "  Your browser does not support the video tag.\n",
       "</video>"
      ],
      "text/plain": [
       "<matplotlib.animation.FuncAnimation at 0x24db040ab38>"
      ]
     },
     "execution_count": 81,
     "metadata": {},
     "output_type": "execute_result"
    }
   ],
   "source": [
    "anim"
   ]
  },
  {
   "cell_type": "markdown",
   "metadata": {
    "slideshow": {
     "slide_type": "subslide"
    }
   },
   "source": [
    "## Exercise\n",
    "\n",
    "Use forward Euler to evaulate the following system of ODEs:\n",
    "$$\\begin{align*}\n",
    "    x'(t) &= x(1.5 - x - 0.5y)\\\\\n",
    "    y'(t) &= y(2 - y -0.75x)\\\\\n",
    "    x(0) &= 1,\\qquad y(0)=1\n",
    "\\end{align*}$$\n",
    "for $t$ between 0 and 30, and $\\Delta t=0.01$."
   ]
  },
  {
   "cell_type": "markdown",
   "metadata": {
    "slideshow": {
     "slide_type": "slide"
    }
   },
   "source": [
    "# Forward Euler as a function\n",
    "\n",
    "We would like to code up forward Euler as a function. Ideally this function would be able to evaluate any ODE. It would need to take in as parameters:\n",
    "* $f(y,t)$\n",
    "* $y_0$\n",
    "* $T$\n",
    "* $\\Delta t$ or $N$"
   ]
  },
  {
   "cell_type": "markdown",
   "metadata": {
    "slideshow": {
     "slide_type": "subslide"
    }
   },
   "source": [
    "The first step to generalizing our code is to look at what we are trying to do. The forward Euler method starts from an initial condition $y_0$ and from that generates $y_1$. From $y_2$ it generates $y_3$ and so on up until $y_N$. The method to generate a new $y$ from an old one is always the same. This could be encapsilated in a function `forward_euler_step()`."
   ]
  },
  {
   "cell_type": "code",
   "execution_count": 35,
   "metadata": {
    "collapsed": true,
    "slideshow": {
     "slide_type": "-"
    }
   },
   "outputs": [],
   "source": [
    "def forward_euler_step(f, y, t, dt):\n",
    "\n",
    "    return y + dt*f(y,t)\n"
   ]
  },
  {
   "cell_type": "markdown",
   "metadata": {
    "slideshow": {
     "slide_type": "subslide"
    }
   },
   "source": [
    "The `forward_euler()` function then simply loops over all the time steps and appends the result of `forward_euler_step()` to a list."
   ]
  },
  {
   "cell_type": "code",
   "execution_count": 44,
   "metadata": {
    "collapsed": true,
    "slideshow": {
     "slide_type": "-"
    }
   },
   "outputs": [],
   "source": [
    "def forward_euler(f, y0, T, N):\n",
    "    \n",
    "    # split time into intervals\n",
    "    t = np.linspace(0,T,N+1)\n",
    "    dt = T/N\n",
    "    \n",
    "    y = []\n",
    "    y.append(y0)\n",
    "    \n",
    "    for i in range(1,N+1):\n",
    "\n",
    "        y.append(forward_euler_step(f, y[i-1], t[i-1], dt))\n",
    "        \n",
    "    return (t,y)"
   ]
  },
  {
   "cell_type": "markdown",
   "metadata": {
    "slideshow": {
     "slide_type": "subslide"
    }
   },
   "source": [
    "Consider an example from earlier."
   ]
  },
  {
   "cell_type": "code",
   "execution_count": 45,
   "metadata": {
    "collapsed": false,
    "slideshow": {
     "slide_type": "-"
    }
   },
   "outputs": [
    {
     "data": {
      "text/plain": [
       "[<matplotlib.lines.Line2D at 0x24dad443ac8>]"
      ]
     },
     "execution_count": 45,
     "metadata": {},
     "output_type": "execute_result"
    },
    {
     "data": {
      "image/png": "[encoded data removed]",
      "text/plain": [
       "<matplotlib.figure.Figure at 0x24dad2d2a90>"
      ]
     },
     "metadata": {},
     "output_type": "display_data"
    }
   ],
   "source": [
    "f = lambda y,t : y*np.sin(t)*t**2*np.exp(-t**2)\n",
    "y0 = 1\n",
    "T = 10\n",
    "N = 100\n",
    "\n",
    "(t,y) = forward_euler(f, y0, T, N)\n",
    "\n",
    "plt.plot(t,y)"
   ]
  },
  {
   "cell_type": "markdown",
   "metadata": {
    "slideshow": {
     "slide_type": "subslide"
    }
   },
   "source": [
    "What about systems? \n",
    "\n",
    "It turns out that if we define `f` properly our forward Euler code can handle systems without any modifications!"
   ]
  },
  {
   "cell_type": "markdown",
   "metadata": {
    "slideshow": {
     "slide_type": "subslide"
    }
   },
   "source": [
    "The function `f` still needs to take is two parameters, `y` and `t`. Note that `y` does not have to be a scalar, nor does `f` have to return a scalar. \n",
    "\n",
    "Let's assume that `y` is an array, i.e. `y[0]` is x, `y[1]` is y etc. We will also return an array corresponding to the right hand sides of ODE."
   ]
  },
  {
   "cell_type": "markdown",
   "metadata": {
    "slideshow": {
     "slide_type": "subslide"
    }
   },
   "source": [
    "Let's look at another example from earlier."
   ]
  },
  {
   "cell_type": "code",
   "execution_count": null,
   "metadata": {
    "collapsed": true,
    "slideshow": {
     "slide_type": "-"
    }
   },
   "outputs": [],
   "source": [
    "f = lambda y,t : np.array([2/3*y[0] - 4/3*y[0]*y[1], y[0]*y[1] - y[1]])\n",
    "y0 = np.array([1,1]) #initial condition is also an array\n",
    "T = 50\n",
    "N = 50000\n",
    "\n",
    "(t,y) = forward_euler(f, y0, T, N)"
   ]
  },
  {
   "cell_type": "markdown",
   "metadata": {
    "slideshow": {
     "slide_type": "subslide"
    }
   },
   "source": [
    "The only problem here is that `y` is actually a list of arrays. In order to plot everything, we'd like `y` to be a two-dimensional array. "
   ]
  },
  {
   "cell_type": "code",
   "execution_count": 53,
   "metadata": {
    "collapsed": false,
    "slideshow": {
     "slide_type": "-"
    }
   },
   "outputs": [
    {
     "data": {
      "text/plain": [
       "<matplotlib.legend.Legend at 0x24dad6328d0>"
      ]
     },
     "execution_count": 53,
     "metadata": {},
     "output_type": "execute_result"
    },
    {
     "data": {
      "image/png": "[encoded data removed]",
      "text/plain": [
       "<matplotlib.figure.Figure at 0x24dad4e2be0>"
      ]
     },
     "metadata": {},
     "output_type": "display_data"
    }
   ],
   "source": [
    "y = np.asarray(y)\n",
    "plt.plot(t,y[:,0])\n",
    "plt.plot(t,y[:,1])\n",
    "plt.legend([\"prey\", \"predators\"])"
   ]
  },
  {
   "cell_type": "markdown",
   "metadata": {
    "slideshow": {
     "slide_type": "subslide"
    }
   },
   "source": [
    "## Exercise\n",
    "\n",
    "The Lorenz equations are given by:\n",
    "$$\\begin{align*}\n",
    "x'(t) &= \\sigma (y - x)\\\\\n",
    "y'(t) &= x(\\rho - z) - y\\\\\n",
    "z'(t) &= xy - \\beta z\n",
    "\\end{align*}$$\n",
    "where $\\sigma$, $\\rho$ and $\\beta$ are constants. \n",
    "\n",
    "Using the code above, solve the Lorenz equations from $t=0$ to $t=100$ with $N=10000$, starting from $x_0=0$, $y_0=1$ and $z_0=1$. Take $\\sigma=10$, $\\beta=8/3$ and $\\rho=28$.\n",
    "\n",
    "Do a phase plot of $x$ vs $z$."
   ]
  }
 ],
 "metadata": {
  "anaconda-cloud": {},
  "celltoolbar": "Slideshow",
  "kernelspec": {
   "display_name": "Python [Root]",
   "language": "python",
   "name": "Python [Root]"
  },
  "language_info": {
   "codemirror_mode": {
    "name": "ipython",
    "version": 3
   },
   "file_extension": ".py",
   "mimetype": "text/x-python",
   "name": "python",
   "nbconvert_exporter": "python",
   "pygments_lexer": "ipython3",
   "version": "3.5.2"
  }
 },
 "nbformat": 4,
 "nbformat_minor": 0
}
