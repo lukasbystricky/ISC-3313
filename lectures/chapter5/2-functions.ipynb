{
 "cells": [
  {
   "cell_type": "markdown",
   "metadata": {
    "collapsed": false,
    "slideshow": {
     "slide_type": "slide"
    }
   },
   "source": [
    "<p style=\"text-align: center;\"><font size=\"8\"><b>Functions</b></font><br>\n"
   ]
  },
  {
   "cell_type": "markdown",
   "metadata": {
    "collapsed": false,
    "slideshow": {
     "slide_type": "slide"
    }
   },
   "source": [
    "Functions are the most general purpose control structure. We have already seen several functions, for example `abs(x)` returns the absolute value of x. Today we will look at creating our own functions."
   ]
  },
  {
   "cell_type": "markdown",
   "metadata": {
    "collapsed": true,
    "slideshow": {
     "slide_type": "subslide"
    }
   },
   "source": [
    "Let's say that we want to convert a temperature in Fahrenheit to Celcius. In assignment 1 you were given the formula\n",
    "\n",
    "$$ C = \\frac{5}{9}(F - 32).$$\n",
    "\n",
    "That is, given a temperature in Fahrenheit $F$ we can compute the temperature in Celcius."
   ]
  },
  {
   "cell_type": "code",
   "execution_count": 1,
   "metadata": {
    "collapsed": false
   },
   "outputs": [
    {
     "name": "stdout",
     "output_type": "stream",
     "text": [
      "31.111111111111114\n"
     ]
    }
   ],
   "source": [
    "F = 88\n",
    "C = 5/9*(F - 32)\n",
    "print(C)"
   ]
  },
  {
   "cell_type": "markdown",
   "metadata": {
    "slideshow": {
     "slide_type": "subslide"
    }
   },
   "source": [
    "We could also define a function, say `FtoC` that does the same thing:"
   ]
  },
  {
   "cell_type": "code",
   "execution_count": 3,
   "metadata": {
    "collapsed": false
   },
   "outputs": [
    {
     "data": {
      "text/plain": [
       "31.111111111111114"
      ]
     },
     "execution_count": 3,
     "metadata": {},
     "output_type": "execute_result"
    }
   ],
   "source": [
    "def FtoC(F):\n",
    "    C = 5/9*(F-32)\n",
    "    return C\n",
    "\n",
    "FtoC(88)"
   ]
  },
  {
   "cell_type": "markdown",
   "metadata": {
    "slideshow": {
     "slide_type": "-"
    }
   },
   "source": [
    "Functions are declared with the keyword `def` (short for define). It is followed by the name of the function, here `FtoC`. Parentheses enclose a series of parameters that are passed in by the caller (F). If a function does not require any parameters there must still be opening and closing parentheses. Finally an indented body contains the code that is executed when the fucntion is called.\n",
    "\n",
    "\n",
    "    def function_name( parameters) :\n",
    "        body\n",
    "    "
   ]
  },
  {
   "cell_type": "markdown",
   "metadata": {
    "slideshow": {
     "slide_type": "subslide"
    }
   },
   "source": [
    "## Function name\n",
    "\n",
    "A function name follows the same rules as a variable name. It must only consist of letters, digits and underscores and it cannot start with a digit. It also cannot be a reserved word, for example \"`class`\"."
   ]
  },
  {
   "cell_type": "markdown",
   "metadata": {
    "slideshow": {
     "slide_type": "subslide"
    }
   },
   "source": [
    "## Parameters\n",
    "\n",
    "We are free to choose the names of the parameters. The name we give a parameter is known as a *formal parameter*; it serves as a placeholder for a piece of information from the caller, known as the *actual parameter*. We cannot assume to know the name of the variable name used by the caller. In fact when we call `FtoC(88)`, the actual parameter has a value of 88, but no name. \n",
    "\n",
    "In general formal parameter names should be chosen in such a way as to suggest their meaning. That's why we chose `F` in the function above; we could also have chosen `far` or `fahrenheit`. \n",
    "\n",
    "Each time our function is called the formal parameter `F` gets assigned the value "
   ]
  },
  {
   "cell_type": "markdown",
   "metadata": {
    "slideshow": {
     "slide_type": "subslide"
    }
   },
   "source": [
    "## Body\n",
    "\n",
    "The body of a function can be any valid Python code. This includes loops and if statements. \n",
    "\n",
    "A difference between the body of a function and that of loops and if statements is that any code in the body of a function has **local scope**. This means that variables inside a function do not interact with variables outside the function."
   ]
  },
  {
   "cell_type": "markdown",
   "metadata": {
    "slideshow": {
     "slide_type": "subslide"
    }
   },
   "source": [
    "Local scope is good because it means that we do not have to worry about what variable names are used by the caller and the caller doesn't have to worry about what variable names are used in the function. \n",
    "\n",
    "An exception to the local scope rule is modules. Modules that are loaded outside the function can still be used inside the function."
   ]
  },
  {
   "cell_type": "code",
   "execution_count": 1,
   "metadata": {
    "collapsed": false
   },
   "outputs": [
    {
     "name": "stdout",
     "output_type": "stream",
     "text": [
      "F= 31.111111111111114\n",
      "C= 12\n"
     ]
    }
   ],
   "source": [
    "C = 12 # we might already have a variable called C\n",
    "\n",
    "def FtoC(F):\n",
    "    # here we create a variable C inside the function\n",
    "    C = 5/9*(F-32)\n",
    "    return C\n",
    "\n",
    "print(\"F=\", FtoC(88))\n",
    "print(\"C=\", C) # notice how the value of C has not changed"
   ]
  },
  {
   "cell_type": "markdown",
   "metadata": {
    "slideshow": {
     "slide_type": "subslide"
    }
   },
   "source": [
    "## Return values\n",
    "\n",
    "Because of local scope the caller cannot access variables defined inside the body of a function. In order to retrieve any information from a function, the function should have a **return statement**. \n",
    "\n",
    "When a return statement is called, the function ends. Note that this does not mean that a return statement must be the last statement in a function. Sometimes you may want to have a conditional statement that returns different values to the caller depending on some condition. We'll see examples of this later."
   ]
  },
  {
   "cell_type": "markdown",
   "metadata": {
    "slideshow": {
     "slide_type": "subslide"
    }
   },
   "source": [
    "Sometimes you'd like a function to return multiple values. In this case it is customary to return a tuple of values."
   ]
  },
  {
   "cell_type": "markdown",
   "metadata": {
    "slideshow": {
     "slide_type": "subslide"
    }
   },
   "source": [
    "## Exercise\n",
    "\n",
    "Write a function `circleArea()` that takes a radius `r` as a parameter and computes the area of a circle according to formula:\n",
    "$$ A = \\pi r^2.$$"
   ]
  },
  {
   "cell_type": "markdown",
   "metadata": {
    "slideshow": {
     "slide_type": "subslide"
    }
   },
   "source": [
    "## Exercise\n",
    "\n",
    "Write a function `isEven()` that takes an integer `n` as a parameter and returns `True` is the number is even and `False` otherwise."
   ]
  },
  {
   "cell_type": "markdown",
   "metadata": {
    "slideshow": {
     "slide_type": "subslide"
    }
   },
   "source": [
    "## Exercise\n",
    "\n",
    "Write a function `sphereInformation()` that takes a radius `r` as a parameter and returns the volume *and* the surface area of a sphere. Use the formulas:\n",
    "$$ V = \\frac{4}{3}\\pi r^3, \\qquad A = 4\\pi r^2.$$"
   ]
  },
  {
   "cell_type": "markdown",
   "metadata": {
    "slideshow": {
     "slide_type": "slide"
    }
   },
   "source": [
    "## Flow of Control\n",
    "\n",
    "When a function is called, whether a built-in function or one that you defined, control passes directly to the body of the function. The body of a function can call other functions. Once a function finishes, control is passed back to whoever called it.\n",
    "\n"
   ]
  },
  {
   "cell_type": "markdown",
   "metadata": {
    "slideshow": {
     "slide_type": "subslide"
    }
   },
   "source": [
    "Before the user calls a function, it must be defined. For example, the following code will not work because we are trying to call the function `fib` before it is defined."
   ]
  },
  {
   "cell_type": "code",
   "execution_count": 5,
   "metadata": {
    "collapsed": false
   },
   "outputs": [
    {
     "ename": "NameError",
     "evalue": "name 'fib' is not defined",
     "output_type": "error",
     "traceback": [
      "\u001b[1;31m---------------------------------------------------------------------------\u001b[0m",
      "\u001b[1;31mNameError\u001b[0m                                 Traceback (most recent call last)",
      "\u001b[1;32m<ipython-input-5-9218c7a8901a>\u001b[0m in \u001b[0;36m<module>\u001b[1;34m()\u001b[0m\n\u001b[1;32m----> 1\u001b[1;33m \u001b[0mprint\u001b[0m\u001b[1;33m(\u001b[0m\u001b[0mfib\u001b[0m\u001b[1;33m(\u001b[0m\u001b[1;36m5\u001b[0m\u001b[1;33m)\u001b[0m\u001b[1;33m)\u001b[0m\u001b[1;33m\u001b[0m\u001b[0m\n\u001b[0m\u001b[0;32m      2\u001b[0m \u001b[1;33m\u001b[0m\u001b[0m\n\u001b[0;32m      3\u001b[0m \u001b[1;32mdef\u001b[0m \u001b[0mfib\u001b[0m\u001b[1;33m(\u001b[0m\u001b[0mN\u001b[0m\u001b[1;33m)\u001b[0m\u001b[1;33m:\u001b[0m\u001b[1;33m\u001b[0m\u001b[0m\n\u001b[0;32m      4\u001b[0m     \u001b[1;31m# create list of Fibonacci numbers, append first two numbers\u001b[0m\u001b[1;33m\u001b[0m\u001b[1;33m\u001b[0m\u001b[0m\n\u001b[0;32m      5\u001b[0m     \u001b[0mfib\u001b[0m \u001b[1;33m=\u001b[0m \u001b[1;33m[\u001b[0m\u001b[1;33m]\u001b[0m\u001b[1;33m\u001b[0m\u001b[0m\n",
      "\u001b[1;31mNameError\u001b[0m: name 'fib' is not defined"
     ]
    }
   ],
   "source": [
    "print(fib(5))\n",
    "\n",
    "def fib(N):\n",
    "    # create list of Fibonacci numbers, append first two numbers\n",
    "    fib = []\n",
    "    fib.append(0)\n",
    "    fib.append(1)\n",
    "\n",
    "    # loop from 2 to N-1 (giving you N total terms)\n",
    "    for i in range(2,N):\n",
    "        # apply reccurance relation\n",
    "        fib.append(fib[i-1]+fib[i-2])\n",
    "    print(fib)"
   ]
  },
  {
   "cell_type": "markdown",
   "metadata": {
    "slideshow": {
     "slide_type": "slide"
    }
   },
   "source": [
    "## Optional parameters\n",
    "\n",
    "We've seen some built-in functions that take in optional parameters. For example when plotting a line, we can specify the color and line style if we want, but if we don't the default is just a blue line with no data markers (i.e. '-b'). We can write functions that do this too."
   ]
  },
  {
   "cell_type": "markdown",
   "metadata": {
    "slideshow": {
     "slide_type": "subslide"
    }
   },
   "source": [
    "For example consider a countdown function."
   ]
  },
  {
   "cell_type": "code",
   "execution_count": 7,
   "metadata": {
    "collapsed": false
   },
   "outputs": [
    {
     "name": "stdout",
     "output_type": "stream",
     "text": [
      "10\n",
      "9\n",
      "8\n",
      "7\n",
      "6\n",
      "5\n",
      "4\n",
      "3\n",
      "2\n",
      "1\n",
      "BLASTOFF\n"
     ]
    }
   ],
   "source": [
    "def countdown():\n",
    "    for c in range(10,0,-1):\n",
    "        print(c)\n",
    "        \n",
    "    print(\"BLASTOFF\")\n",
    "    \n",
    "countdown()"
   ]
  },
  {
   "cell_type": "markdown",
   "metadata": {
    "slideshow": {
     "slide_type": "subslide"
    }
   },
   "source": [
    "Suppose we wanted to let the user select the starting value. Most of the time the user would select ten, but it would be nice to let them choose a different number sometimes. The starting value 10 would then be called the **default parameter**."
   ]
  },
  {
   "cell_type": "code",
   "execution_count": 9,
   "metadata": {
    "collapsed": false
   },
   "outputs": [
    {
     "name": "stdout",
     "output_type": "stream",
     "text": [
      "5\n",
      "4\n",
      "3\n",
      "2\n",
      "1\n",
      "BLASTOFF\n"
     ]
    }
   ],
   "source": [
    "def countdown(start = 10):\n",
    "    for c in range(start,0,-1):\n",
    "        print(c)\n",
    "        \n",
    "    print(\"BLASTOFF\")\n",
    "    \n",
    "countdown(5)"
   ]
  },
  {
   "cell_type": "code",
   "execution_count": 10,
   "metadata": {
    "collapsed": false,
    "slideshow": {
     "slide_type": "subslide"
    }
   },
   "outputs": [
    {
     "name": "stdout",
     "output_type": "stream",
     "text": [
      "10\n",
      "9\n",
      "8\n",
      "7\n",
      "6\n",
      "5\n",
      "4\n",
      "3\n",
      "2\n",
      "1\n",
      "BLASTOFF\n"
     ]
    }
   ],
   "source": [
    "def countdown(start = 10):\n",
    "    for c in range(start,0,-1):\n",
    "        print(c)\n",
    "        \n",
    "    print(\"BLASTOFF\")\n",
    "    \n",
    "countdown()"
   ]
  },
  {
   "cell_type": "markdown",
   "metadata": {
    "slideshow": {
     "slide_type": "subslide"
    }
   },
   "source": [
    "We can have multiple optional parameters."
   ]
  },
  {
   "cell_type": "code",
   "execution_count": 12,
   "metadata": {
    "collapsed": false
   },
   "outputs": [
    {
     "name": "stdout",
     "output_type": "stream",
     "text": [
      "5\n",
      "4\n",
      "3\n",
      "2\n",
      "1\n",
      "YIPPIE!\n"
     ]
    }
   ],
   "source": [
    "def countdown(start = 10, message = \"BLASTOFF\"):\n",
    "    for c in range(start,0,-1):\n",
    "        print(c)\n",
    "        \n",
    "    print(message)\n",
    "    \n",
    "countdown(5,\"YIPPIE!\")"
   ]
  },
  {
   "cell_type": "markdown",
   "metadata": {
    "slideshow": {
     "slide_type": "subslide"
    }
   },
   "source": [
    "The user can specify what parameter to set."
   ]
  },
  {
   "cell_type": "code",
   "execution_count": 13,
   "metadata": {
    "collapsed": false,
    "slideshow": {
     "slide_type": "-"
    }
   },
   "outputs": [
    {
     "name": "stdout",
     "output_type": "stream",
     "text": [
      "10\n",
      "9\n",
      "8\n",
      "7\n",
      "6\n",
      "5\n",
      "4\n",
      "3\n",
      "2\n",
      "1\n",
      "YIPPIE!\n"
     ]
    }
   ],
   "source": [
    "countdown(message=\"YIPPIE!\")"
   ]
  },
  {
   "cell_type": "markdown",
   "metadata": {
    "slideshow": {
     "slide_type": "subslide"
    }
   },
   "source": [
    "## Exercise\n",
    "\n",
    "Write a function `sumOfSquares()` that computes the sum of the square of the first `n` positive integers, i.e. $\\sum\\limits_{k=1}^n k^2.$\n",
    "\n",
    "Make `n=5` the default parameter."
   ]
  },
  {
   "cell_type": "markdown",
   "metadata": {
    "slideshow": {
     "slide_type": "subslide"
    }
   },
   "source": [
    "## Exercise\n",
    "\n",
    "Write a function `sumOfPowers()` that computes the sum of the first $n$ positive integers each raised to some power $a$, i.e. $\\sum\\limits_{k=1}^n k^a.$\n",
    "\n",
    "Make `n=5` and `a=1` the default parameters."
   ]
  },
  {
   "cell_type": "markdown",
   "metadata": {
    "slideshow": {
     "slide_type": "slide"
    }
   },
   "source": [
    "## Lambda Functions\n",
    "\n",
    "Functions that are only one line can be defined inline using **lambda functions**. For example the function `FtoC` could be defined in single line by:"
   ]
  },
  {
   "cell_type": "code",
   "execution_count": 10,
   "metadata": {
    "collapsed": false,
    "slideshow": {
     "slide_type": "subslide"
    }
   },
   "outputs": [
    {
     "data": {
      "text/plain": [
       "31.111111111111114"
      ]
     },
     "execution_count": 10,
     "metadata": {},
     "output_type": "execute_result"
    }
   ],
   "source": [
    "FtoC = lambda F: 5/9*(F-32)\n",
    "\n",
    "FtoC(88)"
   ]
  },
  {
   "cell_type": "markdown",
   "metadata": {
    "slideshow": {
     "slide_type": "-"
    }
   },
   "source": [
    "Lambda functions only make sense when the function is actually something that can be defined in a single line. They should not contain loops or conditional statements.\n",
    "\n",
    "\n",
    "Lambda functions are useful in scientific computing because they allow us to quickly create simple functions to pass in as arguments to other functions. We'll see an example of this shortly. "
   ]
  },
  {
   "cell_type": "markdown",
   "metadata": {
    "slideshow": {
     "slide_type": "subslide"
    }
   },
   "source": [
    "## Exercise\n",
    "\n",
    "Write a lambda function that computes $e^{\\sin(x)}$."
   ]
  },
  {
   "cell_type": "markdown",
   "metadata": {
    "slideshow": {
     "slide_type": "slide"
    }
   },
   "source": [
    "# Newton's Method\n",
    "\n",
    "Last class we saw how to implement a fixed point iteration to solve a nonlinear equation. Today we will look at a better method.\n",
    "\n",
    "Newton's method is a simple yet highly efficient method for finding the roots (i.e. the zeros) of a function $f(x)$. Starting from an initial point $x_0$, the following sequence of values converges $x^*$, where $f(x^*)=0$:\n",
    "\n",
    "$$ x_{k+1} = x_k - \\frac{f(x_k)}{f'(x_k)}.$$\n",
    "\n"
   ]
  },
  {
   "cell_type": "markdown",
   "metadata": {
    "slideshow": {
     "slide_type": "subslide"
    }
   },
   "source": [
    "That is, given $x_0$ we can find $x_1$, which is closer to $x^*$:\n",
    "\n",
    "$$ x_1 = x_0 - \\frac{f(x_0)}{f'(x_0)}.$$\n",
    "\n",
    "Once we have $x_1$ we can repeat the process to find $x_2$ and then $x_3$ etc. We repeat this process until:\n",
    "\n",
    "a) $f(x_k)$ is close to 0, and\n",
    "\n",
    "b) $|x_{k+1} - x_{k}|$ is small"
   ]
  },
  {
   "cell_type": "markdown",
   "metadata": {
    "slideshow": {
     "slide_type": "-"
    }
   },
   "source": [
    "Unfortunately, there is no guarantee that either of these conditions will ever be satisfied. To aovid an infinite loop we also add am iteration counter. If this counter goes above a certain value the loop exits and an error message is printed."
   ]
  },
  {
   "cell_type": "markdown",
   "metadata": {
    "slideshow": {
     "slide_type": "subslide"
    }
   },
   "source": [
    "Let's look at a concrete example. Let's say we want to approximate $\\sqrt{2}$. We can do this using Newton's method. \n",
    "\n",
    "We let $x^2 = 2$. This means that $f(x) = x^2 - 2 = 0$. \n",
    "\n",
    "This gives $f'(x) = 2x$. Let's take our initial guess to be $x_0 = 1$. "
   ]
  },
  {
   "cell_type": "code",
   "execution_count": 17,
   "metadata": {
    "collapsed": false,
    "slideshow": {
     "slide_type": "subslide"
    }
   },
   "outputs": [
    {
     "name": "stdout",
     "output_type": "stream",
     "text": [
      "[1, 1.5, 1.4166666666666667, 1.4142156862745099, 1.4142135623746899]\n",
      "[-1, 0.25, 0.006944444444444642, 6.007304882871267e-06, 4.510614104447086e-12]\n",
      "actual error: 1.5947243525715749e-12\n"
     ]
    }
   ],
   "source": [
    "import math\n",
    "\n",
    "# declare maximum number of iterations and tolerance\n",
    "IMAX = 20\n",
    "TOL = 1e-5\n",
    "\n",
    "# create a list to store the approximations to the root and function values\n",
    "x = []\n",
    "f = []\n",
    "\n",
    "# append intial guess\n",
    "x.append(1)\n",
    "f.append(x[0]**2 - 2)\n",
    "\n",
    "# set iteration counter\n",
    "icount = 0\n",
    "\n",
    "# intitialize diff to be some number bigger than TOL\n",
    "diff = 2*TOL\n",
    "\n",
    "# loop\n",
    "while (abs(f[icount]) > TOL or diff > TOL) and icount < IMAX:\n",
    "    x_next = x[icount] - (x[icount]**2 - 2)/(2*x[icount])\n",
    "    x.append(x_next)\n",
    "    f.append(x_next**2 -2)\n",
    "    \n",
    "    diff = abs(x_next - x[icount])\n",
    "    icount = icount + 1\n",
    "\n",
    "print(x)\n",
    "print(f)\n",
    "\n",
    "print(\"actual error:\", abs(math.sqrt(2)-x[-1]))"
   ]
  },
  {
   "cell_type": "markdown",
   "metadata": {
    "slideshow": {
     "slide_type": "subslide"
    }
   },
   "source": [
    "Of course we don't need to store all the previous values of $f$ and $x$. Often we are not interested in them. An alternative implementation would look like:"
   ]
  },
  {
   "cell_type": "code",
   "execution_count": 8,
   "metadata": {
    "collapsed": false
   },
   "outputs": [
    {
     "name": "stdout",
     "output_type": "stream",
     "text": [
      "square root of 2 =  1.4142135623746899\n"
     ]
    }
   ],
   "source": [
    "# declare maximum number of iterations and tolerance\n",
    "IMAX = 20\n",
    "TOL = 1e-5\n",
    "\n",
    "# declare initial guess\n",
    "x0 = 1\n",
    "\n",
    "# set iteration counter\n",
    "icount = 0\n",
    "\n",
    "# intitialize diff to be some number bigger than TOL\n",
    "diff = 2*TOL\n",
    "\n",
    "# loop\n",
    "while (x0**2 + -2 > TOL or diff > TOL) and icount < IMAX:\n",
    "    x1 = x0 - (x0**2 -2)/(2*x0)\n",
    "    \n",
    "    diff = abs(x0 - x1)\n",
    "    x0 = x1\n",
    "    icount = icount + 1\n",
    "    \n",
    "print(\"square root of 2 = \", x1)"
   ]
  },
  {
   "cell_type": "markdown",
   "metadata": {
    "collapsed": true,
    "slideshow": {
     "slide_type": "subslide"
    }
   },
   "source": [
    "## Implementation With Functions\n",
    "\n",
    "This works quite well. However, what if instead of approximating $\\sqrt{2}$, we wanted to solve $x^3 - 9x + \\cos(x) = 0$?\n",
    "\n",
    "We would have to rewrite the code above and plug in a new $f(x)$ and $f'(x)$. If we write our code using functions, we can keep the code flexible and capable of solving different problems. "
   ]
  },
  {
   "cell_type": "markdown",
   "metadata": {
    "slideshow": {
     "slide_type": "subslide"
    }
   },
   "source": [
    "Consider the following function:"
   ]
  },
  {
   "cell_type": "code",
   "execution_count": 16,
   "metadata": {
    "collapsed": true
   },
   "outputs": [],
   "source": [
    "def newton_step(x0, f, df):\n",
    "    return x0 - f(x0)/df(x0)"
   ]
  },
  {
   "cell_type": "markdown",
   "metadata": {},
   "source": [
    "This is a single iteration. We assume that the inputs `f` and `df` are functions themselves."
   ]
  },
  {
   "cell_type": "markdown",
   "metadata": {
    "slideshow": {
     "slide_type": "subslide"
    }
   },
   "source": [
    "We can create a function to do the entire Newton method:"
   ]
  },
  {
   "cell_type": "code",
   "execution_count": 16,
   "metadata": {
    "collapsed": true
   },
   "outputs": [],
   "source": [
    "def newtons_method(x0, f, df, tol=1e-5, max_it=20):\n",
    "\n",
    "    # intitialize iteration counter to 0\n",
    "    icount = 0\n",
    "\n",
    "    # intitialize diff to be some number bigger than TOL\n",
    "    diff = 2*tol\n",
    "\n",
    "    # loop\n",
    "    while (f(x0) > TOL or diff > tol) and icount < max_it:\n",
    "        \n",
    "        # call newton_step defined earlier\n",
    "        x1 = newton_step(x0, f, df)\n",
    "    \n",
    "        diff = abs(x0 - x1)\n",
    "        x0 = x1\n",
    "        icount = icount + 1\n",
    "        \n",
    "    return x1"
   ]
  },
  {
   "cell_type": "markdown",
   "metadata": {
    "slideshow": {
     "slide_type": "subslide"
    }
   },
   "source": [
    "Let's use this code to compute $\\sqrt{2}$."
   ]
  },
  {
   "cell_type": "code",
   "execution_count": 32,
   "metadata": {
    "collapsed": false
   },
   "outputs": [
    {
     "name": "stdout",
     "output_type": "stream",
     "text": [
      "1.4142135623746899\n"
     ]
    }
   ],
   "source": [
    "x = newtons_method(1, lambda x: x**2 - 2, lambda x: 2*x)\n",
    "print(x)"
   ]
  },
  {
   "cell_type": "markdown",
   "metadata": {},
   "source": [
    "By changing just two inputs we can also now compute the solution to the equation $x^3-9x+\\cos(x)=0$. "
   ]
  },
  {
   "cell_type": "code",
   "execution_count": 33,
   "metadata": {
    "collapsed": false
   },
   "outputs": [
    {
     "name": "stdout",
     "output_type": "stream",
     "text": [
      "0.11058269180669812\n"
     ]
    }
   ],
   "source": [
    "x = newtons_method(1, lambda x: x**3 - 9*x + math.cos(x), lambda x: 3*x**2 - 9 - math.sin(x))\n",
    "print(x)"
   ]
  },
  {
   "cell_type": "markdown",
   "metadata": {
    "slideshow": {
     "slide_type": "subslide"
    }
   },
   "source": [
    "## Exercise\n",
    "\n",
    "Modify the code for Newton's method above to return the number of iterations. \n",
    "\n",
    "Use this code to solve the equation $x - \\cos(x) = 0$. Print out the solution and the number of iterations.\n",
    "\n",
    "[answer](https://raw.githubusercontent.com/lukasbystricky/ISC-3313/master/lectures/chapter5/code/newtons_method_test.py)"
   ]
  },
  {
   "cell_type": "markdown",
   "metadata": {
    "slideshow": {
     "slide_type": "subslide"
    }
   },
   "source": [
    "## Exercise \n",
    "\n",
    "Complete the function `fixedPoint()` that does a fixed point iteration to solve the equation $x = f(x)$. It should return a solution x as well as the number of iterations `k`. Use it to solve the equation $x = \\cos(x)$."
   ]
  },
  {
   "cell_type": "code",
   "execution_count": null,
   "metadata": {
    "collapsed": true
   },
   "outputs": [],
   "source": [
    "def fixedPoint(x0, f, max_it = 100, tol = 1e-8):\n",
    "        \n",
    "    return (x1, k)\n",
    "\n",
    "(x, k) = fixedPoint(lambda x: math.cos(x))\n",
    "print(\"x =\",x)\n",
    "print(\"number of iterations:\", k)\n",
    "\n"
   ]
  },
  {
   "cell_type": "markdown",
   "metadata": {
    "slideshow": {
     "slide_type": "subslide"
    }
   },
   "source": [
    "[answer](https://raw.githubusercontent.com/lukasbystricky/ISC-3313/master/lectures/chapter5/code/fixed_point_test.py)"
   ]
  },
  {
   "cell_type": "markdown",
   "metadata": {
    "slideshow": {
     "slide_type": "slide"
    }
   },
   "source": [
    "## Docstrings\n",
    "\n",
    "Docstrings are a way to provide automatic documentation for a function. Without going into too much detail, after you declare a function you can enclose a series of comments inside triple quotes (\"\"\"). Whatever you type here will be printed when you call `help(function)`. "
   ]
  },
  {
   "cell_type": "markdown",
   "metadata": {
    "slideshow": {
     "slide_type": "subslide"
    }
   },
   "source": [
    "For example the a docstring for the function `newton_step` might look like:"
   ]
  },
  {
   "cell_type": "code",
   "execution_count": 29,
   "metadata": {
    "collapsed": true
   },
   "outputs": [],
   "source": [
    "def newton_step(x0, f, df):\n",
    "    \"\"\"\n",
    "    Take a single Newton step starting from x0\n",
    "    \n",
    "    Parameters\n",
    "    ----------\n",
    "    x0 : float\n",
    "        initial approximation\n",
    "    f  : function\n",
    "        f(x)\n",
    "    df : function\n",
    "        f'(x)\n",
    "        \n",
    "    Returns\n",
    "    -------\n",
    "    x1 : float\n",
    "        a better approximation using Newton's method\n",
    "    \n",
    "    \"\"\"\n",
    "    return x0 - f(x0)/df(x0)"
   ]
  },
  {
   "cell_type": "markdown",
   "metadata": {
    "slideshow": {
     "slide_type": "subslide"
    }
   },
   "source": [
    "Calling the help function then prints:"
   ]
  },
  {
   "cell_type": "code",
   "execution_count": 30,
   "metadata": {
    "collapsed": false
   },
   "outputs": [
    {
     "name": "stdout",
     "output_type": "stream",
     "text": [
      "Help on function newton_step in module __main__:\n",
      "\n",
      "newton_step(x0, f, df)\n",
      "    Take a single Newton step starting from x0\n",
      "    \n",
      "    Parameters\n",
      "    ----------\n",
      "    x0 : float\n",
      "        initial approximation\n",
      "    f  : function\n",
      "        f(x)\n",
      "    df : function\n",
      "        f'(x)\n",
      "        \n",
      "    Returns\n",
      "    -------\n",
      "    x1 : float\n",
      "        a better approximation using Newton's method\n",
      "\n"
     ]
    }
   ],
   "source": [
    "help(newton_step)"
   ]
  },
  {
   "cell_type": "markdown",
   "metadata": {
    "slideshow": {
     "slide_type": "subslide"
    }
   },
   "source": [
    "There is no required formatting for the docstring, but it should be readable and provide enough information for a user to understand and use the function. A discussion on some conventions is availiable [here](https://www.python.org/dev/peps/pep-0257/). \n",
    "\n",
    "Don't get too caught up in the exact format of your docstring, clarity is the most important part. Its always better to have some sort of docstring than none at all. Find a style you like and stick to that."
   ]
  },
  {
   "cell_type": "markdown",
   "metadata": {
    "slideshow": {
     "slide_type": "slide"
    }
   },
   "source": [
    "# Modules\n",
    "\n",
    "\n",
    "We've seen how to load in existing Python modules. It is also possible to create our own modules. This is useful if, for example, we want to write a function that will be used in multiple programs. Writing modules also helps keep our script clean and tidy."
   ]
  },
  {
   "cell_type": "markdown",
   "metadata": {
    "slideshow": {
     "slide_type": "subslide"
    }
   },
   "source": [
    "In fact, this is extremely easy. All we do is collect a set of functions and put them in a single python file, say `mymodule.py`. This file is automatically a module and can be imported in the standard way. "
   ]
  },
  {
   "cell_type": "markdown",
   "metadata": {
    "slideshow": {
     "slide_type": "subslide"
    }
   },
   "source": [
    "Let's look at an example. To calculate compound interest, we have the formula:\n",
    "$$ A = P \\left( 1 + \\frac{r}{n}\\right)^{nt},$$\n",
    "where $P$ is the present value of the account, $r$ is the rate compounded $n$ times per year and $A$ is the future value of the account after $t$ years."
   ]
  },
  {
   "cell_type": "markdown",
   "metadata": {
    "slideshow": {
     "slide_type": "subslide"
    }
   },
   "source": [
    "This gives $A$ as a function of $P$, $r$, $n$ and $t$. We can rearrange to solve for $P$ and $t$:\n",
    "$$\\begin{align*}\n",
    "       P = A\\left(1 + \\frac{r}{n}\\right)^{-nt},\\\\\n",
    "       t = \\frac{\\log (A) - \\log(P)}{n\\log \\left(1 + \\frac{r}{n}\\right)}\n",
    "\\end{align*}$$"
   ]
  },
  {
   "cell_type": "markdown",
   "metadata": {
    "slideshow": {
     "slide_type": "subslide"
    }
   },
   "source": [
    "We can now write functions to calculate these values:"
   ]
  },
  {
   "cell_type": "code",
   "execution_count": 21,
   "metadata": {
    "collapsed": true
   },
   "outputs": [],
   "source": [
    "def future_value(PV, r, n, t):\n",
    "    \"\"\"\n",
    "    Calculates the future value of an account\n",
    "    \n",
    "    Parameters\n",
    "    ----------\n",
    "    PV : float\n",
    "        present value\n",
    "    r : float\n",
    "        interest rate (decimal form)\n",
    "    n : int\n",
    "        compounds per year\n",
    "    t : int\n",
    "        number of years\n",
    "        \n",
    "    Returns\n",
    "    -------\n",
    "    FV : float\n",
    "        future value of the account after t years\n",
    "    \n",
    "    \"\"\"\n",
    "    \n",
    "    return PV*(1 + r/n)**(n*t)"
   ]
  },
  {
   "cell_type": "code",
   "execution_count": 22,
   "metadata": {
    "collapsed": true,
    "slideshow": {
     "slide_type": "subslide"
    }
   },
   "outputs": [],
   "source": [
    "def present_value(FV, r, n, t):\n",
    "    \"\"\"\n",
    "    Calculates the present value of an account\n",
    "    \n",
    "    Parameters\n",
    "    ----------\n",
    "    FV : float\n",
    "        future value of the account\n",
    "    r : float\n",
    "        interest rate (decimal form)\n",
    "    n : int\n",
    "        compounds per year\n",
    "    t : int\n",
    "        number of years\n",
    "        \n",
    "    Returns\n",
    "    -------\n",
    "    FV : float\n",
    "        future value of the account after t years\n",
    "    \n",
    "    \"\"\"\n",
    "    \n",
    "    return FV*(1 + r/n)**(-n*t)"
   ]
  },
  {
   "cell_type": "code",
   "execution_count": null,
   "metadata": {
    "collapsed": true,
    "slideshow": {
     "slide_type": "subslide"
    }
   },
   "outputs": [],
   "source": [
    "def years(PV, FV, r, n):    \n",
    "    \"\"\"\n",
    "    Calculates the number of years needed to reach a target value\n",
    "    \n",
    "    Parameters\n",
    "    ----------\n",
    "    PV : float\n",
    "        present value of the account\n",
    "    FV : float\n",
    "        future value of the account    \n",
    "    r : float\n",
    "        interest rate (decimal form)\n",
    "    n : int\n",
    "        compounds per year\n",
    "        \n",
    "    Returns\n",
    "    -------\n",
    "    t : float\n",
    "        number of years need to reach FV from PV\n",
    "    \n",
    "    \"\"\"\n",
    "    \n",
    "    from math import log\n",
    "    return (log(FV) - log(PV))/(n*log(1 + r/n))"
   ]
  },
  {
   "cell_type": "markdown",
   "metadata": {
    "slideshow": {
     "slide_type": "subslide"
    }
   },
   "source": [
    "These functions can be collected and put into a module [`finance.py`](https://raw.githubusercontent.com/lukasbystricky/ISC-3313/master/lectures/chapter5/code/finance.py).\n",
    "\n",
    "If we save this file in the same directory as our interpreter or script, we can call it like a regular module."
   ]
  },
  {
   "cell_type": "code",
   "execution_count": 28,
   "metadata": {
    "collapsed": false,
    "slideshow": {
     "slide_type": "subslide"
    }
   },
   "outputs": [
    {
     "name": "stdout",
     "output_type": "stream",
     "text": [
      "Help on function future_value in module finance:\n",
      "\n",
      "future_value(PV, r, n, t)\n",
      "    Calculates the future value of an account\n",
      "    \n",
      "    Parameters\n",
      "    ----------\n",
      "    PV : float\n",
      "        present value\n",
      "    r : float\n",
      "        interest rate (decimal form)\n",
      "    n : int\n",
      "        compounds per year\n",
      "    t : int\n",
      "        number of years\n",
      "        \n",
      "    Returns\n",
      "    -------\n",
      "    FV : float\n",
      "        future value of the account after t years\n",
      "\n",
      "FV: 270.70414908622433\n"
     ]
    }
   ],
   "source": [
    "import finance\n",
    "\n",
    "help(finance.future_value)\n",
    "\n",
    "FV = finance.future_value(100, 0.1, 12, 10)\n",
    "print(\"FV:\", FV)"
   ]
  },
  {
   "cell_type": "markdown",
   "metadata": {
    "slideshow": {
     "slide_type": "subslide"
    }
   },
   "source": [
    "## Exercise\n",
    "\n",
    "Create a module `imperialUnitConversions` that contains a set of functions to perform various unit conversions. Create the functions:\n",
    "\n",
    "* `feet_to_inches` using the conversion 1 foot = 12 inches\n",
    "* `fathoms_to_feet` using the conversion 1 fathom = 6.08 feet\n",
    "* `acre_to_sqfeet` using the conversion 1 acre = 43,560 square feet\n",
    "* `stone_to_pounds` using the conversion 1 stone = 14 pounds\n",
    "\n",
    "Include doc strings."
   ]
  }
 ],
 "metadata": {
  "anaconda-cloud": {},
  "celltoolbar": "Slideshow",
  "kernelspec": {
   "display_name": "Python [Root]",
   "language": "python",
   "name": "Python [Root]"
  },
  "language_info": {
   "codemirror_mode": {
    "name": "ipython",
    "version": 3
   },
   "file_extension": ".py",
   "mimetype": "text/x-python",
   "name": "python",
   "nbconvert_exporter": "python",
   "pygments_lexer": "ipython3",
   "version": "3.5.2"
  }
 },
 "nbformat": 4,
 "nbformat_minor": 1
}
