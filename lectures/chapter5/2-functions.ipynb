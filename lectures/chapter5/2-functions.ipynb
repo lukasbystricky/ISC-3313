{
 "cells": [
  {
   "cell_type": "markdown",
   "metadata": {
    "collapsed": false,
    "slideshow": {
     "slide_type": "slide"
    }
   },
   "source": [
    "<p style=\"text-align: center;\"><font size=\"8\"><b>Functions</b></font><br>\n"
   ]
  },
  {
   "cell_type": "markdown",
   "metadata": {
    "collapsed": false,
    "slideshow": {
     "slide_type": "slide"
    }
   },
   "source": [
    "Functions are the most general purpose control structure. We have already seen several functions, for example `abs(x)` returns the absolute value of x. Today we will look at creating our own functions."
   ]
  },
  {
   "cell_type": "markdown",
   "metadata": {
    "collapsed": true,
    "slideshow": {
     "slide_type": "subslide"
    }
   },
   "source": [
    "Let's say that we want to convert a temperature in Fahrenheit to Celcius. In assignment 1 you were given the formula\n",
    "\n",
    "$$ C = \\frac{5}{9}(F - 32).$$\n",
    "\n",
    "That is, given a temperature in Fahrenheit $F$ we can compute the temperature in Celcius."
   ]
  },
  {
   "cell_type": "code",
   "execution_count": 1,
   "metadata": {
    "collapsed": false
   },
   "outputs": [
    {
     "name": "stdout",
     "output_type": "stream",
     "text": [
      "31.111111111111114\n"
     ]
    }
   ],
   "source": [
    "F = 88\n",
    "C = 5/9*(F - 32)\n",
    "print(C)"
   ]
  },
  {
   "cell_type": "markdown",
   "metadata": {
    "slideshow": {
     "slide_type": "subslide"
    }
   },
   "source": [
    "We could also define a function, say `FtoC` that does the same thing:"
   ]
  },
  {
   "cell_type": "code",
   "execution_count": 3,
   "metadata": {
    "collapsed": false
   },
   "outputs": [
    {
     "data": {
      "text/plain": [
       "31.111111111111114"
      ]
     },
     "execution_count": 3,
     "metadata": {},
     "output_type": "execute_result"
    }
   ],
   "source": [
    "def FtoC(F):\n",
    "    C = 5/9*(F-32)\n",
    "    return C\n",
    "\n",
    "FtoC(88)"
   ]
  },
  {
   "cell_type": "markdown",
   "metadata": {
    "slideshow": {
     "slide_type": "-"
    }
   },
   "source": [
    "Functions are declared with the keyword `def` (short for define). It is followed by the name of the function, here `FtoC`. Parentheses enclose a series of parameters that are passed in by the caller (F). If a function does not require any parameters there must still be opening and closing parentheses. Finally an indented body contains the code that is executed when the fucntion is called.\n",
    "\n",
    "\n",
    "    def function_name( parameters) :\n",
    "        body\n",
    "    "
   ]
  },
  {
   "cell_type": "markdown",
   "metadata": {
    "slideshow": {
     "slide_type": "subslide"
    }
   },
   "source": [
    "## Function name\n",
    "\n",
    "A function name follows the same rules as a variable name. It must only consist of letters, digits and underscores and it cannot start with a digit. It also cannot be a reserved word, for example \"`class`\"."
   ]
  },
  {
   "cell_type": "markdown",
   "metadata": {
    "slideshow": {
     "slide_type": "subslide"
    }
   },
   "source": [
    "## Parameters\n",
    "\n",
    "We are free to choose the names of the parameters. The name we give a parameter is known as a *formal parameter*; it serves as a placeholder for a piece of information from the caller, known as the *actual parameter*. We cannot assume to know the name of the variable name used by the caller. In fact when we call `FtoC(88)`, the actual parameter has a value of 88, but no name. \n",
    "\n",
    "In general formal parameter names should be chosen in such a way as to suggest their meaning. That's why we chose `F` in the function above; we could also have chosen `far` or `fahrenheit`. \n",
    "\n",
    "Each time our function is called the formal parameter `F` gets assigned the value "
   ]
  },
  {
   "cell_type": "markdown",
   "metadata": {
    "slideshow": {
     "slide_type": "subslide"
    }
   },
   "source": [
    "## Body\n",
    "\n",
    "The body of a function can be any valid Python code. This includes loops and if statements. \n",
    "\n",
    "A difference between the body of a function and that of loops and if statements is that any code in the body of a function has **local scope**. This means that variables inside a function do not interact with variables outside the function."
   ]
  },
  {
   "cell_type": "markdown",
   "metadata": {
    "slideshow": {
     "slide_type": "subslide"
    }
   },
   "source": [
    "Local scope is good because it means that we do not have to worry about what variable names are used by the caller and the caller doesn't have to worry about what variable names are used in the function. \n",
    "\n",
    "An exception to the local scope rule is modules. Modules that are loaded outside the function can still be used inside the function."
   ]
  },
  {
   "cell_type": "code",
   "execution_count": 1,
   "metadata": {
    "collapsed": false
   },
   "outputs": [
    {
     "name": "stdout",
     "output_type": "stream",
     "text": [
      "F= 31.111111111111114\n",
      "C= 12\n"
     ]
    }
   ],
   "source": [
    "C = 12 # we might already have a variable called C\n",
    "\n",
    "def FtoC(F):\n",
    "    # here we create a variable C inside the function\n",
    "    C = 5/9*(F-32)\n",
    "    return C\n",
    "\n",
    "print(\"F=\", FtoC(88))\n",
    "print(\"C=\", C) # notice how the value of C has not changed"
   ]
  },
  {
   "cell_type": "markdown",
   "metadata": {
    "slideshow": {
     "slide_type": "subslide"
    }
   },
   "source": [
    "## Return values\n",
    "\n",
    "Because of local scope the caller cannot access variables defined inside the body of a function. In order to retrieve any information from a function, the function should have a **return statement**. \n",
    "\n",
    "When a return statement is called, the function ends. Note that this does not mean that a return statement must be the last statement in a function. Sometimes you may want to have a conditional statement that returns different values to the caller depending on some condition. We'll see examples of this later."
   ]
  },
  {
   "cell_type": "markdown",
   "metadata": {
    "slideshow": {
     "slide_type": "subslide"
    }
   },
   "source": [
    "Sometimes you'd like a function to return multiple values. In this case it is customary to return a tuple of values."
   ]
  },
  {
   "cell_type": "markdown",
   "metadata": {
    "slideshow": {
     "slide_type": "subslide"
    }
   },
   "source": [
    "## Exercise\n",
    "\n",
    "Write a function `circleArea()` that takes a radius `r` as a parameter and computes the area of a circle according to formula:\n",
    "$$ A = \\pi r^2.$$"
   ]
  },
  {
   "cell_type": "markdown",
   "metadata": {
    "slideshow": {
     "slide_type": "subslide"
    }
   },
   "source": [
    "## Exercise\n",
    "\n",
    "Write a function `isEven()` that takes an integer `n` as a parameter and returns `True` is the number is even and `False` otherwise."
   ]
  },
  {
   "cell_type": "markdown",
   "metadata": {
    "slideshow": {
     "slide_type": "subslide"
    }
   },
   "source": [
    "## Exercise\n",
    "\n",
    "Write a function `sphereInformation()` that takes a radius `r` as a parameter and returns the volume *and* the surface area of a sphere. Use the formulas:\n",
    "$$ V = \\frac{4}{3}\\pi r^3, \\qquad A = 4\\pi r^2.$$"
   ]
  },
  {
   "cell_type": "markdown",
   "metadata": {
    "slideshow": {
     "slide_type": "slide"
    }
   },
   "source": [
    "## Flow of Control\n",
    "\n",
    "When a function is called, whether a built-in function or one that you defined, control passes directly to the body of the function. The body of a function can call other functions. Once a function finishes, control is passed back to whoever called it.\n",
    "\n"
   ]
  },
  {
   "cell_type": "markdown",
   "metadata": {
    "slideshow": {
     "slide_type": "subslide"
    }
   },
   "source": [
    "Before the user calls a function, it must be defined. For example, the following code will not work because we are trying to call the function `fib` before it is defined."
   ]
  },
  {
   "cell_type": "code",
   "execution_count": 5,
   "metadata": {
    "collapsed": false
   },
   "outputs": [
    {
     "ename": "NameError",
     "evalue": "name 'fib' is not defined",
     "output_type": "error",
     "traceback": [
      "\u001b[1;31m---------------------------------------------------------------------------\u001b[0m",
      "\u001b[1;31mNameError\u001b[0m                                 Traceback (most recent call last)",
      "\u001b[1;32m<ipython-input-5-9218c7a8901a>\u001b[0m in \u001b[0;36m<module>\u001b[1;34m()\u001b[0m\n\u001b[1;32m----> 1\u001b[1;33m \u001b[0mprint\u001b[0m\u001b[1;33m(\u001b[0m\u001b[0mfib\u001b[0m\u001b[1;33m(\u001b[0m\u001b[1;36m5\u001b[0m\u001b[1;33m)\u001b[0m\u001b[1;33m)\u001b[0m\u001b[1;33m\u001b[0m\u001b[0m\n\u001b[0m\u001b[0;32m      2\u001b[0m \u001b[1;33m\u001b[0m\u001b[0m\n\u001b[0;32m      3\u001b[0m \u001b[1;32mdef\u001b[0m \u001b[0mfib\u001b[0m\u001b[1;33m(\u001b[0m\u001b[0mN\u001b[0m\u001b[1;33m)\u001b[0m\u001b[1;33m:\u001b[0m\u001b[1;33m\u001b[0m\u001b[0m\n\u001b[0;32m      4\u001b[0m     \u001b[1;31m# create list of Fibonacci numbers, append first two numbers\u001b[0m\u001b[1;33m\u001b[0m\u001b[1;33m\u001b[0m\u001b[0m\n\u001b[0;32m      5\u001b[0m     \u001b[0mfib\u001b[0m \u001b[1;33m=\u001b[0m \u001b[1;33m[\u001b[0m\u001b[1;33m]\u001b[0m\u001b[1;33m\u001b[0m\u001b[0m\n",
      "\u001b[1;31mNameError\u001b[0m: name 'fib' is not defined"
     ]
    }
   ],
   "source": [
    "print(fib(5))\n",
    "\n",
    "def fib(N):\n",
    "    # create list of Fibonacci numbers, append first two numbers\n",
    "    fib = []\n",
    "    fib.append(0)\n",
    "    fib.append(1)\n",
    "\n",
    "    # loop from 2 to N-1 (giving you N total terms)\n",
    "    for i in range(2,N):\n",
    "        # apply reccurance relation\n",
    "        fib.append(fib[i-1]+fib[i-2])\n",
    "    print(fib)"
   ]
  },
  {
   "cell_type": "markdown",
   "metadata": {
    "slideshow": {
     "slide_type": "slide"
    }
   },
   "source": [
    "## Optional parameters\n",
    "\n",
    "We've seen some built-in functions that take in optional parameters. For example when plotting a line, we can specify the color and line style if we want, but if we don't the default is just a blue line with no data markers (i.e. '-b'). We can write functions that do this too."
   ]
  },
  {
   "cell_type": "markdown",
   "metadata": {
    "slideshow": {
     "slide_type": "subslide"
    }
   },
   "source": [
    "For example consider a countdown function."
   ]
  },
  {
   "cell_type": "code",
   "execution_count": 7,
   "metadata": {
    "collapsed": false
   },
   "outputs": [
    {
     "name": "stdout",
     "output_type": "stream",
     "text": [
      "10\n",
      "9\n",
      "8\n",
      "7\n",
      "6\n",
      "5\n",
      "4\n",
      "3\n",
      "2\n",
      "1\n",
      "BLASTOFF\n"
     ]
    }
   ],
   "source": [
    "def countdown():\n",
    "    for c in range(10,0,-1):\n",
    "        print(c)\n",
    "        \n",
    "    print(\"BLASTOFF\")\n",
    "    \n",
    "countdown()"
   ]
  },
  {
   "cell_type": "markdown",
   "metadata": {
    "slideshow": {
     "slide_type": "subslide"
    }
   },
   "source": [
    "Suppose we wanted to let the user select the starting value. Most of the time the user would select ten, but it would be nice to let them choose a different number sometimes. The starting value 10 would then be called the **default parameter**."
   ]
  },
  {
   "cell_type": "code",
   "execution_count": 9,
   "metadata": {
    "collapsed": false
   },
   "outputs": [
    {
     "name": "stdout",
     "output_type": "stream",
     "text": [
      "5\n",
      "4\n",
      "3\n",
      "2\n",
      "1\n",
      "BLASTOFF\n"
     ]
    }
   ],
   "source": [
    "def countdown(start = 10):\n",
    "    for c in range(start,0,-1):\n",
    "        print(c)\n",
    "        \n",
    "    print(\"BLASTOFF\")\n",
    "    \n",
    "countdown(5)"
   ]
  },
  {
   "cell_type": "code",
   "execution_count": 10,
   "metadata": {
    "collapsed": false,
    "slideshow": {
     "slide_type": "subslide"
    }
   },
   "outputs": [
    {
     "name": "stdout",
     "output_type": "stream",
     "text": [
      "10\n",
      "9\n",
      "8\n",
      "7\n",
      "6\n",
      "5\n",
      "4\n",
      "3\n",
      "2\n",
      "1\n",
      "BLASTOFF\n"
     ]
    }
   ],
   "source": [
    "def countdown(start = 10):\n",
    "    for c in range(start,0,-1):\n",
    "        print(c)\n",
    "        \n",
    "    print(\"BLASTOFF\")\n",
    "    \n",
    "countdown()"
   ]
  },
  {
   "cell_type": "markdown",
   "metadata": {
    "slideshow": {
     "slide_type": "subslide"
    }
   },
   "source": [
    "We can have multiple optional parameters."
   ]
  },
  {
   "cell_type": "code",
   "execution_count": 12,
   "metadata": {
    "collapsed": false
   },
   "outputs": [
    {
     "name": "stdout",
     "output_type": "stream",
     "text": [
      "5\n",
      "4\n",
      "3\n",
      "2\n",
      "1\n",
      "YIPPIE!\n"
     ]
    }
   ],
   "source": [
    "def countdown(start = 10, message = \"BLASTOFF\"):\n",
    "    for c in range(start,0,-1):\n",
    "        print(c)\n",
    "        \n",
    "    print(message)\n",
    "    \n",
    "countdown(5,\"YIPPIE!\")"
   ]
  },
  {
   "cell_type": "markdown",
   "metadata": {
    "slideshow": {
     "slide_type": "subslide"
    }
   },
   "source": [
    "The user can specify what parameter to set."
   ]
  },
  {
   "cell_type": "code",
   "execution_count": 13,
   "metadata": {
    "collapsed": false,
    "slideshow": {
     "slide_type": "-"
    }
   },
   "outputs": [
    {
     "name": "stdout",
     "output_type": "stream",
     "text": [
      "10\n",
      "9\n",
      "8\n",
      "7\n",
      "6\n",
      "5\n",
      "4\n",
      "3\n",
      "2\n",
      "1\n",
      "YIPPIE!\n"
     ]
    }
   ],
   "source": [
    "countdown(message=\"YIPPIE!\")"
   ]
  },
  {
   "cell_type": "markdown",
   "metadata": {
    "slideshow": {
     "slide_type": "subslide"
    }
   },
   "source": [
    "## Exercise\n",
    "\n",
    "Write a function `sumOfSquares()` that computes the sum of the square of the first `n` positive integers, i.e. $\\sum\\limits_{k=1}^n k^2.$\n",
    "\n",
    "Make `n=5` the default parameter."
   ]
  },
  {
   "cell_type": "markdown",
   "metadata": {
    "slideshow": {
     "slide_type": "subslide"
    }
   },
   "source": [
    "## Exercise\n",
    "\n",
    "Write a function `sumOfPowers()` that computes the sum of the first $n$ positive integers each raised to some power $a$, i.e. $\\sum\\limits_{k=1}^n k^a.$\n",
    "\n",
    "Make `n=5` and `a=1` the default parameters."
   ]
  },
  {
   "cell_type": "markdown",
   "metadata": {
    "slideshow": {
     "slide_type": "slide"
    }
   },
   "source": [
    "## Lambda Functions\n",
    "\n",
    "Functions that are only one line can be defined inline using **lambda functions**. For example the function `FtoC` could be defined in single line by:"
   ]
  },
  {
   "cell_type": "code",
   "execution_count": 10,
   "metadata": {
    "collapsed": false,
    "slideshow": {
     "slide_type": "subslide"
    }
   },
   "outputs": [
    {
     "data": {
      "text/plain": [
       "31.111111111111114"
      ]
     },
     "execution_count": 10,
     "metadata": {},
     "output_type": "execute_result"
    }
   ],
   "source": [
    "FtoC = lambda F: 5/9*(F-32)\n",
    "\n",
    "FtoC(88)"
   ]
  },
  {
   "cell_type": "markdown",
   "metadata": {
    "slideshow": {
     "slide_type": "-"
    }
   },
   "source": [
    "Lambda functions only make sense when the function is actually something that can be defined in a single line. They should not contain loops or conditional statements.\n",
    "\n",
    "\n",
    "Lambda functions are useful in scientific computing because they allow us to quickly create simple functions to pass in as arguments to other functions. We'll see an example of this shortly. "
   ]
  },
  {
   "cell_type": "markdown",
   "metadata": {
    "slideshow": {
     "slide_type": "subslide"
    }
   },
   "source": [
    "## Exercise\n",
    "\n",
    "Write a lambda function that computes $e^{\\sin(x)}$."
   ]
  },
  {
   "cell_type": "markdown",
   "metadata": {
    "slideshow": {
     "slide_type": "slide"
    }
   },
   "source": [
    "# Newton's Method\n",
    "\n",
    "Last class we saw how to implement a fixed point iteration to solve a nonlinear equation. Today we will look at a better method.\n",
    "\n",
    "Newton's method is a simple yet highly efficient method for finding the roots (i.e. the zeros) of a function $f(x)$. Starting from an initial point $x_0$, the following sequence of values converges $x^*$, where $f(x^*)=0$:\n",
    "\n",
    "$$ x_{k+1} = x_k - \\frac{f(x_k)}{f'(x_k)}.$$\n",
    "\n"
   ]
  },
  {
   "cell_type": "markdown",
   "metadata": {
    "slideshow": {
     "slide_type": "subslide"
    }
   },
   "source": [
    "That is, given $x_0$ we can find $x_1$, which is closer to $x^*$:\n",
    "\n",
    "$$ x_1 = x_0 - \\frac{f(x_0)}{f'(x_0)}.$$\n",
    "\n",
    "Once we have $x_1$ we can repeat the process to find $x_2$ and then $x_3$ etc. We repeat this process until:\n",
    "\n",
    "a) $f(x_k)$ is close to 0, and\n",
    "\n",
    "b) $|x_{k+1} - x_{k}|$ is small"
   ]
  },
  {
   "cell_type": "markdown",
   "metadata": {
    "slideshow": {
     "slide_type": "-"
    }
   },
   "source": [
    "Unfortunately, there is no guarantee that either of these conditions will ever be satisfied. To aovid an infinite loop we also add am iteration counter. If this counter goes above a certain value the loop exits and an error message is printed."
   ]
  },
  {
   "cell_type": "markdown",
   "metadata": {
    "slideshow": {
     "slide_type": "subslide"
    }
   },
   "source": [
    "Let's look at a concrete example. Let's say we want to approximate $\\sqrt{2}$. We can do this using Newton's method. \n",
    "\n",
    "We let $x^2 = 2$. This means that $f(x) = x^2 - 2 = 0$. \n",
    "\n",
    "This gives $f'(x) = 2x$. Let's take our initial guess to be $x_0 = 1$. "
   ]
  },
  {
   "cell_type": "code",
   "execution_count": 17,
   "metadata": {
    "collapsed": false,
    "slideshow": {
     "slide_type": "subslide"
    }
   },
   "outputs": [
    {
     "name": "stdout",
     "output_type": "stream",
     "text": [
      "[1, 1.5, 1.4166666666666667, 1.4142156862745099, 1.4142135623746899]\n",
      "[-1, 0.25, 0.006944444444444642, 6.007304882871267e-06, 4.510614104447086e-12]\n",
      "actual error: 1.5947243525715749e-12\n"
     ]
    }
   ],
   "source": [
    "import math\n",
    "\n",
    "# declare maximum number of iterations and tolerance\n",
    "IMAX = 20\n",
    "TOL = 1e-5\n",
    "\n",
    "# create a list to store the approximations to the root and function values\n",
    "x = []\n",
    "f = []\n",
    "\n",
    "# append intial guess\n",
    "x.append(1)\n",
    "f.append(x[0]**2 - 2)\n",
    "\n",
    "# set iteration counter\n",
    "icount = 0\n",
    "\n",
    "# intitialize diff to be some number bigger than TOL\n",
    "diff = 2*TOL\n",
    "\n",
    "# loop\n",
    "while (abs(f[icount]) > TOL or diff > TOL) and icount < IMAX:\n",
    "    x_next = x[icount] - (x[icount]**2 - 2)/(2*x[icount])\n",
    "    x.append(x_next)\n",
    "    f.append(x_next**2 -2)\n",
    "    \n",
    "    diff = abs(x_next - x[icount])\n",
    "    icount = icount + 1\n",
    "\n",
    "print(x)\n",
    "print(f)\n",
    "\n",
    "print(\"actual error:\", abs(math.sqrt(2)-x[-1]))"
   ]
  },
  {
   "cell_type": "markdown",
   "metadata": {
    "slideshow": {
     "slide_type": "subslide"
    }
   },
   "source": [
    "Of course we don't need to store all the previous values of $f$ and $x$. Often we are not interested in them. An alternative implementation would look like:"
   ]
  },
  {
   "cell_type": "code",
   "execution_count": 8,
   "metadata": {
    "collapsed": false
   },
   "outputs": [
    {
     "name": "stdout",
     "output_type": "stream",
     "text": [
      "square root of 2 =  1.4142135623746899\n"
     ]
    }
   ],
   "source": [
    "# declare maximum number of iterations and tolerance\n",
    "IMAX = 20\n",
    "TOL = 1e-5\n",
    "\n",
    "# declare initial guess\n",
    "x0 = 1\n",
    "\n",
    "# set iteration counter\n",
    "icount = 0\n",
    "\n",
    "# intitialize diff to be some number bigger than TOL\n",
    "diff = 2*TOL\n",
    "\n",
    "# loop\n",
    "while (x0**2 + -2 > TOL or diff > TOL) and icount < IMAX:\n",
    "    x1 = x0 - (x0**2 -2)/(2*x0)\n",
    "    \n",
    "    diff = abs(x0 - x1)\n",
    "    x0 = x1\n",
    "    icount = icount + 1\n",
    "    \n",
    "print(\"square root of 2 = \", x1)"
   ]
  },
  {
   "cell_type": "markdown",
   "metadata": {
    "collapsed": true,
    "slideshow": {
     "slide_type": "subslide"
    }
   },
   "source": [
    "## Implementation With Functions\n",
    "\n",
    "This works quite well. However, what if instead of approximating $\\sqrt{2}$, we wanted to solve $x^3 - 9x + \\cos(x) = 0$?\n",
    "\n",
    "We would have to rewrite the code above and plug in a new $f(x)$ and $f'(x)$. If we write our code using functions, we can keep the code flexible and capable of solving different problems. "
   ]
  },
  {
   "cell_type": "markdown",
   "metadata": {
    "slideshow": {
     "slide_type": "subslide"
    }
   },
   "source": [
    "Consider the following function:"
   ]
  },
  {
   "cell_type": "code",
   "execution_count": 16,
   "metadata": {
    "collapsed": true
   },
   "outputs": [],
   "source": [
    "def newton_step(x0, f, df):\n",
    "    return x0 - f(x0)/df(x0)"
   ]
  },
  {
   "cell_type": "markdown",
   "metadata": {},
   "source": [
    "This is a single iteration. We assume that the inputs `f` and `df` are functions themselves."
   ]
  },
  {
   "cell_type": "markdown",
   "metadata": {
    "slideshow": {
     "slide_type": "subslide"
    }
   },
   "source": [
    "We can create a function to do the entire Newton method:"
   ]
  },
  {
   "cell_type": "code",
   "execution_count": 16,
   "metadata": {
    "collapsed": true
   },
   "outputs": [],
   "source": [
    "def newtons_method(x0, f, df, tol=1e-5, max_it=20):\n",
    "\n",
    "    # intitialize iteration counter to 0\n",
    "    icount = 0\n",
    "\n",
    "    # intitialize diff to be some number bigger than TOL\n",
    "    diff = 2*tol\n",
    "\n",
    "    # loop\n",
    "    while (f(x0) > TOL or diff > tol) and icount < max_it:\n",
    "        \n",
    "        # call newton_step defined earlier\n",
    "        x1 = newton_step(x0, f, df)\n",
    "    \n",
    "        diff = abs(x0 - x1)\n",
    "        x0 = x1\n",
    "        icount = icount + 1\n",
    "        \n",
    "    return x1"
   ]
  },
  {
   "cell_type": "markdown",
   "metadata": {
    "slideshow": {
     "slide_type": "subslide"
    }
   },
   "source": [
    "Let's use this code to compute $\\sqrt{2}$."
   ]
  },
  {
   "cell_type": "code",
   "execution_count": 32,
   "metadata": {
    "collapsed": false
   },
   "outputs": [
    {
     "name": "stdout",
     "output_type": "stream",
     "text": [
      "1.4142135623746899\n"
     ]
    }
   ],
   "source": [
    "x = newtons_method(1, lambda x: x**2 - 2, lambda x: 2*x)\n",
    "print(x)"
   ]
  },
  {
   "cell_type": "markdown",
   "metadata": {},
   "source": [
    "By changing just two inputs we can also now compute the solution to the equation $x^3-9x+\\cos(x)=0$. "
   ]
  },
  {
   "cell_type": "code",
   "execution_count": 33,
   "metadata": {
    "collapsed": false
   },
   "outputs": [
    {
     "name": "stdout",
     "output_type": "stream",
     "text": [
      "0.11058269180669812\n"
     ]
    }
   ],
   "source": [
    "x = newtons_method(1, lambda x: x**3 - 9*x + math.cos(x), lambda x: 3*x**2 - 9 - math.sin(x))\n",
    "print(x)"
   ]
  },
  {
   "cell_type": "markdown",
   "metadata": {
    "slideshow": {
     "slide_type": "subslide"
    }
   },
   "source": [
    "## Exercise\n",
    "\n",
    "Modify the code for Newton's method above to return the number of iterations. \n",
    "\n",
    "Use this code to solve the equation $x - \\cos(x) = 0$. Print out the solution and the number of iterations.\n",
    "\n",
    "[answer](https://raw.githubusercontent.com/lukasbystricky/ISC-3313/master/lectures/chapter5/code/newtons_method_test.py)"
   ]
  },
  {
   "cell_type": "markdown",
   "metadata": {
    "slideshow": {
     "slide_type": "subslide"
    }
   },
   "source": [
    "## Exercise \n",
    "\n",
    "Complete the function `fixedPoint()` that does a fixed point iteration to solve the equation $x = f(x)$. It should return a solution x as well as the number of iterations `k`. Use it to solve the equation $x = \\cos(x)$."
   ]
  },
  {
   "cell_type": "code",
   "execution_count": null,
   "metadata": {
    "collapsed": true
   },
   "outputs": [],
   "source": [
    "def fixedPoint(x0, f, max_it = 100, tol = 1e-8):\n",
    "        \n",
    "    return (x1, k)\n",
    "\n",
    "(x, k) = fixedPoint(lambda x: math.cos(x))\n",
    "print(\"x =\",x)\n",
    "print(\"number of iterations:\", k)\n",
    "\n"
   ]
  },
  {
   "cell_type": "markdown",
   "metadata": {
    "slideshow": {
     "slide_type": "subslide"
    }
   },
   "source": [
    "[answer](https://raw.githubusercontent.com/lukasbystricky/ISC-3313/master/lectures/chapter5/code/fixed_point_test.py)"
   ]
  },
  {
   "cell_type": "markdown",
   "metadata": {
    "slideshow": {
     "slide_type": "slide"
    }
   },
   "source": [
    "## Docstrings\n",
    "\n",
    "Docstrings are a way to provide automatic documentation for a function. Without going into too much detail, after you declare a function you can enclose a series of comments inside triple quotes (\"\"\"). Whatever you type here will be printed when you call `help(function)`. "
   ]
  },
  {
   "cell_type": "markdown",
   "metadata": {
    "slideshow": {
     "slide_type": "subslide"
    }
   },
   "source": [
    "For example the a docstring for the function `newton_step` might look like:"
   ]
  },
  {
   "cell_type": "code",
   "execution_count": 29,
   "metadata": {
    "collapsed": true
   },
   "outputs": [],
   "source": [
    "def newton_step(x0, f, df):\n",
    "    \"\"\"\n",
    "    Take a single Newton step starting from x0\n",
    "    \n",
    "    Parameters\n",
    "    ----------\n",
    "    x0 : float\n",
    "        initial approximation\n",
    "    f  : function\n",
    "        f(x)\n",
    "    df : function\n",
    "        f'(x)\n",
    "        \n",
    "    Returns\n",
    "    -------\n",
    "    x1 : float\n",
    "        a better approximation using Newton's method\n",
    "    \n",
    "    \"\"\"\n",
    "    return x0 - f(x0)/df(x0)"
   ]
  },
  {
   "cell_type": "markdown",
   "metadata": {
    "slideshow": {
     "slide_type": "subslide"
    }
   },
   "source": [
    "Calling the help function then prints:"
   ]
  },
  {
   "cell_type": "code",
   "execution_count": 30,
   "metadata": {
    "collapsed": false
   },
   "outputs": [
    {
     "name": "stdout",
     "output_type": "stream",
     "text": [
      "Help on function newton_step in module __main__:\n",
      "\n",
      "newton_step(x0, f, df)\n",
      "    Take a single Newton step starting from x0\n",
      "    \n",
      "    Parameters\n",
      "    ----------\n",
      "    x0 : float\n",
      "        initial approximation\n",
      "    f  : function\n",
      "        f(x)\n",
      "    df : function\n",
      "        f'(x)\n",
      "        \n",
      "    Returns\n",
      "    -------\n",
      "    x1 : float\n",
      "        a better approximation using Newton's method\n",
      "\n"
     ]
    }
   ],
   "source": [
    "help(newton_step)"
   ]
  },
  {
   "cell_type": "markdown",
   "metadata": {
    "slideshow": {
     "slide_type": "subslide"
    }
   },
   "source": [
    "There is no required formatting for the docstring, but it should be readable and provide enough information for a user to understand and use the function. A discussion on some conventions is availiable [here](https://www.python.org/dev/peps/pep-0257/). \n",
    "\n",
    "Don't get too caught up in the exact format of your docstring, clarity is the most important part. Its always better to have some sort of docstring than none at all. Find a style you like and stick to that."
   ]
  },
  {
   "cell_type": "markdown",
   "metadata": {
    "slideshow": {
     "slide_type": "slide"
    }
   },
   "source": [
    "# Modules\n",
    "\n",
    "\n",
    "We've seen how to load in existing Python modules. It is also possible to create our own modules. This is useful if, for example, we want to write a function that will be used in multiple programs. Writing modules also helps keep our script clean and tidy."
   ]
  },
  {
   "cell_type": "markdown",
   "metadata": {
    "slideshow": {
     "slide_type": "subslide"
    }
   },
   "source": [
    "In fact, this is extremely easy. All we do is collect a set of functions and put them in a single python file, say `mymodule.py`. This file is automatically a module and can be imported in the standard way. "
   ]
  },
  {
   "cell_type": "markdown",
   "metadata": {
    "slideshow": {
     "slide_type": "subslide"
    }
   },
   "source": [
    "Let's look at an example. To calculate compound interest, we have the formula:\n",
    "$$ A = P \\left( 1 + \\frac{r}{n}\\right)^{nt},$$\n",
    "where $P$ is the present value of the account, $r$ is the rate compounded $n$ times per year and $A$ is the future value of the account after $t$ years."
   ]
  },
  {
   "cell_type": "markdown",
   "metadata": {
    "slideshow": {
     "slide_type": "subslide"
    }
   },
   "source": [
    "This gives $A$ as a function of $P$, $r$, $n$ and $t$. We can rearrange to solve for $P$ and $t$:\n",
    "$$\\begin{align*}\n",
    "       P = A\\left(1 + \\frac{r}{n}\\right)^{-nt},\\\\\n",
    "       t = \\frac{\\log (A) - \\log(P)}{n\\log \\left(1 + \\frac{r}{n}\\right)}\n",
    "\\end{align*}$$"
   ]
  },
  {
   "cell_type": "markdown",
   "metadata": {
    "slideshow": {
     "slide_type": "subslide"
    }
   },
   "source": [
    "We can now write functions to calculate these values:"
   ]
  },
  {
   "cell_type": "code",
   "execution_count": 21,
   "metadata": {
    "collapsed": true
   },
   "outputs": [],
   "source": [
    "def future_value(PV, r, n, t):\n",
    "    \"\"\"\n",
    "    Calculates the future value of an account\n",
    "    \n",
    "    Parameters\n",
    "    ----------\n",
    "    PV : float\n",
    "        present value\n",
    "    r : float\n",
    "        interest rate (decimal form)\n",
    "    n : int\n",
    "        compounds per year\n",
    "    t : int\n",
    "        number of years\n",
    "        \n",
    "    Returns\n",
    "    -------\n",
    "    FV : float\n",
    "        future value of the account after t years\n",
    "    \n",
    "    \"\"\"\n",
    "    \n",
    "    return PV*(1 + r/n)**(n*t)"
   ]
  },
  {
   "cell_type": "code",
   "execution_count": 22,
   "metadata": {
    "collapsed": true,
    "slideshow": {
     "slide_type": "subslide"
    }
   },
   "outputs": [],
   "source": [
    "def present_value(FV, r, n, t):\n",
    "    \"\"\"\n",
    "    Calculates the present value of an account\n",
    "    \n",
    "    Parameters\n",
    "    ----------\n",
    "    FV : float\n",
    "        future value of the account\n",
    "    r : float\n",
    "        interest rate (decimal form)\n",
    "    n : int\n",
    "        compounds per year\n",
    "    t : int\n",
    "        number of years\n",
    "        \n",
    "    Returns\n",
    "    -------\n",
    "    FV : float\n",
    "        future value of the account after t years\n",
    "    \n",
    "    \"\"\"\n",
    "    \n",
    "    return FV*(1 + r/n)**(-n*t)"
   ]
  },
  {
   "cell_type": "code",
   "execution_count": null,
   "metadata": {
    "collapsed": true,
    "slideshow": {
     "slide_type": "subslide"
    }
   },
   "outputs": [],
   "source": [
    "def years(PV, FV, r, n):    \n",
    "    \"\"\"\n",
    "    Calculates the number of years needed to reach a target value\n",
    "    \n",
    "    Parameters\n",
    "    ----------\n",
    "    PV : float\n",
    "        present value of the account\n",
    "    FV : float\n",
    "        future value of the account    \n",
    "    r : float\n",
    "        interest rate (decimal form)\n",
    "    n : int\n",
    "        compounds per year\n",
    "        \n",
    "    Returns\n",
    "    -------\n",
    "    t : float\n",
    "        number of years need to reach FV from PV\n",
    "    \n",
    "    \"\"\"\n",
    "    \n",
    "    from math import log\n",
    "    return (log(FV) - log(PV))/(n*log(1 + r/n))"
   ]
  },
  {
   "cell_type": "markdown",
   "metadata": {
    "slideshow": {
     "slide_type": "subslide"
    }
   },
   "source": [
    "These functions can be collected and put into a module [`finance.py`](https://raw.githubusercontent.com/lukasbystricky/ISC-3313/master/lectures/chapter5/code/finance.py).\n",
    "\n",
    "If we save this file in the same directory as our interpreter or script, we can call it like a regular module."
   ]
  },
  {
   "cell_type": "code",
   "execution_count": 28,
   "metadata": {
    "collapsed": false,
    "slideshow": {
     "slide_type": "subslide"
    }
   },
   "outputs": [
    {
     "name": "stdout",
     "output_type": "stream",
     "text": [
      "Help on function future_value in module finance:\n",
      "\n",
      "future_value(PV, r, n, t)\n",
      "    Calculates the future value of an account\n",
      "    \n",
      "    Parameters\n",
      "    ----------\n",
      "    PV : float\n",
      "        present value\n",
      "    r : float\n",
      "        interest rate (decimal form)\n",
      "    n : int\n",
      "        compounds per year\n",
      "    t : int\n",
      "        number of years\n",
      "        \n",
      "    Returns\n",
      "    -------\n",
      "    FV : float\n",
      "        future value of the account after t years\n",
      "\n",
      "FV: 270.70414908622433\n"
     ]
    }
   ],
   "source": [
    "import finance\n",
    "\n",
    "help(finance.future_value)\n",
    "\n",
    "FV = finance.future_value(100, 0.1, 12, 10)\n",
    "print(\"FV:\", FV)"
   ]
  },
  {
   "cell_type": "markdown",
   "metadata": {
    "slideshow": {
     "slide_type": "subslide"
    }
   },
   "source": [
    "## Exercise\n",
    "\n",
    "Create a module `imperialUnitConversions` that contains a set of functions to perform various unit conversions. Create the functions:\n",
    "\n",
    "* `feet_to_inches` using the conversion 1 foot = 12 inches\n",
    "* `fathoms_to_feet` using the conversion 1 fathom = 6.08 feet\n",
    "* `acre_to_sqfeet` using the conversion 1 acre = 43,560 square feet\n",
    "* `stone_to_pounds` using the conversion 1 stone = 14 pounds\n",
    "\n",
    "Include doc strings."
   ]
  },
  {
   "cell_type": "markdown",
   "metadata": {
    "slideshow": {
     "slide_type": "slide"
    }
   },
   "source": [
    "# Animations\n",
    "\n",
    "Making animations is a great way to present data. \n",
    "\n",
    "We'll look at how to generate the following animation of an orbit fractal.\n",
    "\n",
    "![fractal animation](code/orbit_fractal.gif)"
   ]
  },
  {
   "cell_type": "markdown",
   "metadata": {
    "collapsed": true,
    "slideshow": {
     "slide_type": "subslide"
    }
   },
   "source": [
    "Before we start, it's worthwhile pointing out what an animation actually is. \n",
    "\n",
    "Animations are just a sequence of still images. If we show a bunch of still images quickly, they begin to blur together and we see a moving picture. Think of a flip book."
   ]
  },
  {
   "cell_type": "markdown",
   "metadata": {
    "slideshow": {
     "slide_type": "subslide"
    }
   },
   "source": [
    "This is exactly how we will make animations. We will make a series of still images, in our case they will be plots, and then turn those images into an animation. Specifically we will need to tell Python exactly how to make each frame.\n",
    "\n",
    "The format of the animation is up to us. I typically prefer gifs because they don't require any special codecs to view and can embedded in a variety of presentations. "
   ]
  },
  {
   "cell_type": "markdown",
   "metadata": {
    "slideshow": {
     "slide_type": "subslide"
    }
   },
   "source": [
    "The first step is to generate the data. We saw earlier an example of an orbit fractal.\n",
    "$$\\begin{align*}\n",
    "    x_i = x_{i-1} -h\\sin(y_{i-1} + \\tan(3y_{i-1}))\\\\\n",
    "    y_i = y_{i-1} -h\\sin(x_{i-1} + \\tan(3x_{i-1}))\n",
    "\\end{align*}$$\n",
    "\n",
    "where we took $x_0=0.1$, $y_0=0.05$ and $h=0.1$."
   ]
  },
  {
   "cell_type": "markdown",
   "metadata": {
    "slideshow": {
     "slide_type": "subslide"
    }
   },
   "source": [
    "We saw earlier how to generate this data."
   ]
  },
  {
   "cell_type": "code",
   "execution_count": 4,
   "metadata": {
    "collapsed": false
   },
   "outputs": [],
   "source": [
    "import numpy as np\n",
    "import matplotlib.pyplot as plt\n",
    "%matplotlib inline\n",
    "\n",
    "# initialize empty list\n",
    "x = []\n",
    "y = []\n",
    "\n",
    "x.append(0.1)\n",
    "y.append(0.05)\n",
    "\n",
    "h = 0.1\n",
    "N = 10000\n",
    "\n",
    "# apply reccurance relation\n",
    "for i in range(1,N+1):\n",
    "    x.append(x[i-1] - h*np.sin(y[i-1] + np.tan(3*y[i-1])))\n",
    "    y.append(y[i-1] - h*np.sin(x[i-1] + np.tan(3*x[i-1])))"
   ]
  },
  {
   "cell_type": "code",
   "execution_count": 3,
   "metadata": {
    "collapsed": false,
    "slideshow": {
     "slide_type": "subslide"
    }
   },
   "outputs": [
    {
     "data": {
      "image/png": "[encoded data removed]",
      "text/plain": [
       "<matplotlib.figure.Figure at 0x1fca4da1f98>"
      ]
     },
     "metadata": {},
     "output_type": "display_data"
    }
   ],
   "source": [
    "plt.plot(x,y);"
   ]
  },
  {
   "cell_type": "markdown",
   "metadata": {
    "slideshow": {
     "slide_type": "-"
    }
   },
   "source": [
    "This is what the orbit fractal looks like after 10,000 steps. To generate the animation, we will plot the data at a sequence of steps, say every 10 steps. We will then put these plots together to form an animation."
   ]
  },
  {
   "cell_type": "markdown",
   "metadata": {
    "slideshow": {
     "slide_type": "subslide"
    }
   },
   "source": [
    "How do we do this? To generate a sequnce of plots we could use a for loop for example. An easier approach is to use the function `FuncAnimation` from the `matplotlib.animation` module. \n",
    "\n",
    "`FuncAnimation` takes in a figure, a function that specifies how to update the figure and a list (or array) of frame numbers."
   ]
  },
  {
   "cell_type": "markdown",
   "metadata": {
    "slideshow": {
     "slide_type": "subslide"
    }
   },
   "source": [
    "At this point, it might be easier to just look at the code."
   ]
  },
  {
   "cell_type": "code",
   "execution_count": 19,
   "metadata": {
    "collapsed": false
   },
   "outputs": [
    {
     "name": "stdout",
     "output_type": "stream",
     "text": [
      "Using matplotlib backend: Qt4Agg\n"
     ]
    }
   ],
   "source": [
    "from matplotlib.animation import FuncAnimation\n",
    "from matplotlib import rc\n",
    "\n",
    "# configure matplotlib animations to display in notebook\n",
    "rc('animation', html='html5')\n",
    "# take matplolib out of inline mode for now\n",
    "%matplotlib\n",
    "\n",
    "# initialize plot\n",
    "fig, ax = plt.subplots()\n",
    "ax.set_xlim((min(x) - 0.1, max(x) + 0.1))\n",
    "ax.set_ylim((min(y) - 0.1, max(y) + 0.1))\n",
    "\n",
    "data_line, = ax.plot(x[0],y[0])\n",
    "ax.set_title(\"t = %4d\" % 0)\n",
    "\n",
    "# define update function\n",
    "def update_frame(i):\n",
    "    data_line.set_data(x[:i], y[:i])\n",
    "    ax.set_title(\"t = %4d\" % i)\n"
   ]
  },
  {
   "cell_type": "code",
   "execution_count": 16,
   "metadata": {
    "collapsed": false,
    "slideshow": {
     "slide_type": "subslide"
    }
   },
   "outputs": [
    {
     "data": {
      "text/html": [
       "<video width=\"432.0\" height=\"286.2\" controls autoplay loop>\n",
       "  <source type=\"video/mp4\" src=\"data:video/mp4;base64,AAAAHGZ0eXBNNFYgAAACAGlzb21pc28yYXZjMQAAAAhmcmVlAAD/HW1kYXQAAAKtBgX//6ncRem9\n",
       "5tlIt5Ys2CDZI+7veDI2NCAtIGNvcmUgMTQ4IHIyNjM4IDc1OTkyMTAgLSBILjI2NC9NUEVHLTQg\n",
       "QVZDIGNvZGVjIC0gQ29weWxlZnQgMjAwMy0yMDE1IC0gaHR0cDovL3d3dy52aWRlb2xhbi5vcmcv\n",
       "eDI2NC5odG1sIC0gb3B0aW9uczogY2FiYWM9MSByZWY9MyBkZWJsb2NrPTE6MDowIGFuYWx5c2U9\n",
       "MHgzOjB4MTEzIG1lPWhleCBzdWJtZT03IHBzeT0xIHBzeV9yZD0xLjAwOjAuMDAgbWl4ZWRfcmVm\n",
       "PTEgbWVfcmFuZ2U9MTYgY2hyb21hX21lPTEgdHJlbGxpcz0xIDh4OGRjdD0xIGNxbT0wIGRlYWR6\n",
       "b25lPTIxLDExIGZhc3RfcHNraXA9MSBjaHJvbWFfcXBfb2Zmc2V0PS0yIHRocmVhZHM9OSBsb29r\n",
       "YWhlYWRfdGhyZWFkcz0xIHNsaWNlZF90aHJlYWRzPTAgbnI9MCBkZWNpbWF0ZT0xIGludGVybGFj\n",
       "ZWQ9MCBibHVyYXlfY29tcGF0PTAgY29uc3RyYWluZWRfaW50cmE9MCBiZnJhbWVzPTMgYl9weXJh\n",
       "bWlkPTIgYl9hZGFwdD0xIGJfYmlhcz0wIGRpcmVjdD0xIHdlaWdodGI9MSBvcGVuX2dvcD0wIHdl\n",
       "aWdodHA9MiBrZXlpbnQ9MjUwIGtleWludF9taW49NSBzY2VuZWN1dD00MCBpbnRyYV9yZWZyZXNo\n",
       "PTAgcmNfbG9va2FoZWFkPTQwIHJjPWNyZiBtYnRyZWU9MSBjcmY9MjMuMCBxY29tcD0wLjYwIHFw\n",
       "bWluPTAgcXBtYXg9NjkgcXBzdGVwPTQgaXBfcmF0aW89MS40MCBhcT0xOjEuMDAAgAAAClpliIQA\n",
       "FP/+98dPwKbo+WbLnUU9ITCK2PpIKL1Y9jP+E9uoTAefKYbA7j9mlOartnhfuVy9yoAbOL+nyCJE\n",
       "+9N5ParQ9Fn783sQTaJ6NX+05NYLW5Uh723HqBrwAAADAgtyYr64cvODxe1dNfiOzP0BdeieBiaO\n",
       "ZKAhdKvgF7m4AGiacch35QkTSe3Rlljtp1e2qUwFG+acEqSvcENstIz60FiKY+yO5T0esl4jusyX\n",
       "M63zOj3D7EYQDNjJKjXZNvb5mJHe0UMFwZ8g38cpwuZrt+BUn1XLQ1Qc+ow9OcJrIgS0S9Xc8Eog\n",
       "C4d2Q9XO1gYEhlDe7ZnC/uEH1QI0cNJZyPLJ4nawSLmMcMsNE1bh72eiJt65/drgmYGco3u4sJyE\n",
       "9LBbzajUizWRG5NWiL7lxvypU8AaL5IHYIC0Qd+h6HaR/tyc0aVSK/AMf3Og84ipZz7y+IvSkxht\n",
       "jgqAJ3IwfZ15h8tQWJ1zgvY2W7FxLypc6b+ER6Mz7Sgp6DxUwLp04gT0qvNvji4A0LEewetXGdUi\n",
       "gx8e9zkZbPAKBvoXBqb4z6votM/mIi0t61FB/Xy8RlZmYqFaUAnLkLAB8BQQBDuz/QmZl9IS8BvS\n",
       "Yi4w2woW0CrVyxIWgVLhs2RJVeGzyaQV60qVxlyG8WBgN00mudcgNo2RjHMj/fW/AI+W3ZjxZLWa\n",
       "bw/zAdAEVqKO34gQ3alMREc9G8KFN5sQ31RwzXD+vmNE+2CbBJy6q/ZkfPvODR1nN6iWiKwtxi40\n",
       "i2r6TlVm/Z3/96mSgOLZqTM13uI4vOBMBzdqu2LF/2oFhw7PXh+mya27zH10JEaQVup6v6m9v6Hn\n",
       "Ly/3cPYJBAUrMHgjSqyQ2ksMum0dAe3Nk4IfDf/zEcMZ/W8T5Mq0kl0NufgekiDldjzRB9mkxiVZ\n",
       "2cwXPKkUTkbChom0XChpSGupUIEc5gblGay+CnkvP+z5+s1xaBDnJZCg6hnqCHnEtM6LBw4mV+Hl\n",
       "lX/qHLfdEq2DVZnQBU4AAJ5XgTr5dMTmt/TkI7D3Chp70hMq9tYkBLGOzXgiqiEYl1DRk74etIcG\n",
       "AqrR2eWgt/H7lrXz4KVtVXkp40PdANGwB8x7hP4r5eyEYtH0xCJx6vTvhgVu0vCqOYtsSUT3/mex\n",
       "WH0f9BvivNtegHeg46k8s0EdmRQBM3obLSUxkulmSGDQFK5qGZPmiGYRN8ZZll0RrQizPeQ9qa+b\n",
       "B7KkrN+ooj/ZudU4loI+T4PkdKCOPZxT9/ZLrwAICLB3oCznY5IdGFPpcWAcKzn0301LQNR5KTTI\n",
       "FkQYHe8kXi1vf1tFQP/S4mxWLLudNziMcgPyQKqLdbcYzGOAW+GYoQP0TEr4NLpbB6P8BAZePaZ0\n",
       "R67poxQyMn3H7cT5kzcaSgxDsVU6pUwUXDtOFqwvOZY6JN0tMHjiL26iR1bzUInYzBeBltzmH1lH\n",
       "g0gx4AFGdfuoaCcD15kcJJswD8jfBoUctbcHTIWUs8Jtiny+rcecCU29/lwhl76V93/odhWbRF35\n",
       "N4iyvC1bTwAqRMBYfPPgSizo8t211NSofOTG2jXHl2ZgXxmyl0mRDsu4CQqhl/QBNkmZUlT4q7G6\n",
       "BuzuS3aghW6DS+cvSHCoUTTtBx8ydh3pNVfZXO0BgG/YAUgOpgUz6zNg1b/ZqVWf7egGnH+513fU\n",
       "d9UmruTwtOmuZf+F4xQUG9BQUuhsbN0Erplhc2TALbQL5QnONIvx9eEIWVjeKGI8JcgkrwS09Lcq\n",
       "yAZBKDwrezxc0I41TJGrx1v58ayZ3+z21vIvTsDJJRz49kEyFefQsE9W6jC5zH1pzgaab9Z6bsD2\n",
       "ieEefNZhlurn/Y+fQiggRcmUtT1Imf8ICN+sj0enzF2lZVmA1Q8kcsay6VzgO3tF/lWNOJDommC8\n",
       "euz/4fels0pzSI3RI54rHkkdE3TNTAxSSvJ4WXUXWcWN7HAerIPgGgKtXy241UaUfGASoQ0GVHon\n",
       "qq1LhiGDs8umFG8cSFc/0Ve4Gf0jaI90ohKdoxpLn6ZYSknU2yn43En+mYlQOrR7r4VtzCmrLtld\n",
       "zWDFRUSr28wG4M32T4Zpa5TeAzei1HG6GthljB9Is0nBSZ6VUPUo751c6XyAAJuiAHcl/d6LRLUl\n",
       "k4wJ3/DTmKfH44At5FBeQEqNhLmH3YOoxAKrdIdzPfQkH9jl/5vrinqA4ROr8rmrKiUOVULnUxLT\n",
       "8B6HYCf/CICF6DbylIyM+cTuJvoVqqXBVhF5A0UEAW6+XxfdJK6dihVvf9eck4M+JnInbANOIfMz\n",
       "QFqt41dlryZhSgugyp8fAFvLzXnUiYnMcn0k5Mt/fw/qCsS++LJXVNIh7ArwMmI4ginvG787jhvL\n",
       "pk+TaJUFC9VkLCKy6mxM4ARiJHSMk6/L15Gf2FVUiGuMQlufDis0EcRCvoR7cAxuL/IcDw8YarR6\n",
       "3s7f8O1BhC6UZpJYXq3XxG3pv2iWDeYEJj7Cvtl272KfbMAvobsE+DAg3TndhVLDwKEB+3fTH/vu\n",
       "hhwuxCl/sfY8wV8LfOTivo2cVhxLjOF/UZTGkOGA6+8goOhxqylW0vyUMqcu0B59Hdy/u7//lA7S\n",
       "GtqXlMg/7PS+EqGsrIJ/IOcxTpuHESFe6+3Ncsa3o6VyUsCSzeLdBBV5ccs3gCSn+DXe2HOYbUm7\n",
       "sXHl1kz4WCSEYIR46a9z7DNC3BXJjNzuPn8VKP9do68RKHwNyXMDFm/UEtUucDfSyIhQkE30TWWv\n",
       "ixL+gYR4RlcWheye5IGEQXYLIBIEBpl5XKnInl3STIU3FifOZKChFHgB3e9FjfMb//xv/Si1m5xU\n",
       "eZ1YLU/l1vefXZVXo36QwgGGpXIdWJvw6SRN4ZbX3je/i9r42df2MoTvOEHR7NdeZCG2ng4AABAn\n",
       "NbHsxGYHe99QnWC5ZiB2vIu//xF3Wzb+ZVXV/NHS/yXy68gdyCj7/OJW5b/jSCsMA6ro+vGxg2hj\n",
       "AjKjm1WDmdfXy+Lff2pTpXNgYzkat0YFm9tRSD5AtOCgQb5Z7zHW5vfky93TvxWJvZliFOGv8p1W\n",
       "j4qKdSDZb/gV+SobMoxukZssREcNxS8zzypMwHPTcmUKB/xvw+x12t1YfdW93smJAAd7LWEYWW4U\n",
       "smoU9K2JduabpdwECC8BhAvzs6bn9B9scUVKR5TjJsxdN9iqzv5qbXgsv0LsnsQNdGzL2yF1k1Z5\n",
       "l06WCVawqhGZ0opR/QRuguhgeH7xE+LOaVC70IzXpQtCDmSYTyea0LEzL7EML3pCdWh20aUr+s7W\n",
       "9w2o3DNXNYbV2fkqELJxkpkmL9awj5wCSjtXMGAahLHsIff35gJP9TQT1zXIrWYtTWi9J1GaP/MC\n",
       "pX3BFu1iGMpBUrRLREsdyEQZF05GgH7hi1Fsy0F3J09EUX+WMfeh+XjJaAP5byFy1pCUuAVRNNCi\n",
       "rL6rVgDnOBaj/tWVxHw3Pfrp165hTcl6od+yoNRYU2BUVWuZH54rJEurSMwJCEGDzplHA1y3Xj8H\n",
       "vHhxYBMwn/fBx6TT4eSURaTAAALSTWjhAAAFAEGaJGxBT/7WkxJATSryQ48ygARK5fOFp2Yc8K0c\n",
       "9l8Iu7qlfAgGdUy/vfUcEY8/FudQ0xofFgIwYEbZkr69/5SU/MgrEi0uy8AgrKZWcaMzAWDn8Pui\n",
       "CCTsvYTcAAcexfKdgyZqZcjd3QE5yKHBHbrxSeHM7N7w226nyPQyLCpidomFaPUyHcb/CEp62KKC\n",
       "r7mRJKd4sl2zhI4zmLVW6JVYcfPdr4oHu2ubVcjBtOmZnxDFsatwV+De765tYYAaVuKT1Gyvcnil\n",
       "vl+qzzcxQaLoawsjr2U2Xz/z9r5ymac0nTlgH9nRgIEoCInfXX6LseWKb/NhDO0+vLSCA3EXS9qZ\n",
       "A540JLuM3f9X9YPprikVrzBcjsmfO7v2y11NhOGrS4f12ShlzGh+ceccAJpYD17E3qSClx7JPdO3\n",
       "aap+uFW71Q/jLYT1HzhG7Buq7lIdFOp4o/wcqsdfOxpHcsif/dF2oU5xfAOQOQQRe+34gmXAwXu6\n",
       "TnqXa5vXtgkM7hILGL8231Zni4o74KUC2LLLMOSTTmMIAM7d24j7CNTFvET5CKQ4jfCv/wCDJ3Br\n",
       "wLfs5ZUvaKvXMwFBR7U+1lGjAObxp9mIP+qkZ3lYd14YFraB5f7eFAbnG7NrnSyzyNBpTX/glpCo\n",
       "sy/O7EDz9MUfI6bmBrz+eBQxV6IlKfxVlzp8IGJA1ioSIb/IjrOS/fh4rOhxsNpwu+2LGGlNX4Vo\n",
       "DxWw7+7bxblHVql3nQRrCB8oyYR5tgiUEpv2+OOlX9h21IPBJcrKM1Ff8vwG+An/eOjrpm+qKDoQ\n",
       "bHX7jd0lD5FVyR+PrY+ZHRaEJgJUZRJwNunz/wovSA6nteta8ABrEUlia52SpzsD3cTYdixAn7sC\n",
       "214ogjYpGNLegsi0y2lEdDsNhO+ZV+u7lf7Y8qrbmXooyCZ+yljFAKiXkpm4VmZxrjGWX2UolvkP\n",
       "QMVNXyipOuS4lxrk/FjYNHDzV7d/QpVuRs8wQ9yoOus46HDw4W5tfYY5wBaJIncvmCsBfYzJcbWh\n",
       "JA5VR7p6dDdR1UUG6jiqL9D9SLNOcyShcIIGb4ugFJebnbBA20CWBnHhYIHacVjBKwYhK8LBKTdj\n",
       "LuW5LRGv1gMh4L067OUG93GoTeSCTfmVWdw7rg1bVVeJIGs3C1eID44gp2W/CaQTowwqgypaaAqb\n",
       "qBMEkfF4AtnAfw/6beC12YCdZU/WOHRgjI0SwSO+DNwf44GLhLxaGHnpyB0KthcjotX7f9oF5GRm\n",
       "l4Tv5DViT+mvKWm2b/hz0exDMM45Qnys7qAL0EYLc1FRtugbaBc3fGxKCaTNclQtP0W11NqCSXaz\n",
       "zEl1uQLNPykyxab8NsH4NA8YS+rvn3WXrx51fuo3+oM5Udu9+wHGCgGuJpjmQLszCAFAP2OYOtE+\n",
       "ncPglyfLMU8lcI0WhMK20mP2O/xUGzdHnUbitFB2mAgwmL7tmJaiBVCDAJgaQqhpL7AK74gAVcx6\n",
       "Lj5H3BhSlFGm4ebTfGKqMNsq9WAcTAzHfC9bfQR3gbS6lC1oGJuhKATOjTxWFdZUcSekDpdPY1yJ\n",
       "xiy6sEvLPWdPyC53V1wyRNecNj/DxLXldtA5A97PJqwmr/W34qFQ/k3DzsgGJVQJdcvziAzbfUSc\n",
       "bKrCL/xkSNel6AB2xuwe23UOXvgb/d+cnShQpZsDbJ2fJ8lnomnfdeqFbp138p8HCJU9nbPoAAAA\n",
       "gUGeQniCHwWlanpYcCeTADdEYWHhmFgmassNb68GQEM+2GPFAvZdCC8vTmVQiwvLDpzQdcxK3yiv\n",
       "StRDJsCAHTs54Jhux6yS6n2uculRNil/ghvJz5boMzsf6ZIX+yB3awKqKMd4XaOzLpELYDHZx7Hw\n",
       "ZWtxkY3+BKF1Ykd3hSkG9QAAAIEBnmF0Q/8I+ZHv6La77ILoAWwiJXibeOL8nwFKkQXQ1Lhb6RQt\n",
       "JEnwXpvAXSaJ/9F41wXk7nk3M0Dd1xBupi3rBAjHEqrqI6ZKIAEIHT7orBcyuBUzrcEN9RHA4oMV\n",
       "olF7R+v6dIXXHbvgotup+al5bTtWB0zhnK6ijaKgxDRoAnYAAACDAZ5jakP/Bkkdsr0AJZQ8akdn\n",
       "xTdJYEykSFrAh3W23VPyrjtT+bBv1LNrtyVxsfJbufOJ67S0IlCuECJ7JST4djSWXq8DKu55puxq\n",
       "Gq5DJxcpev4Y1meKa1pksrRLVgPYRSxq1WlQcNOY/6UIQj4hT9VWetsqUY3HT9UUNhr2cluyg3sA\n",
       "AAOAQZpoSahBaJlMCCn//taOaOnF/oIAvzl84YHOTAQAvm83nRjwN8YmYKpYjTTQA5lvkPw5+tKO\n",
       "cs+0Al2+ee9u0LU0Sem2bnM7akvLqQU1JMWd6DlnSjcywsl9QEbhoOPX9kf1/djbaqcCEPpWfmFH\n",
       "xca/ElD+TGV9VpgkviEpxbaHaU92mKr5mMXoIzSG262iVRBgSZ5LQkmUELPn4AgHPhM6D+H73N68\n",
       "aQG1buP+cUZKSJji2gGjLBvhVfXXZMpbeve47gH94ss60qfLK21CrQ9lgJS6XKEdpbjiehi9dUAJ\n",
       "4t/0lD7nz5FtwHd5yLPgc27oR/5HkmmT8UMnaWDNCuA0j54ZnrPzSCA9ukWSuL5DUsRaQn/Xtw9l\n",
       "6qdPTZpRoJcGG6CoKoTgkpX3bHv1hVB+rTODLbP4r89Mq4W3Hfs4r427SgMHTcaAKcOBw6xkZpkW\n",
       "qAoSZOFyclhCiWahp/sgt1AR2DP7gtA1Hgu29HuKV5+vM+DVnLu3CBpZaCCi15bmp3bKZQ7CZEVG\n",
       "XNWgQk4nBH3uIJup5YWKSerym76ARawN6C8jfPt1GOGeAihDpJNtmK2w3wJPemg+686RkaeyLzJi\n",
       "J1LzoJxjfB3UCq6TKC0zxz3REY3lQqsCtuWspJEzvLWVG+CM+H9MxwhBriNwQElIuDJIrBejBaI6\n",
       "tJjOf+xhmJhQNJep3Gj4gWJJv+hRHEzmL/P2TUctkpooyZPLvdq2Ii5LKha3/EkZwzbY88mbs4rb\n",
       "YcVvYjY2SNl0tZ2vUq5dLr65xDaJhSv+0qsxqwgWe/O7fXbVzIp9Jyy5w00gnsNq+ayUbqOeTI8r\n",
       "rw8GeoWqNrJ4d8rEQd8uSx7Ykb9HEKpm3devTVrJmEe4H3WwjjG0Dyk+L9i1s83H968T8vRmLvnY\n",
       "pemocIrM16i+RsSxg75Z8XaoxK059X14zfmb0wYi4ndzJyVHV36lVOyXhkvY9kDJfbprfrpjn5RX\n",
       "abmdDz/ZitThkN5Zrk7l1dxtt8ddDMq1St2z5MKhRV8Z9wGtDXjh1J0Xg1vZKn+YFPEtQap7xnqZ\n",
       "NHQiZ9DkaX7DdqAjbY/eXo90JolwcGW/Qxa0g3P74bzSvn1lglmwsIzOzs0absU+b6cMRfvWwF7f\n",
       "j2CS8+V67J251aFu2GSVCZ281mXI+zS0GYlEI2yUZj3Mh3keD8AhkqeMd0EAAAB1QZ6GRREsEP8D\n",
       "yvYWGUNwogBBjUUPHu8lwJ1/6v7v14bu8sI5zSgzh67h7ZyQUGF+A1nBjnpu4kGtu0XBvGUNMbeo\n",
       "8vX0vx45cZy8Zloio11CihS2H6F92mQgnDbhCwdXheWyrS084Qnd7iHAec7gEiXsKQnZAAAAfwGe\n",
       "pXRD/wZKrtlegBLKHjUjs+KbpLBuGM4WsQndbcoLNJjeSuiow1iWbXelAaY/GspUmpd2lAmkwY0n\n",
       "exEpPgHloLSvNrGxjfWEAfSDNktrVX9fUCw3ltNC21SmFKfTsKyl0FY6jkOpy39naudD6ea+Wgse\n",
       "JqJ83km6a3aoI2EAAAByAZ6nakP/Bkkdsr0AJZQ8akdnxTdJYNwxnC1jJcV6eSY3lFdUhBP+8gnZ\n",
       "TpgTtc27NJPUvcSLYSg3aGQsQhCOQA3cNzKQTpp0hFu/HQTulgah/hxcjragx8Prdm9OC1nfvHn7\n",
       "5QBhCMwFFCv1OOat4wakAAAEEEGarEmoQWyZTAgp//7Wjmjje4v3QAjusDXsIqJMxVTeN9w0QCAH\n",
       "NQo2VFsex0AImyZABZg7Z7D4q1KJuAwm+kbCWZKxJA/dcOz5QDv4j/IyeUbHtvY5lURusFat3z3o\n",
       "ynO5p/T9Cy9CQ5Ks/XPiH1icO+IQ3llo2VPSiUPCaodfBjD/qVn0T3hnTRImJv855/bXl6GwtbDk\n",
       "u5hE2GinAJGm8/fQq67wob9RbP2QPRGonI7roKPFayfA+v6KICsr05YtY1Gilk0qWEL0gU2LfEt4\n",
       "WCvnHXx6ZWxsNLNZA5xzz+BL/FOO6qJ9tcjHDHooibj651KaJwlfszYNk9me67NS4ECq+XjkVwgr\n",
       "Y0JdCFE/5343LPB1gKMXQszyX3QGAxZS6/D+xrXhZJPPYALupiNFwpqgoNA3eskLlYAPvK1kToIh\n",
       "MH0mw42XJzg2UvIer+D+aynMMqJ2wCUw1VGb3A6X79WVHjB4ge+24mb0mvBNYdBa2tQya54uMlEC\n",
       "HDV7Ads76/hPfXJBbK5QjEXE0Z18jhHUD2Em8Rg5kMNHbeAmewbb027FzbndnaoKoP/5XUTR47CQ\n",
       "t2TJxVNNm+84HKZfAbsylqc5aohxxF/0r6hi/qzrD7lp8crF/YVnEvM6AspgZiuU1bBIgCpZwu3A\n",
       "Cj28SQbEictyaNvBpoQdNKSLUMWY4tth2e/aw+JscLAh9fY8TBAK/uwJ4oo+fRf82rRxk4xUR3bK\n",
       "oc0H6OW5WFG49p2Qa7llnQfolR0pvMKK1pJM6WzrFwq5pGkbAYB/xHgg7NCMMPC+9LT1JLX8be+z\n",
       "zT6wNGX9BxwFOozKutt1bkxkn8K6gAUScJ96W9JXsmiOUlYx2jvloNI8rwHfxN5EPTi1rRw5YgNf\n",
       "+rOjlXLSK98MN53R++5y/XjQKAlm1IX8SLnH1NuCJHI2liqKZunYL3EtkHUBWVexzfLBctlQdgBk\n",
       "u49iXLLftlMwnADN1XeZD7Rc/HgOX9e5PLcF3u9Bkt1tq4NlSH+wD92tro+7uN1R4BdYnMCW+yr9\n",
       "FJht7W612fCrCHC9gIdn2hw4K3/LFdPptK0KCDoNeF6noQr/rGFxw0kofCNwkOWld8wx31U5OwNf\n",
       "B2RCC3WVNHgTYw3OSxDd1TaoFpQrbJSiLvMAdAqr2jFllfDIwYaXxONH/62G4nQfkSVSUK0P2gPI\n",
       "3840sC/sMpAimNAcDdwZf5KnCxsju6c3UfLPeW18od1XFhUeVpDJNvu9rrcZok4BTMzVPMr55Lib\n",
       "Rq+RN8sNp/zArM5KhnGBEKfWxwAoK3KMgue5MZIsk+O4EYfnBuohkhEwFeb/7pngyCGdgCqSvdgH\n",
       "eJTqPzK4fCorP1BYgpK9IwNwn4nIUS+APOCVCL5GCM+AAAAAekGeykUVLBD/BA/+AAC6UfJUqbra\n",
       "dt/v3NOBXUpEfnXb9ZlSalKORZ4RqmrwFmQ2XflcKWE/g/T6VjinxqzvLcRbmtksMSkJEHqsPSJK\n",
       "42eHgzCtS9OxFE8GOVmE583EWz6anxzwHCsTAnLk4UlS57UPrDo2bJiUfFpBAAAAeAGe6XRD/wZK\n",
       "rtlegBLKHjUjs+KbpLBuGM4WsQndbcoLNJjdpEvcEFBTdZmQ0IJpzPOGUT4EtbMqdXfAvQhiAba/\n",
       "S58P4gq3nY3F7mhm1xL043V9Nc08f7/yYQlm8F4g9AfYWoHXBma4ITtfdc+RuHNn/+AraC4OmAAA\n",
       "AIcBnutqQ/8GSR2yvQAllDxqR2fFN0lg3DGcLWMkOD3kmN2k4VSEJkrPZmQ0IJpzPOGUP7I1Q4KF\n",
       "cIET2IzlfP3pc+H8QWFufLrKQ9LoRb+Hyi5kIHGJIfsuOpuZWq+PAOtxKA0nYUGkaIuYeny40xu0\n",
       "4I6SyUmIUZ2oR9bMz1rspi46v24AOWAAAAPmQZrwSahBbJlMCCn//taOf2jt+sAFaYts3WJThGS7\n",
       "58AAoGmwI/Y6BdyngNYqCuvCLYasW875XuNRzD2XJP9kcEvBmbpM3PW1Caji6AwFFVlcs2/6iSZQ\n",
       "Doxv0vd+lE0cTiCTICfUCOLbThRDaXQlJFSES88HAEgEaElzcMwicfRXGbsX921V4ZiRE5P+mH9Q\n",
       "F/uRSuynG8qU+nv1OMmwA3kq4AyUF+LxDOzkvj3z74vLqHnXxGgavL+BdP3Fo8QagqP7GO9ta2Bq\n",
       "n9yywgvWXZFSTp5exyFRiBltylnLP6LOaJdu8G2Osz9oD9W4R6vRan2tS2WufG9fSXJUysCn2MvF\n",
       "+PHZLbXKViX4QcQuROg9ooGgihy3MBL5YVYnnlEPv/kE/i+/SCTXjfIJhz1nJlK2zy0rioLJ2vMh\n",
       "8jr62V2Xpb4zjj8KrxeeBb60MsDhMleZ0rswmBKfyUasMQ1DDcQhmbyupG1hK0n85JnpQi9TPWIX\n",
       "ZlBXD6hrgf+o5f3w7nknk+GifZ8Rma/uGSvvWTJ8kOxX/GLlca/oxpUrhYHK00i1ACyJdRhDBmBE\n",
       "UfeQeJE7kMZxIVxwJWkwklGItGUQlrD1pc2WtxR0Ut9uL1l3ZvzOMDJjT1DDXgWEH/m71EHISYIs\n",
       "047rG0+B0pR/W9FeeZQBFxFqOM6/du3h5YM1YUm75CniEad4I+9JOT/gBQ+VoZluipYd4J4+F3kn\n",
       "SmrgO52Ku4afxUzB6K7mv0F7aCI8J1welc2zSlQZw7cKFINS1pYdDFBj0NhadbITamppnymWZLr2\n",
       "kHIHcaeBg3ocsIstJ3CTCzAEl3FhQtX/DTcGiJqpMzbYxIafDoIYaj+tqDvfBFHYphqQW77t3Xbx\n",
       "Hz+LAdH+m8sivfb/XDCegbOqBZ42Bu8dl95XyypUHR/p0Ff7DRGszDCMs6+409zpJWOfZz/fid3p\n",
       "qCeSGsuIyv7QqicEXwXP4klasDOvtgHa2d7krqphdfwfyaZJ89su/alQHZp91fo57BjqOwWFQbQb\n",
       "V348AH2L04kkPSCd0CGeem8TAaQZRbT2ee87md6vSH4eum59MCO9l4CflHpv2sP1N9hrrGX05Qkx\n",
       "U6fnRn3xNP8zrm3r0Q/kYfj72Tuxf/5cD0TmtsHY9t4j/XcCKSGDf4+dQesgy4RCNmzieQ/XVEUq\n",
       "B7dXdipe4OEsLjOJ/8oES3rU5faGseLrABhXORTXdMQQBhpEVv4ly7WBvY1Rrd5SSZZxcQGoPsHM\n",
       "Ssa7Sx197pP2k9V9VnigAcOt23aK7PaTNnUDqV/s5h+kMMNgVb+ea/9aI5qPMTCaeI1cTGDKF3EA\n",
       "AABxQZ8ORRUsEP8Dy9DoewACWUde+QRnmcxBe3sMd4Ckc1dK+7gkWnyYeKgGMppza1k8tJrblRl4\n",
       "i2/POnZqUn19KFhAyh3u3sFapt7hotiFdma5N5XNo7KUUu8PUqFta+pEd4ZubSIx3RlxP+aVhbAA\n",
       "VMEAAABnAZ8tdEP/BlL4qE4ALdQ8akdnxTdJYNwxnC1jJAjPvVbdpExPf4EHbM8krjY+S3c+cT42\n",
       "lBenYhxAvQhdQ8MaSy9XgZVvN6ehcHh5rpbRPnCK2SsiDmFV0fbNpvBV7CfqJwftCkOBIwAAAIsB\n",
       "ny9qQ/8GUp4hCcAFuoeNSOz4puksG4Yzhaw4TQM9en5VpcwxYCww5eG2+ZDQgmnM8MaVHx40ySp1\n",
       "w4C9CSDu9r9Lnw/iCowCYX+uTKQPubLq2EFQ5Fm0+MXi5xwiMr5AgjUKwp/QILcJgFilchRIPDMu\n",
       "VoeH9A8kx08F6ArTrbFUZyfvx8jZBDUgAAAD2kGbNEmoQWyZTAgp//7WkxuQZSGwC5aAQly9RePU\n",
       "P/WIVhUqjXybSBuHjJoLsxuuJmQ7eXMqdGoJEsbH4K1VWWvf/7H+F/onHzBSUI//AMTakztm+a1o\n",
       "CMzrN9AYBrHcqt6MCdd3YPhX4tcwzPI5TXD3MKwDSOguasC/ZuOPjzNAM9yvPzJgaGwxWpu7trRN\n",
       "h2LmjEfMeDCSngFAl5xOllvbeG3WRlGQLvi0HMb4Vrganijnx4xBDzH0t74MRxSO88tQnuuvia8o\n",
       "rz/NYqe81Jjpdxu9K7Fv0Oh9awElCgYY/u9QbgFIQ3IdupHrAailT7AuJarzkNp66c+V+YSmxqRY\n",
       "jBs7O+69amrmRm3IotIuEIUiyB8lqtlN7Q12YORvm/uNyoB04D+VJlXU80DonKxyFKE8RSLcn8iC\n",
       "9pIOysQeRY3MoPT2lVhvS1WxK9qoKz21Eme0HEC/5s+YuBvsStbp2fJmHI4pDwYI62s2FAyDY8NI\n",
       "tEtwMkiA/KG5JB1fwoUK1yEPgPyAz+q8JB5nkpo9bUqHQamKMyubbRpgvyAd5A2y4tPSFnmvy9YX\n",
       "opoGKUNequGG8MBXSGSPQ4PAuBlP/M8h3vh35obopAnl1seq1kn3oi5W1h03Pm+5lfxmKrD5xjSu\n",
       "0Gv/HJHSuInlg2Fss0rUd7CiFIbl1vgFi9gY1zmNSr85nYpHQGas/+rlMVh6wNWWOY1q2Sam0XiG\n",
       "tnSxMjanK84t6oApgWeBnNsYxkuY3uuP+v4BiN5JzgxxCEhkWEQZ+AJUOiMIJK98AJ9G8YrdwGNF\n",
       "HDnwfpO9NKes6pRmxT2IlVbkQKBcWVR+vNJo2rL/F9zkXKCKy0vdKAO5I9pmljo8BchIdPGSybwO\n",
       "s2k3HV3O7kUDFdYNnLaU02Iq3xZt/9We6AscAxHPnwtGHCVVK3JSH2qHODY3guGzSrqMkUkYf5L6\n",
       "ymVw8wiVUhYj0kzdCrCDJUdnh/yAT7fkqPYPEx1fTyge84L66d+OMxzgFuIYeRvH231hIiIWYGWU\n",
       "ViKkDF3rsMRgd6xtI0ysW34qw/VwZPuTITjEfyct/fFumEOBj7pW6FtrW3J8FUy266EPIPwrp0oF\n",
       "jRTfH+UO4wk97lnankfCKCUOOoa2+oCr3gPyTnsBNlEzq7eS7QRya6wxy3WjqeBU/u6aL4ZZpRFp\n",
       "WfV1A6NAxEF6l2Dm3fANzOVQTPD4WgehsaiiISluJ5ew4XU3jAS3LBAXR4Iebwy1qKkmgbXYU2oO\n",
       "hQ5rfd+wy2DKeAzYlOeqwe5hrpqcVIq/m44pIoM+JRNBscyfKQ9W3/BYyhBwAAAAdUGfUkUVLBD/\n",
       "BaiNNaqtS1p+TFW/hpAA1QS2LnJUg7gDH7M1BBgAX2D2qv56XX8goDse+qQY2KAeZLGz1+O/Dp/D\n",
       "5bhmPnp7042++wB/p5r9t1l+63+VfBCEVLOmzeSFana67TVHUPvrGAFY34hTE1DbAACTgQAAAHcB\n",
       "n3F0Q/8GSR2yvQAllDxqR2fFN0lg3DGcLWMkirYN5Jjd3RPpJew2bWW1uWYySWTZw1GGuM9cG2Cl\n",
       "jUiINGDTwHfProGrrbL6EPPMyASnEYmOjtbQeeiWXZpfk054c1x6B4kmOD4NvcoLHFnbUhoWO/R1\n",
       "6pMDegAAAHUBn3NqQ/8I+Zr2cfD8QASyh41I7Pim6SwbhjOFrCUCPGe+KjiC7yrS5hh9+eDtwaL1\n",
       "FVQpZNvRendfoJxkDLIYWXvhrUow6lFtipX0wQGGkY3YvUJekfwNcfIO9fO1ZEQxBjW8hS2DY9DS\n",
       "st7hb/q9ASWADMgAAAOqQZt4SahBbJlMCCn//taObBOTX/xQA4zl84MV9SFgl9QB2/XGz27AbpzL\n",
       "Py1Ww5l+GXKzgJThFecnAvm4mbqjn2oI3XzNEyAojuURnOUrE3/+B88p02eVydKfYH+qzMJTpFjY\n",
       "paHEFbrSor8yYgOEFrWu5ZU1t+nXbwDLc8ps48nL9zHes1+LzIhQTVZQGFRAt6I9Xdw5+DS/6/sM\n",
       "B0KIMmi2Ru4aJpd3mm6RT0imqgHNQMwn46FNTuaN91GNZYuQD9XHsmOlmKhpm0ZjOlAKaNFzsDgS\n",
       "Vi1K5Ec+U/5Kz38CnK7A5qbS50zv7z7G34ZFXrXrq+qDKc9oe8uHUFoPUTXJTwP7ZS5QMtApy7R2\n",
       "mNXSDyotEs6Jc07ZflJs2EfGbBo3k/yBgbEoMZFZfkJ7gNUUgY7DRV2V/p5CFR1QxAllUlhx3jeH\n",
       "XAoKHHJaweSs7q/cZeFiJeNK8Oo407/jaeHLatTAuag2dqWbdfZCGlpjc8Z3rYJAWcXyih52XOsk\n",
       "fY7N+HyWoRjDadD3bkcNePHNkxcfR9fEMR8np1M602C2KxNqh50sKDQJjpvQlo21U/G7Lo/Fw38s\n",
       "mGEcUW6+q0omZQXEROz5ZeO0qqHG7ISqUr3P5/1swafd13SCiP/UyuWIoRq49P1znpg/5pIRoImT\n",
       "w2TLm6/H5QK2uTg6AKVAjv8jA5FBqOh7dHyF59f7xuqGGNo9FRywpGGebfts7rpG/PbvJs3Z8dqx\n",
       "WzELw3JKt8DWzRkdVRBiqE+cLIHcoqdSshz97NVzPDZZa7ltyxV6OcHuRPNvf/+OaRRqEeESuJJU\n",
       "NyujVf2q8EsjerpKCPeS2EPBy68WyKG/yyca7ZEfjBzrwAz6avRiBQxOTIHaN5JseZH9ajrJ6kfM\n",
       "OuJKaxwtDDnSQePcw3YHb8IzsoZNNgRL2vdnSk7Vrp1gIOhq2Ml4JxNvuVn0EK37G2e2gQW1Hrbq\n",
       "/P21HUrx8unJB8X/rMPVJSi1iepoWBjt4KYvgO+KKNq2Wxx737u6TMXnpPHaSUaH2SClvGRcbZ2R\n",
       "VPwAz2t9BporGCCj+s1zn3VmNzLSdZhMOUYp2AE37bo3WdREyp5v0CvlIoqJpRuHRjf2gFpgRCTL\n",
       "/H/Fy12/A+VZ14EO+C/7/7nAbroZWcW4S3KIubO76XbXhvAmoE6xa4UxvMG/7kNGX9mo3+7GzVp5\n",
       "XvnS2D9ufBaa3VQKPUrf/KdTGEcMRt7GBc9cRYG4zRhIeNPW8nCZQqcAAADJQZ+WRRUsEP8Dlx1f\n",
       "PwAAcZzfXqxtNo3l1RUgZX8hO6zUzgnCnHGxeuJJKraCug+eNlAZPulLRc2aZ/Ww/5qpTtIIv6lx\n",
       "jg2isBDZKuf/36F+7huWw2eXYLrHbdlCauHe1fjIWpNdiPV+eEvUzGQHYNf1/1+q+EO8bkjeMdl/\n",
       "OUuk4E8M2LUgCs3JXn8LR6h+2k1LMpOTva5d301Hi4vNoxkLDVp3ZUSTwIj2HeYrcB+h+ZcG4hNk\n",
       "w9CJ2OLTCgJZScu2iMQgAIeAAAAAbAGftXRD/wZS4whOAC3URK8TcKGEe09wWfPSScZUvdi6iRIY\n",
       "J7Tfiq+PY3FAbP7jr1sae85kOLugn5+Lo1GWzSUxAAu0sJu7S4bIBaL9oCqVw/+VTvN8cySyNp3z\n",
       "dVOfQamlIIenuEndIDAGBQAAAHUBn7dqQ/8GSQ/CvQAllESvE3ChhHtPcFnz0knGVL3YuKJzj/Ke\n",
       "5SVZY96M8JYomYAy9qJIdgpEDAcgLKs3Mr/biqTdODUAJwMJDkWQk+toNPx7ZQuRRVrsaSVs7o9Y\n",
       "cxbzH/Di6XVc0+egknzv0eeeiAa5gUkAAANlQZu8SahBbJlMCCn//taObBbMjrz9YAK4XMlLXyI6\n",
       "7oClpwoA16GnTuYSBbq8Pbp8PAjS3QNRqTo6i07HQqdf1WZm5ZaaUOBmhXXZu0mgj7td4wrp0qIh\n",
       "D4easxIHefsE7YYzNExrz6MGmZBhRzgQjS/IfdqeQM1UWLRFlOb1JsakO/dzG4esK9ybo3H46MfH\n",
       "MyJJN43ZNxckl1LdZzvQ9o2yEo3o4iZy1rLjK10mxTbbBDC7F84oko3NOzsD9VSF2RriVqTrwHEM\n",
       "6DXGsgwjDBn9LTcKZwltezWJUtw5kvehUlLykvLAcR/G3yy9cr0CeXlNTRhAxfsnZdYkUFwBz16x\n",
       "ufDPn8MC5pnXY2FFwJq+/uctBa3jmNnr8OhpKOWS3DpvZ2w3L6K3l/T1CkxZw5CLQeRQd5D6q+wn\n",
       "kvjlbF8yg5TCXMV91FRGKh+/eME4tu4nA4TYxZ+lwIjbiCkNYFIQuy/AohQgpF8GP6FlECCJvlnS\n",
       "+ejGTK1YGtF8W2Hr5LUR8xrzJafb38DpjnmMAhHrnm7cUxeC/QDcqnqKpSiVjarFcKwieOYWEKj4\n",
       "XJ6/bbK9BR/5VbDl4rMGY/5RC7XzZ/nJgBSfhWiDND8Y+B32SvbsKpsRCZ9MAACR0pOHbtCWGvzm\n",
       "BlC73Li68/j7BgxQJksZGDqUwldtN3Q54aF4xlqnILMCy7ajMu6s3ygwa9ukhh2g5mtuMZcnlXl4\n",
       "E1IHvppNRgn8KXnHHhrrvZaDhNEVGxnez5hobFaRLgN31cRSCynMuBlc8dGRZStx+woijspgitBZ\n",
       "536XmpRMsgo76SlNA536YEuV877u0adWs8tmi3uM02vacMNANyZ7rcMBj64ORnqffovNNusoaqQU\n",
       "ds4yG9+YCXW5VfdAzP/pR0sbYgY6ULSRPjXSVzNmNiE9oZoSJvOqCLDyHLxjSbDVzi+630FJ0BCb\n",
       "AcbkmL7QIzPJ+Tg5/+UYmrJ5SMI5eySFOi1mBc/ZOZyk7lbGygknreKpZlCTb+RZRmzdBDW87tWe\n",
       "tXleOn0UikUSuXMoDqwnx4vwq1K+4REA7DdLqlt3T3oj7SvHckehnN7jBa0IYMfyA2uBirYbdcU1\n",
       "8KAdKjOzNyjyDLR+im3Fq4VeJA1M7Y/SEzRCPCP56/gc5WztKCvUR8AAAABTQZ/aRRUsEP8D28/7\n",
       "MAHG3JfyNHTaN5RPQQK7o8H9TL0saUs4g6smUJLLvXWSrVor2kOSx2fbX4hXmUFbTF8w2KPXpHzG\n",
       "BSvj4L9kdDTrTYtwDpkAAABhAZ/5dEP/BpdXoASyiJXfXQPaKfkvKz8rXfhAvjCKwvKHsI/ynuUl\n",
       "N7h0+mbxhLVjOgyEmh0KTJD20YIrKdMr/biqTdODUAJwPB9MALnPt45aYutgN3Ulk+9VJSHenHIM\n",
       "CAAAAJEBn/tqQ/8GSQ/CvQAllESvE3ChhHtPcFnz0knGVL3Y991fkgcPwU3uM5Gzj3s1s2zN48BF\n",
       "ljsJ6p/OzUFjDE/UXp6ds5cctYdIOF/ui5jGHm7m+hDXZ6uwg35aeX4JoBKfQPuUt2VZ6VuC9zJw\n",
       "darIZBGnyJ+3T4xilLxop+12vhE9qi2BEYP7z5sCEWnmwJWBAAADu0Gb4EmoQWyZTAgp//7WjmwT\n",
       "k1/8UAOKD6NPLQskeGrBUAYbRKNqeqPbsCZPX4lCtG9xIRHqi+ZPVDlQtn6jtYnTWqf1RMJxMInN\n",
       "qnf5eLzritCnzHUHCVWQUqckmkGPP/rbANnrfV0W4EIf+8EIYw45Ey02t+iZwDEaK0TbYiM0MG1y\n",
       "rTbdBP5okCcXskZOjzNcSjD0O7eaMQdywurn8G/pdHM3Gr2+Rf1IJpgm1PCrGlqNi90BKoPJn+kO\n",
       "C/qdfisqv/uafUx12cR2VbQeWU/vwV8t4Iu88CS+dwDIQE2Lr+YK5aFV+H+HMlCb4CO/A2JY9LfP\n",
       "xx0SzDNugR60yX/f+ALj/TnC3A/QX3DubpYAIfrr1N/zNbLIAXPw+zDq9jYxH+NBvfblW3D5lSz1\n",
       "xOUIxJMirCcOGqPxUy14gQfsJEG1B9Py6tBsD0B9xMZsVPmr/2PtBOStRCIeGGAoeXwLgWxufHQD\n",
       "b93KzK/F4TFnesohwSRpzkscaWEx0qZmMacvijac92tJTrFATTfaoJOXYL140rDSOt26X9NhV+lc\n",
       "vG2SpzmP8wS5rwhOZGMl86Ut3wzZtNwKBAnE/0RpSESzeBrWxzBJhued7dAHoE/dYUI1Hl7JD0FV\n",
       "nzn3F2EF5KzTWORhiSdLWINTanjQFpcKKoSCU9HRJwCpVPGiWXn/y2ZRU7aLQcABxHIAVPIGeXu2\n",
       "yhFfRkGJfwp+9V8UbyRIpr7V93fZdNBnBdfUEw4s3w0V/g3NlzD0mjpHB2G6017v478uMty12HnB\n",
       "Q4hFgSoTBLsXCtX37UtGxa7dEuuUdZiyYI+279BsALs4iZa3qbN0H2/H9XzGaywNCUv/fYwUHRsj\n",
       "RuG0quxbR51Fcy548wWosqFX10kxgo9WRYAzr5I+sJtuNgxEqClf4T1KpKtLfNBN/hljM3x+00Bu\n",
       "wupTeEac0ew7GLzlOhqV2xGMrNiadwjZRuI/05av+YXD/qpsIU90XoLBzno1baKb/BdgTpnm2LEd\n",
       "MInr0wtc+VAlKIRxbc1IuozKL7Q+iY+T0HAF+4DHmSD0YSg1Sx2Y6ugVrp6KX2LIyVVdL937COv/\n",
       "UgqflrpnZwf4kUZfrSvJai4+jEyl4JmwS/EMTA6+OhfIrQUJZ05sOW6z5tNSzh/DIkIewYhyHIOu\n",
       "n6rDiLN3Vl/Z4l9cFlRdDzzwpRRd5ZjaGlpPMAJ+fbVKcHY801QVSAcGpUI+T1bDaI7CdFxIfj9D\n",
       "4cIdYe2EI9X2bcKVJrP7UvkBIZd+H05FjPkAAACVQZ4eRRUsEP8D3d4+AAC6UUP84XiekIBT2fm/\n",
       "+7fP0wBEBNPtb3EbhNYMKa5fzSVXOIsa0+R2Hvx0uzB31/JSdYt1TRf9XVJOuPrKUjIOFtZr/W89\n",
       "i4KXcMiVkhKSFU8wZ18SrN+vIiMRggAk0AQ0OocZV0+ZiY5emVMkHxAqpAzfW930q46yjptnmjxK\n",
       "X5A24JVcBnwAAAB8AZ49dEP/BlLjCE4ALdRErxNwoYR7T3BZ89JJxlS9p7aB5ZC/JA4fgpvcZyNn\n",
       "HvZrZtmbx4CLLHYT1T+dmoLGGJ+ovT07Zy46KdLSNEyf16gKmZE/9glSWJx/f04+yTi4Gs9Z4hKn\n",
       "brPOdOwk4rGVfVX7ypSbTsDiKkADegAAAHcBnj9qQ/8GUpuXCcAFuoiV4m4UMI9p7gs+ekk4ype1\n",
       "iaBnqkpDBPagZYYmwfi+Ol5eOu9SgeuqdbMmHVgnOl8PVPzPu1J2lhNYHYWsjRQfr4EVhZ1/u3oJ\n",
       "/n6dY/YSPe09wFNeJsKZ2r8H0Vi14/A3F8KXrKBqwQAABJZBmiRJqEFsmUwIKf/+1o5/aO3/1AC0\n",
       "1yLqPoRDOjqUO9V6AHpXao3QNaVmaLkJVQ8G2A/Liz3irM+Lf2V6EGJJF0M3MhyTNtZaGHDOCrqG\n",
       "+3HBDeoeedGqsgeJtCj+GsCDi3Uc6fMM0iyVa5MzNOfqzikHeqeAYzJ/Jdkndgan+O7T1E0VlrnQ\n",
       "Tgetp1Ur36lP8Mmdx9ekLNyJJxHYFZo0IWIRdA2mHjUokdhtGIZ/4571AHu/WXU0H1GlZ/Y8hDHm\n",
       "fxOONxviispwdNgHTqLUWYMk0SrqCyUWFrgmJrnMviXM95ZmYJXeLXv0QQ2kHsdl8Zk0HB4N9Buc\n",
       "zLqqZU+dSrqia5hTgo/sqf9vQVeK4fSuOT74hgsMTGg3gFpjYnv7W4GH7PcLymasdrxnaxlcv/8c\n",
       "1qrBUIfcu6mzJH7FiIcraaSrASipo7d+VaSoNLFlWM7U38am7HquDeyUCJ0LYI6ppvL/HT57iZaJ\n",
       "Z71hHVZe8IOat1GnneWYUK/30m9afhjYep8GxFQ4/kVBKj+BxsRuKXVCKF4gO7aaZClzNSGeNJU2\n",
       "BLpdUuIELlfOS2+U4HysM+8ocvVpuucEGqK/lI1ST/QU1Uj1cxSAJF8kdReQg1weGKwze7+i28c6\n",
       "g5dFJFN8tIuR2DGGZMAAmp08mul70fqEKDkTTbFdNGwOpNfOHOB6Ouh8ZfU3AhFzNmMbAKdiYfPq\n",
       "4y4ckUGOzh3yPHyCjCyEjC/M5jXYBnki3RIRLydZ5SVkbk+YwSbeGACGj/RjvWYBkTC0aEKwxa65\n",
       "MaSJYxaJ8+bOoAd8jWAOw2I777ZNDXjyFfJcabRg8pKGsmEJy16HHT6q8ya5NpHkE7siQ5t5kqNK\n",
       "cEP2wgqi5db28WrmPmG9INR8FVsiYAdT4Ffeco0ZinEa5cZTYbuu5wXNaGvUauLewxqC0v3z9NX9\n",
       "lgGzXq29vt5Ctpjrn60zZS14YUq4mgcOo0qqwk0rsOnCDdUoRK9f4ZxvVoC5FQ8TFy/oMfo9vlWQ\n",
       "0YRsrLr+qNES2GoeIuDX6ZvwsywKOvfaKkyjV0Gwaq36ERRMz3FBW1ydRINGYK3+/6CJs1bJW+2K\n",
       "MKblDEU8MFU9u2LX5fFm9j55RQ392DzFfnnhDcTYHcotWUQY4+z3T6tKE8E8TGFlgWohQ9fLNEJ0\n",
       "kXOryNQySDFJb209HA5v6Ap5f6R2cmNLMvCTziS6STDevLuqbUkJXlGgS7LTNmFyw3z+bUY9xS8B\n",
       "A2N8kazFq9L+Vsd8RBoTBl5dm49CXDJ7sEsV+zYf5WQkbh5bdMII4a5rMOhjzAJitySf5K3ugUaD\n",
       "nhFdrRLPJrWb5chN7qjDk50lWRK+dwvrnvPiUumVq+6PS0Y7i8LlKSMpm1imoX+f7DPtBsmFCL4f\n",
       "vTsV9jUEEMG21zJpWF1dKZdJYuCasRumVRUK6t+FCu2OofWiv9w5qo8tux95mC2SxJXSPrxtLXSx\n",
       "BaKSyzSppwSd+ctei/aQDrOe2mcfyzKJk0CEPIvpodJYSi2RFc0hBoMYZrr3UmBIWajHxsoj/hRu\n",
       "1j6yMGHmoj6VAHpAAAAAb0GeQkUVLBD/A93ePgAAujT9O+cht+NUBpr3Woakh8wyL9WtaJESL0X8\n",
       "6znF3BcqIApoZ7IFiuDexFwVTyGkY8WmHiuT78ol2BaPGRhjGekUhiGYBwxQCUHLnBUsAiS9oAyN\n",
       "rIXO97NP77W4RwYh0wAAAHkBnmF0Q/8GUuMITgAt1ESvE3Chm+UBJjnz0knGVL2tvdbc2q84HQ2V\n",
       "EwxNg/F8dLy8dd6lA9dU62ZMOrBOdL4eqfmfdqTtLCawOwaEkOWwPP/MiA0/0Nf4H+82BYi+bftW\n",
       "XhqnVoEUPsXvYEro7YVjbdU0G8zHqkxYAAAAaAGeY2pD/wZSm5cJwAW6iJXibhQzfKAkxz56STjK\n",
       "l7WJoGeqYcf5T3KSm9w6fTN4wlqxnQS7YqJZTh2Z34gQPkzRak4qk3Tg1ADooBkTZnK/33DqN5m7\n",
       "k8YhDZjm/LrUoBam19Nfg54RAAAE1EGaaEmoQWyZTAgp//7Wj+zy8UBCXFHbwPoeRy3GZQ8fffn5\n",
       "3gYnXgx0KTCChicjeMFNBfk+4egAiw3f4GtGlWx4ljP+T1Dpq9omkNhyn9E+qlx1jaS3jmftlqL3\n",
       "9JFQ4zPUv6SdiR/lKu60QiehvIUa6/OoF3LLOcE0u3To/ySf1KX4SbuLb038vPDW52+/rXr9blk3\n",
       "7R8j2dkN6temXZy2bJhmoZB6mO0te5T9iIQQEIzu2w0BYQPwcT852dehOe6xcezWl1v5gHABwO8h\n",
       "VPlK9bC8rKo1akwAinUYUXwx2XAgu2+e+kOZfyAaNeN1uhObd1DIZiYgrLbJdF/S07HN5xpcH3ZS\n",
       "X0VfQkpLdjha3oRZLu5LLA4/s21Pl/fefHX4Uo0OISXS97+f1IEahaMXFd/RYirPHdxWw2FBU5d2\n",
       "WvDgrc7ywbPmrp9Owp5qV7rmgGva+ynJn+/RamwTgagBWmXB16G0wQkNjVTROwUWx7JOAFQM+Lh3\n",
       "ZJdwWIUNRfXrmDqgiS7Y1JluOF0CqquKQ5PE1lOGPgtr32jlhEPCOlCTmjKfrLOxSt+0BKfkUgh2\n",
       "unfPOTRpL41IAXl82Kub1m/jbBwG6dSI0uQ38d5iNt67ezvkT6GfsICRd54NGibuJBtH4b8KoXq0\n",
       "BOse9L6J+dopPPXmu5BrcNFHLsNHeh2s/rwP77UYryqwc2KC0LceEioqu1IHHqrM8cZrjAuJyjmP\n",
       "+7CTN/1PJmV1bhceGs86hZPeypUHzm2cWLS3vzIly2GI2zpsdtI9f44WQaXUhSHpQaOnNt11bw8U\n",
       "Q0MKWY5q6hymEbaw4y9rhlBsiXu46YV7Zain4mMiw+LN06GaKNy6iB2aOg4kyAtl6r3+9kLMrZec\n",
       "gDqM8+ef04McSfm6VYVe4QCe3cAyOq6d4Rae7Oydv480/wuG0d++16YzjeLCkk5XI1UkDvcaKQFv\n",
       "+OYJzM/ubl1Sb3nurTMHO1bjs/jPKWnG0ZWn6EzmRPD97FCmc4C8R703YFiAGHpmYs71snrIz7fQ\n",
       "Fs7A9ytDng4xpy/zdLWr3g69EwlDDfI+MXU7MiWIwXtR7BIF3pM0Ms+HTMQhnfC4o47VRmRWXUs7\n",
       "7V6MsPjWupBH1O+JhW8wiDiKnaBPm5+oGFFwJm3z43baavL1la7utF9blochGP0e/G+RKEvwccJy\n",
       "qPDoxGu3DLCeklAyPtGcsh+BKyL0p46CIpd6+zwmoCDnCeAr8cr8JO8IG3iFwnVP020M+4wAU4RK\n",
       "Nqo0xQsl1htfYGEhyC/HuVb1g1X17ycensR9TGbtrBcDNHAEHRmgHfoOWif6YQXbjZcrNRYPSfVm\n",
       "9OjEpcCq32Cg7pHQCc0hg8ujYgUGtm12hJ4X5r6XNXRQLYxDa5auCwAf7sPnX4ufg93+KJWBzfLf\n",
       "mKUMJX0DhtWW6X9h8pjJO9dyetUHzl8efmUBHHBmRWDRJFdHdBbEWktRw2cwUC6WEGzGeTLxkXhY\n",
       "BXK6/gJxSZ3s7MbtjRHUIbZz+9SiIX1zKfy5Stlsi53VycSGumuhfT21uZ4EDUAJ+m2jyKRZ0Cxn\n",
       "EL+oSkmu1ZNddmwSnJZxZ2hPlsAP2eDErpzXBe19XRfJcxpZtQBHsoWQAnnwagAbLtfFfdQG1E7l\n",
       "JrTmYQAAAGpBnoZFFSwQ/wSvzRi8FelEI+gAzRbacxn4ycJ3GQA+gVdG7098Wc2g/FOYkcH5b0Tf\n",
       "l57tThpIBVQRykMgFuKz9lxyiLi2SDavz4GqDAE6Bc3ZPYliaF+fW8IQrTYg6f40exwmTvqB8GaH\n",
       "AAAAagGepXRD/wZjHXUAF0oiV310D2in5LxmAYDW02awAY1jcRZDNlPwsVzEb+D0ziQ6X9PYgRlZ\n",
       "fytXMyl8GM5Lqsa4evxRxA5zK27wbuztfS48z+rNc617fB5Qh9fVhyzTsmh5IM2cxZgR1IEAAACe\n",
       "AZ6nakP/B440PWnEAEsoiV310Dz5FA7GZEIinC2YR6jWplmaT/LhcA5oS1Pplc+SlUcVzVFXsMaM\n",
       "WDovOijPFw//ZU2zoXmVtNckNsEgsr0CN9ZHW8mcsCQlOYhbGWhgHV/PWovDZyqPiF4HwqwG7iz2\n",
       "K8o07OLtyrqGhcrq2068di5/rgAYUITVfsauIXt8vyfh6Sviei3yHl3TBswAAARBQZqsSahBbJlM\n",
       "CCn//taObB0Fv4oAWyGROG6kvGevrWNEgA1p4fJi6CAUH+YhlN0dzjEvC4MZSCxYqLZFVWVtdL5T\n",
       "mbS7I8BRsqzTQs5e2Ss6O8K8rr0ljqDhKrIibQmHUONgBwei07Q/4Kqq+rPr3P7tCQaDkZ1cO6J5\n",
       "TLGuqha1AhQSkdArexh42+cEpqj0JLytCcHhdeQfC+cnGISlExy1M3FisDyceSxO/CzhrkGMGVGa\n",
       "n3Y/M4zrjCHxOq0+VioHFtZsbo0zyw6SBLJewSk1matjctHAeIwyTyZijUV2zCXubuacvdp2wYVY\n",
       "G1dHgPy56bbBt8jYj4AyAgQoR8FD3tgDL9ItzEnkfXfq6qG3WD2qF9Swcj2UIVWko3vm0eqWzEvY\n",
       "xQy8QuSxtA1wWg8FlfLJ1kLN8SOtNpakHD2YpBkcBNct5D22qnzuih2oBrsh9hU77W6w/KdNR33f\n",
       "fiPpC3tG2tFcJgFQPid7GI7+2IaZHPDNLC6zPmA6JmYHgz9X4fiBW80kOGUdjYQgAkxWKN4TkfBS\n",
       "n6565Q0BzatD5pyhVUguV9lWEFJTz79cEfz5DCcE0NzOmxxSXy7YyXnXhS/mKI5gAt4lwNOlbDjB\n",
       "YV0jVIhE+yvRWFk4TOJqmLtk+Nber9VvK6yX2FAPSBiL1Uj4m3E48b0RVnlNp2VfOiGNnFAHI3LS\n",
       "dMCQsGyi+E40HBM2RWYzQDpTE2WegFj4KUkynUf89vafwCtdWJQImUiGk1jCANy2pP3AD9pX1qKW\n",
       "wRIKgP7+f/SLglVFoLzbr0BWU0G7AePoFxVNAbGr8NeTNr0+0spgiZnuWteljNC9C1IT32oyt6Dz\n",
       "8bxVMDuvUzNIBXmS13yZvAHNsbhmDpIeEeiM7FwCnJkCCVB+EMKqBdG1ybWoljPQ0bxcs41JzGHT\n",
       "D3QX2ULru3IhlDPobXz22sEd+A1/UlwmxX7nlC7Q1SCCbgbmWVW+GHAhkImazE8MUMGXKHisJ3b/\n",
       "HUFbA7KA6vyryvyl+KyQsizNxlFbD3vJlun01auLGkZDR6iCJ0lFBZAKYW0rJsb6mz+1myUM4FeU\n",
       "yt1tnsllNzXnFg5rSdyG1b3WQ4chitaBPhq1AhIjyccumvHMMGaRVqHHgTAzi5xj1l340G7nr8DU\n",
       "X6Maiftzn0ex4mBFBBTo6RtTX/sbwr5LYCtrpU94xNWiklnwMYdzdlcdREr/OMCFZFoZSAqCqaaX\n",
       "5avWqi7kZFFlf32fX/ui+MnPPo+R8oAYTkb0Uu0c/N62gz09LHmdbz1LR4vlqGkQAdSEJvBHrn7I\n",
       "TRryv0W07aoQwLgRQhOEMgRRTDiGWKjqCfauAa8NyTFWw2ZyZlLPwDC5momY2ewREhkwmfPeHluu\n",
       "thHMV9xW5j63cgOh7avc9bzcnqr9JSdx0hfQMtJqxQ3yueF/h7d1wNSchbiQzJFVnsUEdXswAAAA\n",
       "eUGeykUVLBD/A5cdXz8AAHGc4hUaPOl0RifU3DzIOG81KVH+lP9OrKe2YFXai8CNYxodhtme9XYI\n",
       "gWtrSjYDeavXqTl17fo6zYwVF5Y01PAKEg4eDMHBMgxYeaWAl02TLH/WKkT4auHQX8MpdvzFmihj\n",
       "DPPyevafVqkAAACGAZ7pdEP/BkkPwr0AJZRErxNwoYR7T3BZ89JJxlS92Lx6XnA6Gw6hX49jcUBs\n",
       "/uOvWxp7zmQ4u6Cfn4ujUZbNJTEAC7Swm7tMMI+BoUSX+KAcoU/0xElDjLRKLP+mh45p/cF1I4qY\n",
       "jG8o/l3UvbWjozLkpDc1DGhcan9PJcRX8+QCFupehKQAAABwAZ7rakP/BkkPwr0AJZRErxNwoYR7\n",
       "T3BZ89JJxlS92Liic4/ynuUlWWPejPCWKJmAMvaiSHYKRAwHICyrNzK/24qdUdkuaYVb0fS7ufbf\n",
       "VlpYPG6XDHL+qab4J8cy/EnD1CGSp82dMgiiMZwSrb+1MwAAA4RBmvBJqEFsmUwIKf/+1o5cOsOU\n",
       "T/90AI+3XzhbPuy1yOuWJpdDZnedgDUaPmrLmuNwAWhNYmXF3Ng0XD01X/CDP4pKgUsXvsVwJ9Gy\n",
       "8teeEwqI1I3CRCjMdPCseq+oOEq7Pipx/vfuti6na/kzW+a6sc8SB07q0WTuempxUtpTq43UKUSu\n",
       "MMEh8l5P29GvEFdbt0R66N0URAjAQFEbUS91OrQmZP2G0ru5ZIAtqwFjQtrKpJD4aRjbNnuR3q0Y\n",
       "Wbf1SQS282vvM092UYreJq7hedAqf+dJy6APsn0PRIKJvfDGwsNNERfbvw5FWgjWwG6S7jN3/+oz\n",
       "lGAsxkf1lls/qp3j8xKzTUH7KGXmFC6lCKywbTI1s9vl+VvdtkTcHTzau14RDz/XfIHmsiSdKQtP\n",
       "4hvoZ5bWQmD3HH9BYKLfLH5AGILj3+dxT+TBpUoqcZ9+6KSW2tgeSmM0QNVu91nrgMFqSTkVNtwm\n",
       "bXV7NDiMcUqUWp5CJes4um3F2i1l0rEj6ls/1ASYC42Xqke/Zqx00y+IiSjQCtiiAfmR/bZSykAs\n",
       "hOJ+XFG5NtYEpwVofF41AZOMQ088byVHKPHqRrNkmFYQEpOH+7VNm5EWlWfSUKSyV0NxiwXHSDGn\n",
       "XOQxM1vxg5fdFnVfIxfhZmgcqT0TVkCYARGvnsq0pGbciCHW0BqsaGmPaPoYRknFbCZhybhcmomy\n",
       "Iv6AlE6SRlyCX9PfplpaC3Odj/QbEJgthqY175tqbShCcSHAAaqY04L4WiEV8xDq/qBKGDb8QBoD\n",
       "9M1vbEghIs8NsSi0WjJtjCiAsh7SyvvsSR7iI7w4r3XZUkeaFX7QvHKt0r3qoXIvrsZ6DJq8iGuc\n",
       "4y6I987iIbwBTsEfhuM/9G3q+oZmVq1zv5QI2Sf0tKbud0I57mMRHcBOCYh5LViSpA4bWA4xcYzX\n",
       "d1WR/Vu6nOSWG5WsNZWEbGFYIkOSVSpmE8G2efgYjhZNfB4e4tEsA9lDvHr3E5nIf8a77hnidi55\n",
       "JUzA//DaJrr0bQZZmxsPz2VpPN4bqRfa/PzuxEncpYKCu+JPp4mL5yP4QbzZ7MNGiOYO0OYEQe2R\n",
       "WHEJ1j2BxoODAVthuXxLEJiuMuZ5dOj22DLiYhbmehoyXNJpL5B2ig9JltdbQfVyJHkY3ZfN+Zpx\n",
       "GVN1GBcGCuALFeoejVEOqymcdSWztMrMv6kAAACMQZ8ORRUsEP8D28/7MAHG0LWVizXPeJBE+CWu\n",
       "mXBexSOU1PrXtEnVesVZXqlUsMCUWx0XotftW46pKoq2mHipn7JB1d9TDf+rztwt3PCFdnZbUs/7\n",
       "mD13bkn7dUjsP1w+gAKdzgyhaqy9TpRPEay1mozbUWms33QRxQL5lwYQcQydZaRvoWYLpABG/RUA\n",
       "AABzAZ8tdEP/BpdXoASyiJXfXQPaKfkvKz8rXfhAvjCKwxhxkf5T3KSm9xnI2ce9mtm2ZvHgIssd\n",
       "hPVP52agsYYn6i9PTtnLjlrLo+noQTf9zqZS0Anyh3AyQq/H6yXrYK4McHBsuT+X+lR0hiTNL3HK\n",
       "islxwQAAAGIBny9qQ/8GSQ/CvQAllESvE3ChhHtPcFnz0knGVL3Y991fkgcPwU3uM5Gzj3s1s2zN\n",
       "48BFljsJ6p/OzUFjDE/UXp6ds5cctYdH0AEQFvqyc1zp+wcgm1Q9D5hSHMLzRUmRgAAAA8pBmzRJ\n",
       "qEFsmUwIKf/+1o5sFfv3+sAESuXzSMSer1OqfhqeXADDaNI1O2PbsFU1PJ5LICzL1ALPohFMBRBw\n",
       "JxE5cbl668W2DRZ72ovcn72D4qPo8SgJX1BwlVhQOIS8jWPHzf7uHYmFaCI2QKhLmHQiIrVxkMYp\n",
       "snaZOUY0D1XEy4p6PPC8I2ixgTOOWWEGFvO+EXJFKnPTJKTpRU/O5Zh4CAOrqCE9Dciczqjav05W\n",
       "GXziB0BBrDBKqHHA7n1/bgQl+H33XwyF8J1VdAuq3RPmc6LEaS+dRHc3iyhAHbDBoybyDJnSpGOt\n",
       "JzpFaBo3bh9Z6COK9les3AAHCUrAXTuJVHTHMHhfB8UmbyNnnxmaCNZJ0uE7wGL5x4G4nt4ZmDRo\n",
       "9kTxmHGs6g+xFus+JvyrmclZqYLvINdf8K5/QoRCf6Osn32YBz/sH8X8gMN7jyyDclUhkeNIakba\n",
       "OT8cw4QJ7Lc77IhYEedQXVvrgL/9cmISuH9OpXqV3o7HF+un3ud5bysYn4+N3cQUYzCcfvjHUMoB\n",
       "20kBMQemKX4QC33B7QB8kTGqfBrVTkNp7as1Fd4yDUxKaOLXpWD3hJe7uoX0gFxV9IsUEkM9Q08H\n",
       "KS1+98zBxy9SjK9p43KXw6rXFCeal2qe9xH2CHWBpL1BxkarwtVO6KOr+VnheRKRowIbw6eIdxgd\n",
       "R7OqQ0dG2h1hZweRoBVk+yo1TXbmk4vPWU6bN+oHr5X52xf/NaPkz3rDO0zKH/ABe5B9LlRAtn+Y\n",
       "5E23Oj4SwyyQu8wyHrgtEfNYu+NdqtKfj6K4AiFQ7/BrrBJwFNI4qwmPezxWV3zSO8yrkbbxGSYo\n",
       "dyEZqG1q/cV2is+B1uyZdM/4juw4QUwzewqrMBP/I6N8VAavdlLwZ4CZcF+MsZ4cIUPnzHLCvDXw\n",
       "OLX5LO5CN9NTzPyaT2LSoPCxpkHzLJhY1zVTX0rujZizLxw8WAuF+gJpoTZyf45RKIrnQ81Q33gZ\n",
       "+glfKioVo2Ki8yUj51dLXFASkMaIkYZNG/z8H0fIrLT8UQ+pt0XvZr/e/S8DjMzoYLSi2fFmFIM5\n",
       "35yEsMfKZDCyuyqXt0fQ10R5+JnsMZPVujIsemWcKkhk9t5awK2e2FoLw3mo6RRwOBWxnoxX72Lp\n",
       "USrviTP19bnPkWJgE2KTo0l3NfoSYJbLC1feX0WNOTQpAwAahZHCRmZ99pAa9M1hSFlU/dOXF0Co\n",
       "Cq6zqZxypkHAPMe1yUPQ+PmeC2Ehva79jrvRqSzj208cTEE9H0xOveG63rS30igtSJiQhyO+AAAA\n",
       "l0GfUkUVLBD/A93ePgAAulFIayficKvW11n1VfvqmRzyIgLeFvokPwXw2GedsJHKHl/hljRbQ+L3\n",
       "PFOoSljJScujP9HR1Q7H3Z58yuF2ckvCO2NzK8QXOMguL3OqTFDBq3/Y69n+BRK7fyruu0SyASyY\n",
       "2f9c8B4wkoABK1UcgdxNQgGtRYMFDHQJ/SBW4Fgf1NDXoi3dR6EAAABwAZ9xdEP/BlLjCE4ALdRE\n",
       "rxNwoYR7T3BZ89JJxlS9p7aB5ZC/JA4fgpvcZyNnHvZrZtmbx4CLLHYT1T+dmoLGGJ+ovT07Zy46\n",
       "KdLSJ2SlRv6rNUpyDJOrJFkneHMxquNwtE6iFkdLXJ7kwKEqP/n3QAAAAHQBn3NqQ/8GSQ/CvQAl\n",
       "lESvE3Chm/mXieeVpXYoNyyPS/Ocf5T3KSm9yAjbwliiZgEmYszyO/iCwRBpT2RGaKEWVUm6cGoA\n",
       "TiiD6XZReX4ntl8MT5ze8Grxsv72VBsJOPzovpI3bG1M5Zo00uS8l3rVrRbnLAAAA4hBm3hJqEFs\n",
       "mUwIKf/+1o5/aO36wARIk6zLzwCLynoAqoUTgeXvsZAbpkJUiHqPRsa4OZm8aT5OuLw/j1KiKQ+3\n",
       "bnp9HMPGsFnThHVGrc4Dzzo1Vk11VTj/tXx/wTtR4meXBNCs05/2RTdvENxuR4vvQ9+JmHPbKrMS\n",
       "/3dUYuRlT1nJz0nDOdnhOJ0Z+VP+yQJUHE02rOgRM2S6K1yjUvzSKNRlY46a1tmDg4QnJ+6BTwe/\n",
       "NfmUFsT0OEhsa6onqDuhb2yieqYj4J22KwL2CvYxufFOaQhnM4dSKje/DHlAVVwirAAlasFj0F8L\n",
       "vFWtQZc1t/fzDbuwNlcfgdaUbVbj9zxV3yP1dS/lT9aN5xcqg92K2fw8dbf9VmYm2/afd0KWCrJE\n",
       "3Krj3P/Ze9mF5Wk/yq/ZOIKD/gpSKH7RFybRNfElKMOm2Rge2mMK85pKRF/7NQcRwfZeG+c2EpdD\n",
       "Fyoj++8QreS1f83Q+PWVdhk26uZ/sVYQZB8lJ44c2IhVg7GPyUjuOgWKuJ8HoMd/edl7y2njil8E\n",
       "zK2kHDThigXzcFgSBhUq9BtKvscXocOlaZWoJa6dOHJU9axYzZUfqfVjd8Pzbc0/FOQM6fefG8sW\n",
       "mWgQE6SVsOKVQ04FyE2vYYSE+w6seKmJLjWS8ZEMimw5bmILG670Vp74antQ0AjU+axsmd7e/BHm\n",
       "H0T4mzURWCQOTB+e+8xTkxKG+7t1pDSX99fD6RgLLY4qDKVQaE5d3BHFDJh+RJI3/VnCgTo/2Jnr\n",
       "sm6jlkdu9eiLbl1Q7YVD6zCwN5ECRj9KL1hKiCxxdhmge94wcYCUaC0JfTiKL7cdpNboYMds0mNi\n",
       "Qc6XZC7OxR9iaSaUKMKCB3gq3uu0gHWaav+Zu14ER8vLs/IOWrJ5GsY+qeFt3TyQIcPEb7b1+1KD\n",
       "mW/GrQ7ZhgkY92Zluic0B5YNcc/t6lA2b3f+Nqd+REf5TznvIfSULG1r7pQVUjkrT5CM7Ak4oBUv\n",
       "q79obSPOg3J2M4sy/5RNtsRzZwo04NMOpmsE7gytnnlecYN2CCn3RDOe6zhdICqUW4UgIlX3BxBP\n",
       "jMhcQnzDkWEK16AorekZIVYJaVOZREdRBJLnyjM7Vz43Qk7UmF4WPPHto9wQOwVIakzwOvqx09kL\n",
       "a7Lsy+krQMbzYqhyEXO4RWicdV+FKPkjehy/hs9x5SZxfbLXMLd5bu2hAAAAfUGflkUVLBD/A8vQ\n",
       "6HsAAllHyVIPpPm5AMXOIQyEG649Ux43UipSzxG1kVV2kIlncvS3NvxzRs2LxZdpKoIePh7SzHZD\n",
       "0y61/0dc7dEBlkhrk1L7G0osdxBiW33lMzYSzbfd4FEyE/G4bRbHvC36tSve7qg2NUznUB/W1xgQ\n",
       "AAAAXwGftXRD/wZS4whOAC3URK8TcKGb+ZeJ55Wldig3LI/46XnA6GyomGJsH4vjpeXjrvUoHrqn\n",
       "WzJh1YJzpfD1T8z7tSdpYTV/1xnbA0KJL/FAOU/3GsRHFVER9EhIejSNAAAAbQGft2pD/wZJD8K9\n",
       "ACWURK8TcKGEe09wWfPSScZUvdiG2vI/ynuUlN7h0+mbxhLVjOgl2xUSynDszvxAgfJmi1JxVJun\n",
       "BqAE4og+l2UXl+J7Z9YzSYE1tTDhjFM74C2uV61vKo7/NZpRU82FAz8AAARGQZu8SahBbJlMCCn/\n",
       "/taP8LvigFo+r1G7b5nF629r9rCV9hkonsuIHwARXScMELryEyRVZsGOFjd5gmHXD6aTOBFf7wfD\n",
       "Hm3snuO/JNt3nMM8sbYAlxqjcotbSYrr27Dt5QwJjN5WQl+3sqnvw7NlhVEScMiF3h30Wrpo1+Ip\n",
       "o6taNGLhwUGYhyEuNPOjYR1T/jpB6hlwO37sRiicF10AAAfWAAkLM+WQML2iMsUob4tur9nIp5Qk\n",
       "xMA5J2CNH1drV8aKrMw/W8pyfZkPZHz9T35xLkv97cA0aAU9KJImVm85ZS5uhhS4p6lk3WN5Fpcs\n",
       "WRBjxaadbXu7XAZmLETZ8RLuM3f/kpYy5qJmp8DGNnjpe+3pLV+6+iaGLwTgJibjz1cQAogELlnS\n",
       "sGVNsrYefgLxuhaEqWoXycZJcCa8fO8Tn4WmhM3Svx6O/ak6f0ssTXIeBtfkbOXaShsVpsh74Fwt\n",
       "LBP1/Ltfd2O7T0CpZH3WDzK5t+sAI/6K26mdRp0OX+rEsv0dN297/+TNUXC7i8joamx0Vcc2sXMw\n",
       "WPkYx4iKIFbtd1xuHrJu818DjogjrKeq5IidKtRg2TialJC2C34cpsQTLCPcyOWbPORjYdm+AP9k\n",
       "lY5D3wEnSVcpe51mr0GhmmeEabb7qOj2Sq+1qn3skNQ7d/IMENUannqMpWg3SGgzEIftPAZHqG3G\n",
       "6XOvZ4yY4yNBRdZEwPEKFIEdcqoSUT66CBPBvmGYeYkI4saLNNdRbT4qWulG9jwLqDoWPkG+pBs7\n",
       "2jfcaLrDjmBHzZQrPdnMNEY46HGMh7S8diuSuFJr0wzUmeea6C9HdR9QK1OK2waeO0vyyEMLdzy4\n",
       "z/Ru6BV1Jl3M2Ie9Xe+RoUZ0Wf3PO4FodkXXvGUzcTqDdPKuMwVjxj1XcYWtu9dtn18R7dmobLXp\n",
       "7S9/rTCfoFBZtuxXFq3yuvS07RqiAahJnkHgPoOqmApmgug8DYwP1jSMFrsdZql2lrAuJ7H8a3WM\n",
       "/0s+X6T/vpS5eggpidZg+JYFlH44fzi6wz3vaby8/xZdOT6WXP59tuszX5afzdDmbKdCYKgGVtM2\n",
       "gCYPXcSUCeluzezInHyYtqEPNxjhV079/9SvO/Zm+RWeteBQiF497d75UEW3evUYKKS0ze6cM0at\n",
       "iqPH/Ldm+1ve1QJ5XVjgIf69PSkdyDuyx1+1QW8TTh2c7Ou6+MFG+Av3+eE1el0bigeaxSicyJ3l\n",
       "WoerZAtCDPzxA999cIJ0qh6BLxBGdjY4y1b8H1HNYanncuEWN1msVbl7OUHhjBzTQCxDYvYbDyc9\n",
       "PvjgdlgFSlyL5QOmpcmakDUV36Fzp1VIN+Ou11J2NsEvedJQqlkaN3VxlsIH8eK8hTTNIcrwm5up\n",
       "scAGY17Q4TdMsgItA9fo2NjLm1IkmMI43+PT+DyNTEZgeQsN9QgQb3M3E0URbONy3+SE7mQu8yoA\n",
       "AACaQZ/aRRUsEP8Er80YvBXpRCPoAM0W2nMZ+MnCdxkAPoFXReH9tXxT/HCSaEwi4iAI+5v6nfGe\n",
       "ju+GMOUhkAtxWfssco16PBIG1KpVKxGS+XiHylyoWWIJRQ1de/k8CMP4iUVoJpFTH6lIuQFAxoQi\n",
       "3Hc82vtOewb+fGV9j7H0EoMmc7pXCQtaDJRK7u5x64Ujzgvein0PIecZ8QAAAGwBn/l0Q/8GUuMI\n",
       "TgAt1ESvE3ChhHtPcFnz0knGVL3Y/pq/JA4fgpvcZyNnHvZrZtmbx4CLLHYT1T+dmoLGGJ+ovT07\n",
       "Zy45ar6PqJmEj/c6t9LAx9BpF3VjNuEOMlwd7+38hUvXIOrSp4NYCggAAACAAZ/7akP/BlbVnpOA\n",
       "C3URK766B58igdjFqSIp0nBPiPLFsa8k9xxlwuD/WBPUimArxJEY5kZU9czaArbE+CgoFQbge0m7\n",
       "iwiAgtLBNw+MqEuyPwAuqzPrFl7g2WWnpdskD7iN0CjuD9xEgVi5WboFI48ihLJE8F3dHNL3EAK4\n",
       "o38AAALvQZvgSahBbJlMCCn//taObBeJm/WABuHrNP+Qw7Ae/I+oA2vS9bQAAjMlhf+O6bBKOWE3\n",
       "0zfmVJt4AVhf47neAZKB4YtmZIh6whecY3kzcPfhFVWzPMv7sx1BwlVLKbQl+xdSM8Rgwja2H9Sw\n",
       "Bemd9T5ccVin3Sb8r4wJcqPHOMdRDnwT3jIZn1b1VwgGpoK4amI/bRVAE8hgpaukWDZT/CUNsXZK\n",
       "UcefeM5mhJO2nszjyyL2Wd1QcyVTOYX+KbLHXxZiRZFxcN1qjvjmYcCzfXlDeDzwGqAGcrr0hQsV\n",
       "pa2fO+0r9aofsVDx5D1G/+DFUqJnyq1ICkag5fa307bu/R3kpRvgWWCx07c94FTGG0MOkcDw4rMt\n",
       "Rh7wg3koDG2DcO6wUXsxg2+m7D4PwOk0YaFXh1cORwhEoGbnRxoL9cSv6gqBWJVBqEPWPdMcjmfe\n",
       "ITGNDofePfIVLo0nwcDWKAuvM80wtPx+TmSAKEecHWiX3/9ChPW58tWinpz4b1SQkXtrdAoqM6ww\n",
       "/2x/B9a8YJJHdbb2LT/4sk40j1u51+G+mFP+fV7VthPIUw6+C2XysmZ4lx82z+c9J0dPtG0vg3vO\n",
       "nTzAV3JT4Vqy9z/Mx3ZAg2EnA6HjQSFvO1XWhAvLi6l/Q2qCJ3KB+TgbaFZNnL1VPOI8F3+E0OUr\n",
       "V2VpmqZo3m06BAc+ubB7tHaau5Hxwv1ZCDWYU+aW52txp6u+zvN8UQaOORZiTwtuMTRgHn1rHKaO\n",
       "hBOEp194jxlpF0DTjmMS8D88k47bGek+dXzX+4NtCm1B23+GqWcGZo45dfdaY6p2AENt6+xLX/0Z\n",
       "nhPq0DqSo3rGdS5AoxtOzugqLsytizf1I97m8lDLem/+9VzImJCz1ZIrJMqYgmwYJf7BTH3eGcX2\n",
       "Ir9UbcODfTs0QOs90a8yOeYBMzqAkETOEWJBkU3eduxWaSEJCPzwIL7eCvy1AfbcB1YvdsPhRKjV\n",
       "B8Z/cX0jPsxPLmmibv92DwAAAGZBnh5FFSwQ/wOXHV8/AABxnN9erG02jezHucBiiYgPospRi7YI\n",
       "1B+27JVc+WamYuV5T7nYdaCCu3pnC9ohhI1YbZamn2SHNLUOMAz2IE9OHhv36NP+rhD539Th9/M3\n",
       "122XqSCQknAAAABmAZ49dEP/BlLjCE4ALdRErxNwoYR7T3BZ89JJxlS92P6NLgdILuuyBAJc6D+T\n",
       "76Ac8/0rz9QavTYGXrwmJUUZ9UAqxIXeYzpSK7zTfa/f8SP+J/eGHHsQ/om+wYYC23BYAuo49pBA\n",
       "AAAAggGeP2pD/wZJD8K9ACWURK8TcKGb+ZeJ55Wldig3LI9L85x/lPcpKsse9GeEsUTMAZe1EkOw\n",
       "UiBgOQFlWbmWbaoXlo7HiK34og+l2UXl+J7Z+Lm4A79iaZdU0GddFtlY/oyCUFdUra9n1gEBvFm2\n",
       "2rJ60nG7EtoaLa+BejTczSZAScEAAAOjQZokSahBbJlMCCn//taOXDrDlE//dACPt184Wz7stcjr\n",
       "liaXQ2Z3nYA1Gj5qy5rjcAN8eCfW6HCj9dGY+jyWUpuV9HrAdjUaT8PGNvF/VCXqEMsupsQjPE5R\n",
       "rFvPNjVWuGVs0EWAGHcgmFSg8DA/qqpAkz1j/Uzj36mkT2EqX4IBj0RAxcP3k9zJOhiJM1unLVVL\n",
       "CKjeUmLZG3fDCVgfREkd+FpVGzutrkFKDE2F4Ils+NHRXsNWsB8FLyY0G02Y858Yzc2sQUSMUq2o\n",
       "tSUqwOVwB90iXEo2FskqCCfJVIFFqr2xcWkyIqRBdDCKu6ijOYiE4KoTjCy3EhBaZXX/Z/B52iiX\n",
       "NOEnIOLlDV6Y+nOTknr/pSi6U1WhcwS6rpYfQYvL0ato1cQiI0ELEKFP+fiVjgHu44z7BO6pHiyg\n",
       "mU1yAIiWwmPJ01cmDycLCzunn9WBGCWi1pdsETSS1suP8ejdUg84zoUg/zHEVixX0+ZtMiTjp88c\n",
       "CfIw7HNxA4qXuOJOWy+x0H3SiO8wY4/ViX5FaOcfA5ySLRXTa/sbC9RCL2dkYILk2A49Wq2CF5Bz\n",
       "RokNbLYIoTglGjpOqcv8LUQN5eLnddXweGQKK5/sxcXroVrrh+uJC+iN8Si464Ys4qsJCPCcz/wa\n",
       "Eg43QXZTl+N2ua6Yu8lJSPDjbWAM0Drym2EMn3XwCt2waAW+ip1sFO+1Xy/CMIq2NzIhoOiOgyR/\n",
       "TWS+QcAsAe93xF3moU9kJa4de4L5Umpx5rErSgxe6u4dO9qbSp0htPnWmqDkkMA7HWtGu5Ia8jG5\n",
       "0qbOPeRn9q3fZn3OYjM5no1+NCrqUDbNKkWvnB8yY4p9JzKSQN5WfYgGjQXjwH1Jai2ZTTF3LP51\n",
       "cX0LfYlpOdhGtjQNqly8yzWnYnLNjDusz2WtNi0B7ApAs6WvjELp159xmFP+fI63/EjqGYvyGftz\n",
       "430QL0rrHLW/+wP2HihXNE5XnyqQDGq4/8z2ha2Hkbat4N3uYG82xweiCJvuUV9K3m5bScBrlbtr\n",
       "KXlfgT+lXcKj7pOgUbXJ7bPp/PCcMIyX8r9+6O96uk/Pc/fQ1b3hZpYwPAdfCjy8M+VcWnqP0AYF\n",
       "aD44/Qm/3Srf+VI98ES7VWZuRauXht1qY4bMnbXAldVcO+Wf8z/cPWgcGr6eysQ6x/trkBLoMhfs\n",
       "UlS1siZtzaHT955MnDaDj1mJ3o6Xwt2ZfPuJq65tLP+9u+aigjtmFCSXgAAAAGRBnkJFFSwQ/wPb\n",
       "zTLe8KIASTaCKFumjLzNFdg71PqVJJHGjJZAdpRuV77hxt5riFNy8DAM4rNzmcHLTt+0QUTCXb6K\n",
       "3H8HlFQsWHBrDjIS/UBsteo9iqOXVdn/iyjOCyAWW0bLAAAAcwGeYXRD/waXV6AEsoiV310D2hba\n",
       "sj3pAV34QL4wisMYcZH+U9ykpvcZyNnHvZrZtmbx4CLLHYT1T+dmoLGGJ+ovT07Zy45ay6Pp6EE3\n",
       "/c6miXRQexfPHHIX0bsX2vcwlH2eIkG+Pp5tfLIbLiinFplkXnwAAABzAZ5jakP/BkkPwr0AJZRE\n",
       "rxNwoZv5l4nnlaV2KDcsiRSJhvaxvcw+Dg3lsUzJYV1tNk3eySaNQPH/CzfIXIL8+olWVrSVtQ6X\n",
       "YfTBOOA/VlsZCLf7savYDFCqutZtOKriSEJOQROy9ua6A4FfC9bMrMHiHwAAA/9BmmhJqEFsmUwI\n",
       "Kf/+1o5o6cX/8UAR6GROD1WuZ7YJVYBdqDrgDvFqz2SkAAzVuLENRIjD2xJdJLElECnvyjSz6Leb\n",
       "jjOH4wZFVZxl1bEKBRAZ9WQjkeedGqsqufYjHi7o/496j/HAGgMTSV9xZuElMOldrJk/iPFvvSh3\n",
       "5yzcMv5IxQ1xh8B9VntSAleKyaohfH8UXVITGe2J0HFlG8uRsapoFIoJkYsQCANihhGpb+30KWN4\n",
       "UDLH33zEc7GDNalXz6ECkRWeSbO24ybpy4rYJaUsKXSHYair07ak32s4N8od6h/Ahw70ZEV+Z4Nc\n",
       "L6btUdFBehutxoExmRJgTVXXdNGqlgORkq6uEzCi/xePDn2wJ1xEhwHAgnjCktwixQpdHxA5hSJO\n",
       "TMJ7ayQxl/wYfI2I/2NGZWOo6VZ4fRbAXQwU1f4EV3hVsui+TFgZHYyQ56eyCfNsIheD5IfvIS9k\n",
       "XtGU6CGU5LWN7vEG54Nm68MHQg1xBEOJkY/dRlVzZJf6PJZLCtZEXeViE1bkG58EGGavI/UTg0Kk\n",
       "lBbjQxbiH56Qc4jRjcH5QlKG+9TYcSnyxnqEeSbZ+k06Ik3F3XCimw9ZrY0u+LR6fy6t+0kFOenq\n",
       "xxLjqEz+QMoon3pgTtkHsxx4ImJXi1Gsila/jxXstqyj1xuXBawD+O9pi/5aaXMMBgv0SqfC6OCO\n",
       "kTDtg0N+tfNewUF46rUYnc/4pAOUJVqEWAeJcA9jEw/SF7zONXR/pDA9JgXqw84iYZfBW1Qhl/Kd\n",
       "FmvUl/rfNH0r6jbOOpe9qTtQEmrqlIE3zCQFbViXICoISd5O14eEEUds1mEsaJvGVayZYlwGcye4\n",
       "igxaaDc1zUG4Qv4e0XiPvwLgTxY3hTE5AxYinyFR1M8eFmz7pEidIUDoAzKgk2xrmQCsSR9JEWSy\n",
       "ylX4vacqKtPZhndYJy8dSdNJkJSiiQsNWkU/S4Q/qFAxBP/YXSLsNw81IJEGvTWJXqDJRAFFToDY\n",
       "OCR9UpgUlotbDM3wl6JX4/HANlLv/bHeoa1O8jkOo/5uXqdsHfTOUAim1XzOV6zzULzQwA7ZZKvy\n",
       "uhViFwTAh8D1NoqVUjWcnZCiWTDGQDyoKU87bNzXbLDYhdOJ1DBh1Tb7qaAc0gN1vlH7je7OPCSD\n",
       "t7GZpu/Goayvsah3zqC70CjL+zewarmqzzgDA1jSk1iqCPykgJ1ly0hHG3aFK5P97KV8uVuGTYPR\n",
       "1xKyKRjEZb2TtjkQ/IoJpA1q8pUfKqeTKanqNUB5gitX3JqizWr7O6v7IrWHOjbrqHJhqqkwOnWW\n",
       "Nskp6CCKODUKhRjZp5dQbP93uPII3LsjLK48l9DPU8YU80ELGLPqMV5Yk4EAAABpQZ6GRRUsEP8D\n",
       "3d4+AAC6TgvJuYp0sVKj20s1hs3O798ArdSpKpwxA/MBnDPIryz47Lgsk7QttPhw6mdKkpIxa/im\n",
       "XRn+jsdixAMk0F0DW+hcP1/AdXq+J1ZnLTmdgA0c9aCwAqO8DDahAAAAkwGepXRD/wZS4whOAC3U\n",
       "RK8TcKGb+ZeJ55Wldig3K/tXoLEjj/Ke5SU3uM5Gzj3s1s2zN48BFljsJ6p/OzUFjDE/UXp6ds5c\n",
       "dFOlpE7JSo39VmrXrv5kXq5fda7Px+3ExFZEBkTIfurLbaCeNg9nKiHnuL1iK9oc3kIpN/efCQEQ\n",
       "CWNRcZTX7AmYVbl136EWh4AsoQAAAI0BnqdqQ/8GSQ/CvQAllESvE3Chm/mXieeVpXYoNyyPS/Oc\n",
       "f5T3KSm9yAjbwliiZgEmYszyO/iCwRBpT2RGaKEWVUm6cPyW/FEH0uyi8vxPbP1GqauyLWdl/Nbq\n",
       "W0REuwY3hzbv5havOUf01C9DURCspCtBBb7s/3wYUUGztgzz3abc3oPL2HF8wsgADAgAAAL7QZqs\n",
       "SahBbJlMCCn//taOf2jt+sAFbOpFliUxXfPx3fACqhRN0FxPiWEB4qVt4xt6+VbgerbfbhPL4mWs\n",
       "0bWp6B0hDyPd34OfPwCF7BAVaLrrwnnnRqrIHiyBMsb56ePANR9CnBdL9MKxCBkamI2+dshvJntr\n",
       "bsLQNHXUAZONLTw1KLHv5SFF8RwlZZ6sfg+SJRyM3ozIvbNTinJ4mLLpNJnNSqSl9Ud1X8XOPtwy\n",
       "trYB0Hb0cvG0jX1QbXIrLkzRTp29NtcwIC+buCmPFNeu54gby8nSOnupdJho4JT/M/RuYPBxCbJf\n",
       "CSPJQzcKd0p/hcWqX8Kg7tTnYbK5Evgn9Dt/TSU7n7oCJ5ITW1Cf8OGtCT/772xFcVZVksEnsUVK\n",
       "SKdsuECujsKxVkcLkwDNNvlcGmMtqYMShJfYGwr0JzuvwibhdO0F7shd7KkQLMS+x0y6YO+4HDUo\n",
       "ZHDd0QqDMYNyZI5bIM+Iwq2aFlQdiouTvQU5j47l4APZJhK4RW9SgzRvhS1djn8wrSPJUVvfD1Qa\n",
       "PQj80q4F4aRhyeP7Uq4RZDpOCA2hs2yQZkmplafHUTODuytmTEPBZ3eNgUc33Y6B/YD8r2ZRmzpv\n",
       "4z5+/ZbRJRsYtFbvbAp3aRRIHL/uBiQkuSWlAGffublbw3oon88EbDyuPfq31P5esZQ9xPU2k4zS\n",
       "gQDcIn0O4Dw5opmFa38OaNOuqkkxGEE9jPz9aVSb/uumg8SvXpq5HIcnOBCgPj6FMlZ5yftzyzyM\n",
       "0FqBACMc+9M+hUlbr81z+9G3W6Zeyyn+XqBTIYW7AUbc5vepTiFQbIeo4ecBoekQFE6TWE9elw7G\n",
       "H8Pga2TI7TnTwmwI4bgOxxomaci7y+xyzj/+NtFjBoQfW60ar81WXWBprQml+HhE/6Y9jvfKW13P\n",
       "tHPd4FB5oNfHklSgeb0A3q7AFjE/gGouP8/kt6zNgJ3B29JQCEDA9ikGM62jJvYU6uZiZWCMtfHB\n",
       "gUVtsLT4yVSKlsg9ulpf/lpHZgAAAItBnspFFSwQ/wPd3j4AALo8d0suQE/+9+VBIlt3YJLaTpvx\n",
       "thVTcZfdF6cH9ErNl92krg3120rheB2w6SpFx/zsH8bjHiLlqgfffusro7KcREAo3VlfER8gD+RN\n",
       "K8npgbYlpED2rOKSkruGpCilhweZGSXXMdOqHIThsyiygjbegGrQXRCoEbn62BUxAAAAbgGe6XRD\n",
       "/wZS4whOAC3URK8TcKGb+ZeJ55Wldig3K/tXoCQjJDBPagZYYmwfi+Ol5eOu9SgeuqdbMmHVgnOl\n",
       "8PVPzPu1J2lhNYHYNCSHLYHn/mQ/0aLVIy/CJnKuHQ6bmlm/WzDAJqLkQyLFgK2AAAAAbAGe62pD\n",
       "/wZJD8K9ACWURK8TcKGb+ZeJ55Wldig3LI9L8iQwT2hADsnvGwS7+gvHX1onIE7oDBMvfz8XSaQk\n",
       "Vh/ZDSdpYTc7jzMe9o9Af+5zP0NQ6F047xqoYaQPXvGdsIzBHDy4nzGbEEBLwAAAAuZBmvBJqEFs\n",
       "mUwIKf/+1o/ilC95fxigGCHsQ/zhg+Qw8d1bWO4f0jpJ7fAQ60PMFfFoUxnMsZ3OoAIjYzvFzYTG\n",
       "liDa/htl/WOXEw3teEzVP1oeLAP+3+rIQYpTfeG6ipr56UfZ29QgZEY38zD+ngP/nr6gmFLXlc4/\n",
       "sfJUjLds42t/jrfkx2lhXmOmqBQ48U+0eV/4y9v8H6/r241Ere188PNhHNW0uD4pRypn28QY4AAR\n",
       "oA5hBvT/l639wRMMW4fKhgkCrJ5kX0Du2+5WTIX2EGNIBUWM0FRCVF0Qz1JpFdcGNh9bayjTJepE\n",
       "4xI8TCZ2Qnlh9MjZyJSGkzIDUwSP9DnQzxKPUx+MOgZmVU413a0tEXcGH13q1IAY67F/0GlfOcnV\n",
       "FuGlFCGFfmPjZ4hDZRH6YcBS6jJ1Xn83kXaXZkILVCgXiBvqCmib8s8FrVsUXr2ssy9MydYcCY0R\n",
       "V7uRdmkHXh1p0YXsPp3qzGp/D/k/+gz62k/23ilmnY0ctIoGVeWtuTdwbHAZJCnsNzS/bIsCwxdv\n",
       "eSiV+l7CyaK//cD7Fhrz584tmO9T2TRNmMh/kjOCJoGR10yCKbP5IPxGLPjXNZZdNu9HCCCO9vpS\n",
       "L1eURWdMaXcPYPgTU0ylb+bHR+5HpvpUFAcXN5DCCwT/y4ANhdKQbczuT+6wg+JS3fGgGffX8hpY\n",
       "d4WXsF/M5s7/GA1Nc0lqg26KTBwX0tQ23GTLsB6wRViv7Z4U6kAh2KOpo/PeKim4pnLWBaaL08Rh\n",
       "rtzqJbNdVeWozjOLuJhZYx2zs66fzMqJuJ8ftWMJ/hU8qM+k7aTDZ8lOjwktyqdL8bMR/S5F0xrn\n",
       "EemT1qU92JURcUURyRSnFI5zvtzVMWFkyI15JFFDplS1nuePrWO/HRBORKXiPH7juuRau4rTEfPU\n",
       "qH7qrzSPPVVJiDTcf1VU7/FRA324tVCHmFn8knJdVa9I3I2ZXHqL+/VK6iwbXdqiTjPhAAAAnEGf\n",
       "DkUVLBD/BK/NGLwV6UQaQANLOQmIZQOp27P8V6W7t0aCN5LsfL79GscgPYGPRrZPodLi0l4WsLEc\n",
       "97PlizC775mF5UpDP9Fiyx1yWfVZjFvL6ReUEJXUZdsXA+rewX+g60SpNgs0jUNfJb2XChR8ESLM\n",
       "7LhECiFrOhFbkc8zwXJxTEnBc6IbD6R98nWYS8DizUp0s/fsEYNEwQAAAGMBny10Q/8GUuMITgAt\n",
       "1ESvE3Chm/mXieeVpXYoNyyQt0uP8p7lJTe4zkbOPezWzbM3jwEWWOwnqn87NQWMMT9Renp2zlxy\n",
       "1X0fUTMJH+51b6RBSYAav4LODyvYVOM0oJOiIuEAAABgAZ8vakP/B44zyjaMbAC3URK8TcKGb+Ze\n",
       "J55Wldig3LKFEATnOB0gjY1tU8N0BUud9Axef6V5+oNXpsDL15DEqKM+qAVYkLvM30pFd2hTuUlW\n",
       "An+scVSXoUI8xc5gIFfAAAACPUGbNEmoQWyZTAgp//7WjmwXiZv1gAiIIjTy5+oAgg7wdOAKPEPb\n",
       "sAAE0j0h/jumwTnZIQciNOBuKc95rvGIaIgsFE1U92JEH/Z9asdr84ove17Y+fGFrmsHnnRqrR2U\n",
       "48f9lGE1HB5Meb5j/38NuAm+OAIrn3ZQNCqiaVuW/AxDrbtgnfGmcDk4ozuO2HogoUJf1PEKbkHa\n",
       "vl6jjmjc4DBGLXVoVTyZ1/qlMLNctY8/gcjYtTOOfMbEMj71xFxxElvyJMALLFD2q+6fWo57jDb5\n",
       "dg3T7thHw3svmSxGhZm94T4/iGzjYhnLiIkVRysaKqg+TCobQtB8D2nkfvBawOD9/6lx3WqX2+7R\n",
       "wEXxcalQnLhE1NjoF9axOqSfc780w5oB+0963qajPDCS5FVegdgpr4RLEj9QvtdxxSkxeGi1vBHu\n",
       "a4dJ9RaiFgrD07Q3FgXtFr0Fx7oH/Wbx9x1VimmNYQ2prgT0R+QIXMZJO5wdf143OkbBJ2eA4ca6\n",
       "D+a8IdfVCWqZADmkfFVVq+AQ94YaPdWjc2CU8n+ED1HrtDXVYxawIJaQNQIkpfwuYrNEtOJ6PQC/\n",
       "ecw75TQOgev9rRaaJjF9fUVADmQON3kSqSstufsA0WuxPoxC2K+iGZDQ3dsgRB+1zRz+WkusCRQR\n",
       "URnXONWPYtjPjLPd5fDtn/ZSHRO52A8LgIRt+yw2dv4qMft0JrXPbq1xvwFad4jufgYiJZ6g+Gy6\n",
       "nYxOh8KXvRCht+dBtUtvi3qxbPZCwAAAAGdBn1JFFSwQ/wQP/gAA43z4GrpuDr8/UW/wDnPuwR7c\n",
       "gTTTiV0OzMuQoCwljaSgDqI0ocNAxmZr8bIK/UG48lVfIEPl19ffffy+6P3iSDPsxs8J3bDkbxpe\n",
       "j8OWPcENEdcAR2poQGrBAAAAXgGfcXRD/wZS4whOAC3URK8TcKGb+ZeJ55Wldig3LI/46XnA6Gw6\n",
       "hX49jcUBs/uOvWxp7zmQ4u6Cq84ujUZbNl9yjITtLAwebXNH1Q3RJf4oB0Jdzl6YKawMsGQdi2gA\n",
       "AABbAZ9zakP/BkkPwr0AJZRErxNwoZv5l4nnlaV2KDcskKleR/lPcpKb3GcjZx72a2bZm8eAiyx2\n",
       "E9U/nZqCxhifqL09O2cuOWsOj6ACIC31ZOfTT54TC6rSdYgBOwAAAfdBm3hJqEFsmUwIKf/+1o5c\n",
       "OsKp3/rABXFMicVd92WuR1yxNLobM8BfAGo0eZK4XcbgA+6CpuPXCscUyccnOT13jlFVXYdBMqQc\n",
       "9kqg9vOAEmLgwzwCfGizjRvyLXzzY1VrhlbEY6wCyBF2NqdXItPseIvFOomZUvxwsCI77jkzBfEs\n",
       "avNNgRMedMyN1/YKq0Suu6mjeGdZ7pouJnZHxRD8DBXvaYpsKBsFPBLOoYhHhGSxq3/rzIvdwLqS\n",
       "rbStLPhVxk9C5VB3QOnasw/rVJtvJaBoEPz+54l9XpKnVI7G0rO/27QpBlea0AZk4RWwZ5He6u4q\n",
       "AjWh9iYQMBK9N4/oNM5mpOke5SeQ54xLEosb5oQl/PmUOTYzruuJ1KH3RN+xdsH4lrcTDrbrsDxK\n",
       "9jjWsevwg0KqhojQVkK72mLAOTBEikXg36yfcOw9Ugp89Han3FKKdJUWyigakKbv/LM5rhkpUVw0\n",
       "JGOfSVOeCkyUFzUPhUaMiucOFtQy35FrO2e7nwO2SzPZEcYMVaXB5PotZlwiYg4PryvHIESit1U8\n",
       "5HR/YcaXKlOe6CDs/fyz8Sn4YLqDcJjMobQIcA5yCu4FL2pAkX+KwwJqjcRPGMN0TbHIS29wGozl\n",
       "nJK+YI8ak4Z2O4TG7tx9bgn1KCid2ObWuEdF00Q4EQAAAHdBn5ZFFSwQ/wPbzTLe8KIASTaCKGV5\n",
       "8zpNFdgzkz8QktVBBmntBaWkvT7Tmr7U7W2TMbeDvA1mcHLTt+0PnTCYKGWMvK253VOLu3nNlxY/\n",
       "eraBLUe3HtsDzIfHHQ6sqDpzhJU7cRRTSP9yqhXHlctODEG+0GGC4gAAAF4Bn7V0Q/8Gl1egBLKI\n",
       "ld9dA9oW2rI96QFd+EC+MIrDGGxgzZT8LFcxG/g9M4kOl/T2IEZWX8rVzMpfBjOS6rGuHr8UcQOc\n",
       "ytu8HAwj30Kib/xP314RoAittkYTeC2hAAAAXwGft2pD/wZJD8K9ACWURK8TcKGb+ZeJ55Wldig3\n",
       "LJCpSYME/XT/W1Tw3QFS530DF5/pXn6g1emwMvXkMSooz6oBViQu8zfSkV3nFo9w1Aq/8Tx7I/pg\n",
       "lxsFM8zpYAZlAAAB4UGbvEmoQWyZTAgp//7Wjmjpxf/xQBHoZE4d9or7YtjJhmY0z8AUH5AFT6c9\n",
       "KmCLJzcNRtUfqoIasbUC3ynCPZOKBgnS7nq92R3mDJkt/97ESNdJ+unDB5GOoOEqsKDIEymMBHFD\n",
       "z2EJrpNLvT8jTQ4VZNI6Jg8rpWZqIQWbLWK7P8XdZCTXaU8D/u0MfoVMVny8HsmBhsmmUovUfqcA\n",
       "4pbl7xX/ud5MTKzmmwba0+vOZcRjACnJ2MrIxX90jO1DHVfQe+p/eMzgsSl3eBsyj1iBOXujzOBD\n",
       "/Lr0PQmEKDxj0AmYVyUYMDg+dl6rprrQ4pzBLP8VPCVM7ckFwnii3BGRZrowJgbQW9waoRmYLYyb\n",
       "3p2p3jEfCC5JY/V3WCXSsKHFezDBt2g2SzrndASUIPVqFh/XZjHZMaJANNOLUPvGFlmU6vTca0iU\n",
       "idry82ilXA6xA7Kdj/iUicZMAcqQnoHK0SPKtcu2a9ODlWxv2JUh2ox7g5eqbAig7Q5fVj6Bn07l\n",
       "rJ/H/mNxyKD5CtmcqLdLSYT+aXPA/Hopt6/AOUQs4bVaQgvtO0nzRlC1dsNiAkNoenochKpF2GIs\n",
       "MJoGJi4XVzlH0AtETzx21r6ZwoLvz+6ULRQk11QpzWruj1FIpiwAAABlQZ/aRRUsEP8D3d4+AAC6\n",
       "UUncr4kyHWtQmxrSkOnu/e/+mGibIMiNSxJhK3PBEdxwn+GtK11Xf/gFWE74b3r+KZdGf6Oudh5m\n",
       "MuPxICPMSgw+VAgJ+0iKH0iohzS2nA3BSFkIJOEAAABdAZ/5dEP/BlLjCE4ALdRErxNwoZv5l4nn\n",
       "laV2KDcr+1egsSOP8p7lJTe4zkbOPezWzbM3jwEWWOwnqn87NQWMMT9Renp2zlx0U6WkTslKjf1W\n",
       "aqBiyH84n9Bz2GBAAAAAYwGf+2pD/wZJD8K9ACWURK8TcKGb+ZeJ55Wldig3LI9L8iQwT2oGWGJs\n",
       "H4vjpeXjrvUoHrqnWzJh1YJzpfD1T8z7tSdpYTV/2og+l2UXl+rLP2QPWqandBX5UJ/t0SyFY/AB\n",
       "JwAAAw5Bm+BJqEFsmUwIKf/+1o5/aO36wAVs7BXZVI+0g/gxaNAB6V24BC1hRNDSHxaqHhGHCouz\n",
       "3xZD8T6fr8JNivkjli2uMyg/mRV9frllZfMURpTLw+HmqsgeJxCX3qMGLXZJj9MO4otOO6vg/pgj\n",
       "PKRaBs/w9fnKm3NfSzR3jVBJjmvo+LyGAKHv1FalBmowr7GgEzTJtp32w2lpRqCb459/vIkIUFy4\n",
       "q63w2pU+RqfCbPFwIF8Ipsmw8cK0Y3PT5eIaIdzKkKVPpCJ5k1ql6g5QPcG5zPKJoF0xUFMzoaDs\n",
       "00U3oTYH2I2xCPbW0P8Bz6mEx8x6CcvzWiR/4c0Ziatd+2sOTqzBMe6ukSHqgzw0Oc61XjdlJzeK\n",
       "xswD/6PDHBseDVWoWXnjN/pR3uu3xxqn08dbOCIhGuTtw7CC7M11uqjs5JOuHkR9WApBPl42VIW1\n",
       "2MlWlDZZClk7Nzv48/MsmhatZ1G+RNmnKPAzNHASYiJPRVbGGe930ZfyFdy81vGMIKPdyACHL8Ns\n",
       "MnGY4oJ/k3hPG06rnLqafeRG04ACIZohmamV4QcLZAEyJ9kqaZeL0HLpw0roJerq8CRVo8li3y1z\n",
       "lm+1ATnqpHIlSuQC8mD60rG51TQk5NpLiO2uAViIqSjLx1UWr92T4rYfQ1B+IUsSpshmJhazTo/J\n",
       "1CHxtFTon4fUfkvMr+UvWRJqVLTDwkKHwk8n6MIoWnvF0U730TXoXMfxIaiKiOKL+YOnF1CtFapG\n",
       "LgROGgY3xsNzmwcHJpdmr6zqzkEF/AyirPXpy/0Wirt0C8HS6Ich9MQsoS+ijEMcBs1hBFShLHbI\n",
       "oWtH+eD31d1iGfpM9NL/y/Twcx0fH2/I5/61waERtFu7HW0cV6iO0Vz7f8j34mR1XSsYv4ddT1pq\n",
       "kmVdWTN+ahUKq+drEXIiBUUW6cheMtp/sXXsOrLznVNok0iKTbAEZjdQH6y8v4d/7EhUEerBMrCj\n",
       "baNzgl09x92RFqkwvRgB0KQZ5HAl+kKr1RQKiGnQK7/niCaZt92ukdbv5AzZhwAAAHtBnh5FFSwQ\n",
       "/wPL0Oh7AAJZR8lSEYp7lsgDOZ+epBBcLHXa1MbBwSB0ZfvSZrsqGcVz1aUaPOfiVGdhP2vdpXvD\n",
       "RwJSDNZD0y61/0dMflOHYhZxVjWq93UPk1qQRgn/69jVZ/SxPAtgH8amIZwZ249aOd4vdIxi+j/s\n",
       "LgwAAAB0AZ49dEP/BlLjCE4ALdRErxNwoZv5l4nnlaV2KDcsj/jpecDobKiYYmwfi+Ol5eOu9Sge\n",
       "uqdbMmHVgnOl8PVPzPu1J2lhNX/XGdsDQokv8UA5f/2MfEIcox1Kjhyb5BVAs2Sw3FAaMffpKB9q\n",
       "kPPuEULSSSAAAACjAZ4/akP/BkkPwr0AJZRErxNwoZv5l4nnlaV2KDcsj3wEL8kDh+Cm9xnI2ce9\n",
       "mtm2ZvHgIssdhPVP52agsYYn6i9PTtnLjlsDu17HSA/9WWKf+rRqOGvH5IVsu1CNAUTDbtNLYodF\n",
       "Y3tP9NlIoeE/lYZVC/YRvJT0SL3rggVRQivgr3kwBDXN8xts7T8Ys4VQqjxdhNdXE5zBQvTzK9zw\n",
       "AYZHwQAABQdBmiRJqEFsmUwIKf/+1pBdB/4b9P6gFqcvnDA6p/uOB6OMm6wYxtZWoFnsGm8QwWCW\n",
       "69qSRUiSFNwm11/CBqmlMiLtlwAsphcmSWIoQAAuPoZE8kfJFLrUF3zcbIeWBPblcjCvKXv2tbOR\n",
       "t4yNB3PCCHoxdZLpywYJVeX3kP5V+lXHh34QqH2/n8qXfm7CiXamcV42kTWVwiJQphw+K3kxkLwW\n",
       "+3Js3i6/rhS9hIahyz4GcRVI9HcBbOJynn44T5O0SL4fEOzHR7VJgJx/6Pu+VddQ5jCc4/YS2waT\n",
       "Ig5j++J+J3g/qlxSj5N7uI7i8ksmytUIcCxvb1SDuLV4zzGMGjUrnPMPTyPg+/rF1hFLoAUyzUwT\n",
       "H+rO7temYXdKA+68biCQWtYDsctpyAc6IDvxG5M1CLgWlmef7O7UppsD0uIBNaehPgPVzzsPRafY\n",
       "C11UVoSQ1lFByul22lznneUk/tc4wwRAm5nIcvCd6650ZQGGESVNUkaFzgwmtmWxNOUltVnHT1OF\n",
       "1rWyvVpno/LaHOwNiWdBRE+64kFaNiZ+1DaalZSyZoQCvqkoHwx5sDsnOslM4ARDbbitle09RfAu\n",
       "bLlJe5Lc9Vo92IDl/nQixIrdOUTUsq5LNIKiePjLwhkcbJ08NDq4CHScJiLsC1xCP8sCpgQbRLV7\n",
       "pNny4Bxn+bgCxdXEXncbuwEswQtLwKYFncQbjPTyWlBpiRIWVXFKXcJTye7Qhp9+DunpjYKRM3y0\n",
       "sa5hikRXfKAo1hA95oL39yKAuKVukPzX+a28Xu+ceAa4TOOiUUXxoSZKla1uo8tqi3IQIDteWvj2\n",
       "aKoeaIktIqerOPZepuL3PJ18LfGCqCEwCBFSl95i3bI3jsyAiTjEVtHnR1w7yMkImt7j3ZbBAyfB\n",
       "R3ZBPHclR6MhnyPzvLeMURyIN2DrL57v3/2K8uMs2hhfHiJ+z9ZrGu+qKrhNqwAi8RckeVSuELID\n",
       "LPT+KIgnvpADp1WPyQFoUOv26meO8G8meoRaOL5i9RW/kpQp8y7RDZYCckTLvxlUjF8m4e9jCp6E\n",
       "dz7qCUF0qV4JnVqxHupzv1FOKvej2AVcXLB2EdAveF/9j6gFqqj0/8AMKLwgXqRRaMAi39fZzebF\n",
       "s7CCmCl2ayfDFXiFuwPO2Ka2kn+Tkz5cC+zozLY78itDhYvJe7owg4W0ppCW1jpEsmHBAtrBA9Xv\n",
       "Eoz+18K+vE9jg0q5wIau4rVQBzT84Jva32sU32MNRnhV3rTiPjiJz8MgN5TKfD0Qc8lnhzSpijdS\n",
       "gaAtw+g5J0FCq9myyowHek2ixTUmm31wDnmVCtPLbgF8nOVbGyxQMB7hUeT3mRlt4AQsDy4GwD6W\n",
       "1EavNBS+7On2BdwG3cVWzrTGgBPAqTG99nvqCI4FC1T+1p/0FXj7KeoW6BlCMUhdOwYNKZBivQTB\n",
       "aoSPCoxC6rACuArggRzxqdxV+Ccrzht16mOysMSYAdzvB4ojQVyv+UzDwjAStcvG5DEsDdPTXqVm\n",
       "sDV67Nl9ko8qL7JzedvUeelhKJMq0G4LC4aGwqgPefcCKJ/ogaE3JcDpfCnGxQBoG6s8vOI6MIsq\n",
       "q+yM3O9qk91wgWhcT1BbkLFFB7Q9eMfSQyYKT43pyvoOz6Y6FO+7osbD0ZFFiU5bIYgZam7YT1pZ\n",
       "O9FN4hWjYB1VXbKxNeBi/QcduK5n8kVogwXkEQYY2oQ7XV0gXAcBo44AAABZQZ5CRRUsEP8Er80Y\n",
       "vBXlYPza3YIACBO5zmxqGvWE8fD8pUo4XGwxOlwqLq3a6bMc3H8+wjwL59f5nSCyAP/s+lfvhr1S\n",
       "4NTGGZbQfgbMh0qw/V8r1KnudIEAAACFAZ5hdEP/BlLjCE4ALdRErxNwoZv5l4nnlaV2KDcskLcc\n",
       "hgn66f62qeG6AqXO+gYvP9K8/UGr02Bl68hiVFGfVAKsSF3mb6Uiu8032v3/Ej/if3bw9LaAMWZX\n",
       "WqMEFdfGU5QiFYHBbOgMaPa0dCPC8QkQOrhydNBGFR9sEv9qqD94OX2YTAAAAIABnmNqQ/8HjjQ9\n",
       "acQASyiJXfXQPPkUDsZkQiKcLZhHqNamWZpP8uFwDmhLU+mVz5KVRxXNUVewxoxYOi86KM8XD/9l\n",
       "TbOheZW01yQ2wSDI55+P+eMOfLqih8LosxfBTLlPkIdvv5vxhnNidtdg7U2U1eGVVCj1EYd0kHZj\n",
       "od5NwQAABD5BmmhJqEFsmUwIKf/+1o5sF4mb9YAIiCI08ufpIxSbs5GAMdCPbsLkCAyWF/0fOoJX\n",
       "vWgJ6O3bdfTELC1JoxlfpuM+adThdOKl3sJNT4NDBz8QwNGpDq7GOoOEqpZTh+wrqfkN4gD4qbQQ\n",
       "KhuCQopTSZPU+MF518YPF94epKBKVz5FxK2Ogd8w8uljBDPo4MHowhv4S6fAneEUpVQPxVu8ex57\n",
       "kq2eynGQM7vnEwCOxi2jK9cvZ+QcRldpDLZlzyMb3OXO8Dc2+KyYGTJlz48xN86tjYUQfyLj7PtX\n",
       "0k22Eu+llE0BFYvzu0kpLKRJTm4oNSTd9ePZvz3PDjauYVfg5rE1/WGr5cVuJoIwGAYSB/LVV2Um\n",
       "InyjN/ccUH6kLmU94Oeqbu+T64+JAqZOBRmyYvqH+tXXtY7a+xStJlYifa0x6ocZVG5F22/K8wtg\n",
       "+PLWNBPdgKdA78XIxV1pz3FUJO3obqlmgBYb+QYDNOcZIy6B74nC/IcFjWAHDhtFbSxMpi93guvt\n",
       "lTdXeXxtBMoc8GRJQdOF6TTrhv49g+zEEzPiiVD94luSyN7b8VUh5k3MPrYfE5VauEOkAOgLrCFz\n",
       "OUE22vjJw4Nf7RWsh9XMtur0CF3Yv/pkeedtFzcqkOuZEFa2c5eyEIISP6SeZ6+L99MkhC09Kcci\n",
       "SCBQa6GVxlzZWpAXaX6WQ6agbBReW3yMAK2AbDbo2CWnBxVdSRQhXpsxvAU84ozchOdtaiw4aM9s\n",
       "eU47UaUNwteyhYKBoTkqyfMfL17/k08vybbjNlFITvBSgT29f73PS7Pr4KMmqcPhboOdDKkzzpeo\n",
       "ecs11yXtRPDxvmHFzPYyMXHT9M63acTFhZtl49qUjpV4O4hvvOQ0EJ6HtvLFi/1hwTYjlP/78Oi1\n",
       "BhMejAMaZzy/XQOPb5CijvmpVGHA++pzcKRv6eQfPGP1nxIwMeF7psE0SOHFZUkKOwncTRqB3jGv\n",
       "L5WuPAyLozcdcCTqTLbcoAF0yIP2p8UguSZDMFfQak6S0Q3lbW3OxlWFRloP+LQdrpJvJTx8uOXQ\n",
       "ut0PSQLGbM7CwDIv5hMHcJJMt/MdOm944nQVaTS4we1GD/VKHstT3+Z1GGE2u0GJpSmjWNVX4l46\n",
       "qr6jyuZXvy4G+2pza4Q6udBSqWcksmPnSN8InV2mdPMFe2QofBFF0HpoijFrxs039TUphFZ9gHJl\n",
       "+RzCwJuI74iSPkLzgResldNLtle58K9TTbnXLVjBwcf3hb1GducFmmBDARCb6va2IPQ29bjYwLJ+\n",
       "FrdsLnCe9ghIzcIryUiu/GCgXoJV0UYbF/L7GoYAG9sOcFMvHu8Ka79S4auDUJFeADvLnYNiEYip\n",
       "EgLZBneo3i0euC3S30EWVt1ncDaTV+xRElLVnEI8sO/YE8EcByDbn+1cjCKF6nWrqp5N+rkfeWmQ\n",
       "rBB0C83rxgCgJC0AAADSQZ6GRRUsEP8Dy82gewAC2Tz6Q0otQ9drewlOsYzjzXNnBpocrvpu6z/Q\n",
       "7RD1CNGlqb8lbAlJOvAtVPrIgpNMjcNs/cRSzTml14wBBElW680OZrhAyhUdtYRRePPnPnh0/zNb\n",
       "0ImZaV4dMbcaud34vTK9kWIk8b+ox5+OtwuXP/pJY9h6uWsD9AzAzBxuH0EXGm74IUGJbV057GVN\n",
       "i56MtxCMReN0+Hj5tEBnXXMAFM7zFsc7djma0Wf2EnbhwKFNwNmHaa0FK/Oxp1RjJBrkveKBAAAA\n",
       "dAGepXRD/wZS4whOAC3URK8TcKGb+ZeJ55Wldig3LI/46XnA6Gw6hX49jcUBs/uOvWxp7zmQ4u6C\n",
       "q84ujUZbNl9yjITtLAwebXNH05/58l9zsTNABRMM6yjU4hgGkKm+d5MUT5tL3JBD1pvjbJ9awQcm\n",
       "/V6BAAAAaAGep2pD/wZJD8K9ACWURK8TcKGb+ZeJ55Wldig3LI9L85x/lPcpKsse9GeEsUTMAZe1\n",
       "EkOwUiBgOQFlWbmWbaoXlo7HiK34og+l2UXl+J7ZnB0IYvjSpIiHTq19sncT0KY/ny/gQMCAAAAD\n",
       "mEGarEmoQWyZTAgp//7WjlxjWOUT/90AI+3XzhbPuy1yOuWJpdDZnedgDRrdmrLmb9xFzhvW3vCT\n",
       "t+oH+HEfUL21AqeJcphCUptJZKc+LXR2sn34qzZckqwIFzpmOoOEq7Pipx/LFEv4v+/HnU6yTi9K\n",
       "09iH0sFDTZqh5rep4DsxUvd53w17FDcQiP/XJL7Io9o2S3dPd7ex0EnZocOMz6CO0O0Aq1d57jj/\n",
       "Ugkk1TLBxaJBosxkBJC8wisdFNpO+LgFPSBVBsC6ItlovQvV2YpLPv6rgIv6s9LZScpp31nzyHst\n",
       "4eC4Y6sxVX+G9ID9b9//RDOUIwTHvyPk++aEl1iWc/2D/SSqFRDU0hkeLZy2GaCOtCoPPlgsNs6e\n",
       "qBFZ6ijLfvf2eZUFR+n9f/2vLVobmSUCSxJ7tf+4eiS7mFsgrSSDfNUxI71QMDLflTYVbgdqrGfD\n",
       "nTwVK71Eo6KTPMPl74O3LnTPfaROr+s3PiHfmQ7PfabJq+C2byFlmerUYqINWAigD2jdntN0kxWM\n",
       "vow4d1IS7mccgAspHGK1Z+ufn9mH8QJooqyE7L0e6SBkT4SAp0Y2PMyGVvtHcfCO/HIn/dZB7f5T\n",
       "aODVHVHdhen15oZqGoTDgkhn+uNQuJvC6vY4Iky2vMwMD2YJeumeNESN1cwpoj6uRt2PK9lFAcg2\n",
       "vO0lJno0jWlQF+kB2DnMZWn88YEHsgBdNuCPA4QF5EmQACA3GTQG+cIatZt0LLGpYQmLVwWwZIm1\n",
       "CD6fK1x/eUpWrMq9BAXsQtG/FLfIHsZ/4C2gQpVrQOwqRGLvEgifqL1/kQmBOTXRcs2BgUSkeMtK\n",
       "eHdGJNHG0rSRHQnDtS1jhPm+rSqhum0a2CQKPiZsv1dPhKybYz9B+/c/JkJw5T/qcq9lN1UTLkMO\n",
       "NhjDWIg+QcZ8+NZWLycTNsF9mxfr3TeUF15R6PxbL9NS51FCrpfFpe+vIc5tpGrAZlPkhYFaR/Qe\n",
       "827pQl1/YhzK5MDcvj/Tno34H12XfQX9dv0PnsEOBVC+/vRLiPU1L81yoJsr59ogzs34oSRBednN\n",
       "npFnz6g/145ADw7DcvuBrUlgORme3P/uDkGrDkbS0d8FeNxCRwrpKji5rYySXaTUg07Qo6TdHlVe\n",
       "DtCF+kfqTJzyuJ+rsBGYEQ9kwPzdq3EK9ARrha88Gq4v6HEwytA+po5I5vDBTGyIKs13f4J9BJpo\n",
       "Kx9u3OEEIiz2AAAAaUGeykUVLBD/A9vNMgfeicHzagAzry9v+H+7gnyzQoC/JKNWxf35b7Rz+PsX\n",
       "/ZRDNx2yOkydDxnxy65PtDY/o7tNSXFg21gq6IYvTXq9y3A2LxgZcB2ZERjjbp8LNc0UMYbBFEqr\n",
       "BPVjUQAAAIABnul0Q/8Gl1egBLKIld9dA9oW2rI96QFd+EC+MIrC8oewj/Ke5SU3uHT6ZvGEtWM6\n",
       "DISaHQpMkPbRgisp0yv9uKpN04NQAnA8H1G8nwX1ZvR8LSaI85ms/XN/YewhrcgcTI1fzEslXS5v\n",
       "7bTI40ySMd8lbhi5OcB189AOJ8JVQAAAAGsBnutqQ/8GSQ/CvQAllESvE3ChhHtPcFnz0knGVL3Y\n",
       "991fkgcPwU3uM5Gzj3s1s2zN48BFljsJ6p/OzUFjDE/UXp6ds5cctYdH0AEQFvqyc5/RaQDUQYjX\n",
       "VoDAYWYgliVQykbpcvQBhpFl3AAABJRBmvBJqEFsmUwIKf/+1o5o6cX/8UAR6F7hMiklSML1OUjU\n",
       "YfRl+AHeLVnsdDgBlLlnmJHYiT+Z9rgR6VDzj+zkYkTfNk73/BFcbYf7gJfZEFmYFjG008eedGqs\n",
       "qufYjGy+u2oFycw9Tufkb7w1p9+1iHFawPoskUYRy+o/KayoedeU5umtfoaGxBywuoS37boH16o+\n",
       "gB5nKjFP30NE1c0R9jiTWJTxiBs63BkSf+LV7KdodliqxJW16p28YU4Tio2CgZB/4g/v5pgS/htb\n",
       "ZZoQi1o9XNeTz8pcbyeA0QYlK+5q8q9mOmJvS0e7faSn5IpJtOFG92LRvHWd95vogakP/cnn10VS\n",
       "UN8ZJQ4/3KYSF+aw1HyMAj6CnaLrR4yIGRb9SUVKsw5y7KMoCPI4MbdPoVesskr3f+4+sW1x/rr6\n",
       "j6OIdlkhM5EOuNH20Lk1u+OBKHQxJ/hg9NV+ijJliiFm9NB/CbRzHb6coOo0djpfoPJRP/tVpWrH\n",
       "FAV/zaZminKYMnDNeHxW7pZEdRXPjs8+kir4mjWh6KJbxsvIm9QsYm86NRA90rkZNWJQTFldm4nJ\n",
       "2UKmYpAZQRm+8jN0iO+So+kF1GcsvzyF0du48iwY4y1PaS+YIKjsuboxhbYfM8OH//HyQQuQt+Yd\n",
       "ujDfMYqBHPmx4OatD+HH+YxJ/d8DxP9U8lrMpisrCdnDjjQhrJbpW3Qda/8fIq+KZB/wj2XKTCWn\n",
       "T6huEZGrSA6/jtlLIMCh5zodHGGLvsXPjNRIsM7h5rQe1fkVcnlo3wRwblZ63y9EpbUtIRRbablN\n",
       "DPi4vovLQShkMNWReIzA364sF9MgpMZ7jBvquEqQdaA0cvmEZqSWpfE/AorbLzYaPqDfc5Web+G0\n",
       "YNk/cszNUNyXmdB9x8rN0eWmUBJPWXACVmzJs/bo3zqQ8udETQVx0mvDS7ogOXf5vSEtgH4VVpKM\n",
       "E9mLwMtAG0E6M8eRvRVS84hDr8v61ENZaoU0H/CTZV1IsYacYG6TrjM7jtV3Kfxy0Y2GOUqXQEhN\n",
       "wnNDXEHR3hqcqYmRoQJS0EYnWjVQXz4lu1kMsG94BI4ENY4H2FdCynw/bnF8VpFdXRo4IUVE5b4Z\n",
       "jrXklDFvXDos3lnSwtxye7xAZVO2hRzMLGHtl9jRK8BIRXka0aOiKTH7/OODZlJZaOijxmB27me/\n",
       "Xjb9/ukF8f+JogqOKHO9OJN4afFUi4TXNx5E1sO9VFrXZtn/FRMTsxdm38aMHurO6vNKWZJetEzn\n",
       "JybMBc/ZDoj85g+5IrUFLyN8Hb3dBgNLrlWt8+kUeeUui8LU0Z21HwgnU9R+I+UXolX9HHbxnp05\n",
       "Vvca2APRCH4dJzgFCxLyQ5hQydzHVJCKMpK2OIO+9/Gk+SSytYpvodgcag8bS/EpSsN+QoCNCN0L\n",
       "NHXcgFDhvIfWJiGYo8JzjBIolvCREqReIGd5QlysgS8y5YrB3YJolDGE1trmAynKbER54H2QSIsb\n",
       "4JyrboP1ishM2RqXzdg4bYTAKVzXPHA9ViIS6KaH3mHVVsTopya9n/GaOkpFTA/66an69TgmEQAA\n",
       "ANFBnw5FFSwQ/wPd3j4AALpRSdyviTKxVMk2lmsNJVKnbNIiCjpMUVW0NsGPDCPrNonMJThR8IXr\n",
       "8kd4edrtdph4pv/ZHkl89+vtm0Mq71ISjtknw0S7xCZKRr21MV58PtYBoxXGNdkO0xwKTI6HwLCe\n",
       "joewJEMSELHLNznt3WszZG6WwV70nidOl69FePEzZx2Ier77a3ntdxyVT6KN0mDIvA88gvoS9JP1\n",
       "ZQTZPX+7dEvHW3DfpAUvmNmpPu266yxRHBcZ0Y/McrB4xWmkan6vywAAAH0Bny10Q/8GUuMITgAt\n",
       "1ESvE3ChhHtPcFnz0knGVL2ntoHlkL8kDh+Cm9xnI2ce9mtm2ZvHgIssdhPVP52agsYYn6i9PTtn\n",
       "Ljop0tInZKVG/qs1UDFKa4F5ElS8Jplj7dFoHRRdIBqEyjfUKpoCsm6lKh085Au7SWH1pGP1wQAA\n",
       "AHcBny9qQ/8GSQ/CvQAllESvE3Chm/mXieeVpXYoNyyPS/Ocf5T3KSm9yAjbwliiZgEmYszyO/iC\n",
       "wRBpT2RGaKEWVUm6cPyW/FEH0uyi8vxPbM4OgXFqe2eAC+wIqrti1j1wnZF4usrXiPFuAsaFdRof\n",
       "wpNzQo3b0gAAA/NBmzRJqEFsmUwIKf/+1o5/aO3/1AEbimvD2BDP9GNTlQUFAFA02BG0hUbVDgIZ\n",
       "IY9CNtfWvf6V4oPGPv7X/iR/Nk7Jw5+u6lepCg3udQGMpIpRDZgFHnnRqrP9z3n8ew1FQxrBvF6o\n",
       "qQqLvirfSB+XVl1+faAIM3v9/EJ2kveXvurONqll8IRprRlKoRFCGdXSEtH88X1PlMQrRjMP0xqm\n",
       "VeY1OUS6DPFBPeYzYm8/dtbXltTMfQvLWDfwG/Fp5CgYt08a/axivb92tZqOb0ZGy9hT8h15otzM\n",
       "XSGCNhtp7AdvWLgo/IZn/A/EBcB/9AWPAL1w7Yn0h46P/qVHKrbL5EBg+2eTvWMkyRGG76L1pjfg\n",
       "cSlTKHdrPYpHlex3DfMKPwV+q595YSV3lGgtYgYGKpgaLwRgLAc3/L7Dzmlmk8F7OQU9LCyW1j9k\n",
       "OYuZeaSZB1R+tWuYzXgfn8AEHFlKN30V20NE4zOrVvVQfv8GMilfgFUE2JDPxIn3QfRpTG0BGrZk\n",
       "c76Ar4aoQDdQx8ZkPYwTnH4iOv4O6LiorgabaNQDQ+fNUB3Hkt7ncvsxIGEhAPZFJJrS88DGFImp\n",
       "ozMeqWQ/xPrVMrDx8+dgEWEX8gq1duucqqmCKR12Oq8UIQGKb5Daivazg17c4Hi/Uoam5YSfwLGS\n",
       "CUdoH0U33rUqaoy/p0uzAGNUxRZKYhT9jfub7ZqL/0dXsm/HBs38H36MtpUchjvvo1X+o7eOzf3H\n",
       "upvOQmJ0Zn+1TuURZdLXpaelYiDsgDxFewtv1skYvinYcEK7kAQGt8l3YtKlvFf+xfs3rT/kJzE3\n",
       "dpN9+5r8UTi+hR3ltzYOtug5ivuK6jcn1VT80ItyOs1RvVNpWDDGlv/i/FbdW83bYblWwpTHhj35\n",
       "WzcT59xFB4AwSP6ILDxfOJ3tSHirF7qj8KQlUxLGf0ZW/Kho+Vt6lkJrj08tMXD0fViCwke2EvSz\n",
       "Ys71Xv/3CmTi8U3K0GxUNxdRpa0cr1i+E1vXnLCoaTm4CxJhTUNjd8xrLW6B/e71x8AdRjTii/6P\n",
       "6LBskzEe8/9MhydP4CQPDEVKRjaX/H030GxEkFUK6jMx1w5481BKOTSbZvqGurCdCTNDUaepTBe/\n",
       "WYIBu0aog2zHTkSAH/zc4oHVta37oE441mV84rTOSOOKjajtTqqY900p+5PZUzL7x9191OotWNxm\n",
       "7SKg/0uYo/jzwdRJjwoDHQaQQ/ns/EWYEqsYvLcP9dA+7iM99eNAWfh1JXVGqYplacaLCJpya/9U\n",
       "3FjXgC/Hvlmpq9efgwi8qFbbJlu7qaUvJXLmsH0pNqM3CzTQHfjNdDQ0gUmPh8DzjJAW04AAAAB7\n",
       "QZ9SRRUsEP8D3d4+AAC6PHT9MzEYCMDPiEiUc/s084LKGYsae3cNoRyRGaPK0xv2U8NXRJnShVaS\n",
       "uhXd/pFEBTZdH1UvTLrk++9iyxZnZnb45RElZbNqj4BQvGbrBK2/GawRJR0J0Jg3nHmIja1Jgjg1\n",
       "2hJZ+EfqqnThAAAAegGfcXRD/wZS4whOAC3URK8TcKGb+ZeJ55Wldig3LAviNJ/lXnA6GyomGJsH\n",
       "4vjpeXjrvUoHrqnWzJh1YJzpfD1T8z7tSdpYTWB2DQkhy2B5/5kP7+jIRSso/P0OKRjg70y4TR38\n",
       "zr/45NCEDB1cEbnTHsNnGat00sCcAAAAfAGfc2pD/wZSm5cJwAW6iJXibhQzfzLxPPK0rsUG5YD1\n",
       "5/H0ZIYJ7QgB2T3jYJd/QXjr60TkCd0BgmXv5+LpNISKw/shpO0sJuepMuETZnK/35j+JiiUOTdR\n",
       "LBWbVfiIs+wtuXrlc4aiN0ei9EHUMXmvu3GodjzlJUcm8CAAAAMPQZt4SahBbJlMCCn//taP7ghD\n",
       "4oCFb8GlRHwBNgl9lQaMgAxK9+mnYDeIEctOqSUFWcALFcuLog3dsoHOYOq0UJ5FrVOlNjLsbtjT\n",
       "WEWfS1wLOT+kdmz9fdfT4rPwX9Xi9ZsUSXPBA21dc4sWqeii5AYBfZXP2fBVYI3FA5x79WRa7VKN\n",
       "lqcA/OImrYZQo09QcXX8f0og97l7tpjrsswFLWb6CtuGfhauNnc/r2mzT/m/mUULjJ3r0TR6d//J\n",
       "HmGpY+WXUcP8wTtYG163sCDomxnRYXcTW+47vVVGq2vV8gRO+OwqxzjVXDcUlgCvY8hrYGmBOp+N\n",
       "EE4QTUQNEzGIx1CR92E68dwtzSc7uq1L51+raFD/0Q7tv5WkThlkysGSirS0BvZ3Om8f3MR6THam\n",
       "9UazdQPxfOtAciD/RCcENfHJxCD9R8l6k46GMOSO5FFOTFWJ24MnSnFBdRVkM82pMz3PD1CoLsXC\n",
       "T1NPanUWDFbhEcmi0C9d4fWFJwt8u3aoBXmcSPUrK6N0Dae1/q3WrI0JncCiAPj3UFjqNSVmhwVg\n",
       "EoKPSuymH7hzYoMxvlUSUI4vCjTJpULxXy8+nuULhkT5jqmqPYxnF1uaiEP29pM4ytPQEJWrtSgD\n",
       "InKgnfZNJAzimmEIJdBV/xLitwp0h7Nf7cNQlNtwZiCSjmJbwX0H8Tp+2sqVLwOI3Z45xhzwqnqD\n",
       "Ri5W9DhnHn+kVMmGb9748BIFLAebDgJaywS+ProgoqreVW+Y/ks4rlb1Bgb6ydosRt1AMtjg05na\n",
       "u7t+CdJQ+GoGkxVzNr6HHjR+gcY8NCXB8vlWlpFVpB5O1yrlFbB1HK+w2M8G7ltjEtZQ68CUacpf\n",
       "X4/+t+Yv2eVycWSG+BH9ix2mo3oJ1Povu0pZkfFlW9f/C6ZTfzNu7Lh/8ztYKipUAitCd7Wb98AB\n",
       "TUgtQZzdZLFx9Sss3PHjSimjEBjB6qT+/5kqUAMkXlAwaZD/HvMDqIoPmn7C8lvfi3kVJBEVpTqN\n",
       "Jzb69Yq6xnYkzN1gV8S0uKAd4/1faRYJAAAAU0GflkUVLBD/BK/NGLwV6UQaQANIelMQybR5hM6D\n",
       "70dIWWwR7vZv8YE1GTqjFC/jZ6kndX/3iDW0tk0572fK6M5tg/X3XlgUO/qQSUOQqnd5AWeIAAAA\n",
       "agGftXRD/wZJD8K9ACWURK8TcKGEe09wWfPSScZUvdj+mr8kDh+Cm9xnI2ce9mtm2ZvHgIssdhPV\n",
       "P52agsYYn6i9PTtnLjlrDo+omYSP9zq3P/Zley1Hts7ucr5ZbCUSq73gAAOdTdwwAcEAAACDAZ+3\n",
       "akP/B440L2R/iACWURK8TcKGEe09wWfPSScZUvd2+7kOznA6Gw6hX49jcUBs/uOvWxp7zmQ4u6Cf\n",
       "n4ujUZbNJTEAC7Swm7tABpA8FGuxPrJQB+AGjHIt8zlqtvw9l2Ml7eBB8Q2gGbWTrmF5RDpPIrEE\n",
       "O8MUxneNF3Y0aJFvRSUAAAKUQZu8SahBbJlMCCn//taObBeJm/WACIgiNsrMgBH6Js5yMAY6EezE\n",
       "AAHHN0h/judglHvcu+MS6oEe5k5mathvZYvy8IBt7fw3dqERjXS9mMPO89Bux3Gx550aq0dlKFqz\n",
       "lJRKq4ne5zxyQW8u9tJrdWQtfN4Gg4l/4v8d2/nZ9LJKTB5mp8J9oZUKEUEHUsB75+Rcmbx/VmNj\n",
       "5ow7TsYxO/fStXGbvmVF8QUuF3zbZiUgstENkiw8g/IZACHDrV4j9ri/vwxWK+Ya2Kx/FhT/i87Q\n",
       "rXagkTWjrQTpsDFM2VPsqv1SimrzOF710iZllDeQrpfr2wObVJq1XY0Iy7oKi1dUIIvQe1+8ETcM\n",
       "W+/wILquOwSYbdCszIhjxs469Bduw/X+RjiUHaWxbii5Ki1sJAZEbCkmpJfa1Yjz2Gd7hcG9AynY\n",
       "4iGHpcGZVI141fDyWVqzKAPZKPzvrCc3SLgqvYfUQMQl3gGc8rTPsydsQvu2VM+LDfXQZtBl4eXv\n",
       "UHP/J9DwygbCsqdALm059IPTB0iTEUGwSQIAwc+z4HGiov2bedJbjfgxFxSsoi9qhTflEABLaDUS\n",
       "y+qF+WyxGqiAmP5kSSqOzcS7CogUiPzwsamPMaQQF7zIng9F9rLxTH3aWLItWDpsDiDr0IbC+E9h\n",
       "miLyIb5Ys/92Wgq2mU9zyhaMJr56CYTxsz3XzehkwILKgY8UhPoDIPxUePTwVlU6lZ5IskK9/jrI\n",
       "rthR34MdA0eKhw3lZNkn+u4K13DuxCR7iG2VTk8zqlhaytEVQFYGIpBsYL6x0bHZojiQi8ckV57F\n",
       "jdM4/m79h3joWeeS0G6ZgxiNBWPjWXr2MeKFXDLAK5jWBJGxLGXH08Di3VVou5V0ROi8AAAAXEGf\n",
       "2kUVLBD/A8vNoHsAAtoVxS/cYfo+7vFnCqHhOJZ1E6C5iPNpPQe8/jPMrxhNnkmdj3kvEieD/4ZU\n",
       "WmFCsXCvfuIpZZB+gF96YR/x/JvLdeCxXWKGj0B3j49PAAAAigGf+XRD/wZS4whOAC3URK8TcKGE\n",
       "e09wWfPSScZUvdi6iRIYJ7Tfiq+PY3FAbP7jr1sae85kOLugn5+Lo1GWzSUxAAu0sJu7S4zt9Xf/\n",
       "YVfvCzuUCBG9LH96EwbIlyXy7zHaaC370PVZ4/t4EOuohrcIi5XQdnjzh1rVFXAgI9S9KLkcg7SL\n",
       "VTTCwAAAAHcBn/tqQ/8GUgZhXoASyiJXibhQzfzLxPPK0rsUG5ZHoQnOP8p7lJVlj3ozwliiZgDL\n",
       "2okh2CkQMByAsqzcyv9uKnVHY8RW/Awj/WE30ds6orLL4doP6vtf7d+bvYZppSRYbQXO41lPqKCa\n",
       "HGC1XlIaoHQIMEV02QAAAkVBm+BJqEFsmUwIKf/+1o5bXc8jJ//rABzN+DSoD7HcafrmoegM8dMB\n",
       "eFoQBxYuzVlzXD8GKtqrNqIAAPtm4ipwgxdq7RguhXh29bax9OirP2MGirTjNKVtQOD3GftJw882\n",
       "NVbPfnF+3XYvGr561131RV8lUbDkEZoFHtSscc9SxIMs0nOCgvVjzwzYtuaeIkaUftVBZNdJ9qWr\n",
       "tWCVvrG9qO/dUUodb9I6mcN3sgjYFU4Dk92J7fPFMq7c+1vudfnGah67B0Vvxsg6os69AaosNCEw\n",
       "r/Y2jJHAMeCqpsXhW/MN3g7LEDKih3HXYaycMa5JmY5d4bryCWCgCxqhCDjFrkdxF995ZGAM0CgN\n",
       "27BfzMbOgy7hTLztDV6axraBk3DcHCwwe7iflGPC7oPSb9uZv3yrZLULTd7jnJYCU/jIwnkqoBpG\n",
       "0fjZRFk31JkAynkSAcCW+NeTZ6FJj/TKePfucmOJOAVpM5r+Ux9JuA9BkMNY+OR/EskDVp85msg5\n",
       "UIX3j9Th46wt4IVK8SBFo11NbpAWATDOTpSRZ3vR9Ja/eo3pt9eSwXnrLrw/s3Bdp68oWHh83GOI\n",
       "adsef4e6PAU+kGN6FVlN6f72TRi8Sa3WV7NbA7+1zegE11GSa9v3DwYcX8i3WjhHQjT98NCP6Jwt\n",
       "98vF+3EoKbTX50vVvWfJ6XiIzGHH9dSdcNv4/Dv6Qwo1WleGOl5/ihfgqFlnx1J/lmc02o0OCev7\n",
       "oR3EYZY0Gi3dX7KcSIHAIvXNwPc5uY64OoyX4QAAAG9Bnh5FFSwQ/wPbzTLe8KIAPvSEKGOqa0qa\n",
       "oSxZZR3RL45ITWSXyTPHtDYRyoow2KKGPWUqzPPjO31HTfYNNlAhLM+7IJQ5Mm8Ot4ueY3oxTWh8\n",
       "veQxP2VFOm5NU/7v+J65g1KNx39RQ9ftd236PTgAAABjAZ49dEP/BpdXoASyiJXfXQPaKfkvGYBg\n",
       "NbTZrABjWLV7yGbKfhYrmI38HpnEh0v6exAjKy/lauZlL4MZyXVY1w9fijiBzmVt3g4GEf6w2+wq\n",
       "cmCo61ocbjGADEz9Hhfdp4rAAAAAYAGeP2pD/wZJD8K9ACWURK8TcKGEe09wWfPSScZUvdj33V+S\n",
       "Bw/BTe4zkbOPezWzbM3jwEWWOwnqn87NQWMMT9Renp2zlxy1h0f4F1+wou+CXuvJzbHFmmmQt6Y0\n",
       "+HAO6QAABDVBmiRJqEFsmUwIKf/+1o5o8p8H3QAjyZ8WVwnoowyhgQDQGk86fytoR/ZAEDK+HQQH\n",
       "ADKQm1fdYMnN7r94ygmTIWCeyO4k1G70IahCrybbYhj0pXRWRs444tue9Zjs5Z41vjOOw6vt8kAb\n",
       "/XShsWEPeQSkav/97wARu2oOY0Ktgh8qrMvCOtgz4Tj1Y3mCQcSN9gaCTTp8USgsur7l443axT2b\n",
       "1cC0bL/TZmIEJd8SqkjNvkGiNYfetzd+qDW38MUgpGqppF83AFNRC2/qPo+Jvq3ILFgfJtW4aPPd\n",
       "Ltcuxi96x7t/KtkO0MmbcJ9OKifHUupTqNDCdKAYTgyUfaiVsMvEAOeawXdsHdv2kOye3W+CJDi4\n",
       "JkneMEsVn8bcO+k5CsE7fPS5zr57rTre+o4KVSNXjOIAin5uuJixuqziCO6Usi1DJ5eU9eCZ7//R\n",
       "xzPf9E7NvHxC25HrG/T0bScyyZ43Y8jK2sifeXHWI49hjNYs/HHQuflfC2vDwXqVwd50FRpo+AE8\n",
       "wk2dvIdQ1N7/o99PN6hwtZDk3PD2rebZ9nX+tq3J7i5mj76UqDKl8YKoNmLbfy3TjNkyjQNSc37y\n",
       "AP+p84CLqOuPJ73S/ovMADXiWzcNixJAvCa8AaFbZk+sm0k9ABbOD3RVWAjRdiQyxzvEZpxaOyhK\n",
       "Tw9FjhjMw9er+28jzIuXGEMc3blJZpMq6bkH8/C8yi/CCnO9M/ZIIQcHrxOKTGtYrUehhxPU6GW6\n",
       "/Lwwt1FqEAhqHL5/iOh0WFjYKXIPtoBHaf9VVTY9Ajrm0pK7GAUUeQZi7PJg6vWjzbQNGuj403VV\n",
       "zkBD79z9kHAUUV8/Qh4IFSIHqngCHV8EXaNgq29jqa9k3Ci9Y9aud1T7GsMaVzkOPOtv9ZFKOvQM\n",
       "KHFVMbSd5Bmi3KHVx0hvBJZGsv1VYA59obm0iijqjaPPrI8Yr3gMJVT0AwV0ph3Gl1s0zNjBnNU6\n",
       "dNzKfJiLtZVyAzDfySMNS5NZHqqDokfbL5aHBsuh0DlTuPlC4L52G57CXaTxpPrRHYeQ2N5VjN2+\n",
       "d5gLNvYwwnGcjw3VJYGI+iYdPujxvb0a+giWrXPznrlGUf0vsVysaNA5nd+XMtOsQVOlio4cZRnK\n",
       "LSvt7ZRrx8yrfEulDG7C9iUudFWyoL4pfL3wMykywr2Kb/ztx3YI8eWoCbQ6X5/DDoe4A4gWrknu\n",
       "ry3GQ0qtHAP1vgFcntCB+xqhInV9W8DG2FtGnZQrTVlte+U7C0Ke4vrE1ZXJs+F4m8SYlSTlUrm+\n",
       "TMzVKLvN7/1260My0WPHeNX3MyxyqOWf64/ZZuG/pNhUsY3XjnVITqcu2VCnVn+8RvDGVVoGjMvt\n",
       "oBwoiTBGfT+W9XwjInwpQM7TRD/l5gbXrJwdp9cgoM7EiYtBW/QPuJI/OBp75nai4zzQcxl1nbYm\n",
       "/j4AAACkQZ5CRRUsEP8D3d4+AAC6UTghJGKdLEj78ae+qz5pP0wBEFRe0vOh0aHLODUNl7QJHeUA\n",
       "HBBYt+rlkRb7Wyx1KTl0Z/o6Y/8g4X/dpKNU7yYkWU46IulpstP9frZSU2oU6kn0IgrvkTikhc+q\n",
       "9omq3KhqFlYbPm3eY8++5g1pHJ+TtMFamUXmUQREsM0Lu/aIyaAS59GIxODtgOP0/45T6NVfRaEA\n",
       "AAB1AZ5hdEP/BlLjCE4ALdRErxNwoYR7T3BZ89JJxlS9p7aBubXyP8p7lJTe4dP9oUH/6DZnQS7g\n",
       "w6FJkh7aoiWebmV/txVJunD8j/gcsAZAWgoH7vm1nLirEdqdyoT3CfACkDX6XPqaQzdmRSvKTiF4\n",
       "ZcvVjBnwAAAAcQGeY2pD/wZSBmFegBLKIleIi5CvZsbi589SY3APOR6EJzj/Ke5SU3uQEbeLbr41\n",
       "5RJYl2NKgw9OnPnNZTplf7cVSbpw/Jb8DCPeqefbfVlpZwcyUNZa5OrP2GlJb01rCyv/K7fCrDc6\n",
       "DjvOilXmYMSNAAADi0GaaEmoQWyZTAgp//7WjnYfl/6wAVs6pI6a9xDTfT+cdAGaagYQuvN7MEZA\n",
       "TNEAFR4yLujR5YJV3pMm38HlpdAsRP5/2S3v3reh4AuvVdeW+hUqvD4eaq0WAbEYyoH209M1bzq/\n",
       "pgLIicr0Qgo9qR/gF3E6UPHvJAqkaU/4BYuHG5fi8IuTE/02Zj/9K1kyf8bvCl9ixfMpMhPCwY6i\n",
       "DTq7ldeFn9cjEUikZAHUZf2OrQq6YXF2eWa5P2yIIpQMqWttgPH8a75M6ePH4NRBlqFT8pTvDY2g\n",
       "F5+6IjQkfL32bSVZmFgiRkHTt8gzFrGU48IEqWSsUaE/KCPhqV4wNkl4vk/qKNmb+oUeyY3DUF0u\n",
       "vxB3vrf7M6Gj9PNU+SVfQDbzQ8wqgVNZgYi4FCgWiaKXHFsd1Aho1XnzqJvfzdTGkdpCVIuxJ5dn\n",
       "+1PsZ/quXKT3Cd1jgzcTzXmr/mOwGFlAoyc+q924nKjOlLlqU0X6aWCzF8syVyQ1x6pc4v3bqgi9\n",
       "FtNDp+9taU6HVGxgSOlNGBBXRtpSVIaNWR9shk+jwd0wc0nPnX0fKC7iT4pPu3m++Q46faS6H+zN\n",
       "QUD3rzmq+bTt2X4l+nkJe63kPiChT/3j9P6MHyC3OnH+y+NI68cXsmWIzj/ZAJLxUfR1O1SiiRdO\n",
       "2mnogWy1neS1dzqkJObuEO/DpkjXKb6nWmY5ti01Qtnw6ljlMlatY9xxzrm+AKH6cG8aeez16phi\n",
       "plD+m4WghFB9Hb5h/CyMWeRS9Bts6EokTWO2yzgEQmanPaWp8yjQZXRxlQbpcpqtd7beTvy9WHYg\n",
       "e8yiDJr4MY7JlxVWG9j6revag8J7BEFV6ZJ1SaZx+NXCf1LEBBtrNUF4wiMiERlYjcRSIsorbQGN\n",
       "wiRSW5w97iGyrzLdhFUwjxlSsRe59bPGca89mZTSV5XZqwsHYkMzdVzs/XdlEs7UY2KYuLKuauZ6\n",
       "jqVltd4t70y5TDSr65v6jYnKHewqtyjvh9XtvXwRd17ZkgDb9e9kWFf72ng1dPij/y53ZxlAnPtp\n",
       "OjEpnP7Fg73fS4Fx+m4lNEZQUDSfxwtNPhJjDrus/muK4qvUGAknxuxQXyNsqy2vUCKzgGs75/76\n",
       "szLqwEMER4GcXpWEtfJM9iTpcx5pjgnT03VJa1tnmYpLu3G9RxEj1r1s5Wm+qzJ/ec5LgT2JQOzf\n",
       "dqVID6rjrcEAAADPQZ6GRRUsEP8Dy9DoewACWUfJUhtJdjmSv5TFT+u+mp0HtNJiAhEOuimP/2GV\n",
       "DTETF8Hvw8aLIkvEyriC68SJZfdatCK10KgEkZ88/RGLlrI/ZHkjtEoNwgHBYcfKT7ca6ApqhfQv\n",
       "KsAYdJfIyU/z5328H8FXI6+yxey256vZ8IuiupxIfszUyRP4uuFDsin/Snp/ajXq/CtZKXeJ0+c7\n",
       "Q8hSokLpjHO7mlkK4xV6xnmDscuuhDb+jX7+cEhHfc5gOzX8vfcoqt+ogApT9DcPAAAAdwGepXRD\n",
       "/wZKp+FegBLKIleJuFDN/MvE88rSuxQblhHEaT2k5H+U9ykpvcgI28W3XxryiSxLsaVBh6dOfOay\n",
       "nTK/24qk3Th+S6RGZ4MGp/0iPuQXaxtIFqQuQannlOUiJVxt4RH+L8WO0nb40QUf26M5PH51RfKh\n",
       "AAAAcQGep2pD/wZJD8K9ACWURK8TcKGb+ZeJ55Wldig3LI98BC/JA4fgpvcZyNnHvZrZtmbx4CLL\n",
       "HYT1T+dmoLGGJ+ovT07Zy45bA7t9Y3fR2xnr4b6qmSGFNF+MDiiCXFSwz6vwmAMwkDgh5XndrkdE\n",
       "ViN6AAACukGarEmoQWyZTAgp//7WkC0c/FAIQdg0nFbiPDfmFOfJVYiREwiCeUJlyF8tg5RxYG41\n",
       "E4BLFeZKwME/bAC2RP8FYKuj03ve8CYzrah74iy/3z+nvWEYcixPBFgi+EHpDVF1WjGUuWhAt9Pg\n",
       "yQK+b1I7J1eZLqK0bOk4pSA8+VA3FziRWccK/XGswMlDzpV5xvmXZy2bIeIkuI40m+9v+hxo3dw3\n",
       "EqrH2dntEz1imz7LTFNVpejswuCfGha6RpA0onP5getal/qW3TvQ/08dWvVomXBQEFdXovmJN8lx\n",
       "+/JfrwyJiceP5oCfCA+zlcp2goz1oZ2Eu61g4x+5STf61MEYH4+9uo4p36YEEwiISv068lyAeH3e\n",
       "qyKubscfG+SbCLZ6Akv8pwSnBF1oO1/W/3wZJhBlh4LJYcbf3R+zW+YhTm7a4/77vuPi7INjjElo\n",
       "/Sf1uxYJK987PDXqzl2ZvDtas4GdeiIfe6vmpoV4BWjIfX+tWNKVmIrsq6slYZAG6WS4ujgB6Jba\n",
       "nryn8wMQHEYC93/E/3pTTfalrki2ftqSRaIPICTY4S8fUVoppmqT6KpsR9s8BOV8gm3nysA93/Br\n",
       "Xa1+8g4Igjj6t1nRQWKPqBqIo9RqpwxSNWC9HeezEeCDwCF87wslkcDZnqnV9fa/s1XXjQ1yDWdJ\n",
       "DF8XdAVmoTMoYQEY28tOuTSGwbd+fid3Pl3bDduqdwrxlJH5jcKRUay6bz9Y9o1NxsYUaHgMHM63\n",
       "nEzLxbxXXre9lWQb3/++blmFRyFawkGtakRuonBN3UNlXn2v3G+9D8R1NWhouCh5+1IXTyF6xSwy\n",
       "QTHoHGimXFgDTKK6vBYOl5lDeQTgVNaO4eAtdAapUjVt9X+C+cOGwgW5P6DzRPwI8efHcZJ1c79l\n",
       "gkpQaVWKuCX2heEiPjXXQJtqZ/pLAAAAUkGeykUVLBD/BK/NGLwV6UQj6ADNnIyL0gbJ/R0cgB8j\n",
       "of+et9MaEEOtlp4yGXA3agKdbqqqa6YfKUvPez5Yswu+yuRxp1gBq0zVZ2qX7Jm4/mEAAAByAZ7p\n",
       "dEP/BkkPwr0AJZRErxEXIHviMjNGL1JjcKjOTMAnOP8p7lJTe4dPpm8YS1YzoJdsVEspw7M78QIH\n",
       "yZotScVSbpwagBOBhH+sJvo7waxaDxYXRpOjZuO0t1ewnuA1F6KFzES/+2RHAeB53a7/Ki1IAAAA\n",
       "dgGe62pD/weONDu0FHEAEsoiV310Dz5GdVK4FaMz0UgRpxTqpp5o22cLg/hRPTHJpTbPJMeMOo82\n",
       "4kjtrkhCSvg6NwPaTdxYRAQWm3fzZTygDp5UN4OYPr5Edc0DSzeAyBdHyJsIGuFZUuIc3jxwq0DO\n",
       "WuWqXdAAAAKUQZrwSahBbJlMCCn//taObB0Fv4oAcYTs0+8+SbWruAKH1jwoyS5aGaA8YEJenYzM\n",
       "Wkm79vNEjpXeZl2izthShs0eI2VIUMPYMrsbwzdF+fHNOmLqfZjqDhKpIKVAl0WFCvzOoJR9qhfB\n",
       "ZMWUZeIAZkbD2K674fCBugrVvDPFf+JeR2yi7clB6cnCrKtECCDX5IPW/17Mdu8g2u3g/JwQGLea\n",
       "B6u9j54/0d86SaCEqSZ0qI9/D93UAykzRnXFXMbFOqiHoughvJa0zuRnqeK5Sky+cF2L5BqaE/+u\n",
       "Mq1Usy0wX8spEAsQ/fTZFTrt75vxc0BhAH/H/OlmiyjpmW3Opmj6/RrDRMdwrx5px/yJwzQ+ARRI\n",
       "Rmv/PExQ1zumzOsixJ6TS+PgVDUZQrBDkFO6GIigE+lCfad3S745ddsb7tccU8Rgq4BISBfIn7ho\n",
       "2jxWHwI+WRlTjij5XvsnVKFUaXf/diIbFepbP+0XxYFRR1ArebJc/v2Pm4iYPHkG0isLiR7ZjsRI\n",
       "crAyj55Vaa1hswPK/hc1T7tcrXW6nril4XLePk6gUD0J6ZeZVhfFSYRgO59B6W9nzwwq6zXKXRr6\n",
       "bbgwLdYkHO+6jkaKaQXRus2cBpRep85Lamv26besmY8/zxc0yjyIWyxBazT7Lv8XdsXCz+oJ6928\n",
       "cVfzSViaR50jfCVNjsjYPgvcp3KfZkCiR4/iC7wEeNoCiH905QU1RH5l29n656UIGb5aVlGJ1zG5\n",
       "h84sEnk3dx3zMYpTD5HPxVVn9/IbjKmbJ9hO6K5QLyoNZ/kVD0QUFuRR/CfmYr+2nQTuCqYLX/st\n",
       "r71jNt40V6PA/M6xwDLhO0M1LBMQfCUfA6hbtgXSz0Ij4SB6bsjDSOJ5AAAAaUGfDkUVLBD/BA/+\n",
       "AADjfPiaIcGQNmPCEQWTXPbqB+oDUG4KtwKMLolnwVukSk3F62ALTh2DtLT5w2hfKzmzUFVXsu9M\n",
       "ZB8ui/772KeqPZV6Fm/iqMIvzt2Pv4dfYJdW6lmTboiwaK+AxQAAAGQBny10Q/8GUuMITgAt1ESv\n",
       "ERcge+IyM0YvUmNwqM5Mt7vzgdDcQirF5f/FAbP7jrtTae85kOLugn5+Nu8Eklh/ZDSdpaFketc0\n",
       "f4F3/R3g1izuawusZiDUOcK3RUkQa2SwkN4XAAAAcwGfL2pD/wZJD8K9ACWURK8RFyFezY3Fz56k\n",
       "xuAeckKlJgwT9fwdWHFolwuf3fQGn4+lefqDV6bAy9eYqaijPqgFWJC7ziNlITvOLR/rCf7Ci74J\n",
       "e82aN5s0xWtlBHM3RhteqE7w2XQyMu+Q/Y3lj2uVQcAAAAIjQZs0SahBbJlMCCn//taOgqckZoz/\n",
       "FAEd1U4UREPUAf3Za5HXLE0uhszvOwBifjFSn2FMgCQ+QT3DnCbRN13kAsokFNty4zmNSRkTn9ND\n",
       "NfRtKWsZ1Us1h/pDtdIQBG9nnnRqrPySVOP0WqpR0oEBJK9lMCs3z4Tsmnn3L+xvalXNPl0PavLs\n",
       "01mRUivS/LFQrrgsEpaDA5nYfou1K7CE+MkaE2EBa6PJZ7nhuaMvddoAdBEv2LuEC8G3gAFPH8yR\n",
       "1g0xEP4yyvtjl6+RIRMLFrNxKG8c3uISihImoW7i8KzoC4KDrXvl3MmtakvgpHV+ItdWjGRHsYxS\n",
       "OrV6aeWFWVaJgdPR7y8z1l1dBLk74fBZpa4kvWxs9+bSIh2rSQo8xJUYi60RnVYTx9JhBveHyccG\n",
       "OMoEgZF85P5KlZSjPScjI/JJotlr45cyodt56i3XHFnsuohjaDveVt6B0fOqTHrSdiv/PTGnd6bs\n",
       "lfxIHSwBlJu98bxFpy8SzBHA4nKRVdNzNaS3G1ghICF7jIqfnEhS7h7TP0yjS9aWIOyq2uAEhmyq\n",
       "FDhbgHCH2BNDQY/gO+JB1KRGvZqZ9c6VgsoXZPD4DVY8UN4M95hyiPgMeHZx5tpU7XlUfPk6nSn7\n",
       "mYcgluIsp63nAmWOXvdG+pFzigp7NwBku2wn8hk/4L9lACTZH1HmTnNToIRgTTRSqPdDrsm0wQeq\n",
       "sf6SLMDlGR/oh27ItAAAAFZBn1JFFSwQ/wPbz/swAcbb0Rldmm8onoIEHVMpLQScsS1tPdEwFeux\n",
       "3wut1qwjmRMCtgvVcuqoK++zHqTl1E/ZHkj917Pnk6dI45c2HFipvH3BBJDKowAAAGQBn3F0Q/8G\n",
       "l1egBLKIld9dA9op+S8ZgGA1tNmsAGNYngfuR/lPcpKb3ICNvCWKJmANsxZnkd/EG+i5Aisp0yv9\n",
       "uKpN04NQAnA8H+BxPsKsya+kIqbCdx4oKLSR3JOUKccDdcGAAAAAagGfc2pD/wZJD8K9ACWURK8R\n",
       "FyB74jIzRi9SY3Cozk2/dX5IHD8FN7jORs497NbNszePARZY7Ceqfzs1BYwxP1F6enbOXHLWHR/g\n",
       "XX7Ci74Je82aWTwRc19xlY8dAryumVHyfRFZbqf3NDgAAARpQZt4SahBbJlMCCn//taOaPTLH34o\n",
       "AcZy+cL6d2fH04l/PTt1zFKpJck7JMAYbSRnT3X9L2yMCFqgBN3W0uJxIr+l7U8ygFoaxIM5jSzK\n",
       "AYnKlvxxDU7V+nvs9Vus886NVaSeLiEui1OtJiXx/z2F389bArR/5Zxyc1MKr8lOrlYMdw013C4d\n",
       "8ZknsMCHH7023hTWcj1gVxp/1wznMf1O2JlnscQQNZZb9v+Sd0bWkpFA7nY3OJTQlTaggkI1BmXT\n",
       "g/bp/Sf9r1p0rre1ZaRPpZgCaWsVKG+xrEF/SQ/xsbK717QSP1O24XmNgb6ytoAwxU+0GCo3Fmbl\n",
       "SGAH8cUNQdDH1Nnm1FH910E7pQPAX/Uznkmi4eoNBYcXn7ozoTPcZ5nSA0M4P+E3h+06nHtMXnUV\n",
       "5L3SWGhirX/MVORRGnrHTIrNNgXi/SlRAl6TsvTPG6yc7jUXGBej3b9KY7NV9L32i2IU6WaEt5Xm\n",
       "vj5knWk9Zv8AZP+1GpEnJM18uqO2sqJNhGL2YA6iA/4yI4rhs5t4QKfLG6h8JqwrL2hqNajtjpD5\n",
       "I6X43m6IY7SEtGcHZ2CQriDgzacYRQR4k/vwnQbo1to14oPq/d48tZo+OgkFhftEGeNcvjGGHMcA\n",
       "AcBOnsEYvoQG16gRKcAijiSXl+hLnm68L6R7jRCDXuCZyD7wsmls5BgeBIJIeEin2I7kqKiusskH\n",
       "HoUpXOdmoCTUZTNAAYrqxv+eBbx2TxRvyrYjrzi7plNZcf/abX2qRIMpjOCW8QK9WuTVoAchkfkB\n",
       "JBaQt0Z1v+JW0GDFQVqhJY6Byi7sImoRuz6qDfPkgjmQUO7XBtr5D3KdrqzMXULSnjZrYnb1BKlb\n",
       "wR6ZZyMo5WqWVDu4Mvv5vEOBOW/R9UiEN02NltBK5W+xo1Ht/BJzHUEE3TWoF3spqF9JVEwy+hpu\n",
       "43Eb82gTnqbZQX2sRUUamLOKf8kvFbBhKVzoQx9II8GUwqnPVrZ/ihu7sFukWkPDnUZjYhOjIpey\n",
       "u5qxfRq2LwCyAhovvXVSuLpCrSjbLbttL5cR/KFteCrJA/CoC2uXqzBlO+r344DO3M/C8Mm57Qwh\n",
       "j7qLUkAcJaZTvon0Il5IYB0G+xwlZ7ptOYRqbOjTetHK85bGtz7K1dI7nO3fElvm/CCVw0BIiOhl\n",
       "IU79dS8zaOTngszZJ64dP9ES0YKUphOJpYsIY/fu4cbMUJJg7Yt9/MxREOy5+DEr7+OdJ/BXY4cO\n",
       "qh4TlChZkdBQgpTO+hTNOOIEVVrBxBPS+hj78+6TS/6gLw72huyVVeDOClrt9zfsF8zNBOhbjHyZ\n",
       "eK+LrFczV+TnrlCpvQEXWMFtRzO8mWKQq698iuWc6SSrTvGWf2JZCRUmzXSKR1cfoRZbedjBg8rD\n",
       "QnBfZClOc0aSzaTrPGhl+Kg4cCzDJBngTD57O2np9e5MfznZj3kt8MV2/0t1ErnasvFe0jN7Rpv8\n",
       "FM2ul3lPZmiMROQlOd7hSlvO2S8dsy+I2QAAANVBn5ZFFSwQ/wPd3j4AALpRSGsn4nCErdzfxu7B\n",
       "B5/bMgYnY0udI2FN3mZhK2G6VZzfiaMdJfFDmXrp1TiuQGMHna4uWlr997FlmLYBzd2BDSUJLQvy\n",
       "nkgFmVXoAtgTORzE1M+suO1YSZCXpOIB/cL/4578sUiqAwtvZfATvo9KXKtLoRn8r7VeYrDUPUj4\n",
       "co6eP0AXw74G4Huc9/KFnxthgFqRn/6TN3O1d5qBO8SnCq4kxdsiJ38lYKEYye3CsQQGdagjTW/t\n",
       "uff5XCVhh+x0R2mZd+AAAABxAZ+1dEP/BlLjCE4ALdRErxEXIHviMjNGL1JjcKjNg20DyyF+SBw/\n",
       "BTe4zkbOPezWzbM3jwEWWOwnqn87NQWMMT9Renp2zlx0U6WkTslKjf1WaqBiltqnAwFhNRna/q2F\n",
       "muS86kJO9bKeZh4HMdn5VtEAAACBAZ+3akP/BlKblwnABbqIleIi5A98RkZoxepMbhUZr4o0f+jJ\n",
       "DBPTeUlDGRfjRZqE46tRhuSbbMtsm2cqeGtEpEzf2Q0naXIawOwtZE2Zyv9+Y/iYolJUQcRgF0RG\n",
       "vz3bAotyK4JwLA5SOMEst8zQjRzR04+90Ckce1yS7g7yPqkpAAAERUGbvEmoQWyZTAgp//7WjnYf\n",
       "l/6wARKJN7VzHyNcLogx2AIcdtydJRvs4UffMmG8NcwYfJhHxbHKOnSSjREb5Z127wJ0/cx4xPol\n",
       "//Frb9JemzX4fDzVWVLE48fozWcANVulHhsp0tnmaRtmOJ8+NfoF04TTKu0ZN1AKUCy+BrB3RXAG\n",
       "OwE0Xm+8HW09cgOpeb6p9+qGRSPnEv2H+1PhVmKAFr8g+X1Dwd2o01fG+Y4e0FZqRLjriXwrBfaz\n",
       "Yb0i2k5XFbddDC5HKzavG8QHzDkrthfAmOLVxV/wdbvXZMuHycQKisymAAlytAgKuwHcGgdJ3J2X\n",
       "yKBum8lBisJAFy3aN0YAPaqcvmfiaGurfn+whgYamhnYOs/Xb/lL6FNjQsCN0HoLJAsA7ANe84Qh\n",
       "yJ+X5DaR/0ZR0yBI9dET+xoieMviL5S5OtRYPUzvQ8eRrOm2GYapZy8FfBxBIdj3HPM6HdxPCTz5\n",
       "A1j/sd5ARXlb55FB7OnqJWSxYqV+B6rtFGIr+ZI7UwgqPyQE0V3+WljpSxVudwsg1nocE6HyUmOE\n",
       "bqsy14JiAKLpRtMZm6SZlCg2+JDaPSw2V2XkG1gdlojQ/rNLhp/vi0EAqHw5c360Cw3VjF9em+4F\n",
       "+oHzin3jFt/1nvogrEjomTqemZivfznYf4Nycszx4R2j4J4lbiw4Yj3fyc94tvHRyqsoRPzXUVTO\n",
       "0WuVwO8uaRw2EKV6epO5H6tqWQjOaN6K/W/pX99mwyO+auFEcBc19ziMjdoeWshnZqZO00OiSzZO\n",
       "XwigyDBqF1+ptbR2tYV0WzupukWUL2tHHU9aLPoK7V6yCYKVYK2/UVHGEavOAmBJtIqHkUq2y7Cq\n",
       "eOerK+IcJ6vwzSSCKW/DIwCoKQsUfcZgFkMMdroVaDk+mHE7xqpojpayyaOjcsD1fm5VzURGsLi/\n",
       "iOqcrziADzXxe8ZxO1n7q4ebbr1EGhnLprD3ExDBAL4oHm2rSyRQtxVLmoS/JIpDdm9/wCcbIupz\n",
       "YLLOQ7MUwQXytT6vWlHxq9ivkoOnFY+/OfG6Id60FUg0qv73v1MVEtQ6NkCtaGCteifHOLsA8Lwh\n",
       "hlVUiz3DsI1AVQTZQOXpwJdA2G0eJl7sURbxa5uSI/Q4SJSWID/gzQRndlNoTkckgB0/ll+Y0IZh\n",
       "VBitnv2Ipm+jEZP6s/azkLX1yHO8E9NdZC8P6rNdP/SGxUdIjG50d4DBj3THCDf9suNGIaBR1k4h\n",
       "zFJS3pg+vVwXUPpqzaG4jA5+156CLO2vktTvpUmJgXgjBu3wXQ+ayfwzj92suwyh3eC0zI4GAuba\n",
       "2aZtPrpeopUiSWBoEgT6rhe5Cp4LsZA+mwjXIxSF8K8Xrs5eyd14dMJeJVZ+FRod+A8lJwEg2uKz\n",
       "IzakTyoCq+HGqmZV2FySw6LsEeeMUg4w+DD6psPdPlbAYjyUZc3V58aZbvKh6hL6doAAAAB+QZ/a\n",
       "RRUsEP8D3d4+AAC6Lmj5q7whx6OBTmLJ1XhZ0342wtA4Nt/jdI/AqsQh5BtNVGftOxYkIeNV3nht\n",
       "pQi1UvTLrk+yPJL4bsAvcFjntJZrR8zwqzstBFhaLMoOp8SydvC1wADSqsM0Edl1vBRj2udxE6hC\n",
       "SwsHTrfMbqqTAAAAhQGf+XRD/wZJD8K9ACWNaT+N3ARh1jh6R6cka0m/2Y4jSe0nI/ynuUlN7kBG\n",
       "3hLFEzAJMxZnkd/EFgiDSnsiM0UIsqpN04fkukRmeDBqf9Ij7kF2sRFpBXdD58/lZzMWEnvm6jbz\n",
       "+dQxP7D2U+4LbR9e9XWblCf2TZN4Yyin1WGLAcll2a0AAAB7AZ/7akP/BlIGYV6AEsa0n8buAjDr\n",
       "HD0j05I1pN/toUdLj/Ke5SU3uM5Gzj3s1s2zN48BFljsJ6p/OzUFjDE/UXp6ds5cctV9H+BZ/v2I\n",
       "vgmMZYFFutnqLr2fdDZubE8/S9q1HJ/qJHT7+UhazctfYXLGY5w7D98T8wXpAAAErEGb4EmoQWyZ\n",
       "TAgp//7Wj+4hQ+KAhLP1MZDe50HO1sfQPMZe6LQEkS6UetB9v4XJQmW5KNH97jgAC6FizxpKqJ4A\n",
       "AQ2RXvRqfjtQ7FT+s8Wp5GGsqgldOHC5J49m1PrbYF5St5MGoO1HlhakfNToaxo2b1zOw0tqs6AW\n",
       "7xnLOqPoQqWgFVTL2AxyQYf5CzM/3RzuZjqgJPDJ2CrIg4dUT9CidkbGnnRsI61tVEP2T+83eN5l\n",
       "CuOyw6Wx3lFVF8ws23N2Xd7fEG5mcw75nssDGQm80eq/4FTVZVaqDvsWCu+dfSX7sRwJU7MNn5d5\n",
       "B+n5tIojdS4VIal5qFp5QBdw6TAEanDVQDuZVsZqZP5GUF4Hnw3fNvui3E7v4Kbjg7wd9mTLCmya\n",
       "6ZT/1i4Fbnl4iScmuP8PhMwZBY9jn7SI3IZnvqKBjLrb5LZL6z2r7UaUsEwINp+pGmgH/s1bZMEJ\n",
       "NBZF+zREt7GlERyFW3EPO+aVcwRYL1cqOP4RG2jZCkRzEmynuijzkJTAzwoSvwpL1XsqkTivAz5B\n",
       "QECrf6YeUsIeefxV1SKINgOdrWSdVebGl9Mmpw0xlfcctyO8Fh3HRYLScdXOSCDhWrPatR9dJgHf\n",
       "zgGpdU3NG+EYkJ57oprXGTczsFoYaJ0E8zSYBRTAt18Ac1khNOAqw9w/GzRQI7VLM5uYk+cE3/86\n",
       "lQpIYxUCsl+7A7yrCwbbpH6Nfh8YxVltJufS6aST3M4d7pbnoqLZkY0rrSoBphpJBb5CzSjeLm3U\n",
       "E6sDA+85Q2cSCv/CjIMh9f1KoCI4pWO3MGPhZXY3mOrcF2rShbnhkgiIIuLeOfu1fg95LjWMokVm\n",
       "zOTZB4J7PG484qmPYhRF2Vg2ObaAs3zHSQUd2MKd5g36p61S9XtfOkvTekSvtdU8rZOf168Gco6Z\n",
       "ofCZPLgszRkvmAsTNiroDq/qb/Ft41OmRmjYJ+uCK9Eut96w/NTTfa69SyNYRbMDcccKECPr89X3\n",
       "LDQMe612SOvaNNO84jDG8F9IgPh6ZAINirKiGxu5DAj44r33+JGP5wNY3D/zabZKvK3NYxqA7q6Z\n",
       "55rFq7qZJkUirvSKpMtpLPFIYMGoAp8/y6VvtuMaLP+1yidsPXtIwXKfDqGbAQ18/1mcsa69Qf4n\n",
       "DcW5KBa3VUpMMJlMiZNG3t0AfZO/0YjDWWZ7RSe+k1/qjQ8u7afW6MQN7onpKVLTGC0QsIXSfJA9\n",
       "0MPhXrS26TeiM7QIrx/xIuOhfyskhHndBgyEYOdoY13DKxgdbdwTidByk5vTucMsr71EsCKi+Dds\n",
       "L/RqD404N4tkV0FyCeY7BVzLSfLJZXcaNPrJjepPINR3mDuOiDJfSTjDrj3eU2oy+ijOuBHlSszH\n",
       "VaAXFWteU/E5ukCmCdBTlGybc4J74/lG+lHEtluwPwnCxzQVuYXU+6OhxGt8/VQ0cIDAiYkeVinN\n",
       "v620gJL0zY9GoynRDqmjcFRhgGzNiEzRsqLvuL2eXa1nTPkihLF2kzuO8kE5JA0uMU95QHdbmeXf\n",
       "MeNVbeSYabDpbgeFfOMomngdfJNGiUCcwTGFV3X0bLe/k4aHEES4e4bsUMSICirZAAAAh0GeHkUV\n",
       "LBD/BK/NGLwV6UQj6ADXaiewzF3liE7jIAfP3JpLNWbCPIBVvMv3MPNBsha6nIneuazJe6Ta3WQC\n",
       "3FZ+yuRxp1hmwTsHeI1zmiWhke1avOSpLbaVWy2txCsSo9iuyQtR7aJBIiwwJMY3/BevPV3Sy+85\n",
       "GNOPULbvM+bgTp/RZjzagAAAAGMBnj10Q/8GSQ/CvQAllESvE3Chm/mXieeVpXYoNyyQu3yP8p7l\n",
       "JTe4zkbOPezWzbM3jwEWWOwnqn87NQWMMT9Renp2zlxy1h0f4F1+wqr3YAAa7bLciTYhk27D+0Ed\n",
       "Gp9ty8AAAACIAZ4/akP/B440c2egBLKIld9dA9op+S8ZgGA1tNmsAGNaWkPbPCGbJmuoSqZXCo0v\n",
       "tEf0QGL6YxoxYOi86KHueIeupqgoyXLDY0hKCWkDQAXyX1kKw/CQllYvW8jWgjMlxgOVYPbGDuOQ\n",
       "9HvmIHTqQ9tIphOdLBF5R0Xv4U61bjPojn/CO5I7gQAABFVBmiRJqEFsmUwIKf/+1o5sF4mb9YAG\n",
       "4USohHpMyS2xs9wBR4h72gABGZFIf47psEpx2m0QlPcE77n9VYV2p5V1F+PKKqSbSJTlK7czudgg\n",
       "lzdpmEIkGFDh550aq0dlNvH6buoP+G5Ym33ENNLQHTWcNxFlsb7GxrTOhR3D+GM+xxJPWb/1hqPr\n",
       "fCkG9+kdUCCdS2AYR/FnPDVFKFV/0HCUN/LKbLmIq2H278VtG6e19an34CEJbp6NU0A305qsagH4\n",
       "7VeKP0A90Avt91+/5An7db/77dGo1JG3JO7ZbTJ2HZ1qcfSX/6MkL9J+wqj/N/cXZTocvW6qYsJY\n",
       "ZyEG1v2pVxLb5fSV1uGXu8l6kgn7stuW5elkx3hK3FHwsMNotuLADkEnlGfpIAWwsmU50o5uT0fB\n",
       "8p7FBpG+oNAtHtrXgSviEkwAtCSuxI4l9JlS/M7UlJ0t0glgJCVwfqfj94M/aNuUI4prlcD8AU+6\n",
       "5Ljx6skelpPoV0rmoQ+NvcWEJoXoi8E9dgsqCUIADa2xIhHe/aNBUvYrz7AOMpcuJWnA8CbeVksc\n",
       "TRdlOYvuwpzHY/bDwJcwsZ4hBi9aEF30uWvwN2dN8gLb1WncgGRavUCn2m6BfPioN/K7LBgRV5eI\n",
       "t183Ecx/yy1eCawUihCkTiIEtJxMKJwQqGj09ArUcyMqI87/YIAAHB+ByA08yrpuqYvMIArgWafY\n",
       "9/EpXOWallSHe5634fASnB5XOx0QjWiSjfZRJ6MXc0HDQHBmMiapwRVMEvFlJgHQifbkDbxvGKih\n",
       "iVXbhNe4Z4L4ClkUEpL7i3M8IFMHfecqgVHGviZ3kGMsCIrNXjiXOaLKLWgARPkNr9I90nw6BG4o\n",
       "+ubn9O8GvfbyEm/AmOXMrb2uv9uik99T/vzF5//XNYcin+OBhaMmc/NDxiQeOmmKBfRtqb9jzKL4\n",
       "Y/ftjV5Fa18cjW+Tur/6sSyFP/LBIgZR869kIOYTkLamSjLmgZmMpL/DLovvrD4zhlExKQ5XNC8G\n",
       "Oi9XHdv/z0WbdD2q87nvvGAHDaz2FdrDa2DiAm/xxQHyZB83JsLlg+TJ61ehr0DdEQzAIsW1hojy\n",
       "+KRJNOan0dc5COuXdkXwKhzp5Rg8Qc34vY3EA9AcubGTCWBV5vuzfLonOhWzhf6imFXoTQ9dxOJ6\n",
       "jL4TA5Y8emPToyfmcSLLUlUssJwUCWpbHRPJEpO2dqhQnY1PZb9terZcTV3Sp8uxujB4zTHIjYe9\n",
       "gTJmzPRqSsdwkGYANtzrEh1FOk7dud/iKsomOc7hczX4qDIBoU1lpwicx6Ssb4x7Yj6WKiHWLwjk\n",
       "7wn+05yoKf1DxExTVo4zufUB9aAPlXkwH7RuTuHvSBR4EEhunMHE75qzrQsA4Yu8R6VPRp+cIsaH\n",
       "g/XBXgh5TMiaD4YS8lgI5Em9CUXdrSoyjDz97F/QeEQigRM1diESMnu+SAAN9M8KxzlRwWitc2HE\n",
       "a7nkQAAAAHZBnkJFFSwQ/wOXHV8/AABxnN0CMqvQKO20ukc14WDRjeYp9ly5RN+Ls1z8kQwXOfUr\n",
       "YjwMqcGpT62MdSOYV8uzD9HTH5QwURv2Y3VT8BSFXJdX7Pbvd8iRlSMG4UjfY4ZzCj+PhIR/SYaE\n",
       "7SmgfkbCaAar48LBAAAAfQGeYXRD/wZS4whOAC3URK8TcKGb+ZeJ55Wldig3LI/46XnA6Gw6hX49\n",
       "jcUBs/uOvWxp7zmQ4u6Cq84ujUZbNl9yjITtLAwebXNH+Bd/0d4NYs7nFHH9MwzbcVGlqb4x6zLy\n",
       "h+CGpiVQHilH+widLvzPj7lJeMh4JxWoqQNmAAAAggGeY2pD/wZSm5cJwAW6iJXibhQzfzLxPPK0\n",
       "rsUG5YD15/H0k4/ynuUlWWPejPCWKJmAMvaiSHusiBgOQFlWbmV/txU6o7HiK6RQDImzOV/vuHUP\n",
       "5uhil4iFjPmToq2kMHW4Tho3djBerwrlqz32jzFWLBInAFZA4hxPev2ABcrnouEAAAQuQZpoSahB\n",
       "bJlMCCn//taOXDrClI/6wARNvwaVAf2JiPPbVXVa+k4oAPno8yVwtyNrLd9GN/y1x/SeKHRlS+OJ\n",
       "jUFZ9qu455v4JuEj+I+6l6OPgLU7EOMvuLjp0qIhD4eaq1wytiMZMFUn/B8o32RHUw8wgN1gYj6X\n",
       "3d53iVp+AAyXxi6WUJPlt1ALG6EbBNGVxmgPOrXC/YbLNLxf/sqA1G+MHweLqf0jJqjbMRPv6cL+\n",
       "B+QwJnxT04zE+kYONxe6URR5AyA6io4Al59RceTwYrJ3vKc7Id6TErjKvCtb0hXUPDckAf7xSXI4\n",
       "GKkYpzuz5cSYf6N3Qaran8F4s3mx5VXt3laOEPnAiKLSsaKjPQOwCOfNAzCfvPyhx0AwGiSL5Y+B\n",
       "dxE+MZ4DbcKWyxVyChdTdJNpQ8kyQ5YYiOFAEbUYUBreAavxw0Jovv8QeS0q+mVmJemWQvMAfzt8\n",
       "2j1UOAj4n+qBtOpympyRECsYxPPNAKm9W9by6AInDne3Pu99ebwVSAvh1rSYp2O86//bF7MJzKx2\n",
       "BTtVlY4FLiiwEnQcMOB+433Iep16IZZjaBrW0L+lAYBX8Oy/ZLGVq6tCXs7oHvY4wabVhGHWwxxQ\n",
       "np4LsuymbJ0+cZ1nodMsyg7nkbdVPeWANR5KbJxKPsaR8bDN1pCVpD9aVzXrbVnZw5xdRjP3yU8Z\n",
       "ckiDzZbj0Jj28ctpJvkVgOJ5rXoKtFSCKQ5heF+9alOhrcleryIAiXuSxOHohd3qFvEXC2mpOlvT\n",
       "0wvEJrFZB9ano7oIdYOtlTJ/Ar+eXJ7/N93CMlzrlEnWtSUNNBcrXsK2rXQBsJNcmxFQa4HyDWlH\n",
       "TzAQVXasbXasMwv+aFch5HvKnV0iclnNmDt1+3JtA0EQdUZB9v86ryMqqirdNA9/oE5Uj9c/dF6k\n",
       "VPv0vJugJ9MTziozmFIf9iAfRAHZggEtkq8twszMzHrmP7JY1HQb0Qm1Bslte+XzRypB3CvZpjGD\n",
       "NxOEpjUFqc0xKiBcYkBWWMlR5G+e1joedTWG166sC2PHq3FUpUN8PwNESVi+eBEryMkFnsxtVADz\n",
       "mug+AXvyKq/XFSZ1KMo4FEkypZWWYS6l8oUKMwgfEpBVxh4XKoi95ca+rmImKOlNaHkhRWWXdkhQ\n",
       "+23y6RaedV0KTdcWqCkGZAM9KoW4RLlfi/nMcXJ0oA8LwGSFV+B4RHHIkzsdHTSF1S/7AhuEOmzj\n",
       "O8AazMCg3FHSad0gOk90cFUYBpjhkroq+xi7GHsdmHwTGscorO6Nx7/mClEZOFupmVqLjnvHYiDd\n",
       "WMFjEDpnxXKwWQD1mrGW2KCqxtOWO14hAKaK6cYF9YQh8PE9Ad8NxvqDQi4e/QenAXbH5Di1JReE\n",
       "CzJYQnoDngnzJ81glui3HOMqA+rQzF/DtjDnOaMvVJ9PkGRpCWMAAACOQZ6GRRUsEP8D280y3vCi\n",
       "AEk2gihlefM6TRXYN4q72kkjoEk55T32lARTM0TY91O5GQknqWQXnM4OWnb9obH85v7Rjd9khzF3\n",
       "CE7msCliELySCNQHZxnuX2KsIXcvcdZRXlsXF0OXKLgz7xNIroE1EbbYZiBUN+D4cLtFpT9MZF0p\n",
       "7Af4xz4MOZW9/pd3QQAAAJEBnqV0Q/8Gl1egBLKIld9dA9op+S8ZgGA1tNmsAGNYngfuR/lPcpKb\n",
       "3Dp9M3jCWrGdBkJNDoUmRa8awT2RGaKEWVUm6cGoATgeD/A4n2FWZNfSEZtbUQVWNGFWZQbQtIDh\n",
       "XTWFiSxnUDFOi1i883sK5mKCOPQIvlLfcI12Av0Fv6b1+0jdUBLf439i4fr84JE/AAAAfAGep2pD\n",
       "/wZJD8MNQAkG7KJbN0zlqOfBiGihLP6ygLnI3QL/CCmRMN7WN4/El+I9KHesXg5TPj4UXHI6SjNk\n",
       "jO4ZgyZUoPSgW6yRaCWaSR/rTf37QaYrKnQI++cl4xUrBf1zIXNbLltf7seq+PM17+4Rbv0samJw\n",
       "k1n5XTgAAALyQZqsSahBbJlMCCn//taOaOnF//FADjDjqQPyDd1gJQ8icf4Axop51jCIA8cE2/bU\n",
       "C825px58mwKnLI7fm6cqJz92ef1He3TSWc0CE+3uI/SbvdV4H7vONNX1BwlVLKyBM81qLsnG578o\n",
       "5D6xV5SE34Psh7JQBoYRKNbEbOovsYxbkEwut0s6aPdB/4G7RsFKtUUZjFJd758mO78LnmT3SLdl\n",
       "MfnubvvqzDth6+NSBPcAhMif63tGEWfxIcgx9ljOT/O04GdbBVNmYlZByC6K2FW1OQK1dvYyqsNa\n",
       "iCd3UJBXDsQFESvdM5XRDAwF6dbVHHTuRSjxJBhUnOhvs/BrggN22CNmmq9DyvjyuupWY9t3fbMx\n",
       "VF84TOZvQ0Hhro0RnPvZVrI5cAfEon6TdX39Lg5vvoK4VnV380WrFZts0c01ygDial7AUChdyzZT\n",
       "Sz3EAx0Im6sXFcHxd2pJndBRY0bCJtC4P/6lAsAJHy/B0LKDexXIN9I+A2cIxCn7dZiFeRuK/qSY\n",
       "eJB29PSxfkwkkC98MnADzvu8Q0TKvkLXMvUkx5Lhnh46OySKAHvbmY27/NXSkSlpDmJPr0lFZsfi\n",
       "2+KjERdheGzLSFrZm9otpGNDDSd9lA0VB7FtKcnOAR6SWe0aMN8FvH0+mkRkTly8wgrvNZ0hDqLV\n",
       "sDYOPZEKCYDfvgaxt4kGX0VwngOHKxhpOmmdzuht33XhANGIsEVaSfS1zh80nRgIK4Ci52XXoXKG\n",
       "t1E80ot6fsdpQD+js/QmqlMXA+fRiC9pW5Ia/+ewSztPgBWskRHvQtRwvFb5reTyUoz/iiOgSSMs\n",
       "uJKzR8a8fpNng3AhJExXOFdMm4Byqpw+QSXNPx2c1WF6viufAERS3iX/wpG7nZs+edL8SEVxOyoH\n",
       "4KG3lz4Zq5FAC4kDe2ksta5cMiXs6VXucnSp1UG39wf0DHqOtuO361XqqbCiRGaQZ3g3E4xPyeLN\n",
       "+OrvOTZaUw4cjtdY3c94F/D6w3s2pAAAAIJBnspFFSwQ/wPd3j4AALpRQ/zheJ6QsD0xtOqRQNSf\n",
       "peAMwI8pOdcaW6jwal62VFNuSkuzs2XHAEOAtda+9zNGGWOlMujP9HTH/kHwBZjMbY+CRW4aSLW8\n",
       "HWhCj1vrlCeu3yPhj/WkPGnjZDhMbdHV7NS75SGmKahsCATNHKndjSThAAAAqwGe6XRD/wZS4whO\n",
       "AC3URK8TcKGb+ZeJ55Wldig3K/tXoLEjj/Ke5SU3uM5Gzj3s1s2zN48BFljsJ6p/OzUFjDE/UXp6\n",
       "ds5cdFOlpE7JSo39VmqgYpbXpgW5VSb1qS683SRHHFumd2J2F2LUmuFIkJMGBvBfAelKeOmb34gv\n",
       "L8jqhSjnXslAo3ytVkxTF/22p2sV+Hr8hEI6Jd/U8eeLYfbyJAFceyQAhwqAgAAAAHMBnutqQ/8G\n",
       "SQ/CvQAllESfxu4CMfG3yrlogIXVNGp6X5Ehgn5Qfzlqn/UUWahOUoiDWLSr5D1lNVj6TFl0a6oI\n",
       "D8Rtqwmr/tRB/gdD79n+sVlm7SPBpLJnK0wQbkxwnyokljYlS001HSQgI/PMj/sTNM9SAAADTEGa\n",
       "8EmoQWyZTAgp//7Wjn9o7f/UALYQtgmS3Qe0/caG9xgDPQl46gCA4MHuKlDjWki0y1gnTZrmfDhJ\n",
       "hZSf7ia0DjsXLP2/XzJOZvX7PiMhFnaPKm9bw+HmqsgeKoSxTnM1q7dMtxA7ydujeOV7uDZYtkmm\n",
       "nL8ZRgkgfd0V98/qDL9AxK2ughtDlxeR4lVyh7Pe33JlB8l+/quhyQDVLFn5TnRWFh47XhfRkoZa\n",
       "wPqk2vV46GhpfMexvX0Gfk5LxsE4TX4EZMGrN/tyTFgQQyR5zkSfYiPpVd9hEsM+GastPaMvaZTu\n",
       "rUX4igmKQUbqGyYvPwckH1eyzWv/CjS7SNlaZgOiEdm1dS4QRJ5Ltq+0/vGWftOlwcSNqqEPHjIX\n",
       "itX41X96eeHQA8aZPTgo7ilHbK2gXTdPIEH+Z/WFui+g/Qd/usLp6pELuv8/F9/Hy6ksAjRPsISW\n",
       "q8xyPit+LGhoOGuy9YAKmsVhZ0WZnYp+GSakLiZqQvZWlnW05vBItPFgRwSq8CxrpSlHWgEmEnYI\n",
       "BmaaqYfdSHeH+Gwpf+TsMHZhGlu09MmemYCBYeGq/3uBwpFRKykVWTywi5IgSY37//Ria9LBZmjs\n",
       "5Kefsvaxarp5YsE+Xt9OlBfuvIrX/+vmVYLvHBkHmpNuGfCBTGRahUbCsDxRNj5StUnGujLuUO47\n",
       "fcPO2rW4vIsbzH4WFG+Yv8qK/LnCLWiZLtFVW05QsHq1gvetMs/7GKCMhqiPMe0e8XOJwRBOIxFM\n",
       "vhvCawTSc3ozGEDqh8MRT8S+HKGkGDbAgVfWtmvexfxTsnv//YgTl/+ebnv1ZnGBqtHWK28VEVDv\n",
       "53QZ4+VpypKdzdMm1AqGUJJJIOy/1EyMurNjbaZr+ABtiZNvr0IUFPX7sNdeECgQ5LGwRwpzTzrT\n",
       "/nM9zT+KL/LSG7p+lF9TAnXufOl5zSr/B2P8ieElEzZqonhFMoOrSNO3h9I0G8OAIUflWBFIJb9/\n",
       "pjgehs5KW2gBfcM4ur104LwMP4y38/44ROZEW5JflWSZKt6DFnyZr6sN7ssEfhGLcII4PwrV8f/S\n",
       "guS6gR1lZccC05Fo6pPdFSUODRv/Haa2fODxmwMD7o+z9hWQomxBhALtBA8AAACGQZ8ORRUsEP8D\n",
       "3d4+AAC6Odlc1J1iItca32grxqFXCs6b8cgFU3Q31iSEMy0rRFJ5fh5md2Gb9ipGkqZGtqfGLxKp\n",
       "emXXJ997FlkleZ7XzQTE/fjDt91d2qGiGbNeTlt7gcM8Xed8B3qwQaVkgAd1dmhUwMGMecNm+Ij1\n",
       "Fxp2p0u37q/UNWEAAABoAZ8tdEP/Bkqn4V6AEsoiV4m4UM38y8TzytK7FBuWEcRpPaTkf5T3KSm9\n",
       "yAjbwliiZgEmYszyO/iCwRBpT2RGaKEWVUm6cPyXSIzPBg1P+kR9yC7WOZfr4yInUk0VUbMw+d56\n",
       "NOjn3oEAAABtAZ8vakP/BkkPwr0AJZRErxNwoZv5l4nnlaV2KDcsj0vznH+U9ykpvcOn0zeMJasZ\n",
       "0Eu2KiWU4dmd+IED5M0WpOKpN04NQAnFEH+B0PsKf6xWWbzwNjvkXtDl+1ofGX5b2a3VlHXu9Wrc\n",
       "eKcbgAAAAypBmzRJqEFsmUwIKf/+1o/mNIpQBCDnHy5a8Hwv4aNp+s0T/19CwG0oIHcALopkDJga\n",
       "YvTpRqhdGzzxrfOkrlUB+KmkY1MYttWIeuYpab2HI5JIvIFACWE1FkdVYN6pBHC15jA1l1l3bVRM\n",
       "RrM4SDg3C98t432m6mnyLdCTqKcnwN15kpc5a8jOuXufGnnRsI6xlSs32WqF/qaIhx7qX3Jpob4b\n",
       "FGwiVeoAU8wL4VoOEhiOe+fAYI52GyotQzsQgfSxbixWvQDb4lnLis+skAhkxtAusg4nFcZSbPcj\n",
       "27+dwfQzzwR/IwAvhiELEqbCykVuHzl6dkuEhgAHtErwvbhGcS9XLsbOCsZa9NsBhGhWoCdr+iVo\n",
       "YEewdu7Uj1xrHulWXLuxvWXEW9DOrWmhGc2OeRURqrwswR6lUVIll4VE7mqufI0W3g/RvmRQ7wCB\n",
       "afVkeaz/hKCjitXthL5y6Pgae3tw4sUj96NSWMaPTzX7tvnAhRYVBIUCgFbJb534RQGQSZSz9Eqc\n",
       "nD0I2EIrdk0n6MIF6CgMAUFsYEM5iV3OP9zMGsyta3639v6w12U38B9VoWApJRpbpaLhE1xJvmRa\n",
       "eEWVfk6DY1ytkccRXYwuXbHnC7CW2faDoJS8XZ8lXhZnlYycAoUxLZtVXex+ie/Qjm3Wd1Z/qDgj\n",
       "/3gsy3Icu/gga+d7OzwnCG1m+3IQBzh58KDo1bCFcnycZiAEa+0FVrFdiwq7ubwKA2OnqEzmUbcp\n",
       "p0mgOT8+0fSai7dkyE+T4C/sOrwyKMhNIQLP/+4KyzDICqqcGTJbrgBK2TIIhyMGDx9XExigHavg\n",
       "aD60hxOHj7lhnZNYPHqHZBAOfu5F5sUxHd9/FN4STwn72R7zCQ6wgLYgoiRShEPZ/cb5HHcd4ddb\n",
       "ST4Z8lei/4C7OeRkZSwv/PYStFlR+ld3zQYbdX9ATY6Of1lxUTRFq/GCjJvBxUuUqY0NywgW/NGf\n",
       "6pabeiAE/rbaxNiKxowP9iIE1i/syoxaCob+UDW0tC+6eVMYeEPplP7Hmh2HZB7uYibHa59iQ7jh\n",
       "oTId34o5vNdPwzuRW9UNlmW5uYAAAACCQZ9SRRUsEP8Er80YvBXnHkU7JQAa9Y4e3z+WODNUhQCQ\n",
       "dUkxq9jlOQdj0j4yulhRxo8VE1Z0e8isPhuLPkAtx6/srkjYleC6D01T1sbyqYn9Ur010J2FqGYu\n",
       "gV7ux13l+YHZ8VX/ljqrYu8lTOcGyqY0581isV6LIh8I5WYCnfEbQQAAAG4Bn3F0Q/8GUuMITgAt\n",
       "1ESvE3Chm/mXieeVpXYoNyyQtxyGCfrp/rap4boCpc76Bi8/0rz9QavTYGXryGJUUZ9UAqxIXeZv\n",
       "pSK7zTfb6v/+wqi+C7HbvnsHvojIrncevw2K4Xtt7yNYp6gDtimzaAAAAIgBn3NqQ/8HjjQ7uRxd\n",
       "ACWURK766B58igdjFqSIp0nBPiPMD/3fX7W1CGbgGV0HLDZg32cWnFYR3sTn5+4ITZzoqfQXCPI4\n",
       "Atqzby9nLJlS8HTwfyi9a/X8RfWCan7ypPxVKENlv3qH1e+TlFsK1Bhp+PuSFB/2LIOKeP58/Mpo\n",
       "dMSYrcWNT/LgAAACTkGbeEmoQWyZTAgn//61Llk6QIfUABuFuGAavqkryJDwHYAfiO5Ig9YyZEHT\n",
       "3YzyLLW0Hl4EIsbvXphzuUd9fzIGG1eshRbN1kAq/oVDvp/giGc3hosBB82MjWLVAftIPTnKgM2i\n",
       "RP6xDFEubu4gWYGEbrC0d+Tq7ryFuF4KUJntgH4DskrOyl1kTGPadg3YWhuJUBRxsqY1O4JSXq8N\n",
       "MEtD2zFTQdIoFHPlWNHsOl88BjPioLDDfn033Nq3OXawBcgfFTfrZdOo7GesbVNBMTSNRYberK4O\n",
       "XBmCZtS/hCq0xEUrDiyD9a8eQ2MOe2sIm2Lrkz7Sr0C3w9rbsiHN//TRk/nHJwG8JiEhua+9MF7D\n",
       "3Fr5ctUrj4GdKKfRkyMGq7gYRV947x8Sr/q4L1wffrW3mu0kxV0GnqTU9WUJuTVaJaThvRReoC+C\n",
       "WOFrEDO9s8g7EdwrfAtS5KCIhMEw+6fMiMx2ijIUgHapSMLcpokZmmbpT554zbLONJKQJtSXyjsi\n",
       "dRsR35HkmK6v28KH5zt5LG81rhxXoiM3Lp/kG7/VSSkl1rsZbOO2GgWHwqfnKqEgeZCiwxak+lmn\n",
       "UMFiio+gAbRthTMfMWMbvager6aN+L36ZWU4kXZKLb9ds4frdGvt4PW09bjF8mHUpRbgGhoMldDt\n",
       "+s34SgOa012DE0eIhIFIaSfBqcezaiEJGd/fBbqjIfjDC4SN2rNnVRdd7aAmCW5H4osAkfuhOHcd\n",
       "mjkQ0RcUGCSHGiRXN2h4csyTvdTuPxPYppMv91++Pkc5AAAAX0GflkUVLBD/A8qzh/AABws9aAMf\n",
       "bMVmAFuL25AnUgFLRX0Y4Z0b0gYuz6UVfXzw/5uDgZhHwTedwVVBaYqG2Wqp9keSOpC1+qL0NWmN\n",
       "j+38gaxmWyOLQ4rsmCwSDAcIAAAAagGftXRD/wZKp+FegBLKIleJuFDN/MvE88rSuxQblhHEaT2j\n",
       "vOB0Nh1Cvx7G4oDZ/cdetjT3nMhxd0FV5xdGoy2bL7lGQnaWBg9mcqeDBqf9kdrkF2scy/XxkROu\n",
       "CMIvbaiO1hC/P9iUykEAAABxAZ+3akP/BkkPwr0AJZRErxNwoZv5l4nnlaV2KDcskKlJgwT9dP9b\n",
       "VPDdAVLnfQMXn+lefqDV6bAy9eQxKijPqgFWJC7zN9KRXecWj/WE/2FF3wS95ztNjkJLos2p0oCb\n",
       "yn3SFf/qiy8zTkzT9b8ZtIkAAAIAQZu8SahBbJlMCCf//rUuMusG2f/igBGW87E4+9LiCC2cshXE\n",
       "e40GoBPuTHZTBWvoPr+eaBnKYyr1qOoq9hbSUZHKP9B2mGMRVke457BN7yVBRP6Xl8peRlAce+7I\n",
       "1i64v6BcMuN6YuKz3lLSGiH7mKSrpT8IPPfSbE54gdh2NuTzKXWRMbgo+XgYVvRhJ4KOCnc/BoXr\n",
       "8Qk7kVZemT0KCajX+IVWKE3LTmQ1tr3QVAqHPNqZkQtMDGHAB75u19B8TpdjtzTLvKux0qaWnxiS\n",
       "S5KnHXPRzsfQfCJ19chGaAY4vQjzgbfE9fAonfhBlfjqxQZqmAzzaXp4b8KZTngjYz6jtu7R32s9\n",
       "fjDtzKA6WjqSokBpbXG24GKwX08wqIGdkHGQxVM25vFYMQmb1gtuoiQsIsxuKzBdPJzB7TC77JO4\n",
       "5g8xM8wKuPXowsgMR+gPX9WmkyeIrS99lrmCUzbdqMznvT4XOAMBtthpXOagidap5fswOLyn3Dds\n",
       "enTai65oYhrKEx2tVFZkUA8mxXNHuJU8By6n9ecUa81Ms+SL2mNfcmU9SN80kCiFSFAWOTDBPpTE\n",
       "2DU+8b9sYKgCQ7re5kMKRtmEKb5PLVa+NiKyDcmYK/2ndKEJsaKiCkwppA031KjtN4RkSHgG4/ij\n",
       "fNaAQtIeA9AT/ZSTyttVypB+buAAAABfQZ/aRRUsEP8D280yB96JwfEAAPhYDf2I0OgWddWE06qC\n",
       "sYrW6JYOGlkaPvQwtEMlrjo8bduVdAJ0Il+4pEcuuT8OskkPnnM0avjseoaxT8iuV7GeWA8NnCxR\n",
       "Z0dFOTEAAACCAZ/5dEP/BpdXoASyiJXfXQPaKfkvKz8rXfhAvjCKwxhsYM2U/CxXMRv4PTOJDpf0\n",
       "9iBGVl/K1czKXwYzkuqxrh6/FHEDnMrbvBwMI/1ht9hU5MFR23gfYOgMO8jMKbDWs3SwzXJKbQFh\n",
       "rABT37whU2rA4HBDpUJjMcTmGPe487TL8wAAAGkBn/tqQ/8GSQ/CvQAllESvE3Chm/mXieeVpXYo\n",
       "NyyQqUmDBP10/1tU8N0BUud9Axef6V5+oNXpsDL15DEqKM+qAVYkLvM30pFd5xaP9YT/YUXfBL3n\n",
       "O02OQkuizanSfN5CTkc2+A9CK7EAAAICQZvgSahBbJlMCCf//rUuUjZdv8UAHGOOxNSLF+jFQ+uT\n",
       "AK0JRyRAkAvYzF/l9f3goOgyTUfTBpx5m8nXqEHi4FJewM4Ng2znUQLOD4jyn7Mr3tZrpFkaxdcX\n",
       "9Crq3BXGyJ6NgAfpT/LHxI48d7DeCNYC4RERL2T+J6diuLGoQdDEcm2ZJZovo42WLxYxNJqexGEJ\n",
       "VesEDxSPUFGL7x2zOR+s25JbUAOrK0EqezlcTPDfJ1HFerAA+Z65gxS+CqgrxsUGQgxTUwK/rGRi\n",
       "dA5AQpiF6l3AhdVK3rM6jcR/AUfmuoAGFztVuO1LOjGTyVERqHX5XhBnkhs2vSksVvTfta4rSy+N\n",
       "iS00MwxYI4DfHG1V23eL3qs2fOpYnyk6NcyNgcj2wnweNq3X2p+wp4kX+jq3SeEfzTyiyYP0odtD\n",
       "TJsRFAhhi8OP59HS/m/NjZ+XgAvVvyFC/aMdeL117dzXNT7D3rf9lcm6BmfNzytXEVuqHwbnpmMu\n",
       "9B2vKFbINwRmtHJB7x/BfNiUkFkURHPNYaY/NS6unQ+oALyO844NMcH9MO9slqectix9YG2iYYuy\n",
       "d+POZqpsQenRun1GiCXHyoRIPhqNXe7p1rQhQuqQphl5cpFjAohcnvtuXmwHNCo5o9Ew8eFPRboX\n",
       "xES63G3I58UL/iAGU5Q74T6f4ZR/Rck3rQAAAF5Bnh5FFSwQ/wPd3j4AALpR/x9U9SsVTJNp1SJ5\n",
       "xTI50Cs5gVKSDtcc27pZ3PwDp3BDL37eOCjkLEQeNIlbLHSmXRn+jpj/yDzQ7XyIWKTFJVub7REH\n",
       "Qg7h9sROYZdwAAAAegGePXRD/wZS4whOAC3URK8TcKGb+ZeJ55Wldig3K/tXoLEjj/Ke5SU3uM5G\n",
       "zj3s1s2zN48BFljsJ6p/OzUFjDE/UXp6ds5cdFOlpE7JSo39VmqgYpbmH7JPXqULFUO3nGILPNAI\n",
       "8I+COCxwqrVCxeT6UMyULXzU45GAAAAAdQGeP2pD/wZJD8K9ACWURJ/G7gIx8bfKuWiAhdU0anpf\n",
       "nOP8p7lJTe5ARt4SxRMwCTMWZ5HfxBYIg0p7IjNFCLKqTdOH5LfiiD/A6H2FP9YrLN54Gx3yL3rJ\n",
       "7a8GhEm2d4EZrJwAPHEwTGA3VuJiTTHDXREXwQAAAQ9BmiRJqEFsmUwIJf/+tS5zeQ+qATpRgQAD\n",
       "ioMyI0WhyMEnVSni4DytBUEe0oog929xcIdLpQlhAnTFLBrlUGuRJy8m8jWLCdP4Xi9p5nc5IQLz\n",
       "H7hAK9YF7S8eeUNulbzk5sqUI45VR9h7R9PTiVcE/YDjD+jKmxPcMUf3K6z0J8FeMKYWOSjFk/Yl\n",
       "3eWVSq5kB7lVlL9PW1Dx98qZi9E2RQCoVQiSW+AgAZHrqJBzZRnil7ZdKC2JykglUw6wqJieMzm9\n",
       "gkTkqs44ZAMC+l2rKgS+/ObaLkDnvsIOjLnHgpJq443tIXn6yviBVroe4BWzuNNgoAR/eTuDn+2D\n",
       "hYX6wAuQAl28pX/lyyTMN6UpAAAAeUGeQkUVLBD/A93ePgAAujUQhND7oETL9rfbdHvMiVLCHxWq\n",
       "IWGJvXQmBTIOA5SnABtXt8FOG3NZon0aanPl20aAjdQBG6zn9k1kFl6gVUvSoJvCufxREHMfZRCi\n",
       "Obkcl5hoBfaR1mO0ipzVhTP0N9Df23HCkO/K4l8AAABhAZ5hdEP/Bl228TgAt1ESu+ugewgGT3da\n",
       "0/KDm5/tqFx/lPcpKb3ICNvCWKJmASZizPI7+ILBEGlPZEZooRZVSbpw/JdIkOkTsYKjf1WbyBWj\n",
       "OYfsyvrlwsVQ5oMTovqXMAAAAGwBnmNqQ/8GSQ/CvQAllESvE3Chm/mXieeVpXYoNyyPS/IkME9o\n",
       "QA7J7xsEu/oLx19aJyBO6AwTL38/F0mkJFYf2Q0naWE3O48zHwdN0T7+J7nM+K5iO3BzOGiUmSiY\n",
       "xRSo/h7mJK6FGOwtMDkAAAD3QZpnSahBbJlMCH///qmmlcNyMAJalwc0t/HaxKIzkr1FdM3mmLmA\n",
       "e5QWs+WY422pv3IH5dQdqTKxtwUIHtOJeCTHEQbtp8gqVh9JMuAMSurIM/esnYnNuokg6uwsqrwF\n",
       "uwQGxEKXWrBmcKHv5Zbu+lM23QBzeASs3T4LmO/txDIo/kKTdIvDC+sgj/gWAplp8Teb+cXSRxGr\n",
       "71Sv8DjN9l9havURvMT1ekd6iTKFyQ5Wb+w0FMBEAOpKPSMobhwpOvRthMdieWYPOfpC5r6xC0V3\n",
       "PfsnvCNjH8+rymwBDaFqQi21KCoCo09nmbO02fdnJjAhT6u3gQAAAC1BnoZCH/8FyF6Wd9uqT6Xs\n",
       "04wvQvEP7AAD5fk1G3hDmXyj0aaRhtkrSln4HoEAAAAvAZ6laRD/Bb7EaBERb4097QjnvSrrBrxo\n",
       "gH0MuoY9V7tOaAAc40IphHYMKFSKrKEAAAyPbW9vdgAAAGxtdmhkAAAAAAAAAAAAAAAAAAAD6AAA\n",
       "nEAAAQAAAQAAAAAAAAAAAAAAAAEAAAAAAAAAAAAAAAAAAAABAAAAAAAAAAAAAAAAAABAAAAAAAAA\n",
       "AAAAAAAAAAAAAAAAAAAAAAAAAAAAAAAAAgAAC7l0cmFrAAAAXHRraGQAAAADAAAAAAAAAAAAAAAB\n",
       "AAAAAAAAnEAAAAAAAAAAAAAAAAAAAAAAAAEAAAAAAAAAAAAAAAAAAAABAAAAAAAAAAAAAAAAAABA\n",
       "AAAAAbAAAAEeAAAAAAAkZWR0cwAAABxlbHN0AAAAAAAAAAEAAJxAAAAQAAABAAAAAAsxbWRpYQAA\n",
       "ACBtZGhkAAAAAAAAAAAAAAAAAAAoAAAGQABVxAAAAAAALWhkbHIAAAAAAAAAAHZpZGUAAAAAAAAA\n",
       "AAAAAABWaWRlb0hhbmRsZXIAAAAK3G1pbmYAAAAUdm1oZAAAAAEAAAAAAAAAAAAAACRkaW5mAAAA\n",
       "HGRyZWYAAAAAAAAAAQAAAAx1cmwgAAAAAQAACpxzdGJsAAAAtHN0c2QAAAAAAAAAAQAAAKRhdmMx\n",
       "AAAAAAAAAAEAAAAAAAAAAAAAAAAAAAAAAbABHgBIAAAASAAAAAAAAAABAAAAAAAAAAAAAAAAAAAA\n",
       "AAAAAAAAAAAAAAAAAAAAAAAAGP//AAAAMmF2Y0MBZAAV/+EAGWdkABWs2UGwl+oQAAADABAAAAMA\n",
       "oPFi2WABAAZo6+PLIsAAAAAcdXVpZGtoQPJfJE/FujmlG88DI/MAAAAAAAAAGHN0dHMAAAAAAAAA\n",
       "AQAAAMgAAAgAAAAAFHN0c3MAAAAAAAAAAQAAAAEAAAZQY3R0cwAAAAAAAADIAAAAAQAAEAAAAAAB\n",
       "AAAoAAAAAAEAABAAAAAAAQAAAAAAAAABAAAIAAAAAAEAACgAAAAAAQAAEAAAAAABAAAAAAAAAAEA\n",
       "AAgAAAAAAQAAKAAAAAABAAAQAAAAAAEAAAAAAAAAAQAACAAAAAABAAAoAAAAAAEAABAAAAAAAQAA\n",
       "AAAAAAABAAAIAAAAAAEAACgAAAAAAQAAEAAAAAABAAAAAAAAAAEAAAgAAAAAAQAAKAAAAAABAAAQ\n",
       "AAAAAAEAAAAAAAAAAQAACAAAAAABAAAoAAAAAAEAABAAAAAAAQAAAAAAAAABAAAIAAAAAAEAACgA\n",
       "AAAAAQAAEAAAAAABAAAAAAAAAAEAAAgAAAAAAQAAKAAAAAABAAAQAAAAAAEAAAAAAAAAAQAACAAA\n",
       "AAABAAAoAAAAAAEAABAAAAAAAQAAAAAAAAABAAAIAAAAAAEAACgAAAAAAQAAEAAAAAABAAAAAAAA\n",
       "AAEAAAgAAAAAAQAAKAAAAAABAAAQAAAAAAEAAAAAAAAAAQAACAAAAAABAAAoAAAAAAEAABAAAAAA\n",
       "AQAAAAAAAAABAAAIAAAAAAEAACgAAAAAAQAAEAAAAAABAAAAAAAAAAEAAAgAAAAAAQAAKAAAAAAB\n",
       "AAAQAAAAAAEAAAAAAAAAAQAACAAAAAABAAAoAAAAAAEAABAAAAAAAQAAAAAAAAABAAAIAAAAAAEA\n",
       "ACgAAAAAAQAAEAAAAAABAAAAAAAAAAEAAAgAAAAAAQAAKAAAAAABAAAQAAAAAAEAAAAAAAAAAQAA\n",
       "CAAAAAABAAAoAAAAAAEAABAAAAAAAQAAAAAAAAABAAAIAAAAAAEAACgAAAAAAQAAEAAAAAABAAAA\n",
       "AAAAAAEAAAgAAAAAAQAAKAAAAAABAAAQAAAAAAEAAAAAAAAAAQAACAAAAAABAAAoAAAAAAEAABAA\n",
       "AAAAAQAAAAAAAAABAAAIAAAAAAEAACgAAAAAAQAAEAAAAAABAAAAAAAAAAEAAAgAAAAAAQAAKAAA\n",
       "AAABAAAQAAAAAAEAAAAAAAAAAQAACAAAAAABAAAoAAAAAAEAABAAAAAAAQAAAAAAAAABAAAIAAAA\n",
       "AAEAACgAAAAAAQAAEAAAAAABAAAAAAAAAAEAAAgAAAAAAQAAKAAAAAABAAAQAAAAAAEAAAAAAAAA\n",
       "AQAACAAAAAABAAAoAAAAAAEAABAAAAAAAQAAAAAAAAABAAAIAAAAAAEAACgAAAAAAQAAEAAAAAAB\n",
       "AAAAAAAAAAEAAAgAAAAAAQAAKAAAAAABAAAQAAAAAAEAAAAAAAAAAQAACAAAAAABAAAoAAAAAAEA\n",
       "ABAAAAAAAQAAAAAAAAABAAAIAAAAAAEAACgAAAAAAQAAEAAAAAABAAAAAAAAAAEAAAgAAAAAAQAA\n",
       "KAAAAAABAAAQAAAAAAEAAAAAAAAAAQAACAAAAAABAAAoAAAAAAEAABAAAAAAAQAAAAAAAAABAAAI\n",
       "AAAAAAEAACgAAAAAAQAAEAAAAAABAAAAAAAAAAEAAAgAAAAAAQAAKAAAAAABAAAQAAAAAAEAAAAA\n",
       "AAAAAQAACAAAAAABAAAoAAAAAAEAABAAAAAAAQAAAAAAAAABAAAIAAAAAAEAACgAAAAAAQAAEAAA\n",
       "AAABAAAAAAAAAAEAAAgAAAAAAQAAKAAAAAABAAAQAAAAAAEAAAAAAAAAAQAACAAAAAABAAAoAAAA\n",
       "AAEAABAAAAAAAQAAAAAAAAABAAAIAAAAAAEAACgAAAAAAQAAEAAAAAABAAAAAAAAAAEAAAgAAAAA\n",
       "AQAAKAAAAAABAAAQAAAAAAEAAAAAAAAAAQAACAAAAAABAAAoAAAAAAEAABAAAAAAAQAAAAAAAAAB\n",
       "AAAIAAAAAAEAACgAAAAAAQAAEAAAAAABAAAAAAAAAAEAAAgAAAAAAQAAKAAAAAABAAAQAAAAAAEA\n",
       "AAAAAAAAAQAACAAAAAABAAAoAAAAAAEAABAAAAAAAQAAAAAAAAABAAAIAAAAAAEAACgAAAAAAQAA\n",
       "EAAAAAABAAAAAAAAAAEAAAgAAAAAAQAAKAAAAAABAAAQAAAAAAEAAAAAAAAAAQAACAAAAAABAAAo\n",
       "AAAAAAEAABAAAAAAAQAAAAAAAAABAAAIAAAAAAEAACAAAAAAAQAAEAAAAAABAAAAAAAAABxzdHNj\n",
       "AAAAAAAAAAEAAAABAAAAyAAAAAEAAAM0c3RzegAAAAAAAAAAAAAAyAAADQ8AAAUEAAAAhQAAAIUA\n",
       "AACHAAADhAAAAHkAAACDAAAAdgAABBQAAAB+AAAAfAAAAIsAAAPqAAAAdQAAAGsAAACPAAAD3gAA\n",
       "AHkAAAB7AAAAeQAAA64AAADNAAAAcAAAAHkAAANpAAAAVwAAAGUAAACVAAADvwAAAJkAAACAAAAA\n",
       "ewAABJoAAABzAAAAfQAAAGwAAATYAAAAbgAAAG4AAACiAAAERQAAAH0AAACKAAAAdAAAA4gAAACQ\n",
       "AAAAdwAAAGYAAAPOAAAAmwAAAHQAAAB4AAADjAAAAIEAAABjAAAAcQAABEoAAACeAAAAcAAAAIQA\n",
       "AALzAAAAagAAAGoAAACGAAADpwAAAGgAAAB3AAAAdwAABAMAAABtAAAAlwAAAJEAAAL/AAAAjwAA\n",
       "AHIAAABwAAAC6gAAAKAAAABnAAAAZAAAAkEAAABrAAAAYgAAAF8AAAH7AAAAewAAAGIAAABjAAAB\n",
       "5QAAAGkAAABhAAAAZwAAAxIAAAB/AAAAeAAAAKcAAAULAAAAXQAAAIkAAACEAAAEQgAAANYAAAB4\n",
       "AAAAbAAAA5wAAABtAAAAhAAAAG8AAASYAAAA1QAAAIEAAAB7AAAD9wAAAH8AAAB+AAAAgAAAAxMA\n",
       "AABXAAAAbgAAAIcAAAKYAAAAYAAAAI4AAAB7AAACSQAAAHMAAABnAAAAZAAABDkAAACoAAAAeQAA\n",
       "AHUAAAOPAAAA0wAAAHsAAAB1AAACvgAAAFYAAAB2AAAAegAAApgAAABtAAAAaAAAAHcAAAInAAAA\n",
       "WgAAAGgAAABuAAAEbQAAANkAAAB1AAAAhQAABEkAAACCAAAAiQAAAH8AAASwAAAAiwAAAGcAAACM\n",
       "AAAEWQAAAHoAAACBAAAAhgAABDIAAACSAAAAlQAAAIAAAAL2AAAAhgAAAK8AAAB3AAADUAAAAIoA\n",
       "AABsAAAAcQAAAy4AAACGAAAAcgAAAIwAAAJSAAAAYwAAAG4AAAB1AAACBAAAAGMAAACGAAAAbQAA\n",
       "AgYAAABiAAAAfgAAAHkAAAETAAAAfQAAAGUAAABwAAAA+wAAADEAAAAzAAAAFHN0Y28AAAAAAAAA\n",
       "AQAAACwAAABidWR0YQAAAFptZXRhAAAAAAAAACFoZGxyAAAAAAAAAABtZGlyYXBwbAAAAAAAAAAA\n",
       "AAAAAC1pbHN0AAAAJal0b28AAAAdZGF0YQAAAAEAAAAATGF2ZjU2LjQwLjEwMQ==\n",
       "\">\n",
       "  Your browser does not support the video tag.\n",
       "</video>"
      ],
      "text/plain": [
       "<matplotlib.animation.FuncAnimation at 0x1fca8ca3278>"
      ]
     },
     "execution_count": 16,
     "metadata": {},
     "output_type": "execute_result"
    }
   ],
   "source": [
    "# create animation\n",
    "anim = FuncAnimation(fig, update_frame, frames = np.arange(0,N,50))\n",
    "# display it\n",
    "anim"
   ]
  },
  {
   "cell_type": "code",
   "execution_count": null,
   "metadata": {
    "collapsed": true,
    "slideshow": {
     "slide_type": "subslide"
    }
   },
   "outputs": [],
   "source": []
  }
 ],
 "metadata": {
  "anaconda-cloud": {},
  "celltoolbar": "Slideshow",
  "kernelspec": {
   "display_name": "Python [Root]",
   "language": "python",
   "name": "Python [Root]"
  },
  "language_info": {
   "codemirror_mode": {
    "name": "ipython",
    "version": 3
   },
   "file_extension": ".py",
   "mimetype": "text/x-python",
   "name": "python",
   "nbconvert_exporter": "python",
   "pygments_lexer": "ipython3",
   "version": "3.5.2"
  }
 },
 "nbformat": 4,
 "nbformat_minor": 1
}
