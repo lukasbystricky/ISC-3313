{
 "cells": [
  {
   "cell_type": "markdown",
   "metadata": {
    "collapsed": false,
    "slideshow": {
     "slide_type": "slide"
    }
   },
   "source": [
    "<p style=\"text-align: center;\"><font size=\"8\"><b>Functions</b></font><br>\n"
   ]
  },
  {
   "cell_type": "markdown",
   "metadata": {
    "collapsed": false,
    "slideshow": {
     "slide_type": "slide"
    }
   },
   "source": [
    "Functions are the most general purpose control structure. We have already seen several functions, for example `abs(x)` returns the absolute value of x. Today we will look at creating our own functions."
   ]
  },
  {
   "cell_type": "markdown",
   "metadata": {
    "collapsed": true,
    "slideshow": {
     "slide_type": "subslide"
    }
   },
   "source": [
    "Let's say that we want to convert a temperature in Fahrenheit to Celcius. In assignment 1 you were given the formula\n",
    "\n",
    "$$ C = \\frac{5}{9}(F - 32).$$\n",
    "\n",
    "That is, given a temperature in Fahrenheit $F$ we can compute the temperature in Celcius."
   ]
  },
  {
   "cell_type": "code",
   "execution_count": 1,
   "metadata": {
    "collapsed": false
   },
   "outputs": [
    {
     "name": "stdout",
     "output_type": "stream",
     "text": [
      "31.111111111111114\n"
     ]
    }
   ],
   "source": [
    "F = 88\n",
    "C = 5/9*(F - 32)\n",
    "print(C)"
   ]
  },
  {
   "cell_type": "markdown",
   "metadata": {
    "slideshow": {
     "slide_type": "subslide"
    }
   },
   "source": [
    "We could also define a function, say `FtoC` that does the same thing:"
   ]
  },
  {
   "cell_type": "code",
   "execution_count": 3,
   "metadata": {
    "collapsed": false
   },
   "outputs": [
    {
     "data": {
      "text/plain": [
       "31.111111111111114"
      ]
     },
     "execution_count": 3,
     "metadata": {},
     "output_type": "execute_result"
    }
   ],
   "source": [
    "def FtoC(F):\n",
    "    C = 5/9*(F-32)\n",
    "    return C\n",
    "\n",
    "FtoC(88)"
   ]
  },
  {
   "cell_type": "markdown",
   "metadata": {
    "slideshow": {
     "slide_type": "-"
    }
   },
   "source": [
    "Functions are declared with the keyword `def` (short for define). It is followed by the name of the function, here `FtoC`. Parentheses enclose a series of parameters that are passed in by the caller (F). If a function does not require any parameters there must still be opening and closing parentheses. Finally an indented body contains the code that is executed when the fucntion is called.\n",
    "\n",
    "\n",
    "    def function_name( parameters) :\n",
    "        body\n",
    "    "
   ]
  },
  {
   "cell_type": "markdown",
   "metadata": {
    "slideshow": {
     "slide_type": "subslide"
    }
   },
   "source": [
    "## Function name\n",
    "\n",
    "A function name follows the same rules as a variable name. It must only consist of letters, digits and underscores and it cannot start with a digit. It also cannot be a reserved word, for example \"`class`\"."
   ]
  },
  {
   "cell_type": "markdown",
   "metadata": {
    "slideshow": {
     "slide_type": "subslide"
    }
   },
   "source": [
    "## Parameters\n",
    "\n",
    "We are free to choose the names of the parameters. The name we give a parameter is known as a *formal parameter*; it serves as a placeholder for a piece of information from the caller, known as the *actual parameter*. We cannot assume to know the name of the variable name used by the caller. In fact when we call `FtoC(88)`, the actual parameter has a value of 88, but no name. \n",
    "\n",
    "In general formal parameter names should be chosen in such a way as to suggest their meaning. That's why we chose `F` in the function above; we could also have chosen `far` or `fahrenheit`. \n",
    "\n",
    "Each time our function is called the formal parameter `F` gets assigned the value "
   ]
  },
  {
   "cell_type": "markdown",
   "metadata": {
    "slideshow": {
     "slide_type": "subslide"
    }
   },
   "source": [
    "## Body\n",
    "\n",
    "The body of a function can be any valid Python code. This includes loops and if statements. \n",
    "\n",
    "A difference between the body of a function and that of loops and if statements is that any code in the body of a function has **local scope**. This means that variables inside a function do not interact with variables outside the function."
   ]
  },
  {
   "cell_type": "markdown",
   "metadata": {
    "slideshow": {
     "slide_type": "subslide"
    }
   },
   "source": [
    "Local scope is good because it means that we do not have to worry about what variable names are used by the caller and the caller doesn't have to worry about what variable names are used in the function. \n",
    "\n",
    "An exception to the local scope rule is modules. Modules that are loaded outside the function can still be used inside the function."
   ]
  },
  {
   "cell_type": "code",
   "execution_count": 1,
   "metadata": {
    "collapsed": false
   },
   "outputs": [
    {
     "name": "stdout",
     "output_type": "stream",
     "text": [
      "F= 31.111111111111114\n",
      "C= 12\n"
     ]
    }
   ],
   "source": [
    "C = 12 # we might already have a variable called C\n",
    "\n",
    "def FtoC(F):\n",
    "    # here we create a variable C inside the function\n",
    "    C = 5/9*(F-32)\n",
    "    return C\n",
    "\n",
    "print(\"F=\", FtoC(88))\n",
    "print(\"C=\", C) # notice how the value of C has not changed"
   ]
  },
  {
   "cell_type": "markdown",
   "metadata": {
    "slideshow": {
     "slide_type": "subslide"
    }
   },
   "source": [
    "## Return values\n",
    "\n",
    "Because of local scope the caller cannot access variables defined inside the body of a function. In order to retrieve any information from a function, the function should have a **return statement**. \n",
    "\n",
    "When a return statement is called, the function ends. Note that this does not mean that a return statement must be the last statement in a function. Sometimes you may want to have a conditional statement that returns different values to the caller depending on some condition. We'll see examples of this later."
   ]
  },
  {
   "cell_type": "markdown",
   "metadata": {
    "slideshow": {
     "slide_type": "subslide"
    }
   },
   "source": [
    "Sometimes you'd like a function to return multiple values. In this case it is customary to return a tuple of values."
   ]
  },
  {
   "cell_type": "markdown",
   "metadata": {
    "slideshow": {
     "slide_type": "subslide"
    }
   },
   "source": [
    "## Exercise\n",
    "\n",
    "Write a function `circleArea()` that takes a radius `r` as a parameter and computes the area of a circle according to formula:\n",
    "$$ A = \\pi r^2.$$"
   ]
  },
  {
   "cell_type": "markdown",
   "metadata": {
    "slideshow": {
     "slide_type": "subslide"
    }
   },
   "source": [
    "## Exercise\n",
    "\n",
    "Write a function `isEven()` that takes an integer `n` as a parameter and returns `True` is the number is even and `False` otherwise."
   ]
  },
  {
   "cell_type": "markdown",
   "metadata": {
    "slideshow": {
     "slide_type": "subslide"
    }
   },
   "source": [
    "## Exercise\n",
    "\n",
    "Write a function `sphereInformation()` that takes a radius `r` as a parameter and returns the volume *and* the surface area of a sphere. Use the formulas:\n",
    "$$ V = \\frac{4}{3}\\pi r^3, \\qquad A = 4\\pi r^2.$$"
   ]
  },
  {
   "cell_type": "markdown",
   "metadata": {
    "slideshow": {
     "slide_type": "slide"
    }
   },
   "source": [
    "## Flow of Control\n",
    "\n",
    "When a function is called, whether a built-in function or one that you defined, control passes directly to the body of the function. The body of a function can call other functions. Once a function finishes, control is passed back to whoever called it.\n",
    "\n"
   ]
  },
  {
   "cell_type": "markdown",
   "metadata": {
    "slideshow": {
     "slide_type": "subslide"
    }
   },
   "source": [
    "Before the user calls a function, it must be defined. For example, the following code will not work because we are trying to call the function `fib` before it is defined."
   ]
  },
  {
   "cell_type": "code",
   "execution_count": 5,
   "metadata": {
    "collapsed": false
   },
   "outputs": [
    {
     "ename": "NameError",
     "evalue": "name 'fib' is not defined",
     "output_type": "error",
     "traceback": [
      "\u001b[1;31m---------------------------------------------------------------------------\u001b[0m",
      "\u001b[1;31mNameError\u001b[0m                                 Traceback (most recent call last)",
      "\u001b[1;32m<ipython-input-5-9218c7a8901a>\u001b[0m in \u001b[0;36m<module>\u001b[1;34m()\u001b[0m\n\u001b[1;32m----> 1\u001b[1;33m \u001b[0mprint\u001b[0m\u001b[1;33m(\u001b[0m\u001b[0mfib\u001b[0m\u001b[1;33m(\u001b[0m\u001b[1;36m5\u001b[0m\u001b[1;33m)\u001b[0m\u001b[1;33m)\u001b[0m\u001b[1;33m\u001b[0m\u001b[0m\n\u001b[0m\u001b[0;32m      2\u001b[0m \u001b[1;33m\u001b[0m\u001b[0m\n\u001b[0;32m      3\u001b[0m \u001b[1;32mdef\u001b[0m \u001b[0mfib\u001b[0m\u001b[1;33m(\u001b[0m\u001b[0mN\u001b[0m\u001b[1;33m)\u001b[0m\u001b[1;33m:\u001b[0m\u001b[1;33m\u001b[0m\u001b[0m\n\u001b[0;32m      4\u001b[0m     \u001b[1;31m# create list of Fibonacci numbers, append first two numbers\u001b[0m\u001b[1;33m\u001b[0m\u001b[1;33m\u001b[0m\u001b[0m\n\u001b[0;32m      5\u001b[0m     \u001b[0mfib\u001b[0m \u001b[1;33m=\u001b[0m \u001b[1;33m[\u001b[0m\u001b[1;33m]\u001b[0m\u001b[1;33m\u001b[0m\u001b[0m\n",
      "\u001b[1;31mNameError\u001b[0m: name 'fib' is not defined"
     ]
    }
   ],
   "source": [
    "print(fib(5))\n",
    "\n",
    "def fib(N):\n",
    "    # create list of Fibonacci numbers, append first two numbers\n",
    "    fib = []\n",
    "    fib.append(0)\n",
    "    fib.append(1)\n",
    "\n",
    "    # loop from 2 to N-1 (giving you N total terms)\n",
    "    for i in range(2,N):\n",
    "        # apply reccurance relation\n",
    "        fib.append(fib[i-1]+fib[i-2])\n",
    "    print(fib)"
   ]
  },
  {
   "cell_type": "markdown",
   "metadata": {
    "slideshow": {
     "slide_type": "slide"
    }
   },
   "source": [
    "## Optional parameters\n",
    "\n",
    "We've seen some built-in functions that take in optional parameters. For example when plotting a line, we can specify the color and line style if we want, but if we don't the default is just a blue line with no data markers (i.e. '-b'). We can write functions that do this too."
   ]
  },
  {
   "cell_type": "markdown",
   "metadata": {
    "slideshow": {
     "slide_type": "subslide"
    }
   },
   "source": [
    "For example consider a countdown function."
   ]
  },
  {
   "cell_type": "code",
   "execution_count": 7,
   "metadata": {
    "collapsed": false
   },
   "outputs": [
    {
     "name": "stdout",
     "output_type": "stream",
     "text": [
      "10\n",
      "9\n",
      "8\n",
      "7\n",
      "6\n",
      "5\n",
      "4\n",
      "3\n",
      "2\n",
      "1\n",
      "BLASTOFF\n"
     ]
    }
   ],
   "source": [
    "def countdown():\n",
    "    for c in range(10,0,-1):\n",
    "        print(c)\n",
    "        \n",
    "    print(\"BLASTOFF\")\n",
    "    \n",
    "countdown()"
   ]
  },
  {
   "cell_type": "markdown",
   "metadata": {
    "slideshow": {
     "slide_type": "subslide"
    }
   },
   "source": [
    "Suppose we wanted to let the user select the starting value. Most of the time the user would select ten, but it would be nice to let them choose a different number sometimes. The starting value 10 would then be called the **default parameter**."
   ]
  },
  {
   "cell_type": "code",
   "execution_count": 9,
   "metadata": {
    "collapsed": false
   },
   "outputs": [
    {
     "name": "stdout",
     "output_type": "stream",
     "text": [
      "5\n",
      "4\n",
      "3\n",
      "2\n",
      "1\n",
      "BLASTOFF\n"
     ]
    }
   ],
   "source": [
    "def countdown(start = 10):\n",
    "    for c in range(start,0,-1):\n",
    "        print(c)\n",
    "        \n",
    "    print(\"BLASTOFF\")\n",
    "    \n",
    "countdown(5)"
   ]
  },
  {
   "cell_type": "code",
   "execution_count": 10,
   "metadata": {
    "collapsed": false,
    "slideshow": {
     "slide_type": "subslide"
    }
   },
   "outputs": [
    {
     "name": "stdout",
     "output_type": "stream",
     "text": [
      "10\n",
      "9\n",
      "8\n",
      "7\n",
      "6\n",
      "5\n",
      "4\n",
      "3\n",
      "2\n",
      "1\n",
      "BLASTOFF\n"
     ]
    }
   ],
   "source": [
    "def countdown(start = 10):\n",
    "    for c in range(start,0,-1):\n",
    "        print(c)\n",
    "        \n",
    "    print(\"BLASTOFF\")\n",
    "    \n",
    "countdown()"
   ]
  },
  {
   "cell_type": "markdown",
   "metadata": {
    "slideshow": {
     "slide_type": "subslide"
    }
   },
   "source": [
    "We can have multiple optional parameters."
   ]
  },
  {
   "cell_type": "code",
   "execution_count": 12,
   "metadata": {
    "collapsed": false
   },
   "outputs": [
    {
     "name": "stdout",
     "output_type": "stream",
     "text": [
      "5\n",
      "4\n",
      "3\n",
      "2\n",
      "1\n",
      "YIPPIE!\n"
     ]
    }
   ],
   "source": [
    "def countdown(start = 10, message = \"BLASTOFF\"):\n",
    "    for c in range(start,0,-1):\n",
    "        print(c)\n",
    "        \n",
    "    print(message)\n",
    "    \n",
    "countdown(5,\"YIPPIE!\")"
   ]
  },
  {
   "cell_type": "markdown",
   "metadata": {
    "slideshow": {
     "slide_type": "subslide"
    }
   },
   "source": [
    "The user can specify what parameter to set."
   ]
  },
  {
   "cell_type": "code",
   "execution_count": 13,
   "metadata": {
    "collapsed": false,
    "slideshow": {
     "slide_type": "-"
    }
   },
   "outputs": [
    {
     "name": "stdout",
     "output_type": "stream",
     "text": [
      "10\n",
      "9\n",
      "8\n",
      "7\n",
      "6\n",
      "5\n",
      "4\n",
      "3\n",
      "2\n",
      "1\n",
      "YIPPIE!\n"
     ]
    }
   ],
   "source": [
    "countdown(message=\"YIPPIE!\")"
   ]
  },
  {
   "cell_type": "markdown",
   "metadata": {
    "slideshow": {
     "slide_type": "subslide"
    }
   },
   "source": [
    "## Exercise\n",
    "\n",
    "Write a function `sumOfSquares()` that computes the sum of the square of the first `n` positive integers, i.e. $\\sum\\limits_{k=1}^n k^2.$\n",
    "\n",
    "Make `n=5` the default parameter."
   ]
  },
  {
   "cell_type": "markdown",
   "metadata": {
    "slideshow": {
     "slide_type": "subslide"
    }
   },
   "source": [
    "## Exercise\n",
    "\n",
    "Write a function `sumOfPowers()` that computes the sum of the first $n$ positive integers each raised to some power $a$, i.e. $\\sum\\limits_{k=1}^n k^a.$\n",
    "\n",
    "Make `n=5` and `a=1` the default parameters."
   ]
  },
  {
   "cell_type": "markdown",
   "metadata": {
    "slideshow": {
     "slide_type": "slide"
    }
   },
   "source": [
    "## Lambda Functions\n",
    "\n",
    "Functions that are only one line can be defined inline using **lambda functions**. For example the function `FtoC` could be defined in single line by:"
   ]
  },
  {
   "cell_type": "code",
   "execution_count": 10,
   "metadata": {
    "collapsed": false,
    "slideshow": {
     "slide_type": "subslide"
    }
   },
   "outputs": [
    {
     "data": {
      "text/plain": [
       "31.111111111111114"
      ]
     },
     "execution_count": 10,
     "metadata": {},
     "output_type": "execute_result"
    }
   ],
   "source": [
    "FtoC = lambda F: 5/9*(F-32)\n",
    "\n",
    "FtoC(88)"
   ]
  },
  {
   "cell_type": "markdown",
   "metadata": {
    "slideshow": {
     "slide_type": "-"
    }
   },
   "source": [
    "Lambda functions only make sense when the function is actually something that can be defined in a single line. They should not contain loops or conditional statements.\n",
    "\n",
    "\n",
    "Lambda functions are useful in scientific computing because they allow us to quickly create simple functions to pass in as arguments to other functions. We'll see an example of this shortly. "
   ]
  },
  {
   "cell_type": "markdown",
   "metadata": {
    "slideshow": {
     "slide_type": "subslide"
    }
   },
   "source": [
    "## Exercise\n",
    "\n",
    "Write a lambda function that computes $e^{\\sin(x)}$."
   ]
  },
  {
   "cell_type": "markdown",
   "metadata": {
    "slideshow": {
     "slide_type": "slide"
    }
   },
   "source": [
    "# Newton's Method\n",
    "\n",
    "Last class we saw how to implement a fixed point iteration to solve a nonlinear equation. Today we will look at a better method.\n",
    "\n",
    "Newton's method is a simple yet highly efficient method for finding the roots (i.e. the zeros) of a function $f(x)$. Starting from an initial point $x_0$, the following sequence of values converges $x^*$, where $f(x^*)=0$:\n",
    "\n",
    "$$ x_{k+1} = x_k - \\frac{f(x_k)}{f'(x_k)}.$$\n",
    "\n"
   ]
  },
  {
   "cell_type": "markdown",
   "metadata": {
    "slideshow": {
     "slide_type": "subslide"
    }
   },
   "source": [
    "That is, given $x_0$ we can find $x_1$, which is closer to $x^*$:\n",
    "\n",
    "$$ x_1 = x_0 - \\frac{f(x_0)}{f'(x_0)}.$$\n",
    "\n",
    "Once we have $x_1$ we can repeat the process to find $x_2$ and then $x_3$ etc. We repeat this process until:\n",
    "\n",
    "a) $f(x_k)$ is close to 0, and\n",
    "\n",
    "b) $|x_{k+1} - x_{k}|$ is small"
   ]
  },
  {
   "cell_type": "markdown",
   "metadata": {
    "slideshow": {
     "slide_type": "-"
    }
   },
   "source": [
    "Unfortunately, there is no guarantee that either of these conditions will ever be satisfied. To aovid an infinite loop we also add am iteration counter. If this counter goes above a certain value the loop exits and an error message is printed."
   ]
  },
  {
   "cell_type": "markdown",
   "metadata": {
    "slideshow": {
     "slide_type": "subslide"
    }
   },
   "source": [
    "Let's look at a concrete example. Let's say we want to approximate $\\sqrt{2}$. We can do this using Newton's method. \n",
    "\n",
    "We let $x^2 = 2$. This means that $f(x) = x^2 - 2 = 0$. \n",
    "\n",
    "This gives $f'(x) = 2x$. Let's take our initial guess to be $x_0 = 1$. "
   ]
  },
  {
   "cell_type": "code",
   "execution_count": 17,
   "metadata": {
    "collapsed": false,
    "slideshow": {
     "slide_type": "subslide"
    }
   },
   "outputs": [
    {
     "name": "stdout",
     "output_type": "stream",
     "text": [
      "[1, 1.5, 1.4166666666666667, 1.4142156862745099, 1.4142135623746899]\n",
      "[-1, 0.25, 0.006944444444444642, 6.007304882871267e-06, 4.510614104447086e-12]\n",
      "actual error: 1.5947243525715749e-12\n"
     ]
    }
   ],
   "source": [
    "import math\n",
    "\n",
    "# declare maximum number of iterations and tolerance\n",
    "IMAX = 20\n",
    "TOL = 1e-5\n",
    "\n",
    "# create a list to store the approximations to the root and function values\n",
    "x = []\n",
    "f = []\n",
    "\n",
    "# append intial guess\n",
    "x.append(1)\n",
    "f.append(x[0]**2 - 2)\n",
    "\n",
    "# set iteration counter\n",
    "icount = 0\n",
    "\n",
    "# intitialize diff to be some number bigger than TOL\n",
    "diff = 2*TOL\n",
    "\n",
    "# loop\n",
    "while (abs(f[icount]) > TOL or diff > TOL) and icount < IMAX:\n",
    "    x_next = x[icount] - (x[icount]**2 - 2)/(2*x[icount])\n",
    "    x.append(x_next)\n",
    "    f.append(x_next**2 -2)\n",
    "    \n",
    "    diff = abs(x_next - x[icount])\n",
    "    icount = icount + 1\n",
    "\n",
    "print(x)\n",
    "print(f)\n",
    "\n",
    "print(\"actual error:\", abs(math.sqrt(2)-x[-1]))"
   ]
  },
  {
   "cell_type": "markdown",
   "metadata": {
    "slideshow": {
     "slide_type": "subslide"
    }
   },
   "source": [
    "Of course we don't need to store all the previous values of $f$ and $x$. Often we are not interested in them. An alternative implementation would look like:"
   ]
  },
  {
   "cell_type": "code",
   "execution_count": 8,
   "metadata": {
    "collapsed": false
   },
   "outputs": [
    {
     "name": "stdout",
     "output_type": "stream",
     "text": [
      "square root of 2 =  1.4142135623746899\n"
     ]
    }
   ],
   "source": [
    "# declare maximum number of iterations and tolerance\n",
    "IMAX = 20\n",
    "TOL = 1e-5\n",
    "\n",
    "# declare initial guess\n",
    "x0 = 1\n",
    "\n",
    "# set iteration counter\n",
    "icount = 0\n",
    "\n",
    "# intitialize diff to be some number bigger than TOL\n",
    "diff = 2*TOL\n",
    "\n",
    "# loop\n",
    "while (x0**2 + -2 > TOL or diff > TOL) and icount < IMAX:\n",
    "    x1 = x0 - (x0**2 -2)/(2*x0)\n",
    "    \n",
    "    diff = abs(x0 - x1)\n",
    "    x0 = x1\n",
    "    icount = icount + 1\n",
    "    \n",
    "print(\"square root of 2 = \", x1)"
   ]
  },
  {
   "cell_type": "markdown",
   "metadata": {
    "collapsed": true,
    "slideshow": {
     "slide_type": "subslide"
    }
   },
   "source": [
    "## Implementation With Functions\n",
    "\n",
    "This works quite well. However, what if instead of approximating $\\sqrt{2}$, we wanted to solve $x^3 - 9x + \\cos(x) = 0$?\n",
    "\n",
    "We would have to rewrite the code above and plug in a new $f(x)$ and $f'(x)$. If we write our code using functions, we can keep the code flexible and capable of solving different problems. "
   ]
  },
  {
   "cell_type": "markdown",
   "metadata": {
    "slideshow": {
     "slide_type": "subslide"
    }
   },
   "source": [
    "Consider the following function:"
   ]
  },
  {
   "cell_type": "code",
   "execution_count": 16,
   "metadata": {
    "collapsed": true
   },
   "outputs": [],
   "source": [
    "def newton_step(x0, f, df):\n",
    "    return x0 - f(x0)/df(x0)"
   ]
  },
  {
   "cell_type": "markdown",
   "metadata": {},
   "source": [
    "This is a single iteration. We assume that the inputs `f` and `df` are functions themselves."
   ]
  },
  {
   "cell_type": "markdown",
   "metadata": {
    "slideshow": {
     "slide_type": "subslide"
    }
   },
   "source": [
    "We can create a function to do the entire Newton method:"
   ]
  },
  {
   "cell_type": "code",
   "execution_count": 16,
   "metadata": {
    "collapsed": true
   },
   "outputs": [],
   "source": [
    "def newtons_method(x0, f, df, tol=1e-5, max_it=20):\n",
    "\n",
    "    # intitialize iteration counter to 0\n",
    "    icount = 0\n",
    "\n",
    "    # intitialize diff to be some number bigger than TOL\n",
    "    diff = 2*tol\n",
    "\n",
    "    # loop\n",
    "    while (f(x0) > TOL or diff > tol) and icount < max_it:\n",
    "        \n",
    "        # call newton_step defined earlier\n",
    "        x1 = newton_step(x0, f, df)\n",
    "    \n",
    "        diff = abs(x0 - x1)\n",
    "        x0 = x1\n",
    "        icount = icount + 1\n",
    "        \n",
    "    return x1"
   ]
  },
  {
   "cell_type": "markdown",
   "metadata": {
    "slideshow": {
     "slide_type": "subslide"
    }
   },
   "source": [
    "Let's use this code to compute $\\sqrt{2}$."
   ]
  },
  {
   "cell_type": "code",
   "execution_count": 32,
   "metadata": {
    "collapsed": false
   },
   "outputs": [
    {
     "name": "stdout",
     "output_type": "stream",
     "text": [
      "1.4142135623746899\n"
     ]
    }
   ],
   "source": [
    "x = newtons_method(1, lambda x: x**2 - 2, lambda x: 2*x)\n",
    "print(x)"
   ]
  },
  {
   "cell_type": "markdown",
   "metadata": {},
   "source": [
    "By changing just two inputs we can also now compute the solution to the equation $x^3-9x+\\cos(x)=0$. "
   ]
  },
  {
   "cell_type": "code",
   "execution_count": 33,
   "metadata": {
    "collapsed": false
   },
   "outputs": [
    {
     "name": "stdout",
     "output_type": "stream",
     "text": [
      "0.11058269180669812\n"
     ]
    }
   ],
   "source": [
    "x = newtons_method(1, lambda x: x**3 - 9*x + math.cos(x), lambda x: 3*x**2 - 9 - math.sin(x))\n",
    "print(x)"
   ]
  },
  {
   "cell_type": "markdown",
   "metadata": {
    "slideshow": {
     "slide_type": "subslide"
    }
   },
   "source": [
    "## Exercise\n",
    "\n",
    "Modify the code for Newton's method above to return the number of iterations. \n",
    "\n",
    "Use this code to solve the equation $x - \\cos(x) = 0$. Print out the solution and the number of iterations.\n",
    "\n",
    "[answer](https://raw.githubusercontent.com/lukasbystricky/ISC-3313/master/lectures/chapter5/code/newtons_method_test.py)"
   ]
  },
  {
   "cell_type": "markdown",
   "metadata": {
    "slideshow": {
     "slide_type": "subslide"
    }
   },
   "source": [
    "## Exercise \n",
    "\n",
    "Complete the function `fixedPoint()` that does a fixed point iteration to solve the equation $x = f(x)$. It should return a solution x as well as the number of iterations `k`. Use it to solve the equation $x = \\cos(x)$."
   ]
  },
  {
   "cell_type": "code",
   "execution_count": null,
   "metadata": {
    "collapsed": true
   },
   "outputs": [],
   "source": [
    "def fixedPoint(x0, f, max_it = 100, tol = 1e-8):\n",
    "        \n",
    "    return (x1, k)\n",
    "\n",
    "(x, k) = fixedPoint(lambda x: math.cos(x))\n",
    "print(\"x =\",x)\n",
    "print(\"number of iterations:\", k)\n",
    "\n"
   ]
  },
  {
   "cell_type": "markdown",
   "metadata": {
    "slideshow": {
     "slide_type": "subslide"
    }
   },
   "source": [
    "[answer](https://raw.githubusercontent.com/lukasbystricky/ISC-3313/master/lectures/chapter5/code/fixed_point_test.py)"
   ]
  },
  {
   "cell_type": "markdown",
   "metadata": {
    "slideshow": {
     "slide_type": "slide"
    }
   },
   "source": [
    "## Docstrings\n",
    "\n",
    "Docstrings are a way to provide automatic documentation for a function. Without going into too much detail, after you declare a function you can enclose a series of comments inside triple quotes (\"\"\"). Whatever you type here will be printed when you call `help(function)`. "
   ]
  },
  {
   "cell_type": "markdown",
   "metadata": {
    "slideshow": {
     "slide_type": "subslide"
    }
   },
   "source": [
    "For example the a docstring for the function `newton_step` might look like:"
   ]
  },
  {
   "cell_type": "code",
   "execution_count": 29,
   "metadata": {
    "collapsed": true
   },
   "outputs": [],
   "source": [
    "def newton_step(x0, f, df):\n",
    "    \"\"\"\n",
    "    Take a single Newton step starting from x0\n",
    "    \n",
    "    Parameters\n",
    "    ----------\n",
    "    x0 : float\n",
    "        initial approximation\n",
    "    f  : function\n",
    "        f(x)\n",
    "    df : function\n",
    "        f'(x)\n",
    "        \n",
    "    Returns\n",
    "    -------\n",
    "    x1 : float\n",
    "        a better approximation using Newton's method\n",
    "    \n",
    "    \"\"\"\n",
    "    return x0 - f(x0)/df(x0)"
   ]
  },
  {
   "cell_type": "markdown",
   "metadata": {
    "slideshow": {
     "slide_type": "subslide"
    }
   },
   "source": [
    "Calling the help function then prints:"
   ]
  },
  {
   "cell_type": "code",
   "execution_count": 30,
   "metadata": {
    "collapsed": false
   },
   "outputs": [
    {
     "name": "stdout",
     "output_type": "stream",
     "text": [
      "Help on function newton_step in module __main__:\n",
      "\n",
      "newton_step(x0, f, df)\n",
      "    Take a single Newton step starting from x0\n",
      "    \n",
      "    Parameters\n",
      "    ----------\n",
      "    x0 : float\n",
      "        initial approximation\n",
      "    f  : function\n",
      "        f(x)\n",
      "    df : function\n",
      "        f'(x)\n",
      "        \n",
      "    Returns\n",
      "    -------\n",
      "    x1 : float\n",
      "        a better approximation using Newton's method\n",
      "\n"
     ]
    }
   ],
   "source": [
    "help(newton_step)"
   ]
  },
  {
   "cell_type": "markdown",
   "metadata": {
    "slideshow": {
     "slide_type": "subslide"
    }
   },
   "source": [
    "There is no required formatting for the docstring, but it should be readable and provide enough information for a user to understand and use the function. A discussion on some conventions is availiable [here](https://www.python.org/dev/peps/pep-0257/). \n",
    "\n",
    "Don't get too caught up in the exact format of your docstring, clarity is the most important part. Its always better to have some sort of docstring than none at all. Find a style you like and stick to that."
   ]
  },
  {
   "cell_type": "markdown",
   "metadata": {
    "slideshow": {
     "slide_type": "slide"
    }
   },
   "source": [
    "# Modules\n",
    "\n",
    "\n",
    "We've seen how to load in existing Python modules. It is also possible to create our own modules. This is useful if, for example, we want to write a function that will be used in multiple programs. Writing modules also helps keep our script clean and tidy."
   ]
  },
  {
   "cell_type": "markdown",
   "metadata": {
    "slideshow": {
     "slide_type": "subslide"
    }
   },
   "source": [
    "In fact, this is extremely easy. All we do is collect a set of functions and put them in a single python file, say `mymodule.py`. This file is automatically a module and can be imported in the standard way. "
   ]
  },
  {
   "cell_type": "markdown",
   "metadata": {
    "slideshow": {
     "slide_type": "subslide"
    }
   },
   "source": [
    "Let's look at an example. To calculate compound interest, we have the formula:\n",
    "$$ A = P \\left( 1 + \\frac{r}{n}\\right)^{nt},$$\n",
    "where $P$ is the present value of the account, $r$ is the rate compounded $n$ times per year and $A$ is the future value of the account after $t$ years."
   ]
  },
  {
   "cell_type": "markdown",
   "metadata": {
    "slideshow": {
     "slide_type": "subslide"
    }
   },
   "source": [
    "This gives $A$ as a function of $P$, $r$, $n$ and $t$. We can rearrange to solve for $P$ and $t$:\n",
    "$$\\begin{align*}\n",
    "       P = A\\left(1 + \\frac{r}{n}\\right)^{-nt},\\\\\n",
    "       t = \\frac{\\log (A) - \\log(P)}{n\\log \\left(1 + \\frac{r}{n}\\right)}\n",
    "\\end{align*}$$"
   ]
  },
  {
   "cell_type": "markdown",
   "metadata": {
    "slideshow": {
     "slide_type": "subslide"
    }
   },
   "source": [
    "We can now write functions to calculate these values:"
   ]
  },
  {
   "cell_type": "code",
   "execution_count": 21,
   "metadata": {
    "collapsed": true
   },
   "outputs": [],
   "source": [
    "def future_value(PV, r, n, t):\n",
    "    \"\"\"\n",
    "    Calculates the future value of an account\n",
    "    \n",
    "    Parameters\n",
    "    ----------\n",
    "    PV : float\n",
    "        present value\n",
    "    r : float\n",
    "        interest rate (decimal form)\n",
    "    n : int\n",
    "        compounds per year\n",
    "    t : int\n",
    "        number of years\n",
    "        \n",
    "    Returns\n",
    "    -------\n",
    "    FV : float\n",
    "        future value of the account after t years\n",
    "    \n",
    "    \"\"\"\n",
    "    \n",
    "    return PV*(1 + r/n)**(n*t)"
   ]
  },
  {
   "cell_type": "code",
   "execution_count": 22,
   "metadata": {
    "collapsed": true,
    "slideshow": {
     "slide_type": "subslide"
    }
   },
   "outputs": [],
   "source": [
    "def present_value(FV, r, n, t):\n",
    "    \"\"\"\n",
    "    Calculates the present value of an account\n",
    "    \n",
    "    Parameters\n",
    "    ----------\n",
    "    FV : float\n",
    "        future value of the account\n",
    "    r : float\n",
    "        interest rate (decimal form)\n",
    "    n : int\n",
    "        compounds per year\n",
    "    t : int\n",
    "        number of years\n",
    "        \n",
    "    Returns\n",
    "    -------\n",
    "    FV : float\n",
    "        future value of the account after t years\n",
    "    \n",
    "    \"\"\"\n",
    "    \n",
    "    return FV*(1 + r/n)**(-n*t)"
   ]
  },
  {
   "cell_type": "code",
   "execution_count": null,
   "metadata": {
    "collapsed": true,
    "slideshow": {
     "slide_type": "subslide"
    }
   },
   "outputs": [],
   "source": [
    "def years(PV, FV, r, n):    \n",
    "    \"\"\"\n",
    "    Calculates the number of years needed to reach a target value\n",
    "    \n",
    "    Parameters\n",
    "    ----------\n",
    "    PV : float\n",
    "        present value of the account\n",
    "    FV : float\n",
    "        future value of the account    \n",
    "    r : float\n",
    "        interest rate (decimal form)\n",
    "    n : int\n",
    "        compounds per year\n",
    "        \n",
    "    Returns\n",
    "    -------\n",
    "    t : float\n",
    "        number of years need to reach FV from PV\n",
    "    \n",
    "    \"\"\"\n",
    "    \n",
    "    from math import log\n",
    "    return (log(FV) - log(PV))/(n*log(1 + r/n))"
   ]
  },
  {
   "cell_type": "markdown",
   "metadata": {
    "slideshow": {
     "slide_type": "subslide"
    }
   },
   "source": [
    "These functions can be collected and put into a module [`finance.py`](https://raw.githubusercontent.com/lukasbystricky/ISC-3313/master/lectures/chapter5/code/finance.py).\n",
    "\n",
    "If we save this file in the same directory as our interpreter or script, we can call it like a regular module."
   ]
  },
  {
   "cell_type": "code",
   "execution_count": 28,
   "metadata": {
    "collapsed": false,
    "slideshow": {
     "slide_type": "subslide"
    }
   },
   "outputs": [
    {
     "name": "stdout",
     "output_type": "stream",
     "text": [
      "Help on function future_value in module finance:\n",
      "\n",
      "future_value(PV, r, n, t)\n",
      "    Calculates the future value of an account\n",
      "    \n",
      "    Parameters\n",
      "    ----------\n",
      "    PV : float\n",
      "        present value\n",
      "    r : float\n",
      "        interest rate (decimal form)\n",
      "    n : int\n",
      "        compounds per year\n",
      "    t : int\n",
      "        number of years\n",
      "        \n",
      "    Returns\n",
      "    -------\n",
      "    FV : float\n",
      "        future value of the account after t years\n",
      "\n",
      "FV: 270.70414908622433\n"
     ]
    }
   ],
   "source": [
    "import finance\n",
    "\n",
    "help(finance.future_value)\n",
    "\n",
    "FV = finance.future_value(100, 0.1, 12, 10)\n",
    "print(\"FV:\", FV)"
   ]
  },
  {
   "cell_type": "markdown",
   "metadata": {
    "slideshow": {
     "slide_type": "subslide"
    }
   },
   "source": [
    "## Exercise\n",
    "\n",
    "Create a module `imperialUnitConversions` that contains a set of functions to perform various unit conversions. Create the functions:\n",
    "\n",
    "* `feet_to_inches` using the conversion 1 foot = 12 inches\n",
    "* `fathoms_to_feet` using the conversion 1 fathom = 6.08 feet\n",
    "* `acre_to_sqfeet` using the conversion 1 acre = 43,560 square feet\n",
    "* `stone_to_pounds` using the conversion 1 stone = 14 pounds\n",
    "\n",
    "Include doc strings."
   ]
  },
  {
   "cell_type": "markdown",
   "metadata": {
    "slideshow": {
     "slide_type": "slide"
    }
   },
   "source": [
    "# Animations\n",
    "\n",
    "Making animations is a great way to present data. \n",
    "\n",
    "We'll look at how to generate the following animation of an orbit fractal.\n",
    "\n",
    "![fractal animation](https://github.com/lukasbystricky/ISC-3313/raw/3a3230ca4fbec6fff873a91ff3e9da78cac059c1/lectures/chapter5/code/orbit_fractal.gif)"
   ]
  },
  {
   "cell_type": "markdown",
   "metadata": {
    "collapsed": true,
    "slideshow": {
     "slide_type": "subslide"
    }
   },
   "source": [
    "Before we start, it's worthwhile pointing out what an animation actually is. \n",
    "\n",
    "Animations are just a sequence of still images. If we show a bunch of still images quickly, they begin to blur together and we see a moving picture. Think of a flip book."
   ]
  },
  {
   "cell_type": "markdown",
   "metadata": {
    "slideshow": {
     "slide_type": "subslide"
    }
   },
   "source": [
    "This is exactly how we will make animations. We will make a series of still images, in our case they will be plots, and then turn those images into an animation. Specifically we will need to tell Python exactly how to make each frame.\n",
    "\n",
    "The format of the animation is up to us. I typically prefer gifs because they don't require any special codecs to view and can embedded in a variety of presentations. "
   ]
  },
  {
   "cell_type": "markdown",
   "metadata": {
    "slideshow": {
     "slide_type": "subslide"
    }
   },
   "source": [
    "The first step is to generate the data. We saw earlier an example of an orbit fractal.\n",
    "$$\\begin{align*}\n",
    "    x_i = x_{i-1} -h\\sin(y_{i-1} + \\tan(3y_{i-1}))\\\\\n",
    "    y_i = y_{i-1} -h\\sin(x_{i-1} + \\tan(3x_{i-1}))\n",
    "\\end{align*}$$\n",
    "\n",
    "where we took $x_0=0.1$, $y_0=0.05$ and $h=0.1$."
   ]
  },
  {
   "cell_type": "markdown",
   "metadata": {
    "slideshow": {
     "slide_type": "subslide"
    }
   },
   "source": [
    "We saw earlier how to generate this data."
   ]
  },
  {
   "cell_type": "code",
   "execution_count": 32,
   "metadata": {
    "collapsed": false
   },
   "outputs": [],
   "source": [
    "import numpy as np\n",
    "import matplotlib.pyplot as plt\n",
    "%matplotlib inline\n",
    "\n",
    "# initialize empty list\n",
    "x = []\n",
    "y = []\n",
    "\n",
    "x.append(0.1)\n",
    "y.append(0.05)\n",
    "\n",
    "h = 0.1\n",
    "N = 10000\n",
    "\n",
    "# apply reccurance relation\n",
    "for i in range(1,N+1):\n",
    "    x.append(x[i-1] - h*np.sin(y[i-1] + np.tan(3*y[i-1])))\n",
    "    y.append(y[i-1] - h*np.sin(x[i-1] + np.tan(3*x[i-1])))"
   ]
  },
  {
   "cell_type": "code",
   "execution_count": 35,
   "metadata": {
    "collapsed": false,
    "slideshow": {
     "slide_type": "subslide"
    }
   },
   "outputs": [
    {
     "data": {
      "text/plain": [
       "(-25.0, 5.0, -35.0, 10.0)"
      ]
     },
     "execution_count": 35,
     "metadata": {},
     "output_type": "execute_result"
    },
    {
     "data": {
      "image/png": "[encoded data removed]",
      "text/plain": [
       "<matplotlib.figure.Figure at 0x1fca92f55f8>"
      ]
     },
     "metadata": {},
     "output_type": "display_data"
    }
   ],
   "source": [
    "plt.plot(x,y);\n",
    "plt.axis('equal')"
   ]
  },
  {
   "cell_type": "markdown",
   "metadata": {
    "slideshow": {
     "slide_type": "-"
    }
   },
   "source": [
    "This is what the orbit fractal looks like after 10,000 steps. To generate the animation, we will plot the data at a sequence of steps, say every 10 steps. We will then put these plots together to form an animation."
   ]
  },
  {
   "cell_type": "markdown",
   "metadata": {
    "slideshow": {
     "slide_type": "subslide"
    }
   },
   "source": [
    "How do we do this? To generate a sequnce of plots we could use a for loop for example. An easier approach is to use the function `FuncAnimation` from the `matplotlib.animation` module. \n",
    "\n",
    "`FuncAnimation` takes in a figure, a function that specifies how to update the figure and a list (or array) of frame numbers."
   ]
  },
  {
   "cell_type": "markdown",
   "metadata": {
    "slideshow": {
     "slide_type": "subslide"
    }
   },
   "source": [
    "At this point, it might be easier to just look at the code."
   ]
  },
  {
   "cell_type": "code",
   "execution_count": 36,
   "metadata": {
    "collapsed": false
   },
   "outputs": [
    {
     "name": "stdout",
     "output_type": "stream",
     "text": [
      "Using matplotlib backend: Qt4Agg\n"
     ]
    }
   ],
   "source": [
    "from matplotlib.animation import FuncAnimation\n",
    "from matplotlib import rc\n",
    "\n",
    "# configure matplotlib animations to display in notebook\n",
    "rc('animation', html='html5')\n",
    "# take matplolib out of inline mode for now\n",
    "%matplotlib\n",
    "\n",
    "# initialize plot\n",
    "fig, ax = plt.subplots()\n",
    "ax.set_xlim((min(x) - 0.1, max(x) + 0.1))\n",
    "ax.set_ylim((min(y) - 0.1, max(y) + 0.1))\n",
    "\n",
    "data_line, = ax.plot(x[0],y[0])\n",
    "ax.set_title(\"t = %4d\" % 0)\n",
    "ax.set_aspect('equal')\n",
    "\n",
    "# define update function\n",
    "def update_frame(i, x, y):\n",
    "    data_line.set_data(x[:i], y[:i])\n",
    "    ax.set_title(\"t = %4d\" % i)\n"
   ]
  },
  {
   "cell_type": "code",
   "execution_count": 47,
   "metadata": {
    "collapsed": false,
    "slideshow": {
     "slide_type": "subslide"
    }
   },
   "outputs": [
    {
     "data": {
      "text/html": [
       "<video width=\"432.0\" height=\"288.0\" controls autoplay loop>\n",
       "  <source type=\"video/mp4\" src=\"data:video/mp4;base64,AAAAHGZ0eXBNNFYgAAACAGlzb21pc28yYXZjMQAAAAhmcmVlAACzr21kYXQAAAKuBgX//6rcRem9\n",
       "5tlIt5Ys2CDZI+7veDI2NCAtIGNvcmUgMTQ4IHIyNjM4IDc1OTkyMTAgLSBILjI2NC9NUEVHLTQg\n",
       "QVZDIGNvZGVjIC0gQ29weWxlZnQgMjAwMy0yMDE1IC0gaHR0cDovL3d3dy52aWRlb2xhbi5vcmcv\n",
       "eDI2NC5odG1sIC0gb3B0aW9uczogY2FiYWM9MSByZWY9MyBkZWJsb2NrPTE6MDowIGFuYWx5c2U9\n",
       "MHgzOjB4MTEzIG1lPWhleCBzdWJtZT03IHBzeT0xIHBzeV9yZD0xLjAwOjAuMDAgbWl4ZWRfcmVm\n",
       "PTEgbWVfcmFuZ2U9MTYgY2hyb21hX21lPTEgdHJlbGxpcz0xIDh4OGRjdD0xIGNxbT0wIGRlYWR6\n",
       "b25lPTIxLDExIGZhc3RfcHNraXA9MSBjaHJvbWFfcXBfb2Zmc2V0PS0yIHRocmVhZHM9OSBsb29r\n",
       "YWhlYWRfdGhyZWFkcz0xIHNsaWNlZF90aHJlYWRzPTAgbnI9MCBkZWNpbWF0ZT0xIGludGVybGFj\n",
       "ZWQ9MCBibHVyYXlfY29tcGF0PTAgY29uc3RyYWluZWRfaW50cmE9MCBiZnJhbWVzPTMgYl9weXJh\n",
       "bWlkPTIgYl9hZGFwdD0xIGJfYmlhcz0wIGRpcmVjdD0xIHdlaWdodGI9MSBvcGVuX2dvcD0wIHdl\n",
       "aWdodHA9MiBrZXlpbnQ9MjUwIGtleWludF9taW49MTAgc2NlbmVjdXQ9NDAgaW50cmFfcmVmcmVz\n",
       "aD0wIHJjX2xvb2thaGVhZD00MCByYz1jcmYgbWJ0cmVlPTEgY3JmPTIzLjAgcWNvbXA9MC42MCBx\n",
       "cG1pbj0wIHFwbWF4PTY5IHFwc3RlcD00IGlwX3JhdGlvPTEuNDAgYXE9MToxLjAwAIAAAAjQZYiE\n",
       "ABH//veIHzLLafk613IR560urR9Q7kZxYHL/BjNeJgPMMk1nBH4nH1/kUGpt9r0Nf0C6czECzeB6\n",
       "jMMDGEP/ClLB3G2I9DmMSjrnqje1rwa9hTHMAAADAMab5NYjtK10lzHdY+T8AsZHPmdCUttJhxGy\n",
       "vWeEKMxs6eO/3lM3vkhSAi5XFz2wfPXrbxZbq6NhhrF0FuFIrsAv+GJyK/gi04seL/svBr82AU1Z\n",
       "7urP66LuaEJK1oQ57gg+Rn2sV1yVnD61eJrc3htZ8yQ3Yz6HrjSkGlIdW0Borkg23KB6ghgSeUKF\n",
       "9xcq5RC1e5pSD7+VpWZ9UZXf74M8H9qQhZzMoA2ZbF0lyOBPtG+yyWUpPVOZQo0qwCEyWVcX+1qc\n",
       "7NOlBJrUgAeas73iIc4VeT5AMbCp152DDteoJRKC3evhkOwzF+c5Y+eyMOx9RyvZu4QZO6uGj8iI\n",
       "2qhK1cz9GpKmT+pvA3HOk44RVqJ2yCkWKc/EWvKzCY/VAwQ2lqa/4OWvR33gtAjA1SDcAf7EfAbc\n",
       "AQJJygSxQWaWtLOe2Ov/e3zgdoeLBN6EJyZPe2DpG/bsj3/XE2L942gA9Ik2kgjHJa/CYUhCSRk/\n",
       "jjGp7PhnwBzJhDBG2JFBcKjaGM4t1+NBaGiR7feUMx+ScQ5f+hO4Sdxx0tudz2S64Veyl0d7a7FU\n",
       "URnqOLK5eC+CqCmVJ1dYxvVK3nncEE/izskx0LmpH4+aeksAp72cLwFlGrwSlZNac1lpXRVI3p6R\n",
       "Il0j9/kYrD/9/bHXdVD0S2Hf+RcWEG83oyiSfLvGe+1KKBOgdcR1CUqh2L/g1Kbt6Pk9V/BeT1as\n",
       "xa2ouW+E201jB8wfonvgyAhizmaHRHpb6V7KP8qe5dFkeVV8mAPvhNCqzQCEZ0/5+NqhnpUXHMnv\n",
       "RlTvGXK70+krh7rZGlXGTCevRMwjK2PwhptH7x2+WcyqZLOqN+ikHD+IHaaOU3FIPYPWxL3Q0iJU\n",
       "cRFUTSFeyRK+uI331Jf6oyseNNmqUGgoP/7H/ZZR7rGrASOWlqH1CcB6WdLiLJ2tWb7sQYvEPBP7\n",
       "p9lh5OARGh4S/EAWrf1uNAY47hDYRpxKtoPtb7vlEZKxFt+O+Ycz1nR8WfYteq/afOW/2fF32c6a\n",
       "rgYkjnx+kxjNLX/ncyhKWknY/reF1N6hkLVkAERo4VfOI5JGiAV0+iQwnvnGi8c74MvlR9dGL1kZ\n",
       "pvZOf0LOSItCFvRYM7rWKqePxMZHydF8YLRDA5T07wIJKB/Z0FtLgGzCWmaWhJawYCXcgcX/P+88\n",
       "IGK9O3w2ppKYHE8inivuB9SwWexH7RAQNsmVzc/ONWO7nH9mCdeEqrCsliCCs2k8iYlqDOJQQ+f5\n",
       "Y/4mOBNDgzYJp2e6nbcwO/cHpVhGvl/NroRfHJSzK5HkGQHKOxENgHyD3EhAcYJLL/e4C5OCG28+\n",
       "vHOV02lhOKEVO7FdoGXR6DUNlD9pyDOMwwAd5jNyimRCVdXcFUoCFNQkwuGRbPx0dsfMeoz+XArt\n",
       "Z2UEcxVSlscKSsNh1v3eMHNeDlUdsSLy2TUVVuXBxLIrFcjXLST+TgbwYyZnaf6GFiNY9sYJBVOB\n",
       "KA2suIZlXR1FMEIjrUaQOnmSTHoosOgUHC73BTj8+mU4JSnHAEjAipvm6sTuNgLP64VsMNuXxkgG\n",
       "0c/YOuU7NeaYweR0TEqfT5bmy3akSukb5hXYrD++E1Xoc8On4u5Ibsh/q1eLMpXCsRnhiZNS5JBe\n",
       "8Qkm7fKrJKftCIEsVMliubS+AT/kZw9OcNrKYhvGwwI9/yeKpPfgDm68Sq0yrzVo+dauU4We1hp/\n",
       "sLy6U2i1r4IHy9Q0+Ls8fSrQr0DOi2QEQEZQ9NYosr64CcNgAoyHaPhGOfcfovvhgfYFvqWW35Y5\n",
       "ky+9V9UirxDP4PPN99aEHqBuT+6uk+ZdcP5JwGyWyRhBnorXxTTQYS0KtWbYYvBbXiGniI+AFAcu\n",
       "c5H/FohAs6DmHXmXCYp942CXEzVXORtJMVQsvh0xJLAFD8FYBmJTZwZWNE1GWrCwShbW5tDYc1O9\n",
       "DU6n5IUEc2KcC5h3yLBY315e9mvFS5MhIlbFihT170PjlRvZjCslzHBc/uII72DQWCs0Hr5Y5SZv\n",
       "p1g3H2c4RP7lMxMkH+AV6DrArLCuDmfC3YX6xRKda86FhLgfkdSHfg059e973BGdEa+DQueSxNpx\n",
       "UOXVe27dB3S3XYLKLSb4KGEdAprM7RTAsGbGSCVxvv40e0QuhwFPwuSUFquQ1tXR6sxSK/QJoJvY\n",
       "AdBfxQAhog7j2aFYAbmnIdrU6BRTR7ouYITy3jquwTsP+FoqDtK7EtQ4y2ib3VFf7aQJ9BSH6dvb\n",
       "h45L8VmE6AhMo7qtxWcMhQFONdz/Zin7E1rPq2MNx9xwyAAJb9yvOQnvIeKR/mHP3jL+wK8WvC8P\n",
       "ZKnKg2y9EO/OEs5XPG9OxeRJjAqs/eHNgxnwrQisJfjdSJz7Bbpltu//Vryqbg4noXAeJbb2Q7aR\n",
       "5ncz/ha0pHDVkr3lz7bbv/mdw2SZKmAgRfYMDYwC/sn0mPjamjJuJthgEvP+mWASQA/DD+9sLWvj\n",
       "4CMtSs9XwK5yQK8yVRs/y+Hc0rp8swX52IcPax9kLN/fCwDgFkULyHS4HijXf7auJdbUWzm63uFJ\n",
       "RSBOyAGu7snH7trLXS4MQfRKf8adypYsntb26/a7UPVTzlMDZg4tTqPE/ZvoRsghT98f3aP3Ecd2\n",
       "HepN/wnpJHf+7/GSI63Alzlwl+VIs4+0Bo5r/e5jyzqykVozh9VxBv2V5CiwWhH5wldBKnijXf6a\n",
       "cQmavP9GAwTcQU5cOPBrICAh2+FV6U2gqepXtCbyiaSANHo772e1hniSpn1/PkwdhQ8fs+MHMzi5\n",
       "qS129GmEatY8mSMVAKiEiZNuA31pC4CpRHs2cgGzZ/a6Ty5AVoVCVPUYHz7sLCjfnBZgVemOgHTI\n",
       "tBcgmY3OKHgRDN5Ty/wwsO8MGa+Gxiu864ABX/HpAAADlUGaJGxBH/61N1G6qdfzbWJwAR4krLAZ\n",
       "+c/2EsfDz46vpWhPXOonMKca7lrm4UOonYfa6MwM9lPFJHBxDrHc/gABD2mocxu/ATR49F6NG/yX\n",
       "Re3+0xaQvZihGquu/9CMYJZue6HYMxjeGNxTiFdKQoWZZHj2GaA8qIFNvtr9cqEsDeC21JBpvE9v\n",
       "GZodGYP4zp6TRVWj/Q3J7c0BkxwCxaJuUVnmdot191UkxVhLy+UA9DlKM/1X/9JyDLC9Cd6f33VM\n",
       "/P0E4S1Z8/lGNxlr8eR9NfCMDETQwZCHfStEo0KS73sffqdBdfGr8J7bdSGX6pGpUb9MNNhXFa7v\n",
       "d3e1noSjQ12ShyJkjHfQk8egUXEoYxDmxKW8RqxLeLrpjeaY+5nOzRJ0hWrY7A1W88NHEW/UBCQP\n",
       "fMNa3VpwWihtWgxBD874Btdi1rcH7Cdjslp57UKbHOVwGCTW7+EVCb674or2UX3HU0aiXCFgdmvX\n",
       "EvvLAcryWhQ24DIc+xgzDTPJ47SmCwt2C/mHdhlAIJF1or0naGxvkVyjDS15L7rdEcK4XnOppO4e\n",
       "iU+aiy/QCme5zlMg7UYIhtqn05n6VLok8Lr4f9pFNdh5H6xPqRm52MAgDdoXEkpbG5WmRug6fcwJ\n",
       "GdzL26zZvkdc7EEjSXG0UTHXZhwO6rVl2X58NB2kV//1WZz0JTw/62olaYDR44eIiK2X+txYDsLi\n",
       "GToqI0ShRRn2BPrty17f7klTwpLonasxAkzpdZCqJA57oxgMlsaNTVxePk5ZB/SlJ+X8sHYeHfVj\n",
       "039xoFOKxFFV02KRUDzGIS9Gm1aegsIJxpdcYffoN2pGjSsjg1ykBPi7EwP5NQxohvq74RE78+iD\n",
       "NmUdvpxGl6/TUeNXfMMRUtThlwTOKC82RdsUO7o4eqP5nrud0gM/KLwq5hGliKgAXcSkU1nsbYRZ\n",
       "K8EM5bNuh4L6s45fREXGSsyDGUp+lGjiUTRkL8mWuHR78AuuDvS/JVEacDeYaHSwbmk7tKQ+TRL1\n",
       "So+3VB6CkxtBWr3zwfbLl7Mhbtz4NQLf3fICZkm+VBqAQYJ+E/bLquz8LjwNH/laxKqmQ5DHWUEN\n",
       "hdYz4dpDlIvy8mzVWM37o4XhQ46Q6gxp4ev69cJd06YQV15/1nKtz/2NbPJ2BKBrMnaMz6yFRkEk\n",
       "3L8dkYSrEsm1y9hW58ArA+8z2/8b+4EnLYlMg3yoNyLi5rC8RsWAAAAAqkGeQniHfwp/Sn396ADi\n",
       "1gBWrCsWQufWfsFhaDrllgl/Aey9rGltno8ih0weqOltKmC3A4p3W8Wte3rdF9rY+UCxsVpnVnPy\n",
       "TCU2jKS/U4Akx9gtxqafSfSuQheawpPdYk1/buo0Nw6tlKi+y4rg3+2cGNAfZG16duBxDUBWZ9Fu\n",
       "Yjd8xKFez7m5aQw7yb0AMF0Ea1wn4PdW2Zh43DJwhtVt0QZrcwK6q0bBAAAAgwGeYXRDfw1+JdX/\n",
       "Upyw6qgBHw41jKg19RBrLERslJ6TjDUC0ofZGgx7HU25y1zH3QkgOouh4c2x5dWbokrXY4naQfaF\n",
       "hYY4eG7mEjXSymoOW2o8MEPWDh37lFv2G4w0PNzm1mNjpfKBd74Uss465E0pnzEUCL4YoVAIaZHW\n",
       "rSbV9ZbAAAAAdgGeY2pDfwt7KG0L/IAF0n/uI62TXpxeoq7x2c8OBLPdDTLb390onTkXgGJPhdiG\n",
       "UD93y/5x+ghu5jHwLhpAWEcYaDG5L+I/zn4zOw2+JPq1lbog05L9wAkC+RrAuVTIvLJKsMBP255+\n",
       "zA9QmajaqxIy8toGqqUAAAIoQZpoSahBaJlMCCP//rUuUum6v5cAdFJYuLjtn7EFHrv4+RnNvjEA\n",
       "yxD2ntuysQnuRybv6yMkTzMMGHndIbdMVu7QmOmhG2fKQqdK6hxRGs7UHbLOedkQp+aBAtOk8EfN\n",
       "dm1Z0+YP2tn8EHu9JioZFVk+lnWl0T5fCyEbC5/JfKKoBuwrPsSkIurDIUZwXGSa7AO4fw6G/nDq\n",
       "Z5js3rv18ZqEgZZo9ptSBjq8LG6Dg64qi+sAoW8BwgzDmhIe/1GmbO/yh/ZoSCe4XbY5CG/XcQo4\n",
       "jzyRmDIOKug7xy77XRKjiwUnjBPi8ddOK4JfHprN35P6royzXnk0T6jfuBC749BGqwJ5tGfW5aEh\n",
       "cn/KPcIuhiMF9WTnc0PjsJiaBoE/lT/48rtQRLqJ1ROJ7ri5ts4Uukj+6KD3flx3mNswC/IivgKX\n",
       "nJ7oWD7prpLR+8ZzbHOAlNqd2LkjOLzHMwUr0mcoQxaCNBjwp2xar2o3ZeT8BE3Xe3AC3pIUTgX3\n",
       "38DSQBtW2XePEnAJB+Vnjgu0SHJZ1rwRqg2nBfOvQg7iQ8R8LOHO2Ou5Ib7LGnQ+o3fqzpKNxRJj\n",
       "Z/tIt4q5e3O62KVU31Km5X4t6tvnLzdGEb6oxlrGkWOwG4SD0bTqp6d6Rhq9/vJ/QwdJE5vtQLgn\n",
       "z0OcGTfxaXkqe9UI826vkKfJwHmBkgEh5L/q8ctKdm3jtj/SrET5bpM9gaPLOasEup6IuksfmXSB\n",
       "AAAAckGehkURLDv/B4EzNCAfgSiAD8DJtCg6mInjfVNM4EjJ/TkDiwxNgiJup0AE5/8QSTLwLcaO\n",
       "25SA39WVkHraWdKgoD7CPvBr1TmFsPxE8dbpZSKjRkG5JXCCseR4nxXJpEgjMKo/HTFQM/6I6feC\n",
       "dixuwQAAAIYBnqV0Q38KNtxACWT/y6TcMF/EWJFNsYTAvmEYxvHFJ8Wca3qoQCk46Ed7Cl5iyPoS\n",
       "JgHvuKcClpQDi40hcWY9cgJHgoWAMR2KhJEGfmXS1g7BZpIw/17kk5PxBODK829DZeKGV0FsCiI3\n",
       "xoCBFtsLiJlpVuVoXP3XaYzXwM6PMeVq07ghQQAAAGsBnqdqQ38JuP9OiABdJ/7iOtk16cXvaNuD\n",
       "ioZ7nFNbF86TSM3CCEr5rX0lQTDtBtlFwPgmE6aZuFcxlwkOLRh3hYvQJwZF9BokG/FpZ2Edgvy7\n",
       "BweeT31FdEki0+RaR740Byru45gRXahNQAAAAl1BmqxJqEFsmUwII//+tS5S1dOvpAByy4QXd9t/\n",
       "jCIudrhAJGQYKWsackjhHGETQ1nfjcDv2lzVNoiLwiEdppoTzzOgL/jkWgcB5aU8P36ZDeR/p078\n",
       "o2bl71DJqOeH8H+u16oZKzezOClpaHGyW3SNL7N6fNGD2caFAvYNmXxw87f21AUxLrI5EliVY+g1\n",
       "FM6w/8usaJ8eacGKEW/BBVd4nzCSxiBuMiX/rGbW+6xPYFUtUw6vrlnHHFP4CGWrpIjnVev9cmXP\n",
       "CcUStDioFJqs9sZXk/PKgl4dAwAwy6nesBcenE8a7LSdnigjCC4kC86qmQXKAjWKOBQBuAhuv1CB\n",
       "RFflc6mO12LbkewdfSSSJJjfowGrE8s6nQdPljOCWE9lW8niH6EDTgABLepqT70uLTuFddxb7VUE\n",
       "hq+lUCKPN+KT8w7d3WxYqwwzRDMsP9Wv9WrtDHudbLf7r2nn5CHXrorMzTKyaaQgZ2rMLqTkHp0a\n",
       "kMw7gFml1n5hXHmIh0SyK8f7dK5+ANw2Y16RwkL+zK52im4+Rj2nFc9dXWJXNGMNdLEkCQt32rVf\n",
       "pxSrL1RB1bTWorUwv4Z/MmnFAK9OdJFk+IPthxNKnP3dhNV90mt4kBvNKovjnlHv5SO9ENvLv9uF\n",
       "5HCaGZ3rqdjcuQseJjDgkYCgtCzUipvdxmE0uWX+4/RNFupQ5jSdDW+gaq6HNHzHEin3Ajd6EYGy\n",
       "6ivoRx1PcqRhhxD76dm+o4cRO+Az2P8j917enK7ldLre1hXfPWSYUgu9wlwFcJwOv8ok+9Jhl7Lq\n",
       "NmHyIkY/IAAAAG9BnspFFSw7/we/+9ABdKDVXfXKgodmnptntKvTQVlfP36wXaq2SQqA9FEJ6KHy\n",
       "QgQdyBbOTmVCeMwi74/99FBnBG3HL2qUIpiA33Av8NMTAZwNYhy7K8yqf2nTfrOIVd3nA3nZSMud\n",
       "cTOTwM+SvIEAAABxAZ7pdEN/CcrxJcQAlk/9xHWya9OL3uUzTEEs9zaxv9Ie/4lE6ci8AxJ5PuAS\n",
       "gfu+dXwx7O0f8VJJ9c+GX3gxvPJctwBw3Xr92Vnr2Lzl16AwpiiBHWztGZ9KNQuxfeuQL4d5yY9X\n",
       "a8bdpFcuY4E2kuUAAACFAZ7rakN/Cbj/TogAXSf+4jrZNel872jbg4qBbfJNQ+zdZkUkMgAijOlc\n",
       "slQTIa8Ch4sJwTCdWrdiBwktaHFm7BvTrziOSwTsuJ0UTT3bXDWGU51Yylv0QTJREfym5KLyipdD\n",
       "SG9Q35fuZ3kzklMPuGD8sigIxQNk2dedFs9WGJOyg6FO3AAAAlVBmvBJqEFsmUwII//+tS5zBv/p\n",
       "ABWTreihzTLOdYBwVnAZudH1Gu9mbfG18Q2WosLT5VKXaj6G3ExhGMG+X0C0G72nmNudxdDkzJVk\n",
       "ThffUMmc9lwH455qKOr4qOjxTdMud1qWUYZxwFMFeGVN8pCjU5/+g/KTL+4P82sv2rJnk3oX5OVb\n",
       "k6lEF/blZ8TCqCutxgLA3awJJebbcT+cr7PmWffCRWC23k1Fw5tvRwYfbYI1bKw65aOyxlRASDFy\n",
       "u6cLPx/qd6lvTOPbFk/dHFsvZlS+2o9G1B9C0ePs0JuilOpb/JtePqoAclPRBtrVIEzLny5olv+o\n",
       "HuVH6H7sLzN4CSCewhj98xLB3iDutx5nxp2SSOShGcL9CT5/L43Kvr7U2ITkMBrUwgtlLtASBHzm\n",
       "URsxfL7jUgMp/423pGkx/xOyFTwMWchFCkE2wRPzstpCt1Mj+z5YZKgAPkcGvpe6kppcsc5N6eEz\n",
       "NZUXVYLaQN3nSmRBsV16dDFC9jZ3/ginjPM4zTn/tTUcPk/kOHi5Q32hsPhErZNKXw0qsu6NWFEU\n",
       "dk14YJ8gekhz995TAzTEwuXW3o7rrzPhz4HWBCQK8+WsHrEHTJ25ZANPYE+LMYwimb/5Aac3u07+\n",
       "y0M1xem7/+MP4f2YgFLehbMrObCEi/n1QPt09175ce8QfYxn4ooivRgi1k49igV/Y62VmnroEr65\n",
       "I3lFSFgx2ZSED1iK9fGht2CEE+pU6OANRsv+tOI89TfxEfScvvyzphmrwrb648ng8/Iuk/dRSlWd\n",
       "vgAKDNJPwzUAAABzQZ8ORRUsO/8HZVdQ7oAJZQatyJYX064xir2IKJtRZfsl9bKHf9lwRlsywEcf\n",
       "kOqgX27AtHjRL44ifWq7ODxvd40M881D/JafegMtmX5ivV8J0cn8tzOz3hV7ZsTq1OTOAxAQ2Q/e\n",
       "gyaO7Vvcmi3S6oPrgQAAAHQBny10Q38LiMtpvAAXSf+XSbhgv4ixIptjCYF8wvyiHkQT4s41vVM8\n",
       "kEq/rISOEX386Rv3P05Q+cgwDNGaIXJ2kiG9OIQOZMEEaPz4rJgqbSQ5PGaj8sBuqe9PkZBg9xdt\n",
       "paa00FTlbhyfZvQ5UiujAWQebwAAAIcBny9qQ38LeykOjAvAATrWhZUKHIUgvhbTMTBOWrQ9gfNq\n",
       "TqqRIQOsBvl6Axsdm8sfl3vFLaAOweIL+kNWrU1SfqOC9HEVc3CmxiMJDbqLSEeLW530YuPiP5gK\n",
       "gIPRm3DSPe9uz7lkocLcrkOHv+YDX6FkwiZGuYD7EHsg+7n2tzfkgIXKQWEAAAJvQZs0SahBbJlM\n",
       "CCP//rU3bkevab+Ee8KACkJLFxbXLfF5EyPNPsTtJSMhPYnaGkxoApQOfbQdKUrOQqrQARJA/Vnf\n",
       "pZ2GHhwzFASlHhgJ3cnqTQDboDCXPdSF3PqC3bS3TCueuEMNLCBLjRqaKBgZ2u+9+Eq8OSaqeZxW\n",
       "0gyVb02N6dwB4lFOQA7jtYXUJmGDTpOfA+wdciv3AjvdBB5dGXgZyDhmE8xJWc4oTf8T3GvbPkJl\n",
       "2mQhMk32lJLmw7JQG4eCoBv/jamePbTGRuNzWXz35idyxi0IJ+aL/SeAb96Bu0T0lBY8Flzh+p/z\n",
       "ticPlRlpZeklP3kp1ORfW+jQFNx0vyc3SiX2jVK4Su3dPhMNHGH9lOwOVfZCd31qbl74P+THP/yB\n",
       "dDDIYYIVXF4mg+IQo18TlOoyiFOs3K0xClS+fwsIhCPz8zYAMnDJ2aNcEeAr0qMXeDMznT9u7ZVc\n",
       "wps08FbPM/skIsiL2UthgjKVd6YdxGwssCTNhXTJ05e3jnY1k6GxN3nezZkxEfCwYnZubfwlWlhS\n",
       "Le0u5WeR9TAkJFQPanLpie0M7tyozpH9Twra1zLGvAB94QQusPN1y5gReD7NQZaoenslfnHeigjf\n",
       "XbjcBc4upYEoOfYI+1a0S41yiCvLG5I8ww7rA9iUACjQl2aXmqTEapmbG1mFV9YC2Y7h9ClP/fKv\n",
       "MrzcEY4Pr4TkQJfvroSdZa+WvcLeh6/2KelQwen3pMqGXhwzSyJ+HlrLsUHryi7IfmMYl6d908yw\n",
       "tV3k6znZ8aiPRzfAB8ED33qT1WQDezt+3aGgC/dOGW6Py+8z4BCgJlbruSsAAABqQZ9SRRUsO/8K\n",
       "hpkHrK3LQ2CtvB/kAGpjq4xj8ZAG8phrSyM26A1RqjR9DQFQbcjXu6o8c65bKCDyAIv7jYpYbgyF\n",
       "reUYc//lHuGvlebcCAqF/Y9wE9ou1WJqyJK8EambcsVJmiECYomWUQAAAH4Bn3F0Q38J6TkOAFun\n",
       "/l0m4YL+IsSKbYwmBfMI3eupKMEinaMH2B6edBr19rdUbTEROkzybfp9WPRYRyVcxwdWXMkSag+R\n",
       "+MjO1O/jsVdfJPbgNYbekFSJp5D1KlX44dAWzEf6ZbsfuIHSJkejPSZflxv6dmGnW8kXqGQaQnQA\n",
       "AABuAZ9zakN/DX5nnX5AAuk/8uk3DBfxFiRTbGEwL5gDoEGqNRNd3Dpn8ucPTzoNevtbqjXYiLwm\n",
       "eTb9nRx6dXDSrmXZqy5kiS/75Iz/UvAH1cxZ+1Wn0WkH1oBNImfdRbFkvWIfxmbVPleX4hhuLt4A\n",
       "AAI6QZt4SahBbJlMCCP//rUuWX0fv+GAEZSuYvn/Kn1AKOc1+XaFLOPZg18A2IcZB2bIVa+jX8jw\n",
       "3I3KKW4jEyiJxj5tDuiwM/p/CxrVmtPTIe9lby1jYGizAJo4uT7w/ahRpO9BVXCmUW4QOO9xdqF9\n",
       "Kdt/6fOgT6jWJsMHYzyLNoWjOwKfv8t2T95hDvXoY7axNw2I20HfbLLSUx1woaFCo+vAdtE+FTmZ\n",
       "5RqgCrwAyq+t2GZ9GkMz691KVjpDfwB2pLCgZq92xx83yIUvUVFJASB3OwIsAiZELggwtrgM46H7\n",
       "AZddzQd28G/G60Te7NxY3q8DzgLMfIcKBkYKt7Zzok8yG0DstECyaAso12rgAcOzqpWpyVFYNV1p\n",
       "YFijUd0FFTAbtrBK75x4CSqbUXuNfrvw4zaYlPNNgb+X+Qgj7OyJeveulDJ0P7nmT1pGxSgC4bTL\n",
       "ydeOJgvxhAT+TA8FkN63AFbKQmirFLz9wIbqVBoi76Lk28C8zs7oqi8e/I41Q34tvFx40hFaY80q\n",
       "bxMunH/LGMd5spfa7szz5pdw6a8HiTuwlz+Kf5W5EE0BUKvfsEdLFj/jkCrbvjhRnsDC/soheL7F\n",
       "8wfeVBO4nrvx8svP6h/WUyMcE83FY7FcHKDp6yFVsQOXYyY15P/6zObhL2CbuJLujoQVDOwKmopr\n",
       "4qj/l6UTviZKKs69KenP4iZTToM7hiuNQ9im4zwi3vwJkgEqSROM6XfvMVcMAFpLnX1e2VeCdar8\n",
       "FTe5AAAAmUGflkUVLDv/BxaBIAe6AC2Vn1sWDyV3IcQ+9rpopas/JsRjql6TgYE4hvqOnrpp3iuo\n",
       "E1Fw16RFmI9zmZNcMQ0GT9x/S0J+H/OroaLqxVeKbDTuutat/w5BqmlGqbmjGfy/SAJlv9OYv/X7\n",
       "BDNJ/00OPmb7lRqLoMqqDNhXkV6kJ9/B0ydiaxPqWVvN89LtlbYq8qNCnguj/AAAAHYBn7V0Q38J\n",
       "ysXlxACWNHOX6xSg2qqFOVW/TfPvxh7zDYoTszxaye+OegrwpSqOudErtOJT9MpdK3YLIDPPQwj1\n",
       "ABi+iOIXlJYradX9h5Pr9q213Po8ObH+iOr9/McGR7j/IiZeifgeK2YtDrq6jGZtlwBwy8GBAAAA\n",
       "ewGft2pDfwm4426IAF0aOcv1ilBtUZpwtWl9v23QLsJOOaTCutmU0T8lKY2a8gcvGnvUrJ1PF1yC\n",
       "/maDBHMZMv3WduwTI+iwhBzeMPQ2yfQ7fv5oBwmTMiPbl2nQIv/D6q/TY+eye+orokkWnyLSPfGf\n",
       "1m9fiiM4Wn5RIQAAAeRBm7xJqEFsmUwII//+tS5ZfxbYW+kAHMvSwZiSY7GcoI42WgE3N9k7Sz6u\n",
       "As0LvX+Ynbj6MedDUYoZbKQNKODTEWyaR3x9Dg9Qw3iU6pY83INs142U1p3cXMmzCLye8gkskuRQ\n",
       "R6YYWc7KR1Gdh/qcSAc/I2T1oinwcC7S2tJb+T3ll5tEip9Y67o/Exwb/CLupbRbp6PaErWG1HlV\n",
       "rqHtugbcwNvQ5L1goZCCn6mBCGSFtP0VbzdWEzxgSX0C89BmREUD56yknTcIzW2gQ1i4f3npn3eN\n",
       "VgcH2VwUvQUCS/uC1pgjy18fs6ZkdZsZkP8uJwPZPEdOJ0gGBkhs8/P5YVaRMMljwE1CLwgcpT2D\n",
       "cif2EBKLIQtwnT9KPYjEOKwFWfFARU/C+qvX6PqPSb0ECzF5REnXD7p35mHH+WhjpyBB6/Em2xt/\n",
       "uE/DnzOsyX9mScvwup6LCCwUCiP7iBo3rRf2aarU33frBNqs/Y1ekyuFmx3uVg9v5lSYn0ztALIi\n",
       "7HaP8OrncszvdzDkFlpGbkseTMyTit2sZlDLPtX6LWtYIs+Wym/UKFEudCOc6ohRDwzQvYbVIq/b\n",
       "sUdKD9Nz03whmeEW/PmBj/0NCKgPiEUfXF8ly1Tv5eisbtPw445DLWPWAAAAYkGf2kUVLDv/B4Ez\n",
       "NCAD1KIAPzc419/7zVAr+0udR/VAChLK4rsf6hOr10dWp1m9kXxqEMHG1A1J04GSsdlPwjv55ZXz\n",
       "WixxXcMxY0EnQzS6NZUm1++uWNk8+5CIOB5HehLbAAAAawGf+XRDfwnKxeXEAJY0c5frFKDaozTh\n",
       "atL7ftugUvchxJfZnjSOaOSZU4DSl/CMiT3ZjP+m/qrD6gOJqGqJAVbvQxsTj5ZBanIoDSBaivEn\n",
       "j8eQrAmGHiJkhtwd2PdddYpDsz31jZc7mAE9AAAAfwGf+2pDfwm4426IAF0aOcv1ilBtVUKcqt+m\n",
       "+ffjtSEASX7tCy1VJuKk41Sh1a/f5a7vkuORouxEZo7XBMpEeZJQ7FTwndWJx55cdPoZG9sC2cVI\n",
       "cEInQ3T71wBikW8Yr1pz629Rxgf3R9FqZ7WWyDlb0j3xl62P2X+hw9nPr08AAAJRQZvgSahBbJlM\n",
       "CCH//qpc43lXv4AAWH5xUSo/ADcrXo79qu8lVwi/WxW05L+fVwZVPlKmMXWDRGhChnnip4fge3MB\n",
       "a6JLTPTjRuSSxIB2ZwlvYpyK/HwVfjK42dYxOKB6l9030VHIfMKHRsqr9XnOVVhBtSVQnZ5QoTEj\n",
       "Pstc2aNdbpC8QOG0Kn+bH8aBY0kl0O2dqyqoxAiXL+b9zBv9pwyU7y5F6WySz1pNXxulsm4SWApq\n",
       "R7KtcksxNuBIg+tf7ZIEbCgGfN+1fi5yUNECZnJcQVXCiYaS9tRo+i1sxfVyAHvsG0PC43vDhBQr\n",
       "DCbj/T0vOrq5hw+3iI4G7HhdOWZR7SwQgqCgJiaijgyrlht6JUmgeGh1oGgVkOGvE0eo9a0Q3DDl\n",
       "rH2sNZ9lmCtTRmm/rWzEJilJypYsYqmUUqGDVkTrZrxSvuVwvZIEr0jwKDa2ze6JyC7D+3SXryrX\n",
       "x82vPvTrfXjuhLXylBHDHDNIKdPp1nckKeafdgV35v61IAKNiN8ebpaCPJ92Q98ILcsVEu0HAvFT\n",
       "aEWXVeLtGjR9LxZ/LsimIJ0WdjayhiWcpURiIeyt9GlIKxgBCaeVgNeebrwuQLA/9AvBdbe2BWBL\n",
       "cQvWNyZrpdpuOIHBDwhBZEz2+BRFPulxpZ1tcTCxPjM+T2zjEd6QYC0uPhGBXJP5iRsdOCn90TDw\n",
       "eZu1WBQE9BBAdZwWDihDDplWIXyAuSBrFJUDt/1E1cap0y7kJHz1r7yrJ8+wOC2WKmym7OQlOzbx\n",
       "2xn9MNQ0QivCahpUTe8AAACGQZ4eRRUsO/8HhMh5sALeugKOgleT01rt2hOeDGeD79qhcfgKJCwa\n",
       "3qCgjkxlQzKDfq6TKMp86xVbsohKi7KO+N5Do7Wc1ksLdZHHiozVrcnNPfO+SwPMdMFLcIYzUabd\n",
       "2Wtl70BYesYZDPjQbg7tWpjOiqP1M5zdPyRX8bbhQkapO4ljAbgAAACDAZ49dEN/CcrF5cQAljRz\n",
       "l+sUoNqqhTlVv03z714g16BANxJfZni1k98c6xwBpSqPPrTeSrmfTf1IkAFpqcNIWrNTo8Q90k1j\n",
       "E3CIGqN5FuBT9QUvoUKMYz4EZis8vm473ByDQH+YxmGujCGGRk+orokkWnyLSPfGfZ66mhe/sjYr\n",
       "JsAAAAB3AZ4/akN/CbjjbogAXRo5nTgR7b3xnww2fTfPvxiTzDYoT5XLZcl12egrws7JuwZDuMsJ\n",
       "9tmZdK3XLpmFX4wjzKWkIf3uZgAPD4zMqHSuS+gID8Yoxkp6aqCr/AzUvydapwXSImbteXcr83QD\n",
       "FOqdTxXUkNZF+cUAAAE4QZohSahBbJlMCCP//rUudLtfsAIxSWLg/LtBBK24jB6RPiqBeMDQ3y+O\n",
       "gH4LJ7wgAU3GA0A+An7DTj5O78n4hQSyaBNjLcVTecrSepaT992VMqB+f4LrAyc2n7lDjetMMB7p\n",
       "FUcl4MQMK79ZOSEoXaqx5K4J9O/0DEaYvj6Ar5gsJdpeE4J4DD24Kn/+bVlguTqZm2RaJlrtoSxB\n",
       "vGtSKkwzsfXbgGMHGMApHJ/uukMIDIdldyz2LHHX//rchiqlb5ttAAjPuSt9+/Mii70CuQLOHotC\n",
       "7b00DZTup4rmMU/GxmkN33wbzSOFAGuDsweGrR/TlfrVDX5T4HfyxmWwNsk+MPoDAGx/omGUWUnH\n",
       "9/RGTEYeggglnldac4rrvu2gwEmj419ColnYAWdY77+XaXarp5ZwUe78AAACmEGaRUnhClJlMCCP\n",
       "//61LlMpS30Au+cJIAEudXTKZC2seWoQ3qnijKziVVFRGPxvhU1NB8WcynmNXc6ix6QZ5QfjmiMj\n",
       "UBQY/5Rts9It6SrVExcJVmBLp7MdyknAARlWQ8fhEgRY3MjluxahkZFAgSp5puUEPzNmFyOfP6JC\n",
       "PsPlraiUjqhccZAI1ykxCudhGGINftabHld86jtq5Mekw5Uw66gPZi5sz+//xaOPoPUQroOSOkZ3\n",
       "eoGcQo30LiXwGpPsuI//1q/0Gay8IHok8NCMAIdovonejijnvh5zsI7J63D4j0A40pBBEzxpJO4h\n",
       "rD5L8yaRYa8BKAVp4/NDDLFZ0aKjG+KPffk/SZZHL0PSW6O5RAr5LEqyLAkTLHL0FKFEQUemcWam\n",
       "gpCgsTFC9sqW7Vq6Gi2WA7W3yp6nBrnSz7AID4FaZXDEUB4O8cIHCRXJpojsiDC8FyDUDmBB2VhO\n",
       "wEhENOBeJNpa0mEFVlc4/FgwuddhuaXSHaEv02G9CrNlrFYhRwaN+Nc8FKNb45Vg7PmHn8mnY9dp\n",
       "2eZty2P10kEqX4dbbXCcbBkvx8PwtOObtY4tCuc3AerJgcxhXzM6qNGWyoW6sAzcGaDKIMtv+Pjd\n",
       "SwBFfXUyWTu2435iycMrk9PB0IYAsCBez4MuNIwqSVKxexuTEakgQqY7yj1Ve2gw81lLKlL9YKgW\n",
       "UmmlxBOsfBqC4MtfnvJjqD4IgHzNSE/irKgLa9jxlfEUbO0FIBBVD8ssfcBTPIxzFQCXsfur4CWH\n",
       "YCkDLebkgYH5hKG2sWSOEYivA5YI4stx73n9C58roSyeEfM14B64qCYStcdbnp+d+l8uU6p2Ad9O\n",
       "xu2Yo9N3t6MZ31I903E2VSAtgm68kX2Tj1kAAAB7QZ5jRTRMO/8HZEJLzYAW5+qtFJdtJZGOwCAq\n",
       "j2Czodcz4NtKkFGnRA2syHt6C+8wmtpQ++BvMavxb4oI6eiIZxXY6WRCrim2i7NoF+qiJkVdt6DZ\n",
       "iXt0cgCu4DcrhFrBFTnqndPfUV0SSLT6aGe9pbHxCs9E0xBdllSgAAAAfwGegnRDfwj3zt1EAC58\n",
       "Gig499cLQe8pnMjNGbkqYU61wA9x3wztJd7FsLeHS/QWqb+GZ3nGHvq0cG4Fhco3nGcLIJckDojl\n",
       "9/vvfQDyqZ4w3q2+geM/w1dvp0cLc93Ooxn6v51zafxq9PfUV0SSLT5FpHvjLkxwkiou4AHQhkEA\n",
       "AACEAZ6EakN/CcMY9uIAStC362tHLHFfD4b8Kjy8nGRg9K9XS+7SDSApF8h6AsHU6Q78Xcl0kq6o\n",
       "5Z8eQgPBccxC7Tflko+0D9FOAKrsSb1SneNJHNf+nzHv3FcmDfmXQQ+Qpng8SFBjwRzfFxrPPTT3\n",
       "1FdEki0+MkC5KwLlSeXQw7gqx1pTAAACkEGaiUmoQWiZTAgj//61MUBmtAFCR8bEPRhTzwpCfWQc\n",
       "pEmEhs9LX55+a9lP8Vcu5s/wB0sqcNJggz4UH9+zLD//zHvYF1WGMdVueUqf2sIAgoJbb1GBKePN\n",
       "+OTEilpysvCXADY/5cdcpo9bqYOKMZcY76pQf7FtgYfY69SvNFbNtk7lj6BN2NEQlQ5k9nyNolTZ\n",
       "6OP0sTJJxpl0YOcGQ17TcbDS3xvaTwAG8jkkQjZQno6VNTermhk4n6BPuisVuR9VIC2Hp8hklGe0\n",
       "NnVtWC+DNsGyXu1Bm9mBiRsorbG025aHpTQvJklkoJXo0EL+F/Bo2lpwCLYf5RaVt17kacVCVRaE\n",
       "fI05lJzzlA7nYPObbOd7Vv0+Igq33C+xucXy1tF5hNDNAS8+vFLcXB6JZNhjOYerdYrX3V6Nfxu/\n",
       "qkantMKxsvd+Mrq6qdbvckA29ATBirm/fT+QfC4uDGo8tDKCgRdUlLr2osk2jzn8Pcc2+C2W828W\n",
       "CcNha0zT5mpLjZW67RTsSJT+NuHrlTQgZVDwlh/KUcKAVToIoJmeQDxYpdNLYEaIeJT41kwEGO61\n",
       "za3zB4zMaYDCnqokJCkSxU8UZ8hJes9gFO+tB4ogtF6gHiFmFrUCUjqlPelcxOUkyH65YYwwgL/I\n",
       "mY7HvD5EL4TV7yQIMH39O6xXKqovv9/ai32AevbFpWJ7H0vXewgCrizEtdCxh++LFKGmTKyJepJo\n",
       "TpdePA2bPHTDIi4HeiGhw7ionQAyn4hE2ODh3JNvV48BrCUQocYq24R+pERbpQ1YF+DJOGRZXlno\n",
       "owOLnEIKF7JMLKJOXzDlrmbnw7zIxM85E6/jQAUqm4xbIcy7xH73F0mr4Wv1VbSMpSdRzDwNAAAA\n",
       "jUGep0URLDv/CNMX/w6ITS4Uu2ADQyNCXddk5WeDFO5H7DcTuZnF8r22eFw5w98u7iq0IUv4Ujah\n",
       "qUUcYh9iGmUbXgwIfUiG/EUd8CSk8DbFjcvAfT8IJUHWWHrAsqQ+qVDUF+9vXMdH29OMwOzKX/6V\n",
       "HyYmWzp76iuiSSIdJoZ77eFkYLuNy/N7MP+WwQAAAHMBnsZ0Q38I/3bhIAFzQt+trRyxxXw+G/Co\n",
       "8v1VPAGcm8Pjy6Y0BMF30LjR5o5BGt1LuaEF1oExlALKcFSWrX4HhZkO8xGH/aGw6pSETyYV5vpM\n",
       "E2H1nBb/x/LpwHp76iuiSRafGSBclYFyd/L38WdK6QxIAAAAeQGeyGpDfwt7KNNvIyAFtQt+trRy\n",
       "xxXw+G/Co9WfPrMwZybw+PLpjQEwXfQuNHmjkEa3Uu5oQXWgTGUAspwVJiuH597lN/8VMBKizjpp\n",
       "fEqy+Xu7pDj3jjZxOfh2lLsMJGKdJ76iuiSRafGSBclYF8hBdL4RqSKZR4AAAALLQZrNSahBbJlM\n",
       "CCP//rUuWYDtB6QANwN+oXjAiBJwCkcjMUX5VzyPDf3OFUzORcnU3sG+z2x+LXBnTli6t/iLIll/\n",
       "KoaRGY/bQS/h7mHoNHm/2WNdGiV+Oo8GuBrBSnb/ZUxeCNC90AdYncOVWGU0m/na+IxcsXWMVI/T\n",
       "SzOgvTDomDutc0wRkUODnbhomwPrkUcWhoR8T8GR04JY9PnkdJgLxJ/5iP+Lj5tWjvUku48gtAug\n",
       "kFDP/Ne1pqVXsghxBvGMsEaiDymKpxzpiEtz3fF7ddievFKjV3rna7Gw05Ei5gIGaIIhZyA0+PMg\n",
       "n8YkbBjgZiRdT8dHhbn2/nUbavT3C+U4/Z/kC6NuH+Z2yGLwbnOQaaNcYa0MxSvBVq8mnpOXK7Ge\n",
       "elOAJfyaCcOgLmA02IICLyS/0dfl7zBzoNd6WzjO1N5Jntp3aSPUw6iWZpwCFRtVRVOLCFDKZR0F\n",
       "XiK8jlAussnHmHAxYNgxxfpxp2IWWn4wPwafGACM7ho4k82iiktNCvE50jvbuY5GWqHxIjXe0U2z\n",
       "HnXGiLgboLm3rYT4QAwrR41cnjc86TdjLj3RDc/1bqTeBg743wKzDZrp1oxD/3JRQiz22Lktydka\n",
       "Zf7Q+y7szVNMuhJx8XquBFARcwnHcgC6nf6KUp+kxhBp5/WHPw7M+KATsNba18GrhAUoKxecErV1\n",
       "+h3Blj63gyR8PYFEwMHGVvXur6dRJbZ+0Y3xEVC5ZZo+tWfN996D7XZMJ5v0jtmQS2VKf+BsP6aO\n",
       "rchjY0KrdYIx7GiJXmpwML2rBA9Qiza08Djjkfy/1C2WcUikI1M/UbPOwY4krKndCXMWpK8O32/1\n",
       "u3SJjaCJOJxrNUcox+sbi4UIU6BPyLr9iJIGdcMFKJ8DQLCaF7tNQUGzVfCa57CXiD6KgxurDr2V\n",
       "ewvGAr1HosGpMjgNVWj0ilf4M4qw6QAAAHxBnutFFSw7/wdjbaMYveVFABq24j8TzoBjdGAgrW1z\n",
       "ng8FVM2uU//0YHDUhb+vWGXiOGX1rujsw4Q3/ihlQ+fQLIAZzG7QsPelWbhuh+88m7Do667XBBwQ\n",
       "YQ3nPwEPTd1REJEh7NPfUV0SSLT6aGe9pbIMmdfY0uxkOIugAAAAjQGfCnRDfwj/dw9wAt2jRQZ8\n",
       "IeqN6yxz4ChnauUeODSV7dFMMK02IODKdjB5mzgBfBz/y6eMBJS2W8tBAifY03N7T3IeyLJtwI5Z\n",
       "zO/hsFU710CERi6982RFKmMk8+Mrvsa9rPz/V5zl61VLAd96XnKf5Oi+FmY099RXRJItPkWke+Mu\n",
       "rl0ILHCvHZZdsAAAAGkBnwxqQ38Jwrt/KIAF0l14ysUJiKge8pnMthtQsmsFuJ0OUyhDkPgni+xc\n",
       "sfK0tqGIehGgxC/JI/t6TepZ6o1+SAe8lk0DGXF/IjbatA+LGQS/6Mn1FdEki0+MkC5KwIJQLXuF\n",
       "oDw/lbUAAAIAQZsRSahBbJlMCCP//rUuevkCOlfDACw/SssV3xkgoQOYwJpryzWgHBBX//tJyOJ7\n",
       "VHILq0SG0jbNFhEgI/Y9bGrWTvaOV1Cj/sAqvmtT7KkScJJ9RDUVtWMsODsD1CZUy+UZjeZTZNQO\n",
       "1uXzBGBQ25IAjTFdWfzWEMvArxdAJGZL02Pxn1dPVF2lQ0xV8NoZCnNAIw5VFuKxj/nyK0mETfAF\n",
       "61SDmh6WYmMJV+bsLDWZsVhuzX9HsTa7mRM6LJEBZNp4QWm3x5JezjQv79k73IwZGDckX4hazcB2\n",
       "6woD+4yCo/XCNQstSyN5dYzlP7jJ83JdnTq/DRWxxIHOe89sS78mZvqocF/rDDZmB/HdGffnuJ7u\n",
       "adRJ+5Efig2mxPzh605PrnCGp1aZ3YXMLwtxRnlcJxdYgnd3c4qpyGF+gV8TuGgW7Ppo/dnrzU8O\n",
       "Xk02Gxe0fcRxSu7rprwecX5IOzaaaSDlB2m5cQKyhhpB6Ul9jB/IafjVA4Jx8OsIP+syQWsaggAP\n",
       "aFehhlAHuPE97of/4ix4oP3zP7fHLec+dWASjGmzBFA40oAX5/nHbIB+Poh8h48tL8y7I3Qg30+/\n",
       "Um+JgagVVoovM8n+fhbYSGwzssD4HcxNVE462jSGcv8p0Yopbx7/0NgoYAJviaP9x6tR+lqzVtfC\n",
       "WtgwwzcT4sEAAABwQZ8vRRUsO/8HgTM0IAPRuADT+TuVyCISDS7P1QJCCm4oouVEUtQCvDWXUTg9\n",
       "zqZ+VQdu6D2vhalq+8A3zOmC6JBLx92xxLENepEX/5U04JN6oBGa8NPfVA+l8woSb6aD9y+JEoGM\n",
       "KgkY1VsLpzvfsQAAAHgBn050Q38JyzP/KIAF0l14ysUJiKge8pnMh1ea3ZOXJEcWAeOMQEPgczaz\n",
       "CjtiT5kEYnqQHo5kDr8VBthskrWxAeU0gOnFtY6OtwmHS0D5jfRaVYgiO9aoMXbbkrR9WQFnBZPf\n",
       "UV0SSLT5FpHvjQFc7Cjlsi9PltwAAABtAZ9QakN/CcKNO3EALVgP9rgrf5v3dmL8PpyRyNsyua8b\n",
       "eEjZk7MVG8vrfFyx8rS2vbIyTYvZ+t571i0hPg7INcuY1aA3CgfDoqh6vCcwhzRM18kzRC16e+or\n",
       "okkWnyLSPfJRYbO0FPWEL61peAAAAblBm1VJqEFsmUwII//+tS5S6bq/lwBGKSxcKSRXoPc40AkZ\n",
       "3b+DtxRCmCl8BDWfEq+qPasPnCElHk31lSDdcZ68P9g1jgBAnVAer5cY7Psq108otNaTa0gzr+4x\n",
       "Nsq+KvuDe6a/s9s6RwXOze/mylUxezQ5FiYN0KiWGqyEqWiiRfvMx473qXdc7Fi3H4CHWZz6pwaA\n",
       "mIu/OLhnHV+yxeqOkIscSrDtTsf5Tyjd2ssGA6Q2pIFClXgvgg3wBnVTLqCXnnjAFSWOWa4UJ8Ff\n",
       "M/7m5obvwzSx4d8+cQ1oIdMXrdSMq0Exa4YZ3nW9X6Hut0halj2XwQ06iTwTQGvydT1Odz+hpZO8\n",
       "8XKWc11kS05HvI8mOmomGeCHnKscMSs+MtmO41moboNmgtFPQwBZ2HKUofpZbn8eVg09vChuIA6S\n",
       "ifa0REN28GFOQKCyJCQ4WeLL6cJIHreKpfQ0TQ8y0f+qRPB+PcZWmPz9Nu8SkdC+s+YzwMY6OC0b\n",
       "QEP6sAF5/OpPWlSwmBCCqO7YYJSu+grYecNxefKOT69Irq2Aqm7z/+huXamLDx9LMGCqGSP/8tWr\n",
       "aPlh0Jr1nh0AAACTQZ9zRRUsO/8HhMh5sALdPxlLXGF2RQhwv8xDRFfs4UYgEcqP/eIeHItj2GkJ\n",
       "692ti0WuoGgkbok+R0tP8D0rz3QhAFf9o9Vt52/C+wKQL/i2SsgnCUX90/OZy6AEO947wOPI7/u1\n",
       "g07BWRZ6/LjHDyx2raXuFlP1Y0+WCe+orokkiHSaGe+3hZD91+0EvA0w8MOAAAAAdAGfknRDfwj/\n",
       "duEgAXNC362tHLHFfD4b8Kjd89yE9IiqpLL2joKOd3N2uPY991fdPsHhZevKtZA8IML50ZnJ7bHS\n",
       "8g5BZO8pRzNROSIY2+MiPsqzaNp26MeWp3gktr/k99RXRJItPkWke+NArzeMrzCSJRMYAAAAaQGf\n",
       "lGpDfwnDGPbiAErQt+trRyxxXw+G/Co8vJxkYPStqNCOvLEHawyISPa2JXGxInh4O6RQ4YCEDxAe\n",
       "C5wddh/Pbl9JJQBDdgpJP0LZs9ym/0IH0WpntZbIOVvSPfJRT8arYrTk6X1SiwAAAf1Bm5lJqEFs\n",
       "mUwII//+tS5zBvH6AaXELAAlzrFvz/zruRrtxbX6ZC/Yir/HQFH+J2LHYT7PvFq4nqdi++AkVim9\n",
       "OxH9/mTrZ/zT/KVYVWNhPRzKw70IWXgrO+GUXx/b/nfDCSV39s8ZwjoiyeZ4/2TmxaM+8/1qaLGt\n",
       "YF0db9kl28z3QsIc1Ba5rNhu+3oFN9qTzO70WpgEjIue+9vZwWZXNuqSm1Vh/nD3u81hd3f6DmVN\n",
       "5o9Jh3bIcKM9LRfMQ6/0JWgGvju4+SQui2eA4V4aNdrrh2X2EWFpPfewjVYBlNHPUBzdbEpHcplb\n",
       "xOikZ9lYoRFBDrtOr7Kkpo5GuflMsrY3Ne7lv/JxcDdeVkBjwYFtiivcHv+sRyuNGzEkHl4wegQp\n",
       "zQggEwLg9Ezr3mxsvHnBY/9dSnZB3T+MgfAhP9dNvNitCVMkXpeVtNusXNdzNJcYLASMY84tNy+F\n",
       "LB382MSj9NN5rbv4PHmB0inPlm2fs9emG2nzWBxCWIx5Kf76YXwXRYkXR+Mp9Zh1XGWBYIC4PN+9\n",
       "5LiKEJDtqCV+rzI82lPKWLK1D0bT1zCWbT8nsu4v+xPx4ehEGYemH3GPD55LlpyAazl7PFlLfbX8\n",
       "hgZghUqk6ZxWW1BMf2xclfdQOPkqL9UXugFJEOjFO8tU9QEPqsiLUth271qEGgAAAINBn7dFFSw7\n",
       "/wdlV1DugAllCJXGErc5f2f7kn5VQIVDB3vXL44p0N6KPKTexnb/f9sHmC2N6DETWAk7jEbY8HZV\n",
       "0rvgelyu6EM03CmyejUPsI3qFpZ0JZP0g/JOXiPP2fvTeHg+4EohASMZpKqzp76iuiSRafTQz3tL\n",
       "ZDh9Nz9wFSc4YwAAAIgBn9Z0Q38I987dRAAufBooOPfXC0HvKZzIlvSUssTXDvt00NF23xmsN89x\n",
       "ILJNRC3Zwisz1xBkzmlHoXET0DxXpYKUFkGl87aV4n6ZsiyS8xAEofVsiS0QaAlK4THn72HCjP9E\n",
       "9y9wLcASGU39xk4+aUZPqK6JJFp8i0j3xn+UdVIiyd+cir6xAAAAbgGf2GpDfwnDGPbiAErQt+tr\n",
       "RyxxXw+G/Co8vJxkYPSvV0vu0Op1gplL9sLB1OkO/F3JdJKuqOWfHkIDwXODrsQCZKN3RliPoahQ\n",
       "jVBEQ3gz4y/rgVLf+jJ9RXRJItPjJAuSsCCkSo4i/vYBaZcMAAACgUGb3UmoQWyZTAgj//61MUx2\n",
       "aAGmmyLIWxMH02rX4PdY/06QALOWl8rjNCmGchW6Ic7SqcxPsBCIukqvC9JJg/8iSJceF8CSA/yK\n",
       "KvPtL7r7dV/dnCyJ9yDI9aFAGd4eql+eRI4MvPOo4eIYPS4FqPkivSLQPYH7Vf+nntndR5xx1Hj/\n",
       "aA9MdcMjhGJD896nYwzh9qB3Z2Fe9Hr+66e9GIaayoYUEQISPCpUQgf1+Cc1rzXBe6499oSHm6ZL\n",
       "+FT13H0hSVVNK9jaD8Llu07/jUbOksp9H1qyDV/6tjaDR0N/HbocgsyTSDk9hJsc0159Hkx49ZYx\n",
       "uXZ/nPJ83sm1sw21BgZI8321ouLuBTYgKQnfxy9HlUTfz4UN3tuXA6ejg/P3VEx3d1//Ja3+ylrp\n",
       "mEKkEOaE0SHBIs4mADwzfdy0s3BTcj4W8PQV9RDDVb6qlZtjDtvPSDCrZ+JJBpExZQEYEHENaVgb\n",
       "vnSUo6I+7iVVssoOUuggRlsx4WowOkpHBAXnt4qgNs2irGMzKZadEhvTmmvVy1jfgxuHXrlMMJmM\n",
       "GOPEJdpB02RPKghCHU2rCaGYLFwuaGYnwcjPDz8QqzwDJTHlhAtseIIXllbDJTxxVg26lwQAsfXW\n",
       "aeJ8VHTg0F5b2NeDyXxng4G143Jj0TwOFSlzfmgOTXe+yTfK9+Mi3pCygk7zj+/vKjJlnGpBYMva\n",
       "ih1qssLZNZif2ArNfs5LhKAwBIlMUkTz5WAzMoNv1uNKa6ToQrKWKabLRJkCO5qIhhPssvt3pG67\n",
       "NZuKSOsLvRhlyWMkFXRxi01e0TqXuugrZHhP/obyrKf7QWJJYa2UDv+f/fnVVPgKuslHdKLBAAAA\n",
       "kUGf+0UVLDv/B30XIL9h3BVLQAPyxBcvHApQKMt3O/BureXd642e51vqBT4QPfL3ghiHhmsLynCC\n",
       "1PnB0N90mizYo9VEzYxJnHA0NZiCtktzSXcQgk2AvX7m5MV1ASf+zDfPafTqEtHu96v6YhOJFydz\n",
       "ONGYTjG9NC/FJotTPay2k300M99vCyN33RqDi78VZL4AAAB1AZ4adEN/CW9upcuIASyXXiDl1F4p\n",
       "atrUs1Cj3MLKVEuDOUrXmTMOf8xfJ2FvtX2hL4ERb91dTDCrr7MLjQeXb856UtWXZIpLM4nvxpgy\n",
       "BhOtIR9MN94MEc/q7/3VXp76iuiSRafItI98lBZZrOW4iVWxFaQhAAAAbgGeHGpDfwnDGPbiAErQ\n",
       "t+trRyxxXw+G/Co9Bf6dE3Azk3h8eXTGgJgu+hcaPNHII1updzQgutAmMoBZTgqS3uJs9qF9dlJ8\n",
       "e6/vRbie++3SnN8rdO8/5PfUV0SSLT5FpHvkoIpObQAjJ3pw9qqBAAABxkGaAUmoQWyZTAgj//61\n",
       "LlmA7QekADcHGSA6RcuA9BAM/0dN7wIXcxgrd/7/WH+0TLXZIgMwEqQabaFYDHs69SjPrJWEQ/fZ\n",
       "MXOf4TwneKEd1s9/eqh5D8nwEbmFoBfaYRXj+OF3eMUIpJaUofEG9lzSD32UjemnKO3IIOAPAN9b\n",
       "bJA4mAigVXfBLzSI+bOgI0QA56/j+/C7PtbKojjpzTmwe3YjP1lbjkHi20Bxzq02ss+av+5EGzEv\n",
       "zOHFK+gzqgEMq9JtaMdK2tXYsnuOI3HgrF6+wi5uynzN7yykLp4Mnu7meE9htmhYOuHNcorEcoLK\n",
       "gG74oTNeWtBIOoBSE8gVae+0wwkRUv9VnzGAvc3xf85g+cgdJajPZ+IbfwTKSyomkVDNTeQD9YwE\n",
       "o7t3odRZ4Wtc2FTo1eWQ2pkgURkWVvs3TaLiXvWzOtJZmmZYOnvvaGpefrmr33iU0mTJ2aJBQBoD\n",
       "K2DCcGYxGggEoSVd5TTpC9ORFZ3C097HXDUthFvlch7INbN63154MjNVlUwqR92nH3vAjc1Zlrgc\n",
       "uI/mj+mOz8PtT11Tvz/0NnoBOQW6Y/b5pH5cNTHz/OKg/y7738xXP8AAAAB2QZ4/RRUsO/8HY22j\n",
       "DI3ZA160ogA+OPyf4WI/RebJw10Wj0keT5lnGUQXRpWtibo3V4QwsH7/MvVC94GXVrJg+3cNU2xB\n",
       "DhbyH2qizFLaHIM64QUWO24vstVMfZpKxZp76iuiSSIdJoZ77eFkVzH/MGWGnGBZwAAAAHUBnl50\n",
       "Q38I/3bhIAFzQt+trRyxxXw+G/Co8cGkryRXvz7JV+pF23vtdleIt8HP/Lp4wAOAKQpAMThDRPZS\n",
       "MU1/ZOlzsWU35MN7MG+vi9oxkdOy/grabO9lqenxUbjhXp76iuiSRafItI98Z/+Gi3o+VUXztGUA\n",
       "AABlAZ5AakN/CcMY9uIAStC362tHLHFfD4b8Kjxui6/jaVtRpaa3cZhawyJZoeq2cnGjGGoQICh6\n",
       "DVysEcsMKlndROEKkKMjNS5u7/b9I3QDT31FdEki0+RaR75HzLXWCO7vXAKtraAAAAJFQZpFSahB\n",
       "bJlMCCP//rUuWYd9X/y4AjFIz93OMEV4YLsoO2/JaI6NAKiU7Qxji9fJVGK9XVLk2ZyhTo6qklMz\n",
       "3PJHBoDoGSUDlWP/PrSif/0zJQpdW+xIfRVMfaJrQT9dB1l7QtCZ0rp1fsyUPiwDnMRQ+6BDobfx\n",
       "zW/tNF4T85GfIkrjUY1KCseUbaP061CG8zZAvTj25yIjzx08iZdB0gm0Kiz96WWpgP9gajtXq0mC\n",
       "w3mZiA39JxtiGa8MojM3Omr54zVjN6gKBIpsmhESvCZ24Dj/cyLOzEt7pjAZVKlNcnSV+xStBE8d\n",
       "0l5UAWYzw9X8YfKMOA9tlaHnBnwQMamaBX2u/YPE1u1Zwd90xzhn1Aim3+2lRAscMfskpCzCF8mt\n",
       "B1ol5gFzyMFbMzjHtCw5z0qPJp/UKiW6EVRpy3TpDkly1aqMk35f7/0TE9ObqgoNkcnGJylS41F2\n",
       "b5FvoNN9chymenHu2bikByjrmpIkoEFb4m9orhVQV1wQoLeONEGNyPZuaShRCb2oMhJt1lprRWkg\n",
       "HF9rboRTtSQOK8GlipD12hQbfev6XS3JzG/Igla4y4pxKpdBT+6OqYUT5Ut4n14prjVScPUwHqqs\n",
       "TDht6p2Lqm3cBjwbDdL6rwJjZaR7UULZJwfk+OFCR3EfM38pFQvvAn1rTGlsSz8RIeV59KqTcPu1\n",
       "si8gL5Q7rxr49jeEhjXhqp6Fr7S5ZAAFwYiPNl9V7BAksTbKrhLhCS0lO4Z/az425HzT9+ZemvbI\n",
       "/aDb5TsAAACBQZ5jRRUsO/8HgTM2H6UQAffhrOhV0zBvL99UFpKEFwStj2ktFSV5NFedEORors+O\n",
       "ZnhBIw774WpaHpDokDLhqqvqdx/2NV2WebnUJXUUA721+rAnXoqG/tULwoNp3eSM7CSRbpuFwmi1\n",
       "UowazE0T6TQfuXxIlApqZldNI9gjVfm4AAAAhwGegnRDfwnLM/8ogAXSXXiDl1F4patrUs0yYSWU\n",
       "pOXJQRfe78Mxg/pXzkIDhrEwDxlkrw7pnHvbjXftDUEr3LBA8pqKaceKE9G9/efQbp95sqx237e0\n",
       "1Ni1ir1X2vInpfvdBkr6/Osu/dfP4rN9NmY099RXRJItPkWke+NAPjCTObjj70LSEQAAAIMBnoRq\n",
       "Q38Jwo07cQAtWA/1mvFL5v5J2/3+lndTNRlc1pbwkbJiqAaN9xQMwqUV9FYfzSBusIpgbRbqQypC\n",
       "HgppK5ZoslKPHksKN185ZURFFVX3KmTWYkgSrUTmFs8974qsYYLduKlh8YzMc9NPfUV0SSLT4yQL\n",
       "krAuPMr6vDfiN1rSMQAAAl9BmolJqEFsmUwII//+tS5S6bq/lwBGKRyCEv5gkf6IBnhx8QeJwUd/\n",
       "vJtOtZ0VWLeWWVcZ+MUu8BO7fuVN6j9hG3zPrBkKRwEWUZf0F3n7RTHOtp/+Wv7eIoHlrYZ7kBRi\n",
       "RnowqikuH0PGnxIs+TQnkoa8yXAGcdjM09BXzr86Uqks2m9UHKQsfSsBbWk+HxM4eTmUdtzfaxBl\n",
       "ZQex6hqPGdSYSsewSZuX6pzAEA6xKNM1ZXzqm3obC2Oev+npUKbFrHPJv59MU0mHAg/xx+cjv+LQ\n",
       "5J7uOdZpgSosdEs0BE86LaEhPNtu3KqIPyOz0v31z75ryAEHJwYGBwsTHVQHo8I8Su57cgRGqsrk\n",
       "CFR37C4MVUuwW9s1qbiItEnPNl9/QC94+B1PeyCnZONXMwkv8F0FrRoImbB4IuILIZEighS5NgOZ\n",
       "N5fhC2nuFZYvgGg7w1gkX/na8rJDtnDdJ+TizBZBrgIhYDdGL+SHO0V45/633LB1gU1wrtx41jZ6\n",
       "PyBNL9lpTouIzJd63YxEhiGpX+uOt0IYtrgENTYZaTc5lKiWoDwneR059aJwBZm9MQHJ9Ecl7l7s\n",
       "N5d8VFXGOd/30TAp+ey7hDjpspXkWHYcSU2rTjtnae6dmKp4H1bVdpUf4MeLAA5bxHe4my32jIz5\n",
       "bI0/pvd4tDk5T7PqKqHnBb2JSJ14nXStXJF5XLHp6lc/vceCaB2ZpnQqjliqIKjxtP0JmXrxAhHS\n",
       "VrY3iFgLM321eajO3YxjevAdYpONd82gFDKufDw6qIaEpDua7yu9eCgH2eo5l2yUmw4C27pHAAAA\n",
       "m0Gep0UVLDv/BtEgITvQATrWJAVR+KozZZH4c7xzSa2A+S0+o4KY4+9ONxJ4M0UxDT9n8376R/aE\n",
       "XlFhVO1/A9Lid8NuPw/wWXecv7cw3GMr8jJiIMqyqcUaJUhHopO5T8PHvVUjkk7wVo2M413aEkN8\n",
       "QpYVGs5usXJLk+s5LcY8A4T2hNFqZ7WW0m+mhnvt4WRKe41wagTfzG/BAAAAfAGexnRDfwnA7R7c\n",
       "QAlbu/2uCt/m/d2MHppyMbZ7QnJ3G6CyIdtDLw9pWFLEtRK1j1EB7uOVKB/49t9wN9/J8RUJYJ5v\n",
       "ejl1v/ZIbO0ekiEVgSY+PZXdsm9YoGeb7ZGpx7gxzHb+PotTPay2Qcreke+M/I0GqDKlct12t4AA\n",
       "AABvAZ7IakN/CcMY9uIAStC362tHLHFfD4b8Kjy8nGRg9K2o0I68sQdrDIhI9rYlcbEieHg7pFDh\n",
       "gIQPEB4LnB12Rl7eo5rAwgdXAKUA6IAzlnzLtOjiP+9QzT31FdEki0+RaR75KEYpgRLzZbJS4K+A\n",
       "AAABmUGazUmoQWyZTAgj//61LnMG//9QA4Ywmh0AripuSKywtl+cuWdpI+DykgT2Hr50YkM+ht75\n",
       "ojI9emrg61oikNYtib3IpBuCqMhxx1UX3jzA21MeEB2ZXelnvDHWMt81l4j7OKEPs3LAmtjz0cvk\n",
       "YCGtiNGRkQWBzVxGapepu2Z5JZe9kFpVdfBCb9npbspkrUcpOLmKgVxtC8XaU7oNJ+Wr8H8e8aFI\n",
       "ntRwzHLdeqawEvHa2ts285Rzg/mhHhCkC7mXYY8UgoMOFNTd8avm4Ue+JRETEQ6VwL4ZhF43GsMR\n",
       "w28qXEhQfnzh6Qff/XgjO0z9/UO0Y5JIxqNuMamYCwZ6PvetXYT3LWY7Zf0mVBeOnbFwFTM7qK8w\n",
       "HhQU/kpcZPty21OUhZEA2uT1d9A/D5QNB7uRZNn2CqIXNQlqnbMvKpWXQCTAO9Gzq/wHJnaUeyhG\n",
       "A39zzekEPdURCPCxOBoKikQYtR2CzuSbnVm1CuzjorHEw7u+hubGkrrWmtacsxLmZHkCJQvrdOVd\n",
       "2rwPP81VWQs1av0NcDUAAAB6QZ7rRRUsO/8HZRaPvQAXLUtrvIj5LEGnKmaoT7t3r8+laAXR5qph\n",
       "N7KHcAH/qQPKvxPtK21rLDKYjEHg7Kuld8D0uV3vJioIh+XyoXMQ1eT9rlmGkKZdEPcTTx3Bgd4P\n",
       "0lKYmi1M9rLaTfTQz328LJL37qCQcTiuziAAAACBAZ8KdEN/CPfO3UQALnwaKDj31wtB7ymcyM0Z\n",
       "uSphTrXAD3HfDO0l3sWwt4dL9Bapv4ZnecYe+rlLXRiFylg8z4481p+BOn+pA3qCNVTTzhYhPiL2\n",
       "1caM0scJxrsM8AJFlZ7F4D/9wFDm9NPfUV0SSLT5FpHvkpVMz0aQQsosZ5gsAAAAbQGfDGpDfwnD\n",
       "GPbiAErQt+trRyxxXw+G/Co8vJxkYPSvV0vu7siJ9rDIegLB1OkO/F3JdJKuqOWfHkIDwXODrsjl\n",
       "6Jeg5ZB7nMfo/FHDiaO5X+37zfP+T31FdEki0+RaR75J/xTWdd0NnFnq2DEAAAHOQZsRSahBbJlM\n",
       "CCP//rUxIPQ7D+5oA/70yZ983je7xFgt4/f81Pl/Faww+KmVkhAINWjbEBaHWB87zz78v92oFoXA\n",
       "6HYxrbP/6u5w19sphquJIQqE6Ahyu9Ih3r2FHVYwhQhUysclwHDkpVJc8MnTrOLwrYeJwuy057Pj\n",
       "iYycDW4bECOc2XsncO/vfleLfAUAUhEYetmVp/6ei2UCInPLUHRAbZF4dAIXAPEe7di+I6B+uz1W\n",
       "rylT5lKYVtaXF/vrLlwi5/tw+0kUo3amD2ahKTlDv83raDaL9APbprnwEkm0M6Cc9Wd1vdNXek6N\n",
       "xBVZ7lfGTAmuuzTTk8b8W66Uk3Pa2Yxpb3qqEnSIrRa57Az2+8tlNA1WDuhqNnWPhXGAoyB9uVum\n",
       "LtSxz+FegLzanCY4hRR5t7TXZl3jkW3m+4Dw6n61HdVo7h9noDKw6v40qqiwRiWqXuk/HZS57nUb\n",
       "OwDD+6F9KNC8L8h8x2EoA8UB+jKtNc64WvMb2KzOvSmYxzbVr1n3B3zehGWf4RGRJKtjLMnwTUBc\n",
       "u6JGZXjAGfaCKDUZX4rbFedvzZ58CLX7zv/6HJXLNiZd4ioQorOfWgr8/35xGOHClZcNwlXhAAAA\n",
       "bUGfL0UVLDv/CNMX/w6IWnNZABo4JdK9O/8WFFr3+Cr3AT/0O8c8+9YOs/VX+TClLVqdF+iPfj2w\n",
       "i/1rjtTU7NhZ2Cf/8xz086fvfm0Xq0N2W8tFSuCrAmi1M9rLZBy9vB+aWyR42g8GWq8rjmkAAABp\n",
       "AZ9OdEN/CWtVfUnEAJZLrxBy6i8UtW1qWahR7ZFlKiXBnKVrzJmHP+Yvk7C32r7Ql8BYGxurqW1M\n",
       "qFf0ONB5dwznoeQCd9XaA6RtgP+IVd+f8nvqK6JJFp8i0j3yUM2zAbLjidjbPaUgAAAAeQGfUGpD\n",
       "fwt7KM1TsEABcwsM6CiyT6LunNbNO1EZvdcKfV385SteZMx8eZLOHYW+1faEu6n476LNS2plQww3\n",
       "yuBYqd3LXg1Ly9ykveyieFI9S7lWpjBSvtfJNVX8P7AA4MV6e+orokkWnyLSPfJQVLO0B3aH8zyZ\n",
       "fEAAAAFZQZtVSahBbJlMCCP//rUxTHcagLbO2dgpp+Esmfg5fZbc1eoBiLYvc8NgAIuuJS/Gvrlq\n",
       "UrrWvrVLmAvTmvMR7SDbLKRhc2jylJ6BAuTMMHZsWwmRKdcKBaFYd6PYzSQjUraUDy+LvabWg2NQ\n",
       "DIISKAZITbLiqkPq6pET8er9esYDbzf6BN4S0P8fN+4+0vFkcjIkY3ZfwjqaABPK5J/z6Hb4X88X\n",
       "UrrxTiyznr/Lg3O4FV2kcHlVY3XJA4C/Xx0mJvTtGY2W/IBM5m67onIFMI/foSVQepLbk/gVO038\n",
       "sfA8rEC36M/6T1h4JC2tWFGBzIIj+4c77Qb9Ji9V1LCI3ALcXsGkHZ7DJGHqoQzDOHJhKfuqU2FP\n",
       "pItFCcfQDeGSyrpaaF+80O1NiaJKw/8M9lPX0+73BJ03DPWZ8ugf/Q49SKNNH+1bUwd+mIJFc+ZZ\n",
       "mJyhO11AE0edAAAAdUGfc0UVLDv/B7/70AHG+GocLDM/7HXnsfJYXsYMHQZlLkUUVY0dpf7qIAhF\n",
       "sjnAwUNbgf0fgGSUoYmD4NWjrE/zH1xffCkO3IJVW33biybK/hZh53ppMDu22TVYxkd099RXRJIt\n",
       "PpoZ72lsrbDJwDpRYY6E4AAAAGoBn5J0Q38JwO0e3EAJWFhnQUWSfRd05rZpyMdUaDJyfYuhopMt\n",
       "FXHaYLupYlqJWseogHgOVDx5KnYilm+/CnodQHlBDznahCqW6e62Ypo/HUfrCB9FqZ7WWyDlb0j3\n",
       "xn+IWHpxRUlYe0pAAAAAagGflGpDfwnDGPbiAErQt+trRyxxXw+G/Co8bouv42lbUaWmt3GYWsMi\n",
       "WaHqtnJxoxhqECAoeg1crBHLDCpZ3UDIPgzZs3vEM5n1f8m7h/J5pst6T31FdEki0+RaR75H4pZ2\n",
       "rOnQM7HnaLkAAAEtQZuZSahBbJlMCCP//rUuLjC7Ij/0gArf0rLFd8ZIKEDmMCaa8s1oByJrqvwF\n",
       "Pj8/8opEqVmiwg9Lskix5si+Ya2hVUoT1gvsXXuZKM4bvpvFgN/iuvC6q77mriTeRf6FWHRtE4OV\n",
       "83qIA///QHlZpjpByLflcfRDoNmmdkcJBeob7+mCFrIAjGEVL4KD7PVti38f9v8HibVKTcaB8AzI\n",
       "ALWUV9CM3p620pR1oeegJ1J1t5CmraZSy4IRiO42s8cjYTxHsPmWweKi5zx4ibvoXRFFz19waQs1\n",
       "v5nlXAwReoLpBu7VN9X+cyFfVTvvQx6gqMTNlVsz7OM+1BIREUdj04FNKOfOMMBoNnBnlt5rHmr/\n",
       "0NPqusGtYlFZ5HUzZheLsV7+swDvs7yvTqqx0AAAAGdBn7dFFSw7/weBMzYfpRAB9+Gs6FXTMG8v\n",
       "31QWknzVSuNMpP5SkfLbsUVjHbE8Psi1B2yMO++FqWh6Q/BQj/3GVrwZGSIZx58O0VVer5Us+RNF\n",
       "qZ7WWyDl7eD80tkaQrEg6wNMw0BBAAAAZAGf1nRDfwnLM/8ogAXSXXiDl1F4patrUs0yYSWUpOXJ\n",
       "Ef2QHjjEBD4G/eswo7Yk+ZBGKAmhpfmFSNhpuXKpqtiA8pocr1BIht8LKqyoH0WpntZbIOVvSPfG\n",
       "X87HQVNHWiyBZ2UAAABvAZ/YakN/CcKNO3EALVgP9rgrf5v3dmL8PpyRyNqR+m6tdDlMEjYvnmaN\n",
       "GYVKK+isY2Rko31HUbRbqQymoHgpdYj3tGFZieG0NE0u8rxdsAofnP/CKcAlenvqK6JJFp8i0j3y\n",
       "UH2zAje0l/LgfL5gAAABSEGb3UmoQWyZTAgj//61LlLpur+XAFguGIK4mDKFM4JlTVJAOG2t/B24\n",
       "nwyAKnykSzT/stB75Ve/KnZ0aCnXTiXcyo3J/0bAkcCI3pzhdmBo2+ftHyMX1omGaZTBK58mUviU\n",
       "TDkz8l2OZsqznc0fbZ1gB9b7cdqyh+9dK3doEYtU/6kym8YRf3d/z9M6CS82JLvc6G80HVZe+ohK\n",
       "vJIRttYDDnVNzmQJKQWtFa/f08lLCxXZrrwLtPk7pifEs7jfeGFjnEjJqNzYeuOAynltp+tZeAa1\n",
       "M6VqBhOrpTPgBQn6WLMxvQvSiBeou6Mk+1H8P+UGxr0yFFAIz4pFBd1H7LHUttUs2j+uDdB8IImm\n",
       "ewv+1aullWHsd2whvEMPr9yAw9h6wm7XitTxqzPrHn//0NQWIXgzIXOI0JiZWuPSl+tWkeP2tEOH\n",
       "/fsAAABoQZ/7RRUsO/8HhMh5sALb4GQGmXGGMPnG48MPfs4UYJTk2jd6SuiUdQm+Vjsf6edbeYG7\n",
       "Rd34WRbR0tP8D0rz3wznOW+fKhc57VQUx/e/ca3JcJotTPay2QcvbwfmlslAaoR9XEVy9OQAAABq\n",
       "AZ4adEN/CP924SABc0Lfra0cscV8PhvwqN3z3IVJlJ5nfn2RwykXbe+12V4sPoXfrgdFRKAcMP9A\n",
       "+TX7nGZSMU1HyJeqVEPslliBKcFGN8ldn7IH0WpntZbIOVvSPfGgj7Q6XCbQMpNqeQAAAGIBnhxq\n",
       "Q38Jwxj24gBK0Lfra0cscV8PhvwqPLycZGD0rajQjryxB2sMiEj2tiVxsSJ4eDukUOGAhA8QHguc\n",
       "HXYgMdexIXIK+NBmJUD6LUz2stkHK3pHvkgA+PXHTzFl8eVlnwAAAmJBmgFJqEFsmUwII//+tS5z\n",
       "Bv/pABWYqJFEGF8tMnQDgrOAzbA78+UDfrT3G+HP/8O6df995EwLXbAu2Gs2UkWz7I/DSv73hLnO\n",
       "OwKyGopRat3fauQCPybcpDFJkD/jxyu7rV4nN99WPEe7OABTODB0O6todjrsIbN0ABqlGjmgqdlX\n",
       "7fau//IaUQ4a6rXtcRlq+ckfheW8TKYigVTGG1fCaPmLeGoUpa+MPxcw8qRpwgTu/l5kCYzSCtm1\n",
       "23QHfIHnxCLTfuSqmRgo118nntw5DNCFrYjiJPiIE50/ru0dSoDdgd/Kg1t0BBDlHGaBmQhzwBJq\n",
       "HIAu0z8iVM5zAwIwAjm9Fk+GhJtzd2mc4cVWiuP6C3df9/6W31EG/YAzxGTkwcITHUmveJw/W2wB\n",
       "fQrXdvPphRo/gFNvUlpZDiAxPr9vEPwL/S1cPjm/zR+u3PVks4fCxKT8gSHitIC2hZu8QjX/ugm/\n",
       "LQq0Vs/+V7hSLnh+6nA0DQx7R7sfOS8SjHxY1WLa1NPpTRFwjJmFuj0BZatzBW36ReJa8Cbaa7HR\n",
       "yD0AiGO62rT3pCemsL4GYqCK7xs2noJ6cIszBzipdJvwDIK54SWmk2pg/V6bSDIGZvavI6tTZPhK\n",
       "ILG7faVeqZT9imlHkfIQhx5EsM84tB9OT7p1QsohTeNDKLpIUDapYbPJDOi4cvQylEsRY78RHnH+\n",
       "QPz1yTeiC1T3mTyJ78yU8Z1BRi1sLwNIdavWWB0/vu1Q7rlDWL7y3hTo+x1NQf6A+L9+lN6yn93V\n",
       "0hNysae21LoGbjgA4D+ZcsMD4Jlc3JSMAAAAh0GeP0UVLDv/B2VXUO6ACWUIlcYSXMw+7xIgS5f0\n",
       "1ZYOi9GsgqKzBKxQoAtG2FdS3AhwUhpaDAhD/DhlCBuSiyyErvmPqhfRrmVgt6XoYzHE0ZI5y5qH\n",
       "ZVJzihLqUHVS6kFwvDgf2ufQEFD0sQ27n2I099RXRJItPpoZ72lsjfH7f8UNzBmjYAAAAGwBnl50\n",
       "Q38I7Pth7dRAAufBooOPfXC0HvKZzI7gl00Y/bzr57SPNzUrv8vK8QYy09Ig2WQIbr8Bl+KJfcbt\n",
       "xgB5SsZDLgVg4dljnr0NV/RkMyfWCbUt6T31FdEki0+RaR74z/kNDk7Ahje9L4kAAABuAZ5AakN/\n",
       "CcMY9uIAStC362tHLHFfD4b8Kjy8nGRg9K9XS+7tPiApF8h6AsHU6Q78Xcl0kq6o5Z8eQgPBc4Ou\n",
       "wM3lOqH0XBrxO5dota+axiu5P5f855/ye+orokkWnyLSPfJP8mXWZXNoAxX7WkAAAALbQZpFSahB\n",
       "bJlMCCP//rUyIzfwj3vAAG2SVli20k/FP+FtGSwZsj63KJ7C7C90Yo4lkzAP/dEwyFZD6Xt6R2S4\n",
       "oAGumpLeVRCHuAMclztINoewJlacd/5oZRfBZRcfgeiWXY4g0oIa5iMu9RxJP4kBqoUVMnEahj5S\n",
       "/viNsziDof2Ix4ZZ89S9b/kT31Pri4aPg+AGyVj8NnjlCcK3I1wthlFsJuJSGQ9AiJmdZlKUQ2gq\n",
       "vGwq7NK4BuzW4WGqzP0LVuCZB/uDFg4qWQJFIsDii6BYW3MuEQAt5jfjF77ZQtXNU5cEAjBPelA3\n",
       "ow+GvYED1O41vP+UBpLZmYoOLPmKZ9mbH8KigAn8zTDC9t7i4tY7XUspcJ95JhJ1hfpu7EDwnKdE\n",
       "+tKGN/Mc4k1M+s4yCpT3JlYxRhLLksJ2n5kFCzG77u9Ze4vYJIhvk1DDJ5V+30b3Bj/fPoH7NOdi\n",
       "WieuMqZKWE0/xioJXmkiv4FomdkGRgWzs6nYkudeaDMY51uOyPrMR6FaOZd/eOI1EU2Qu9ZIhsO+\n",
       "tDyvNmgSUCfhi4DRfJ2gLmOjCRMNoqjhxLg9AmCA4lNKiGXwDkHSWJiFuk4E/XY1N6GSsXznTIV1\n",
       "XNFwYctiT3n7WNAVcDsdJKuEOgxlr3/9tyZ81nX1NToxE5HADhOgvpiSQ5T1xWYSsDdGCIDAEYAu\n",
       "HdF7s3ckvxC4J6899Hgtxom6JiVdulltv5dgSVCJOqUrXi7BZlS/v72ks8ZZ99qvM6zWcNl2smhX\n",
       "NQzdB4JcuQtrH8jRsLALNHavuQgu+Wq8cSAlKoRUnw/BwLC1GyHlLrG+OPcAo4AcDy33aR1btAt0\n",
       "rgcM74i7RL2wX6gkS6Ucu70a+mLAjhJRGZlh8y2gLXm3XeAdjKpDTsiQwVtfu/18AEKspbhgAUoL\n",
       "4yYN/CdWJtyazZ9IvKBjf6RILWefeaewDAB1uYb8BUweVQNzGsSL6vEAAABxQZ5jRRUsO/8I0xf/\n",
       "DohfbVkAGpoAzVRudDw1+elDYER6IJsg8rRgo4JEyRsFgmr2pDoqveWOURaWG2nz6myPDfR5yC0C\n",
       "8QZVefWOdwo8tf+np2gJJzOB8Rp2ORNFqZ7WWyDl7eD80tkngXRSZjAYWFIAAACBAZ6CdEN/CWtV\n",
       "fUnEAJZLpYD6YdlEc94pnMt/rYDKVKtxOUrXmTMOnTvzh2FvtX2hL4TlNjdXUtqZUK/xZkPJcV8X\n",
       "elRrZh5NSAmnuNRl5mRvQujK3JfQJ65gOnraFlqoA4KFx9/UeQKv+T31FdEki0+RaR75KFyzWeoR\n",
       "rSZNlWedAAAAcgGehGpDfwt7KNNvIyAFtQt+trRyxxXw+G/Co9WhuGi/b4t4fHlwLf0ESGPMaRQt\n",
       "9q+0JczdJDK38zghmt68HyOCl2IRWfvI4LeMUqsUCSPKxtAQNsS/l+ATORYh9FqZ7WWyDlb0j3xo\n",
       "FoX0OtdQHlW3RQAAAnhBmolJqEFsmUwII//+tS5ZgO0HpABELweHrM9Pu+8BLWBr7xkOoscA9M4l\n",
       "GGBkwdk7UdwxYKOOlLGv/wgQil4dVxDCPjoa4ke5J2lWrYuOQNkNAtIM3sk9zCPH8P52v0d9Rzph\n",
       "KVPMWhYarKrn0jUZ249BZZ4wVZVhz2PEiZ4NbBoARfIcJotdn6KuPEew+FJChQMV3PeTVNlfdNek\n",
       "Au1BOVRq5t96nmmqzL7Xw/X2pNFtOzvt8Z7aNCq9p/v1YkSTS+lbfz/NxMEH2vfb/emoKZtn1c8W\n",
       "2YPV8okMio+wUetHGJ9AK+3Q0BEqL4V+eu1Lj9RqnQJjj+JUfoP6opYQdx8R6zbCHvQ7D88/xrJ7\n",
       "tOzdAR7yrwk219MV2sHyRbr62IC0s6kWQL2CtWnNAPtuT7o5zJZZsA1ZpuxZ79FpbMld8beGKCIN\n",
       "quM0SMDA/qBCIXmCRIWN5xVVb+rqDp0/7RBeCDehnQqaksP8PVq15OhFUz+wx0IAN2lDUNHair8b\n",
       "dOdVcgaXs9sIG+yCHe1VhFjF73XJ+PK+4FwsxjAAraEP+q6DLQZpNv8CqnEWBZ6q+d7Dh3eiNhVY\n",
       "pE9mkJeO7JUWi0wavZDGQwWwHwtFhv+w8Ns4BryhagTLnHF4QaRFHLWouXtpOMm/BQ1UO0P2W43/\n",
       "Pc5CF/xbXN4ctaqsi0hJK1HxX9cemqj2V5CoTolCbSl2zmS7jdk+gpHL4hXjsLXPWqtG6211p/V/\n",
       "Hda2RTmTfMZj/FohyTSU+quiXTmIO822xKtC8op6cJ+ThdZong3SARdndq33edAYnt68sKYa/+Z2\n",
       "aLY6c9yOgBVqzVvMISHxBP0ReQAAAHhBnqdFFSw7/wcWnh896ADjNELzkeVK4c0PlDCIxk/xNIPa\n",
       "aNHMGMN4MJzRG7G4h9TKM636+87w4O6jyih8x9VH3w8ySSAzfPQB4L84H3l4xXaI7AlQRZx+TZnm\n",
       "hcGK0JuzyE0WpntZbIOXt4PzS2SHFwhDxeWkH48AAABoAZ7GdEN/CcDtHtxACVhZKd2mafP9zj5/\n",
       "M8MtUaDJyfYUf2U8wAvKn4u6liWolax6iAdbJ0l9Doq55gb2RL9FtsHmpYFmlIwNy6AYJ39jAtsE\n",
       "D6LUz2stkHK3pHvjP+hoScviZ6TMwKAAAABlAZ7IakN/CcMY9uIAStC362tHLHFfD4b8Kjxui6/j\n",
       "aVtSX49u4zC1hkSyc2Zc5ONGMNQgQEz0UEtIRywwqWdy+rzd1T8g+8jkg+piaXLak99RXRJItPkW\n",
       "ke+ShqVuBqWkwHVPtYwAAALGQZrNSahBbJlMCCP//rUuLZS7rf/LgCw/SssV3xkgoQOYwJpryzWg\n",
       "HPxODc0Zuug4NwB+9ePhmA14n7SVNpFdhlAZtJwPlS45VjTpjgEES7w3gw0ooBANoXMYHBow7vDH\n",
       "pXHt7BdNVAatsTsHBxecmjTKD/nZGFUoYTBba32fe84MWn+vNf7sve4veHzvP0X1/x5LBRMVv4Jt\n",
       "F2w1z4xcXq7+EP1GQynA8XCiXPO+90qqilAc1bsEi0tLkWXhbK4Q3gP5YoGtk3IsRs2pkD3xMy/C\n",
       "hMR4tAEVmJrgn7bEGoku0LJ3Lz74ipUI9wpWCPNY4qSQR/jfd89hix5ZCcJYfFZSyGw9sh2gUfAo\n",
       "eHWmdkMyhMgDTe4k5TClIQcg+e6NHbvw0h+c6ZYGOaqs7dpYADdorSOp9DGpgeY+I4SDuSMxnX5y\n",
       "HlMFecvH/We1mqyE/vJw3VsXahNL6fcQI4nW3ggkEMdxfFOxlYA2YbJ2/61TtatdPne4NK6d10BY\n",
       "Jvb4QMp074aaiuze2ROIu2vhZhMbzRWO9gUbHMIhW9u31CJgWtGu0qRmPXNA0j3oCOtrH+vQyzO1\n",
       "LdS7JEsRgDWQPeoDCF66zmeO8g2l5LDp2ylKU70vPoRBi8E/16Ep4HX9L2E08V/T1qIGgiJM9niF\n",
       "ykB7+B0DxXls0BCdtpyzyZhmBvF925n+U1M3+PBZaTLxWfl+5d0pvxVbQRIvyKgBcleMMqIVCZpZ\n",
       "nW3QGU6xzVj9OIWZs4HqUfCahgsnpG1NI1VIWl9bkpmPRP+Ea0Pber/8Mfvm6M2N2DP0t9OFHhHz\n",
       "mriuoFiWeqXKSL5tUL4+E2EsIlbWo9ruvlwZZjvYHeNi1AFopS3o9P3Us6wX2hJBaYVlMbOJdnbQ\n",
       "/0H5IcO6R+cCYD53QR51GVgcMAAjQTUuhrb0tBPHPCqMR3GyizN11KFvad0AAABzQZ7rRRUsO/8H\n",
       "gTM2H43ABq5mcsH+qTNh1oylZ0ZV4/sSZ8o0HiNBd+fpJSTqqFeogoO2Rh33wtS0Pgda5wuWQcc7\n",
       "iM5QlcJsrdh4y4gR/MLJBiK7KByuIHBUtnT31FdEkkQ6TQz328LE7Jew5Rruarj3YAAAAHMBnwp0\n",
       "Q38JuSd/biAEsl14ysUJiKge8pnMiESWcpOXJEcWAeOMQEPgczazCjtiT5kEYnpqEc+YVI2NCzNk\n",
       "tBRxLBTP+rXMeMeF4uFWCEIyd6GpC74s2c2h9ii38fRame1lsg5W9I98Z9Lz8s9B+FcufMDgAAAA\n",
       "jQGfDGpDfwnCjTtxAC1YD/Wa8Uvm/knb/f6Wd1M1GVzXjbwkbJiqAaN9vwMwqUV9FYfzenRvqOo2\n",
       "i3UhlNQPBSl5Jn+sZCfqG74eL4R2rlGZ/8057aEDj71nL6RB2sk8UBLXkuzPIMc1Lk7JKV1PWtDy\n",
       "Yz/THeKSe+orokkWnyLSPfGYi19tuByNmKhrtQAAAlhBmxFJqEFsmUwII//+tS5S6bq/lwBYLhmI\n",
       "qNe9H3Ayu3b+IBe8Br7CHHBPxSE+WUZYzJ53Y+lqvfvutxrTmliza10NAJabM6XPkiZCrM6mddaE\n",
       "03gB9cU9xv/BQCM6nEXVUeaIOceTOGTo9XEsCJxa+InYCGbP1U0lWghwl925zosDUrFfZxx2DEhG\n",
       "zvMn1dOA/le/0bLJ2q1uVFAdQkMgmFI4S0m8TnpNr58xTyFeTSzu2nbWlQ59WVszoAxzJ92TmkJV\n",
       "zA7IY+OG02xTK8LZ+/KJMjxJ7FAhhToxiFpaFVg7+y6QtNXrHx1yRNyE3M9g/gtnjQJ2jt/y/gLm\n",
       "dm/yF6zfFZjWzuBU1OIlX53qh9eGdnKw0BpUQW9s/chGbgl4WZsNurwY5uO2hvR5NzOT5LFi+10K\n",
       "YSvZhYptWuj5IoA0lqceTz8WIykwv7AZT9mUFerj15+I3IBPE/gTk3QzfM1w6rZgr7F6te5Sa+Lb\n",
       "6iAc/wbsholOyRhtMO+/4DbyTOwJXqFopUtTLx8gDjo9jsT0IBevSwiTWhpHkC3c5Ha6v+rtfcqk\n",
       "PdzsOlIFfwI3LWnafZH6A3wSxOew9gbRx1SzgyT82YTsB4QCSC4qPG1bl5sQf0PnElBADNlr+b45\n",
       "gUOIh3AZi2xCy5pkhN1uNEJrVXAUoujmHaEWdfaI0gZtU7/DyHbmbPPKQVvcR3G8x7ToIbXjz1PT\n",
       "/tfqO4VO6sCcoYEXDidDpgwQRFE/S/UD6V9X1+sCErpW2xNqmKF4q9pvw0XkPutxHxfhfYslEidi\n",
       "08uDY6EAAACHQZ8vRRUsO/8HhMh5sALdPxlLXGF2GLNOdyMLiJXr+gVreuoDvPXBZXVus+6NQWq/\n",
       "ANz42YqcEW0dLT/A9K898M5zlu/Q0PwpLDPZJORAWZiQcVuQ0PZOvL/S71HpiqLHJGOMrlVc5bKZ\n",
       "KueCKBRQTRame1ltJvpoZ77eFihmvt3xbcG3sdkxAAAAhQGfTnRDfwj/duEgAXNC362tHLHFfD4b\n",
       "8Kjd89yE9IiqpLL2joKOd3N2uPY991fdPsHhZevKtZA8IML50ZnJ7bHS8g5BZQlkMNs1/qVC+gb8\n",
       "7HGSU6Xi7RSwCM74so01OWmXu9JMhaR4hcFEO8X+SkZPqK6JJFp8i0j3xmPBmcFYvna2aOAAAABq\n",
       "AZ9QakN/CPfO3UQALoqmLUwAMgDTN6lmoVtOwD5k7O/pHoIs8hzbslykDGc6hgZWJ6x7CZjs05SU\n",
       "COwwdkUHJM/1jITMpo0bBJVLMMuw52gEK/5PfUV0SSLT5FpHvkg7oOyH/Vrec/TigAAAAhxBm1VJ\n",
       "qEFsmUwII//+tS5zBv/pABWrYd5j39DEgEApx6gNJ18IMyv/dJ/O+jrf/UvWMzN0Hv3pC6pHWAL3\n",
       "f1ZsTrgELIzIdbmuktLDXWgo2RoVpafZgnn4bfThqGgPm7TSWwvay8drqI+VrPFDaOeTfCaJfbPs\n",
       "xBTU6Yf3+oi/zWVwfM9HDnrHSautGmymayq1u6fQ3dJfRTvinskqF5hneMfAStNzZfZFvCMHz7vC\n",
       "QeRTbi2T0aa+PLZHhIzog06UToHfILHdFKj3Ttci+QkmoZca80+8AzG0AgsltXkYgrKb0bkOh3m9\n",
       "3OHIY+b+6ZXYYahOQhVJKdZIVmlJlhm90va2rPGo3tvmum0JvmoE/jq9vk5V7Jjs1jzH1bA9XxDc\n",
       "O4+jFGt62ZHpd2mMyrbGPMRkhCepjpW3x2YDyLZHiy4mWaLp6AaDPc7HUjw8LsZ2AyIisOPVfufY\n",
       "2W2FW+Zp9poKYE12PsIwY//cUdSv4V/ree/zbLTPS9Wsvy52m11YwqNgZl4ZPyBtsbFtbe9wTmYU\n",
       "gdtu3S7teAGgnTeBVZ21A5SMJn8jOneggmqjoXOLoV0Pqgtw92IvSbA5rmjjacCOYSGY6Ki4rcqi\n",
       "KLznwBuyHw5E15Xc2vRYuFRcXB/g1bbAQSRC1a8sV6rS6l8SxQ33tYMCmjC81Tu4ZqzrRyV/6Gx0\n",
       "HfX4V1UOm9eQ/uaM3auD5hu17CzdhL0AAACGQZ9zRRUsO/8HhMh5sALZ4hviPoAuA37wbuDqpODU\n",
       "z0RrIKizlCb1RPpdsP+e0xbNskO/EbLIuaOwk+DnSClT+B6W874biflu/0DLnE42vik7DoSkDBuJ\n",
       "af20+km7VrLoQtq2m/qtPi6D5RbW/DAvdPfUV0SSLT6aGe9pa/yCZCbACjEsWugAAAB4AZ+SdEN/\n",
       "CPfO3UQALpMGsgq8BI1rpfFM5JptyvvOAgAb286+e0jzc1K7/LyvEGMtPSINlkCG6/AZfiiX3G7P\n",
       "/AcuKmcBhvRZ1/HfEceSjZU482R4H0M3IZSrm2mzpqmdC0yMn1FdEki0+RaR74zMIPRKDM9NGNDC\n",
       "AAAAdQGflGpDfwnDGPbiAErQt+trRyxxXw+G/Co8vJxkYPSvV0vu7T4gKRfIegLB1OkO/F3JdJKu\n",
       "qOWfHkIDwXODrr/SseaWf5vGJLHBlkjnITFcfRaTzzSrX+lOD0IwcZF0fRame1lsg5W9I98Zbp9g\n",
       "gRpQ0AnZzwAAAcJBm5lJqEFsmUwII//+tTFD+6loA/70yZ9ccf/MzPutmXpSE2wIF5Lvs7xEUEwB\n",
       "ovYUk7evSKDLAInZX9NyL8jinVDS69VIlBK1L+vLG6uc/xkwOnw6J2ASTpiSbsfnWvhir2lVsv9e\n",
       "x8H7at+2uerGxzvN41sq/ht9fUqRp50Z0lM3OtYNnCOhU684VhIXjYIZt5Xas8Zwx9WdQtjf2MZW\n",
       "+5uiWGqyEqwCZ95kjTgBAW9IrmbXeDuWiLECO83U0E81spb/OTlym3K1raMU6kslhkeCski/GbIm\n",
       "/ue+J5AqzBBXx1iFrPoiB7EqXP75JhsU3Yilhm0d+dNpvwiBQASUrQpbbzcAflmnDc54kPnNXaqf\n",
       "fvPxsGJcA710Wi0IvEeo+iJcNbuC+AwUlGNFJESns+LZe04rGViQUUHKODheJ/cFaJxx55c9GyZr\n",
       "1L93ot3tj0L0NaCd8o5r2KNONhAlCuFIMepWHyceD3nXhw0LzfSQzMPlZRhgPi2l+tQeaLaSEn0s\n",
       "QdO1T3nGnpwkumQxxq0wmHaxc/FOOd7QYA4DKiqdp7qr4N/6G8lDHov3f4MDaRmte5c5rwzCgDh/\n",
       "SgrtjWAAAAB1QZ+3RRUsO/8I0xf/DohB+OP0f2wAZ/UGnOoJ8W3z6DOkdrurOG/4QGb6720av4/Z\n",
       "WsXmVGFqQAY/PqcCtTsx1Ls66GqNgI9mkHDp8Ekekbe3ZJ3KcD5/17AaYJF2n1JotTPay2Qcvbwf\n",
       "mlsAQMhvYi8KzUh9AAAAaQGf1nRDfwj/Up3EAJWhb9bWjljivh8N+FR5frSWAM5N4fHl0xoCYLvo\n",
       "XGjzRyCNbqXc0ILrQJjKAWU4KkwqXNxDklP51izq+zYq5OwzT5eZh8Ok99RXRJItPkWke+MzuD7M\n",
       "GWqDyY7zkQAAAHMBn9hqQ38LeyjTbyMgBbULfra0cscV8PhvwqPVnz6zMGcm8Pjy6Y0BMF30LjR5\n",
       "o5BGt1LuaEF1oExlALKcFSZEcFVvKqs/m4q201XqYVVqJIpvFXF/SF3jtYstenvqK6JJFp8i0j3y\n",
       "UPmzCgVJKbWzFtiAAAABuUGb3UmoQWyZTAgj//61LlmA7QekAFXsWwMk1G/dE9G5gG28Ne7YQAG2\n",
       "rDBxSjgeSvT8EDzZg8XFqQtlCHUa9bvfj/D8iJ17WBD+Eei1J7rIA3r9SmVsQikgEpvaJAARDOCp\n",
       "52EMHUCSxxhH5BjIxIZ1PODns3RnxwEasUBqw7kPUXjCWizVNRtwbdFM55uGeUsMGHm/vE7mXMTU\n",
       "/rl+BN80Det8wV1DZpb8eOG1nCA3OOmWz4oKhTehQmHU15uo21fNKTAOhb1ss58fsrRWmV8v6wr9\n",
       "Z0Tw/rbo8RnL9MEreFH/ULruHCzd2yP12V61QLfeyz5r8p21K/GvJYmz6MAcby7Whlw56/JHz1wP\n",
       "WcUamYRKvskEdo0u+ZvFyG71BTQe5Iw60KCnbBIRqwaM87kCDkbXLlEagOjua5PHBGNsonIeN8O5\n",
       "mur97U8uAYPWLef/NJXMRy6dgqSBdmdQRD2/79Aqyh+Nqty9wY9m8wmMoHa5LG5yC7qyfAvKdm40\n",
       "MNzkGbVVgbllYgtA2OP7Mr/VLV0ma5ke4wE1CCphJfeTA3c996bPJ9/9Cv6anZ2YvPcBvxNxcps0\n",
       "jQAAAGZBn/tFFSw7/we/+9ABdUob3PJbqHVjBHLVMzG7XP/pB3xDxbROM+7teNx7TC9c9Xb0CBVA\n",
       "mm6k6sApY/MfVJ18NHXxbv9AHCILUu9WLhss0SgXgpwEz3ecQmRScKv3vDbVkCKSYhwAAABZAZ4a\n",
       "dEN/CcDtHtxACV3PxqErGyHvunNbNORjqjQZOTmKkFkPLRVw/uSsKWJaiVrHqIB1snSX0Oirnl/+\n",
       "ZEv0W2wealYutVovD7fpmcqFSG92m0va+R370kEAAABUAZ4cakN/CcMY9uIAStC362tHLHFfD4b8\n",
       "Kjy8nGRg9K9XS/Ht3Efawx61bMAD5WltRPrQIKc9fExZy5YYVLOTsTJ35xzxIdMnorE6SmnutmmT\n",
       "FpUxAAACB0GaAUmoQWyZTAgj//61LlovV0wHwwAsP0rqmJ9Bk9ivpoTTXl3qASR5+x/2k5HFDlMV\n",
       "xLB2xZIW7KBc0lbvNJhQVf9oQvpBW2rTxKYlJseqK1juPAEA5O/f8PLFDRHP1HoJRVtZ25Tj6tVv\n",
       "JGS1zjU0l7XrfKoyaIeLt8A3uzDOOBeAzRqfXYked0amIqrExle2RRMaIWOYmNq1NIAJcYcrJcNg\n",
       "UjVMMliyPrk+0DQkmBEscKGfTLQ0pN5N37yRBN97FViozbPRSPp8J0M3Aec+8dE/m/94QIsq72H2\n",
       "JN6ZmxAYXUQDBfjgcbQMQ2gnr3X3hXEcPBNeoo7/M1ACffUQi2KXW3BaXXX3ogTwgzCUWfmdwOi9\n",
       "dev3a15OHY5OsLELQT5TusL2mbujQoTMGZ8PyMzETwZ02dsnsO67UxRX2y6Joh62BD3NVgOTs1w9\n",
       "F2oi33jlvF9daG7aaRsQ5RvlPoYsOl6ldM9xZtm4fn2h73tfN6jLnn2Co/P/swBVY+/nc/INS8zG\n",
       "FNPHtEWBsbHxbFj10sPHHU+KRUWdFbqw3/b+kvgNxY45GGo9igZC3OtR52J6Y5QEi54MpWBUImW3\n",
       "nefZP4FUJe+L6kNllObwlVRcE5VVmdGTLSzzdDAB+ews4ZuWAKrFu7Sn7lkPlUaVPc2L0TgXImW2\n",
       "KlebwLzbbLYN9LzCbAAAAGBBnj9FFSw7/weBMzYfpRAB9+Gs6FXTMG8ytLciaNnjgSGdRYBA82Vt\n",
       "wfLyDM0WatLmQdsjDvvhaloekPwUI/uRePU8a5IOFTyMe4tFyMHfAaCFwysdqGRBF6xpnju6skAA\n",
       "AABXAZ5edEN/Ccuf9uIAStC362tHLHFfD4b8KjxsZUG1JyeQvlEHAYWYKSPPR4fUO+CZYsScorbq\n",
       "rjEFgvLsykchA91Fgof8TQ96zOogKq7TYOp2UEPvK6t9AAAAZwGeQGpDfwnCjTtxAC1YD/a4K3+b\n",
       "93Zi/D6ckcjakfpurXQ5TBI2L55mjRmFSivorGNkZKN9R1G0W6kMpqB4KU3NGPx0uPNPeGXJzNUq\n",
       "Pm5qp7h835u4v7K82xjNgRMrlzjf1Dg8OEAAAAKNQZpFSahBbJlMCCP//rUuUwm2HpABWlwYzEsv\n",
       "Kk537VCyGlW0TmwcYBVoTH2tIAMkDIE6M+8vN9HZSayU6MjOR4eXGGti9CT9IAyUDIFvwrQdP0Er\n",
       "mAYqsMljvnz4palmK6wDMHWcRZA40X+Y72YKGb+FWlI2A/ijAT23ONjWbbDOIzJ4hvdmGa0SaFtd\n",
       "2UpypimiQlnX+bs5qvjHi0QAUHn5+2T1mD87Z/x+RUM0FgZWQo22cWqEp7pO5Xd1y4N6Tl8TxDm5\n",
       "UBLNyDTYkEX6CChxdAqVLkQevCuxPVYWjhISuWn2txWV7bYye+b+erJp4gL7vFnzx+qT5OmQgGX2\n",
       "DT39FMByEmJwesk73mAo3ckfHqm5+8JrKIB3To1G15YaUSBAsvit9zSjBsyr4BJQZdFP+xuY7ngB\n",
       "x4D2AbdOCcBIYhT3OnOu8ztxWAStcpz31xKvBXY4KWyi1vkkFzrpIMshwwJdIaHWJ6vVqNcto0uN\n",
       "Z/fTBOGFA3ttmr1ug+1y/FrpWWeJLFP9SsM7TMGeMY8QkXeJoYEpFkA6A2mTCj6wYIFky4ZsWZUY\n",
       "nN9WujjMVDOdIkQ91jG5cqGZLfE0pXvmduO3yeElk7Ta6VvV5f4Yvqe0T/ZAMvI8Qwk/P1awgHA3\n",
       "Ud5JgCE1lNk1QkpXwOwvMsE+MYFcHh1tKPh0X4tuw2c7nhMPybGIKYNPbddI28MZvuTTszgHbvKa\n",
       "yfxHT70bn5N7SIsD1t4sUENdfzfS4Mwr6QbWLTMerMKvQnYyb9PERfdXiHF87fu9j2g5YNg4nGQO\n",
       "wfmbTN6MLi/ePXDwBXLTeZNVsejTcGx6qJ81wAAlIn7UxZv/6+Njbx9SCKKPffc8Jc12H1/jRUkA\n",
       "AAB7QZ5jRRUsO/8HhMh5sALdQ4fmUdBbb5O83OAlev6AZqKHYDuu4dJavvTNvrDjqg9+Xn+xzA37\n",
       "oLT/A9K898M5zlvBMKfjXuZksIgANHpqh5hDwr/AXh7CrXbb8VSQ/gA80BIUVi9RWL0hTfZ98KEm\n",
       "eJ3s+Xd6UP1h7ICcAAAAdQGegnRDfwj/duEgAXNC362tHLHFfD4b8Kjd89yFSZSeZ36Icog4Mp2M\n",
       "Kdtp0F8HP/Lp4wANv2d1rxT9DCQcUc1B9qcGqQ2H2Qwan+D0xvkujGfD7VBXHc8JrhiKzmGurCHZ\n",
       "FvJjVlybm7gfejYvhupyqg2r/QAAAF4BnoRqQ38I987dRAAuiy4GkIsocxBoNFuZcPVussNnZ39I\n",
       "9BFniyuTJcpAxnOoYGUitMewmY7NOUk1Cr4eCmtzRkbcO5M1hE1jIbOoS4C+i2fzhKig26lzkvig\n",
       "z60dAAAB7kGaiUmoQWyZTAgj//61LnMG/+kAFas3V45Oq/ja5YBavcuzeraMKaL+1Qw00o6tjdW2\n",
       "Oxh0vNZ9O6IPAAhIM+JCzOIAO56UxIJnjKrDImPoj8bQNAyB7AEzq41O0nB+HSMXvOf7oFE57HWp\n",
       "gHFSggjI8Ty8dZeLiAHlfuPjP3d6/1IaZFhYuQ9pZm5OAQ81DfXI1EDfzXZUQCHDCZDjT8xlW3On\n",
       "Zl19bLWAeu9W95JFA3XW2+QdllobblKlu1EI1H2OrO30pEf8VohYBJ5+eXmvLgNkvj2JShpGWlSr\n",
       "unwQugrLWFKZ0xrYXQECA/beDWpmqzMc+fnN1nDgTWPhjHSUHdYwGNrTSOMbRw2+CgKrkaLnNN0H\n",
       "EIFXD0MpNu++3WclH+w8TECOVq0rDCjcPSyOkdpFYpl+ks2+DDC5oOvYVjdBohIB7FM1CXCdGtGO\n",
       "IUTnJoDuB7oU2IxwP9mYG01VMGCCJKJbyfDgBcbDkgJfUSy95xS5oNZgkDDIYaYx/aeF+0WNBvHX\n",
       "eVqGEQxlY1usMlpcjxbU12R4sy01vRSRhF7dnSxbwubme4ZsIh5S3jT2x4r8qaCDHufem9iJupLW\n",
       "WdChdKBZeDMxV2XeW6BVW3bOYAWE3XdH76nigKn8lLJEgH76enc9/f507em9AAAAj0Gep0UVLDv/\n",
       "B4TIebAC2ySDq8G5htwJiAbuBhI+BEHoi+MrQjfoUNvktEDAxjrDXcZmBitusTNSEKEnNdROWuSk\n",
       "/aX3gwyFGb4HpbzvhuKBICo47Mk7oGkON6E/MyNeDRVlt/AP8AlcrvTBEoAEOedWcKkpG9o7zFsK\n",
       "N8ht58ZbTU5nx0bo89CmXN6nT2otAAAAXgGexnRDfwj/duEgAXNC362tHLHFfD4b8Kjd89y3w6Z3\n",
       "6VvzEq0G7fvtZbQLUzNzDn1we25LlXdMgq12MDEo8TINGZH7x7qHruZi9rf6EYAShSehDm2qtjd2\n",
       "gYgds/wAAABUAZ7IakN/CcMY9uIAStC362tHLHFfD4b8Kjy8nGRg9K9XS+7tPiApF8h6AsHU6Q78\n",
       "Xcl0kq6o5Z8eQgPBc4Ouv/ljfrD7zxvfv5Tq17wFid22m8RsAAABYkGazUmoQWyZTAgj//61MU23\n",
       "WgBqklZYPftY5SJH/LOp9bj3dMtckYezz202FecYMUGCCnGOj4wGAOdh9GlTGSng0HP0rLNvPgUb\n",
       "G2Zsb59ZIWhumH1C6foP5Aa0lxp2q01cRJI2tapFcRPNXks/4gfGy6vGX2v0Jsw+/DBD2Zq4Rh5D\n",
       "36L0pL9EUT91zM3stM37lqFxB2+2MyFj1/fHreSG+9ZW9h9t63FRJQ6+7rQcfRd9XmwRsdruDUYX\n",
       "G1tSElZ7qb/eGc8YxnmLSS5jToG+2AJ9dptBQuipzWluo1YzC7cxXRTZaKme1xKyu6f58uFdBD/c\n",
       "tWoqLKrsYNBJVJsIDQLuNMbasgpnGIzUhRsMUp04xtHqia5EdZyIsEfpfYc7SDXug2wR4tBTNbkm\n",
       "DYCsvaa3iJbilx4YuUHsebtvkc1U7TOXjSXzn9K8TC4EodpweFQDAnKfYDBNORzbSjW26wAAAFZB\n",
       "nutFFSw7/wjTF/8OiE0uFLtgA0THq4uEX8gIy6FBkv2YElxK6r4RTpMW2+YKkmH+FfUIfqIqzSTf\n",
       "4h1MPhvwSRdnX0RmQhKp97PtFdCo+YZUsvzngAAAAFMBnwp0Q38Ja1V9ScQAliqttHH1iKgO8pnM\n",
       "t/rYDLhwW4nKVrzJmXP+Qvk7C32r7Ql0B9LG6uphhV19WC2YPLs9SvrjOnxFGi7qQV+HbbjRXjtn\n",
       "wAAAAFYBnwxqQ38LeyF4LWMgBbXeOEN9DX5/unNbNO1JwuAMJ/I385SteZMy7ZZLOHYW+1faEt6J\n",
       "GDObGMoBZTekygiUWFSFoCzLs9/ccG/2sD1WsUX6STiHgQAAAWlBmxFJqEFsmUwII//+tS5Zjlt9\n",
       "IAIk4lfw7w/2f1ALLtrLwS0ZEONvrxc6adWwvfd6MdrKtZqG+5BHxpUXaThpiKLlnYVGebdNtsqB\n",
       "6fs1VgyK6fYoQv4IMk4LbNAMGOEmhwfmz40Q45TTOzzw0rkxyoYCRmjvwDP4hgOKrw7HjDQ3f1rP\n",
       "fQiFm2PHSJs6VUus2zH9u6X0LLOm9ZX5p/wIg4WbfJ3bY4UJKKUCSY0u0R3YTOgJp5TcxpG0pzIi\n",
       "keI6b1J5umjNWOsqPdYC5Xbd5L5oZefVJrhseMRfkWVkcJ3yogn0PFnntEWY6w/L2wesrZO52hZd\n",
       "FAZ1+fiysNCIwTqjJbI84feh1kzgoo3aWArrm57rxygHw8PI+GGUmCefFME6mK/b5WQ9RUBlzJ96\n",
       "xM3kF0siK6BrvR+laXSSOoHHoxovikrzoSnncwhYQuu4kDHzlbF0t8EqQaeLvv58HIlYp+83lbzZ\n",
       "AAAAbUGfL0UVLDv/B7/70AF1Shvc6UjLCsPksTNqVMfwlmSjsD/MWYxmT92XajkSLAU/StaaJwdb\n",
       "oHajua0w8BF0MT/MfXF98KQ7cgKIfRXjYdvFwfyYCc07RaNIXiFd4+Mw5pOwKzVXh2SmJx0hmUEA\n",
       "AABaAZ9OdEN/CcDtHtxACV8dY1CU3dd77sYPTTkjfDww3kDPbZ4iw3NSu/yobTrn+tGmqbmauKX7\n",
       "/WTOlNOPDWrEpc0peSU/iaJAdK5Oh7mC2mk4M65AeLgEB8d2AAAATQGfUGpDfwnDGPbiAErQt+tr\n",
       "RyxxXw+G/Co8bouv42lbUaWmt3GYWsMiWaHqtnJxoxhqECAoeg1crBHLDCpZ3LiZt/WM41bX/rdU\n",
       "7+tzAAABrEGbVUmoQWyZTAgj//61Li2Uu63/y4AsP0rLFd8ZIKEDmMCaa8s1oBz8Tg3NGbroODa+\n",
       "ezkfDTAWwAIkqbSK7DKAza/tg5alP1jTpyRR1tt5O2NFQ5IA49WFCCGLSCkgxjlYvOj2gcvFxazT\n",
       "HiiHrXn4wEqJIMdhQVO03B5lO0yTjEaF7KqrDuVoBbCg3+HUht9tR/LuWEp49n4FzuxgulajMFQP\n",
       "0WHP6qC/+kBagf7tejF8jmvkEHwvaBP8aragtUZbJ27RbRPkpOySzFunRB4wzfyePoc/Q/OaHfSr\n",
       "hreQuD95XUukDUslA63FD7IBk1Zx8uFpcbh5/tjeTdTAG/+gYeiprSSrvCVi9wxmZ0AP3Cy7+MPo\n",
       "JeVxvaFJuHLCLZxTYvrOWNk9WGzWygm0shD9Vm0zjNPBHSuIUZHu13aEa+y4jFpmwSa+m9J2UufL\n",
       "XUv+MKe/X62nKq+a7XnhnHI/yGI+/NOn+xbAPKn1TWndatYVqj1VcysyH96dQHL6+fT1Osi4wrl0\n",
       "O3y3Dy1G9dKK1Y9WNCwGTgpJTD6Gaf3K/sVkKMoGTNiMNkbfAAAATUGfc0UVLDv/B4EzNh+NwAau\n",
       "ZnS7WYeDIPPkvbWh8qw7K7jNccFel0xc3TrOBPPLVyt9Gb4533wtS0Pgda5wuWCEC9vumt42rrp7\n",
       "go+AAAAAUgGfknRDfwm5Bb24gBKwsM6CiyT6LunNbNOSOSWf7t4GUeHxTvwzGH7Syy6DkTjhNTCT\n",
       "c6TOs0LWnt1pK+CU1XdsHnbA5Kj+c51Ugu1xs0r2c4AAAABhAZ+UakN/CQxLt1EADiz8WQVmf0a2\n",
       "AiUAFPCUNzj7ImMsFuTilqKDd7OWGfcA0VKK+isPqRFnKFDQj+zu/6GeMx5AFaFN6emGyV8MTPIQ\n",
       "s0ygoQn/PV4ilEevGte63iuDXQAAAlpBm5lJqEFsmUwII//+tS5EQ+kAESpLFcTNuv+dtBfsY/r+\n",
       "WSMNhnr0tEA33BP2bD2V/yQqoZjuHmk0s3AmFisC+3k4hfmHaFTJBUPdRvITgVFeiN5Zwm56qwX0\n",
       "0iaj2D/vVX6S8e7F886wYS3C/8GW7LJNaGaqxJHGDVN7hc736ZsIOq7iZMraZA/rago/DEVNksXi\n",
       "mlcrNGPDBgRuJFAtiWl6glWNb6tyOu7lcRQPsd/m8xtkz6m3RAFajvmoVZtOvHgqGyvbT+jnQZ2Z\n",
       "ZIw18FU+PwZFeszjPoepvr8sqXS7hBP1OpIzQlI0QlPpVdtPhf1zN/gQAfr2L16hM9zeHUkj9NyT\n",
       "I6FP7YgYhUO76aSTcFFJ3HT+elINB5uNI00eRqizjPLlVuGotUSs3kJcyX7jYxsOSxAIvRtjdtub\n",
       "XICE+mnqrMihDD+Z0quI8ihnD2MEkVrYLwagT8zhENIbIom4ZpqDLZ+fnWXnVo1YIqIvq54LBDwD\n",
       "fmOLYFqsGMo1NyBSQ3SPUHvkSsyke5E1H8/5ZeQ5/hqKZBYPMhpDAldNZGpmF+g7r/aGYvp+jR7l\n",
       "u0eAawk4xO45RQF94yj+kzfbO7tO6tGHWilboSY9uG66ZdrXhwr6U8+gc2LtSErAxudtYKXkEHCW\n",
       "084LARht8XfwsA6Q2yUU5PMZDjsdTgUuFXWazNlY3Vr1Mim7lvwU3RQsC+swAn0OvvnreHgfTnsP\n",
       "mpaijxd7CalUZP9h8HCnfoP93uMJzNS0W3U1OyJ2OG1te6jZNeEuR0v/+JiIUNZLqQr+Jl/GZgAA\n",
       "AK1Bn7dFFSw7/weEyHmwAtzU4W9ZcYYtMv1Q9UWic8GgaVOlnR6pbKbXOoEx+nank+7qw35u1EUW\n",
       "0dLT/A9K898M5zlu/Q0PdSslATeDXdUwHteU8djobWvIbSOdaOHfDJ9yLl8eq3u9K3nrQPdoODyV\n",
       "Ij80U4mQf+19IB81MMmz39rkMkAZmp3TdmNdm+MYBHA9YUxU82ZrEbSvhBwBg8aL7H+yc2nTOzBd\n",
       "SdadrwAAAGUBn9Z0Q38JwO0e3EAJW7v9rgrf5v3djB6aYKhoaeznaIncboLIh20MvD2lYUsS1ErW\n",
       "PUQHu45UoH9+LZvU3VxyT/2wao50rPX/T1W404OHzl0Xt0cbuq+XmSEvCkf/12LRRNNp9wAAAFYB\n",
       "n9hqQ38I987dRAAuiy45EbpKJ0zepZqFbTsA95OQ4IZMEWeLHUXDfSBjOdQwMpAhY9hMx2acpJqA\n",
       "YAnT8P5tudf9UCwUs6V6IiNLn7x1earOE32e4AAAAo1Bm91JqEFsmUwII//+tS5zBv/pAA3PQ2VZ\n",
       "SYWHvdcA9KrwM7qPJXcxlM++8YcbToYtue4VIL9qKZ0JRyh8+yimjdBA/S4ViF51qVYGn4P/EUZ3\n",
       "ao4quq6VY7odED/cl2o+7/n2lVZ+KyF5KKbKW9Y1utf1F5iII9lve4sEzGDKYD1v2GISF6Yjx8Wq\n",
       "aVO5KDC5lql93bUKaftd2zvIoWUKjgBWncBaeuyfQwcxQjcf163+KwU8SDdoVb8AxFjW4eHdpCWn\n",
       "2ZhTXyWdSvgbXkHqbwYdWtVmOPAU1HeV1eMqweC/mz5qsBBEWQ0yWeveNYPFU4li5ok1/Z8tDjdp\n",
       "FTDikuOoQAt6ZwX97hKUnxFUJvnLIA8fnxgrSClfTZephWtGrG++OUR4JCp7VYhgwhUNfuCcVL3w\n",
       "wcRh5v1nyzpBf2Jp2/XcXC5Pn9HkYQWa18Wv6E2P3awn0wloDdC1AB6f/YUQnn0gC4jgBbv8ild7\n",
       "VvqlC5H2GC6Fm4/bgBPC56A5NBd4vy7GDyRUWyeUaxERwKgPOsJ/Y+zqLcM+CpYBdNfmLjYnedNt\n",
       "Vvg9x7T/gol7ODQYzrztkXpARZmtZHrBA4IERhW3h7apc2/tGRm70CNmVqAZsnhXlwMcLCOEBgJv\n",
       "Z47leFF7oIREoXx4hLy2goS9Tz4AKUd4maWe/j6rV2iwwN784XSf1gSKof08hNJwvn/GsD0H6HBu\n",
       "O269lcvez8KFfuZMTqrjAfIETH/nxJR/q6AWE8+pWdQIX6MMs+LOwgEi6rG8im3E5R3LJ9a9jba/\n",
       "itecftO0B7c2kEpKBRdSCAkh+NFSNjzWJFs3JhCPHjiEQ3H6Y+N6QJNnGdHEiMXVD8Sz1Z/VUb8S\n",
       "MQAAAIRBn/tFFSw7/wdlV1DugAlfLil+QtVgXryo0j0JqO71+fStALo81Uwm7fVt/v+2DzBbG9Bi\n",
       "JrASdxiNrhjx7u8WL4j8kLw2buOuSCEETcF3y2hWP6w6vg/QN0DxM039SaTd5Yz/uaOYgGUdmjvE\n",
       "SVubwLnSY1xBmh0ppuwJX50TyR1XhygAAABuAZ4adEN/CcDtHtxACV3PxqErGyHvunNbNORjbPaE\n",
       "/Tu1SyUoxrmALDbcJzmPP/Lp4wi0r6a6qPxsGMyrIbvSQdSlgnljklP56lEgmGmfum/bw7RDl3Y5\n",
       "92CkSJsLm2XSFvVN19Z1pYMqcgvyy4EAAABeAZ4cakN/CcMY9uIAStC362tHLHFfD4b8Kjy8nGRh\n",
       "Olerpdno/hwFEhkAOkoWn/4bGu5ukjHW3ZxtfeVaCuDwUpeSA/nfbZCQ26cxWBzsEF/Kh57IfGE+\n",
       "KbFCUE4q8QAAAtlBmgFJqEFsmUwII//+tTFES/5oAoOrS5/inu9lcBAu6LVbl03o8L/AQL17562U\n",
       "aPAEFswpiBAkKpqd4YD+f44i4h/GteEnQXZtnmSvotCVa+xbJ149m3GFypRqF63iqpCZITj6Pxdg\n",
       "629RNwRDrBaNuA9afO0al2KN2PZpX1oRC6LzbBm5MHTplkhEggNB+cqnsPJBusf7g3HnXA86b5dd\n",
       "0VWxWjsQLoIikmt3OhXkL891hOQM097fXqpdXm54JFx/EopGGsO8UPvljZ5uX6i92fu/YzgDshcN\n",
       "3nBoExRYVUIikDD0gQOmxpuUCBBQbB1PkwjQb5XWJFNzToiZDlYk4HcsaKMAjX/YWA3o5h30blta\n",
       "ACTFoUzx7Upw5GmQHy7bl2/uW/IOi34UB1CstReXN6DbLJM8b81mBon1TSEpAb8NnUXEhMExUd/q\n",
       "7zdAqqpLBOm4qnx5k94Jo5+8thfXhr145mLTwSGmS1Y8bFtqgQigPMEYf1+OfH/GEMrY3gEg+T6f\n",
       "i9mHh7QAh3xZTslPSthFNYAr1Uw7OUAz93v7E7SmwpGWH2L5abiMwLeAzDUD+OJYdEPvOGGjEO3+\n",
       "D+Ic+qvb4JM7SFzpvD89x9COxKWofXhv1OfAoBI8E1FTT8TSfga6YrSrtllKuBGq264ySX3V2RvU\n",
       "LAc6qLn/BJlX+Ii15lKnS5OIy5/vJabVX2FTgxrmsIFskmedi3Jx7or/dDQLlm9rKNaMIft/lq8y\n",
       "9ate8fbWJ+5WsCy9KAM0ce15op0BDtucpTO8QUbYRO+OFeKws6ikuqAOoaHamu28I2OwmFTP6Yet\n",
       "BccOZZrPzsB3mR/xT9atRZ0tlbwWcpwk1cqWIgypJJ3X1sGlsjCXoDT33wHGECRTNb9o1XRcKdKN\n",
       "Oo4a7Kc9pZq+q3f/GN1kyEiRoQU3hNsoav0ClOA59cJMTB7neIn4kfy5ytxiu8PNrtioV8Udk8QA\n",
       "AABXQZ4/RRUsO/8I0xf/DohNLhS7YANEx6uaJt6CijOMSEkdZPmrmA4Ec32Z4536DLw+J8h4ZsWC\n",
       "Nxr5S/ZLCrNgIyVkwFoQYbUTM9f2YLz+PdMqkum+PX4QAAAAaQGeXnRDfwj/duEgAXNC362tHLHF\n",
       "fD4b8Kjy/VU8AZybw+PLpcslgXfQuNNCUnbZu6u5oQXWgTGUAspwVJhUuaavJKfz1Mk77Y19VKF4\n",
       "UaTDDM7XgDgP1CJvqXcrAE15R3qjViFI1t8SeQAAAGkBnkBqQ38LeyjTbyMgBbULfra0cscV8Phv\n",
       "wqPVnz6zMGcm8Pjy6XLJYF30LjTQlJ22buruaEF1oExlALKcFSZEcFVvKqs/nuxUiLg8ktqWJjXt\n",
       "Yi0BnzwUxlJH7OStR9Zj+h+oYqWnKVAAAAJHQZpFSahBbJlMCCP//rUuWYDtB6QANy8BQr+firFw\n",
       "CS3XZ2jsBfc+iOU0T7mS0JbO6ShJVm1DxNz0Bum8CzFSXniISfvTk2GiTXgZ1YiV4KHr+tBbOb/4\n",
       "nMqccaHU9xfAQej8TZQO+M7ypgsf//hRFvVMJyg8F5EsJ+KAAeBzYG3cpGRck+OAsGlflzCX9eCi\n",
       "tA2kmGduP6m7gYKRnerDOmfuiFn7HQmXjV1bmFEAX+IG9A3IWEBiI+WJkO3KGQDOFPvthx98wVWy\n",
       "g8sN5Rox6Aam1/04gB9tB8Mn9ojSbJsgn8IgrqARmLkHqI4D+UYYGoQByP1xNQGc5+m0WJdKvNwY\n",
       "QRPLYNkPYUD9HgE+HQaIFEKtSIDW+7gdJBHJxShs6f7CURNYVowanBVWh8IZdaz9YVPwyzzaMuQy\n",
       "UOiLW2A6cDu3+K0X4/q6VvVNA+fwAzz06VlyAJ1Tj2TUuzu4Bhqr7rRsJ3ZoL0JbB01iP+o/TkXw\n",
       "xt7U8APv02n6+j3BP8ghy+MOY869G+xXGvW5SxY7S47rgtKv+xGh3ZYDsAIgtTUjVMVBo1+RX5tr\n",
       "Bq+nvCzHz3XggjYzWKkXyjgZDG4ECeXVtibIMDgTg7NOwtLaXOHwT6puCqng3EjYYSsjQhhV9TtM\n",
       "3yAdKItoutO96BgyX+E86snNJblqU4EXcEDFasa8Q58uOyEmmOFm/28BZAFoVqPnFy/EkLWVOuDh\n",
       "qJoKE4DQcXl+K6Zj+iSiX0DY3IJ0KMTMl4xsKtgHbLhJOVui6cmfMQAAAHJBnmNFFSw7/wcWnh6G\n",
       "fMwzNKIAPjlrIwzu1p+srYZHbde704/xvSvgHglGRbS5LQxE1HDbk78++TN1D0fEwYLSzjYmBrky\n",
       "8+FMgNGublI7b0V+U3zsTVYQ+z5YqGeYtAg+ZCSOsozOF1me7ceQSBIFCAgAAABqAZ6CdEN/CP93\n",
       "D3AC3gu2VC29Fldr1ljnif9hS9R44NJXt0UvQ1NIg4Mp2L/IjJwF8HP/Lp4wJAekgTNEThDRPGYs\n",
       "jch+iwUNYVzH4Kz++ofnD00BcntQ3yWjA4iZZ1BL6VCDfwOJisVX4QAAAGEBnoRqQ38Jwxj24gBK\n",
       "0Lfra0cscV8PhvwqPG6Lr+NpW1GlprdxmFrDIlmh6rZycaMYahAgKHoNXKwRywwqWdy/1t/UKWr4\n",
       "X945JAwy+uSzRc4zRAGfGAiYPO/KJpxXUZ1xAAACHEGaiUmoQWyZTAgj//61Lll/Fthb6QARNEwz\n",
       "KCkz3lDo9QCSGK1l4hG7NqQe1kpG0mGjWFN9Z45dkne+w9HC3CuE0c5M8Fu22G+zaYhWESr18COp\n",
       "l5OQNzsDOB18TDKmusiYTl+oLgy3m7uu51th8D5APR3hCX5r/dwq90kWa7kxTYzpd8nFh7bABZgC\n",
       "eIYKlrPPx8dUNu4KqqdFEkqW/mG27PpugcImRXPCOQK58JMSdSNPzecSHNa6Uq72/NmB/N3d/Eu9\n",
       "Qe/Db2XIN+PtO6LllkBF4DIqfzwTgBlZuPAkTKCAWOYwA/AOXVInfp+No9/K6Ae3rGsaRiCXU0KU\n",
       "DsOLlNMcLtQ5QGYPkcTqbaNU01Kz5sMpKb72lrLfo5cb6QYBKp//L93de4Vg9v74YmqTkCxqHOar\n",
       "bVDA60SSUrVToi46rYYhbPGI7u+zItHpV+TVLGwpMRhDVjBEx7v3s8QingeD7AqUePxjmRXqt3/k\n",
       "iE/tkrgwEFqcDDr85XxRVu/bW2WVk35sEn89HBLodvs3JIGOa+hIF1HO6DdwzfLKkgDBLpal4a5t\n",
       "SG5NH0JRJNr6IC1vciMENQ9GH7q0YtlbzGWfc3n9oHunYDHXT0Orm1X+C23c1P2L6RtpvS4b7SIN\n",
       "lqXwrgWliiRy292GWhT6Ash+akxBpI4JfDuwq90DI2/nkeZPS6CjdzEp7D/lpy5DfyjAMI9HqXP3\n",
       "QQAAAGNBnqdFFSw7/weBMzYfpRAB9+Gs6FXTMG8v31QTyRXHLwQ3MWg6ISXMOjKoFrRKiKjGsjxO\n",
       "l6fz748/UPdG5EbFjy7aOQXjGVeY0To/hJlXEL4GPHs5w81bQKpg+hAZn2iIiZEAAABxAZ7GdEN/\n",
       "Cbknf24gBLFVbLCI08UtM3qWaZmqiDZOXzAWP3u/DMYv6Vw5CA4axMA8BoV37C15hUjYamddFbik\n",
       "UDymfxNI3wCxWHHDlwwuYoAf1T82RHqfjRaTUdkBkDZVlqaDkpqH/XQMqeAHq7MPgQwAAABmAZ7I\n",
       "akN/CcKNO3EALUqBm4PlMn0ZJjf3+lndTNMkNN1a6HKYJGw/PX0aMwqUV9FYwsjY6JqOo2izpjdG\n",
       "oHgpS8kz/R60ukVi14TAh8e5Pt3fVXdk1A5ifpKM9vDOUb0HCirJCuBDAAACAEGazUmoQWyZTAgj\n",
       "//61LlLpur+XAEYcxvaqeam7zRAPwC9rB2nlTVgdF+2eDbjyayxBggWgEylSmufZ6W7v7MTXcBae\n",
       "VgP/eaiLvzbhkAPlyS7vTtMRKYgl4moqvg2v7WF5Nr9+IWJ2DJw1mLW2qgFIE87g9X7i1Xf5S/AX\n",
       "1ZMiVTXB8JNEGw5C7+jnlC3oON4LxbdrMDoCRIfW1YdmHN99lCx8qYMoCZJ0d2pOA6/Zb9jwhzgw\n",
       "nw97VI1T6OQx6qiz1ZrNERiS/MfnC9r7zLoMvHaHCg5+eZ3bw9vrEkQkXWgJRdZxwn3P9nhB0Uve\n",
       "pqPVOCso/E7ZXSbbFare/Uo3b4M8mrdI8sWo+G8Odfb5xHTSN6rmZYpcTW05WPrVIBWepA+heNW1\n",
       "3o7JuLp8zm55+b5fhSZTL8593c5diqfINZEwATbNFNaOLC+2vPo2awLXXSKKN8T7bXqBWaeZDnM/\n",
       "Suxz/jWMPTygdXGFNPmxyJnuIH3mapqyEIdtJDR2IG1U97qAd0GmhG1UULZkzs0S8s/uiiLI67OH\n",
       "pDsDyKbmoEefqKsNKTyCLx2/GFBpcxpljOUAX+QH9E8uu6zDnJXNdaRW+L7VudRRV3nzfV3qKQwn\n",
       "SMyCll3BOmmpxxf9OsRKSZeo1kqqIzy6wp+1MdMveFHRK+Qm1kP11Oh5fUCJAAAAZ0Ge60UVLDv/\n",
       "B4LGu6ACWroBfYf9qEW72lhezABoxmcUhNZm7d2m7x0YFSKjzBMaBDcu4nUH8fCKzQ92ZP1QZQ3y\n",
       "WUUOkvoOUN5CkVJdG7cDVlSv867DZTyjCnbbf8K99JrqxEQIVxAAAABgAZ8KdEN/CP924SABc0Lf\n",
       "ra0cscV8PhvwqN3z3IT0iKqksvaOgo53c3a49j33V90+weFl68q1kDwgwvnRmcnpLBOhDkFlCWQw\n",
       "2zX+tydpp/qk4f6viplnarhU5DDj9ryAAAAAVgGfDGpDfwjzlOHEAJWFadgWizFeUJPomnOmGSLC\n",
       "G52JSQuAebD8cyKb6QMZzqGBissYHkvvb5UkgHd4yDsig5Jn+aCNQbGrMejt4TUfDeeAxqToLyMZ\n",
       "AAABkkGbEUmoQWyZTAgj//61LnMG8foBtoVpwATR1dMpkLbZz8ifaCX2xlaKVwIPEgoZ2s1VEqtQ\n",
       "KvuKDP2/8yR8cihkYnwEsyDB/JoqEBkPgiPekBqCYP4BPwU6JaMo3/cNIfelEFsIAiFBZ8VdyUkb\n",
       "ZU3Ha8O5AmAbGUOpGqNBQKkQAph/x01jQt6oI08E5siWTl7Wc5riW6UYeXDfmiGocLy1uWYMpFYg\n",
       "b7WDWKKhwo8y5MZvPrCzRA682wrzhFLQiBpSbSZZb4JqoUchjrnUD+IeLKeKZ/kSAfzsXaoB6u85\n",
       "Lvfda9J0jlABS9fpJpXCqcc6JFKmHuKMqkycJuQcLddzcxTBfLpd1yjfRXk/2QFPu/dApzraQbXS\n",
       "zCo2O1Mp7l3LDAjXLUdHmA6G52OTfadW1WZ7i1lu3rVd8bLy4cP+Sehuw/ATDdizOaq6ppPeqkgE\n",
       "ceiBOmnes2ksIp/yYD2bMLm5jmrpcw6hEH3M0DnyaYboAZySl9jXzpIL6Zz+afHjE3wiiRtOA3e3\n",
       "XamQk34tYwAAAF1Bny9FFSw7/wdlV1DugAllCJXF85xf8xSAtuZfaDC7d6+3qa5db56TM5wRlJ3H\n",
       "zdOB/yTTuyFR+OwzjYsrcleLF81wyF4bNlHXJBCCg/wFbSa2ggxNHJVPeN4JKaEAAABZAZ9OdEN/\n",
       "CPfO3UQALpMGsgq8BI1rpfFM5kS3pKWXKxxXpI+4NcwDYKhP7lKFlax6iYhlaHLwtIH4WZWXA/pI\n",
       "O1SwUnhyUP9czQX0jOxLdou6fTavd/W3xV4AAABOAZ9QakN/CcMY9uIAStC362tHLHFfD4b8Kjy8\n",
       "nGRg9K9XS+7uyIn2sMh6AsHU6Q78Xcl0kq6o5Z8eQgPBc4Ouv8TJ35PAQGjqV/zXm2ZgAAABqEGb\n",
       "VUmoQWyZTAgj//61MSzZloAapHVt3lrwObYpGYm6r75XUk761GhbLAHyae2Wq7AWSslPRF7VPpm+\n",
       "IlGOKnXlYqZhD0a9ZkHYHa2EgRFiSkkoZMBRP1itCy84cjcdTBBaat40Wmzu/rF+fdauehz/C8uR\n",
       "5NeJnGzFvQOm3diigMHZolJao75shFpi4mUWkuYf0kYAl6HIfEtEYcIHqwNIFBOPMKixzA8XiOIA\n",
       "Pgsf/hx8o29qjmCWmYifl6ojmGF6tKPp++RjkjSxQI29Clzb7j4DzXQhTijfXnZWsG4tFLSujw1g\n",
       "cxysyPFnEHAecHB0QE3x5ttb1hVqmFMcDr21mUiRE2s5Rs4ZZbnNKkf6yE8bVyWzFzRxRkC0Jxf+\n",
       "OxKGtkUjWFJFCD6MWoH/vD1lcoXHYyvL5ccI12H4pG8lz0jTTzLUS2W9f9DBy6MgZE0mbfaAdkeq\n",
       "wFQOiQoQOsMQmY1w7DSbv1qA4y25g/AhZ5f5YbOGmpnYpXbk3g4lsM1RwppxRucqiGcQ6PCcVE/7\n",
       "1LWB+vndyVAwcEvj4O5zJpROZzxhpp0AAAB4QZ9zRRUsO/8I0xf/DohNLhTFaADXQH8Xgf76mESN\n",
       "XuwwaQqB2YF5167RapAWEJo87S4BVq2zvQYjca+Uv0UwqzHe+3yLgQeDDwKjSg+G7O4aVEA2UDAa\n",
       "sXULjX1hAwrU2iYbbPFCztVdmutnCQ/YGZ/3EehyGyaUAAAATwGfknRDfwlrVX1JxACWKq2WERp4\n",
       "paZvUs1Cj2yLLhwW4nKUdDLcnCBj84dhb7V9oS6BEW/dXUwwq6+rC40Hl2eJln8+jQowT82v/HC9\n",
       "iOAAAABTAZ+UakN/C3so028jIAW1C362tHLHFfD4b8Kj1aG4aL9vi3h8eXAt/QRIY8xpFC32r7Ql\n",
       "zN0l9LONo/xjL14PkcFLsQis/ZFrX+6Xzmyb7w5n5X8AAAELQZuZSahBbJlMCCP//rUuWYDtB6QA\n",
       "LawLUAngeiqOAVgkQQhma974TPq+W3UrC/cA7fGTc3V0MyWWvnTDjtopCrqursSWmEaarFiTEF4c\n",
       "i7baBc/sp2UFkYCDblFGEhNyoo01omkNgAneb53WTpyxo0SFyBL+WqqPKiTAYDhDPP+SXp6IJMAU\n",
       "tKALZEhxsVUSLQCQpzBgUM91kzOskUKLERqRD49ve04DhavtzxaabLAEJzNwgOqVowu8HcQgNmKx\n",
       "jAGxgHM6Z3vdJNWuxge+JiYYyJFLFEiA/UCcqYBWiAztd+vOa2dqxNHHLJN04Fx50UceiIwQns8W\n",
       "Dluerme0StCaUSvoHgyG1K6AAAAAUEGft0UVLDv/B2Ntsd0AEs5Z5dOvOPyQmhEkR8FeONf7h0TG\n",
       "2DZ2Z53cTGmfNMpttOsne3ZiLBxwwYN/iPyKfDah73CPoQUHsbUd80EhReFDAAAAUgGf1nRDfwnA\n",
       "7R7cQAlYWSndpmnz/c4+fzPDLVGgycn2FIP0PLRVx2fi7qWJaiVrHqIB1snSX0OirnmBvZEv0W2w\n",
       "ealXklP56bWqPpoPASr4p8EAAABOAZ/YakN/CcMY9uIAStC362tHLHFfD4b8Kjxui6/jaVtSX49u\n",
       "4zC1hkSyc2Zc5ONGMNQgQEz0GrlYI5YYVLO5cTNv6SEpE9wu91uLHbMwAAABOkGb3UmoQWyZTAgj\n",
       "//61Lll/Fthb6QAN2BRjMDuwf3P9qASQwfVD3Gp3xBE2XH+NO4MM8aWR7cCPAO4JAqjVIKLQm97c\n",
       "dIaVVShs5mpOGMaAyAPQi4+2chbpPvVsBF7CCBduWWTPm+N9+ZIw8t4A5SK/sycZFXtwDCLIleSK\n",
       "3vumPyy4FIrBMnXAIX+dU54uLQz5TBZFaliAKk1F6m2d9ND5dgO+siN/aoJtkdBsLMtrfJVZr7P7\n",
       "IBj2Fwqate7RPK3CPSj2n16BmmCCRm+ZKN1ylMemIYUcF8s0QaFH5DBeVwRqoOwfOJ28GSs++jVX\n",
       "PlQemKmWyOEOqttDvGYeP7pMxt8QvtvOjoqP597ejvmSjJ6BwI1kOL70N/0+/7Z0m9y8adwvgwNr\n",
       "/33AYNUFYFrqT/mY98NnQ/dBAAAAV0Gf+0UVLDv/B4EzNh+lEAH34azpPliY0vo08KEOIT4BxvCU\n",
       "n8pVfGOECnfIUNv4cZsE5Q5Dd6fz748/UPdG5EbnYNDuuzX1myiTk09JtAWt51Q6pU5n7gAAAFEB\n",
       "nhp0Q38JyzP/KIAF0l14g5dReKWra1LNMmEllKTlyUEX3u/DMYP6V85CA4axMA8BoV4d0zj3gOVP\n",
       "bllFfCjiWCmf1842sBvv8awtMjpW63MAAABTAZ4cakN/CcKNO3EALVgP9rgrf5v3dmL8PpyRyNsy\n",
       "ua0t4SNmTsxUbza58XLHytLa9sjKgiPPBXGjefSE+Dsgg5Jn+khusroxtqHDpYiS6Sz8nGEAAAD1\n",
       "QZoBSahBbJlMCCH//qpc45WlX2AAWwj4mcD6FKUAbiCGkcRcXEJ70smUgkTtpopIst+4E2RrbSWK\n",
       "W/xPk4Qwh+Q7s9axBxWONo1mfRKbAOeFS8fCrjJc0m2dYs6wMVAmU3H6f4FE6Qr0z6Zw3ZVHZTYj\n",
       "62G5uGebVYXeWvWWm4+CyEP7Ly+q0lbl2z64uf6zy9tlhbgLk9NadIUe9mgCm3DPe2QoucibJOaL\n",
       "xAdUVTswRoYS/68JDqSS5TJKSlHAY/Uy3+dQriWg4IFOlggjo0iAPMViNYF8p/E3DeeikEyAoX5n\n",
       "0JngxFaSnLqjmRHXALqIW4AAAABcQZ4/RRUsO/8HhMh5sALdPxlLXGF2GMPnHe/JsJzwaBWt6hJU\n",
       "w+NXZdt4HmqA36M86+Nr1/ZLu8r7l3rP8R+br4atnqXJBCigxq5wa2ex3Hd5R/YNTa6DHJgdrUAA\n",
       "AABWAZ5edEN/CP924SABc0Lfra0cscV8PhvwqN3z3IVJlJ5nfn2RwykXbe+12V4sPoXfrgdFRKAc\n",
       "MP9AxBYMJBxSMU1HyJeqVEPshDicPacNaBikBCcb0H0AAABNAZ5AakN/CcKNO3EAJXc/GoSsbIe+\n",
       "6c1s05zNFCwNnzEpIXAPNf9ZZFN9IGM51DAwrzLFMwmOzTlIwfSZB2AwckB/J47BbzYQrenZEMAA\n",
       "AACbQZpFSahBbJlMCH///qmm4MYuwBGQqWtVgAhKTtgKmoyIw0ei5h19utxQJGnjZASwKbdctGsB\n",
       "IVe5jlp+9AX+8xzOBQVV73ecdpUaVM3LN6I7jIh3Se90DqvB6I39Um7qb0CA8yDXtHkCPx/BTsoJ\n",
       "ri9EkSCf415jMwmslTaHTkcQN+RC5Nb+7dbSLOROtbws4/5PFZV5N8Ml74EAAABdQZ5jRRUsO/8H\n",
       "hMh5sALZ4aq/K/rmssXZT14aJCg1K+MEYbtc/EY8+bgl5qAsdVH1MNouErNCtMzkVMWjlhy8ZnQi\n",
       "/FQIqsM/muGM/DZPA5Cz8s9O1xo4ZEfb7/OAAAAAVAGegnRDfwj3zt1EAC6S+xQcuoq1LVtall/G\n",
       "bkJ54U167A77dH3Brol/AEi2XhKlE/TIeD+s0C1vFSCMq/Pq/oH1p4apGtJSN1LSPacOaqZkWf9n\n",
       "uQAAAFIBnoRqQ38Jwxj24gBK0Lfra0cscV8PhvwqPLycZGD0r1dL7u0+ICkXyHoCwdTpDvxdyXSS\n",
       "rqjlnx5CA8Fzg66/xMnfmJuSLZMym5fqLwM+e/ZhAAAAW0Gah0moQWyZTBRMN//+p6J/EUUvAO80\n",
       "9wAXYBy/i5EUjU1fF672NYuCg709iYsu+kzh/YJIK5Kj8kXCQdCKQv+DDoCJt9sMUrlQJBSel+P8\n",
       "68InjqHOfWGcQt0AAABOAZ6makN/CcKNO3EAJWFkp3aZp8/3OPn8z2w4oWFPkb+cpWr9vHYT5nyh\n",
       "/uJXGxIndA8d9FmphhV1/FGDCuwkVRlH+PJr16K5R6Lv/skJAAAMjm1vb3YAAABsbXZoZAAAAAAA\n",
       "AAAAAAAAAAAAA+gAAE4gAAEAAAEAAAAAAAAAAAAAAAABAAAAAAAAAAAAAAAAAAAAAQAAAAAAAAAA\n",
       "AAAAAAAAQAAAAAAAAAAAAAAAAAAAAAAAAAAAAAAAAAAAAAAAAAIAAAu4dHJhawAAAFx0a2hkAAAA\n",
       "AwAAAAAAAAAAAAAAAQAAAAAAAE4gAAAAAAAAAAAAAAAAAAAAAAABAAAAAAAAAAAAAAAAAAAAAQAA\n",
       "AAAAAAAAAAAAAAAAQAAAAAGwAAABIAAAAAAAJGVkdHMAAAAcZWxzdAAAAAAAAAABAABOIAAACAAA\n",
       "AQAAAAALMG1kaWEAAAAgbWRoZAAAAAAAAAAAAAAAAAAAKAAAAyAAVcQAAAAAAC1oZGxyAAAAAAAA\n",
       "AAB2aWRlAAAAAAAAAAAAAAAAVmlkZW9IYW5kbGVyAAAACtttaW5mAAAAFHZtaGQAAAABAAAAAAAA\n",
       "AAAAAAAkZGluZgAAABxkcmVmAAAAAAAAAAEAAAAMdXJsIAAAAAEAAAqbc3RibAAAALNzdHNkAAAA\n",
       "AAAAAAEAAACjYXZjMQAAAAAAAAABAAAAAAAAAAAAAAAAAAAAAAGwASAASAAAAEgAAAAAAAAAAQAA\n",
       "AAAAAAAAAAAAAAAAAAAAAAAAAAAAAAAAAAAAAAAAABj//wAAADFhdmNDAWQAFf/hABhnZAAVrNlB\n",
       "sJaEAAADAAQAAAMAUDxYtlgBAAZo6+PLIsAAAAAcdXVpZGtoQPJfJE/FujmlG88DI/MAAAAAAAAA\n",
       "GHN0dHMAAAAAAAAAAQAAAMgAAAQAAAAAFHN0c3MAAAAAAAAAAQAAAAEAAAZQY3R0cwAAAAAAAADI\n",
       "AAAAAQAACAAAAAABAAAUAAAAAAEAAAgAAAAAAQAAAAAAAAABAAAEAAAAAAEAABQAAAAAAQAACAAA\n",
       "AAABAAAAAAAAAAEAAAQAAAAAAQAAFAAAAAABAAAIAAAAAAEAAAAAAAAAAQAABAAAAAABAAAUAAAA\n",
       "AAEAAAgAAAAAAQAAAAAAAAABAAAEAAAAAAEAABQAAAAAAQAACAAAAAABAAAAAAAAAAEAAAQAAAAA\n",
       "AQAAFAAAAAABAAAIAAAAAAEAAAAAAAAAAQAABAAAAAABAAAUAAAAAAEAAAgAAAAAAQAAAAAAAAAB\n",
       "AAAEAAAAAAEAABQAAAAAAQAACAAAAAABAAAAAAAAAAEAAAQAAAAAAQAACAAAAAABAAAUAAAAAAEA\n",
       "AAgAAAAAAQAAAAAAAAABAAAEAAAAAAEAABQAAAAAAQAACAAAAAABAAAAAAAAAAEAAAQAAAAAAQAA\n",
       "FAAAAAABAAAIAAAAAAEAAAAAAAAAAQAABAAAAAABAAAUAAAAAAEAAAgAAAAAAQAAAAAAAAABAAAE\n",
       "AAAAAAEAABQAAAAAAQAACAAAAAABAAAAAAAAAAEAAAQAAAAAAQAAFAAAAAABAAAIAAAAAAEAAAAA\n",
       "AAAAAQAABAAAAAABAAAUAAAAAAEAAAgAAAAAAQAAAAAAAAABAAAEAAAAAAEAABQAAAAAAQAACAAA\n",
       "AAABAAAAAAAAAAEAAAQAAAAAAQAAFAAAAAABAAAIAAAAAAEAAAAAAAAAAQAABAAAAAABAAAUAAAA\n",
       "AAEAAAgAAAAAAQAAAAAAAAABAAAEAAAAAAEAABQAAAAAAQAACAAAAAABAAAAAAAAAAEAAAQAAAAA\n",
       "AQAAFAAAAAABAAAIAAAAAAEAAAAAAAAAAQAABAAAAAABAAAUAAAAAAEAAAgAAAAAAQAAAAAAAAAB\n",
       "AAAEAAAAAAEAABQAAAAAAQAACAAAAAABAAAAAAAAAAEAAAQAAAAAAQAAFAAAAAABAAAIAAAAAAEA\n",
       "AAAAAAAAAQAABAAAAAABAAAUAAAAAAEAAAgAAAAAAQAAAAAAAAABAAAEAAAAAAEAABQAAAAAAQAA\n",
       "CAAAAAABAAAAAAAAAAEAAAQAAAAAAQAAFAAAAAABAAAIAAAAAAEAAAAAAAAAAQAABAAAAAABAAAU\n",
       "AAAAAAEAAAgAAAAAAQAAAAAAAAABAAAEAAAAAAEAABQAAAAAAQAACAAAAAABAAAAAAAAAAEAAAQA\n",
       "AAAAAQAAFAAAAAABAAAIAAAAAAEAAAAAAAAAAQAABAAAAAABAAAUAAAAAAEAAAgAAAAAAQAAAAAA\n",
       "AAABAAAEAAAAAAEAABQAAAAAAQAACAAAAAABAAAAAAAAAAEAAAQAAAAAAQAAFAAAAAABAAAIAAAA\n",
       "AAEAAAAAAAAAAQAABAAAAAABAAAUAAAAAAEAAAgAAAAAAQAAAAAAAAABAAAEAAAAAAEAABQAAAAA\n",
       "AQAACAAAAAABAAAAAAAAAAEAAAQAAAAAAQAAFAAAAAABAAAIAAAAAAEAAAAAAAAAAQAABAAAAAAB\n",
       "AAAUAAAAAAEAAAgAAAAAAQAAAAAAAAABAAAEAAAAAAEAABQAAAAAAQAACAAAAAABAAAAAAAAAAEA\n",
       "AAQAAAAAAQAAFAAAAAABAAAIAAAAAAEAAAAAAAAAAQAABAAAAAABAAAUAAAAAAEAAAgAAAAAAQAA\n",
       "AAAAAAABAAAEAAAAAAEAABQAAAAAAQAACAAAAAABAAAAAAAAAAEAAAQAAAAAAQAAFAAAAAABAAAI\n",
       "AAAAAAEAAAAAAAAAAQAABAAAAAABAAAUAAAAAAEAAAgAAAAAAQAAAAAAAAABAAAEAAAAAAEAABQA\n",
       "AAAAAQAACAAAAAABAAAAAAAAAAEAAAQAAAAAAQAAFAAAAAABAAAIAAAAAAEAAAAAAAAAAQAABAAA\n",
       "AAABAAAUAAAAAAEAAAgAAAAAAQAAAAAAAAABAAAEAAAAAAEAABQAAAAAAQAACAAAAAABAAAAAAAA\n",
       "AAEAAAQAAAAAAQAAFAAAAAABAAAIAAAAAAEAAAAAAAAAAQAABAAAAAABAAAUAAAAAAEAAAgAAAAA\n",
       "AQAAAAAAAAABAAAEAAAAAAEAABQAAAAAAQAACAAAAAABAAAAAAAAAAEAAAQAAAAAAQAADAAAAAAB\n",
       "AAAEAAAAABxzdHNjAAAAAAAAAAEAAAABAAAAyAAAAAEAAAM0c3RzegAAAAAAAAAAAAAAyAAAC4YA\n",
       "AAOZAAAArgAAAIcAAAB6AAACLAAAAHYAAACKAAAAbwAAAmEAAABzAAAAdQAAAIkAAAJZAAAAdwAA\n",
       "AHgAAACLAAACcwAAAG4AAACCAAAAcgAAAj4AAACdAAAAegAAAH8AAAHoAAAAZgAAAG8AAACDAAAC\n",
       "VQAAAIoAAACHAAAAewAAATwAAAKcAAAAfwAAAIMAAACIAAAClAAAAJEAAAB3AAAAfQAAAs8AAACA\n",
       "AAAAkQAAAG0AAAIEAAAAdAAAAHwAAABxAAABvQAAAJcAAAB4AAAAbQAAAgEAAACHAAAAjAAAAHIA\n",
       "AAKFAAAAlQAAAHkAAAByAAABygAAAHoAAAB5AAAAaQAAAkkAAACFAAAAiwAAAIcAAAJjAAAAnwAA\n",
       "AIAAAABzAAABnQAAAH4AAACFAAAAcQAAAdIAAABxAAAAbQAAAH0AAAFdAAAAeQAAAG4AAABuAAAB\n",
       "MQAAAGsAAABoAAAAcwAAAUwAAABsAAAAbgAAAGYAAAJmAAAAiwAAAHAAAAByAAAC3wAAAHUAAACF\n",
       "AAAAdgAAAnwAAAB8AAAAbAAAAGkAAALKAAAAdwAAAHcAAACRAAACXAAAAIsAAACJAAAAbgAAAiAA\n",
       "AACKAAAAfAAAAHkAAAHGAAAAeQAAAG0AAAB3AAABvQAAAGoAAABdAAAAWAAAAgsAAABkAAAAWwAA\n",
       "AGsAAAKRAAAAfwAAAHkAAABiAAAB8gAAAJMAAABiAAAAWAAAAWYAAABaAAAAVwAAAFoAAAFtAAAA\n",
       "cQAAAF4AAABRAAABsAAAAFEAAABWAAAAZQAAAl4AAACxAAAAaQAAAFoAAAKRAAAAiAAAAHIAAABi\n",
       "AAAC3QAAAFsAAABtAAAAbQAAAksAAAB2AAAAbgAAAGUAAAIgAAAAZwAAAHUAAABqAAACBAAAAGsA\n",
       "AABkAAAAWgAAAZYAAABhAAAAXQAAAFIAAAGsAAAAfAAAAFMAAABXAAABDwAAAFQAAABWAAAAUgAA\n",
       "AT4AAABbAAAAVQAAAFcAAAD5AAAAYAAAAFoAAABRAAAAnwAAAGEAAABYAAAAVgAAAF8AAABSAAAA\n",
       "FHN0Y28AAAAAAAAAAQAAACwAAABidWR0YQAAAFptZXRhAAAAAAAAACFoZGxyAAAAAAAAAABtZGly\n",
       "YXBwbAAAAAAAAAAAAAAAAC1pbHN0AAAAJal0b28AAAAdZGF0YQAAAAEAAAAATGF2ZjU2LjQwLjEw\n",
       "MQ==\n",
       "\">\n",
       "  Your browser does not support the video tag.\n",
       "</video>"
      ],
      "text/plain": [
       "<matplotlib.animation.FuncAnimation at 0x1fcaa5ba668>"
      ]
     },
     "execution_count": 47,
     "metadata": {},
     "output_type": "execute_result"
    }
   ],
   "source": [
    "# create animation\n",
    "anim = FuncAnimation(fig, update_frame, frames = np.arange(0,N,50), fargs=(x,y), interval=100)\n",
    "# display it\n",
    "anim"
   ]
  },
  {
   "cell_type": "markdown",
   "metadata": {
    "slideshow": {
     "slide_type": "-"
    }
   },
   "source": [
    "Full code [here](https://raw.githubusercontent.com/lukasbystricky/ISC-3313/master/lectures/chapter5/code/orbit_fractal_animation.py). "
   ]
  },
  {
   "cell_type": "markdown",
   "metadata": {
    "slideshow": {
     "slide_type": "subslide"
    }
   },
   "source": [
    "Let's go through this line by line. "
   ]
  },
  {
   "cell_type": "code",
   "execution_count": 20,
   "metadata": {
    "collapsed": true
   },
   "outputs": [],
   "source": [
    "from matplotlib.animation import FuncAnimation\n",
    "from matplotlib import rc"
   ]
  },
  {
   "cell_type": "markdown",
   "metadata": {},
   "source": [
    "`FuncAnimation` is the function that we will need from the `matploblib.animation` module. \n",
    "\n",
    "The `rc` function from matplotlib is needed to display the animation in Jupyter. If you are making an animation outside of Jupyter you can omit this. In addition we will take matplotlib out of inline mode for now. If we don't do this we will end up with a blank plot showing up later."
   ]
  },
  {
   "cell_type": "code",
   "execution_count": 39,
   "metadata": {
    "collapsed": false
   },
   "outputs": [
    {
     "name": "stdout",
     "output_type": "stream",
     "text": [
      "Using matplotlib backend: Qt4Agg\n"
     ]
    }
   ],
   "source": [
    "# configure matplotlib animations to display in notebook\n",
    "rc('animation', html='html5')\n",
    "# take matplolib out of inline mode for now\n",
    "%matplotlib"
   ]
  },
  {
   "cell_type": "markdown",
   "metadata": {
    "slideshow": {
     "slide_type": "subslide"
    }
   },
   "source": [
    "The next step is to initialize the animation. In other words we must create the figure and axis and we can plot the data in the first frame. \n",
    "\n",
    "The function `plt.subplots` returns a figure and an axis object. We can set the axis limits using the `set_limits` method. We will set the axis limits to include everything in our data. The axis limits should be set here so that they do not change as the animation progresses."
   ]
  },
  {
   "cell_type": "code",
   "execution_count": 40,
   "metadata": {
    "collapsed": false,
    "slideshow": {
     "slide_type": "-"
    }
   },
   "outputs": [],
   "source": [
    "# initialize plot\n",
    "fig, ax = plt.subplots()\n",
    "ax.set_xlim((min(x) - 0.1, max(x) + 0.1))\n",
    "ax.set_ylim((min(y) - 0.1, max(y) + 0.1))\n",
    "ax.set_aspect('equal')"
   ]
  },
  {
   "cell_type": "markdown",
   "metadata": {
    "slideshow": {
     "slide_type": "subslide"
    }
   },
   "source": [
    "We will next plot the data on the axis `ax`. We will store this line in a line object. As we update the animation we will change the data in this object.\n",
    "\n",
    "We also set the title for the first frame using the `set_title` method."
   ]
  },
  {
   "cell_type": "code",
   "execution_count": 41,
   "metadata": {
    "collapsed": false,
    "slideshow": {
     "slide_type": "-"
    }
   },
   "outputs": [
    {
     "data": {
      "text/plain": [
       "<matplotlib.text.Text at 0x1fcaa588400>"
      ]
     },
     "execution_count": 41,
     "metadata": {},
     "output_type": "execute_result"
    }
   ],
   "source": [
    "data_line, = ax.plot(x[0],y[0])\n",
    "ax.set_title(\"t = %4d\" % 0)"
   ]
  },
  {
   "cell_type": "markdown",
   "metadata": {
    "slideshow": {
     "slide_type": "subslide"
    }
   },
   "source": [
    "Now comes the part where we define how to draw each frame. We do this by defining a function `update_frame` (you can call it whatever you want). The first argument to this function must be a number."
   ]
  },
  {
   "cell_type": "code",
   "execution_count": 42,
   "metadata": {
    "collapsed": true
   },
   "outputs": [],
   "source": [
    "# define update function\n",
    "def update_frame(i, x, y):\n",
    "    data_line.set_data(x[:i], y[:i])\n",
    "    ax.set_title(\"t = %4d\" % i)"
   ]
  },
  {
   "cell_type": "markdown",
   "metadata": {},
   "source": [
    "This function sets the data in the `data_line` object to be the values of `x` and `y` from index 0 up to index `i-1`. It also sets the title for the frame."
   ]
  },
  {
   "cell_type": "markdown",
   "metadata": {
    "slideshow": {
     "slide_type": "subslide"
    }
   },
   "source": [
    "Now all that is left to do is create the animation. This function takes in the following parameters:\n",
    "1. A figure to plot in\n",
    "2. A function specifying how to draw each frame\n",
    "3. A sequence of numbers to pass in to `update_frame`\n",
    "4. Additional parameters to `update_frame`\n",
    "5. A length of time to pause between each frame (in miliseconds)"
   ]
  },
  {
   "cell_type": "code",
   "execution_count": 70,
   "metadata": {
    "collapsed": true,
    "slideshow": {
     "slide_type": "-"
    }
   },
   "outputs": [],
   "source": [
    "anim = FuncAnimation(fig, update_frame, frames = np.arange(0,N,50), fargs=(x,y), interval=100)"
   ]
  },
  {
   "cell_type": "markdown",
   "metadata": {},
   "source": [
    "The frames parameter is an array from 0 to N taking steps of 50. These numbers will be passed, one by one, to the `update_frame` function. The `fargs` parameter is a tuple consisting of the the additional arguments to passed to `update_frame`."
   ]
  },
  {
   "cell_type": "markdown",
   "metadata": {
    "slideshow": {
     "slide_type": "subslide"
    }
   },
   "source": [
    "To play the animation in the notebook, we just type `anim`. In scripts or interactive sessions you can type `plt.show()` to run the animation."
   ]
  },
  {
   "cell_type": "code",
   "execution_count": 46,
   "metadata": {
    "collapsed": false
   },
   "outputs": [
    {
     "data": {
      "text/html": [
       "<video width=\"432.0\" height=\"288.0\" controls autoplay loop>\n",
       "  <source type=\"video/mp4\" src=\"data:video/mp4;base64,AAAAHGZ0eXBNNFYgAAACAGlzb21pc28yYXZjMQAAAAhmcmVlAACzr21kYXQAAAKuBgX//6rcRem9\n",
       "5tlIt5Ys2CDZI+7veDI2NCAtIGNvcmUgMTQ4IHIyNjM4IDc1OTkyMTAgLSBILjI2NC9NUEVHLTQg\n",
       "QVZDIGNvZGVjIC0gQ29weWxlZnQgMjAwMy0yMDE1IC0gaHR0cDovL3d3dy52aWRlb2xhbi5vcmcv\n",
       "eDI2NC5odG1sIC0gb3B0aW9uczogY2FiYWM9MSByZWY9MyBkZWJsb2NrPTE6MDowIGFuYWx5c2U9\n",
       "MHgzOjB4MTEzIG1lPWhleCBzdWJtZT03IHBzeT0xIHBzeV9yZD0xLjAwOjAuMDAgbWl4ZWRfcmVm\n",
       "PTEgbWVfcmFuZ2U9MTYgY2hyb21hX21lPTEgdHJlbGxpcz0xIDh4OGRjdD0xIGNxbT0wIGRlYWR6\n",
       "b25lPTIxLDExIGZhc3RfcHNraXA9MSBjaHJvbWFfcXBfb2Zmc2V0PS0yIHRocmVhZHM9OSBsb29r\n",
       "YWhlYWRfdGhyZWFkcz0xIHNsaWNlZF90aHJlYWRzPTAgbnI9MCBkZWNpbWF0ZT0xIGludGVybGFj\n",
       "ZWQ9MCBibHVyYXlfY29tcGF0PTAgY29uc3RyYWluZWRfaW50cmE9MCBiZnJhbWVzPTMgYl9weXJh\n",
       "bWlkPTIgYl9hZGFwdD0xIGJfYmlhcz0wIGRpcmVjdD0xIHdlaWdodGI9MSBvcGVuX2dvcD0wIHdl\n",
       "aWdodHA9MiBrZXlpbnQ9MjUwIGtleWludF9taW49MTAgc2NlbmVjdXQ9NDAgaW50cmFfcmVmcmVz\n",
       "aD0wIHJjX2xvb2thaGVhZD00MCByYz1jcmYgbWJ0cmVlPTEgY3JmPTIzLjAgcWNvbXA9MC42MCBx\n",
       "cG1pbj0wIHFwbWF4PTY5IHFwc3RlcD00IGlwX3JhdGlvPTEuNDAgYXE9MToxLjAwAIAAAAjQZYiE\n",
       "ABH//veIHzLLafk613IR560urR9Q7kZxYHL/BjNeJgPMMk1nBH4nH1/kUGpt9r0Nf0C6czECzeB6\n",
       "jMMDGEP/ClLB3G2I9DmMSjrnqje1rwa9hTHMAAADAMab5NYjtK10lzHdY+T8AsZHPmdCUttJhxGy\n",
       "vWeEKMxs6eO/3lM3vkhSAi5XFz2wfPXrbxZbq6NhhrF0FuFIrsAv+GJyK/gi04seL/svBr82AU1Z\n",
       "7urP66LuaEJK1oQ57gg+Rn2sV1yVnD61eJrc3htZ8yQ3Yz6HrjSkGlIdW0Borkg23KB6ghgSeUKF\n",
       "9xcq5RC1e5pSD7+VpWZ9UZXf74M8H9qQhZzMoA2ZbF0lyOBPtG+yyWUpPVOZQo0qwCEyWVcX+1qc\n",
       "7NOlBJrUgAeas73iIc4VeT5AMbCp152DDteoJRKC3evhkOwzF+c5Y+eyMOx9RyvZu4QZO6uGj8iI\n",
       "2qhK1cz9GpKmT+pvA3HOk44RVqJ2yCkWKc/EWvKzCY/VAwQ2lqa/4OWvR33gtAjA1SDcAf7EfAbc\n",
       "AQJJygSxQWaWtLOe2Ov/e3zgdoeLBN6EJyZPe2DpG/bsj3/XE2L942gA9Ik2kgjHJa/CYUhCSRk/\n",
       "jjGp7PhnwBzJhDBG2JFBcKjaGM4t1+NBaGiR7feUMx+ScQ5f+hO4Sdxx0tudz2S64Veyl0d7a7FU\n",
       "URnqOLK5eC+CqCmVJ1dYxvVK3nncEE/izskx0LmpH4+aeksAp72cLwFlGrwSlZNac1lpXRVI3p6R\n",
       "Il0j9/kYrD/9/bHXdVD0S2Hf+RcWEG83oyiSfLvGe+1KKBOgdcR1CUqh2L/g1Kbt6Pk9V/BeT1as\n",
       "xa2ouW+E201jB8wfonvgyAhizmaHRHpb6V7KP8qe5dFkeVV8mAPvhNCqzQCEZ0/5+NqhnpUXHMnv\n",
       "RlTvGXK70+krh7rZGlXGTCevRMwjK2PwhptH7x2+WcyqZLOqN+ikHD+IHaaOU3FIPYPWxL3Q0iJU\n",
       "cRFUTSFeyRK+uI331Jf6oyseNNmqUGgoP/7H/ZZR7rGrASOWlqH1CcB6WdLiLJ2tWb7sQYvEPBP7\n",
       "p9lh5OARGh4S/EAWrf1uNAY47hDYRpxKtoPtb7vlEZKxFt+O+Ycz1nR8WfYteq/afOW/2fF32c6a\n",
       "rgYkjnx+kxjNLX/ncyhKWknY/reF1N6hkLVkAERo4VfOI5JGiAV0+iQwnvnGi8c74MvlR9dGL1kZ\n",
       "pvZOf0LOSItCFvRYM7rWKqePxMZHydF8YLRDA5T07wIJKB/Z0FtLgGzCWmaWhJawYCXcgcX/P+88\n",
       "IGK9O3w2ppKYHE8inivuB9SwWexH7RAQNsmVzc/ONWO7nH9mCdeEqrCsliCCs2k8iYlqDOJQQ+f5\n",
       "Y/4mOBNDgzYJp2e6nbcwO/cHpVhGvl/NroRfHJSzK5HkGQHKOxENgHyD3EhAcYJLL/e4C5OCG28+\n",
       "vHOV02lhOKEVO7FdoGXR6DUNlD9pyDOMwwAd5jNyimRCVdXcFUoCFNQkwuGRbPx0dsfMeoz+XArt\n",
       "Z2UEcxVSlscKSsNh1v3eMHNeDlUdsSLy2TUVVuXBxLIrFcjXLST+TgbwYyZnaf6GFiNY9sYJBVOB\n",
       "KA2suIZlXR1FMEIjrUaQOnmSTHoosOgUHC73BTj8+mU4JSnHAEjAipvm6sTuNgLP64VsMNuXxkgG\n",
       "0c/YOuU7NeaYweR0TEqfT5bmy3akSukb5hXYrD++E1Xoc8On4u5Ibsh/q1eLMpXCsRnhiZNS5JBe\n",
       "8Qkm7fKrJKftCIEsVMliubS+AT/kZw9OcNrKYhvGwwI9/yeKpPfgDm68Sq0yrzVo+dauU4We1hp/\n",
       "sLy6U2i1r4IHy9Q0+Ls8fSrQr0DOi2QEQEZQ9NYosr64CcNgAoyHaPhGOfcfovvhgfYFvqWW35Y5\n",
       "ky+9V9UirxDP4PPN99aEHqBuT+6uk+ZdcP5JwGyWyRhBnorXxTTQYS0KtWbYYvBbXiGniI+AFAcu\n",
       "c5H/FohAs6DmHXmXCYp942CXEzVXORtJMVQsvh0xJLAFD8FYBmJTZwZWNE1GWrCwShbW5tDYc1O9\n",
       "DU6n5IUEc2KcC5h3yLBY315e9mvFS5MhIlbFihT170PjlRvZjCslzHBc/uII72DQWCs0Hr5Y5SZv\n",
       "p1g3H2c4RP7lMxMkH+AV6DrArLCuDmfC3YX6xRKda86FhLgfkdSHfg059e973BGdEa+DQueSxNpx\n",
       "UOXVe27dB3S3XYLKLSb4KGEdAprM7RTAsGbGSCVxvv40e0QuhwFPwuSUFquQ1tXR6sxSK/QJoJvY\n",
       "AdBfxQAhog7j2aFYAbmnIdrU6BRTR7ouYITy3jquwTsP+FoqDtK7EtQ4y2ib3VFf7aQJ9BSH6dvb\n",
       "h45L8VmE6AhMo7qtxWcMhQFONdz/Zin7E1rPq2MNx9xwyAAJb9yvOQnvIeKR/mHP3jL+wK8WvC8P\n",
       "ZKnKg2y9EO/OEs5XPG9OxeRJjAqs/eHNgxnwrQisJfjdSJz7Bbpltu//Vryqbg4noXAeJbb2Q7aR\n",
       "5ncz/ha0pHDVkr3lz7bbv/mdw2SZKmAgRfYMDYwC/sn0mPjamjJuJthgEvP+mWASQA/DD+9sLWvj\n",
       "4CMtSs9XwK5yQK8yVRs/y+Hc0rp8swX52IcPax9kLN/fCwDgFkULyHS4HijXf7auJdbUWzm63uFJ\n",
       "RSBOyAGu7snH7trLXS4MQfRKf8adypYsntb26/a7UPVTzlMDZg4tTqPE/ZvoRsghT98f3aP3Ecd2\n",
       "HepN/wnpJHf+7/GSI63Alzlwl+VIs4+0Bo5r/e5jyzqykVozh9VxBv2V5CiwWhH5wldBKnijXf6a\n",
       "cQmavP9GAwTcQU5cOPBrICAh2+FV6U2gqepXtCbyiaSANHo772e1hniSpn1/PkwdhQ8fs+MHMzi5\n",
       "qS129GmEatY8mSMVAKiEiZNuA31pC4CpRHs2cgGzZ/a6Ty5AVoVCVPUYHz7sLCjfnBZgVemOgHTI\n",
       "tBcgmY3OKHgRDN5Ty/wwsO8MGa+Gxiu864ABX/HpAAADlUGaJGxBH/61N1G6qdfzbWJwAR4krLAZ\n",
       "+c/2EsfDz46vpWhPXOonMKca7lrm4UOonYfa6MwM9lPFJHBxDrHc/gABD2mocxu/ATR49F6NG/yX\n",
       "Re3+0xaQvZihGquu/9CMYJZue6HYMxjeGNxTiFdKQoWZZHj2GaA8qIFNvtr9cqEsDeC21JBpvE9v\n",
       "GZodGYP4zp6TRVWj/Q3J7c0BkxwCxaJuUVnmdot191UkxVhLy+UA9DlKM/1X/9JyDLC9Cd6f33VM\n",
       "/P0E4S1Z8/lGNxlr8eR9NfCMDETQwZCHfStEo0KS73sffqdBdfGr8J7bdSGX6pGpUb9MNNhXFa7v\n",
       "d3e1noSjQ12ShyJkjHfQk8egUXEoYxDmxKW8RqxLeLrpjeaY+5nOzRJ0hWrY7A1W88NHEW/UBCQP\n",
       "fMNa3VpwWihtWgxBD874Btdi1rcH7Cdjslp57UKbHOVwGCTW7+EVCb674or2UX3HU0aiXCFgdmvX\n",
       "EvvLAcryWhQ24DIc+xgzDTPJ47SmCwt2C/mHdhlAIJF1or0naGxvkVyjDS15L7rdEcK4XnOppO4e\n",
       "iU+aiy/QCme5zlMg7UYIhtqn05n6VLok8Lr4f9pFNdh5H6xPqRm52MAgDdoXEkpbG5WmRug6fcwJ\n",
       "GdzL26zZvkdc7EEjSXG0UTHXZhwO6rVl2X58NB2kV//1WZz0JTw/62olaYDR44eIiK2X+txYDsLi\n",
       "GToqI0ShRRn2BPrty17f7klTwpLonasxAkzpdZCqJA57oxgMlsaNTVxePk5ZB/SlJ+X8sHYeHfVj\n",
       "039xoFOKxFFV02KRUDzGIS9Gm1aegsIJxpdcYffoN2pGjSsjg1ykBPi7EwP5NQxohvq74RE78+iD\n",
       "NmUdvpxGl6/TUeNXfMMRUtThlwTOKC82RdsUO7o4eqP5nrud0gM/KLwq5hGliKgAXcSkU1nsbYRZ\n",
       "K8EM5bNuh4L6s45fREXGSsyDGUp+lGjiUTRkL8mWuHR78AuuDvS/JVEacDeYaHSwbmk7tKQ+TRL1\n",
       "So+3VB6CkxtBWr3zwfbLl7Mhbtz4NQLf3fICZkm+VBqAQYJ+E/bLquz8LjwNH/laxKqmQ5DHWUEN\n",
       "hdYz4dpDlIvy8mzVWM37o4XhQ46Q6gxp4ev69cJd06YQV15/1nKtz/2NbPJ2BKBrMnaMz6yFRkEk\n",
       "3L8dkYSrEsm1y9hW58ArA+8z2/8b+4EnLYlMg3yoNyLi5rC8RsWAAAAAqkGeQniHfwp/Sn396ADi\n",
       "1gBWrCsWQufWfsFhaDrllgl/Aey9rGltno8ih0weqOltKmC3A4p3W8Wte3rdF9rY+UCxsVpnVnPy\n",
       "TCU2jKS/U4Akx9gtxqafSfSuQheawpPdYk1/buo0Nw6tlKi+y4rg3+2cGNAfZG16duBxDUBWZ9Fu\n",
       "Yjd8xKFez7m5aQw7yb0AMF0Ea1wn4PdW2Zh43DJwhtVt0QZrcwK6q0bBAAAAgwGeYXRDfw1+JdX/\n",
       "Upyw6qgBHw41jKg19RBrLERslJ6TjDUC0ofZGgx7HU25y1zH3QkgOouh4c2x5dWbokrXY4naQfaF\n",
       "hYY4eG7mEjXSymoOW2o8MEPWDh37lFv2G4w0PNzm1mNjpfKBd74Uss465E0pnzEUCL4YoVAIaZHW\n",
       "rSbV9ZbAAAAAdgGeY2pDfwt7KG0L/IAF0n/uI62TXpxeoq7x2c8OBLPdDTLb390onTkXgGJPhdiG\n",
       "UD93y/5x+ghu5jHwLhpAWEcYaDG5L+I/zn4zOw2+JPq1lbog05L9wAkC+RrAuVTIvLJKsMBP255+\n",
       "zA9QmajaqxIy8toGqqUAAAIoQZpoSahBaJlMCCP//rUuUum6v5cAdFJYuLjtn7EFHrv4+RnNvjEA\n",
       "yxD2ntuysQnuRybv6yMkTzMMGHndIbdMVu7QmOmhG2fKQqdK6hxRGs7UHbLOedkQp+aBAtOk8EfN\n",
       "dm1Z0+YP2tn8EHu9JioZFVk+lnWl0T5fCyEbC5/JfKKoBuwrPsSkIurDIUZwXGSa7AO4fw6G/nDq\n",
       "Z5js3rv18ZqEgZZo9ptSBjq8LG6Dg64qi+sAoW8BwgzDmhIe/1GmbO/yh/ZoSCe4XbY5CG/XcQo4\n",
       "jzyRmDIOKug7xy77XRKjiwUnjBPi8ddOK4JfHprN35P6royzXnk0T6jfuBC749BGqwJ5tGfW5aEh\n",
       "cn/KPcIuhiMF9WTnc0PjsJiaBoE/lT/48rtQRLqJ1ROJ7ri5ts4Uukj+6KD3flx3mNswC/IivgKX\n",
       "nJ7oWD7prpLR+8ZzbHOAlNqd2LkjOLzHMwUr0mcoQxaCNBjwp2xar2o3ZeT8BE3Xe3AC3pIUTgX3\n",
       "38DSQBtW2XePEnAJB+Vnjgu0SHJZ1rwRqg2nBfOvQg7iQ8R8LOHO2Ou5Ib7LGnQ+o3fqzpKNxRJj\n",
       "Z/tIt4q5e3O62KVU31Km5X4t6tvnLzdGEb6oxlrGkWOwG4SD0bTqp6d6Rhq9/vJ/QwdJE5vtQLgn\n",
       "z0OcGTfxaXkqe9UI826vkKfJwHmBkgEh5L/q8ctKdm3jtj/SrET5bpM9gaPLOasEup6IuksfmXSB\n",
       "AAAAckGehkURLDv/B4EzNCAfgSiAD8DJtCg6mInjfVNM4EjJ/TkDiwxNgiJup0AE5/8QSTLwLcaO\n",
       "25SA39WVkHraWdKgoD7CPvBr1TmFsPxE8dbpZSKjRkG5JXCCseR4nxXJpEgjMKo/HTFQM/6I6feC\n",
       "dixuwQAAAIYBnqV0Q38KNtxACWT/y6TcMF/EWJFNsYTAvmEYxvHFJ8Wca3qoQCk46Ed7Cl5iyPoS\n",
       "JgHvuKcClpQDi40hcWY9cgJHgoWAMR2KhJEGfmXS1g7BZpIw/17kk5PxBODK829DZeKGV0FsCiI3\n",
       "xoCBFtsLiJlpVuVoXP3XaYzXwM6PMeVq07ghQQAAAGsBnqdqQ38JuP9OiABdJ/7iOtk16cXvaNuD\n",
       "ioZ7nFNbF86TSM3CCEr5rX0lQTDtBtlFwPgmE6aZuFcxlwkOLRh3hYvQJwZF9BokG/FpZ2Edgvy7\n",
       "BweeT31FdEki0+RaR740Byru45gRXahNQAAAAl1BmqxJqEFsmUwII//+tS5S1dOvpAByy4QXd9t/\n",
       "jCIudrhAJGQYKWsackjhHGETQ1nfjcDv2lzVNoiLwiEdppoTzzOgL/jkWgcB5aU8P36ZDeR/p078\n",
       "o2bl71DJqOeH8H+u16oZKzezOClpaHGyW3SNL7N6fNGD2caFAvYNmXxw87f21AUxLrI5EliVY+g1\n",
       "FM6w/8usaJ8eacGKEW/BBVd4nzCSxiBuMiX/rGbW+6xPYFUtUw6vrlnHHFP4CGWrpIjnVev9cmXP\n",
       "CcUStDioFJqs9sZXk/PKgl4dAwAwy6nesBcenE8a7LSdnigjCC4kC86qmQXKAjWKOBQBuAhuv1CB\n",
       "RFflc6mO12LbkewdfSSSJJjfowGrE8s6nQdPljOCWE9lW8niH6EDTgABLepqT70uLTuFddxb7VUE\n",
       "hq+lUCKPN+KT8w7d3WxYqwwzRDMsP9Wv9WrtDHudbLf7r2nn5CHXrorMzTKyaaQgZ2rMLqTkHp0a\n",
       "kMw7gFml1n5hXHmIh0SyK8f7dK5+ANw2Y16RwkL+zK52im4+Rj2nFc9dXWJXNGMNdLEkCQt32rVf\n",
       "pxSrL1RB1bTWorUwv4Z/MmnFAK9OdJFk+IPthxNKnP3dhNV90mt4kBvNKovjnlHv5SO9ENvLv9uF\n",
       "5HCaGZ3rqdjcuQseJjDgkYCgtCzUipvdxmE0uWX+4/RNFupQ5jSdDW+gaq6HNHzHEin3Ajd6EYGy\n",
       "6ivoRx1PcqRhhxD76dm+o4cRO+Az2P8j917enK7ldLre1hXfPWSYUgu9wlwFcJwOv8ok+9Jhl7Lq\n",
       "NmHyIkY/IAAAAG9BnspFFSw7/we/+9ABdKDVXfXKgodmnptntKvTQVlfP36wXaq2SQqA9FEJ6KHy\n",
       "QgQdyBbOTmVCeMwi74/99FBnBG3HL2qUIpiA33Av8NMTAZwNYhy7K8yqf2nTfrOIVd3nA3nZSMud\n",
       "cTOTwM+SvIEAAABxAZ7pdEN/CcrxJcQAlk/9xHWya9OL3uUzTEEs9zaxv9Ie/4lE6ci8AxJ5PuAS\n",
       "gfu+dXwx7O0f8VJJ9c+GX3gxvPJctwBw3Xr92Vnr2Lzl16AwpiiBHWztGZ9KNQuxfeuQL4d5yY9X\n",
       "a8bdpFcuY4E2kuUAAACFAZ7rakN/Cbj/TogAXSf+4jrZNel872jbg4qBbfJNQ+zdZkUkMgAijOlc\n",
       "slQTIa8Ch4sJwTCdWrdiBwktaHFm7BvTrziOSwTsuJ0UTT3bXDWGU51Yylv0QTJREfym5KLyipdD\n",
       "SG9Q35fuZ3kzklMPuGD8sigIxQNk2dedFs9WGJOyg6FO3AAAAlVBmvBJqEFsmUwII//+tS5zBv/p\n",
       "ABWTreihzTLOdYBwVnAZudH1Gu9mbfG18Q2WosLT5VKXaj6G3ExhGMG+X0C0G72nmNudxdDkzJVk\n",
       "ThffUMmc9lwH455qKOr4qOjxTdMud1qWUYZxwFMFeGVN8pCjU5/+g/KTL+4P82sv2rJnk3oX5OVb\n",
       "k6lEF/blZ8TCqCutxgLA3awJJebbcT+cr7PmWffCRWC23k1Fw5tvRwYfbYI1bKw65aOyxlRASDFy\n",
       "u6cLPx/qd6lvTOPbFk/dHFsvZlS+2o9G1B9C0ePs0JuilOpb/JtePqoAclPRBtrVIEzLny5olv+o\n",
       "HuVH6H7sLzN4CSCewhj98xLB3iDutx5nxp2SSOShGcL9CT5/L43Kvr7U2ITkMBrUwgtlLtASBHzm\n",
       "URsxfL7jUgMp/423pGkx/xOyFTwMWchFCkE2wRPzstpCt1Mj+z5YZKgAPkcGvpe6kppcsc5N6eEz\n",
       "NZUXVYLaQN3nSmRBsV16dDFC9jZ3/ginjPM4zTn/tTUcPk/kOHi5Q32hsPhErZNKXw0qsu6NWFEU\n",
       "dk14YJ8gekhz995TAzTEwuXW3o7rrzPhz4HWBCQK8+WsHrEHTJ25ZANPYE+LMYwimb/5Aac3u07+\n",
       "y0M1xem7/+MP4f2YgFLehbMrObCEi/n1QPt09175ce8QfYxn4ooivRgi1k49igV/Y62VmnroEr65\n",
       "I3lFSFgx2ZSED1iK9fGht2CEE+pU6OANRsv+tOI89TfxEfScvvyzphmrwrb648ng8/Iuk/dRSlWd\n",
       "vgAKDNJPwzUAAABzQZ8ORRUsO/8HZVdQ7oAJZQatyJYX064xir2IKJtRZfsl9bKHf9lwRlsywEcf\n",
       "kOqgX27AtHjRL44ifWq7ODxvd40M881D/JafegMtmX5ivV8J0cn8tzOz3hV7ZsTq1OTOAxAQ2Q/e\n",
       "gyaO7Vvcmi3S6oPrgQAAAHQBny10Q38LiMtpvAAXSf+XSbhgv4ixIptjCYF8wvyiHkQT4s41vVM8\n",
       "kEq/rISOEX386Rv3P05Q+cgwDNGaIXJ2kiG9OIQOZMEEaPz4rJgqbSQ5PGaj8sBuqe9PkZBg9xdt\n",
       "paa00FTlbhyfZvQ5UiujAWQebwAAAIcBny9qQ38LeykOjAvAATrWhZUKHIUgvhbTMTBOWrQ9gfNq\n",
       "TqqRIQOsBvl6Axsdm8sfl3vFLaAOweIL+kNWrU1SfqOC9HEVc3CmxiMJDbqLSEeLW530YuPiP5gK\n",
       "gIPRm3DSPe9uz7lkocLcrkOHv+YDX6FkwiZGuYD7EHsg+7n2tzfkgIXKQWEAAAJvQZs0SahBbJlM\n",
       "CCP//rU3bkevab+Ee8KACkJLFxbXLfF5EyPNPsTtJSMhPYnaGkxoApQOfbQdKUrOQqrQARJA/Vnf\n",
       "pZ2GHhwzFASlHhgJ3cnqTQDboDCXPdSF3PqC3bS3TCueuEMNLCBLjRqaKBgZ2u+9+Eq8OSaqeZxW\n",
       "0gyVb02N6dwB4lFOQA7jtYXUJmGDTpOfA+wdciv3AjvdBB5dGXgZyDhmE8xJWc4oTf8T3GvbPkJl\n",
       "2mQhMk32lJLmw7JQG4eCoBv/jamePbTGRuNzWXz35idyxi0IJ+aL/SeAb96Bu0T0lBY8Flzh+p/z\n",
       "ticPlRlpZeklP3kp1ORfW+jQFNx0vyc3SiX2jVK4Su3dPhMNHGH9lOwOVfZCd31qbl74P+THP/yB\n",
       "dDDIYYIVXF4mg+IQo18TlOoyiFOs3K0xClS+fwsIhCPz8zYAMnDJ2aNcEeAr0qMXeDMznT9u7ZVc\n",
       "wps08FbPM/skIsiL2UthgjKVd6YdxGwssCTNhXTJ05e3jnY1k6GxN3nezZkxEfCwYnZubfwlWlhS\n",
       "Le0u5WeR9TAkJFQPanLpie0M7tyozpH9Twra1zLGvAB94QQusPN1y5gReD7NQZaoenslfnHeigjf\n",
       "XbjcBc4upYEoOfYI+1a0S41yiCvLG5I8ww7rA9iUACjQl2aXmqTEapmbG1mFV9YC2Y7h9ClP/fKv\n",
       "MrzcEY4Pr4TkQJfvroSdZa+WvcLeh6/2KelQwen3pMqGXhwzSyJ+HlrLsUHryi7IfmMYl6d908yw\n",
       "tV3k6znZ8aiPRzfAB8ED33qT1WQDezt+3aGgC/dOGW6Py+8z4BCgJlbruSsAAABqQZ9SRRUsO/8K\n",
       "hpkHrK3LQ2CtvB/kAGpjq4xj8ZAG8phrSyM26A1RqjR9DQFQbcjXu6o8c65bKCDyAIv7jYpYbgyF\n",
       "reUYc//lHuGvlebcCAqF/Y9wE9ou1WJqyJK8EambcsVJmiECYomWUQAAAH4Bn3F0Q38J6TkOAFun\n",
       "/l0m4YL+IsSKbYwmBfMI3eupKMEinaMH2B6edBr19rdUbTEROkzybfp9WPRYRyVcxwdWXMkSag+R\n",
       "+MjO1O/jsVdfJPbgNYbekFSJp5D1KlX44dAWzEf6ZbsfuIHSJkejPSZflxv6dmGnW8kXqGQaQnQA\n",
       "AABuAZ9zakN/DX5nnX5AAuk/8uk3DBfxFiRTbGEwL5gDoEGqNRNd3Dpn8ucPTzoNevtbqjXYiLwm\n",
       "eTb9nRx6dXDSrmXZqy5kiS/75Iz/UvAH1cxZ+1Wn0WkH1oBNImfdRbFkvWIfxmbVPleX4hhuLt4A\n",
       "AAI6QZt4SahBbJlMCCP//rUuWX0fv+GAEZSuYvn/Kn1AKOc1+XaFLOPZg18A2IcZB2bIVa+jX8jw\n",
       "3I3KKW4jEyiJxj5tDuiwM/p/CxrVmtPTIe9lby1jYGizAJo4uT7w/ahRpO9BVXCmUW4QOO9xdqF9\n",
       "Kdt/6fOgT6jWJsMHYzyLNoWjOwKfv8t2T95hDvXoY7axNw2I20HfbLLSUx1woaFCo+vAdtE+FTmZ\n",
       "5RqgCrwAyq+t2GZ9GkMz691KVjpDfwB2pLCgZq92xx83yIUvUVFJASB3OwIsAiZELggwtrgM46H7\n",
       "AZddzQd28G/G60Te7NxY3q8DzgLMfIcKBkYKt7Zzok8yG0DstECyaAso12rgAcOzqpWpyVFYNV1p\n",
       "YFijUd0FFTAbtrBK75x4CSqbUXuNfrvw4zaYlPNNgb+X+Qgj7OyJeveulDJ0P7nmT1pGxSgC4bTL\n",
       "ydeOJgvxhAT+TA8FkN63AFbKQmirFLz9wIbqVBoi76Lk28C8zs7oqi8e/I41Q34tvFx40hFaY80q\n",
       "bxMunH/LGMd5spfa7szz5pdw6a8HiTuwlz+Kf5W5EE0BUKvfsEdLFj/jkCrbvjhRnsDC/soheL7F\n",
       "8wfeVBO4nrvx8svP6h/WUyMcE83FY7FcHKDp6yFVsQOXYyY15P/6zObhL2CbuJLujoQVDOwKmopr\n",
       "4qj/l6UTviZKKs69KenP4iZTToM7hiuNQ9im4zwi3vwJkgEqSROM6XfvMVcMAFpLnX1e2VeCdar8\n",
       "FTe5AAAAmUGflkUVLDv/BxaBIAe6AC2Vn1sWDyV3IcQ+9rpopas/JsRjql6TgYE4hvqOnrpp3iuo\n",
       "E1Fw16RFmI9zmZNcMQ0GT9x/S0J+H/OroaLqxVeKbDTuutat/w5BqmlGqbmjGfy/SAJlv9OYv/X7\n",
       "BDNJ/00OPmb7lRqLoMqqDNhXkV6kJ9/B0ydiaxPqWVvN89LtlbYq8qNCnguj/AAAAHYBn7V0Q38J\n",
       "ysXlxACWNHOX6xSg2qqFOVW/TfPvxh7zDYoTszxaye+OegrwpSqOudErtOJT9MpdK3YLIDPPQwj1\n",
       "ABi+iOIXlJYradX9h5Pr9q213Po8ObH+iOr9/McGR7j/IiZeifgeK2YtDrq6jGZtlwBwy8GBAAAA\n",
       "ewGft2pDfwm4426IAF0aOcv1ilBtUZpwtWl9v23QLsJOOaTCutmU0T8lKY2a8gcvGnvUrJ1PF1yC\n",
       "/maDBHMZMv3WduwTI+iwhBzeMPQ2yfQ7fv5oBwmTMiPbl2nQIv/D6q/TY+eye+orokkWnyLSPfGf\n",
       "1m9fiiM4Wn5RIQAAAeRBm7xJqEFsmUwII//+tS5ZfxbYW+kAHMvSwZiSY7GcoI42WgE3N9k7Sz6u\n",
       "As0LvX+Ynbj6MedDUYoZbKQNKODTEWyaR3x9Dg9Qw3iU6pY83INs142U1p3cXMmzCLye8gkskuRQ\n",
       "R6YYWc7KR1Gdh/qcSAc/I2T1oinwcC7S2tJb+T3ll5tEip9Y67o/Exwb/CLupbRbp6PaErWG1HlV\n",
       "rqHtugbcwNvQ5L1goZCCn6mBCGSFtP0VbzdWEzxgSX0C89BmREUD56yknTcIzW2gQ1i4f3npn3eN\n",
       "VgcH2VwUvQUCS/uC1pgjy18fs6ZkdZsZkP8uJwPZPEdOJ0gGBkhs8/P5YVaRMMljwE1CLwgcpT2D\n",
       "cif2EBKLIQtwnT9KPYjEOKwFWfFARU/C+qvX6PqPSb0ECzF5REnXD7p35mHH+WhjpyBB6/Em2xt/\n",
       "uE/DnzOsyX9mScvwup6LCCwUCiP7iBo3rRf2aarU33frBNqs/Y1ekyuFmx3uVg9v5lSYn0ztALIi\n",
       "7HaP8OrncszvdzDkFlpGbkseTMyTit2sZlDLPtX6LWtYIs+Wym/UKFEudCOc6ohRDwzQvYbVIq/b\n",
       "sUdKD9Nz03whmeEW/PmBj/0NCKgPiEUfXF8ly1Tv5eisbtPw445DLWPWAAAAYkGf2kUVLDv/B4Ez\n",
       "NCAD1KIAPzc419/7zVAr+0udR/VAChLK4rsf6hOr10dWp1m9kXxqEMHG1A1J04GSsdlPwjv55ZXz\n",
       "WixxXcMxY0EnQzS6NZUm1++uWNk8+5CIOB5HehLbAAAAawGf+XRDfwnKxeXEAJY0c5frFKDaozTh\n",
       "atL7ftugUvchxJfZnjSOaOSZU4DSl/CMiT3ZjP+m/qrD6gOJqGqJAVbvQxsTj5ZBanIoDSBaivEn\n",
       "j8eQrAmGHiJkhtwd2PdddYpDsz31jZc7mAE9AAAAfwGf+2pDfwm4426IAF0aOcv1ilBtVUKcqt+m\n",
       "+ffjtSEASX7tCy1VJuKk41Sh1a/f5a7vkuORouxEZo7XBMpEeZJQ7FTwndWJx55cdPoZG9sC2cVI\n",
       "cEInQ3T71wBikW8Yr1pz629Rxgf3R9FqZ7WWyDlb0j3xl62P2X+hw9nPr08AAAJRQZvgSahBbJlM\n",
       "CCH//qpc43lXv4AAWH5xUSo/ADcrXo79qu8lVwi/WxW05L+fVwZVPlKmMXWDRGhChnnip4fge3MB\n",
       "a6JLTPTjRuSSxIB2ZwlvYpyK/HwVfjK42dYxOKB6l9030VHIfMKHRsqr9XnOVVhBtSVQnZ5QoTEj\n",
       "Pstc2aNdbpC8QOG0Kn+bH8aBY0kl0O2dqyqoxAiXL+b9zBv9pwyU7y5F6WySz1pNXxulsm4SWApq\n",
       "R7KtcksxNuBIg+tf7ZIEbCgGfN+1fi5yUNECZnJcQVXCiYaS9tRo+i1sxfVyAHvsG0PC43vDhBQr\n",
       "DCbj/T0vOrq5hw+3iI4G7HhdOWZR7SwQgqCgJiaijgyrlht6JUmgeGh1oGgVkOGvE0eo9a0Q3DDl\n",
       "rH2sNZ9lmCtTRmm/rWzEJilJypYsYqmUUqGDVkTrZrxSvuVwvZIEr0jwKDa2ze6JyC7D+3SXryrX\n",
       "x82vPvTrfXjuhLXylBHDHDNIKdPp1nckKeafdgV35v61IAKNiN8ebpaCPJ92Q98ILcsVEu0HAvFT\n",
       "aEWXVeLtGjR9LxZ/LsimIJ0WdjayhiWcpURiIeyt9GlIKxgBCaeVgNeebrwuQLA/9AvBdbe2BWBL\n",
       "cQvWNyZrpdpuOIHBDwhBZEz2+BRFPulxpZ1tcTCxPjM+T2zjEd6QYC0uPhGBXJP5iRsdOCn90TDw\n",
       "eZu1WBQE9BBAdZwWDihDDplWIXyAuSBrFJUDt/1E1cap0y7kJHz1r7yrJ8+wOC2WKmym7OQlOzbx\n",
       "2xn9MNQ0QivCahpUTe8AAACGQZ4eRRUsO/8HhMh5sALeugKOgleT01rt2hOeDGeD79qhcfgKJCwa\n",
       "3qCgjkxlQzKDfq6TKMp86xVbsohKi7KO+N5Do7Wc1ksLdZHHiozVrcnNPfO+SwPMdMFLcIYzUabd\n",
       "2Wtl70BYesYZDPjQbg7tWpjOiqP1M5zdPyRX8bbhQkapO4ljAbgAAACDAZ49dEN/CcrF5cQAljRz\n",
       "l+sUoNqqhTlVv03z714g16BANxJfZni1k98c6xwBpSqPPrTeSrmfTf1IkAFpqcNIWrNTo8Q90k1j\n",
       "E3CIGqN5FuBT9QUvoUKMYz4EZis8vm473ByDQH+YxmGujCGGRk+orokkWnyLSPfGfZ66mhe/sjYr\n",
       "JsAAAAB3AZ4/akN/CbjjbogAXRo5nTgR7b3xnww2fTfPvxiTzDYoT5XLZcl12egrws7JuwZDuMsJ\n",
       "9tmZdK3XLpmFX4wjzKWkIf3uZgAPD4zMqHSuS+gID8Yoxkp6aqCr/AzUvydapwXSImbteXcr83QD\n",
       "FOqdTxXUkNZF+cUAAAE4QZohSahBbJlMCCP//rUudLtfsAIxSWLg/LtBBK24jB6RPiqBeMDQ3y+O\n",
       "gH4LJ7wgAU3GA0A+An7DTj5O78n4hQSyaBNjLcVTecrSepaT992VMqB+f4LrAyc2n7lDjetMMB7p\n",
       "FUcl4MQMK79ZOSEoXaqx5K4J9O/0DEaYvj6Ar5gsJdpeE4J4DD24Kn/+bVlguTqZm2RaJlrtoSxB\n",
       "vGtSKkwzsfXbgGMHGMApHJ/uukMIDIdldyz2LHHX//rchiqlb5ttAAjPuSt9+/Mii70CuQLOHotC\n",
       "7b00DZTup4rmMU/GxmkN33wbzSOFAGuDsweGrR/TlfrVDX5T4HfyxmWwNsk+MPoDAGx/omGUWUnH\n",
       "9/RGTEYeggglnldac4rrvu2gwEmj419ColnYAWdY77+XaXarp5ZwUe78AAACmEGaRUnhClJlMCCP\n",
       "//61LlMpS30Au+cJIAEudXTKZC2seWoQ3qnijKziVVFRGPxvhU1NB8WcynmNXc6ix6QZ5QfjmiMj\n",
       "UBQY/5Rts9It6SrVExcJVmBLp7MdyknAARlWQ8fhEgRY3MjluxahkZFAgSp5puUEPzNmFyOfP6JC\n",
       "PsPlraiUjqhccZAI1ykxCudhGGINftabHld86jtq5Mekw5Uw66gPZi5sz+//xaOPoPUQroOSOkZ3\n",
       "eoGcQo30LiXwGpPsuI//1q/0Gay8IHok8NCMAIdovonejijnvh5zsI7J63D4j0A40pBBEzxpJO4h\n",
       "rD5L8yaRYa8BKAVp4/NDDLFZ0aKjG+KPffk/SZZHL0PSW6O5RAr5LEqyLAkTLHL0FKFEQUemcWam\n",
       "gpCgsTFC9sqW7Vq6Gi2WA7W3yp6nBrnSz7AID4FaZXDEUB4O8cIHCRXJpojsiDC8FyDUDmBB2VhO\n",
       "wEhENOBeJNpa0mEFVlc4/FgwuddhuaXSHaEv02G9CrNlrFYhRwaN+Nc8FKNb45Vg7PmHn8mnY9dp\n",
       "2eZty2P10kEqX4dbbXCcbBkvx8PwtOObtY4tCuc3AerJgcxhXzM6qNGWyoW6sAzcGaDKIMtv+Pjd\n",
       "SwBFfXUyWTu2435iycMrk9PB0IYAsCBez4MuNIwqSVKxexuTEakgQqY7yj1Ve2gw81lLKlL9YKgW\n",
       "UmmlxBOsfBqC4MtfnvJjqD4IgHzNSE/irKgLa9jxlfEUbO0FIBBVD8ssfcBTPIxzFQCXsfur4CWH\n",
       "YCkDLebkgYH5hKG2sWSOEYivA5YI4stx73n9C58roSyeEfM14B64qCYStcdbnp+d+l8uU6p2Ad9O\n",
       "xu2Yo9N3t6MZ31I903E2VSAtgm68kX2Tj1kAAAB7QZ5jRTRMO/8HZEJLzYAW5+qtFJdtJZGOwCAq\n",
       "j2Czodcz4NtKkFGnRA2syHt6C+8wmtpQ++BvMavxb4oI6eiIZxXY6WRCrim2i7NoF+qiJkVdt6DZ\n",
       "iXt0cgCu4DcrhFrBFTnqndPfUV0SSLT6aGe9pbHxCs9E0xBdllSgAAAAfwGegnRDfwj3zt1EAC58\n",
       "Gig499cLQe8pnMjNGbkqYU61wA9x3wztJd7FsLeHS/QWqb+GZ3nGHvq0cG4Fhco3nGcLIJckDojl\n",
       "9/vvfQDyqZ4w3q2+geM/w1dvp0cLc93Ooxn6v51zafxq9PfUV0SSLT5FpHvjLkxwkiou4AHQhkEA\n",
       "AACEAZ6EakN/CcMY9uIAStC362tHLHFfD4b8Kjy8nGRg9K9XS+7SDSApF8h6AsHU6Q78Xcl0kq6o\n",
       "5Z8eQgPBccxC7Tflko+0D9FOAKrsSb1SneNJHNf+nzHv3FcmDfmXQQ+Qpng8SFBjwRzfFxrPPTT3\n",
       "1FdEki0+MkC5KwLlSeXQw7gqx1pTAAACkEGaiUmoQWiZTAgj//61MUBmtAFCR8bEPRhTzwpCfWQc\n",
       "pEmEhs9LX55+a9lP8Vcu5s/wB0sqcNJggz4UH9+zLD//zHvYF1WGMdVueUqf2sIAgoJbb1GBKePN\n",
       "+OTEilpysvCXADY/5cdcpo9bqYOKMZcY76pQf7FtgYfY69SvNFbNtk7lj6BN2NEQlQ5k9nyNolTZ\n",
       "6OP0sTJJxpl0YOcGQ17TcbDS3xvaTwAG8jkkQjZQno6VNTermhk4n6BPuisVuR9VIC2Hp8hklGe0\n",
       "NnVtWC+DNsGyXu1Bm9mBiRsorbG025aHpTQvJklkoJXo0EL+F/Bo2lpwCLYf5RaVt17kacVCVRaE\n",
       "fI05lJzzlA7nYPObbOd7Vv0+Igq33C+xucXy1tF5hNDNAS8+vFLcXB6JZNhjOYerdYrX3V6Nfxu/\n",
       "qkantMKxsvd+Mrq6qdbvckA29ATBirm/fT+QfC4uDGo8tDKCgRdUlLr2osk2jzn8Pcc2+C2W828W\n",
       "CcNha0zT5mpLjZW67RTsSJT+NuHrlTQgZVDwlh/KUcKAVToIoJmeQDxYpdNLYEaIeJT41kwEGO61\n",
       "za3zB4zMaYDCnqokJCkSxU8UZ8hJes9gFO+tB4ogtF6gHiFmFrUCUjqlPelcxOUkyH65YYwwgL/I\n",
       "mY7HvD5EL4TV7yQIMH39O6xXKqovv9/ai32AevbFpWJ7H0vXewgCrizEtdCxh++LFKGmTKyJepJo\n",
       "TpdePA2bPHTDIi4HeiGhw7ionQAyn4hE2ODh3JNvV48BrCUQocYq24R+pERbpQ1YF+DJOGRZXlno\n",
       "owOLnEIKF7JMLKJOXzDlrmbnw7zIxM85E6/jQAUqm4xbIcy7xH73F0mr4Wv1VbSMpSdRzDwNAAAA\n",
       "jUGep0URLDv/CNMX/w6ITS4Uu2ADQyNCXddk5WeDFO5H7DcTuZnF8r22eFw5w98u7iq0IUv4Ujah\n",
       "qUUcYh9iGmUbXgwIfUiG/EUd8CSk8DbFjcvAfT8IJUHWWHrAsqQ+qVDUF+9vXMdH29OMwOzKX/6V\n",
       "HyYmWzp76iuiSSIdJoZ77eFkYLuNy/N7MP+WwQAAAHMBnsZ0Q38I/3bhIAFzQt+trRyxxXw+G/Co\n",
       "8v1VPAGcm8Pjy6Y0BMF30LjR5o5BGt1LuaEF1oExlALKcFSWrX4HhZkO8xGH/aGw6pSETyYV5vpM\n",
       "E2H1nBb/x/LpwHp76iuiSRafGSBclYFyd/L38WdK6QxIAAAAeQGeyGpDfwt7KNNvIyAFtQt+trRy\n",
       "xxXw+G/Co9WfPrMwZybw+PLpjQEwXfQuNHmjkEa3Uu5oQXWgTGUAspwVJiuH597lN/8VMBKizjpp\n",
       "fEqy+Xu7pDj3jjZxOfh2lLsMJGKdJ76iuiSRafGSBclYF8hBdL4RqSKZR4AAAALLQZrNSahBbJlM\n",
       "CCP//rUuWYDtB6QANwN+oXjAiBJwCkcjMUX5VzyPDf3OFUzORcnU3sG+z2x+LXBnTli6t/iLIll/\n",
       "KoaRGY/bQS/h7mHoNHm/2WNdGiV+Oo8GuBrBSnb/ZUxeCNC90AdYncOVWGU0m/na+IxcsXWMVI/T\n",
       "SzOgvTDomDutc0wRkUODnbhomwPrkUcWhoR8T8GR04JY9PnkdJgLxJ/5iP+Lj5tWjvUku48gtAug\n",
       "kFDP/Ne1pqVXsghxBvGMsEaiDymKpxzpiEtz3fF7ddievFKjV3rna7Gw05Ei5gIGaIIhZyA0+PMg\n",
       "n8YkbBjgZiRdT8dHhbn2/nUbavT3C+U4/Z/kC6NuH+Z2yGLwbnOQaaNcYa0MxSvBVq8mnpOXK7Ge\n",
       "elOAJfyaCcOgLmA02IICLyS/0dfl7zBzoNd6WzjO1N5Jntp3aSPUw6iWZpwCFRtVRVOLCFDKZR0F\n",
       "XiK8jlAussnHmHAxYNgxxfpxp2IWWn4wPwafGACM7ho4k82iiktNCvE50jvbuY5GWqHxIjXe0U2z\n",
       "HnXGiLgboLm3rYT4QAwrR41cnjc86TdjLj3RDc/1bqTeBg743wKzDZrp1oxD/3JRQiz22Lktydka\n",
       "Zf7Q+y7szVNMuhJx8XquBFARcwnHcgC6nf6KUp+kxhBp5/WHPw7M+KATsNba18GrhAUoKxecErV1\n",
       "+h3Blj63gyR8PYFEwMHGVvXur6dRJbZ+0Y3xEVC5ZZo+tWfN996D7XZMJ5v0jtmQS2VKf+BsP6aO\n",
       "rchjY0KrdYIx7GiJXmpwML2rBA9Qiza08Djjkfy/1C2WcUikI1M/UbPOwY4krKndCXMWpK8O32/1\n",
       "u3SJjaCJOJxrNUcox+sbi4UIU6BPyLr9iJIGdcMFKJ8DQLCaF7tNQUGzVfCa57CXiD6KgxurDr2V\n",
       "ewvGAr1HosGpMjgNVWj0ilf4M4qw6QAAAHxBnutFFSw7/wdjbaMYveVFABq24j8TzoBjdGAgrW1z\n",
       "ng8FVM2uU//0YHDUhb+vWGXiOGX1rujsw4Q3/ihlQ+fQLIAZzG7QsPelWbhuh+88m7Do667XBBwQ\n",
       "YQ3nPwEPTd1REJEh7NPfUV0SSLT6aGe9pbIMmdfY0uxkOIugAAAAjQGfCnRDfwj/dw9wAt2jRQZ8\n",
       "IeqN6yxz4ChnauUeODSV7dFMMK02IODKdjB5mzgBfBz/y6eMBJS2W8tBAifY03N7T3IeyLJtwI5Z\n",
       "zO/hsFU710CERi6982RFKmMk8+Mrvsa9rPz/V5zl61VLAd96XnKf5Oi+FmY099RXRJItPkWke+Mu\n",
       "rl0ILHCvHZZdsAAAAGkBnwxqQ38Jwrt/KIAF0l14ysUJiKge8pnMthtQsmsFuJ0OUyhDkPgni+xc\n",
       "sfK0tqGIehGgxC/JI/t6TepZ6o1+SAe8lk0DGXF/IjbatA+LGQS/6Mn1FdEki0+MkC5KwIJQLXuF\n",
       "oDw/lbUAAAIAQZsRSahBbJlMCCP//rUuevkCOlfDACw/SssV3xkgoQOYwJpryzWgHBBX//tJyOJ7\n",
       "VHILq0SG0jbNFhEgI/Y9bGrWTvaOV1Cj/sAqvmtT7KkScJJ9RDUVtWMsODsD1CZUy+UZjeZTZNQO\n",
       "1uXzBGBQ25IAjTFdWfzWEMvArxdAJGZL02Pxn1dPVF2lQ0xV8NoZCnNAIw5VFuKxj/nyK0mETfAF\n",
       "61SDmh6WYmMJV+bsLDWZsVhuzX9HsTa7mRM6LJEBZNp4QWm3x5JezjQv79k73IwZGDckX4hazcB2\n",
       "6woD+4yCo/XCNQstSyN5dYzlP7jJ83JdnTq/DRWxxIHOe89sS78mZvqocF/rDDZmB/HdGffnuJ7u\n",
       "adRJ+5Efig2mxPzh605PrnCGp1aZ3YXMLwtxRnlcJxdYgnd3c4qpyGF+gV8TuGgW7Ppo/dnrzU8O\n",
       "Xk02Gxe0fcRxSu7rprwecX5IOzaaaSDlB2m5cQKyhhpB6Ul9jB/IafjVA4Jx8OsIP+syQWsaggAP\n",
       "aFehhlAHuPE97of/4ix4oP3zP7fHLec+dWASjGmzBFA40oAX5/nHbIB+Poh8h48tL8y7I3Qg30+/\n",
       "Um+JgagVVoovM8n+fhbYSGwzssD4HcxNVE462jSGcv8p0Yopbx7/0NgoYAJviaP9x6tR+lqzVtfC\n",
       "WtgwwzcT4sEAAABwQZ8vRRUsO/8HgTM0IAPRuADT+TuVyCISDS7P1QJCCm4oouVEUtQCvDWXUTg9\n",
       "zqZ+VQdu6D2vhalq+8A3zOmC6JBLx92xxLENepEX/5U04JN6oBGa8NPfVA+l8woSb6aD9y+JEoGM\n",
       "KgkY1VsLpzvfsQAAAHgBn050Q38JyzP/KIAF0l14ysUJiKge8pnMh1ea3ZOXJEcWAeOMQEPgczaz\n",
       "CjtiT5kEYnqQHo5kDr8VBthskrWxAeU0gOnFtY6OtwmHS0D5jfRaVYgiO9aoMXbbkrR9WQFnBZPf\n",
       "UV0SSLT5FpHvjQFc7Cjlsi9PltwAAABtAZ9QakN/CcKNO3EALVgP9rgrf5v3dmL8PpyRyNsyua8b\n",
       "eEjZk7MVG8vrfFyx8rS2vbIyTYvZ+t571i0hPg7INcuY1aA3CgfDoqh6vCcwhzRM18kzRC16e+or\n",
       "okkWnyLSPfJRYbO0FPWEL61peAAAAblBm1VJqEFsmUwII//+tS5S6bq/lwBGKSxcKSRXoPc40AkZ\n",
       "3b+DtxRCmCl8BDWfEq+qPasPnCElHk31lSDdcZ68P9g1jgBAnVAer5cY7Psq108otNaTa0gzr+4x\n",
       "Nsq+KvuDe6a/s9s6RwXOze/mylUxezQ5FiYN0KiWGqyEqWiiRfvMx473qXdc7Fi3H4CHWZz6pwaA\n",
       "mIu/OLhnHV+yxeqOkIscSrDtTsf5Tyjd2ssGA6Q2pIFClXgvgg3wBnVTLqCXnnjAFSWOWa4UJ8Ff\n",
       "M/7m5obvwzSx4d8+cQ1oIdMXrdSMq0Exa4YZ3nW9X6Hut0halj2XwQ06iTwTQGvydT1Odz+hpZO8\n",
       "8XKWc11kS05HvI8mOmomGeCHnKscMSs+MtmO41moboNmgtFPQwBZ2HKUofpZbn8eVg09vChuIA6S\n",
       "ifa0REN28GFOQKCyJCQ4WeLL6cJIHreKpfQ0TQ8y0f+qRPB+PcZWmPz9Nu8SkdC+s+YzwMY6OC0b\n",
       "QEP6sAF5/OpPWlSwmBCCqO7YYJSu+grYecNxefKOT69Irq2Aqm7z/+huXamLDx9LMGCqGSP/8tWr\n",
       "aPlh0Jr1nh0AAACTQZ9zRRUsO/8HhMh5sALdPxlLXGF2RQhwv8xDRFfs4UYgEcqP/eIeHItj2GkJ\n",
       "692ti0WuoGgkbok+R0tP8D0rz3QhAFf9o9Vt52/C+wKQL/i2SsgnCUX90/OZy6AEO947wOPI7/u1\n",
       "g07BWRZ6/LjHDyx2raXuFlP1Y0+WCe+orokkiHSaGe+3hZD91+0EvA0w8MOAAAAAdAGfknRDfwj/\n",
       "duEgAXNC362tHLHFfD4b8Kjd89yE9IiqpLL2joKOd3N2uPY991fdPsHhZevKtZA8IML50ZnJ7bHS\n",
       "8g5BZO8pRzNROSIY2+MiPsqzaNp26MeWp3gktr/k99RXRJItPkWke+NArzeMrzCSJRMYAAAAaQGf\n",
       "lGpDfwnDGPbiAErQt+trRyxxXw+G/Co8vJxkYPStqNCOvLEHawyISPa2JXGxInh4O6RQ4YCEDxAe\n",
       "C5wddh/Pbl9JJQBDdgpJP0LZs9ym/0IH0WpntZbIOVvSPfJRT8arYrTk6X1SiwAAAf1Bm5lJqEFs\n",
       "mUwII//+tS5zBvH6AaXELAAlzrFvz/zruRrtxbX6ZC/Yir/HQFH+J2LHYT7PvFq4nqdi++AkVim9\n",
       "OxH9/mTrZ/zT/KVYVWNhPRzKw70IWXgrO+GUXx/b/nfDCSV39s8ZwjoiyeZ4/2TmxaM+8/1qaLGt\n",
       "YF0db9kl28z3QsIc1Ba5rNhu+3oFN9qTzO70WpgEjIue+9vZwWZXNuqSm1Vh/nD3u81hd3f6DmVN\n",
       "5o9Jh3bIcKM9LRfMQ6/0JWgGvju4+SQui2eA4V4aNdrrh2X2EWFpPfewjVYBlNHPUBzdbEpHcplb\n",
       "xOikZ9lYoRFBDrtOr7Kkpo5GuflMsrY3Ne7lv/JxcDdeVkBjwYFtiivcHv+sRyuNGzEkHl4wegQp\n",
       "zQggEwLg9Ezr3mxsvHnBY/9dSnZB3T+MgfAhP9dNvNitCVMkXpeVtNusXNdzNJcYLASMY84tNy+F\n",
       "LB382MSj9NN5rbv4PHmB0inPlm2fs9emG2nzWBxCWIx5Kf76YXwXRYkXR+Mp9Zh1XGWBYIC4PN+9\n",
       "5LiKEJDtqCV+rzI82lPKWLK1D0bT1zCWbT8nsu4v+xPx4ehEGYemH3GPD55LlpyAazl7PFlLfbX8\n",
       "hgZghUqk6ZxWW1BMf2xclfdQOPkqL9UXugFJEOjFO8tU9QEPqsiLUth271qEGgAAAINBn7dFFSw7\n",
       "/wdlV1DugAllCJXGErc5f2f7kn5VQIVDB3vXL44p0N6KPKTexnb/f9sHmC2N6DETWAk7jEbY8HZV\n",
       "0rvgelyu6EM03CmyejUPsI3qFpZ0JZP0g/JOXiPP2fvTeHg+4EohASMZpKqzp76iuiSRafTQz3tL\n",
       "ZDh9Nz9wFSc4YwAAAIgBn9Z0Q38I987dRAAufBooOPfXC0HvKZzIlvSUssTXDvt00NF23xmsN89x\n",
       "ILJNRC3Zwisz1xBkzmlHoXET0DxXpYKUFkGl87aV4n6ZsiyS8xAEofVsiS0QaAlK4THn72HCjP9E\n",
       "9y9wLcASGU39xk4+aUZPqK6JJFp8i0j3xn+UdVIiyd+cir6xAAAAbgGf2GpDfwnDGPbiAErQt+tr\n",
       "RyxxXw+G/Co8vJxkYPSvV0vu0Op1gplL9sLB1OkO/F3JdJKuqOWfHkIDwXODrsQCZKN3RliPoahQ\n",
       "jVBEQ3gz4y/rgVLf+jJ9RXRJItPjJAuSsCCkSo4i/vYBaZcMAAACgUGb3UmoQWyZTAgj//61MUx2\n",
       "aAGmmyLIWxMH02rX4PdY/06QALOWl8rjNCmGchW6Ic7SqcxPsBCIukqvC9JJg/8iSJceF8CSA/yK\n",
       "KvPtL7r7dV/dnCyJ9yDI9aFAGd4eql+eRI4MvPOo4eIYPS4FqPkivSLQPYH7Vf+nntndR5xx1Hj/\n",
       "aA9MdcMjhGJD896nYwzh9qB3Z2Fe9Hr+66e9GIaayoYUEQISPCpUQgf1+Cc1rzXBe6499oSHm6ZL\n",
       "+FT13H0hSVVNK9jaD8Llu07/jUbOksp9H1qyDV/6tjaDR0N/HbocgsyTSDk9hJsc0159Hkx49ZYx\n",
       "uXZ/nPJ83sm1sw21BgZI8321ouLuBTYgKQnfxy9HlUTfz4UN3tuXA6ejg/P3VEx3d1//Ja3+ylrp\n",
       "mEKkEOaE0SHBIs4mADwzfdy0s3BTcj4W8PQV9RDDVb6qlZtjDtvPSDCrZ+JJBpExZQEYEHENaVgb\n",
       "vnSUo6I+7iVVssoOUuggRlsx4WowOkpHBAXnt4qgNs2irGMzKZadEhvTmmvVy1jfgxuHXrlMMJmM\n",
       "GOPEJdpB02RPKghCHU2rCaGYLFwuaGYnwcjPDz8QqzwDJTHlhAtseIIXllbDJTxxVg26lwQAsfXW\n",
       "aeJ8VHTg0F5b2NeDyXxng4G143Jj0TwOFSlzfmgOTXe+yTfK9+Mi3pCygk7zj+/vKjJlnGpBYMva\n",
       "ih1qssLZNZif2ArNfs5LhKAwBIlMUkTz5WAzMoNv1uNKa6ToQrKWKabLRJkCO5qIhhPssvt3pG67\n",
       "NZuKSOsLvRhlyWMkFXRxi01e0TqXuugrZHhP/obyrKf7QWJJYa2UDv+f/fnVVPgKuslHdKLBAAAA\n",
       "kUGf+0UVLDv/B30XIL9h3BVLQAPyxBcvHApQKMt3O/BureXd642e51vqBT4QPfL3ghiHhmsLynCC\n",
       "1PnB0N90mizYo9VEzYxJnHA0NZiCtktzSXcQgk2AvX7m5MV1ASf+zDfPafTqEtHu96v6YhOJFydz\n",
       "ONGYTjG9NC/FJotTPay2k300M99vCyN33RqDi78VZL4AAAB1AZ4adEN/CW9upcuIASyXXiDl1F4p\n",
       "atrUs1Cj3MLKVEuDOUrXmTMOf8xfJ2FvtX2hL4ERb91dTDCrr7MLjQeXb856UtWXZIpLM4nvxpgy\n",
       "BhOtIR9MN94MEc/q7/3VXp76iuiSRafItI98lBZZrOW4iVWxFaQhAAAAbgGeHGpDfwnDGPbiAErQ\n",
       "t+trRyxxXw+G/Co9Bf6dE3Azk3h8eXTGgJgu+hcaPNHII1updzQgutAmMoBZTgqS3uJs9qF9dlJ8\n",
       "e6/vRbie++3SnN8rdO8/5PfUV0SSLT5FpHvkoIpObQAjJ3pw9qqBAAABxkGaAUmoQWyZTAgj//61\n",
       "LlmA7QekADcHGSA6RcuA9BAM/0dN7wIXcxgrd/7/WH+0TLXZIgMwEqQabaFYDHs69SjPrJWEQ/fZ\n",
       "MXOf4TwneKEd1s9/eqh5D8nwEbmFoBfaYRXj+OF3eMUIpJaUofEG9lzSD32UjemnKO3IIOAPAN9b\n",
       "bJA4mAigVXfBLzSI+bOgI0QA56/j+/C7PtbKojjpzTmwe3YjP1lbjkHi20Bxzq02ss+av+5EGzEv\n",
       "zOHFK+gzqgEMq9JtaMdK2tXYsnuOI3HgrF6+wi5uynzN7yykLp4Mnu7meE9htmhYOuHNcorEcoLK\n",
       "gG74oTNeWtBIOoBSE8gVae+0wwkRUv9VnzGAvc3xf85g+cgdJajPZ+IbfwTKSyomkVDNTeQD9YwE\n",
       "o7t3odRZ4Wtc2FTo1eWQ2pkgURkWVvs3TaLiXvWzOtJZmmZYOnvvaGpefrmr33iU0mTJ2aJBQBoD\n",
       "K2DCcGYxGggEoSVd5TTpC9ORFZ3C097HXDUthFvlch7INbN63154MjNVlUwqR92nH3vAjc1Zlrgc\n",
       "uI/mj+mOz8PtT11Tvz/0NnoBOQW6Y/b5pH5cNTHz/OKg/y7738xXP8AAAAB2QZ4/RRUsO/8HY22j\n",
       "DI3ZA160ogA+OPyf4WI/RebJw10Wj0keT5lnGUQXRpWtibo3V4QwsH7/MvVC94GXVrJg+3cNU2xB\n",
       "DhbyH2qizFLaHIM64QUWO24vstVMfZpKxZp76iuiSSIdJoZ77eFkVzH/MGWGnGBZwAAAAHUBnl50\n",
       "Q38I/3bhIAFzQt+trRyxxXw+G/Co8cGkryRXvz7JV+pF23vtdleIt8HP/Lp4wAOAKQpAMThDRPZS\n",
       "MU1/ZOlzsWU35MN7MG+vi9oxkdOy/grabO9lqenxUbjhXp76iuiSRafItI98Z/+Gi3o+VUXztGUA\n",
       "AABlAZ5AakN/CcMY9uIAStC362tHLHFfD4b8Kjxui6/jaVtRpaa3cZhawyJZoeq2cnGjGGoQICh6\n",
       "DVysEcsMKlndROEKkKMjNS5u7/b9I3QDT31FdEki0+RaR75HzLXWCO7vXAKtraAAAAJFQZpFSahB\n",
       "bJlMCCP//rUuWYd9X/y4AjFIz93OMEV4YLsoO2/JaI6NAKiU7Qxji9fJVGK9XVLk2ZyhTo6qklMz\n",
       "3PJHBoDoGSUDlWP/PrSif/0zJQpdW+xIfRVMfaJrQT9dB1l7QtCZ0rp1fsyUPiwDnMRQ+6BDobfx\n",
       "zW/tNF4T85GfIkrjUY1KCseUbaP061CG8zZAvTj25yIjzx08iZdB0gm0Kiz96WWpgP9gajtXq0mC\n",
       "w3mZiA39JxtiGa8MojM3Omr54zVjN6gKBIpsmhESvCZ24Dj/cyLOzEt7pjAZVKlNcnSV+xStBE8d\n",
       "0l5UAWYzw9X8YfKMOA9tlaHnBnwQMamaBX2u/YPE1u1Zwd90xzhn1Aim3+2lRAscMfskpCzCF8mt\n",
       "B1ol5gFzyMFbMzjHtCw5z0qPJp/UKiW6EVRpy3TpDkly1aqMk35f7/0TE9ObqgoNkcnGJylS41F2\n",
       "b5FvoNN9chymenHu2bikByjrmpIkoEFb4m9orhVQV1wQoLeONEGNyPZuaShRCb2oMhJt1lprRWkg\n",
       "HF9rboRTtSQOK8GlipD12hQbfev6XS3JzG/Igla4y4pxKpdBT+6OqYUT5Ut4n14prjVScPUwHqqs\n",
       "TDht6p2Lqm3cBjwbDdL6rwJjZaR7UULZJwfk+OFCR3EfM38pFQvvAn1rTGlsSz8RIeV59KqTcPu1\n",
       "si8gL5Q7rxr49jeEhjXhqp6Fr7S5ZAAFwYiPNl9V7BAksTbKrhLhCS0lO4Z/az425HzT9+ZemvbI\n",
       "/aDb5TsAAACBQZ5jRRUsO/8HgTM2H6UQAffhrOhV0zBvL99UFpKEFwStj2ktFSV5NFedEORors+O\n",
       "ZnhBIw774WpaHpDokDLhqqvqdx/2NV2WebnUJXUUA721+rAnXoqG/tULwoNp3eSM7CSRbpuFwmi1\n",
       "UowazE0T6TQfuXxIlApqZldNI9gjVfm4AAAAhwGegnRDfwnLM/8ogAXSXXiDl1F4patrUs0yYSWU\n",
       "pOXJQRfe78Mxg/pXzkIDhrEwDxlkrw7pnHvbjXftDUEr3LBA8pqKaceKE9G9/efQbp95sqx237e0\n",
       "1Ni1ir1X2vInpfvdBkr6/Osu/dfP4rN9NmY099RXRJItPkWke+NAPjCTObjj70LSEQAAAIMBnoRq\n",
       "Q38Jwo07cQAtWA/1mvFL5v5J2/3+lndTNRlc1pbwkbJiqAaN9xQMwqUV9FYfzSBusIpgbRbqQypC\n",
       "HgppK5ZoslKPHksKN185ZURFFVX3KmTWYkgSrUTmFs8974qsYYLduKlh8YzMc9NPfUV0SSLT4yQL\n",
       "krAuPMr6vDfiN1rSMQAAAl9BmolJqEFsmUwII//+tS5S6bq/lwBGKRyCEv5gkf6IBnhx8QeJwUd/\n",
       "vJtOtZ0VWLeWWVcZ+MUu8BO7fuVN6j9hG3zPrBkKRwEWUZf0F3n7RTHOtp/+Wv7eIoHlrYZ7kBRi\n",
       "RnowqikuH0PGnxIs+TQnkoa8yXAGcdjM09BXzr86Uqks2m9UHKQsfSsBbWk+HxM4eTmUdtzfaxBl\n",
       "ZQex6hqPGdSYSsewSZuX6pzAEA6xKNM1ZXzqm3obC2Oev+npUKbFrHPJv59MU0mHAg/xx+cjv+LQ\n",
       "5J7uOdZpgSosdEs0BE86LaEhPNtu3KqIPyOz0v31z75ryAEHJwYGBwsTHVQHo8I8Su57cgRGqsrk\n",
       "CFR37C4MVUuwW9s1qbiItEnPNl9/QC94+B1PeyCnZONXMwkv8F0FrRoImbB4IuILIZEighS5NgOZ\n",
       "N5fhC2nuFZYvgGg7w1gkX/na8rJDtnDdJ+TizBZBrgIhYDdGL+SHO0V45/633LB1gU1wrtx41jZ6\n",
       "PyBNL9lpTouIzJd63YxEhiGpX+uOt0IYtrgENTYZaTc5lKiWoDwneR059aJwBZm9MQHJ9Ecl7l7s\n",
       "N5d8VFXGOd/30TAp+ey7hDjpspXkWHYcSU2rTjtnae6dmKp4H1bVdpUf4MeLAA5bxHe4my32jIz5\n",
       "bI0/pvd4tDk5T7PqKqHnBb2JSJ14nXStXJF5XLHp6lc/vceCaB2ZpnQqjliqIKjxtP0JmXrxAhHS\n",
       "VrY3iFgLM321eajO3YxjevAdYpONd82gFDKufDw6qIaEpDua7yu9eCgH2eo5l2yUmw4C27pHAAAA\n",
       "m0Gep0UVLDv/BtEgITvQATrWJAVR+KozZZH4c7xzSa2A+S0+o4KY4+9ONxJ4M0UxDT9n8376R/aE\n",
       "XlFhVO1/A9Lid8NuPw/wWXecv7cw3GMr8jJiIMqyqcUaJUhHopO5T8PHvVUjkk7wVo2M413aEkN8\n",
       "QpYVGs5usXJLk+s5LcY8A4T2hNFqZ7WW0m+mhnvt4WRKe41wagTfzG/BAAAAfAGexnRDfwnA7R7c\n",
       "QAlbu/2uCt/m/d2MHppyMbZ7QnJ3G6CyIdtDLw9pWFLEtRK1j1EB7uOVKB/49t9wN9/J8RUJYJ5v\n",
       "ejl1v/ZIbO0ekiEVgSY+PZXdsm9YoGeb7ZGpx7gxzHb+PotTPay2Qcreke+M/I0GqDKlct12t4AA\n",
       "AABvAZ7IakN/CcMY9uIAStC362tHLHFfD4b8Kjy8nGRg9K2o0I68sQdrDIhI9rYlcbEieHg7pFDh\n",
       "gIQPEB4LnB12Rl7eo5rAwgdXAKUA6IAzlnzLtOjiP+9QzT31FdEki0+RaR75KEYpgRLzZbJS4K+A\n",
       "AAABmUGazUmoQWyZTAgj//61LnMG//9QA4Ywmh0AripuSKywtl+cuWdpI+DykgT2Hr50YkM+ht75\n",
       "ojI9emrg61oikNYtib3IpBuCqMhxx1UX3jzA21MeEB2ZXelnvDHWMt81l4j7OKEPs3LAmtjz0cvk\n",
       "YCGtiNGRkQWBzVxGapepu2Z5JZe9kFpVdfBCb9npbspkrUcpOLmKgVxtC8XaU7oNJ+Wr8H8e8aFI\n",
       "ntRwzHLdeqawEvHa2ts285Rzg/mhHhCkC7mXYY8UgoMOFNTd8avm4Ue+JRETEQ6VwL4ZhF43GsMR\n",
       "w28qXEhQfnzh6Qff/XgjO0z9/UO0Y5JIxqNuMamYCwZ6PvetXYT3LWY7Zf0mVBeOnbFwFTM7qK8w\n",
       "HhQU/kpcZPty21OUhZEA2uT1d9A/D5QNB7uRZNn2CqIXNQlqnbMvKpWXQCTAO9Gzq/wHJnaUeyhG\n",
       "A39zzekEPdURCPCxOBoKikQYtR2CzuSbnVm1CuzjorHEw7u+hubGkrrWmtacsxLmZHkCJQvrdOVd\n",
       "2rwPP81VWQs1av0NcDUAAAB6QZ7rRRUsO/8HZRaPvQAXLUtrvIj5LEGnKmaoT7t3r8+laAXR5qph\n",
       "N7KHcAH/qQPKvxPtK21rLDKYjEHg7Kuld8D0uV3vJioIh+XyoXMQ1eT9rlmGkKZdEPcTTx3Bgd4P\n",
       "0lKYmi1M9rLaTfTQz328LJL37qCQcTiuziAAAACBAZ8KdEN/CPfO3UQALnwaKDj31wtB7ymcyM0Z\n",
       "uSphTrXAD3HfDO0l3sWwt4dL9Bapv4ZnecYe+rlLXRiFylg8z4481p+BOn+pA3qCNVTTzhYhPiL2\n",
       "1caM0scJxrsM8AJFlZ7F4D/9wFDm9NPfUV0SSLT5FpHvkpVMz0aQQsosZ5gsAAAAbQGfDGpDfwnD\n",
       "GPbiAErQt+trRyxxXw+G/Co8vJxkYPSvV0vu7siJ9rDIegLB1OkO/F3JdJKuqOWfHkIDwXODrsjl\n",
       "6Jeg5ZB7nMfo/FHDiaO5X+37zfP+T31FdEki0+RaR75J/xTWdd0NnFnq2DEAAAHOQZsRSahBbJlM\n",
       "CCP//rUxIPQ7D+5oA/70yZ983je7xFgt4/f81Pl/Faww+KmVkhAINWjbEBaHWB87zz78v92oFoXA\n",
       "6HYxrbP/6u5w19sphquJIQqE6Ahyu9Ih3r2FHVYwhQhUysclwHDkpVJc8MnTrOLwrYeJwuy057Pj\n",
       "iYycDW4bECOc2XsncO/vfleLfAUAUhEYetmVp/6ei2UCInPLUHRAbZF4dAIXAPEe7di+I6B+uz1W\n",
       "rylT5lKYVtaXF/vrLlwi5/tw+0kUo3amD2ahKTlDv83raDaL9APbprnwEkm0M6Cc9Wd1vdNXek6N\n",
       "xBVZ7lfGTAmuuzTTk8b8W66Uk3Pa2Yxpb3qqEnSIrRa57Az2+8tlNA1WDuhqNnWPhXGAoyB9uVum\n",
       "LtSxz+FegLzanCY4hRR5t7TXZl3jkW3m+4Dw6n61HdVo7h9noDKw6v40qqiwRiWqXuk/HZS57nUb\n",
       "OwDD+6F9KNC8L8h8x2EoA8UB+jKtNc64WvMb2KzOvSmYxzbVr1n3B3zehGWf4RGRJKtjLMnwTUBc\n",
       "u6JGZXjAGfaCKDUZX4rbFedvzZ58CLX7zv/6HJXLNiZd4ioQorOfWgr8/35xGOHClZcNwlXhAAAA\n",
       "bUGfL0UVLDv/CNMX/w6IWnNZABo4JdK9O/8WFFr3+Cr3AT/0O8c8+9YOs/VX+TClLVqdF+iPfj2w\n",
       "i/1rjtTU7NhZ2Cf/8xz086fvfm0Xq0N2W8tFSuCrAmi1M9rLZBy9vB+aWyR42g8GWq8rjmkAAABp\n",
       "AZ9OdEN/CWtVfUnEAJZLrxBy6i8UtW1qWahR7ZFlKiXBnKVrzJmHP+Yvk7C32r7Ql8BYGxurqW1M\n",
       "qFf0ONB5dwznoeQCd9XaA6RtgP+IVd+f8nvqK6JJFp8i0j3yUM2zAbLjidjbPaUgAAAAeQGfUGpD\n",
       "fwt7KM1TsEABcwsM6CiyT6LunNbNO1EZvdcKfV385SteZMx8eZLOHYW+1faEu6n476LNS2plQww3\n",
       "yuBYqd3LXg1Ly9ykveyieFI9S7lWpjBSvtfJNVX8P7AA4MV6e+orokkWnyLSPfJQVLO0B3aH8zyZ\n",
       "fEAAAAFZQZtVSahBbJlMCCP//rUxTHcagLbO2dgpp+Esmfg5fZbc1eoBiLYvc8NgAIuuJS/Gvrlq\n",
       "UrrWvrVLmAvTmvMR7SDbLKRhc2jylJ6BAuTMMHZsWwmRKdcKBaFYd6PYzSQjUraUDy+LvabWg2NQ\n",
       "DIISKAZITbLiqkPq6pET8er9esYDbzf6BN4S0P8fN+4+0vFkcjIkY3ZfwjqaABPK5J/z6Hb4X88X\n",
       "UrrxTiyznr/Lg3O4FV2kcHlVY3XJA4C/Xx0mJvTtGY2W/IBM5m67onIFMI/foSVQepLbk/gVO038\n",
       "sfA8rEC36M/6T1h4JC2tWFGBzIIj+4c77Qb9Ji9V1LCI3ALcXsGkHZ7DJGHqoQzDOHJhKfuqU2FP\n",
       "pItFCcfQDeGSyrpaaF+80O1NiaJKw/8M9lPX0+73BJ03DPWZ8ugf/Q49SKNNH+1bUwd+mIJFc+ZZ\n",
       "mJyhO11AE0edAAAAdUGfc0UVLDv/B7/70AHG+GocLDM/7HXnsfJYXsYMHQZlLkUUVY0dpf7qIAhF\n",
       "sjnAwUNbgf0fgGSUoYmD4NWjrE/zH1xffCkO3IJVW33biybK/hZh53ppMDu22TVYxkd099RXRJIt\n",
       "PpoZ72lsrbDJwDpRYY6E4AAAAGoBn5J0Q38JwO0e3EAJWFhnQUWSfRd05rZpyMdUaDJyfYuhopMt\n",
       "FXHaYLupYlqJWseogHgOVDx5KnYilm+/CnodQHlBDznahCqW6e62Ypo/HUfrCB9FqZ7WWyDlb0j3\n",
       "xn+IWHpxRUlYe0pAAAAAagGflGpDfwnDGPbiAErQt+trRyxxXw+G/Co8bouv42lbUaWmt3GYWsMi\n",
       "WaHqtnJxoxhqECAoeg1crBHLDCpZ3UDIPgzZs3vEM5n1f8m7h/J5pst6T31FdEki0+RaR75H4pZ2\n",
       "rOnQM7HnaLkAAAEtQZuZSahBbJlMCCP//rUuLjC7Ij/0gArf0rLFd8ZIKEDmMCaa8s1oByJrqvwF\n",
       "Pj8/8opEqVmiwg9Lskix5si+Ya2hVUoT1gvsXXuZKM4bvpvFgN/iuvC6q77mriTeRf6FWHRtE4OV\n",
       "83qIA///QHlZpjpByLflcfRDoNmmdkcJBeob7+mCFrIAjGEVL4KD7PVti38f9v8HibVKTcaB8AzI\n",
       "ALWUV9CM3p620pR1oeegJ1J1t5CmraZSy4IRiO42s8cjYTxHsPmWweKi5zx4ibvoXRFFz19waQs1\n",
       "v5nlXAwReoLpBu7VN9X+cyFfVTvvQx6gqMTNlVsz7OM+1BIREUdj04FNKOfOMMBoNnBnlt5rHmr/\n",
       "0NPqusGtYlFZ5HUzZheLsV7+swDvs7yvTqqx0AAAAGdBn7dFFSw7/weBMzYfpRAB9+Gs6FXTMG8v\n",
       "31QWknzVSuNMpP5SkfLbsUVjHbE8Psi1B2yMO++FqWh6Q/BQj/3GVrwZGSIZx58O0VVer5Us+RNF\n",
       "qZ7WWyDl7eD80tkaQrEg6wNMw0BBAAAAZAGf1nRDfwnLM/8ogAXSXXiDl1F4patrUs0yYSWUpOXJ\n",
       "Ef2QHjjEBD4G/eswo7Yk+ZBGKAmhpfmFSNhpuXKpqtiA8pocr1BIht8LKqyoH0WpntZbIOVvSPfG\n",
       "X87HQVNHWiyBZ2UAAABvAZ/YakN/CcKNO3EALVgP9rgrf5v3dmL8PpyRyNqR+m6tdDlMEjYvnmaN\n",
       "GYVKK+isY2Rko31HUbRbqQymoHgpdYj3tGFZieG0NE0u8rxdsAofnP/CKcAlenvqK6JJFp8i0j3y\n",
       "UH2zAje0l/LgfL5gAAABSEGb3UmoQWyZTAgj//61LlLpur+XAFguGIK4mDKFM4JlTVJAOG2t/B24\n",
       "nwyAKnykSzT/stB75Ve/KnZ0aCnXTiXcyo3J/0bAkcCI3pzhdmBo2+ftHyMX1omGaZTBK58mUviU\n",
       "TDkz8l2OZsqznc0fbZ1gB9b7cdqyh+9dK3doEYtU/6kym8YRf3d/z9M6CS82JLvc6G80HVZe+ohK\n",
       "vJIRttYDDnVNzmQJKQWtFa/f08lLCxXZrrwLtPk7pifEs7jfeGFjnEjJqNzYeuOAynltp+tZeAa1\n",
       "M6VqBhOrpTPgBQn6WLMxvQvSiBeou6Mk+1H8P+UGxr0yFFAIz4pFBd1H7LHUttUs2j+uDdB8IImm\n",
       "ewv+1aullWHsd2whvEMPr9yAw9h6wm7XitTxqzPrHn//0NQWIXgzIXOI0JiZWuPSl+tWkeP2tEOH\n",
       "/fsAAABoQZ/7RRUsO/8HhMh5sALb4GQGmXGGMPnG48MPfs4UYJTk2jd6SuiUdQm+Vjsf6edbeYG7\n",
       "Rd34WRbR0tP8D0rz3wznOW+fKhc57VQUx/e/ca3JcJotTPay2QcvbwfmlslAaoR9XEVy9OQAAABq\n",
       "AZ4adEN/CP924SABc0Lfra0cscV8PhvwqN3z3IVJlJ5nfn2RwykXbe+12V4sPoXfrgdFRKAcMP9A\n",
       "+TX7nGZSMU1HyJeqVEPslliBKcFGN8ldn7IH0WpntZbIOVvSPfGgj7Q6XCbQMpNqeQAAAGIBnhxq\n",
       "Q38Jwxj24gBK0Lfra0cscV8PhvwqPLycZGD0rajQjryxB2sMiEj2tiVxsSJ4eDukUOGAhA8QHguc\n",
       "HXYgMdexIXIK+NBmJUD6LUz2stkHK3pHvkgA+PXHTzFl8eVlnwAAAmJBmgFJqEFsmUwII//+tS5z\n",
       "Bv/pABWYqJFEGF8tMnQDgrOAzbA78+UDfrT3G+HP/8O6df995EwLXbAu2Gs2UkWz7I/DSv73hLnO\n",
       "OwKyGopRat3fauQCPybcpDFJkD/jxyu7rV4nN99WPEe7OABTODB0O6todjrsIbN0ABqlGjmgqdlX\n",
       "7fau//IaUQ4a6rXtcRlq+ckfheW8TKYigVTGG1fCaPmLeGoUpa+MPxcw8qRpwgTu/l5kCYzSCtm1\n",
       "23QHfIHnxCLTfuSqmRgo118nntw5DNCFrYjiJPiIE50/ru0dSoDdgd/Kg1t0BBDlHGaBmQhzwBJq\n",
       "HIAu0z8iVM5zAwIwAjm9Fk+GhJtzd2mc4cVWiuP6C3df9/6W31EG/YAzxGTkwcITHUmveJw/W2wB\n",
       "fQrXdvPphRo/gFNvUlpZDiAxPr9vEPwL/S1cPjm/zR+u3PVks4fCxKT8gSHitIC2hZu8QjX/ugm/\n",
       "LQq0Vs/+V7hSLnh+6nA0DQx7R7sfOS8SjHxY1WLa1NPpTRFwjJmFuj0BZatzBW36ReJa8Cbaa7HR\n",
       "yD0AiGO62rT3pCemsL4GYqCK7xs2noJ6cIszBzipdJvwDIK54SWmk2pg/V6bSDIGZvavI6tTZPhK\n",
       "ILG7faVeqZT9imlHkfIQhx5EsM84tB9OT7p1QsohTeNDKLpIUDapYbPJDOi4cvQylEsRY78RHnH+\n",
       "QPz1yTeiC1T3mTyJ78yU8Z1BRi1sLwNIdavWWB0/vu1Q7rlDWL7y3hTo+x1NQf6A+L9+lN6yn93V\n",
       "0hNysae21LoGbjgA4D+ZcsMD4Jlc3JSMAAAAh0GeP0UVLDv/B2VXUO6ACWUIlcYSXMw+7xIgS5f0\n",
       "1ZYOi9GsgqKzBKxQoAtG2FdS3AhwUhpaDAhD/DhlCBuSiyyErvmPqhfRrmVgt6XoYzHE0ZI5y5qH\n",
       "ZVJzihLqUHVS6kFwvDgf2ufQEFD0sQ27n2I099RXRJItPpoZ72lsjfH7f8UNzBmjYAAAAGwBnl50\n",
       "Q38I7Pth7dRAAufBooOPfXC0HvKZzI7gl00Y/bzr57SPNzUrv8vK8QYy09Ig2WQIbr8Bl+KJfcbt\n",
       "xgB5SsZDLgVg4dljnr0NV/RkMyfWCbUt6T31FdEki0+RaR74z/kNDk7Ahje9L4kAAABuAZ5AakN/\n",
       "CcMY9uIAStC362tHLHFfD4b8Kjy8nGRg9K9XS+7tPiApF8h6AsHU6Q78Xcl0kq6o5Z8eQgPBc4Ou\n",
       "wM3lOqH0XBrxO5dota+axiu5P5f855/ye+orokkWnyLSPfJP8mXWZXNoAxX7WkAAAALbQZpFSahB\n",
       "bJlMCCP//rUyIzfwj3vAAG2SVli20k/FP+FtGSwZsj63KJ7C7C90Yo4lkzAP/dEwyFZD6Xt6R2S4\n",
       "oAGumpLeVRCHuAMclztINoewJlacd/5oZRfBZRcfgeiWXY4g0oIa5iMu9RxJP4kBqoUVMnEahj5S\n",
       "/viNsziDof2Ix4ZZ89S9b/kT31Pri4aPg+AGyVj8NnjlCcK3I1wthlFsJuJSGQ9AiJmdZlKUQ2gq\n",
       "vGwq7NK4BuzW4WGqzP0LVuCZB/uDFg4qWQJFIsDii6BYW3MuEQAt5jfjF77ZQtXNU5cEAjBPelA3\n",
       "ow+GvYED1O41vP+UBpLZmYoOLPmKZ9mbH8KigAn8zTDC9t7i4tY7XUspcJ95JhJ1hfpu7EDwnKdE\n",
       "+tKGN/Mc4k1M+s4yCpT3JlYxRhLLksJ2n5kFCzG77u9Ze4vYJIhvk1DDJ5V+30b3Bj/fPoH7NOdi\n",
       "WieuMqZKWE0/xioJXmkiv4FomdkGRgWzs6nYkudeaDMY51uOyPrMR6FaOZd/eOI1EU2Qu9ZIhsO+\n",
       "tDyvNmgSUCfhi4DRfJ2gLmOjCRMNoqjhxLg9AmCA4lNKiGXwDkHSWJiFuk4E/XY1N6GSsXznTIV1\n",
       "XNFwYctiT3n7WNAVcDsdJKuEOgxlr3/9tyZ81nX1NToxE5HADhOgvpiSQ5T1xWYSsDdGCIDAEYAu\n",
       "HdF7s3ckvxC4J6899Hgtxom6JiVdulltv5dgSVCJOqUrXi7BZlS/v72ks8ZZ99qvM6zWcNl2smhX\n",
       "NQzdB4JcuQtrH8jRsLALNHavuQgu+Wq8cSAlKoRUnw/BwLC1GyHlLrG+OPcAo4AcDy33aR1btAt0\n",
       "rgcM74i7RL2wX6gkS6Ucu70a+mLAjhJRGZlh8y2gLXm3XeAdjKpDTsiQwVtfu/18AEKspbhgAUoL\n",
       "4yYN/CdWJtyazZ9IvKBjf6RILWefeaewDAB1uYb8BUweVQNzGsSL6vEAAABxQZ5jRRUsO/8I0xf/\n",
       "DohfbVkAGpoAzVRudDw1+elDYER6IJsg8rRgo4JEyRsFgmr2pDoqveWOURaWG2nz6myPDfR5yC0C\n",
       "8QZVefWOdwo8tf+np2gJJzOB8Rp2ORNFqZ7WWyDl7eD80tkngXRSZjAYWFIAAACBAZ6CdEN/CWtV\n",
       "fUnEAJZLpYD6YdlEc94pnMt/rYDKVKtxOUrXmTMOnTvzh2FvtX2hL4TlNjdXUtqZUK/xZkPJcV8X\n",
       "elRrZh5NSAmnuNRl5mRvQujK3JfQJ65gOnraFlqoA4KFx9/UeQKv+T31FdEki0+RaR75KFyzWeoR\n",
       "rSZNlWedAAAAcgGehGpDfwt7KNNvIyAFtQt+trRyxxXw+G/Co9WhuGi/b4t4fHlwLf0ESGPMaRQt\n",
       "9q+0JczdJDK38zghmt68HyOCl2IRWfvI4LeMUqsUCSPKxtAQNsS/l+ATORYh9FqZ7WWyDlb0j3xo\n",
       "FoX0OtdQHlW3RQAAAnhBmolJqEFsmUwII//+tS5ZgO0HpABELweHrM9Pu+8BLWBr7xkOoscA9M4l\n",
       "GGBkwdk7UdwxYKOOlLGv/wgQil4dVxDCPjoa4ke5J2lWrYuOQNkNAtIM3sk9zCPH8P52v0d9Rzph\n",
       "KVPMWhYarKrn0jUZ249BZZ4wVZVhz2PEiZ4NbBoARfIcJotdn6KuPEew+FJChQMV3PeTVNlfdNek\n",
       "Au1BOVRq5t96nmmqzL7Xw/X2pNFtOzvt8Z7aNCq9p/v1YkSTS+lbfz/NxMEH2vfb/emoKZtn1c8W\n",
       "2YPV8okMio+wUetHGJ9AK+3Q0BEqL4V+eu1Lj9RqnQJjj+JUfoP6opYQdx8R6zbCHvQ7D88/xrJ7\n",
       "tOzdAR7yrwk219MV2sHyRbr62IC0s6kWQL2CtWnNAPtuT7o5zJZZsA1ZpuxZ79FpbMld8beGKCIN\n",
       "quM0SMDA/qBCIXmCRIWN5xVVb+rqDp0/7RBeCDehnQqaksP8PVq15OhFUz+wx0IAN2lDUNHair8b\n",
       "dOdVcgaXs9sIG+yCHe1VhFjF73XJ+PK+4FwsxjAAraEP+q6DLQZpNv8CqnEWBZ6q+d7Dh3eiNhVY\n",
       "pE9mkJeO7JUWi0wavZDGQwWwHwtFhv+w8Ns4BryhagTLnHF4QaRFHLWouXtpOMm/BQ1UO0P2W43/\n",
       "Pc5CF/xbXN4ctaqsi0hJK1HxX9cemqj2V5CoTolCbSl2zmS7jdk+gpHL4hXjsLXPWqtG6211p/V/\n",
       "Hda2RTmTfMZj/FohyTSU+quiXTmIO822xKtC8op6cJ+ThdZong3SARdndq33edAYnt68sKYa/+Z2\n",
       "aLY6c9yOgBVqzVvMISHxBP0ReQAAAHhBnqdFFSw7/wcWnh896ADjNELzkeVK4c0PlDCIxk/xNIPa\n",
       "aNHMGMN4MJzRG7G4h9TKM636+87w4O6jyih8x9VH3w8ySSAzfPQB4L84H3l4xXaI7AlQRZx+TZnm\n",
       "hcGK0JuzyE0WpntZbIOXt4PzS2SHFwhDxeWkH48AAABoAZ7GdEN/CcDtHtxACVhZKd2mafP9zj5/\n",
       "M8MtUaDJyfYUf2U8wAvKn4u6liWolax6iAdbJ0l9Doq55gb2RL9FtsHmpYFmlIwNy6AYJ39jAtsE\n",
       "D6LUz2stkHK3pHvjP+hoScviZ6TMwKAAAABlAZ7IakN/CcMY9uIAStC362tHLHFfD4b8Kjxui6/j\n",
       "aVtSX49u4zC1hkSyc2Zc5ONGMNQgQEz0UEtIRywwqWdy+rzd1T8g+8jkg+piaXLak99RXRJItPkW\n",
       "ke+ShqVuBqWkwHVPtYwAAALGQZrNSahBbJlMCCP//rUuLZS7rf/LgCw/SssV3xkgoQOYwJpryzWg\n",
       "HPxODc0Zuug4NwB+9ePhmA14n7SVNpFdhlAZtJwPlS45VjTpjgEES7w3gw0ooBANoXMYHBow7vDH\n",
       "pXHt7BdNVAatsTsHBxecmjTKD/nZGFUoYTBba32fe84MWn+vNf7sve4veHzvP0X1/x5LBRMVv4Jt\n",
       "F2w1z4xcXq7+EP1GQynA8XCiXPO+90qqilAc1bsEi0tLkWXhbK4Q3gP5YoGtk3IsRs2pkD3xMy/C\n",
       "hMR4tAEVmJrgn7bEGoku0LJ3Lz74ipUI9wpWCPNY4qSQR/jfd89hix5ZCcJYfFZSyGw9sh2gUfAo\n",
       "eHWmdkMyhMgDTe4k5TClIQcg+e6NHbvw0h+c6ZYGOaqs7dpYADdorSOp9DGpgeY+I4SDuSMxnX5y\n",
       "HlMFecvH/We1mqyE/vJw3VsXahNL6fcQI4nW3ggkEMdxfFOxlYA2YbJ2/61TtatdPne4NK6d10BY\n",
       "Jvb4QMp074aaiuze2ROIu2vhZhMbzRWO9gUbHMIhW9u31CJgWtGu0qRmPXNA0j3oCOtrH+vQyzO1\n",
       "LdS7JEsRgDWQPeoDCF66zmeO8g2l5LDp2ylKU70vPoRBi8E/16Ep4HX9L2E08V/T1qIGgiJM9niF\n",
       "ykB7+B0DxXls0BCdtpyzyZhmBvF925n+U1M3+PBZaTLxWfl+5d0pvxVbQRIvyKgBcleMMqIVCZpZ\n",
       "nW3QGU6xzVj9OIWZs4HqUfCahgsnpG1NI1VIWl9bkpmPRP+Ea0Pber/8Mfvm6M2N2DP0t9OFHhHz\n",
       "mriuoFiWeqXKSL5tUL4+E2EsIlbWo9ruvlwZZjvYHeNi1AFopS3o9P3Us6wX2hJBaYVlMbOJdnbQ\n",
       "/0H5IcO6R+cCYD53QR51GVgcMAAjQTUuhrb0tBPHPCqMR3GyizN11KFvad0AAABzQZ7rRRUsO/8H\n",
       "gTM2H43ABq5mcsH+qTNh1oylZ0ZV4/sSZ8o0HiNBd+fpJSTqqFeogoO2Rh33wtS0Pgda5wuWQcc7\n",
       "iM5QlcJsrdh4y4gR/MLJBiK7KByuIHBUtnT31FdEkkQ6TQz328LE7Jew5Rruarj3YAAAAHMBnwp0\n",
       "Q38JuSd/biAEsl14ysUJiKge8pnMiESWcpOXJEcWAeOMQEPgczazCjtiT5kEYnpqEc+YVI2NCzNk\n",
       "tBRxLBTP+rXMeMeF4uFWCEIyd6GpC74s2c2h9ii38fRame1lsg5W9I98Z9Lz8s9B+FcufMDgAAAA\n",
       "jQGfDGpDfwnCjTtxAC1YD/Wa8Uvm/knb/f6Wd1M1GVzXjbwkbJiqAaN9vwMwqUV9FYfzenRvqOo2\n",
       "i3UhlNQPBSl5Jn+sZCfqG74eL4R2rlGZ/8057aEDj71nL6RB2sk8UBLXkuzPIMc1Lk7JKV1PWtDy\n",
       "Yz/THeKSe+orokkWnyLSPfGYi19tuByNmKhrtQAAAlhBmxFJqEFsmUwII//+tS5S6bq/lwBYLhmI\n",
       "qNe9H3Ayu3b+IBe8Br7CHHBPxSE+WUZYzJ53Y+lqvfvutxrTmliza10NAJabM6XPkiZCrM6mddaE\n",
       "03gB9cU9xv/BQCM6nEXVUeaIOceTOGTo9XEsCJxa+InYCGbP1U0lWghwl925zosDUrFfZxx2DEhG\n",
       "zvMn1dOA/le/0bLJ2q1uVFAdQkMgmFI4S0m8TnpNr58xTyFeTSzu2nbWlQ59WVszoAxzJ92TmkJV\n",
       "zA7IY+OG02xTK8LZ+/KJMjxJ7FAhhToxiFpaFVg7+y6QtNXrHx1yRNyE3M9g/gtnjQJ2jt/y/gLm\n",
       "dm/yF6zfFZjWzuBU1OIlX53qh9eGdnKw0BpUQW9s/chGbgl4WZsNurwY5uO2hvR5NzOT5LFi+10K\n",
       "YSvZhYptWuj5IoA0lqceTz8WIykwv7AZT9mUFerj15+I3IBPE/gTk3QzfM1w6rZgr7F6te5Sa+Lb\n",
       "6iAc/wbsholOyRhtMO+/4DbyTOwJXqFopUtTLx8gDjo9jsT0IBevSwiTWhpHkC3c5Ha6v+rtfcqk\n",
       "PdzsOlIFfwI3LWnafZH6A3wSxOew9gbRx1SzgyT82YTsB4QCSC4qPG1bl5sQf0PnElBADNlr+b45\n",
       "gUOIh3AZi2xCy5pkhN1uNEJrVXAUoujmHaEWdfaI0gZtU7/DyHbmbPPKQVvcR3G8x7ToIbXjz1PT\n",
       "/tfqO4VO6sCcoYEXDidDpgwQRFE/S/UD6V9X1+sCErpW2xNqmKF4q9pvw0XkPutxHxfhfYslEidi\n",
       "08uDY6EAAACHQZ8vRRUsO/8HhMh5sALdPxlLXGF2GLNOdyMLiJXr+gVreuoDvPXBZXVus+6NQWq/\n",
       "ANz42YqcEW0dLT/A9K898M5zlu/Q0PwpLDPZJORAWZiQcVuQ0PZOvL/S71HpiqLHJGOMrlVc5bKZ\n",
       "KueCKBRQTRame1ltJvpoZ77eFihmvt3xbcG3sdkxAAAAhQGfTnRDfwj/duEgAXNC362tHLHFfD4b\n",
       "8Kjd89yE9IiqpLL2joKOd3N2uPY991fdPsHhZevKtZA8IML50ZnJ7bHS8g5BZQlkMNs1/qVC+gb8\n",
       "7HGSU6Xi7RSwCM74so01OWmXu9JMhaR4hcFEO8X+SkZPqK6JJFp8i0j3xmPBmcFYvna2aOAAAABq\n",
       "AZ9QakN/CPfO3UQALoqmLUwAMgDTN6lmoVtOwD5k7O/pHoIs8hzbslykDGc6hgZWJ6x7CZjs05SU\n",
       "COwwdkUHJM/1jITMpo0bBJVLMMuw52gEK/5PfUV0SSLT5FpHvkg7oOyH/Vrec/TigAAAAhxBm1VJ\n",
       "qEFsmUwII//+tS5zBv/pABWrYd5j39DEgEApx6gNJ18IMyv/dJ/O+jrf/UvWMzN0Hv3pC6pHWAL3\n",
       "f1ZsTrgELIzIdbmuktLDXWgo2RoVpafZgnn4bfThqGgPm7TSWwvay8drqI+VrPFDaOeTfCaJfbPs\n",
       "xBTU6Yf3+oi/zWVwfM9HDnrHSautGmymayq1u6fQ3dJfRTvinskqF5hneMfAStNzZfZFvCMHz7vC\n",
       "QeRTbi2T0aa+PLZHhIzog06UToHfILHdFKj3Ttci+QkmoZca80+8AzG0AgsltXkYgrKb0bkOh3m9\n",
       "3OHIY+b+6ZXYYahOQhVJKdZIVmlJlhm90va2rPGo3tvmum0JvmoE/jq9vk5V7Jjs1jzH1bA9XxDc\n",
       "O4+jFGt62ZHpd2mMyrbGPMRkhCepjpW3x2YDyLZHiy4mWaLp6AaDPc7HUjw8LsZ2AyIisOPVfufY\n",
       "2W2FW+Zp9poKYE12PsIwY//cUdSv4V/ree/zbLTPS9Wsvy52m11YwqNgZl4ZPyBtsbFtbe9wTmYU\n",
       "gdtu3S7teAGgnTeBVZ21A5SMJn8jOneggmqjoXOLoV0Pqgtw92IvSbA5rmjjacCOYSGY6Ki4rcqi\n",
       "KLznwBuyHw5E15Xc2vRYuFRcXB/g1bbAQSRC1a8sV6rS6l8SxQ33tYMCmjC81Tu4ZqzrRyV/6Gx0\n",
       "HfX4V1UOm9eQ/uaM3auD5hu17CzdhL0AAACGQZ9zRRUsO/8HhMh5sALZ4hviPoAuA37wbuDqpODU\n",
       "z0RrIKizlCb1RPpdsP+e0xbNskO/EbLIuaOwk+DnSClT+B6W874biflu/0DLnE42vik7DoSkDBuJ\n",
       "af20+km7VrLoQtq2m/qtPi6D5RbW/DAvdPfUV0SSLT6aGe9pa/yCZCbACjEsWugAAAB4AZ+SdEN/\n",
       "CPfO3UQALpMGsgq8BI1rpfFM5JptyvvOAgAb286+e0jzc1K7/LyvEGMtPSINlkCG6/AZfiiX3G7P\n",
       "/AcuKmcBhvRZ1/HfEceSjZU482R4H0M3IZSrm2mzpqmdC0yMn1FdEki0+RaR74zMIPRKDM9NGNDC\n",
       "AAAAdQGflGpDfwnDGPbiAErQt+trRyxxXw+G/Co8vJxkYPSvV0vu7T4gKRfIegLB1OkO/F3JdJKu\n",
       "qOWfHkIDwXODrr/SseaWf5vGJLHBlkjnITFcfRaTzzSrX+lOD0IwcZF0fRame1lsg5W9I98Zbp9g\n",
       "gRpQ0AnZzwAAAcJBm5lJqEFsmUwII//+tTFD+6loA/70yZ9ccf/MzPutmXpSE2wIF5Lvs7xEUEwB\n",
       "ovYUk7evSKDLAInZX9NyL8jinVDS69VIlBK1L+vLG6uc/xkwOnw6J2ASTpiSbsfnWvhir2lVsv9e\n",
       "x8H7at+2uerGxzvN41sq/ht9fUqRp50Z0lM3OtYNnCOhU684VhIXjYIZt5Xas8Zwx9WdQtjf2MZW\n",
       "+5uiWGqyEqwCZ95kjTgBAW9IrmbXeDuWiLECO83U0E81spb/OTlym3K1raMU6kslhkeCski/GbIm\n",
       "/ue+J5AqzBBXx1iFrPoiB7EqXP75JhsU3Yilhm0d+dNpvwiBQASUrQpbbzcAflmnDc54kPnNXaqf\n",
       "fvPxsGJcA710Wi0IvEeo+iJcNbuC+AwUlGNFJESns+LZe04rGViQUUHKODheJ/cFaJxx55c9GyZr\n",
       "1L93ot3tj0L0NaCd8o5r2KNONhAlCuFIMepWHyceD3nXhw0LzfSQzMPlZRhgPi2l+tQeaLaSEn0s\n",
       "QdO1T3nGnpwkumQxxq0wmHaxc/FOOd7QYA4DKiqdp7qr4N/6G8lDHov3f4MDaRmte5c5rwzCgDh/\n",
       "SgrtjWAAAAB1QZ+3RRUsO/8I0xf/DohB+OP0f2wAZ/UGnOoJ8W3z6DOkdrurOG/4QGb6720av4/Z\n",
       "WsXmVGFqQAY/PqcCtTsx1Ls66GqNgI9mkHDp8Ekekbe3ZJ3KcD5/17AaYJF2n1JotTPay2Qcvbwf\n",
       "mlsAQMhvYi8KzUh9AAAAaQGf1nRDfwj/Up3EAJWhb9bWjljivh8N+FR5frSWAM5N4fHl0xoCYLvo\n",
       "XGjzRyCNbqXc0ILrQJjKAWU4KkwqXNxDklP51izq+zYq5OwzT5eZh8Ok99RXRJItPkWke+MzuD7M\n",
       "GWqDyY7zkQAAAHMBn9hqQ38LeyjTbyMgBbULfra0cscV8PhvwqPVnz6zMGcm8Pjy6Y0BMF30LjR5\n",
       "o5BGt1LuaEF1oExlALKcFSZEcFVvKqs/m4q201XqYVVqJIpvFXF/SF3jtYstenvqK6JJFp8i0j3y\n",
       "UPmzCgVJKbWzFtiAAAABuUGb3UmoQWyZTAgj//61LlmA7QekAFXsWwMk1G/dE9G5gG28Ne7YQAG2\n",
       "rDBxSjgeSvT8EDzZg8XFqQtlCHUa9bvfj/D8iJ17WBD+Eei1J7rIA3r9SmVsQikgEpvaJAARDOCp\n",
       "52EMHUCSxxhH5BjIxIZ1PODns3RnxwEasUBqw7kPUXjCWizVNRtwbdFM55uGeUsMGHm/vE7mXMTU\n",
       "/rl+BN80Det8wV1DZpb8eOG1nCA3OOmWz4oKhTehQmHU15uo21fNKTAOhb1ss58fsrRWmV8v6wr9\n",
       "Z0Tw/rbo8RnL9MEreFH/ULruHCzd2yP12V61QLfeyz5r8p21K/GvJYmz6MAcby7Whlw56/JHz1wP\n",
       "WcUamYRKvskEdo0u+ZvFyG71BTQe5Iw60KCnbBIRqwaM87kCDkbXLlEagOjua5PHBGNsonIeN8O5\n",
       "mur97U8uAYPWLef/NJXMRy6dgqSBdmdQRD2/79Aqyh+Nqty9wY9m8wmMoHa5LG5yC7qyfAvKdm40\n",
       "MNzkGbVVgbllYgtA2OP7Mr/VLV0ma5ke4wE1CCphJfeTA3c996bPJ9/9Cv6anZ2YvPcBvxNxcps0\n",
       "jQAAAGZBn/tFFSw7/we/+9ABdUob3PJbqHVjBHLVMzG7XP/pB3xDxbROM+7teNx7TC9c9Xb0CBVA\n",
       "mm6k6sApY/MfVJ18NHXxbv9AHCILUu9WLhss0SgXgpwEz3ecQmRScKv3vDbVkCKSYhwAAABZAZ4a\n",
       "dEN/CcDtHtxACV3PxqErGyHvunNbNORjqjQZOTmKkFkPLRVw/uSsKWJaiVrHqIB1snSX0Oirnl/+\n",
       "ZEv0W2wealYutVovD7fpmcqFSG92m0va+R370kEAAABUAZ4cakN/CcMY9uIAStC362tHLHFfD4b8\n",
       "Kjy8nGRg9K9XS/Ht3Efawx61bMAD5WltRPrQIKc9fExZy5YYVLOTsTJ35xzxIdMnorE6SmnutmmT\n",
       "FpUxAAACB0GaAUmoQWyZTAgj//61LlovV0wHwwAsP0rqmJ9Bk9ivpoTTXl3qASR5+x/2k5HFDlMV\n",
       "xLB2xZIW7KBc0lbvNJhQVf9oQvpBW2rTxKYlJseqK1juPAEA5O/f8PLFDRHP1HoJRVtZ25Tj6tVv\n",
       "JGS1zjU0l7XrfKoyaIeLt8A3uzDOOBeAzRqfXYked0amIqrExle2RRMaIWOYmNq1NIAJcYcrJcNg\n",
       "UjVMMliyPrk+0DQkmBEscKGfTLQ0pN5N37yRBN97FViozbPRSPp8J0M3Aec+8dE/m/94QIsq72H2\n",
       "JN6ZmxAYXUQDBfjgcbQMQ2gnr3X3hXEcPBNeoo7/M1ACffUQi2KXW3BaXXX3ogTwgzCUWfmdwOi9\n",
       "dev3a15OHY5OsLELQT5TusL2mbujQoTMGZ8PyMzETwZ02dsnsO67UxRX2y6Joh62BD3NVgOTs1w9\n",
       "F2oi33jlvF9daG7aaRsQ5RvlPoYsOl6ldM9xZtm4fn2h73tfN6jLnn2Co/P/swBVY+/nc/INS8zG\n",
       "FNPHtEWBsbHxbFj10sPHHU+KRUWdFbqw3/b+kvgNxY45GGo9igZC3OtR52J6Y5QEi54MpWBUImW3\n",
       "nefZP4FUJe+L6kNllObwlVRcE5VVmdGTLSzzdDAB+ews4ZuWAKrFu7Sn7lkPlUaVPc2L0TgXImW2\n",
       "KlebwLzbbLYN9LzCbAAAAGBBnj9FFSw7/weBMzYfpRAB9+Gs6FXTMG8ytLciaNnjgSGdRYBA82Vt\n",
       "wfLyDM0WatLmQdsjDvvhaloekPwUI/uRePU8a5IOFTyMe4tFyMHfAaCFwysdqGRBF6xpnju6skAA\n",
       "AABXAZ5edEN/Ccuf9uIAStC362tHLHFfD4b8KjxsZUG1JyeQvlEHAYWYKSPPR4fUO+CZYsScorbq\n",
       "rjEFgvLsykchA91Fgof8TQ96zOogKq7TYOp2UEPvK6t9AAAAZwGeQGpDfwnCjTtxAC1YD/a4K3+b\n",
       "93Zi/D6ckcjakfpurXQ5TBI2L55mjRmFSivorGNkZKN9R1G0W6kMpqB4KU3NGPx0uPNPeGXJzNUq\n",
       "Pm5qp7h835u4v7K82xjNgRMrlzjf1Dg8OEAAAAKNQZpFSahBbJlMCCP//rUuUwm2HpABWlwYzEsv\n",
       "Kk537VCyGlW0TmwcYBVoTH2tIAMkDIE6M+8vN9HZSayU6MjOR4eXGGti9CT9IAyUDIFvwrQdP0Er\n",
       "mAYqsMljvnz4palmK6wDMHWcRZA40X+Y72YKGb+FWlI2A/ijAT23ONjWbbDOIzJ4hvdmGa0SaFtd\n",
       "2UpypimiQlnX+bs5qvjHi0QAUHn5+2T1mD87Z/x+RUM0FgZWQo22cWqEp7pO5Xd1y4N6Tl8TxDm5\n",
       "UBLNyDTYkEX6CChxdAqVLkQevCuxPVYWjhISuWn2txWV7bYye+b+erJp4gL7vFnzx+qT5OmQgGX2\n",
       "DT39FMByEmJwesk73mAo3ckfHqm5+8JrKIB3To1G15YaUSBAsvit9zSjBsyr4BJQZdFP+xuY7ngB\n",
       "x4D2AbdOCcBIYhT3OnOu8ztxWAStcpz31xKvBXY4KWyi1vkkFzrpIMshwwJdIaHWJ6vVqNcto0uN\n",
       "Z/fTBOGFA3ttmr1ug+1y/FrpWWeJLFP9SsM7TMGeMY8QkXeJoYEpFkA6A2mTCj6wYIFky4ZsWZUY\n",
       "nN9WujjMVDOdIkQ91jG5cqGZLfE0pXvmduO3yeElk7Ta6VvV5f4Yvqe0T/ZAMvI8Qwk/P1awgHA3\n",
       "Ud5JgCE1lNk1QkpXwOwvMsE+MYFcHh1tKPh0X4tuw2c7nhMPybGIKYNPbddI28MZvuTTszgHbvKa\n",
       "yfxHT70bn5N7SIsD1t4sUENdfzfS4Mwr6QbWLTMerMKvQnYyb9PERfdXiHF87fu9j2g5YNg4nGQO\n",
       "wfmbTN6MLi/ePXDwBXLTeZNVsejTcGx6qJ81wAAlIn7UxZv/6+Njbx9SCKKPffc8Jc12H1/jRUkA\n",
       "AAB7QZ5jRRUsO/8HhMh5sALdQ4fmUdBbb5O83OAlev6AZqKHYDuu4dJavvTNvrDjqg9+Xn+xzA37\n",
       "oLT/A9K898M5zlvBMKfjXuZksIgANHpqh5hDwr/AXh7CrXbb8VSQ/gA80BIUVi9RWL0hTfZ98KEm\n",
       "eJ3s+Xd6UP1h7ICcAAAAdQGegnRDfwj/duEgAXNC362tHLHFfD4b8Kjd89yFSZSeZ36Icog4Mp2M\n",
       "Kdtp0F8HP/Lp4wANv2d1rxT9DCQcUc1B9qcGqQ2H2Qwan+D0xvkujGfD7VBXHc8JrhiKzmGurCHZ\n",
       "FvJjVlybm7gfejYvhupyqg2r/QAAAF4BnoRqQ38I987dRAAuiy4GkIsocxBoNFuZcPVussNnZ39I\n",
       "9BFniyuTJcpAxnOoYGUitMewmY7NOUk1Cr4eCmtzRkbcO5M1hE1jIbOoS4C+i2fzhKig26lzkvig\n",
       "z60dAAAB7kGaiUmoQWyZTAgj//61LnMG/+kAFas3V45Oq/ja5YBavcuzeraMKaL+1Qw00o6tjdW2\n",
       "Oxh0vNZ9O6IPAAhIM+JCzOIAO56UxIJnjKrDImPoj8bQNAyB7AEzq41O0nB+HSMXvOf7oFE57HWp\n",
       "gHFSggjI8Ty8dZeLiAHlfuPjP3d6/1IaZFhYuQ9pZm5OAQ81DfXI1EDfzXZUQCHDCZDjT8xlW3On\n",
       "Zl19bLWAeu9W95JFA3XW2+QdllobblKlu1EI1H2OrO30pEf8VohYBJ5+eXmvLgNkvj2JShpGWlSr\n",
       "unwQugrLWFKZ0xrYXQECA/beDWpmqzMc+fnN1nDgTWPhjHSUHdYwGNrTSOMbRw2+CgKrkaLnNN0H\n",
       "EIFXD0MpNu++3WclH+w8TECOVq0rDCjcPSyOkdpFYpl+ks2+DDC5oOvYVjdBohIB7FM1CXCdGtGO\n",
       "IUTnJoDuB7oU2IxwP9mYG01VMGCCJKJbyfDgBcbDkgJfUSy95xS5oNZgkDDIYaYx/aeF+0WNBvHX\n",
       "eVqGEQxlY1usMlpcjxbU12R4sy01vRSRhF7dnSxbwubme4ZsIh5S3jT2x4r8qaCDHufem9iJupLW\n",
       "WdChdKBZeDMxV2XeW6BVW3bOYAWE3XdH76nigKn8lLJEgH76enc9/f507em9AAAAj0Gep0UVLDv/\n",
       "B4TIebAC2ySDq8G5htwJiAbuBhI+BEHoi+MrQjfoUNvktEDAxjrDXcZmBitusTNSEKEnNdROWuSk\n",
       "/aX3gwyFGb4HpbzvhuKBICo47Mk7oGkON6E/MyNeDRVlt/AP8AlcrvTBEoAEOedWcKkpG9o7zFsK\n",
       "N8ht58ZbTU5nx0bo89CmXN6nT2otAAAAXgGexnRDfwj/duEgAXNC362tHLHFfD4b8Kjd89y3w6Z3\n",
       "6VvzEq0G7fvtZbQLUzNzDn1we25LlXdMgq12MDEo8TINGZH7x7qHruZi9rf6EYAShSehDm2qtjd2\n",
       "gYgds/wAAABUAZ7IakN/CcMY9uIAStC362tHLHFfD4b8Kjy8nGRg9K9XS+7tPiApF8h6AsHU6Q78\n",
       "Xcl0kq6o5Z8eQgPBc4Ouv/ljfrD7zxvfv5Tq17wFid22m8RsAAABYkGazUmoQWyZTAgj//61MU23\n",
       "WgBqklZYPftY5SJH/LOp9bj3dMtckYezz202FecYMUGCCnGOj4wGAOdh9GlTGSng0HP0rLNvPgUb\n",
       "G2Zsb59ZIWhumH1C6foP5Aa0lxp2q01cRJI2tapFcRPNXks/4gfGy6vGX2v0Jsw+/DBD2Zq4Rh5D\n",
       "36L0pL9EUT91zM3stM37lqFxB2+2MyFj1/fHreSG+9ZW9h9t63FRJQ6+7rQcfRd9XmwRsdruDUYX\n",
       "G1tSElZ7qb/eGc8YxnmLSS5jToG+2AJ9dptBQuipzWluo1YzC7cxXRTZaKme1xKyu6f58uFdBD/c\n",
       "tWoqLKrsYNBJVJsIDQLuNMbasgpnGIzUhRsMUp04xtHqia5EdZyIsEfpfYc7SDXug2wR4tBTNbkm\n",
       "DYCsvaa3iJbilx4YuUHsebtvkc1U7TOXjSXzn9K8TC4EodpweFQDAnKfYDBNORzbSjW26wAAAFZB\n",
       "nutFFSw7/wjTF/8OiE0uFLtgA0THq4uEX8gIy6FBkv2YElxK6r4RTpMW2+YKkmH+FfUIfqIqzSTf\n",
       "4h1MPhvwSRdnX0RmQhKp97PtFdCo+YZUsvzngAAAAFMBnwp0Q38Ja1V9ScQAliqttHH1iKgO8pnM\n",
       "t/rYDLhwW4nKVrzJmXP+Qvk7C32r7Ql0B9LG6uphhV19WC2YPLs9SvrjOnxFGi7qQV+HbbjRXjtn\n",
       "wAAAAFYBnwxqQ38LeyF4LWMgBbXeOEN9DX5/unNbNO1JwuAMJ/I385SteZMy7ZZLOHYW+1faEt6J\n",
       "GDObGMoBZTekygiUWFSFoCzLs9/ccG/2sD1WsUX6STiHgQAAAWlBmxFJqEFsmUwII//+tS5Zjlt9\n",
       "IAIk4lfw7w/2f1ALLtrLwS0ZEONvrxc6adWwvfd6MdrKtZqG+5BHxpUXaThpiKLlnYVGebdNtsqB\n",
       "6fs1VgyK6fYoQv4IMk4LbNAMGOEmhwfmz40Q45TTOzzw0rkxyoYCRmjvwDP4hgOKrw7HjDQ3f1rP\n",
       "fQiFm2PHSJs6VUus2zH9u6X0LLOm9ZX5p/wIg4WbfJ3bY4UJKKUCSY0u0R3YTOgJp5TcxpG0pzIi\n",
       "keI6b1J5umjNWOsqPdYC5Xbd5L5oZefVJrhseMRfkWVkcJ3yogn0PFnntEWY6w/L2wesrZO52hZd\n",
       "FAZ1+fiysNCIwTqjJbI84feh1kzgoo3aWArrm57rxygHw8PI+GGUmCefFME6mK/b5WQ9RUBlzJ96\n",
       "xM3kF0siK6BrvR+laXSSOoHHoxovikrzoSnncwhYQuu4kDHzlbF0t8EqQaeLvv58HIlYp+83lbzZ\n",
       "AAAAbUGfL0UVLDv/B7/70AF1Shvc6UjLCsPksTNqVMfwlmSjsD/MWYxmT92XajkSLAU/StaaJwdb\n",
       "oHajua0w8BF0MT/MfXF98KQ7cgKIfRXjYdvFwfyYCc07RaNIXiFd4+Mw5pOwKzVXh2SmJx0hmUEA\n",
       "AABaAZ9OdEN/CcDtHtxACV8dY1CU3dd77sYPTTkjfDww3kDPbZ4iw3NSu/yobTrn+tGmqbmauKX7\n",
       "/WTOlNOPDWrEpc0peSU/iaJAdK5Oh7mC2mk4M65AeLgEB8d2AAAATQGfUGpDfwnDGPbiAErQt+tr\n",
       "RyxxXw+G/Co8bouv42lbUaWmt3GYWsMiWaHqtnJxoxhqECAoeg1crBHLDCpZ3LiZt/WM41bX/rdU\n",
       "7+tzAAABrEGbVUmoQWyZTAgj//61Li2Uu63/y4AsP0rLFd8ZIKEDmMCaa8s1oBz8Tg3NGbroODa+\n",
       "ezkfDTAWwAIkqbSK7DKAza/tg5alP1jTpyRR1tt5O2NFQ5IA49WFCCGLSCkgxjlYvOj2gcvFxazT\n",
       "HiiHrXn4wEqJIMdhQVO03B5lO0yTjEaF7KqrDuVoBbCg3+HUht9tR/LuWEp49n4FzuxgulajMFQP\n",
       "0WHP6qC/+kBagf7tejF8jmvkEHwvaBP8aragtUZbJ27RbRPkpOySzFunRB4wzfyePoc/Q/OaHfSr\n",
       "hreQuD95XUukDUslA63FD7IBk1Zx8uFpcbh5/tjeTdTAG/+gYeiprSSrvCVi9wxmZ0AP3Cy7+MPo\n",
       "JeVxvaFJuHLCLZxTYvrOWNk9WGzWygm0shD9Vm0zjNPBHSuIUZHu13aEa+y4jFpmwSa+m9J2UufL\n",
       "XUv+MKe/X62nKq+a7XnhnHI/yGI+/NOn+xbAPKn1TWndatYVqj1VcysyH96dQHL6+fT1Osi4wrl0\n",
       "O3y3Dy1G9dKK1Y9WNCwGTgpJTD6Gaf3K/sVkKMoGTNiMNkbfAAAATUGfc0UVLDv/B4EzNh+NwAau\n",
       "ZnS7WYeDIPPkvbWh8qw7K7jNccFel0xc3TrOBPPLVyt9Gb4533wtS0Pgda5wuWCEC9vumt42rrp7\n",
       "go+AAAAAUgGfknRDfwm5Bb24gBKwsM6CiyT6LunNbNOSOSWf7t4GUeHxTvwzGH7Syy6DkTjhNTCT\n",
       "c6TOs0LWnt1pK+CU1XdsHnbA5Kj+c51Ugu1xs0r2c4AAAABhAZ+UakN/CQxLt1EADiz8WQVmf0a2\n",
       "AiUAFPCUNzj7ImMsFuTilqKDd7OWGfcA0VKK+isPqRFnKFDQj+zu/6GeMx5AFaFN6emGyV8MTPIQ\n",
       "s0ygoQn/PV4ilEevGte63iuDXQAAAlpBm5lJqEFsmUwII//+tS5EQ+kAESpLFcTNuv+dtBfsY/r+\n",
       "WSMNhnr0tEA33BP2bD2V/yQqoZjuHmk0s3AmFisC+3k4hfmHaFTJBUPdRvITgVFeiN5Zwm56qwX0\n",
       "0iaj2D/vVX6S8e7F886wYS3C/8GW7LJNaGaqxJHGDVN7hc736ZsIOq7iZMraZA/rago/DEVNksXi\n",
       "mlcrNGPDBgRuJFAtiWl6glWNb6tyOu7lcRQPsd/m8xtkz6m3RAFajvmoVZtOvHgqGyvbT+jnQZ2Z\n",
       "ZIw18FU+PwZFeszjPoepvr8sqXS7hBP1OpIzQlI0QlPpVdtPhf1zN/gQAfr2L16hM9zeHUkj9NyT\n",
       "I6FP7YgYhUO76aSTcFFJ3HT+elINB5uNI00eRqizjPLlVuGotUSs3kJcyX7jYxsOSxAIvRtjdtub\n",
       "XICE+mnqrMihDD+Z0quI8ihnD2MEkVrYLwagT8zhENIbIom4ZpqDLZ+fnWXnVo1YIqIvq54LBDwD\n",
       "fmOLYFqsGMo1NyBSQ3SPUHvkSsyke5E1H8/5ZeQ5/hqKZBYPMhpDAldNZGpmF+g7r/aGYvp+jR7l\n",
       "u0eAawk4xO45RQF94yj+kzfbO7tO6tGHWilboSY9uG66ZdrXhwr6U8+gc2LtSErAxudtYKXkEHCW\n",
       "084LARht8XfwsA6Q2yUU5PMZDjsdTgUuFXWazNlY3Vr1Mim7lvwU3RQsC+swAn0OvvnreHgfTnsP\n",
       "mpaijxd7CalUZP9h8HCnfoP93uMJzNS0W3U1OyJ2OG1te6jZNeEuR0v/+JiIUNZLqQr+Jl/GZgAA\n",
       "AK1Bn7dFFSw7/weEyHmwAtzU4W9ZcYYtMv1Q9UWic8GgaVOlnR6pbKbXOoEx+nank+7qw35u1EUW\n",
       "0dLT/A9K898M5zlu/Q0PdSslATeDXdUwHteU8djobWvIbSOdaOHfDJ9yLl8eq3u9K3nrQPdoODyV\n",
       "Ij80U4mQf+19IB81MMmz39rkMkAZmp3TdmNdm+MYBHA9YUxU82ZrEbSvhBwBg8aL7H+yc2nTOzBd\n",
       "SdadrwAAAGUBn9Z0Q38JwO0e3EAJW7v9rgrf5v3djB6aYKhoaeznaIncboLIh20MvD2lYUsS1ErW\n",
       "PUQHu45UoH9+LZvU3VxyT/2wao50rPX/T1W404OHzl0Xt0cbuq+XmSEvCkf/12LRRNNp9wAAAFYB\n",
       "n9hqQ38I987dRAAuiy45EbpKJ0zepZqFbTsA95OQ4IZMEWeLHUXDfSBjOdQwMpAhY9hMx2acpJqA\n",
       "YAnT8P5tudf9UCwUs6V6IiNLn7x1earOE32e4AAAAo1Bm91JqEFsmUwII//+tS5zBv/pAA3PQ2VZ\n",
       "SYWHvdcA9KrwM7qPJXcxlM++8YcbToYtue4VIL9qKZ0JRyh8+yimjdBA/S4ViF51qVYGn4P/EUZ3\n",
       "ao4quq6VY7odED/cl2o+7/n2lVZ+KyF5KKbKW9Y1utf1F5iII9lve4sEzGDKYD1v2GISF6Yjx8Wq\n",
       "aVO5KDC5lql93bUKaftd2zvIoWUKjgBWncBaeuyfQwcxQjcf163+KwU8SDdoVb8AxFjW4eHdpCWn\n",
       "2ZhTXyWdSvgbXkHqbwYdWtVmOPAU1HeV1eMqweC/mz5qsBBEWQ0yWeveNYPFU4li5ok1/Z8tDjdp\n",
       "FTDikuOoQAt6ZwX97hKUnxFUJvnLIA8fnxgrSClfTZephWtGrG++OUR4JCp7VYhgwhUNfuCcVL3w\n",
       "wcRh5v1nyzpBf2Jp2/XcXC5Pn9HkYQWa18Wv6E2P3awn0wloDdC1AB6f/YUQnn0gC4jgBbv8ild7\n",
       "VvqlC5H2GC6Fm4/bgBPC56A5NBd4vy7GDyRUWyeUaxERwKgPOsJ/Y+zqLcM+CpYBdNfmLjYnedNt\n",
       "Vvg9x7T/gol7ODQYzrztkXpARZmtZHrBA4IERhW3h7apc2/tGRm70CNmVqAZsnhXlwMcLCOEBgJv\n",
       "Z47leFF7oIREoXx4hLy2goS9Tz4AKUd4maWe/j6rV2iwwN784XSf1gSKof08hNJwvn/GsD0H6HBu\n",
       "O269lcvez8KFfuZMTqrjAfIETH/nxJR/q6AWE8+pWdQIX6MMs+LOwgEi6rG8im3E5R3LJ9a9jba/\n",
       "itecftO0B7c2kEpKBRdSCAkh+NFSNjzWJFs3JhCPHjiEQ3H6Y+N6QJNnGdHEiMXVD8Sz1Z/VUb8S\n",
       "MQAAAIRBn/tFFSw7/wdlV1DugAlfLil+QtVgXryo0j0JqO71+fStALo81Uwm7fVt/v+2DzBbG9Bi\n",
       "JrASdxiNrhjx7u8WL4j8kLw2buOuSCEETcF3y2hWP6w6vg/QN0DxM039SaTd5Yz/uaOYgGUdmjvE\n",
       "SVubwLnSY1xBmh0ppuwJX50TyR1XhygAAABuAZ4adEN/CcDtHtxACV3PxqErGyHvunNbNORjbPaE\n",
       "/Tu1SyUoxrmALDbcJzmPP/Lp4wi0r6a6qPxsGMyrIbvSQdSlgnljklP56lEgmGmfum/bw7RDl3Y5\n",
       "92CkSJsLm2XSFvVN19Z1pYMqcgvyy4EAAABeAZ4cakN/CcMY9uIAStC362tHLHFfD4b8Kjy8nGRh\n",
       "Olerpdno/hwFEhkAOkoWn/4bGu5ukjHW3ZxtfeVaCuDwUpeSA/nfbZCQ26cxWBzsEF/Kh57IfGE+\n",
       "KbFCUE4q8QAAAtlBmgFJqEFsmUwII//+tTFES/5oAoOrS5/inu9lcBAu6LVbl03o8L/AQL17562U\n",
       "aPAEFswpiBAkKpqd4YD+f44i4h/GteEnQXZtnmSvotCVa+xbJ149m3GFypRqF63iqpCZITj6Pxdg\n",
       "629RNwRDrBaNuA9afO0al2KN2PZpX1oRC6LzbBm5MHTplkhEggNB+cqnsPJBusf7g3HnXA86b5dd\n",
       "0VWxWjsQLoIikmt3OhXkL891hOQM097fXqpdXm54JFx/EopGGsO8UPvljZ5uX6i92fu/YzgDshcN\n",
       "3nBoExRYVUIikDD0gQOmxpuUCBBQbB1PkwjQb5XWJFNzToiZDlYk4HcsaKMAjX/YWA3o5h30blta\n",
       "ACTFoUzx7Upw5GmQHy7bl2/uW/IOi34UB1CstReXN6DbLJM8b81mBon1TSEpAb8NnUXEhMExUd/q\n",
       "7zdAqqpLBOm4qnx5k94Jo5+8thfXhr145mLTwSGmS1Y8bFtqgQigPMEYf1+OfH/GEMrY3gEg+T6f\n",
       "i9mHh7QAh3xZTslPSthFNYAr1Uw7OUAz93v7E7SmwpGWH2L5abiMwLeAzDUD+OJYdEPvOGGjEO3+\n",
       "D+Ic+qvb4JM7SFzpvD89x9COxKWofXhv1OfAoBI8E1FTT8TSfga6YrSrtllKuBGq264ySX3V2RvU\n",
       "LAc6qLn/BJlX+Ii15lKnS5OIy5/vJabVX2FTgxrmsIFskmedi3Jx7or/dDQLlm9rKNaMIft/lq8y\n",
       "9ate8fbWJ+5WsCy9KAM0ce15op0BDtucpTO8QUbYRO+OFeKws6ikuqAOoaHamu28I2OwmFTP6Yet\n",
       "BccOZZrPzsB3mR/xT9atRZ0tlbwWcpwk1cqWIgypJJ3X1sGlsjCXoDT33wHGECRTNb9o1XRcKdKN\n",
       "Oo4a7Kc9pZq+q3f/GN1kyEiRoQU3hNsoav0ClOA59cJMTB7neIn4kfy5ytxiu8PNrtioV8Udk8QA\n",
       "AABXQZ4/RRUsO/8I0xf/DohNLhS7YANEx6uaJt6CijOMSEkdZPmrmA4Ec32Z4536DLw+J8h4ZsWC\n",
       "Nxr5S/ZLCrNgIyVkwFoQYbUTM9f2YLz+PdMqkum+PX4QAAAAaQGeXnRDfwj/duEgAXNC362tHLHF\n",
       "fD4b8Kjy/VU8AZybw+PLpcslgXfQuNNCUnbZu6u5oQXWgTGUAspwVJhUuaavJKfz1Mk77Y19VKF4\n",
       "UaTDDM7XgDgP1CJvqXcrAE15R3qjViFI1t8SeQAAAGkBnkBqQ38LeyjTbyMgBbULfra0cscV8Phv\n",
       "wqPVnz6zMGcm8Pjy6XLJYF30LjTQlJ22buruaEF1oExlALKcFSZEcFVvKqs/nuxUiLg8ktqWJjXt\n",
       "Yi0BnzwUxlJH7OStR9Zj+h+oYqWnKVAAAAJHQZpFSahBbJlMCCP//rUuWYDtB6QANy8BQr+firFw\n",
       "CS3XZ2jsBfc+iOU0T7mS0JbO6ShJVm1DxNz0Bum8CzFSXniISfvTk2GiTXgZ1YiV4KHr+tBbOb/4\n",
       "nMqccaHU9xfAQej8TZQO+M7ypgsf//hRFvVMJyg8F5EsJ+KAAeBzYG3cpGRck+OAsGlflzCX9eCi\n",
       "tA2kmGduP6m7gYKRnerDOmfuiFn7HQmXjV1bmFEAX+IG9A3IWEBiI+WJkO3KGQDOFPvthx98wVWy\n",
       "g8sN5Rox6Aam1/04gB9tB8Mn9ojSbJsgn8IgrqARmLkHqI4D+UYYGoQByP1xNQGc5+m0WJdKvNwY\n",
       "QRPLYNkPYUD9HgE+HQaIFEKtSIDW+7gdJBHJxShs6f7CURNYVowanBVWh8IZdaz9YVPwyzzaMuQy\n",
       "UOiLW2A6cDu3+K0X4/q6VvVNA+fwAzz06VlyAJ1Tj2TUuzu4Bhqr7rRsJ3ZoL0JbB01iP+o/TkXw\n",
       "xt7U8APv02n6+j3BP8ghy+MOY869G+xXGvW5SxY7S47rgtKv+xGh3ZYDsAIgtTUjVMVBo1+RX5tr\n",
       "Bq+nvCzHz3XggjYzWKkXyjgZDG4ECeXVtibIMDgTg7NOwtLaXOHwT6puCqng3EjYYSsjQhhV9TtM\n",
       "3yAdKItoutO96BgyX+E86snNJblqU4EXcEDFasa8Q58uOyEmmOFm/28BZAFoVqPnFy/EkLWVOuDh\n",
       "qJoKE4DQcXl+K6Zj+iSiX0DY3IJ0KMTMl4xsKtgHbLhJOVui6cmfMQAAAHJBnmNFFSw7/wcWnh6G\n",
       "fMwzNKIAPjlrIwzu1p+srYZHbde704/xvSvgHglGRbS5LQxE1HDbk78++TN1D0fEwYLSzjYmBrky\n",
       "8+FMgNGublI7b0V+U3zsTVYQ+z5YqGeYtAg+ZCSOsozOF1me7ceQSBIFCAgAAABqAZ6CdEN/CP93\n",
       "D3AC3gu2VC29Fldr1ljnif9hS9R44NJXt0UvQ1NIg4Mp2L/IjJwF8HP/Lp4wJAekgTNEThDRPGYs\n",
       "jch+iwUNYVzH4Kz++ofnD00BcntQ3yWjA4iZZ1BL6VCDfwOJisVX4QAAAGEBnoRqQ38Jwxj24gBK\n",
       "0Lfra0cscV8PhvwqPG6Lr+NpW1GlprdxmFrDIlmh6rZycaMYahAgKHoNXKwRywwqWdy/1t/UKWr4\n",
       "X945JAwy+uSzRc4zRAGfGAiYPO/KJpxXUZ1xAAACHEGaiUmoQWyZTAgj//61Lll/Fthb6QARNEwz\n",
       "KCkz3lDo9QCSGK1l4hG7NqQe1kpG0mGjWFN9Z45dkne+w9HC3CuE0c5M8Fu22G+zaYhWESr18COp\n",
       "l5OQNzsDOB18TDKmusiYTl+oLgy3m7uu51th8D5APR3hCX5r/dwq90kWa7kxTYzpd8nFh7bABZgC\n",
       "eIYKlrPPx8dUNu4KqqdFEkqW/mG27PpugcImRXPCOQK58JMSdSNPzecSHNa6Uq72/NmB/N3d/Eu9\n",
       "Qe/Db2XIN+PtO6LllkBF4DIqfzwTgBlZuPAkTKCAWOYwA/AOXVInfp+No9/K6Ae3rGsaRiCXU0KU\n",
       "DsOLlNMcLtQ5QGYPkcTqbaNU01Kz5sMpKb72lrLfo5cb6QYBKp//L93de4Vg9v74YmqTkCxqHOar\n",
       "bVDA60SSUrVToi46rYYhbPGI7u+zItHpV+TVLGwpMRhDVjBEx7v3s8QingeD7AqUePxjmRXqt3/k\n",
       "iE/tkrgwEFqcDDr85XxRVu/bW2WVk35sEn89HBLodvs3JIGOa+hIF1HO6DdwzfLKkgDBLpal4a5t\n",
       "SG5NH0JRJNr6IC1vciMENQ9GH7q0YtlbzGWfc3n9oHunYDHXT0Orm1X+C23c1P2L6RtpvS4b7SIN\n",
       "lqXwrgWliiRy292GWhT6Ash+akxBpI4JfDuwq90DI2/nkeZPS6CjdzEp7D/lpy5DfyjAMI9HqXP3\n",
       "QQAAAGNBnqdFFSw7/weBMzYfpRAB9+Gs6FXTMG8v31QTyRXHLwQ3MWg6ISXMOjKoFrRKiKjGsjxO\n",
       "l6fz748/UPdG5EbFjy7aOQXjGVeY0To/hJlXEL4GPHs5w81bQKpg+hAZn2iIiZEAAABxAZ7GdEN/\n",
       "Cbknf24gBLFVbLCI08UtM3qWaZmqiDZOXzAWP3u/DMYv6Vw5CA4axMA8BoV37C15hUjYamddFbik\n",
       "UDymfxNI3wCxWHHDlwwuYoAf1T82RHqfjRaTUdkBkDZVlqaDkpqH/XQMqeAHq7MPgQwAAABmAZ7I\n",
       "akN/CcKNO3EALUqBm4PlMn0ZJjf3+lndTNMkNN1a6HKYJGw/PX0aMwqUV9FYwsjY6JqOo2izpjdG\n",
       "oHgpS8kz/R60ukVi14TAh8e5Pt3fVXdk1A5ifpKM9vDOUb0HCirJCuBDAAACAEGazUmoQWyZTAgj\n",
       "//61LlLpur+XAEYcxvaqeam7zRAPwC9rB2nlTVgdF+2eDbjyayxBggWgEylSmufZ6W7v7MTXcBae\n",
       "VgP/eaiLvzbhkAPlyS7vTtMRKYgl4moqvg2v7WF5Nr9+IWJ2DJw1mLW2qgFIE87g9X7i1Xf5S/AX\n",
       "1ZMiVTXB8JNEGw5C7+jnlC3oON4LxbdrMDoCRIfW1YdmHN99lCx8qYMoCZJ0d2pOA6/Zb9jwhzgw\n",
       "nw97VI1T6OQx6qiz1ZrNERiS/MfnC9r7zLoMvHaHCg5+eZ3bw9vrEkQkXWgJRdZxwn3P9nhB0Uve\n",
       "pqPVOCso/E7ZXSbbFare/Uo3b4M8mrdI8sWo+G8Odfb5xHTSN6rmZYpcTW05WPrVIBWepA+heNW1\n",
       "3o7JuLp8zm55+b5fhSZTL8593c5diqfINZEwATbNFNaOLC+2vPo2awLXXSKKN8T7bXqBWaeZDnM/\n",
       "Suxz/jWMPTygdXGFNPmxyJnuIH3mapqyEIdtJDR2IG1U97qAd0GmhG1UULZkzs0S8s/uiiLI67OH\n",
       "pDsDyKbmoEefqKsNKTyCLx2/GFBpcxpljOUAX+QH9E8uu6zDnJXNdaRW+L7VudRRV3nzfV3qKQwn\n",
       "SMyCll3BOmmpxxf9OsRKSZeo1kqqIzy6wp+1MdMveFHRK+Qm1kP11Oh5fUCJAAAAZ0Ge60UVLDv/\n",
       "B4LGu6ACWroBfYf9qEW72lhezABoxmcUhNZm7d2m7x0YFSKjzBMaBDcu4nUH8fCKzQ92ZP1QZQ3y\n",
       "WUUOkvoOUN5CkVJdG7cDVlSv867DZTyjCnbbf8K99JrqxEQIVxAAAABgAZ8KdEN/CP924SABc0Lf\n",
       "ra0cscV8PhvwqN3z3IT0iKqksvaOgo53c3a49j33V90+weFl68q1kDwgwvnRmcnpLBOhDkFlCWQw\n",
       "2zX+tydpp/qk4f6viplnarhU5DDj9ryAAAAAVgGfDGpDfwjzlOHEAJWFadgWizFeUJPomnOmGSLC\n",
       "G52JSQuAebD8cyKb6QMZzqGBissYHkvvb5UkgHd4yDsig5Jn+aCNQbGrMejt4TUfDeeAxqToLyMZ\n",
       "AAABkkGbEUmoQWyZTAgj//61LnMG8foBtoVpwATR1dMpkLbZz8ifaCX2xlaKVwIPEgoZ2s1VEqtQ\n",
       "KvuKDP2/8yR8cihkYnwEsyDB/JoqEBkPgiPekBqCYP4BPwU6JaMo3/cNIfelEFsIAiFBZ8VdyUkb\n",
       "ZU3Ha8O5AmAbGUOpGqNBQKkQAph/x01jQt6oI08E5siWTl7Wc5riW6UYeXDfmiGocLy1uWYMpFYg\n",
       "b7WDWKKhwo8y5MZvPrCzRA682wrzhFLQiBpSbSZZb4JqoUchjrnUD+IeLKeKZ/kSAfzsXaoB6u85\n",
       "Lvfda9J0jlABS9fpJpXCqcc6JFKmHuKMqkycJuQcLddzcxTBfLpd1yjfRXk/2QFPu/dApzraQbXS\n",
       "zCo2O1Mp7l3LDAjXLUdHmA6G52OTfadW1WZ7i1lu3rVd8bLy4cP+Sehuw/ATDdizOaq6ppPeqkgE\n",
       "ceiBOmnes2ksIp/yYD2bMLm5jmrpcw6hEH3M0DnyaYboAZySl9jXzpIL6Zz+afHjE3wiiRtOA3e3\n",
       "XamQk34tYwAAAF1Bny9FFSw7/wdlV1DugAllCJXF85xf8xSAtuZfaDC7d6+3qa5db56TM5wRlJ3H\n",
       "zdOB/yTTuyFR+OwzjYsrcleLF81wyF4bNlHXJBCCg/wFbSa2ggxNHJVPeN4JKaEAAABZAZ9OdEN/\n",
       "CPfO3UQALpMGsgq8BI1rpfFM5kS3pKWXKxxXpI+4NcwDYKhP7lKFlax6iYhlaHLwtIH4WZWXA/pI\n",
       "O1SwUnhyUP9czQX0jOxLdou6fTavd/W3xV4AAABOAZ9QakN/CcMY9uIAStC362tHLHFfD4b8Kjy8\n",
       "nGRg9K9XS+7uyIn2sMh6AsHU6Q78Xcl0kq6o5Z8eQgPBc4Ouv8TJ35PAQGjqV/zXm2ZgAAABqEGb\n",
       "VUmoQWyZTAgj//61MSzZloAapHVt3lrwObYpGYm6r75XUk761GhbLAHyae2Wq7AWSslPRF7VPpm+\n",
       "IlGOKnXlYqZhD0a9ZkHYHa2EgRFiSkkoZMBRP1itCy84cjcdTBBaat40Wmzu/rF+fdauehz/C8uR\n",
       "5NeJnGzFvQOm3diigMHZolJao75shFpi4mUWkuYf0kYAl6HIfEtEYcIHqwNIFBOPMKixzA8XiOIA\n",
       "Pgsf/hx8o29qjmCWmYifl6ojmGF6tKPp++RjkjSxQI29Clzb7j4DzXQhTijfXnZWsG4tFLSujw1g\n",
       "cxysyPFnEHAecHB0QE3x5ttb1hVqmFMcDr21mUiRE2s5Rs4ZZbnNKkf6yE8bVyWzFzRxRkC0Jxf+\n",
       "OxKGtkUjWFJFCD6MWoH/vD1lcoXHYyvL5ccI12H4pG8lz0jTTzLUS2W9f9DBy6MgZE0mbfaAdkeq\n",
       "wFQOiQoQOsMQmY1w7DSbv1qA4y25g/AhZ5f5YbOGmpnYpXbk3g4lsM1RwppxRucqiGcQ6PCcVE/7\n",
       "1LWB+vndyVAwcEvj4O5zJpROZzxhpp0AAAB4QZ9zRRUsO/8I0xf/DohNLhTFaADXQH8Xgf76mESN\n",
       "XuwwaQqB2YF5167RapAWEJo87S4BVq2zvQYjca+Uv0UwqzHe+3yLgQeDDwKjSg+G7O4aVEA2UDAa\n",
       "sXULjX1hAwrU2iYbbPFCztVdmutnCQ/YGZ/3EehyGyaUAAAATwGfknRDfwlrVX1JxACWKq2WERp4\n",
       "paZvUs1Cj2yLLhwW4nKUdDLcnCBj84dhb7V9oS6BEW/dXUwwq6+rC40Hl2eJln8+jQowT82v/HC9\n",
       "iOAAAABTAZ+UakN/C3so028jIAW1C362tHLHFfD4b8Kj1aG4aL9vi3h8eXAt/QRIY8xpFC32r7Ql\n",
       "zN0l9LONo/xjL14PkcFLsQis/ZFrX+6Xzmyb7w5n5X8AAAELQZuZSahBbJlMCCP//rUuWYDtB6QA\n",
       "LawLUAngeiqOAVgkQQhma974TPq+W3UrC/cA7fGTc3V0MyWWvnTDjtopCrqursSWmEaarFiTEF4c\n",
       "i7baBc/sp2UFkYCDblFGEhNyoo01omkNgAneb53WTpyxo0SFyBL+WqqPKiTAYDhDPP+SXp6IJMAU\n",
       "tKALZEhxsVUSLQCQpzBgUM91kzOskUKLERqRD49ve04DhavtzxaabLAEJzNwgOqVowu8HcQgNmKx\n",
       "jAGxgHM6Z3vdJNWuxge+JiYYyJFLFEiA/UCcqYBWiAztd+vOa2dqxNHHLJN04Fx50UceiIwQns8W\n",
       "Dluerme0StCaUSvoHgyG1K6AAAAAUEGft0UVLDv/B2Ntsd0AEs5Z5dOvOPyQmhEkR8FeONf7h0TG\n",
       "2DZ2Z53cTGmfNMpttOsne3ZiLBxwwYN/iPyKfDah73CPoQUHsbUd80EhReFDAAAAUgGf1nRDfwnA\n",
       "7R7cQAlYWSndpmnz/c4+fzPDLVGgycn2FIP0PLRVx2fi7qWJaiVrHqIB1snSX0OirnmBvZEv0W2w\n",
       "ealXklP56bWqPpoPASr4p8EAAABOAZ/YakN/CcMY9uIAStC362tHLHFfD4b8Kjxui6/jaVtSX49u\n",
       "4zC1hkSyc2Zc5ONGMNQgQEz0GrlYI5YYVLO5cTNv6SEpE9wu91uLHbMwAAABOkGb3UmoQWyZTAgj\n",
       "//61Lll/Fthb6QAN2BRjMDuwf3P9qASQwfVD3Gp3xBE2XH+NO4MM8aWR7cCPAO4JAqjVIKLQm97c\n",
       "dIaVVShs5mpOGMaAyAPQi4+2chbpPvVsBF7CCBduWWTPm+N9+ZIw8t4A5SK/sycZFXtwDCLIleSK\n",
       "3vumPyy4FIrBMnXAIX+dU54uLQz5TBZFaliAKk1F6m2d9ND5dgO+siN/aoJtkdBsLMtrfJVZr7P7\n",
       "IBj2Fwqate7RPK3CPSj2n16BmmCCRm+ZKN1ylMemIYUcF8s0QaFH5DBeVwRqoOwfOJ28GSs++jVX\n",
       "PlQemKmWyOEOqttDvGYeP7pMxt8QvtvOjoqP597ejvmSjJ6BwI1kOL70N/0+/7Z0m9y8adwvgwNr\n",
       "/33AYNUFYFrqT/mY98NnQ/dBAAAAV0Gf+0UVLDv/B4EzNh+lEAH34azpPliY0vo08KEOIT4BxvCU\n",
       "n8pVfGOECnfIUNv4cZsE5Q5Dd6fz748/UPdG5EbnYNDuuzX1myiTk09JtAWt51Q6pU5n7gAAAFEB\n",
       "nhp0Q38JyzP/KIAF0l14g5dReKWra1LNMmEllKTlyUEX3u/DMYP6V85CA4axMA8BoV4d0zj3gOVP\n",
       "bllFfCjiWCmf1842sBvv8awtMjpW63MAAABTAZ4cakN/CcKNO3EALVgP9rgrf5v3dmL8PpyRyNsy\n",
       "ua0t4SNmTsxUbza58XLHytLa9sjKgiPPBXGjefSE+Dsgg5Jn+khusroxtqHDpYiS6Sz8nGEAAAD1\n",
       "QZoBSahBbJlMCCH//qpc45WlX2AAWwj4mcD6FKUAbiCGkcRcXEJ70smUgkTtpopIst+4E2RrbSWK\n",
       "W/xPk4Qwh+Q7s9axBxWONo1mfRKbAOeFS8fCrjJc0m2dYs6wMVAmU3H6f4FE6Qr0z6Zw3ZVHZTYj\n",
       "62G5uGebVYXeWvWWm4+CyEP7Ly+q0lbl2z64uf6zy9tlhbgLk9NadIUe9mgCm3DPe2QoucibJOaL\n",
       "xAdUVTswRoYS/68JDqSS5TJKSlHAY/Uy3+dQriWg4IFOlggjo0iAPMViNYF8p/E3DeeikEyAoX5n\n",
       "0JngxFaSnLqjmRHXALqIW4AAAABcQZ4/RRUsO/8HhMh5sALdPxlLXGF2GMPnHe/JsJzwaBWt6hJU\n",
       "w+NXZdt4HmqA36M86+Nr1/ZLu8r7l3rP8R+br4atnqXJBCigxq5wa2ex3Hd5R/YNTa6DHJgdrUAA\n",
       "AABWAZ5edEN/CP924SABc0Lfra0cscV8PhvwqN3z3IVJlJ5nfn2RwykXbe+12V4sPoXfrgdFRKAc\n",
       "MP9AxBYMJBxSMU1HyJeqVEPshDicPacNaBikBCcb0H0AAABNAZ5AakN/CcKNO3EAJXc/GoSsbIe+\n",
       "6c1s05zNFCwNnzEpIXAPNf9ZZFN9IGM51DAwrzLFMwmOzTlIwfSZB2AwckB/J47BbzYQrenZEMAA\n",
       "AACbQZpFSahBbJlMCH///qmm4MYuwBGQqWtVgAhKTtgKmoyIw0ei5h19utxQJGnjZASwKbdctGsB\n",
       "IVe5jlp+9AX+8xzOBQVV73ecdpUaVM3LN6I7jIh3Se90DqvB6I39Um7qb0CA8yDXtHkCPx/BTsoJ\n",
       "ri9EkSCf415jMwmslTaHTkcQN+RC5Nb+7dbSLOROtbws4/5PFZV5N8Ml74EAAABdQZ5jRRUsO/8H\n",
       "hMh5sALZ4aq/K/rmssXZT14aJCg1K+MEYbtc/EY8+bgl5qAsdVH1MNouErNCtMzkVMWjlhy8ZnQi\n",
       "/FQIqsM/muGM/DZPA5Cz8s9O1xo4ZEfb7/OAAAAAVAGegnRDfwj3zt1EAC6S+xQcuoq1LVtall/G\n",
       "bkJ54U167A77dH3Brol/AEi2XhKlE/TIeD+s0C1vFSCMq/Pq/oH1p4apGtJSN1LSPacOaqZkWf9n\n",
       "uQAAAFIBnoRqQ38Jwxj24gBK0Lfra0cscV8PhvwqPLycZGD0r1dL7u0+ICkXyHoCwdTpDvxdyXSS\n",
       "rqjlnx5CA8Fzg66/xMnfmJuSLZMym5fqLwM+e/ZhAAAAW0Gah0moQWyZTBRMN//+p6J/EUUvAO80\n",
       "9wAXYBy/i5EUjU1fF672NYuCg709iYsu+kzh/YJIK5Kj8kXCQdCKQv+DDoCJt9sMUrlQJBSel+P8\n",
       "68InjqHOfWGcQt0AAABOAZ6makN/CcKNO3EAJWFkp3aZp8/3OPn8z2w4oWFPkb+cpWr9vHYT5nyh\n",
       "/uJXGxIndA8d9FmphhV1/FGDCuwkVRlH+PJr16K5R6Lv/skJAAAMjm1vb3YAAABsbXZoZAAAAAAA\n",
       "AAAAAAAAAAAAA+gAAE4gAAEAAAEAAAAAAAAAAAAAAAABAAAAAAAAAAAAAAAAAAAAAQAAAAAAAAAA\n",
       "AAAAAAAAQAAAAAAAAAAAAAAAAAAAAAAAAAAAAAAAAAAAAAAAAAIAAAu4dHJhawAAAFx0a2hkAAAA\n",
       "AwAAAAAAAAAAAAAAAQAAAAAAAE4gAAAAAAAAAAAAAAAAAAAAAAABAAAAAAAAAAAAAAAAAAAAAQAA\n",
       "AAAAAAAAAAAAAAAAQAAAAAGwAAABIAAAAAAAJGVkdHMAAAAcZWxzdAAAAAAAAAABAABOIAAACAAA\n",
       "AQAAAAALMG1kaWEAAAAgbWRoZAAAAAAAAAAAAAAAAAAAKAAAAyAAVcQAAAAAAC1oZGxyAAAAAAAA\n",
       "AAB2aWRlAAAAAAAAAAAAAAAAVmlkZW9IYW5kbGVyAAAACtttaW5mAAAAFHZtaGQAAAABAAAAAAAA\n",
       "AAAAAAAkZGluZgAAABxkcmVmAAAAAAAAAAEAAAAMdXJsIAAAAAEAAAqbc3RibAAAALNzdHNkAAAA\n",
       "AAAAAAEAAACjYXZjMQAAAAAAAAABAAAAAAAAAAAAAAAAAAAAAAGwASAASAAAAEgAAAAAAAAAAQAA\n",
       "AAAAAAAAAAAAAAAAAAAAAAAAAAAAAAAAAAAAAAAAABj//wAAADFhdmNDAWQAFf/hABhnZAAVrNlB\n",
       "sJaEAAADAAQAAAMAUDxYtlgBAAZo6+PLIsAAAAAcdXVpZGtoQPJfJE/FujmlG88DI/MAAAAAAAAA\n",
       "GHN0dHMAAAAAAAAAAQAAAMgAAAQAAAAAFHN0c3MAAAAAAAAAAQAAAAEAAAZQY3R0cwAAAAAAAADI\n",
       "AAAAAQAACAAAAAABAAAUAAAAAAEAAAgAAAAAAQAAAAAAAAABAAAEAAAAAAEAABQAAAAAAQAACAAA\n",
       "AAABAAAAAAAAAAEAAAQAAAAAAQAAFAAAAAABAAAIAAAAAAEAAAAAAAAAAQAABAAAAAABAAAUAAAA\n",
       "AAEAAAgAAAAAAQAAAAAAAAABAAAEAAAAAAEAABQAAAAAAQAACAAAAAABAAAAAAAAAAEAAAQAAAAA\n",
       "AQAAFAAAAAABAAAIAAAAAAEAAAAAAAAAAQAABAAAAAABAAAUAAAAAAEAAAgAAAAAAQAAAAAAAAAB\n",
       "AAAEAAAAAAEAABQAAAAAAQAACAAAAAABAAAAAAAAAAEAAAQAAAAAAQAACAAAAAABAAAUAAAAAAEA\n",
       "AAgAAAAAAQAAAAAAAAABAAAEAAAAAAEAABQAAAAAAQAACAAAAAABAAAAAAAAAAEAAAQAAAAAAQAA\n",
       "FAAAAAABAAAIAAAAAAEAAAAAAAAAAQAABAAAAAABAAAUAAAAAAEAAAgAAAAAAQAAAAAAAAABAAAE\n",
       "AAAAAAEAABQAAAAAAQAACAAAAAABAAAAAAAAAAEAAAQAAAAAAQAAFAAAAAABAAAIAAAAAAEAAAAA\n",
       "AAAAAQAABAAAAAABAAAUAAAAAAEAAAgAAAAAAQAAAAAAAAABAAAEAAAAAAEAABQAAAAAAQAACAAA\n",
       "AAABAAAAAAAAAAEAAAQAAAAAAQAAFAAAAAABAAAIAAAAAAEAAAAAAAAAAQAABAAAAAABAAAUAAAA\n",
       "AAEAAAgAAAAAAQAAAAAAAAABAAAEAAAAAAEAABQAAAAAAQAACAAAAAABAAAAAAAAAAEAAAQAAAAA\n",
       "AQAAFAAAAAABAAAIAAAAAAEAAAAAAAAAAQAABAAAAAABAAAUAAAAAAEAAAgAAAAAAQAAAAAAAAAB\n",
       "AAAEAAAAAAEAABQAAAAAAQAACAAAAAABAAAAAAAAAAEAAAQAAAAAAQAAFAAAAAABAAAIAAAAAAEA\n",
       "AAAAAAAAAQAABAAAAAABAAAUAAAAAAEAAAgAAAAAAQAAAAAAAAABAAAEAAAAAAEAABQAAAAAAQAA\n",
       "CAAAAAABAAAAAAAAAAEAAAQAAAAAAQAAFAAAAAABAAAIAAAAAAEAAAAAAAAAAQAABAAAAAABAAAU\n",
       "AAAAAAEAAAgAAAAAAQAAAAAAAAABAAAEAAAAAAEAABQAAAAAAQAACAAAAAABAAAAAAAAAAEAAAQA\n",
       "AAAAAQAAFAAAAAABAAAIAAAAAAEAAAAAAAAAAQAABAAAAAABAAAUAAAAAAEAAAgAAAAAAQAAAAAA\n",
       "AAABAAAEAAAAAAEAABQAAAAAAQAACAAAAAABAAAAAAAAAAEAAAQAAAAAAQAAFAAAAAABAAAIAAAA\n",
       "AAEAAAAAAAAAAQAABAAAAAABAAAUAAAAAAEAAAgAAAAAAQAAAAAAAAABAAAEAAAAAAEAABQAAAAA\n",
       "AQAACAAAAAABAAAAAAAAAAEAAAQAAAAAAQAAFAAAAAABAAAIAAAAAAEAAAAAAAAAAQAABAAAAAAB\n",
       "AAAUAAAAAAEAAAgAAAAAAQAAAAAAAAABAAAEAAAAAAEAABQAAAAAAQAACAAAAAABAAAAAAAAAAEA\n",
       "AAQAAAAAAQAAFAAAAAABAAAIAAAAAAEAAAAAAAAAAQAABAAAAAABAAAUAAAAAAEAAAgAAAAAAQAA\n",
       "AAAAAAABAAAEAAAAAAEAABQAAAAAAQAACAAAAAABAAAAAAAAAAEAAAQAAAAAAQAAFAAAAAABAAAI\n",
       "AAAAAAEAAAAAAAAAAQAABAAAAAABAAAUAAAAAAEAAAgAAAAAAQAAAAAAAAABAAAEAAAAAAEAABQA\n",
       "AAAAAQAACAAAAAABAAAAAAAAAAEAAAQAAAAAAQAAFAAAAAABAAAIAAAAAAEAAAAAAAAAAQAABAAA\n",
       "AAABAAAUAAAAAAEAAAgAAAAAAQAAAAAAAAABAAAEAAAAAAEAABQAAAAAAQAACAAAAAABAAAAAAAA\n",
       "AAEAAAQAAAAAAQAAFAAAAAABAAAIAAAAAAEAAAAAAAAAAQAABAAAAAABAAAUAAAAAAEAAAgAAAAA\n",
       "AQAAAAAAAAABAAAEAAAAAAEAABQAAAAAAQAACAAAAAABAAAAAAAAAAEAAAQAAAAAAQAADAAAAAAB\n",
       "AAAEAAAAABxzdHNjAAAAAAAAAAEAAAABAAAAyAAAAAEAAAM0c3RzegAAAAAAAAAAAAAAyAAAC4YA\n",
       "AAOZAAAArgAAAIcAAAB6AAACLAAAAHYAAACKAAAAbwAAAmEAAABzAAAAdQAAAIkAAAJZAAAAdwAA\n",
       "AHgAAACLAAACcwAAAG4AAACCAAAAcgAAAj4AAACdAAAAegAAAH8AAAHoAAAAZgAAAG8AAACDAAAC\n",
       "VQAAAIoAAACHAAAAewAAATwAAAKcAAAAfwAAAIMAAACIAAAClAAAAJEAAAB3AAAAfQAAAs8AAACA\n",
       "AAAAkQAAAG0AAAIEAAAAdAAAAHwAAABxAAABvQAAAJcAAAB4AAAAbQAAAgEAAACHAAAAjAAAAHIA\n",
       "AAKFAAAAlQAAAHkAAAByAAABygAAAHoAAAB5AAAAaQAAAkkAAACFAAAAiwAAAIcAAAJjAAAAnwAA\n",
       "AIAAAABzAAABnQAAAH4AAACFAAAAcQAAAdIAAABxAAAAbQAAAH0AAAFdAAAAeQAAAG4AAABuAAAB\n",
       "MQAAAGsAAABoAAAAcwAAAUwAAABsAAAAbgAAAGYAAAJmAAAAiwAAAHAAAAByAAAC3wAAAHUAAACF\n",
       "AAAAdgAAAnwAAAB8AAAAbAAAAGkAAALKAAAAdwAAAHcAAACRAAACXAAAAIsAAACJAAAAbgAAAiAA\n",
       "AACKAAAAfAAAAHkAAAHGAAAAeQAAAG0AAAB3AAABvQAAAGoAAABdAAAAWAAAAgsAAABkAAAAWwAA\n",
       "AGsAAAKRAAAAfwAAAHkAAABiAAAB8gAAAJMAAABiAAAAWAAAAWYAAABaAAAAVwAAAFoAAAFtAAAA\n",
       "cQAAAF4AAABRAAABsAAAAFEAAABWAAAAZQAAAl4AAACxAAAAaQAAAFoAAAKRAAAAiAAAAHIAAABi\n",
       "AAAC3QAAAFsAAABtAAAAbQAAAksAAAB2AAAAbgAAAGUAAAIgAAAAZwAAAHUAAABqAAACBAAAAGsA\n",
       "AABkAAAAWgAAAZYAAABhAAAAXQAAAFIAAAGsAAAAfAAAAFMAAABXAAABDwAAAFQAAABWAAAAUgAA\n",
       "AT4AAABbAAAAVQAAAFcAAAD5AAAAYAAAAFoAAABRAAAAnwAAAGEAAABYAAAAVgAAAF8AAABSAAAA\n",
       "FHN0Y28AAAAAAAAAAQAAACwAAABidWR0YQAAAFptZXRhAAAAAAAAACFoZGxyAAAAAAAAAABtZGly\n",
       "YXBwbAAAAAAAAAAAAAAAAC1pbHN0AAAAJal0b28AAAAdZGF0YQAAAAEAAAAATGF2ZjU2LjQwLjEw\n",
       "MQ==\n",
       "\">\n",
       "  Your browser does not support the video tag.\n",
       "</video>"
      ],
      "text/plain": [
       "<matplotlib.animation.FuncAnimation at 0x1fcaa5b1a90>"
      ]
     },
     "execution_count": 46,
     "metadata": {},
     "output_type": "execute_result"
    }
   ],
   "source": [
    "anim"
   ]
  },
  {
   "cell_type": "markdown",
   "metadata": {},
   "source": [
    "Alternatively we can save it as as a gif for example by calling:"
   ]
  },
  {
   "cell_type": "code",
   "execution_count": 30,
   "metadata": {
    "collapsed": true
   },
   "outputs": [],
   "source": [
    "anim.save(\"orbit_fractal.gif\", writer=\"imagemagick\", fps=30)"
   ]
  },
  {
   "cell_type": "markdown",
   "metadata": {},
   "source": [
    "The fps parameter specifies the number of frames per second, i.e. the speed of the animation. In order to save gifs like this you will need to have [ImageMagick](https://www.imagemagick.org/script/index.php) installed."
   ]
  },
  {
   "cell_type": "markdown",
   "metadata": {
    "slideshow": {
     "slide_type": "subslide"
    }
   },
   "source": [
    "## Example\n",
    "\n",
    "Let's create an animation of the function $f(x,t) = \\sin(\\pi t)\\sin(2\\pi x)$ for $x$ between 0 and 1 and $t$ also between 0 and 1."
   ]
  },
  {
   "cell_type": "markdown",
   "metadata": {
    "slideshow": {
     "slide_type": "subslide"
    }
   },
   "source": [
    "The first step is to create the first frame. We will first create the figure and axis as before and then plot the data for $t=0$."
   ]
  },
  {
   "cell_type": "code",
   "execution_count": 52,
   "metadata": {
    "collapsed": true
   },
   "outputs": [],
   "source": [
    "fig, ax = plt.subplots()\n",
    "ax.set_xlim(0, 1)\n",
    "ax.set_ylim(-1.1, 1.1)\n",
    "\n",
    "# plot data\n",
    "x = np.linspace(0,1)\n",
    "t = 0\n",
    "data_line, = ax.plot(x, np.sin(np.pi*x)*np.sin(2*np.pi*t))"
   ]
  },
  {
   "cell_type": "markdown",
   "metadata": {
    "slideshow": {
     "slide_type": "subslide"
    }
   },
   "source": [
    "The next step is to decide how we want to create each frame. We could precompute the data as before, or we could compute the data inside the `update_frame` function. We'll look at the second approach."
   ]
  },
  {
   "cell_type": "code",
   "execution_count": 53,
   "metadata": {
    "collapsed": true
   },
   "outputs": [],
   "source": [
    "def update_frame(t):\n",
    "    x = np.linspace(0,1)\n",
    "    data_line.set_data(x, np.sin(np.pi*x)*np.sin(2*np.pi*t))"
   ]
  },
  {
   "cell_type": "markdown",
   "metadata": {
    "slideshow": {
     "slide_type": "subslide"
    }
   },
   "source": [
    "The final step is to pass everything to the `FuncAnimation` function. The frame numbers will be the time values. We will generate 100 equally spaced values between 0 and 1 using the linspace command."
   ]
  },
  {
   "cell_type": "code",
   "execution_count": 54,
   "metadata": {
    "collapsed": false
   },
   "outputs": [
    {
     "data": {
      "text/html": [
       "<video width=\"432.0\" height=\"288.0\" controls autoplay loop>\n",
       "  <source type=\"video/mp4\" src=\"data:video/mp4;base64,AAAAHGZ0eXBNNFYgAAACAGlzb21pc28yYXZjMQAAAAhmcmVlAACQTW1kYXQAAAKuBgX//6rcRem9\n",
       "5tlIt5Ys2CDZI+7veDI2NCAtIGNvcmUgMTQ4IHIyNjM4IDc1OTkyMTAgLSBILjI2NC9NUEVHLTQg\n",
       "QVZDIGNvZGVjIC0gQ29weWxlZnQgMjAwMy0yMDE1IC0gaHR0cDovL3d3dy52aWRlb2xhbi5vcmcv\n",
       "eDI2NC5odG1sIC0gb3B0aW9uczogY2FiYWM9MSByZWY9MyBkZWJsb2NrPTE6MDowIGFuYWx5c2U9\n",
       "MHgzOjB4MTEzIG1lPWhleCBzdWJtZT03IHBzeT0xIHBzeV9yZD0xLjAwOjAuMDAgbWl4ZWRfcmVm\n",
       "PTEgbWVfcmFuZ2U9MTYgY2hyb21hX21lPTEgdHJlbGxpcz0xIDh4OGRjdD0xIGNxbT0wIGRlYWR6\n",
       "b25lPTIxLDExIGZhc3RfcHNraXA9MSBjaHJvbWFfcXBfb2Zmc2V0PS0yIHRocmVhZHM9OSBsb29r\n",
       "YWhlYWRfdGhyZWFkcz0xIHNsaWNlZF90aHJlYWRzPTAgbnI9MCBkZWNpbWF0ZT0xIGludGVybGFj\n",
       "ZWQ9MCBibHVyYXlfY29tcGF0PTAgY29uc3RyYWluZWRfaW50cmE9MCBiZnJhbWVzPTMgYl9weXJh\n",
       "bWlkPTIgYl9hZGFwdD0xIGJfYmlhcz0wIGRpcmVjdD0xIHdlaWdodGI9MSBvcGVuX2dvcD0wIHdl\n",
       "aWdodHA9MiBrZXlpbnQ9MjUwIGtleWludF9taW49MjAgc2NlbmVjdXQ9NDAgaW50cmFfcmVmcmVz\n",
       "aD0wIHJjX2xvb2thaGVhZD00MCByYz1jcmYgbWJ0cmVlPTEgY3JmPTIzLjAgcWNvbXA9MC42MCBx\n",
       "cG1pbj0wIHFwbWF4PTY5IHFwc3RlcD00IGlwX3JhdGlvPTEuNDAgYXE9MToxLjAwAIAAAAczZYiE\n",
       "ADf//vbw/gU2O5jQlxHN6J0zH78VuLo0N73OAAADAAA33OavHhF/f4gKB00SVM8Ln0Ac1zy7ucAA\n",
       "DsPvapSodbRxuk56EK7JlCtslPx/JVDINoybznb+fmkTWT/+yawrrlMPRnalQPbFwVfdUYAepCQU\n",
       "n0gNDvgueCla3ovy7367iT9sHffqPrE3Z8fMj4WeSBrFP/rv3v04u8NQhwdpkKF1VXDXAwlOdZ41\n",
       "Mkv2ArUwAABTiO4etPysytx8iw0O7O/t/lPegmBzvYUovEqeQLxXzOB6S3NlvEgUqOuNvUi3EceG\n",
       "8ofYsmY2weG74M3HWRMSCMQaaoBb20ST+6MJDx5Nh0RqbtCFabnuOwG3FRHu54iclIKZ/+C7SaiY\n",
       "Ykfu4c+tJJGc3QxtAwnTzHgR1/NeFbpI/3Mx0OJVhwtr/0J4m3Bv9GRuTjyNK5bbvbdTOSrAizQV\n",
       "4+RuVnXdTIzcE6AcimdjSQr+L8rUlDyN1fp3JhIP+9yYZ2ai3uJ4sI+SS1yGYMXnPZ/9bencwtQ7\n",
       "4gAABd0xqADehl6VJqyo8U+56TvmLaW8svZON48QHdRszbmRKKyz+bLG4f+3UIrmE9nX82aT9YW3\n",
       "BjqTKgva169dpdZb4KgnOZgqVo9sE5sgdGu8Kxd4SWZ7/xTRnC5609y17OwISqtXJB65gOn0PnvS\n",
       "rh94L/NwMS+CxH28oPh6Jf5ydjgJp809aklm2IiFrq9msHotgAACkAR4N5XHxTLeYk3i7F09MeKM\n",
       "7WPKnKlc0gCTrgCgxmoAuFkBBfhUnKNkisRdxiZ8e26fcskHayUPPLqTvcx8Eyp31ZxSesBF5QRn\n",
       "+nniXP3eBBkEZCFlGmUZUpwF80v1+tq2NM+96y0frNNZnDKmqlp52/yvRgplzRovxsxcBwembjw8\n",
       "56j1nrs4KDwbpTMkaAotD/TXf3fiwG+nCVjT3D9DRPj0vZIftAAAHwqSZpIh8udITEz2mN4e0k2P\n",
       "9BAAfUtSUm60kDpoyEAA3Xu4YqEDgRCTkj79kbCsAeQTWb0fZ2FUi8tmNa66SJ////cQbYSAPYP7\n",
       "sSQynrItCuuNnfI30/p3G9GqXQl+1Y3Y17mv+buokLSL239676bDbRgRLgIMEd2PsUzWRNyYJgiO\n",
       "Ohww9gJVBFFbYy3Bq9v6IXc9EwcXKGPtjE9D06EIMpQJAEgtfgxl+QCmcJKyAF9CV1sO2YzH1lIr\n",
       "DrYTdiaOv90YwjbZrNaIzkA8oV0u5cUqjrrK13BeC+BsPNyvB+x+3XGEoshfavm3Xazx5z6K0PDH\n",
       "jYdExgCuK6hbcgfVA/TEHVCvrieXxFMtJ7cdvJ+Yg1GU7Xu91w9exD4CDpH6tkiSSV19b93pNnB0\n",
       "SD9Bigf3eCmkYatz9vAcDB73Yht4zUZTfKyK+/21//ZCx2ff9mgsd0o8X1NeiCRQJ4ZuM/UWjwqf\n",
       "9R9ERzCmAbkBqzd/F848cHPY7TH/eNUAg39FArEbvF33hkqGQiYfew30uIR2Fw3Ng330s3nWSBRF\n",
       "tirwzyaX16PKIsHTdc8Jc/YnwY957+yrNSFQDeEjLWR3DTMVyjLPt2wFtJ9QVNSDpbxFkuKH5ABu\n",
       "zGLc9G7LIluHbzqT7XU+c0Du2I+z7W9FVXyLOfGRhbh9bTcxwNztQBBLOs/P3b1CIj7kIhA0ZsDy\n",
       "Y2fk42GCgUrEH0rw5Inxu2+8iW8QrNeEg6OQqJ9slOKJDo/kNGzqqsoQuXAMvpdOuak76X9Zw0WN\n",
       "90fhAdTKeKppIABswlGLYy4FvHkXoiWSU/B+NKNiZtALET4kbjJUc8DcTVUsgRtS60fnXZ/cTkOi\n",
       "gIrDgMnckSQKjBC8e69T5k5eoyBJuc6EcCsynSRfLSbk3FhTqSA6kr9Xd39Qn/teECsic6n0YJSi\n",
       "AU/N06sCy31cZ1CKDm6bO90ZZpnltzXFqJh6im/X73fQmyEzjQd6B4MFJqKl1nk0C66yBv9UpWyq\n",
       "G8ocJX5psBniQdEnw1H9RzBP/OTdOWPq2NI2M829HxK9sRYfYW6YF0sZ3E+VigS/cSLhCFM+w0+r\n",
       "kcZ760lRj3C6p6/TZ01Jj+46lSqkP+W7RqRZX9yBollB/ObPRwUcWfjcQKwIVBoTcRs0u+snszDd\n",
       "lthJx1xxr0u8JSeNNwA52vOQiL+b6MQ7DnRrtpBGumHuqky9ylrYfdxjBdVQMNunShgHYjlyWLq7\n",
       "Z8Bg4MmVTS5iMu7pB/pTNUg1Be32l7fRXP81D1CkFxQ1OrpKY5M1R1nGORsKjVGem1uBlludiL7q\n",
       "/PPbPzmU9e8t1Yvtvi4bwt0eYJAQrY8L0dKrx6q7Lzfk+nGfvdVtH6iKdasYpsWxIh/TPMgnZmNd\n",
       "/HI5fmz+bFsMEBGgOXnUh7/LRHpvMj91W6bYqozRfbWRoIfARG7CsGq+M7Zn5KpSDrqd/ICtDaWf\n",
       "g7kuWJ01DvAAAAMBv0AgoQAAAeJBmiFsQ3/+p4QkvZXAUO3qdX8meZD1BsmL5N1yvHvP1TWu9OkH\n",
       "wfsKxp2yAgJcSu0b5lJ28oqZDql5gHFf3hNcW0GO+wm+8u8x39dZv/7mYyAkh1fG/pRJOKdMk6PT\n",
       "2NrpbbHtwK9rEdSFkUlkXGhJryQQJfhK+3nK7oZEYvmeFR523qAPD+s5y9QJXMLQCAr+bIsBi0xQ\n",
       "Uo+aDnUgNbdA69GmJSNKAgEm/XnKm1wzqKk6VEqQ5Nk8igwzxUuyMPZjwb8RfFgy00Yv1JYnE8Dp\n",
       "KgIbfq0VVUDLyvHRIJ3J19Kf4iqfZo55I65OrP2frVY3CN9cjguR4cDRoO/lT+pIZUL/v0EgOT3E\n",
       "uqwz7wYWwKjRhFYrN7o5yYQKwQ7NrmCuQGshNqAmzTOqdtMnXuvpfyBIegbe/xH87VykjH7pcVfs\n",
       "tLuw1DIwHfsFFFgTKwg3hhupilGF4Ik55S6YAwal/BMkLO7+19ddwTwSXyDMW6lv95OJm4SmL0yr\n",
       "ovjiK8rpyJF4RPC2c7NvbtG54xW3fVB2ldcHAZ6rQ6M70bUSJ/eZi4PDPGbYtZanHbq9ZbHFvruu\n",
       "jkNDFCcWKKdVPCA2E7S/X7VMqzhJrXmvCMhAFaQ3GgXAkhAyj3Hh2u/t0jsTgAAAAhhBmkI8IZMp\n",
       "hDf//qeEAQ36XCyg/XkgGLaOOzhzEy/VJDIehUhkvEznfc+iHwwXBleTEBkuZtR6PF71IhYXLOFK\n",
       "RzRWGhYLd/DhFf1fAdn7EiUqyOrohpffUbt84NNodIgOHd/61ZTkCyqrqYmhEHGlfW+Jo3Em3z76\n",
       "j5cN/pTPPj+oa/XbD0r7t8z3fm3SiQT6S/E3JMfopqnFPee++XCteM2nWJTAAL5mViXGCzcsuheL\n",
       "3yfKsLz8QioAhlgNTX2dKLs2xkVxUen5Wpd/0rlHAnaQ6VeSVF3II3d47dk1ZY8nLX0guGors+q8\n",
       "YccHjjmhQhekt5zWyfkIH8X36V9mtd81WQ4QN6CO4L9w5G59wc67Hz7U4dk/cvR+n45YZtH8Ouin\n",
       "BKslBhaYsfZDc3XvW0+OsbpnFJzTXOZGY78144+0TX4eoHeVa6NXbaEi8Tv7DpA0WMrGRsG1uCmn\n",
       "lRC16j/jxNli3aos9IWTX0BUAArtrRsUQFQx25z/wRannJeA5uE2p99j3ryzIjX4k4DPwXJImtkX\n",
       "kmnjtELdlfH3R+a7XWz9LM+BjOxkbvSbmrVVEvQKY+g99krr401XdvwBXjJT9rQ5G3hSjqCDBRyj\n",
       "+mpam3+RHEK7ynM1BrDvkkg1oKekmHq3pSfR/HuTzn3a1wG4XGz8cuUXMwNO6rS3xuj8GGYvPNH6\n",
       "cFJp6WQLuv6oMJ2E9tiZ0QAAAadBmmNJ4Q8mUwIb//6nhAjy9+4ITsBLCp1/a2vcud47E0xW8/EE\n",
       "8DOLe9Td4xPhuMX8y1qa8aTVZvM9CsuzeRftYF49hPzbH5DGo3rItdDNoFVpBFwmF1YFE23ZbryS\n",
       "2oyihYxxm5dEzOdKCo057aWxv79W+FnKyOgbBIVVQQAFWhI5xeeWPmNWuunS5Eorc9/JEenUctpd\n",
       "2bwKHJKTH/zNgQaRbxQTSLyW2hk/uVxfd3o7ZkYOJ5iybutOzj3yrIwXi/G/+BrAL7B2R2LWZStV\n",
       "gLs5YQ2Rm+fYbFWk6Q/qvZ8plAJJJvaqPVgs0QgPCgLWBVByWc9wCfM3Ie7Mu9i0JSHlBvCGXH39\n",
       "mL0gIkebej71DE0dtp1SBqyvsEiukB+jYRSlIaWaY03PDcmaHZIG1kLmGi55xdleXrxhUPk3rysv\n",
       "efe6EAxEdcbrsdY/YYGSjwvdqWg3W1jylhQADG2Qz4gZzecru2BuSdUIpZC1ZOhL6dQ38LX2i4Za\n",
       "+9nMcG2qNnPK6V65d+oNeQabun1dxt9weK4M8hgIXSnpxLU2ZI7YwlT1aKAAAAGIQZqESeEPJlMC\n",
       "G//+p4QADOCh+IRlhsgDmQDv8Rl9NmrMJQvoKz2SYjSL72WSGgIylJ2HucVHKW/4I8/ayrXOzWA4\n",
       "L5tyy17LSfExu6KO1x+Xq+nmo1AX1x+RsYSKfN3kYmB2H8YyePUMPP0imKMUdpAapGcEBfLpBVOB\n",
       "xNu/2QY2/Pbo/fCeEISSeZIQIH6WOiBU26YpujKQ0ehXlsI/lB5ntYumuUFT+/tzTaSA/6gTh1Lf\n",
       "v0XDG2ER3/V3uwJ+zkPgrWwniHJBZ+VHjeg313D6YuRccfr5F4LjlCXpVWIW1h7vl4wdpxzQuCHf\n",
       "i6/JdC00HeRe1hikECy+tEjbZVW+NFoHYXoCnDlZQL892zRfxzmEYPiyMqDxAESxgMrtK3+e+AHb\n",
       "8WCqzgv2IiahaXxjEtWIa2TENyzcW5RNirZGzsA4YrBw+oi7i+RHDqOPUZEHjB42fK3bjN8x6Y3F\n",
       "VLTniRfnqz1sTe1Qo736kRG5r5lTlsobaawbZV1xlcco17blc9XYoSkAAAHLQZqlSeEPJlMCG//+\n",
       "p4QAF9hQQoIBVxLGZ+EkwUiSZx624FfYfvOQniYBoy5UZHH2cdnyOfdXtGMaI6zn+8HZ/kVm+RKa\n",
       "McHUMMldhjudofQemh0YkpF5FvgokHvAysO2SseWkAqy0oXCLkWC1dSBDvFHo3aqTEOL5vOR2fFO\n",
       "nYWRb40oyMXkgHllBItv5dr91jZxyuUypEmzwD9ewbvZkLEMPw/Ws8s4j7q6MA0dRKnBeFeWmFii\n",
       "WfHvOmf2uFGjgfjqZRzJF263XZx4lNSL+LBbQf7Du5JaCPOauxCHQPwZw3e7MjoRGmIOfCkYdmWk\n",
       "x55WdOFX6eawT9JHPYh8DfOd3SaXW8i3JBTIi5g9JKZ3BStz8eVr4DSI03PtnZsC3z/2ARPE+O+R\n",
       "lK8YxXKE8OAcgrWioV7pYSUKA9ss2RdhSMuDLjbSqDMf+2SIWXD9Lyg1lC5VvtqlUruwJmkxRuUx\n",
       "As2J0s4clopBECHsBpu395zan2EZNObGFAKML4HxoufZ5urgnKxFgS9L40fLrL9R8qonv+rWO7uv\n",
       "yhZ27PH1PseLmy87yeBQA+7eqtlkqejMmFyRfz+ptVYD68V4lYlH4miIJB8UkFpBAAABhUGaxknh\n",
       "DyZTAhv//qeEABide/A0L4pbku6tB7iIUS6rCq6tEEvf99qJxW3LdI6slcEV6O9r8PtmnXaJ/JXv\n",
       "PGTWDKWvykik+uwn2Vn692beZbPlu+9US3GZNfe9bSE63csKydUuTPxs77XA+2VqKtxqcD4jwyUK\n",
       "9ZPXlKyA8ETK5vHet/qwrm/eOLQjxz3R6fHW/zuEhoFmxD/cYdytstDJHl7mU1Qq13SW+hMM2Wrt\n",
       "PyjGNSwEf/u7QXdiecZbgeXbXAo4pS1M/doyDl87a7B+j+ltr9YJTz8AHMk5jZxRV5R/uKwwa8sB\n",
       "u0jX9g01AS55LNowW2M0HPQrX6hZEffW8sTHR8/GDieQ50zI0E+hNjtRzeaJ+WUpYZQ69o/H72K+\n",
       "hrNfzDS57oFQKI42LNffNJVuy53evWZ39/m/bSsf5acfiiLjH2iluBNogInpuot/Zwzgmv5UothZ\n",
       "gnghQleZ/yUqOZLvSE/OV4ugyAAtrARcLrsbtwAVwMCggi2jPbcCWRCJAAABm0Ga50nhDyZTAhv/\n",
       "/qeECe9pIBaxlAJnUjTUrKiszPtPkNpjwUrT39kQmxEpxn1keO9d6B2pV8yet6GmaZpYsptGdwn0\n",
       "eWO5f9luNQ8waZczjjyku96de2IPcGsPyALH7kYDRT7zn3ZcCBbSikJksEArfZ7TvEE+zwLM7Znm\n",
       "xVXMimHo/9P6P7l3pLZTb4NzeCaLzO17FT2TjbT2i9bOyoOD4R4EYdB88bqd+3EXUvwR75vBlCcv\n",
       "dZt3sq6VuVPtw3x+FX3lMmR1JBv5ygMiO7aP075vp0Zwhq+rMwRK74V5sEWWk1pUprord1k5Jeu4\n",
       "yurKWfMKW8Xow56xKwWjYugT9+Efyrez0sE788Aabdf7BAdu3cHKZW1kqFA8/mHNT2zXniJNAGXt\n",
       "d4yb11R4WePFmFBXOBCNIAP3Lkljayo36uZa0xUgjLvInx8VSokQiV+y77mQ/keH0agK7ABDytPL\n",
       "wRmAxXfwyaMyxYSD3yyL9FhRJ2OS7nfCfiMHQ0HD6sx6T4gvO3u+6dG2wYIsqqBsGdMav6pk4U1u\n",
       "EwAAAYRBmwhJ4Q8mUwIb//6nhAAujMlt/W32aUjFX8J//JgdJB4AVSCwr8lN/c5Ppaxu4M0J045/\n",
       "MYr8kViWB/cTPrB6xMAkl3rpfaJIoPKltcJR19vF/uvyjnmbAEGSq67kWrz+lJ3xUaPlkQ5z+dNF\n",
       "4zg/DHfzW9P/7Z0fnWW2j5nLYTqyDqmk1qsTqL3bxDCxyCi7aKVIbsm1B9wfZuWCB+kl2Ide4rI0\n",
       "mvUjo0EZ7PLTaMz5oJl2sop05CzZoTWfo1eE/ybALG7IUegfg4vlMFfn9lQV5YYO555Fl0RScUSC\n",
       "MUMbQUTvzWi6qTjyoG+yBIZAzS5BBSkslhhpZ9QK80gd0AX0BljPnaMGTNN5TO9Cic5AIivFvVo6\n",
       "2DOUgZRu0gkCXICauvQnN92D5sMy8C1q3kQxg/FiWv7XLMWSph3fotc6q6nKJQ+SaBjXuMMJ3egj\n",
       "CWl/CLdtIxAvfSM4Bsn02L6CvG33GVzkP4AAAAMDqFMqu8uiqr070iYmc90f9A0EUesdAAABoUGb\n",
       "KUnhDyZTAh3//qmWA5ulxMpHpgOeZPmD9avq5Wn2L8uKzUBzWl1R3pSTS/IFkZ1RligjugNmCWGt\n",
       "D9v6d4owg0ROQf/tprSg6qfeM/yWA5A89gg7EDurqrz5b39vW2kN8qiwlmd/BdSvxNVKiDzKO/AE\n",
       "D6MjwnsWweoNqTm3IAfqn9qqr147beDQTzjRbGf7HfYctf7F/sus7UxogKEOovieebFADa5H6yf5\n",
       "S4msRa0v0xE+U8Y2lvjt+hm2ncGaGPkkoVUwLcPrajhVkh/N4pMuZqsfCFO4uwEZpak8pjEm+8e6\n",
       "utvkDvBA/OWXG5rqP5/4mgWDBw8jk06nELG2OAHG/wTCchs2AQtHcbSpeKpyW3hadCh1AE08ZE6e\n",
       "9FAZMXtFkyM645MURe/yB+F1k0acs0JKwRj6M2ihpA1VwNImXqbZQ5Ot3/43/KuhtjpGcpcjyDoG\n",
       "ZtmA9wKmoBVCJ/A2YgKgzmkVZoSN0Xapql5Rlk3MS3ieKLSywAfTzqNLPyHoExTJz6QbWonB2RA9\n",
       "Y4Lq+QxB/OuRdNyvjMRnXgAAAdtBm0pJ4Q8mUwId//6plgAsm+j1lIDzJbsVD/JyOfhFqGhCPekJ\n",
       "qjwSkZqVhnQtg1OUhauNOBd0jz/oMBfteLCHXaNPNmazp55CMwjoerdjn+EnWvyX/W4FbN1P4tJX\n",
       "8Bmxjoh6qgT1DoyAl0ap5gZX/8vLIsZs/F61YvJa8angD7b214+G3BHGmhaEk7DjJCcRIsFYoCpM\n",
       "7A9TYs6Ro258fWvVt69UHjOJSYhPOjgZLmqznZmgo7SjwmQsSdTTjiX20AA8bXWOzej6nh388mZ9\n",
       "P9FLEpUY0ovw0NOlgaDVg0N9jHZcyFZkmNNRZOmHVm2hH9BJO6lMVERANKVjqyJ6b5s2nnEMjGO0\n",
       "EHM97RaMrNOOtTig8gVs3UYJYVbNIekXtOZ0gMiZ3aerWDoAGo0yQYuUkz5Jt6SWFIeP/Ze0i2Dq\n",
       "odK6kGaN0Eu8pCeg0QYMi0FTbr68/1lRtUcvmckWGkQ58pDNifo5MUW16eQxukVBihDlB3la9CW0\n",
       "I9v7rfXWzSbRaCECBeZP0yI6rHU9ePYAZymBMSGmS9cQ/nU5TfJ2lGA08YkeJ9yDDNZU3PQHEgn0\n",
       "vbIjdmpatqP3mtfmPmUMW1pMTZ3/JH5TC3WlyFfGfO46jZ45JrMfAAABx0Gba0nhDyZTAh///qmW\n",
       "AC7c2Cz4FWGtGEae3kfBI7EOF+VpgkAF9AhMqfEUUO+1uO+0czTKTU8XjC5aGmbpymPOc28uTAmP\n",
       "iQPNpz17qD/enU5hoXq7LQN/k54lNxelLBB71e/o1xeaSRIngpLQf5YOrPuOmk8ny1GbDWFbUmr7\n",
       "qAPqV+MgMz78VFsepD6IU2YYjZuDFac3UadMH4HFR2e5Vc1d1RYn0H/8e4mVDdZOCCeDEjod+ego\n",
       "H0MrcvZjhqrOYCpL/Yz/Uo+qtZ9JJMJr/dPp+7RPa1v6dmxqR1scB42Fz5iOV7UFacG7psTCmGJ3\n",
       "xwaYfifl3fofaWeMhVwqViYlzUAhuyA43Lr3Zc49kuWBrGEdNNZzaizmtaho8PmICvNsqqZdL5yl\n",
       "YD2/L709WR3SYXeXi+M0EElvBL4tmQM6VsoMObjoQZ2TWdEATawuLSQkTX+oy8z+v6bvIrxYoW9a\n",
       "pmfWnrQG4ywuJCoaV37fxGAc/SLGGNvWcX8vMjHDcg3nivSrRirlVHbmh4t+kVQAFbNBN21FpOEg\n",
       "I7p8WwkvFog1KJI5zLb504Gt0RhxtdWKS/HwDg3FgiYiASQfCdUfaFWcAAAE+kGbj0nhDyZTAh//\n",
       "/qmWAqPNCgLkAAaPXm9hN79wSTKMUJN+wuKXbqHmgNKWCS0pVMJ21Vvy9iFvWrh1/cYgcyCdANiT\n",
       "uEr/ZLAcmEPZfUpe23SOhTLximB6+z4YfxJTTadwv3xNzvWprhjmo8U/9Mc4o5ERLf2l5nfUu7id\n",
       "UCpptEPkImig0frYyKBJSkVGgayJZLtsYv7pJfJEsggXamD99um7p+7RqOFiYU/p8SWK3Vt5j9oN\n",
       "Projm7XgoQtaHBp1BoYLkDWKPLdXDp1uLq3PgEXUQO0htXwxvXFxoI4j30mMb4t7wTfwVj0N1FvV\n",
       "9IdzEA7eJhkINu+owbviipKmiadHVgA9E2lABH5CFH4oDz/JeRkrh+NNkwTZ78YvFwox6lwowLrj\n",
       "o+pC395U9QyS3Iv2IGUzwHlz14vlh9D/O2m/8C4n+fqFjjOtAXgE4txyHyUufcClyf24UVnZzsHi\n",
       "FKbWYFlNzvejYSczCCik/r6iJWawPXPdm0P/7IttWEhybWZ2867Xh6nYodiJRyzChjDrJGDLZhRP\n",
       "1bDM/PjXPwDUwGMqI5HbIQY21PsZS5JRlvW+ez8NdX/CBbjRqMW+6919wi0BWDb3vj5rTHNUPzGY\n",
       "QvswNtwFGCcm9/m24Nh2nexnIeBQuUOvGO9A8RnWS2aBJEETEbCY1IacQnDhngmmUPI2M905pUYw\n",
       "JTvMmD9h26H/Nz6k9we/Y1O9iT98n1FmUezwebONihoz7IXz05hRabiX5pwss1YqR+wDShr2vkQZ\n",
       "wD6h2XL/XpHfDLcypKjdAPJrCubtXVScp8G9jDAm1Dd27RgOMrU/64YbyZwONrdyYGxLDIUuEreO\n",
       "TZI/A2Gfqj+Zj0rhUEHlcPlSP9hweVN8jUmhM/BABPLWyl/INpfO7OW2Kv8nTerLBathV2D0U3Ul\n",
       "lg2pHMi6aCU6thwrttF+Z+2WfcXfhS5XCt7mfzSi6fZL3BLNgg+8fpDqkifMlOzTyzVlallQf7IU\n",
       "rU4/m87QiQZah1OWGRAEs7GaBGMQa7pKrDirgGqKFMnCKhzkOJphS/c5Uj4uIHPC56h826ZMOjkA\n",
       "h7YyvonFSkGP8JbotNWDorva7fUmxFaRnsTVBnpBGmac8RCnWmPHPSCTqcCGhh/SL3PG7nhuU3GL\n",
       "0wpClURBsdfZ4itiX1MN7iMb1IBvjWbjMTuf571IsBnpL1Rxx3/ZbFzFcI4ck8eErpDodKVrIbTj\n",
       "eSqi1gzClg1m7E23m0Fh70O1F+1TJP3kX+q+UpjGyQdifGUR7Vi7kIszwJB+CQGmE7wakWrqub0x\n",
       "3zAZhmvopRBgIR8nQ0dwTgWHOFGSSrn0j7DlDcCGJpeWgl+gVa3ijAUeaBL8ehKrPkT4t1Qpibkj\n",
       "+PReWiwSS+VJ7xeDtZkylMosFg9p3EIrcBGdXOlQarD88suPRU2AlwxTkLFKHyd6u77NKE66eEy+\n",
       "1USYg9Xz1YDCyb0df5pK4MadXGmEFfbL0NZKRTKwNWw1rCTzsKZ2VI/Uu16qv+XIZCKwjonviXI1\n",
       "TbJMFxQxpk+X97Wnobqjb8kj4JYduSDDQLgWjdwswwWa/Korp6XSQtLGGk7arElaz/l7SXMSL/Ch\n",
       "6aIPLHLTs2VZCjYCQxXEq8lAJCLTm1IGDq88f36fjMaekgAXUzrGmNC9vYsFbdOu4QcB0/XwfMUq\n",
       "DgrXJgZi/I+AAAABJUGfrUURPDP/ART4yMQXjt/qSPPnTDoxMcThHSVnB5AwN3QvUq0z5ZACpALq\n",
       "VIitfP7nZ7/BGdCfL57k+jkh8LU4jMZSK9lIkg2hv9uZeSUBgKJ58ZgP1Y3xg2+8o98Wc6hPP2ks\n",
       "Dc7JcZCYMujES9BCrqpwlrNvPcyaLhsIR0zaNs05whsF99Vcd2UdAMJSGODDJcOv6dPzmdGeaEUp\n",
       "qUb7YSOz7gWcoNYNVghI5A4OHDIdbS2YnC4KeLKVTj3kVGZtDnQ31+2lb5Ng37kCEUrJ2NRe9L24\n",
       "DbEfjxcuiZu5Flgaj9JICebHXAXV5BHA68BKTl6epURsXPIZIkPrn4glwl4aoyx9W/fK2Paj9vUU\n",
       "ZtoTGc76snszQ9o8ojUhLuFPsU6vAAAAtgGfzHRCvwCO+KXmeCL27eWgCr5lPXCbSoAW6F08edu5\n",
       "IgF6muX/8mgrWcshA/YRaloUqj7x+QKlXF6xapb0HCzK78PTn6V106pQ/2M9lr0hSs7YiNmZXHhS\n",
       "Zd6YPflynecCCzwFraJjIlk/bXGoV+7RYY6hrNnOAQLd/5ZH9Gbedvf6z3HMq4HWKqxpBgOgLW0H\n",
       "jAKO0K8KmZM4IObla2t58kWO0od8qW6AiM1YUWdP7ciCWYFlAAAAjgGfzmpCvwCS65/i8VfDTwAS\n",
       "sWJLo83l+0Mq9SjARRnzRlNErfSIX7+qok4IsREPsKXLegGwqTSdwo3UZEdV3WKc1JQF6/Bh275s\n",
       "+ZGd/MFttkaeaiqpYa6alYDflxDVOBNqaXvVUpkwub1RBOTTBQUXHeA/KILOyVYWz8oQsmLVwDks\n",
       "p+dN0gv1rB75A/0AAANlQZvTSahBaJlMCH///qmWALZY7OPzhGigA4U5SMa4gvU4wPjxa76exCdP\n",
       "E1oM9vhPZEJjzEsSCPDYobpOxeDzYjT+rQyeQWUQB0DZhxHYm1TEgonXoH2gGTtgU052vXMiTBai\n",
       "wpaqO1ALb8rlnH3abSp0PJMRYvS+hALy4p2VmGIc3LExCZUENpIBLQI4Bdl/kUM+on4pvd/Yyzge\n",
       "L3+dA7dVf8WqiRj/BT/IABuB0wimkUyQ8X0xvAGRR4o8wwO1fzb6t0Fn/X6PkkqCnBz5tmH0B1y3\n",
       "IKQOeYILzJN+iVj+YW4YaWlSxB1M3K+XDqJ5eQooq1XKG7mq9U2BXWdZVPJrelxT/2NAGAGndkYv\n",
       "FGrT2IUdEZgOu0cZlSg1DaDjwesChKKvsfHHh5pe9os2GXT9QTkGxoL2JUSahSh4M0d3V5snNR/U\n",
       "1L1oBX7fNWt1Ky5/G/KrEKgrggRIkBEC4YmJeWqiUaNY53jX7qu62YA5Ru/8f4jEihjTnIHYzngM\n",
       "JWS2reZH2sndmdQZ/8keKsiNuEJzS1e7Jezm71kzxSY5pKf2VHu6aNTGt8wMvYMsJnkKzhb67D8g\n",
       "XkC7ER3e3n1RIJmcncMHUxdaGSbGdKNl6PAcA3Zty0pehXAswBxUrTOATW+uS+rqtocnuloP+sjk\n",
       "lIhZNr1OOGGlEbtdDND3d7SXQZlskmC3/ZIlg+PonHt9AnFZUbOC8z7C4TGa2pi6P4Kppt7Ug/2d\n",
       "ORsuIrfGsgABGV+Hz7NAKDm9a4C6dxIH0RGCprXIOsbzk3likkUSOecLFFRjF2PD6efMlEjXi6hA\n",
       "gudRtk82OpDEj1GfLrYdbmDMOGjIUg0nP7armzDAtTvarVgfRKp+w2OSBDLQgw8T37ntwEBpXp0A\n",
       "FI0HVlilz0FcFp8HgpWwqSClGrOhFiCC/0dhXr8puuz+P235CR18dD+iLlfzMioNHKK/xbjrSSHK\n",
       "WjYis8bRalJDKapav+eriyAs2+5AY2Fupy1n/QNpCPbif9ggXYWVENyV9HGXUzu9eVi2BRwADWU7\n",
       "XryQsmHIQVFMLz8PlpNZm+sUZJ6KTyTpSe6iv4Mc+JNsvySl7OpQv+VO1T6+azNdkaNFABVg7uQY\n",
       "JVknqPe5he/FB+X+QrgfgNEhQTKY7KUYNyvcNqEAAAD9QZ/xRREsM/8Amm++CF9I/x7js74q7v0W\n",
       "F1MZjx1RsI+aObJFNnW1PeYOzPTACxY9FVjegFk8iNc9BV8s0EoNesDHrLZXWVdJYqwLX3HCf0wv\n",
       "WBzhzahnEwdLqZBqou3QOhrMyPKCDaEjX6MUQvLOXHvDSP5LH6Iep2W6nRMTHMzGO+HsSo3VNL0w\n",
       "kpt7DQkE4E37Rk48amnfWd1rq1RLbocQW0zH7/2oacHGvgd4WKxnklHiyMLbasT7PoiIX2soPZbi\n",
       "JoFj9VhNmoGycMAUmuIk0UozpoWvrzmYjxVEQBFLLxu+d+vKAmoP419LKyy3HYG1YXQAhjTf8lgV\n",
       "UAAAAJcBnhB0Qr8BHnRNpVJFAt35QeTsotoP5xe/ABcmhwu+r4lEF8HaXtFfbamiDXIXYuPNgjnH\n",
       "oDXGRHQWfJGTGjom4JTEb/qTMq6tVaYPssrg7lvbWi/3jVazeaDhQAJeZ2unEZ+rKiZc/v131ABy\n",
       "qDgoSZRiEqpDbxR7Ko4ZtNgwMa6/ja9T1wLgi00P8YGvJXJEKuh9cC/hAAAApAGeEmpCvwEe12wM\n",
       "fDHgDl+SJcGnXGU21YSi8kzOj4eM3YcXBZd9T5/MwtAxOS1rWxWUVVfPi4iOObRqZawCV4McuVGQ\n",
       "86dQVLgVEXInm/rjqxxD+TlX1FnhrYtgNboW/39bop3x2Iz0LUphn0E0EAr50RYCp38K15vrVgVj\n",
       "Sw0q3oAAkj+9QcYkXep1dLdcZwD+JyM9/1hl/DbfYtjPQ8uuNA+YAAACBUGaF0moQWyZTAh///6p\n",
       "lgDCuzheNkEym8NbHKg7HaRkbtdr+paQAWctiY+SZdJYT3FRpuyYucJgbrSMPg95XPOZ7mkQZBzO\n",
       "wuA49u9ippb5ft6bFOyKmkZ59BfHJXk4xh6yqPE0iJfwN1UXE9hHp/NU8jl++bhMF3g8hpPADEi+\n",
       "NO6QMdduM00jOx4d8L2peVZi/3rl8StylZS+/bY3G4DJ//cS9ofeg7k0nz51L29FIycxdCdQk1vZ\n",
       "WunHAqkV2bCpP6UHa5+bmoBuLq2BOCmRlB6qkSLgfK2bVQk/J/cMV0SoY0nx0SzCu2dG9jGSeWYq\n",
       "x0rBJBhBwkR50y+kVfdtkCB3/4ODPQdFj3/cimY7OegsvhFnmgSVapSreTE92jSPvPoRSa5rS9QB\n",
       "MwV0kRxriLChT9n3e0L41/ZYj2E0r/34ayXKd3FbEIvK/6VXQHbaz7gw2o423mAp+F1bnN/Kh0JX\n",
       "k9DXmEait4sszy76MBjYFhjxe8pfyxg1RoYrv8/C/KI2ZlViN4kUPuxjLlv3WenRA+nhn6BhwzkI\n",
       "KhLz1LaxzjUFRLkmhpbOzFfsM6ETHPOL1DLTf8jkIktsiucczkUwTObD4QXeohQ6qPYSKbdxJ5JY\n",
       "IZGOUZUgJGcylM+mSXxFBtKn49/6RIu/DBZrZAAAAwAArFVMj+qPqnPqjmD4u6AAAAC/QZ41RRUs\n",
       "M/8Ao8AyLhydgP43KriAEjpJ8i9+O4ig/x3ppFkzODFz4PvRB2qPEnUx6H8HlHoHbLXh9JmCz9Jl\n",
       "LXz08/p/s4gSUTi5Bxd66UZQDWPNFNZcSitDYt62vFdt+jgjCxn1xhjy07CxhY3wg4tkkxJ3Hsa6\n",
       "f1DyfGerVpzfNW7nsr9+enG8sQEXDBuXc9omY3mF+HtgjfstWHP0LfDIveYR1bjCdebxLXcj2v1G\n",
       "mBqu/Y24Kl/Ne97pl0EAAACVAZ5UdEK/ASZASw2McIruwAC6BLDUTq/FOVoKoJpVXEUKEqK6sg8U\n",
       "Aj+t6jibtnJyUMpWaL5DWePNFcjdqKihtKhLY/834ZrByCrhZclOCylnhs+InDy7pqu8KfhrvZEO\n",
       "9/dY/kWYPbhuQMAeHP42n4iWESxAsIDq3APpPaKBjIN+nE0F1jlGfYa1lGMhnYPDuW8BgMAAAACa\n",
       "AZ5WakK/AS7VdSqRhOMr/sgUrqyEtIjIHbwTYjWgACNeT+irtDlRfOdY9mrGDTkCbyQkynn+NYAL\n",
       "WIWHNQYBZFz+GorT2O3drsqZrAKYUaSZP8wYTMllP/k1W2dDaI1aFtFdpQNhkOlvEDAMF+VwlGno\n",
       "CBjVss0i93i1/kmf7FuoIfYI8HlXRoaKZcdpJRSdciJ13g31R3Q6YQAAAR9BmltJqEFsmUwId//+\n",
       "qZYAwt9tJzEno6SFNeVvDTpH6lEcky2cWgEQVXy8aFXhWlR+YzhbjmZVyoRiD6mhOjYzEPHA5OH/\n",
       "a40taObSpxDp9qsG4ysxX/GbJBM7sQaQH2CcO+uIJiWnW5rf2TsaKeDjh/4rB4PoepDA36pbJJ7w\n",
       "lOdKYTbDzNsWynIBrn3F051kPewNLQMdTIfkejhX9aoWmHcnuWQWSjQ1i5Uhjb57T50lyiS8uPjy\n",
       "TxrhpJgUdIulaAa+je9zUBb6twEAKW1+AORNX6Vfl5bcH5YnO3JVUxRmvgsJ8gKRmoXb6u+SptHz\n",
       "qiCkxyjtbc/cLeuHOYoMBaqwrugT9J4fNpsJ/dycaZ06KjFmqlf6B7lS+0mEhQAAAMpBnnlFFSwz\n",
       "/wCjvZ1A5X+Ihb7JNrti0lBDh7jiEALWsdDQdU0352E4rBOPrROXm0giSCAeUarQ/HoM7LSjdXwB\n",
       "8Et5f3x4d1gabxYiy4KpadzIb/epHkRkZPJuQwnM+EikVZ9kN723R1IA1IihtKp7f46332I1MfMz\n",
       "naYPMtKF4DbcnvVHLhg3PwaqFRHJTLIGOW411rq5cfU+Oz4StBt96I6fLCgkz9PZi99pFz0f5rBL\n",
       "xQaK5KpmKiL/Zh5zIIKTx6MgDYbl/gNyAAAAUgGemHRCvwEuXRsYAmxMxOeaqD3waDqIaGXLt9ND\n",
       "7DtqzwAqf66S3GREb03jVIKI2N7auMgtMh3oYdy9RnL+GemDyTyj4cHQoScbIuqJl0fc8cEAAACD\n",
       "AZ6aakK/AS7Q1k70NuHMyeGTSHlbABc9Bahg1c0B70AImoueqAB40672fII++fLAcl1VLzMfOmdF\n",
       "OeEe1czchgebvDxEGZGrmFGUTxbmLhI8GpnTZkj/vlhH0tnVKRVC3YzXZifnEr6+w4t1HvSv/uuq\n",
       "lqc0NlOXC925B86BSv8obsAAAAH9QZqfSahBbJlMCHf//qmWAMR6ZajNxmAkCP/IBDqr2Ay8BBUM\n",
       "LyMP3AkHiJE1zWpqXYX+DZS6hW9QSZGGPK7hJmbHFZZrBz7FjwohRHGbSsjy6Ar2uY1bNFL1i7nz\n",
       "w96RtadKOEBydoYuytz/qwFEqAseBGm2qbLLOm3gQYJ7p6QIznFz2o0X/FUxj3q1FoHWJnBLUJ8j\n",
       "AUJLbUEKlPBgUr5xznOiV7Enlceid19wi0+RYN7Wp+XfniLplTw0/Us9NtXkYAmszpja+gceYCZE\n",
       "vq0F6xH1mSyRgAmtphqJ+I1GVOlrEanNB/4rMv6IPFQAyRD6qkbSq81SsdL+LMEDAcTTrWKWkpQI\n",
       "ixfWHjTh6gsXrtD/QAyWehv8qmUBxxEywNkehmqa2vanrHx6NNfL5E7IFIEY5x8R7iFv04r3ViZY\n",
       "AycjYvS9rNZqCO8VvNdR4CLbxxD4ybEdCldyKbxfg8LlS5sp55DdQgRykMUBG41mjRCWojMhyv6z\n",
       "/slmrj0Wz9T+AoNVei8dWxjoB+25ZUGbVikscNUJw5mnXCWTpfMm5mcmCfuQiNXvrdYntFhzqf56\n",
       "AOWtHp0Grd6+C7KTe843CZwjLEhwNGWhozjj6c3ici6YIUf65bSEgbBQg15ooYq0YDXPF4aWPVoY\n",
       "fRIyUPzv548E8qz2OZU9b80AAADfQZ69RRUsM/8AnvRK08drds/f9LFaoAZeTJ5+E1uSJNgCW6pS\n",
       "SkouNZWHM1KIkj1sTT7F/i3JlypgfjW+R+Jr/ZNzXybFIuGCFnwsteW7x4GQTwZSIStBkhAa4CF+\n",
       "+ib7qJMCH3Mi29hippGNex8fZP/7PlPT9T04fceogBY5PLQWBJrrDJhVwwFDOv2xhyUNMToy4qu4\n",
       "gf9XgyFmuug1eC7Q3v3FquX6g87uEl0PFsIqYnvrWxwGEMrM3S2hTPp9Anr2sRWPpW0T6NaUnJ2d\n",
       "y80FEPWjj1aLifqbdcAChwAAAKUBntx0Qr8BIrMoyCqa79NJgGDLnnABJeBRW/G7k1tFdJZz3aGe\n",
       "eN1NnmzdM1fktVr1Tdq9ETMRi3MWC7kCj4YVDLuTGtCJqjHngKHA9MYrH4KS1+yyd17ngPuxCQ0a\n",
       "T7rEUzWEt7Tdn0P5YeVOw+ZQcrDVa/XpOfqAcjLjgqNwaiMWs3sMQoAGWo+GvKOgZCq/PXRuoCqk\n",
       "Cr5oyPwJueCirRBo7WMAAACWAZ7eakK/ASXFVyyt9khjFYSfqAFuBYH4rfR85+KC4WKyNeUxJKCY\n",
       "0Z4F2JcCF5XqAeDEKRnvxO19ooq5Qcvc/p/dwGfkywYdM4Qo8QYNFB5gxQ2TIg4Yc3a0EtnK4Vns\n",
       "PTpOAXBIldo9cCkZMi7UZ6FZXZAWjNdSinEqDc4t4Q4/ubjB5SeYMhlAv1hrSjYW9YagkGhAAAAC\n",
       "xEGaw0moQWyZTAhv//6nhAFo9lPwWHCU8WO9AH3hAf/KduIQpoFv2X8VAab62QW3ZviEUiOsPXQX\n",
       "GpNJyhNH/AJ0iFrIUAJf/Hzuf+SrkaiaP2DNXRStiZ56CBARB9HiUWj35a8d0IhJBOgPDGhYdQrO\n",
       "SVUK8sML4g4VrxSdl+7E6rpnJ5klhsfP+QuNEt99k/iALz9iP7mxs0Zyf/jawhlJsTvkgvwKAMkl\n",
       "PLZsS08OSNnbRFZdY6eyVf1b93oCiUSYBr8jINuGn9QMDbwoAzsyGaYLwh0LoAGeWHKl2oMn0AyP\n",
       "yrXMdoNh0pFiW7nrYApgSbqv1RL3HP4vOnEXo7fddUypIUJFySSOoBz11fNhrJreqr32/Tu5RHGr\n",
       "rielHuD6GGtz8tYjiDD/33eRhE52e0vYJt9BGh70XiT0kqSd9OJodDf7FqHKYPgO8QjaDjRYdcvO\n",
       "oK4TQ/q7YcmfGTKDjPbmNydHpT7onk+pRIS0FbyeQk+6frxUjfWbTlOc1ehWZxn02cY3+P5yHgHa\n",
       "GwlokrrzPEE1LsP2kJj/CN/kQ4/XGKcUAuBj4htT33KKe7SbGiPXU2M9CAmI8dRfWKBrUAm9tLY+\n",
       "3TUhtcGL2/bxWjd0czjreByrrtGEQ4hxJHDqnD7j6+pIDDz23E2xYsMIT7WLEmFfqYQYTqsBCZPq\n",
       "m4SkRBCl7dmbfwW8Zf/AU1Bnct5Ltn/y1Tz9zBFAKAN/69BgvFMbBs55RfogfnteEUmyFwQ0jMxR\n",
       "sdVj6WoWp9Jqz817+e+xzXfH+kiquSzc+xPnHPC4hlH27PY92E/HtOA9YDknamcHvJOzro6AlA25\n",
       "13f1VPiztWRXV0olPXfFTgICeMiVL+GRMPA+QdePf69E56LMTAFezDnaxX55ep9sMeCY/C7B3e9G\n",
       "sRba1Chq9hgq5wx2Pp93vaW5+T/t0OKJgQAAAOpBnuFFFSwz/wCaxU+jgwQCJl+KPyKHYRr0P4IA\n",
       "AFPpRvI4D6l543K9kScQvjaPi0Hwo4sJ8WHkwKp3Li+smqoTJBRXvL8tIsIyEz4TFn5xiphPUIM+\n",
       "qc6FaCqeSd+goLqEmGg7CtbKmm4xiH6rFkpy/ac0CAXHE6ErezMzENu+Naem7qwd/KNVWaSnV1E5\n",
       "as9u2T0kDkEigeArZe5FjEcZWULQAO5xITfj7SVP7KMzdtMZ0OEHdQ42ESu26GLhJym37smnd8rJ\n",
       "0Q7aiB/GZ+GJ+pOeNPAlxwPJXtN4Dn3i4o/l9lskusHaw44AAADDAZ8AdEK/AR5zZjCI9pwgBzMI\n",
       "XJDROrH+xNcztdqWs+3yAZsefEtRa8Egfh4sMIPQ+lhfABKHH8Npbj+e5BPzqQ3Gxz2aYQuzDQEq\n",
       "Oja8AJCC8UUOpqoMCoE/Dpst3M8D3NG2mHqpdD0w8vV3oWea50zf9LKUT1/tBiRVka4IpqaXhe6g\n",
       "nlKqIGBu795r8TH+I0gIXo0koD3VGXots5GF3O4/Fj6Ysqbea5ZYy5ou7zREAsMre96ztH35m3rG\n",
       "LETsYGrBAAAAuAGfAmpCvwD+2Bw0cL/npyxQ8ALk6u5aJca1E+QLcALboJ8dDDVtVOlsoq8JB34J\n",
       "X66dKFL/ZpB47nlzrMjJlGQFK7hyQRrOCikNtFL6XHPQWOAtFCCYOJApZx+urHILX/iznYVJxJ0B\n",
       "yaXgB9LUZJyiXeSRaepIDp1IwsaonQcMe2cJhNcl6ZgVvNai2ZBE2WgqtIZbRscBfZHx0KXkJme7\n",
       "Skf+xrdy4gvj+BEfFCdJiyRgtHZSi4oAAAE9QZsESahBbJlMCG///qeEALXzLtCYBezAiaD9MW2h\n",
       "ZuHMePiKTsm78C5eTAbairFTpkgQvmSXYv0x/6ZQATtJFWN9yYcK939HcHCYx4+ffOEfhPP2buE4\n",
       "Tn7lTnPko0PzUklguC5PFCn9xtRciTCEbY0Wv0Sglw5IbzBQcQOd2zapI6q9i/Vsof7bqQ1Vtp8g\n",
       "UA1iqqHDPKvUZRDbgXrBtt79WPzmVV9Gg48MPZU5W/fGby+eLQj5PqlyUuFjYcTS5CGcpizgyneU\n",
       "s5repySVs8P2nfIsueoSrFlmy7tB8jHHiYGgmo/LDcdwTomgSOZ80PPBKlDtELasuhtZQ3BELOnb\n",
       "UJPi7ExmCHUic4P3mEau30Z8lC/umsTCgkOwWlmJbrtlDTKi7znc3MDUVVBeKiNPQ87vi4CgIZ5K\n",
       "s4EAAAFAQZslSeEKUmUwIb/+p4QAsXMu0wTqCeUTkei1rY0AfkfGl1eH/hNlet0w9whiyYhqckWh\n",
       "IrK9V0S7YY5qXVwHVBxVh/mGdyAk+XNB6lxa7QOVc5Yszlayxh3HIFphYS6lZ+lZmQUu07JCT4XU\n",
       "kQn4ImgmrWy9hkbkOfUZyjwOzqeak2RsASrh/1PsUSF2+G/krws0iqFeS+j9+8czM1tn9xkHdFfA\n",
       "z2ond+F4zhRUYQNePOtb+bNwi39xJ3qhYk+G6w7IWI2guqP6mOW//EJ/TkhHREHdMK6pMdRd2sCa\n",
       "fm90iDKTNPTYh8mLmsG6EKlyYO7dmIypMypYFU9Crxyfk0cGW/8KLtP9FgNriTB9wuclrSPW8vt5\n",
       "HazqVQ0qqVxQZ002cq+6tKQsVVYwrwD2Hb0QGQWDk86ZJeHXMIZEPiEAAAGGQZtGSeEOiZTAhv/+\n",
       "p4QAX/hPJWTHpngBuUhxhC1MG+EHCoEoV1W9+c5H9jRDMJ5LRNyGziHpv9+oa2NqezaTPbGomrol\n",
       "v4F+6sf6TOosK4ONpUHOMSFR8vK+ouq139QNNfNzWGGbT4ndVlaCXBQvyMCvexqkzsxr5SYBn1tl\n",
       "NsesBTozBNHidFWL2Gy0x6nJvIrqJsRMkN42uoU5cz3wCX1y1qVxn1lEDcl3ujLYklndYrpoPmXu\n",
       "ziVqAtuZVf+HqyKkhEJmcM7N+lLnRj9f89qCmvuxjL12B5trufdnCKMO0V+H4IGOCKswQy46l8Nv\n",
       "2bNsFQYk48Hn6XSyAKXIthTPZMGUttL/uv2GoDsge6XPbtuckjhx6K1n0TI/d7zECYI8uz7P1DCg\n",
       "yYXO8njOi2prkKPHVh03p9xd7xaZSDL6xkI8fM3UW+nvtzVATd4XmTyJUZYdVbnHgbhRNHoMgdSN\n",
       "fuK37meIDnatin+A8xA6PxYgstOzFPoEmiUpO0jXfOGTdUN7AAABe0GbZ0nhDyZTAhv//qeEAF15\n",
       "l2Jq2hEMBgwDMXeKQbCx7BmAe/SXrDnG/xBTRUhKxNOD0QGgoN/bOFADLMwSKcPP+fMexhI8ebfl\n",
       "1PbNUd3vTc5zjFLRhzG692urL+wIf4N5/yTm4cMUcefVyFnc+hlzYhL0eLV4uSLQC3nfjtSGyujN\n",
       "6MmAYiZL6kgWTXZetA4ymtwCFXb/AAbnMr35g9dx5t2jEQfeLMQ6Zq+tQoachTp7EyQaWAu6wLBm\n",
       "an/Kyz8qOdFTX1F6QgzpaNjg4sQmu/dGqHqzLjzGgY1kJj1GgKeVLnmYFncDdaxA9nfWCMv8xyWz\n",
       "tmWDL71vT4mKuiI1DGy0Hv4G/OSnxo2NabI2Czs5aJymgGQobb9zoOikm/myAdPFIuvltRNJjTPn\n",
       "LlDw225/3DUcXUqmDJ8DKZ7AbhYmmQY0kBGPJ+23bdAdrNfLGsfmnRKq5vdz9JWWg5f7ujzFJuWm\n",
       "wvr/KkFFBYW2uB+G+3KNMKZdqnMAAAFUQZuISeEPJlMCG//+p4QAWzmXaObyiAaagoBYF/ofC6pQ\n",
       "odFm0yJIRv5S/LxrJd+I/CgPgBrtyNG0vPi9OduzQoJYCngjfmuSL7JaMFy3IBgSSYCNnnVb38Zc\n",
       "jGB781gYYWpWpztnm7HfyO5an0p4MJttGtUt9Rv/NsMLIcystw3ZK6mAb5j+Ts2TH20LWgmBhULL\n",
       "MzQ1LeVqxz0OqN4WL9DJtAZBY6+gkNcdwD+JDW9bq0M0tlJPemXELujKMV23Rg1NajGAWyr87Caf\n",
       "rE6KwHKMvPV0aYzCdbSyIL4kIPn2W1Z8Id2bDLWRITJ5NVkUs9BMw5Le6KRHo+T2k+kzv34TnWDZ\n",
       "c/nm1GvAtvvGcPZ6wnzp0cLXR440GKBYg4ShfHHWVxeqH1LST8Yn33K1KeaT0RBrQ+FwIoUZ3wCf\n",
       "sxQ7q67UUnhCFXEjB56LhBS05siNIAAAAYFBm6lJ4Q8mUwIb//6nhAAxPCeTEHhOAMr9w5DzrMTa\n",
       "NwjD01GaxHQAxGQALw3lGfMmrnrx2AU2NKNg5L0kQ+Dd0MpmJ/S6Vssi1O14UxzscoB8xkAHIP0K\n",
       "CZrjTveBnNuNGQgyh0Lv4+sBUCaTfECc/6wbtyz3dxRBI35SyCHLhpz7S+uBLSRaxJa6ro4wItre\n",
       "z9DFq7dIZviJY00lG2OD5ZN9Bmo7PUkGg7X8/VgI2vVZjEf1kDTSSUlqs+gwU13bVAFZP7L1CYPJ\n",
       "p2dVhFSPBzNNPe18JHPJM7L2QS+eUZ1C5cjXVsDC/tbnuCE1Poq/uWZRLTMRWnBNDML+/Rvh+aXU\n",
       "Xm/KnfRB5+Tnw+zQibPUP4fM6FTKisqAAddOFS7AEDu3gLdlEx6PbXlcP2DQXwJiVwe8mA1qjGB5\n",
       "EO2w34/SD7BOR3PpQ2ht+wwIOq7sWFrp3H5Nr4dichJZV/9ZTr7Klkka8ZpDzn61dd4/9gPbvAa5\n",
       "aybPzUKF/qZ+x9+IAAABKUGbyknhDyZTAhv//qeEAC/8J5mr4s5hU5LifAkt2ekoAR4z8wcqnZrM\n",
       "drivAH/DUK3ddqZZirmp7V0W+vmLphUur9hy/LDYuNBvRm+rNs2/CS+6xnsKYEw1+duIhWXPKp1z\n",
       "Y51abKGaTZUcJfcS8W0e8Th6hLoZGkJ541R8P9neATgkQn1UCGz8tHKB0Vgs6m4GJI5zANYsr8Ml\n",
       "khsKjhgCNuQmjNwbT3sqhyR375ygaCFGjshBll0vgx5LpMwqXeJJ14UJhWpQ8UD0KtukLtYxylYM\n",
       "VdYyLRfxvapgtvJIbeVs2akGjA2UYNHsrPZvZl4XuxGJInL5wHgQMqr/LJULvdjlanuRmtOKr9f/\n",
       "pUqlDAH97NroXG0gRT77+N4jRBNRX35vuJDuMQAAAV5Bm+tJ4Q8mUwIb//6nhAAtnMu0yCAnNhUM\n",
       "Nkv/4m7lHAQdM44DrtrNj2Zb/EvFpq4KgtABtBwx5k6gJbOgoylwUb5tC/gBZcPF/GWMLLGnFafj\n",
       "bGFlqgAAAwAyfqKuRO56ubbw+tYA2EogRLow8HplUJD5CnT6aLMmmvSmqJ8dvt+GEvAEDA6uD4uX\n",
       "GAz7n66r+hssbbziFjlyfWwDoqLpbeRRSGP0m2AaHEuOlqqUwmrYcee48T1R+l7EGbd51cuiCePM\n",
       "+e8lCuPvVeVvdKWxyNJw5zoUG2o6o5CNBJ2/ugZqn3D7euHd6NKSO4P4HraLOaXlensoCgpamLwH\n",
       "qGfXJMneBW+stZsj9rArMXMnewlyNt0JXkLpVQD/Mxfm3sM2Z1Rrwl9cl/Xif+GOtDzxOzxUIakF\n",
       "kF/4xw+qw8/sNEUXwzm4WJ0ss/oSLSn1Cd531d32KcFZuMFpb4HRsAAAAVxBmgxJ4Q8mUwIb//6n\n",
       "hAArXvCiak/S+8CV89Afew2lKp4cgBCoKY1ZzPtBKkvsa0sDJzSDO9p5l803hNq5VHLb9S99zS1W\n",
       "6uVV8cJkNqSgXUQ3LZ9dnd+LHJfe5HKwDKlJ7IiTCf7oQ8Hx+Hke9IHoroaadcJ2CEu1aZQxwIAN\n",
       "1DuLPeIEcAT/07RL/fGHOPdo6AET6bOw9plGcLK6GLPL10/7FbwTS+4wYi0NvcPWP2DB95LWcSQO\n",
       "SKnnogq3RPaJUA2KCd1tx39o1A2UWUEuHZl2tBC9/cIa3FHsCNMF5Gq6KLf0+oUOFI0M3H6+uzCe\n",
       "UqHb7ElVShpbhPD86eecf5QBjDLzb71H4wrAzAAkJRC2IrxfU2X9c7FmGPdbs5mr9NrijfTKdzXT\n",
       "kCfRkKUt8Ur9oaeTt5pxkAkCrHBG8EGASWeMwcUbsLrDsIKyy44Fiu05bJZ2FZgv8SAAAAFwQZot\n",
       "SeEPJlMCG//+p4QErnn7ghNn2OzLheFuk5AJb++d1TaUuAHD8hGjokaI/5Pp5HpodmhvGQUjG6FE\n",
       "BAfi8BMwc3Jkt7mYc6gvwAkYddmSggQywiDhnJOtZJ+/XhebutVeEUKGAHGG4O52PIVDZrUBkeY/\n",
       "A1FyXgrSpVRAmMNiVnvZPSGWGnUTGMviRDLdOVF+YT8vyxxHXeuCCOhaGEMJNMZNLIQNjqtkGJg+\n",
       "VJRn9erxy/88mIEe3cJ59n14eS/u+BkLBElaxXqXQJBLuCPf4JA9kG1uZz/alQGeXp9UXgcaYBSy\n",
       "/PeJhjR/qBEZE/kMbVmPETvChre60Pn0WgpMWmNqiA0nYPqAM6yEAMPgNrfng+dhrPNQOtejhZYO\n",
       "4/2pqvyyfgPCPlCr5Vv0oti7FKo/OEziuuuTNSMm7Tpc3tvC/3gD/P+A/dVnElYdXHNHcFcFG5Fh\n",
       "rFYfg/LvIzqgIABT7mT9ffr1WKOVolEAAAFtQZpOSeEPJlMCHf/+qZYC0phizAfqvbOv3YeLqMzM\n",
       "VNnug1Omj0dz5gfHa7UAAmcgKZnJuG8jN67AI0u5ScSCW5ACpk3pMcfUtVMJMpGybJ47tVC2sPm2\n",
       "WZm6+RIfN9pRQoI7huWIeKYOJr7UY6Cw9+jDKsiDrv4sYgysHoqyzSQcC5zxQ2hLqQTblWAdB925\n",
       "SNmZX6oN5mqYzjcU2tqzWpSKHcHv5Ncdb6Hvs/oW8a0A09NgA8gq6XEdMN+IcMuIGxuo0gYuHNzN\n",
       "SWWtQlsjGifs4kg7lRENvoYLaTwjFoLEdYM89FiJlk9pn+0Aa/mC1Mhs/CNIoul4gd6+UozjZo33\n",
       "VxfQfmbG4Jc0srhvD6oSOAophDhDb2ezlrVY5R4oDt9wQgPNYWx0HzgdJxbonpluxwjUxMY7p99j\n",
       "QFPt9BojspJc5wPzy8segZAOG5QjoxM3us+tkg7RY5zDNbO5Wbc2dMSz3PKtG8I+bcEAAAHDQZpy\n",
       "SeEPJlMCG//+p4QAF194UR27pCzWuW788g7U9mSGLi8N190VeJAETggi4BlZB2r+53z1giyAERig\n",
       "rimGxURIG3AxsN15RyWh97O6JCLL5+7OeECwXRXkeSr5u4rZ8Us0s4uTNuLSk/F16fMSM/ghoPJh\n",
       "bfiCTTHPz5mklKQkGa9lHZHPQGtImkMVfPRXvzRfTa5w6rcKDKgWr4USiZNkjvPi3K0Ii54KGfwM\n",
       "/g+gLZ4x3qFgmP7pnk/5wnzjNogBC7xvOZc2nKvuhdLW4F0F+8sFdG2/Ncs81MDohzaTyinpB6Wh\n",
       "rQhP4+kil/YAXxlrSsxsxXh97/z648b7IeMOTAKGStTS2ZzoCPbc/dyAUBzkV2mShI//nDk+uTLH\n",
       "3SQqn8hQmAUkX5E88mliasFstwqJubqhde9vWM9hMt96+8MHPhzT9AEF5e1xkS5iV8vpVVJK6BRB\n",
       "PnYrnVCt67dVC/ca4OkKiWTL/Tick8fQWyI+xgNicYirC6GnkIN/E/Eo/FX+eT73Zy1zrt4L/dv+\n",
       "uOSP3eihA9PC+8F5nKyJ0YTMTOviPCwjKKC4XH1UK0kch8EnaHVyPs8LC2LDsFCNyQAAAalBnpBF\n",
       "ETwz/wAKOohJjPra2XqOp53WwBxZpZwAncSDrWcW8vfo3GKUUlTRlm/nh6A2iy8es/b2PUnf6jMK\n",
       "DRJUaPlhfw2cCuu8k31iaYaEU3rpPM78ixC5lrFQn5dGVize2FFYe8kyl8+ViMl873nzdDsSSs0n\n",
       "tk1P/Da7zanQZWr6HqtIjjdhCJsxVEBFBA3Dh1LqwMsjeHEDqEwIBOwincoIHwx6Zs/sXGz+fe/n\n",
       "QTD/Rx9tToz/czi2oc7zmgty2SRxJU9qHpEbw7B+d+S1syB6I8lDb8cURbAP+/Xw12iNOc6HURYc\n",
       "XdHDmx7H2lMn2tg78ot/KxX8Wsll3tnK6tnjVnx0RX4qvv+hK8ONK6RdyuMXNz0ksZphwdPkwETG\n",
       "7vh1ETGGmQ2UojA3c0PikXRXpNaWsWFnKSQ0/+V+okBAEkLpMrOGK5iZWP2dvj4ZzmsXFBmki69t\n",
       "VvuOKJFTiB/IiP+OzFWb5VNRenkPZzhS9JMffJwQeGKUH+ut8TQOOES8yfLKJbEyuP1yWRfvcOfX\n",
       "KQTZZDKqKDaZd/1TwPUGfAXdsnChZwAAALIBnq90Qr8AEtdFVsY0r+cJjGCSITfv/g50hluipDyK\n",
       "EAf7Tx390BgJUlwCZupdx3R69FnNYyKppr+XXFZ8AQpWsbe7wkj3FqlmGCnTrogJ5xCFUjWdLkHq\n",
       "mZN/YaJmZpRsps05KMRCyLWOOUIiLRU1TyPasM/zjqPhmwpApQLcTfrwnJ5YOkmfQldOVAloEeTw\n",
       "kLLu6jOGRaH+d4GgpaEoJOBNsO4GLvZRFNqsHeA/tXzAAAAAwgGesWpCvwALFYTva4PHoiDfJpjk\n",
       "tRNRTI9kahfdKgBLSZupHnIekjQYZ7gY1LRxaBCVwucUfo1IlANOK7FPYtG5DjqjIt31bQVLZnpe\n",
       "V+mc4qfOPohXC+LSS75zoe7HYWduO0B4vUOhaWWSQDikLgAA0aTq1+RxDcj1taj7UNwTFJcBnfcw\n",
       "nzByYeAGoHrE98i6GNf3ViKEimSEJVgAApCvaec0XL5bSJuwG8xK/bD7HXS9DF9MpbxkIoSeqae+\n",
       "vAj5AAABl0Gas0moQWiZTAhv//6nhAAG6FBSPdIAneVhYHYf+fr7nP+IR4prXKyW/9N+Xx2b1cho\n",
       "a0JKc+FmEqbASUzHiov/q859PyD6Zhe6hoK32JwEmSy3bZc7MzDme3i7bMgO+dYk1ztWAh9tF8ya\n",
       "zdMvncLGXwjmWEJsxC6kYDkA9o7NtgYDN0KdCleIhc4vFaU6Th97E9ZvWMvLvpfKyAV7Qdjti7gT\n",
       "qapFA0BMaPiPii/o6npVVct9tNW0clQTHS5O1dg5vkcwj8iy3dWRa56Kxr/ON6gPsNCQQniik2mW\n",
       "6dbk9zpv1WucX03xXD+uuSYNV9aeXcdNTStK+CuIAgejoOb56lcZlvyr1lcEV1qMYXUsUIbM4rlK\n",
       "0WjaRBNF3wmEpeewqt2s16A7zP5CQFCV5ngKTA3mvNRFXmvFWWhxRi1Y0vw0ZFiXVbgEsFjpp4OS\n",
       "WWcjb4t0Zf9X37/AqUDeUTzPdkNqdNA3T2MxP7OvGuVXSmO2qahUTH4ErfT9L2XcH+Dds/qtHH9v\n",
       "AOhYpCs2+RLbmnszUo7oAAABwEGa1EnhClJlMCG//qeEAA2PsqLrXOateAK2zBu/ErZOAmxBPWzn\n",
       "2WFq6kfREWAvZqieUd1/1mzUIEdP3lDuffci+en8uFEaHnhNpOZt8uu3q9oNYctgHrFau/FcJrqz\n",
       "YFat+08RYO4C/BQpIzx8gwixoD8FV4C7TpvL/u2Q6T2q7TWI2WEwy1iHHaizsFw5eYTyOQ3MNWQM\n",
       "Oqcjn9c6FP9sgjq3LhBsJYZvmi3BcdCqAf2TywcsE5n5pBo3PciazfR9P0ouEkucWEb1NnaL5mPz\n",
       "gCb/RoIZckweE98oGvnDbs72T1Dxo4/3VTOj2+9/NpUssJ5K3VcZir0fnw5B7x+LHi7YJ3yF8C7Z\n",
       "DMVjXlnmp5nSUX1gLW4SlWmWU07/Vk4xUpuqvgnfwGsK1xtChUPjhmsJzmnJa4o2pMQFYwHksJz9\n",
       "qaMdg69vMPgmjTyIzefEdFrVz4XJuhcW/plI75eJVOSIOVtY70aoy9xjtB0ojogrj3QhMCOVA3Kl\n",
       "VPEgqr2j0D4qC40qARDM7Xe7/rE38BtWuR7qxbdfQN9q8NCzKvgNRuosM15ihsZW/lqOibZjL57M\n",
       "573tjGCDDc5264AAAAHHQZr1SeEOiZTAhv/+p4QABumGJ/EALB/IT+hu7YF2LHtWio5IsbF9xjBt\n",
       "cqPrHACPj6a+FR9uuB8Lqh3cb1TaSA/uaM4UfaW8jINKMkyLAK657djIzbjBrw+To9RyS5TBN9nM\n",
       "M0l/DMU1ao/XxI939HYAPyDCcc5b2YzmJRud7XHAl2QNvbvmGGC07Ff9aGXEPPc1C2Pa/BnjSah1\n",
       "VPsvKxYn7/O4YMQNQ09RQaWzS/xef8NMuhTOIqqN8GZ8ZLmCxAC18jci9YveJHWw3spJrr0nLPNZ\n",
       "XrYlnKQ+BzxChfdLz/EFflqH2Xoya07VWvDgl2BKL5ONDZfh4WdlURHhgusACqYpO+Tlpb44pOGK\n",
       "OL81kAWU1eeZou/3Hpt+UITj/gJI94YhNxKzbDirk2yIstnt4pGnmPpbXcfCf/Z/heB7CCG1mHTn\n",
       "CIMgYSRQYL8nvxZaGx7VotE70vBpWOHcGq2xU4CqARRQUAPaXW4/T8TVjhzZiKXr5+zirYLU1kPi\n",
       "RIe+F+AjZ0qjeRdkavOBKonek4wKU0XN+aGG75bacretA4jLSTnb92/ZegE9HL1ZWTmUoAafkjpq\n",
       "9wtz8vWt2i5x8kxgjl8AAAFrQZsWSeEPJlMCG//+p4QABuhTTrAAsMraRVPbN1FSiTjo58iIs0lQ\n",
       "8mzWIC97kPC1t9EVv3EF+GA5BEApcL5FpP57j+r1urep4n+l4G2yE4Hb06HPLPrL8aOkQCneNEun\n",
       "mOlTrXgUiF5SWTTRBiv5VbHDKRx0qFtlfKdNLLdcR5Gf0cmDa6PwleqvS3anShYiTZwwTu2r5QlO\n",
       "NqLYTjRSgt87GJky/md46br2OvxIvFdFMJ5o+EAAb/tgqSsmpkT2SAgybSRJzCrw56z8Y/QwozYk\n",
       "hOM8pHTwu58oFMRYiAKWW/nee6mElLzjCxRyw7vB0b6NbNQJpRCTrddr8ha4pFMoW8xA0RufpwgW\n",
       "JVIX6dd/CITzIbI8jUCsezDYaG8bcbSjM6GwF8IPcL78yb0x6pE7S373w8TOQS0HrAnuqaChzlE2\n",
       "O2Wp8rYu4vY3X4F+Z0Z4OEyrtlrDjliFRw4a3uQNCdGWApiCSB2AAAABZ0GbN0nhDyZTAhv//qeE\n",
       "AAboUnIyAI7uyY83Nv+wlcku2b8X+7j0Uc2QaBdIHv6n0W2t+I3CyU6YJ27+j0TfqNTY6FaCx1BA\n",
       "o2vCv8ezmU5nC1Wp/qo78uf/WROojirTlEUKweH245oY4HG3udjOD7XycXSA4Wian5Mkc2fTnqz5\n",
       "FIWIee94NsGmDmI/ulBTGCuHKFKCIlyzJ81wFWBCu/9igIUJkrP0YUaMHaBaQb7PWlUdhlXSRC8t\n",
       "h0fsCp5Hw7YXhKFeoFaF/PIUoq258NooVwQB/lWXULBgt+Dl0p78rQla0GqR3+MsmhignYcxK3Pe\n",
       "RaMHNesxocYN9exy7Co0C0CMkXN/UzjruCcyPll0HpSqfz0/7k6XtRMTV5mhyvvihLa/joRAQL1n\n",
       "Jj5DupB5sz/Yz0w57m2Fn9rCeEg9WsF8hne6fJSwxTGH1b4hTpoQf7V5ME2wAAADAANDHXAfOikc\n",
       "wRfXAAABiUGbWEnhDyZTAhv//qeEAAboU0l0AOkKuv1wrD1cU30V5VbfpP9NaWbENuwGHdr/NWBu\n",
       "MRR9iLiqDNKxuFCaCa1D6gwMKUh9EsjizcyqofGhUVXsAcy2DS0twgomSKd4Y44KPtC30d8RG/GS\n",
       "pHPSJDwM3LKn4JWlFVucSHPyHdZ/I01Pji97OgcHR9bZtdU/vpyUlKSNnoJodNM28Nfi2x6C49pi\n",
       "guLQI8iOs5KzhP56886iZLtdiXi/QPyBlz1RRb0JScuAHX8RBr6VYkSUMd2gas6hKlwlyYjNJZJl\n",
       "5N5q1k4u7NvlTE52s0cl3Hs6PY0r08xLCjQyA0HXDJfjDpnGXBUuGpUEgtjcgEtikNpK46/fhd4e\n",
       "GWwGoF/eh4hoO1HxuNNsTMmAYIF2Qt+3EuRJDQjVO63tUfMPZpKzYRLTcsxn+lcEW3pTL4ntmEEC\n",
       "kTigZu/Lbh8cNLvXiSvOXCwBvFycc27u3TGkOft+AgHcCgGwggZC8GuX8TO0LkOW4kaHF1ah2n/+\n",
       "QQAAAX5Bm3lJ4Q8mUwIb//6nhAAG6FRTfAF+qznxCfqGXav9CFwTGz6M6f9DWAcLSTKVdSvoHuWH\n",
       "oKZC+sVN6AAondEvnfN+XyuooX19ddvkFthdhhb4fsxc4rxH0bedX98lL9EnPEJ72jIqozBE8e/u\n",
       "Iaya8c1qq1j25aWEoyAI5df9YhQlwaG4MjshIvKu4t4TzVANjncBxF7Ac90hBI5wExbviVUN2EVF\n",
       "RxOMG7f4BXksBiscMxqNN07gq1erWeDlO1/agLsoviC5QpIQWXT6gwGhQhsEVqfA6jhuUa+iWnTS\n",
       "FRQKcSEVvpDBymSVWT3WCFHVlDFw/tafcj2ZldVYYH51OZyn4rfurkUyAnbuT19skwxIzPFEI0UG\n",
       "FwHHdnJwQrL4js0sjco0e1SOFDRSrt3gFc5cpkR4m/jSI7qG/lBMgo8FOPP5xdIovYh6rpqdtwdt\n",
       "2TnZsHhsdc5dFGUZ+5UmlkPa6ua+dhRGPemog3gHojO2Tuil8gAAt3AKVVjAAAABfkGbmknhDyZT\n",
       "Ahv//qeEAAbk11f3kADpIDUgkayUCxNk5k4cdTGEshQxXkH60h48aTEi6g+sMhj+O+SVm22h5yqW\n",
       "bvSijFj1zLWmypodd4fi1N6Kjnkx4QC7WWQVOOOu7VAOewYtWqAnfRIjPI2NpIgHItZ0GOIC4k3l\n",
       "gGZK4e86k0z08nlRyIZXqR9VqX0TEffkW8kbtlwY5P6trr67MsjKAjYWk9wYSbxqUHy3MCX55SWh\n",
       "gLgJro9jATPtM2wlH3Y4CfFy0USAdkavnvtRO1P9lGWan68AdjhYjxm3B/60a7biTLI+fxU7TR1u\n",
       "og5+cFkq6Yr8vERx6vA3O5GePLUdxhXRi4wIaLN8Eg9KLNcE8bmIN77O3rCjA7Gaz2WH9sc+7bOw\n",
       "noJJ/GRdbjMBMGyDO0TgD49Hu/Wa9LG5wbmL+VmMa5cXDZPG66CxCb5fft0ogoCh8iRkGFG7ykfT\n",
       "6ggkGlsnJxepvBlDt2iDVJMAxR/6UooDh2m8tJnsIRUAAAFoQZu7SeEPJlMCG//+p4QABuhVq6AB\n",
       "0hJVLZUpvHIXp91It6X3orHLwzUDIGtgZ7tpwbnJag7AqCllbhSlhKz1iFVqMzwS+GgE5sWPFjzA\n",
       "2Y+MhkmqQnecWf/JoBI+/cMi9pXbXgXd2WhSYn1400kWKesEF+0HIELF7yXU+52UWETouD7OZXMg\n",
       "Wgsf8kd8L6FMD9vD0y0JgH+sMkLSWtv5A7uv58KHpF1FVBKbguEJr8m/sQb/woaZA/crWnyBn8Ln\n",
       "FdAFc2Pf704sjATZtmkTzRQ5RDj3vLvHRSmFrWopiibE2XSi8SsTSD23F4Fg+60MTsOqBmN5i7io\n",
       "YxwM90ucKzr3QmQoQaHXlWcR/5MmXN1am1hJwkeob77TeeID0bepPYlWiFibFr4Gi9tqcXxdwuN0\n",
       "FsDQ2NIlbIhtwx0ptTCM0qneTNnkPgOVkCm32CT7RAcgcTjeAas3yAAGpGI6cP0g5LtFNK5oAAAB\n",
       "wkGb3EnhDyZTAhv//qeEAAbk1qLmbwB+3G9FB/P0UHs1kxH4N0jYJsVOwMkAYewT7njJxXJa90Dd\n",
       "H/I63LlrQl2N6wm5fM2jKuXLrwchDxlCufTawksC/eYJzckuP4cSsLv7KbfPSO16lD4QexMQBIuO\n",
       "Ap2k29VGPj4i6AIcLP7zVrc7VN6yGDAuJmjeMvZFDrWlECADuAoc/is15qx4Ckj1i1CZ5MhwP+ju\n",
       "QG1nSc0BHYHu/xbiiwnLO3rpnxwce3ew8BFbE3FWcJc7Go0/m96EdGj8OspPSRiWZxlKkpXtjVpS\n",
       "kGgQ/rkHAYEV4dgeGijEl0d6TP5WaVLwyPbuWloyJCWrBH5pk5y1ZV6Np97B2ZSG99bqYdlCnjok\n",
       "OExNCQ8CsU6DoRqrBo5dr8VvZesZzDNq2OxDJc/TaeKsv0FMwiO2E2akGqXYrjgVhrk78fsGHv54\n",
       "aFfXbSZob9FyhL9LV4Qj7S0okiG//sviR3p5rCV5p8+y+1e6zJmzEvw5qcku75hVU7cCn9eSiCZJ\n",
       "m305bUHzmCpY6g3y5OlBVkjN7Qev5fP1cPAMf6e0LE3JyVIWQTTKNpmu6MwPJPosxKhbgQAAAcFB\n",
       "m/1J4Q8mUwIb//6nhAAG5NdHKRAIRbQHaH9WCE7ULnNR9ASfD6d0AuRpFuAe+kKZ4283yAHjPrIF\n",
       "STzhqv/O9qo5N2tozR0IIphMKEBOeumfXU/4Hxewgj8CVs5brA9nnGVR7cff9bqhkheLIDpxPFp5\n",
       "OeHgCh5LC8ux7r8UM3GaG769TWP6CL7UUptMwLVgSh+C7dAhAxo5ZFqHz8aubMLty7xCn4d36wp+\n",
       "wFCax3oTaCwVrx+c+auxtuLXffm/rKzysWuwmXSZ2IEx/49LQcA0sqcIIgA+gwoP5Ka72Hiqttx5\n",
       "8tHWUh9Cma/vjKhh27zCDt4+I6UfN81EonlaJfO9mQFCD2np75IhXbCVneWhmdsfVcrgkcRV3jj4\n",
       "nYfIr7RZsw/tGl9Vv3EGafVBBtUCGt9KJD8OpX4q1wwPCmqSelmRa2I+jIPqAgL+k6Svibvi/Csn\n",
       "1eBq41mZLOaQFU7UTRJWcNK1eLAsvpTdv7oU5udBiis4wjeneQqMfqDririgpmrCL9W5pKqFQNIp\n",
       "uGQHuZVN162aN0tCQCyQmChnqR/6Bnv6556dADcZ4x7dHjVqkROh4hX13AsNt8q10QAAAaZBmh5J\n",
       "4Q8mUwIb//6nhAAG5NdGhEAI/JeN+lzkY7KqpW4OurIGvjk5QHC0qLYXhEO5dZvBmMDuFDz6u+mI\n",
       "ekZe4gB5yDLNtfwQ9dVWQZyz1C2HczUE072g8Iwbi+l8SEN9HTyxafRKCShDWeHvWXq6I+hKZBVa\n",
       "m2JXEPf7sA3gb4A/NmeNqRkZHVucgOg1Yq2eF8udg8kFViIAStjvRaMNTiQPweqxZlOIS6tfJuCE\n",
       "Eldrz2TNXlptslU0yZ0uUyAXZMp7qGU7eJTagGbx2bcE3jOERk3Lt7/nK/vEDkJcUqd0aKVXRWVV\n",
       "v8rjKSZOJCZ44Ji0s/rqTn3iC08mHQiu7q5k1Hrme5qnxoyIZIUw7IyRuh3vbwRfY45voPa5+nyr\n",
       "P7OjL2AhZ/ZfOwCLfBJzef9WxRWcxaf4mxMhu5g4BqNnvEQ9oFV2ysPyTrIL1gcrzbWdJueYvIH2\n",
       "llJFYgptbsUv/E+c/Id4boCzFwZUXvbS/rrXYxN1uvANNPEklCsN6gl6m4RIXHydIe192/gO32xu\n",
       "QjncFyqJ8Ohmteck/RASRprioAAAAYFBmj9J4Q8mUwIb//6nhAAG5NdHXQAUD9Auz7Ts6/LGPRU/\n",
       "Fp51xuiswI0cQu9XTrd0Qz1tpU2UTSMpVGzQ+CK53Hb9N++T8pVqivYRHnOkmKtkN7YZpeEeudBu\n",
       "G+m+bgaX0SYO9i8o/UR+68Rb3yoR9hQCPOj4JUCndjn2wAvZ1ka/SVXKLU96IgwttWkVD71+NUAG\n",
       "S8LZ2MvdILQem4aRf7BcPLcy36jy4cEVZbsVdefhNzQW6SQnNwDEwNH85hD9JLh2K9NxMticGIUq\n",
       "vaz8TJ9ioCVxF3Gc1pUTw22hz5mVF+RKarW+1poF0Shju/gSMFLbcOEK5df90WUhMz4P0mf3X72P\n",
       "5Ci5gSbJnnmWwyYcKfgujtq/XHzoOpSW+Ip9zpBJVjXxdX/7L4EYvcwsSHW71M28mYyIpPkVtqQa\n",
       "+gcL1gb2aVDGInLQd6okdXeZbPvYGSrefF5zbse4CA3w8hFY2nm+KdNDFBaAdlXuOKCpv5RoqEB2\n",
       "BhvNfx+yVVxYAAABfkGaQEnhDyZTAhv//qeEAAboNKpAJPiTbiYFril8+Rzb1zoZ9GR8JmDybafR\n",
       "+7sd4XqnIqdvdPl2VYiZ1ycMoR/JHFtY5eow+NZGExYF50Zw1ZiqgQp0J4Z3pRkBvPEVp1AcqF7o\n",
       "29mVA30ao3FaXCCIVdlJPUkdCgrZCbbGtUjn6asLPqFdOgN+eAwUgOLQtDUI1BzrmUko0sgz4ixQ\n",
       "guu2YLS4Kb8qqNsEsjjpYpDao09yIYKoqfHjZX/ZHKGF1WL4TLcvCdACivQSraiyHNZY3TUFjrd1\n",
       "IzTEYg8EFSW3YZ+AT/Exqr5JY5T+/JeJR4J1Nr/EIJ3YSHqiSeXklS5XNmcP2uUTCmPAcHVSHHgy\n",
       "egyDvQcinE9N744oovZU95hHD3byQUJfVCnh1tyhsIgpkirptVjJQGmSF/xheLj7t3t0UYcHhXwh\n",
       "YwiVgYVseWQBszh4kxGXCpqwED81F556NkcGHHxjySRL4XiPrOeYlQPfBgNxriNA0gv8mEEAAAGF\n",
       "QZphSeEPJlMCG//+p4QABuTWouZvAIQkD5rWB0QikHWSp5mQfjuSoT5SBg5mBqkEQ3HlJXtTQhLj\n",
       "eg/o9PX3nfOFXRc477tQGjHu/2cdxgmAEHH53pnZUHnxKf9mZ1scmrtRfPHSW+L1Dt16NjB8w5v8\n",
       "onZBa4Q4C8Gppicj7Bkm6A4rt7IW40/TK/M1o6LaeF8SHPTBOSrQn/gfmxb2XrS5Cv8cZNMJKgxD\n",
       "/68o0f8kP9yERBu+nGAWZlM2YK/gWuj4yZjcao12bPMuucqmXId/qHDHLnJyc9OUJG9sQ1BUgHka\n",
       "Ac3lVGP42HSO8SZO69BUDVH0xzHhx7vJsm/mtLf8WUA4MYuC+yvekvG1AKt/8D3+GlY8NYZFwIbn\n",
       "iccGffn9CaG6yhiUQ77IYxSp8h7gf3YeUOaY9oMvLJiNgt0TiemqxVVpKlnUw8ms44PiJo4gQa1v\n",
       "5M6Y9mGwRQ8iOExf/5lLxUVyHyxjOBwkOeAnAJ8TBXHe/xIA7D3//AZ94614kn4AAAGEQZqCSeEP\n",
       "JlMCG//+p4QABuYuSAE/LgxvseYPP5DGN37v+hn7j7nzjZDVxyZtuu10Wegro63frWYNpnpY/e7p\n",
       "7iQYWL8hLrSjzH6syTfQAknb3G8mEk9N4N+GBdulwU6NgfWxt4DlfodDeCCtLfcPXv5Tty1G5EUX\n",
       "kggfDyFxPzRI/iOC9KiErMkHiXkPf/lGo9KoGVO3du3wOxi0R8ioQNzbB8NpKbmzRJWkEfseDWgC\n",
       "GB4Sy+AmzRwVHOaDvyoIkO4lkljjpMzJ6RQFwWweBNnq/I2NdIkQLyhUOoJhfTPi5esZKW/9beNA\n",
       "tlbY1IcVgnQhacx6RSLQRJlOEI3knQxfwJoU1IE519Bo+D8r/UW2k78rUcR0kb763tb2+FXunu5P\n",
       "xO2l6/XX5Q94Bh8uViU/zGyQdlc5S/1AwZaAtGEM7h4278v5oMUq5CflRKm56nXIV4a1SvOkEGiX\n",
       "MvM9fJW+j9LoFdSZ541hloZpOlHvyVUfbdkVL756YxTmzDtotSVEoQAAAbFBmqNJ4Q8mUwIb//6n\n",
       "hAUvj9hc8ayvwCEb1OLa7y303rAAiw40JapWv1gAJE5oc+ebKuEBdvCxbJZlhX2TJ48UIRfdV1UX\n",
       "zQCRDFLN97CUF/uz8cHbPtcQ3rrQQTXXISrBSHVA7o4+WVii2MP778z6fVvkZ52tz5bBzKVxd8/K\n",
       "njp1bg9bp5SfBjNaUDHkJL8P8RdndbKo4s2njxYZgqQCNfMP/0uCAvRbSffrys0vsliaHyaF9IdQ\n",
       "7rnDtUZNqJEL1zohOo3j0GdA6UtLdfP71v+kc6lzhmuEOGXylbeWdNzt+IuJBVEn5cfCSyfkvYG8\n",
       "e5X/Z4jXhtLtLgSNlHewIlq+X27xIXmJ1KCUamHPtiJy1dzHt+qcLgyG1fRINAdbagx0eeMnGtCz\n",
       "8/8wFaWBskseQtX/7MsNog1ymN5rgbpwoq0kP1biPms4OFuTkr86yQYKA9T6uHENZ0xQH9rdYu+P\n",
       "kZU+6RswVB5FYs4c881ak7V5qoTGYpyXWDGGLJZQP7QgyVYRNSTKNEnlDNDrEfEHIK9B1nnMc+eF\n",
       "j9PbQj7jQgOHcNstTlenew9he9fwAAAB0UGaxEnhDyZTAhv//qeEAAbmLkgBP9DDifXlUi9ISbpW\n",
       "rXuHUHylnoHHhPEhs5BtPcWenrzbODBZtxNmuafExhGnZ0VB52qMxwksf/P+yHgb7oDKio+h6tz+\n",
       "bYtpByI2RJoCz9/zIXdYW/WFK13VYJBO+g8JQ3WqcUlaJU52WZpPG41iQcwbhfO0ZOnapAW2zK7K\n",
       "bCyO2mhcB/NPgCQbvQM4M3CJ3huJZH6HOXrwLKtBBcoIJ7B+lDUeA63bE5S1Yem9t/YUXVLo/0UM\n",
       "Q/wJCvred2IpgI0f8aUemQ5q82rX+2tTYlIjQcqNLoHwccp4bFN0Wq465Q42Yyd1rfV3aB34Ri9U\n",
       "r/h62faSatzV7tpIIianAAPkHweRMWSVixY+uJrUtnwEhkY+gNB1zfU2vVi+ndvSeHkQiGoK36xW\n",
       "f/x/UmPye5Ys1cyZ5bAiYkXHOFcZ/rIoU6BsGkPJbw3V3TExpvCE4LkjXtTd/PmciGaF5AVLT5sW\n",
       "+W3W7bs0Uoa/fQ5uFvKichCFdJ9TMqYQW3CuYJtSBjJHu3tcnVG3dto4+jatcTj+3gRXAUpa2SzZ\n",
       "z2Z3HZCwh1uNjSRnepsPKo4qAoVailN5b0OBw3GLE7jzgQAAAZtBmuVJ4Q8mUwIb//6nhAAIt8jZ\n",
       "vnJeATUTiYHhatM/ftKLf2bjdjZ88xCS3FUsXs4kE5TKTPDtApP3yHfSs4S9WUcw30MZkhoQ4SJR\n",
       "S3tYFPBiD+sJzhHNkVfhGcU47ywcgsjmABVCPEhr8ISNPQbJ6K4ivYTCKJuJOujuqOs6iEg2EtY+\n",
       "f4IvLVmvf4BtBS3445/H6A6DCzTiYVZnsPi4n6KSRjTQpSf3D/9ZeTHXyLDME9G4dtLaUM8TdiXz\n",
       "vcMvzFloyFRB1/S098CpFgt7m7OIQ7LkB8A6wrWXkut12Xq7zUPVCc0+BQmVbUrZPf6iJCpD9Za+\n",
       "pY2X/JlRaNN8IfGjyf2GmBUQXyd7zu69uuFT8He6jKQtnDUZno4TuHdmJKehJ3SVdRNluUUMcblB\n",
       "pVvhdvmsTocQv3Vr7Yv7pb8SFrci/KyXsCgeGBNvN1KQiJ36GvAQA/pjzqVJH3AF5OV+dvACje9N\n",
       "RGkEX2rXyaUmWoc9S6EKj1wlu0C2u20ZoPdqA6B6S+RMtMAiYVj7r4QYmyMv3J1HGHEAAAGUQZsH\n",
       "SeEPJlMFETw3//6nhAAG5i5IAOg/nvbhmDoiPM1U8FdD5g1Js+0hQP5WJMlPSW2Lji3+fItDT4ow\n",
       "86l4hUuCHn9Iu6u+rhDaNtJPnAr3A5xLmLGV2LC607EfH2lICOvnuHWMUWiAI6rlO6y0KkdWv8yi\n",
       "b31dZcl+B5Bu+jYL1pmkSDI8P/fiAhjQSl/xTz/PoKtn2/UkHDszuSfqyUM85VPiNA9LYh1JIXkw\n",
       "Rbq4O2nABxQD0mb59gu0661U463/QPbdBzYpQUAYSJf1Iv4l59PtBNyuY9QlEz18POfhCk5Uj+45\n",
       "slEKJGIwqCOB+rsLsoK8Eeva58NwjR/NsB1t48Y6Mk/3AGjcIjQ35nsH/s2fx2LDs8uEHAqM4NoA\n",
       "Ve3TkVPprVKi/iN12CNdnP8ls3cr6CK97xKevhDn2kc3K1tliwDUmmuD+uMy1fzo7dbzsCe2Ewf+\n",
       "Tc7BqkSkM3PnfV8ILfVLkTDSqG432Sq+AZ2tJ8Ij0QnDx8Q4wno2OhfTyciJg8Es6XYHI5q6GLg7\n",
       "1okAAAB/AZ8makK/AANhYaMZFhJZSALuNVie+BULSELVvHOhIXTka22/TTWlfaenoGIRmSxLZeh4\n",
       "gGO9iFqKX/HYNBtZ4xMwPWpibKezEpLjuSJyzxRkKN6R4jpX/Ko5gAuoENTUKFw5/qIWSHJ7rqVj\n",
       "WOCA18GkesmlYQYlJryAPiuD4QAAAVlBmyhJ4Q8mUwIb//6nhAADcmycYUyj0ANOXo3l/lH6i8ra\n",
       "NA+6Uron82Vu38RsPGxUBLbkBDrrLY52grIp/ErEzK7lQ+dQdm1Ft9zjVJ+kVx2Qmd9Sv7konEU+\n",
       "1vzDyEvgRs0nJ19jiWunHAQz5M8Ovb5VC9uCdavmAa0sxD+VUIHacPZFDaBdpiVs+HapdmF4yA+9\n",
       "LWaIjlG0Cd3D8GcZjZwBUn1DfRZPg4+sa+BK9kZ+e8cb/5hK2l0tafkR46K2tDCWo0TcszefLRT7\n",
       "dCY1Esn7PnAiFKEidMqgpEyhMJ33hNf7M706j06K3oeCLp62i76iAvdMcMQKfrn6S2hnWO+BWpid\n",
       "y7Vl1PRB639CvVCjtNJq4wRfphz4WqnnJOSk8s3K/FyExkKhJTAkVF21oya5ION70oQViJnNgO4z\n",
       "DiHN1gkpSbLayiBHDwYFJVOdJ7ap8lgyRMAAAAEXQZtJSeEPJlMCHf/+qZYAAbyZg0ALDY3jgzYF\n",
       "o2Kf1/nNURrOOb8aHHtSA3j5CEIn95Up0Tk8vFzZm1uZVj3KNFFc9juhNjWC+1/rhzlVaVsARQr5\n",
       "5bIwUYf254McDB9i/GXtR3t1j/9zIYSBZd8wHfTIH5EGsaHSyLQt8rI6OXvOAFBxEWYwxi2NDBig\n",
       "5Q/G/Aeg62nGTNgwMnk786tmoqKREbk11tEh7ABLDuK0v6VA178abdmppZ12WB/vN7fwLoGrU+Ri\n",
       "h3S5rJv/THtkcvOhOIWrZ4XCCyJue4ojG9uiRIvLj7xGrayvLaW7+hdvZ5ite2oHUE9eyesBi/Rq\n",
       "hy0wxfYcMTeE4m0TVY02dJHKYU+c9Vu4AAABPkGbbEnhDyZTAhv//qeEAANiLoUryFxM+76vOTFD\n",
       "yEa4I/PGshVM0kSQuH469kNWCLTqb0K1Tg7+TrKE4f2w4P5cUse7WbQEeuBQ11Mf+6b3GoXRwPgW\n",
       "cKSfiHTbxwn9bcAlLHDklFBMu0qazIuZTba6DsGKkNHwtnk+MJbPCPHsgw3x0wy2LHj6/zgMb6m2\n",
       "Ro07Ec4QQIHYhGgtPF9pgA//4D8FaBS1O+sGNyTUj5hPoCDabXMx7SDakFCP9uQwwIQ0CqjwFYe6\n",
       "mWiJCytEgke4cMTudmjfmHKP8bZXEKJlpimhnzSwsX0c8mauXyFyDBNKNlYFbHDORgQskncwZ2oe\n",
       "W5VZYTo0GgYx7/WTAvfljAs4hLcc2Npg+cgBIwkYpNXWLHNWmuX+nCvPi+ehnq9pPQXKDA0EOSNe\n",
       "w+xCgQAAAGpBn4tCFf8AA1eaMLQnPdTCbyPK6FrEgMUVjVMmsBT9z1MNNrdYTxkmYPAqO5yT0KxH\n",
       "XVESegbwdDib1OMUXuU4Xv7JBBpOGiJYAJTasHRvvwbWCPTrUr43JxicaX454qgLMlj8QAolb7Dg\n",
       "AAAATQGfqmkQrwADX/2KKV1fI234goE43qlQ+LcfM3SFewkdHGd9JdPakzE1+JqteeP5H9hhaKah\n",
       "Y9RgBI7y0VKs3VTxjxGyjMNzQmJQ23IsAAAA6UGbrUmoQWiZTAhv//6nhAADXuUddzAAVi6BT1hF\n",
       "kfth8sbp81jeHyM0N5YDTcfa+y6hjEv8+Lfi9Zc0DmcThql+SJQTSIKGRtkNG4G0uor4zwtOqVOy\n",
       "M5KFX8dB6xqL5+juchhGKG/u3VGL0MI4oUWMFN///vj2qGcivwKs2qoblo5lkyHUcychKGCSQS7w\n",
       "gTNlUoRXC4Mp0JeN50ynic+Uk4mnQCSsbwZrj58idgrZQaBbprVlGBm3KIjiAv64rH/c7FXT6yoo\n",
       "gbg5qR7HpbUV2vJ/f0tSZ8UWoO+Dh25l9yTaFRrV1EaBAAABAEGbzknhClJlMCG//qeEAAN0KLh8\n",
       "mKEIxG5nlFxxkEgSmABxTBf8Ey1z09QLTiUSAcCJvUVLBBdgWLBK7Noioaoof0W8bl3Ok4SrG1Y0\n",
       "n0fdxZ6w01cdFskW15WmxETwMNi33tAFle01i5i6brtf+v/ZGJRW5XRHmoXYs3A3EyGEQotmek6s\n",
       "W/DrWwErc6A7UlkHM2GvYj6FJJkZFFj0xA0Mr+lbHJVV+w0iEH4sVsuyZU7NXNXUQkgJRwoG+QcU\n",
       "hHZUZ46x7IJr4tiGkheyzr5p9Psvfc424ScHFgUnpWRkEZCFn6Y3rpO7yRtJivHLxh9TUU4Hv0G1\n",
       "khrfRQGalPEAAAEOQZvvSeEOiZTAhv/+p4QAA3QqWMjAAhH+z3l/Pb8M5IU5+oQ+euxDOyRrC/TC\n",
       "L8uyfrsfy39jyj/7KvTN/FiIsRsrE0b5uYWLR5QIOU4Pwu8vctAmsgOCIQMQxPc+CP+Dgbr8OeGz\n",
       "Asn1sTvHXf9db+PRhCWZ6PMzdzwaj0ORLHhkjRAhrwy7J9d5HX8R+JSHkf/OiWIXNcZwKIKdW5sR\n",
       "1kZ8POPZtFB1aksVu9hS3uXtqD9IQbWkjEmlpRvUORVPRF7PqF3qSZyy1VBEYAANSjFqI1G3GHcg\n",
       "kWMYl8lxmdr//4GExmyX6GjGBbBR9swI3RjsSVK5I/kumTdnjXSUiUxgWIVskN+zg+9TXDxRAAAB\n",
       "70GaEUnhDyZTBRE8N//+p4QABuYuSACwBQH3IUqUi9IHNrUTxfee/rgzwP9GOVRxHh39hsDNXgKC\n",
       "/0uoIivlxsw8cPwhdxm67vvG7Y3xCDnnT7SKyenWvNIRhpXoQD3Cq1nrfRwikgq30GELUcPqXKL7\n",
       "UKmptQ/cIWpzlCG5KXokOkZC4/InwFaBFfjYIQuwSxTKRymGlbD8pvGOdMUkVWM0rokiF10MjyHW\n",
       "Zku1o6aHcHCbK5opzAde0K0wSKGwe1TzWiE7hFs+izZU9cqmXvak0OOmbr6aCfq9jgUGtztmlafc\n",
       "RhifSZ//CI7bQZDfFrKSdMOPH6ryCeXghRUVeoih4p+u3T0immZzuFT+6iGGwY6d448HwJhaWvuA\n",
       "zX7zB095OHmleCvxHLXhUZFCKPVtUdkC5zRaML7VXmoi40loS3yqKmMrMKSIsnL8PG0ATTsTMPEb\n",
       "kPmflLH80WpRDMKdT88DjM6l95tTgOeBAmSQJoGGDa2SDcGbH7jzpC4rMTz4iWxmF/PS3FBE7TQ0\n",
       "iz/CTCZireCcXyCcmVVkoKO/APBv4DCHxNuDtaWEDvzyxv849Kc+hQ+Hn+TLQPGk690XUKyILLH6\n",
       "HgtNNmcsnr7ag1aiOUBFEQh/QiFhJ2r2V5frA+C1l7dXIy74BRzRvQAAAK0BnjBqQr8AA1eaP0eS\n",
       "7t+guY11w5SJZWJwqNNEdbADSXwbZL8iwUMDjjSpaqdmylKsrR7kARTcHE+eA9L+4DOzX0ZWNAXJ\n",
       "Obx2Qym3x+ix1N2U3vS8sw0Z5zOOU3EL1RTP1k++uR5b4GLNwyWxyEDAsvPU5tmp6GQlIUKMkUJ5\n",
       "zCEebk8aYKk8fXYg1kxc4KzNRaPxd4H5dbKqYwyWp/8+NBByzJkHcJqictZWwAAAAXFBmjJJ4Q8m\n",
       "UwId//6plgACAHGegA4vFvocqVcocbN5tAkyLAzuEmPvbzNgiZPGQIS1wWSMfnnRosmu446flZoS\n",
       "ldQ0pHpqz+g+rWtMD3RquzAOcpFAtRSuI7qkUqk44DzqPYtLR7REeUcX8TxzKAw6ocy0NGrK9f3d\n",
       "SVI/I4AkrpPp04MIs+z+tz4s2wAXdiWWchjFOVuFg6+X7jbqRZzKq2FdXZ6ubGBNKxXfb4WJ0/KF\n",
       "XaVDHIAQSf8bGhxfwi5daCJHm5yGOYAwZlt2rQyN+u9JwWfap+dCU9aBb01AIWj6o3eJvPYpGv8k\n",
       "s1nZFWnLHoq+1HJVpziLbVyMzG02tCQUXEzkRf3fRYP2AbmoJRMvHIP40MG6nrepk77gs1vkXf/4\n",
       "89V/C00rqO+7oGA1+LC4gGQHJy8EblPeEUWM4ENdowaR/i9i4f70JdXoMBnLgFZ7S53ed19wS4lG\n",
       "nFgGC0Pa/R8wz6KvRdWIhNe+4p0AAAImQZpUSeEPJlMFETw3//6nhAAG5NdOpQAIxtN7qj3p7ChK\n",
       "YB+BRF62kvorvFOta+iPqoBvA4V7a+7FitHmrNxVUJ4Pytl/p1ZwsKH8GPlrRyhMkHxEG/kltAy7\n",
       "77BoJygNeBPeQ/ch02/7Zv/Pi/+T7r9ruyfL596CDvCvtFvLNEb3//wcBhB+sXMMQjYgCms2f1Ta\n",
       "hORLkSy1UyDiH4FP5M0oexTjakN6vLcN4L5saG0c5ELgYt5OSa9MLtNeua6T/u6dhE7X9/0TmiAn\n",
       "xhrNFFYgH8LJJAwt11RNzbn6OFSJh4/JtCG3RCuOURRp1YJAgMrXry9mSX4zaHbYytxfeZdsfDuJ\n",
       "Q/PK1X7/rQk4YY5NJ3PlSTYUHVmPl/U0RW4ypaz2I4fXguLyxmTWE9JeA/sJ/rn23jp/irUdL8Yd\n",
       "MIXu6SzsR9uhSOYLgluiuvyfa2KTiRcSUcuIqM4EGo0jR3Z4+Ybyrm0FmMpB1SsolZ1O57spWgn+\n",
       "98FFk1V7MkOAi9MCu9qu3w2NtdDVVkcTDSDDaMOyIjaLqFQNP/0LTDEvBQzBEMTeqbZJU9QTQKoL\n",
       "hAJ9PQzOsypejKQ9XLSFD93C/y6w0sk5fWkatMCZ8hUyvoO+6+NGdTiTiTwcHBYrPrbrG9XunvmL\n",
       "kDjcNH/SpOdJ89b62p6JY4ZEPM6FJowk+AXPy2Cofu79q4+wjlQIAJoGCNmKwNTfnMw/pvfMCQH7\n",
       "bbon3AAAAIsBnnNqQr8AA2ueCNfWgrzE0fR3YguviPSozvQuXGBc3JTklVVswmniwzUb1aLJ1R9e\n",
       "7ARxb3GoSwFOzE1RQTs4omUxTzO4fKo8BmsxwR3Hww0+tHlgzN603KvoADI9ueHVPToZ9Zofo18I\n",
       "oYwSevv1DtvwAs9itXCu/Jlg05Nla6DK4O4guMtaPo9QAAAB3EGadknhDyZTBTw3//6nhAAG5NdO\n",
       "EyAIPsDPAvQDPncxMy6DXKmkUc8O3jkBte50vN0/262kBCfWRs5l58HBlWEf0d2ukee0BPqgXqYK\n",
       "fWH4uhfcfgHjP9jxHT8QX9/q4OXZbw0hu81VNuwIZmCrmTabKkKVCMfZxeCxMGEhQRREFP8xT48g\n",
       "0RmrEzMMTmKAnkbVC8QhKse4DbZ9Vhd/8LDZ9jpydaY3sWSZECE9hx2gU2QKhSi4gPnuQ1d4YXmM\n",
       "JZ1Gdkc+9UMYqmem2WifWbcBC7j8gTpYRiSH6SfI4WRxzBCvQtS0Q6SbCKC2R5275YeBCSRSzALb\n",
       "qY9PeQyUkR+1gcpPIExQ4u8pmWcnWZe/nYBNss7ZHrlECQxb3uO8oa6utkvy3mA7TXj+AFHSJ+JW\n",
       "xpRvd4cWqDkUX+ITXGPAUJ7dmEbspm1/z79j+8LK/2dj65NnkwoSeu1VsLfoEzAxQTXxjU8YMn1h\n",
       "tMHSCee67zFmKX30jiNln6+C4GxhsOfKbCHiVtain8cS5LNSTYOL3ttwbuWvhQl2wGcWuICXKECo\n",
       "d5dX8XsMnUMnuq1OkFNpfOc23Usxdhn+uLWeJwaP5E4aE+JnM0Ox/DjhT0uk/Zsgi0naKmM9ZhlR\n",
       "AAAAjAGelWpCvwAFer7hML2mERsdlqThUAKuo1U9PR0oN8KPDA+JUbZHA5zt209zm2tMazWW49t3\n",
       "YortKXG/P3PfIni9UYueCvTL1QP+deZdYUKMNnEGBLAmRgTlRdsFseRxgLKuNp9laMF3+8pzM2if\n",
       "ENfjSNB2gFgtU+R06S+NTHLKA9Yu2A/qt4ovOHHQAAAB1UGal0nhDyZTAhv//qeEAAbk104hgAHC\n",
       "JgSsUm0ZRQVjr5r8sEZ+CYNM7x2PM/tcDr8iehqlNBNmBZbWLAOGZrVDCuJErsh8X5MJNNefGUXx\n",
       "9GZFYAkkAYGLN0G569XNcFrvg+gPrzj+apd2pa11TD9VQld7lR9Vr/jsD1d9OzLYZo2R+MdxPe9n\n",
       "NDwdkwGQ4o9u4W6/Y8sZ7fxYQDmGgzbzZRb3dogr7clTDPIl6nW6rM8LRCOt0fUN0zhnUFwiPi83\n",
       "CW9WZDKIVry+zhGgw0MKqzZo8tmmbje/DXMtDwtlbKXtxkCTo4PIc5l8bTkGbKyPdEcQzQ9EHHw6\n",
       "ew6fiUMRay60l2y0tVw9roVFTx5GKVBNYtiJGfM7bz3MxvQJfnt/7bxcDdWQqKVl8SrE/tMC+Dec\n",
       "dKiaL4BgBWq3Dx2EjMiRc4vTDAYTE7J9SYMApNaLUD3t1eaoyaPucPB44MMoCyX7el/0FTrPSuiA\n",
       "ZyKT5FBwFMuqCNLtRYmHTWSZXbvQff1RjkUIrWOc2Ju1hrLsH8AVtGou/PsZUJOqpd6+QUegsWBS\n",
       "btsWQGcrCZVZoHW7hyViveUq9ffwsV33oCe8W+R56jcLOmhf/p+Yfz5Qnm35o0EAAAHvQZq5SeEP\n",
       "JlMFETw3//6nhAAG5N/hnz4AW0fjGINM5fGQYBfPTT2/U4rW3fl7QrsyKBXIVTlZvKUijmSWgr/Y\n",
       "4kQgdf883OAPF5YtQR34/48f99dVuY3C/j+K44CRwjiNBgv/bfOp+U1PVJkWiDDRgEmdOKcrpJm8\n",
       "KL/knk466N9Yl5zWU8qrMxxCRaJ0wt4+1Drhu1laK+v24NI/qeJl5UJIeOqeHqhEumoQEfkn8Qh4\n",
       "xTo9/xnwAZwgGnQoetA0CVpNW8tXPw9thuqc+CCK2fFLE2KQb0lztFuAttSlcz7sd/fliGP6XPMp\n",
       "DQ2dtf1gNJh+jc7opxcDr1VTmdOhPI6FVx1HO7GspNnI3d22DLGUEBxnkMimiG6S6ZZn3o8YigfA\n",
       "wg8d8i/thv5/737VqzVdBKNLFfV1o/dFSSkHxM+43FP41IdiGCGNrop5q8lbHBC4tmayW806gKqB\n",
       "IAqOP1dk60dc5FByjRvAf8GBlai0KHHdwn+CZuuCLR49J6S4TtrKb+pftHtzzqx35KfyQQfr58oO\n",
       "fKg47kaSufwK8HH/ytqq+B5zDyQDEMmQtZgy82aABOiZ8n4zEU0BtRmmIe0t3XbIZ2rse6rwkFev\n",
       "bKQ2Dve1R/lzT4qy7spF74acxDlYCn5mIogObbJ69LR5AAAAwgGe2GpCvwAFer7gsCfMkcZiGvGQ\n",
       "j8bCbN9Y+UJqkZyj/omPghMb6KoSG7Vfx6Aa7zS9suO4eTt2GW6pWBH3oRWY3ZyXmRIVCQvmRtHs\n",
       "HeT0drqgF2ZJ7Mbx11elEEHGB/kEVmZLHgNhH6ys6N6bIGNrkhoAxs7JzmHDNp5/0jPAKsAF0hc4\n",
       "ObpXmCDD37nMiOa29gcY5vPWLMvNX3JJ4+oARiqoJnwdva3pi+edDvvituk2dTimgrGxManb8DQq\n",
       "A5T4AAABnUGa2knhDyZTAhv//qeEAAbk3+BLcANDclFbJEtQ24SGBiWCPIuzOzcU1Mb0YCAYGey1\n",
       "mL3uDcz8p/IJyRlLz6DRYkrHcL+dm5YC48MKWsBie7GhULhY8sslHac3sJj6MrFoE7M8xAN+sdRU\n",
       "YYtVQvqMBawAid276FXgracampMrYoC6AVs6ylerQc+GwDtcE2SjG+IwZcFgHtAYDpraSPjCac13\n",
       "mWlXLdegaBdZHa/kpilG4Ef80c+8tiX9YBJIDWA3w5bG2IZZwVIrhpCNg3Blcha7q2MW6xNXWUao\n",
       "JAmFKsrMFwbjNqV41jOli5v+UOVjGuNyPf0dZ0rtjgB+j/P8H+JpOq86+iltNycH6j2wwWAlGRTu\n",
       "vFykuaCdNw/9oxbST5YKJl8DUthFX03doTVXJG3s8BeS8mXo3AhmWr0NQxCNzIROibovOq5wc9s3\n",
       "p5NXwLfMfzcILk3SDQx/vEaJcYL+kI4vbSQp+Gw0sW6ojegMpj6hg6bCgN+xdADG1sH+z+K1r0Bf\n",
       "agJ05M1Uo4AAACd1xs2qBHqy/dl/AAABWUGa+0nhDyZTAhv//qeEAAbk11iBkABdLHZyplVkG17o\n",
       "k6YOuBD0F11thABDEa2im7vDfIXAOcYJt2RWQsStLlRLMD6KUOvdwko57PTiqm3espGvrQQHwAPo\n",
       "qH/3DNgYOnQEFif8iXPAT5Wbg6mfARIsum80EbeU7G81mWwI8idO/d7t77qloBwbQcul7Ry793w9\n",
       "T4bB+2HEKc2kWTPazVtMygdFqTYLcvLmKXV3XD8rRao/1G/76tdtt0N5v4d26uNl6JPQzRhL6z2p\n",
       "/+41BbXOF3LOrmTDIcG5LiPFQ5IE/8cSiD5HT0QtUKagoA2Xmv26b9PVG7ZPHT3HnhIlNcd9RRMq\n",
       "xpG41AB6STEVZSsluw+Qv5zl7Ki0IgmYYXU2VN49TF7DT/QFhbDhfx6xsOkfW7eARl76s5qIPhbu\n",
       "005UsnvPHYdKj/9ojVTuEhfjjcabraOkaNDCgAAAATJBmxxJ4Q8mUwIb//6nhAAG6HIw4AVlxs0C\n",
       "cGq3e09YIDWIEDMDLh3rq5keSA+aZNx2O1d+5vzp+TCXVXZ+aQB+ZpRP2wGh9qaSTAtjtYpCbwyW\n",
       "dk0T3AzyJw0s/HNSdtSy+3jtbMUsv48upZ9RhUvnckQks9asjBqn31K3aSobsKOV/pckFs2xaxzc\n",
       "Q3vO1Obh8AjmyuZG6ER4A5MSQC9k7pOu/xLEtSKC9ksXDCNXzwfVHa7ttcy4/EhIngX2Z/hVYuL/\n",
       "PyZAT5mD+i/hBaO4kldia5SLw6+J/Jzjhj/5aRLmYuo0b+4HwUVbPHeJ2aYX5Ap1y4exO9ve6M/G\n",
       "tXrMZNes2EYCVcTcHN7VphvvevNpWayEgNolBCDWvILKDBYxLJ9Bl25y5i+8TivaMwZoRCUAAAEv\n",
       "QZs9SeEPJlMCG//+p4QABuhU73wAfxrrE3yX5jicC1ziCv/CMxn1ZS21MlAiGpBvMfT6LjoGhrV1\n",
       "A/bblXW7qwjimJHD76ueKrSilBXkG0UUZmVJIgiOKBMz4794DxhCk/hYRKo9vyFGkY9L20CnRvaF\n",
       "YikqgJmzL1N2oa2LTnmaKGUSLAYMobv3/Ot804/WtBPhN5RjTLqR1Ev1niFRtr2VmxTPGSBei4Nz\n",
       "y4F4p9ODWOWdF3SL31I579ZCBXVgBBbNXf7zfZCCYDzSL/H8De8JLvOaxj4k8eArJsjE7EqIcnUD\n",
       "uOUC1eWn8pVUpVtT4ikeYo+72CoEmtE+cgY5qQTIP/lk1auIvCVZN/3JwnK75PG+rSxSKSJPKSQp\n",
       "nqJxTI4AAAMAHTtiiMvCYwCdAAABM0GbXknhDyZTAhv//qeEAAboVOSEAH8HiTIKA0ejHt38kGHC\n",
       "jDMLl1Q/kCgt2VUwfa7NHP522V/m3IMAf0jL9/d8wXx24+7J/tWLckn8WQZMw5Pd3nEUs0eSeI3P\n",
       "b8gezK1nVPe7DqaS7XYlROKKVEewlsPTeqmHi/nEuGUwfKDPuQFejjeEzYy1zq98gIuknslyB6aw\n",
       "/ewoYEvzFvyGTmrdXxDItucRyjsDTSeCihemy/eV7yfkgNWeYBJDAKlhm6DTQEiu41e3HdHJ5KvD\n",
       "NDppM2V01fVxrrGNCeZTRuVqeqcP4o78lkcYETqrAh2oxXhCthaqJON8PMxGjyzVZMtvwc2JLlY3\n",
       "lZUqj136KCZivF2FgQg/U4xE8/ZGt8lKvEbXji2n1850j5Pp8oY8DEYoAq4AAAFKQZt/SeEPJlMC\n",
       "G//+p4QABuhU6NwATs2ZytHI9ZJk5hNAYMa34FlN93heKsFDXIvpg/9FM7j9QXiPmFc63T0fDrGK\n",
       "oRgyEoqPFbqLFu4laTuFldn9+/V4k3MNuFufsQfmkkA1MfAu7dff9u1WPnbKuYCv6zOZHtSIz6YG\n",
       "IAegUqv/lzzDCj+HmckUDTV952Yvzl5XwDA2pYOQCQPq5MoRFDVwmcWYxxCrnTlUYTxyIUJnM4Py\n",
       "oY8ObYvdcOw+BNvIbR7uoeswd+gBFUzS30qS5xHbU4wn91QGo8KHTMsCSNav/E830Nc7NQS+3j8u\n",
       "4QGIc2gwPG7MQ2lM5Qw8qNAnVHOQJSt/wLFkGSKD/ayn8CS09x5XhOJPRQdfUJwapAM3CvddRkee\n",
       "//0w3OqaAj4gfV4m/sll0eVGfcghsjl85TBLl6bq8krm8VJAAAAAaEGbg0nhDyZTAhX//jhAAGl3\n",
       "O5gBCkTXHb4HV+IRcVQKdqteA3Ml1mMjI2Vx2yGWvHwNPgo0BZ/Rlo/zj+ZWSOlBfqxoU9PVD/Cd\n",
       "dFyasmJWtNNn7VzFotWIh8d9MtW+uEPIt5VK8wM/AAABwkGfoUURPDP/AAMR6QACdkHxMfQSgHrc\n",
       "M4XOp16Ke6X4nAOdSuf4jA7IB8aEPhT2cQCk9q7Q5NubpSZ+oofOkooKJ0gEq22r5TIG6rl+UBEH\n",
       "iFmmzL+QovFyTrx++8nZtmf4MwKwrJAV3dXjorvgja1hFxbmTR/70WR6Fc4GYlsBxFTA1Ae7GjRN\n",
       "LH4cPm2WwbMnOF3lhVIAU2Cl9ddzqZk+iA8BjHOuGwKGd9CXmAcvweMHqtyq1AEhB4+bXBgWhYYH\n",
       "OFEggVMkt17XJcItDsJnIuB5bGJjqL0deniep9jSoXHZ1162roLgbPPhVWqvow9zV9QnCwxMNGdW\n",
       "0O8Nh7L8RI18+7ZnrpM/vnG7dIjD/FphDI5immtguM8fB/u+cnngm+IIobpnDB0DN+aPuov+2JHo\n",
       "rk3h3DbTFIRrJOF7K1Jz9YAlDkGNx8DgmPWWwNbmUM0k6gNRIjhBBS34gsjSBNPxemYOf9eIO2se\n",
       "yNPtrGprm0oPBP7Nyg/6cVna2Z1Jxjigxf/aeSAJfe0QQZ1HtotxTGxtPuOIx59Xi0LBYV8nQedD\n",
       "yHag38wNHPvly6lu0+ZimdaNMQa1xoIqdD9fdAAAAMEBn8B0Qr8ABZuCD8cHv/vGvqL+sK+0EPZu\n",
       "PNdkDDCJ5QmGR9TmyS2fnJP/+BNU3d9pbUtLIAWL2Ob1j6yEz0mT5Sbl/olMH/1HJR5XKq9CuZBZ\n",
       "GJd2VDB1sAInES6or/cbFyyqsrUuPzu+ofeGx3zFBacoZFCOCEG9lySsj3w2j7E8GsykGUpXskox\n",
       "sSuz2OPndP+JSV//vXbwat/TI0Sm6j+Wkzn3gP5PIh+o04dJsSMskmfleCMS6nsdMzbaEmkhAAAB\n",
       "DAGfwmpCvwAFipWnw6EREnZ1OETqloVMw0ALYXZtzqaOf9Jga07IBEfON+KaNM8q+ETrc6GfsTX3\n",
       "WT5HpgXETzcQl4cXiXY6mt1ATd9DVH6RxQYdikf41zIhDpb919Av1qS7lgsIVtk6+RkBhkVH7pzx\n",
       "bTRoBJN4Nw9ut9Frd6QlkNhiCfBp4qBSYA50fhvNficxj2dqQHYGFezrP/mVR1MIg8nvtxvNDI5z\n",
       "LzsFZmCpo5ZFNai5TAiTCHrIwhl8l0G5F8b1vWwKAvc/u+ete1fd3v2DKR/ZqTGY3r9i80dB1pIc\n",
       "k9SRoQncY7tzTx0j/3OTN5n4/xeJcAyXmJiYEpz3RRtHMrjTjW3cCZwAAAZmbW9vdgAAAGxtdmhk\n",
       "AAAAAAAAAAAAAAAAAAAD6AAAE4gAAQAAAQAAAAAAAAAAAAAAAAEAAAAAAAAAAAAAAAAAAAABAAAA\n",
       "AAAAAAAAAAAAAABAAAAAAAAAAAAAAAAAAAAAAAAAAAAAAAAAAAAAAAAAAgAABZB0cmFrAAAAXHRr\n",
       "aGQAAAADAAAAAAAAAAAAAAABAAAAAAAAE4gAAAAAAAAAAAAAAAAAAAAAAAEAAAAAAAAAAAAAAAAA\n",
       "AAABAAAAAAAAAAAAAAAAAABAAAAAAbAAAAEgAAAAAAAkZWR0cwAAABxlbHN0AAAAAAAAAAEAABOI\n",
       "AAAEAAABAAAAAAUIbWRpYQAAACBtZGhkAAAAAAAAAAAAAAAAAAAoAAAAyABVxAAAAAAALWhkbHIA\n",
       "AAAAAAAAAHZpZGUAAAAAAAAAAAAAAABWaWRlb0hhbmRsZXIAAAAEs21pbmYAAAAUdm1oZAAAAAEA\n",
       "AAAAAAAAAAAAACRkaW5mAAAAHGRyZWYAAAAAAAAAAQAAAAx1cmwgAAAAAQAABHNzdGJsAAAAs3N0\n",
       "c2QAAAAAAAAAAQAAAKNhdmMxAAAAAAAAAAEAAAAAAAAAAAAAAAAAAAAAAbABIABIAAAASAAAAAAA\n",
       "AAABAAAAAAAAAAAAAAAAAAAAAAAAAAAAAAAAAAAAAAAAAAAAGP//AAAAMWF2Y0MBZAAV/+EAGGdk\n",
       "ABWs2UGwloQAAAMABAAAAwCgPFi2WAEABmjr48siwAAAABx1dWlka2hA8l8kT8W6OaUbzwMj8wAA\n",
       "AAAAAAAYc3R0cwAAAAAAAAABAAAAZAAAAgAAAAAUc3RzcwAAAAAAAAABAAAAAQAAAbhjdHRzAAAA\n",
       "AAAAADUAAAAMAAAEAAAAAAEAAAoAAAAAAQAABAAAAAABAAAAAAAAAAEAAAIAAAAAAQAACgAAAAAB\n",
       "AAAEAAAAAAEAAAAAAAAAAQAAAgAAAAABAAAKAAAAAAEAAAQAAAAAAQAAAAAAAAABAAACAAAAAAEA\n",
       "AAoAAAAAAQAABAAAAAABAAAAAAAAAAEAAAIAAAAAAQAACgAAAAABAAAEAAAAAAEAAAAAAAAAAQAA\n",
       "AgAAAAABAAAKAAAAAAEAAAQAAAAAAQAAAAAAAAABAAACAAAAAAsAAAQAAAAAAQAACgAAAAABAAAE\n",
       "AAAAAAEAAAAAAAAAAQAAAgAAAAATAAAEAAAAAAEAAAYAAAAAAQAAAgAAAAACAAAEAAAAAAEAAAgA\n",
       "AAAAAQAABAAAAAABAAAAAAAAAAMAAAQAAAAAAQAABgAAAAABAAACAAAAAAEAAAQAAAAAAQAABgAA\n",
       "AAABAAACAAAAAAEAAAYAAAAAAQAAAgAAAAABAAAEAAAAAAEAAAYAAAAAAQAAAgAAAAAGAAAEAAAA\n",
       "AAEAAAoAAAAAAQAABAAAAAABAAAAAAAAAAEAAAIAAAAAHHN0c2MAAAAAAAAAAQAAAAEAAABkAAAA\n",
       "AQAAAaRzdHN6AAAAAAAAAAAAAABkAAAJ6QAAAeYAAAIcAAABqwAAAYwAAAHPAAABiQAAAZ8AAAGI\n",
       "AAABpQAAAd8AAAHLAAAE/gAAASkAAAC6AAAAkgAAA2kAAAEBAAAAmwAAAKgAAAIJAAAAwwAAAJkA\n",
       "AACeAAABIwAAAM4AAABWAAAAhwAAAgEAAADjAAAAqQAAAJoAAALIAAAA7gAAAMcAAAC8AAABQQAA\n",
       "AUQAAAGKAAABfwAAAVgAAAGFAAABLQAAAWIAAAFgAAABdAAAAXEAAAHHAAABrQAAALYAAADGAAAB\n",
       "mwAAAcQAAAHLAAABbwAAAWsAAAGNAAABggAAAYIAAAFsAAABxgAAAcUAAAGqAAABhQAAAYIAAAGJ\n",
       "AAABiAAAAbUAAAHVAAABnwAAAZgAAACDAAABXQAAARsAAAFCAAAAbgAAAFEAAADtAAABBAAAARIA\n",
       "AAHzAAAAsQAAAXUAAAIqAAAAjwAAAeAAAACQAAAB2QAAAfMAAADGAAABoQAAAV0AAAE2AAABMwAA\n",
       "ATcAAAFOAAAAbAAAAcYAAADFAAABEAAAABRzdGNvAAAAAAAAAAEAAAAsAAAAYnVkdGEAAABabWV0\n",
       "YQAAAAAAAAAhaGRscgAAAAAAAAAAbWRpcmFwcGwAAAAAAAAAAAAAAAAtaWxzdAAAACWpdG9vAAAA\n",
       "HWRhdGEAAAABAAAAAExhdmY1Ni40MC4xMDE=\n",
       "\">\n",
       "  Your browser does not support the video tag.\n",
       "</video>"
      ],
      "text/plain": [
       "<matplotlib.animation.FuncAnimation at 0x1fcaa684080>"
      ]
     },
     "execution_count": 54,
     "metadata": {},
     "output_type": "execute_result"
    }
   ],
   "source": [
    "anim = FuncAnimation(fig, update_frame, frames = np.linspace(0,1,100), interval=50)\n",
    "anim"
   ]
  },
  {
   "cell_type": "markdown",
   "metadata": {
    "slideshow": {
     "slide_type": "subslide"
    }
   },
   "source": [
    "## Exercise\n",
    "\n",
    "Create an animation of the function $y = \\sin(\\pi (x  - t))\\sin(\\pi t)$ for $x$ in the range 0 to 1 and $t$ from 0 to 2."
   ]
  },
  {
   "cell_type": "markdown",
   "metadata": {},
   "source": [
    "## Exercise\n",
    "\n",
    "Consider the Tinkerbell map:\n",
    "$$\\begin{align*}\n",
    "    x_i &= x_{i-1}^2 - y_{i-1}^2 + ax_{i-1} + by_{i-1}\\\\\n",
    "    y_i &= 2x_{i-1}y_{i-1} + cx_{i-1} + dy_{i-1}\n",
    "\\end{align*}$$\n",
    "\n",
    "where $a = 0.9$, $b=-0.6013$, $c=2$ and $d=0.5$. Take for initial positions $x_0=-0.72$ and $y_0=-0.64$.\n",
    "\n",
    "Create an animation of the first 5000 such points, animating only every 50th point. On each frame plot the points with blue dots (no lines). "
   ]
  }
 ],
 "metadata": {
  "anaconda-cloud": {},
  "celltoolbar": "Slideshow",
  "kernelspec": {
   "display_name": "Python [Root]",
   "language": "python",
   "name": "Python [Root]"
  },
  "language_info": {
   "codemirror_mode": {
    "name": "ipython",
    "version": 3
   },
   "file_extension": ".py",
   "mimetype": "text/x-python",
   "name": "python",
   "nbconvert_exporter": "python",
   "pygments_lexer": "ipython3",
   "version": "3.5.2"
  }
 },
 "nbformat": 4,
 "nbformat_minor": 1
}
