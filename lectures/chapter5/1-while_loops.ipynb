{
 "cells": [
  {
   "cell_type": "markdown",
   "metadata": {
    "collapsed": false,
    "slideshow": {
     "slide_type": "slide"
    }
   },
   "source": [
    "<p style=\"text-align: center;\"><font size=\"8\"><b>While Loops</b></font><br>\n"
   ]
  },
  {
   "cell_type": "markdown",
   "metadata": {
    "collapsed": false,
    "slideshow": {
     "slide_type": "slide"
    }
   },
   "source": [
    "Last chapter (chapter 4 in Goldwasser and Letscher) introduced us to two control structures, for loops and conditional (if) statements. Chapter 5 introduces more control structures. Today we will learn about *while loops*."
   ]
  },
  {
   "cell_type": "code",
   "execution_count": 1,
   "metadata": {
    "collapsed": false,
    "slideshow": {
     "slide_type": "subslide"
    }
   },
   "outputs": [
    {
     "data": {
      "image/jpeg": "[encoded data removed]",
      "text/html": [
       "\n",
       "        <iframe\n",
       "            width=\"400\"\n",
       "            height=\"300\"\n",
       "            src=\"https://www.youtube.com/embed/E6Yc3hzVsBc\"\n",
       "            frameborder=\"0\"\n",
       "            allowfullscreen\n",
       "        ></iframe>\n",
       "        "
      ],
      "text/plain": [
       "<IPython.lib.display.YouTubeVideo at 0x20acfa73a90>"
      ]
     },
     "execution_count": 1,
     "metadata": {},
     "output_type": "execute_result"
    }
   ],
   "source": [
    "from IPython.display import YouTubeVideo\n",
    "YouTubeVideo('E6Yc3hzVsBc')"
   ]
  },
  {
   "cell_type": "markdown",
   "metadata": {
    "collapsed": true,
    "slideshow": {
     "slide_type": "subslide"
    }
   },
   "source": [
    "We've seen that for loops allow for repetition by iterating over a well defined sequence of elements. Sometimes we may need to express repetition even though we cannot know the precise number of iterations in advance. To do this we use a *while loop* with the syntax:\n",
    "\n",
    "    while condition:\n",
    "        body"
   ]
  },
  {
   "cell_type": "markdown",
   "metadata": {
    "slideshow": {
     "slide_type": "subslide"
    }
   },
   "source": [
    "As with if statements, the condition can be an arbitarary boolean expression and the body is an indented block of code.\n",
    "\n",
    "![while statement flow chart](images/while_flow.png)"
   ]
  },
  {
   "cell_type": "markdown",
   "metadata": {
    "slideshow": {
     "slide_type": "subslide"
    }
   },
   "source": [
    "We saw index based for loops last week. "
   ]
  },
  {
   "cell_type": "code",
   "execution_count": 3,
   "metadata": {
    "collapsed": false
   },
   "outputs": [
    {
     "name": "stdout",
     "output_type": "stream",
     "text": [
      "1. Kirk\n",
      "2. Spock\n",
      "3. Bones\n",
      "4. Scotty\n",
      "5. Uhura\n",
      "6. Sulu\n",
      "7. Chekov\n"
     ]
    }
   ],
   "source": [
    "guests = [\"Kirk\", \"Spock\", \"Bones\", \"Scotty\", \"Uhura\", \"Sulu\", \"Chekov\"]\n",
    "\n",
    "for i in range(len(guests)):\n",
    "    print(str(i+1)+\".\", guests[i])"
   ]
  },
  {
   "cell_type": "markdown",
   "metadata": {
    "slideshow": {
     "slide_type": "-"
    }
   },
   "source": [
    "We can do the exact same thing using while loops."
   ]
  },
  {
   "cell_type": "code",
   "execution_count": 6,
   "metadata": {
    "collapsed": false,
    "slideshow": {
     "slide_type": "subslide"
    }
   },
   "outputs": [
    {
     "name": "stdout",
     "output_type": "stream",
     "text": [
      "1. Kirk\n",
      "2. Spock\n",
      "3. Bones\n",
      "4. Scotty\n",
      "5. Uhura\n",
      "6. Sulu\n",
      "7. Chekov\n"
     ]
    }
   ],
   "source": [
    "guests = [\"Kirk\", \"Spock\", \"Bones\", \"Scotty\", \"Uhura\", \"Sulu\", \"Chekov\"]\n",
    "\n",
    "i = 0\n",
    "while i < len(guests):\n",
    "    print(str(i + 1) + \".\", guests[i])\n",
    "    i += 1"
   ]
  },
  {
   "cell_type": "markdown",
   "metadata": {
    "slideshow": {
     "slide_type": "-"
    }
   },
   "source": [
    "Note that we must initialize a counter `i` *outside* the while loop and manually increment it each iteration."
   ]
  },
  {
   "cell_type": "markdown",
   "metadata": {
    "slideshow": {
     "slide_type": "subslide"
    }
   },
   "source": [
    "## Exercise\n",
    "\n",
    "Consider the following for loop that prints out a countdown."
   ]
  },
  {
   "cell_type": "code",
   "execution_count": 8,
   "metadata": {
    "collapsed": false
   },
   "outputs": [
    {
     "name": "stdout",
     "output_type": "stream",
     "text": [
      "10\n",
      "9\n",
      "8\n",
      "7\n",
      "6\n",
      "5\n",
      "4\n",
      "3\n",
      "2\n",
      "1\n",
      "BLASTOFF\n"
     ]
    }
   ],
   "source": [
    "for count in range(10,0,-1):\n",
    "    print(count)    \n",
    "print(\"BLASTOFF\")"
   ]
  },
  {
   "cell_type": "markdown",
   "metadata": {},
   "source": [
    "Write an equivalent expression using a while loop."
   ]
  },
  {
   "cell_type": "markdown",
   "metadata": {
    "slideshow": {
     "slide_type": "slide"
    }
   },
   "source": [
    "## Infinite Loops\n",
    "\n",
    "When using for loops the number of iterations is naturally bounded based on the length of the original sequence. When working with a while loop the number of iterations is not explicitly bounded, but determined based on the loop condition. \n",
    "\n",
    "This can lead to a serious problem known as an *infinite loop*. In infinite loops the condition never changes to false, so the loop keeps repeating itself indefinitely. "
   ]
  },
  {
   "cell_type": "markdown",
   "metadata": {
    "slideshow": {
     "slide_type": "subslide"
    }
   },
   "source": [
    "Consider this blatant example:\n",
    "\n",
    "    while True:\n",
    "        print(\"Hello\")\n",
    "        \n",
    "The loop condition is never false, so \"Hello\" gets printed over and over again. If you run code and encounter an infinte loop you can exit it by typing control-c."
   ]
  },
  {
   "cell_type": "markdown",
   "metadata": {
    "slideshow": {
     "slide_type": "subslide"
    }
   },
   "source": [
    "To avoid infinite loops often we add a counter to keep track of the number of iterations. If we reach a maximum number of iterations, the loop condition becomes false and the loop terminates."
   ]
  },
  {
   "cell_type": "markdown",
   "metadata": {
    "slideshow": {
     "slide_type": "subslide"
    }
   },
   "source": [
    "## Example\n",
    "\n",
    "Suppose we want to solve the equation $x = \\cos(x)$. There is no analytic solution to this equation, however we can still \"solve\" it using a technique known as a **fixed point iteration**. The idea is as follows. \n",
    "\n",
    "We guess a solution to the equation, and call this guess $x_0$. We then generate a new approximation $x_1 = \\cos(x_0)$ and repeat. In general we have that $x_{k+1} = \\cos(x_k)$. \n",
    "\n",
    "Once the difference between $x_k$ and $x_{k+1}$ becomes small, we have found a goood approximation to the solution."
   ]
  },
  {
   "cell_type": "markdown",
   "metadata": {
    "slideshow": {
     "slide_type": "subslide"
    }
   },
   "source": [
    "What does it mean for the difference between $x_k$ and $x_{k+1}$ to be small? \n",
    "\n",
    "If $x_{k}$ is exactly $\\sin(x_k)$, then $x_{k+1} = x_k$. Now, $x_k$ in general may be irrational, so this may never happen. Even though we are dealing with floating point numbers, meaning that we require only the first 16 digits to match, this may take an unreasonably large number of steps, if it happens at all.\n",
    "\n",
    "We will need to set a tolerance therefore. If $|x_k - x_{k+1}|$ is less than this tolerance, then we will exit our loop and say the solution is $x_{k+1}$. We will also keep track of the number of iterations $k$. If $k$ is larger than some maximum number of iterations, we will exit our loop."
   ]
  },
  {
   "cell_type": "markdown",
   "metadata": {
    "slideshow": {
     "slide_type": "subslide"
    }
   },
   "source": [
    "So how do we code this up? \n",
    "\n",
    "We will need to keep track of a few things:\n",
    "* $x_k$\n",
    "* $x_{k+1}$\n",
    "* $|x_k - x_{k+1}|$\n",
    "* $k$ (number of iterations)\n"
   ]
  },
  {
   "cell_type": "code",
   "execution_count": 33,
   "metadata": {
    "collapsed": false,
    "slideshow": {
     "slide_type": "subslide"
    }
   },
   "outputs": [
    {
     "name": "stdout",
     "output_type": "stream",
     "text": [
      "solution found after 46 iterations:\n",
      "x = 0.739085136647\n",
      "cos(x) =  0.739085130904\n"
     ]
    }
   ],
   "source": [
    "import numpy as np\n",
    "\n",
    "# define tolerance and maximum iterations\n",
    "tol = 1e-8\n",
    "max_it = 100\n",
    "\n",
    "x0 = 0\n",
    "x1 = np.cos(x0)\n",
    "k = 0 # iteration number\n",
    "\n",
    "while abs(x0 - x1) > tol and k < max_it:\n",
    "    \n",
    "    # set x0 to x1 (x0 is x_k)\n",
    "    x0 = x1\n",
    "    \n",
    "    # compute x_{k+1} from x_k, store in x1\n",
    "    x1 = np.cos(x0)\n",
    "    \n",
    "    # increment counter \n",
    "    k += 1\n",
    "\n",
    "print(\"solution found after\", k, \"iterations:\")\n",
    "print(\"x =\", x1)\n",
    "print(\"cos(x) = \", np.cos(x1))"
   ]
  },
  {
   "cell_type": "markdown",
   "metadata": {
    "slideshow": {
     "slide_type": "subslide"
    }
   },
   "source": [
    "This is an example of a **root finding method**. Root finding methods are useful for solving nonlinear equations. \n",
    "\n",
    "Next class we will look at a better root finding method."
   ]
  },
  {
   "cell_type": "markdown",
   "metadata": {
    "slideshow": {
     "slide_type": "slide"
    }
   },
   "source": [
    "## Finding the Greatest Common Divisor\n",
    "\n",
    "Suppose we want to find the greatest common divsor of two integers. In other words, given two integers $u$ and $v$, we want to find the largest integer $w$, such that $w$ is a factor of both $u$ and $v$. \n",
    "\n",
    "A na&iuml;ve approach is to start with a guess of the smallest of $u$ and $v$ and check if it is a factor of both $u$ and $v$. If it is, we are done. If not, decrease our guess by 1 and try again."
   ]
  },
  {
   "cell_type": "code",
   "execution_count": 4,
   "metadata": {
    "collapsed": false
   },
   "outputs": [
    {
     "name": "stdout",
     "output_type": "stream",
     "text": [
      "The GCD is 12\n"
     ]
    }
   ],
   "source": [
    "# declare u and v\n",
    "u = 204\n",
    "v = 36\n",
    "\n",
    "# set initial guess\n",
    "w = min(u,v) \n",
    "\n",
    "# start while loop\n",
    "while u%w >0  or v%w > 0:\n",
    "    w = w - 1\n",
    "    \n",
    "print(\"The GCD is\", w)"
   ]
  },
  {
   "cell_type": "markdown",
   "metadata": {},
   "source": [
    "Note that this loop is guaranteed to terminate, since 1 is always a common factor of any two numbers. This is not the most efficient approach. "
   ]
  },
  {
   "cell_type": "markdown",
   "metadata": {
    "slideshow": {
     "slide_type": "subslide"
    }
   },
   "source": [
    "## Exercise\n",
    "\n",
    "Implement Euclid's algorithm for finding the greatest common divisor of two numbers, as shown below:\n",
    "![euclid's algorithm](https://github.com/lukasbystricky/ISC-3313/blob/master/lectures/chapter2/images/gcd2.png?raw=true)"
   ]
  },
  {
   "cell_type": "markdown",
   "metadata": {
    "slideshow": {
     "slide_type": "slide"
    }
   },
   "source": [
    "## Fibonacci Numbers Revisited\n",
    "\n",
    "Recall the Fibonacci numbers are defined by:\n",
    "$$ F_i = \\begin{cases} 0 & i = 0\\\\ 1 & i = 1\\\\ F_{i-1} + F_{i-2} & \\text{otherwise}\\end{cases}$$\n",
    "\n",
    "We computed the first $N$ of these numbers earlier using for loops."
   ]
  },
  {
   "cell_type": "markdown",
   "metadata": {
    "slideshow": {
     "slide_type": "subslide"
    }
   },
   "source": [
    "Let's say we want to compute all Fibonacci numbers less than 10,000. How many of these numbers are there? \n",
    "\n",
    "There's not an obvious answer to that question, but if we use a while loop we don't have to know."
   ]
  },
  {
   "cell_type": "code",
   "execution_count": 16,
   "metadata": {
    "collapsed": false
   },
   "outputs": [
    {
     "name": "stdout",
     "output_type": "stream",
     "text": [
      "[0, 1, 1, 2, 3, 5, 8, 13, 21, 34, 55, 89, 144, 233, 377, 610, 987, 1597, 2584, 4181, 6765]\n"
     ]
    }
   ],
   "source": [
    "# create empty list to store the Fibonacci numbers\n",
    "fib = []\n",
    "\n",
    "# 0 and 1 are the first 2\n",
    "fib.append(0)\n",
    "fib.append(1)\n",
    "\n",
    "# while the last number in the list is less than 10,000\n",
    "fib_next = fib[0] + fib[1]\n",
    "\n",
    "while (fib_next < 10000):\n",
    "    \n",
    "    # append new Fibonacci number\n",
    "    fib.append(fib_next)\n",
    "    \n",
    "    # compute next number\n",
    "    fib_next = fib[-2] + fib[-1]\n",
    "    \n",
    "print(fib)"
   ]
  },
  {
   "cell_type": "markdown",
   "metadata": {
    "slideshow": {
     "slide_type": "subslide"
    }
   },
   "source": [
    "## Exercise\n",
    "\n",
    "Write a program that computes all Padovan numbers under 30,000. \n",
    "Recall that the Padovan numbers are defined by the recurrence relation:\n",
    "\n",
    "$$ P_i = P_{i-2} + P_{i-3},$$\n",
    "with $P_0 = P_1 = P_2 = 1$."
   ]
  },
  {
   "cell_type": "markdown",
   "metadata": {
    "collapsed": true,
    "slideshow": {
     "slide_type": "slide"
    }
   },
   "source": [
    "## While Loops and For Loops\n",
    "\n",
    "Programatically speaking, for loop and while loops are equivalent. In both cases you are telling the program to repeat a sequence of instructions (i.e. loop over the instructions). This means that anything written as a for loop can be written as a while loop and vice versa. "
   ]
  },
  {
   "cell_type": "markdown",
   "metadata": {
    "slideshow": {
     "slide_type": "subslide"
    }
   },
   "source": [
    "Consider the previous example. This equivalent implenentation uses a for loop:"
   ]
  },
  {
   "cell_type": "code",
   "execution_count": 17,
   "metadata": {
    "collapsed": false
   },
   "outputs": [
    {
     "name": "stdout",
     "output_type": "stream",
     "text": [
      "[0, 1, 1, 2, 3, 5, 8, 13, 21, 34, 55, 89, 144, 233, 377, 610, 987, 1597, 2584, 4181, 6765]\n"
     ]
    }
   ],
   "source": [
    "# create empty list to store the Fibonacci numbers\n",
    "fib = []\n",
    "\n",
    "# 0 and 1 are the first 2\n",
    "fib.append(0)\n",
    "fib.append(1)\n",
    "\n",
    "# loop until some arbitrarily large number\n",
    "for i in range(10000):\n",
    "    \n",
    "    # compute new Fibonacci number, which is sum of the last two numbers already in the list\n",
    "    fib_next = fib[-2] + fib[-1]\n",
    "    \n",
    "    if (fib_next > 10000):\n",
    "        break\n",
    "    \n",
    "    fib.append(fib_next)\n",
    "        \n",
    "print(fib)"
   ]
  },
  {
   "cell_type": "markdown",
   "metadata": {
    "slideshow": {
     "slide_type": "subslide"
    }
   },
   "source": [
    "Likewise to generate the first $N$ Fibonacci numbers we could have used a while loop:"
   ]
  },
  {
   "cell_type": "code",
   "execution_count": 5,
   "metadata": {
    "collapsed": false
   },
   "outputs": [
    {
     "name": "stdout",
     "output_type": "stream",
     "text": [
      "[0, 1, 1, 2, 3, 5, 8, 13, 21, 34]\n"
     ]
    }
   ],
   "source": [
    "# create empty list to store the Fibonacci numbers\n",
    "fib = []\n",
    "\n",
    "# declare N, set counter i to 2\n",
    "N = 10\n",
    "\n",
    "# 0 and 1 are the first 2\n",
    "fib.append(0)\n",
    "fib.append(1)\n",
    "\n",
    "# loop until some arbitrarily large number\n",
    "while len(fib) < N:\n",
    "    \n",
    "    # append new Fibonacci number, which is sum of the last two numbers already in the list\n",
    "    fib.append(fib[-2] + fib[-1])\n",
    "    \n",
    "print(fib)"
   ]
  },
  {
   "cell_type": "markdown",
   "metadata": {
    "slideshow": {
     "slide_type": "subslide"
    }
   },
   "source": [
    "The choice to use a while loop or a for loop depends on the type of problem you are solving. With experience it will become obvious which loop to use. \n",
    "\n",
    "As a rule of thumb a for loop makes sense if you know beforehand the number of iterations. If you don't know the number of iterations, a while loop is probably a better choice. "
   ]
  },
  {
   "cell_type": "markdown",
   "metadata": {
    "slideshow": {
     "slide_type": "slide"
    }
   },
   "source": [
    "# Nested Loops\n",
    "\n",
    "The body of a for loop can contain a while loop and vice versa. For example, let's say that we are trying to roll a six on a six sided dice. How many rolls, on average, does it take to roll a six? What is the variance? \n",
    "\n",
    "We can compute these quantities using Monte Carlo techniques."
   ]
  },
  {
   "cell_type": "code",
   "execution_count": 14,
   "metadata": {
    "collapsed": false,
    "slideshow": {
     "slide_type": "subslide"
    }
   },
   "outputs": [
    {
     "name": "stdout",
     "output_type": "stream",
     "text": [
      "average: 5.987\n",
      "variance: 29.704831\n"
     ]
    }
   ],
   "source": [
    "import numpy as np\n",
    "\n",
    "N = 1000 # number of trials\n",
    "rolls = [] # initialize empty list that will keep track of the number of rolls needed to roll a six\n",
    "\n",
    "for i in range(N):\n",
    "    \n",
    "    r = np.random.randint(1,7)\n",
    "    count = 1\n",
    "    \n",
    "    # keep rolling as long as r is not 6\n",
    "    while r != 6:\n",
    "        \n",
    "        # increment count\n",
    "        count += 1        \n",
    "        r = np.random.randint(1,7)\n",
    "        \n",
    "    rolls.append(count)\n",
    "    \n",
    "# convert rolls to numpy array to compute average and variance\n",
    "rolls = np.asarray(rolls)\n",
    "mu = np.average(rolls)\n",
    "sigma2 = np.average((rolls - mu)**2)\n",
    "\n",
    "print(\"average:\", mu)\n",
    "print(\"variance:\", sigma2)"
   ]
  },
  {
   "cell_type": "markdown",
   "metadata": {
    "slideshow": {
     "slide_type": "subslide"
    }
   },
   "source": [
    "As you may have guessed, it takes around 6 rolls on average to roll a 6. We can also plot a histogram of this data to get a sense for what the distribution looks like."
   ]
  },
  {
   "cell_type": "code",
   "execution_count": 13,
   "metadata": {
    "collapsed": false
   },
   "outputs": [
    {
     "data": {
      "image/png": "[encoded data removed]",
      "text/plain": [
       "<matplotlib.figure.Figure at 0x20ad17db860>"
      ]
     },
     "metadata": {},
     "output_type": "display_data"
    }
   ],
   "source": [
    "import matplotlib.pyplot as plt\n",
    "%matplotlib inline\n",
    "\n",
    "plt.hist(rolls);"
   ]
  },
  {
   "cell_type": "markdown",
   "metadata": {
    "slideshow": {
     "slide_type": "subslide"
    }
   },
   "source": [
    "## Exercise\n",
    "\n",
    "Assume you are trying to roll snake eyes (two ones) on two six sided dice. How many attempts does it take on average for this to happen? Using Monte Carlo techniques, compute the mean and variance, and plot a histogram."
   ]
  }
 ],
 "metadata": {
  "anaconda-cloud": {},
  "celltoolbar": "Slideshow",
  "kernelspec": {
   "display_name": "Python [Root]",
   "language": "python",
   "name": "Python [Root]"
  },
  "language_info": {
   "codemirror_mode": {
    "name": "ipython",
    "version": 3
   },
   "file_extension": ".py",
   "mimetype": "text/x-python",
   "name": "python",
   "nbconvert_exporter": "python",
   "pygments_lexer": "ipython3",
   "version": "3.5.2"
  }
 },
 "nbformat": 4,
 "nbformat_minor": 1
}
