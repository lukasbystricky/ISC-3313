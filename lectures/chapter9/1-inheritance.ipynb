{
 "cells": [
  {
   "cell_type": "markdown",
   "metadata": {
    "slideshow": {
     "slide_type": "slide"
    }
   },
   "source": [
    "<p style=\"text-align: center;\"><font size=\"8\"><b>Inheritance</b></font><br>\n"
   ]
  },
  {
   "cell_type": "markdown",
   "metadata": {
    "slideshow": {
     "slide_type": "slide"
    }
   },
   "source": [
    "Over the last few lectures we've seen how to create classes. Recall that an instance of a class is an object that encapsulates both data and operations. \n",
    "\n",
    "When designing software it is helpful to consider relationships betweeen classes. We've already seen examples of this. Our Tic-Tac-Toe game for example had a `TicTacToe` class that used a `Board` class as one of its members. "
   ]
  },
  {
   "cell_type": "markdown",
   "metadata": {
    "slideshow": {
     "slide_type": "slide"
    }
   },
   "source": [
    "Today we'll look at a different relation between classes, **inheritance**. This is a way to define a new child class based upon an existing parent class thereby reducing duplication of code \n",
    "\n",
    "(In case you haven't picked up on this yet, reducing duplication of code is very important).\n",
    "\n",
    "This lecture follows closely to chapter 9 in Goldwasser and Letscher."
   ]
  },
  {
   "cell_type": "markdown",
   "metadata": {
    "slideshow": {
     "slide_type": "subslide"
    }
   },
   "source": [
    "A child class can differentiate itself from its parent in one of two ways. It may **augment** the parent class, i.e. add additional methods. Alternatively it may **specialize** the parent class by overriding existing methods. These two types of inhertiance are not mutually exclusive, a child may both specialize certain methods fromt a parent class and add additional methods."
   ]
  },
  {
   "cell_type": "markdown",
   "metadata": {
    "slideshow": {
     "slide_type": "slide"
    }
   },
   "source": [
    "# Augmentation\n",
    "\n",
    "Recall from a few lectures ago our [Television class](code/Televsion.py). This class represents a TV. We can turn it on and off, mute it, turn the volume up or down, and change to a specific channel. "
   ]
  },
  {
   "cell_type": "code",
   "execution_count": 8,
   "metadata": {
    "collapsed": false
   },
   "outputs": [],
   "source": [
    "from Television import Television\n",
    "tv = Television()\n",
    "tv.togglePower()\n",
    "tv.changeChannel(5)"
   ]
  },
  {
   "cell_type": "markdown",
   "metadata": {
    "slideshow": {
     "slide_type": "subslide"
    }
   },
   "source": [
    "Suppose we were happy with this class, but we wanted to define an additional class `DeluxTelevision` that has the same features as a regular TV, but can also keep track of a list of favorite channels.\n",
    "\n",
    "Sice we want to keep all the functionality of the regular TV, this `DeluxTelevision` class will inherit from the `Television` class."
   ]
  },
  {
   "cell_type": "markdown",
   "metadata": {
    "slideshow": {
     "slide_type": "subslide"
    }
   },
   "source": [
    "The syntax for this is quite simple:\n",
    "\n",
    "    class DeluxTelevsion(Television):\n",
    "        methods ..."
   ]
  },
  {
   "cell_type": "markdown",
   "metadata": {
    "slideshow": {
     "slide_type": "subslide"
    }
   },
   "source": [
    "The `DeluxTelevision` class now has all the methods associated with the parent `Television` class.\n",
    "\n",
    "We'll want to add a list of favorite channels as a member variable. Inside the constructor we will initialize this to be an empty list.\n",
    "\n",
    "In addition however, we'll still want to call the parent constructor to initialize the default channel, volume level and power status. This is done by explicitly calling the `__init__` routine from the `Television` class and explicity passing in the `self` variable."
   ]
  },
  {
   "cell_type": "code",
   "execution_count": 15,
   "metadata": {
    "collapsed": false,
    "slideshow": {
     "slide_type": "subslide"
    }
   },
   "outputs": [
    {
     "name": "stdout",
     "output_type": "stream",
     "text": [
      "5\n"
     ]
    }
   ],
   "source": [
    "class DeluxTelevision(Television):\n",
    "    \n",
    "    def __init__(self):\n",
    "        \n",
    "        Television.__init__(self)\n",
    "        self._favorites = []\n",
    "        \n",
    "        \n",
    "deluxTV = DeluxTelevision()\n",
    "deluxTV.togglePower()\n",
    "deluxTV.changeChannel(5)\n",
    "\n",
    "print(deluxTV._channel)"
   ]
  },
  {
   "cell_type": "markdown",
   "metadata": {
    "slideshow": {
     "slide_type": "-"
    }
   },
   "source": [
    "Note that the `togglePower()` function and the `changeChannel()` function are defined inside the `Television` class."
   ]
  },
  {
   "cell_type": "markdown",
   "metadata": {
    "slideshow": {
     "slide_type": "subslide"
    }
   },
   "source": [
    "Let's write the `addToFavorites()` function. This function will add the current channel to the list of favorites, assuming it is not already part of the list."
   ]
  },
  {
   "cell_type": "code",
   "execution_count": 18,
   "metadata": {
    "collapsed": true
   },
   "outputs": [],
   "source": [
    "class DeluxTelevision(Television):\n",
    "    \n",
    "    def __init__(self):\n",
    "        \n",
    "        Television.__init__(self)\n",
    "        self._favorites = []\n",
    "        \n",
    "    def addToFavorites(self):\n",
    "        if self._powerOn and self._channel not in self._favorites:\n",
    "            self._favorites.append(self._channel)"
   ]
  },
  {
   "cell_type": "markdown",
   "metadata": {
    "slideshow": {
     "slide_type": "subslide"
    }
   },
   "source": [
    "We can test out this function."
   ]
  },
  {
   "cell_type": "code",
   "execution_count": 19,
   "metadata": {
    "collapsed": false
   },
   "outputs": [
    {
     "name": "stdout",
     "output_type": "stream",
     "text": [
      "Favorite channels: [5, 8]\n"
     ]
    }
   ],
   "source": [
    "deluxTV = DeluxTelevision()\n",
    "deluxTV.togglePower()\n",
    "deluxTV.changeChannel(5)\n",
    "deluxTV.addToFavorites()\n",
    "deluxTV.changeChannel(8)\n",
    "deluxTV.addToFavorites()\n",
    "\n",
    "print(\"Favorite channels:\", deluxTV._favorites)"
   ]
  },
  {
   "cell_type": "markdown",
   "metadata": {
    "slideshow": {
     "slide_type": "subslide"
    }
   },
   "source": [
    "## Exercise\n",
    "\n",
    "Add a function `removeFromFavorites()` that removes the current channel from the list of favorites. Test it to make sure it works and never throws an error."
   ]
  },
  {
   "cell_type": "markdown",
   "metadata": {
    "slideshow": {
     "slide_type": "slide"
    }
   },
   "source": [
    "## Exercise\n",
    "\n",
    "Create a class `Vertex` that inherits from `CompletedPoint`. This class will represent a vertex of a triangle. Add a function `testIfColinear()` that takes in two additional vertices and returns True if all three points lie on the same line and False otherwise. \n",
    "\n",
    "![triangles](images/triangles.png)\n",
    "\n",
    "One way to determine if this is true is to find the slope and y-intercept ($m$ and $b$) of the line connecting points 1 and 2 and see if they are the same as for the line connecting points 1 and 3. You may want to define additional functions to compute $m$ and $b$."
   ]
  },
  {
   "cell_type": "code",
   "execution_count": null,
   "metadata": {
    "collapsed": true
   },
   "outputs": [],
   "source": []
  }
 ],
 "metadata": {
  "anaconda-cloud": {},
  "celltoolbar": "Slideshow",
  "kernelspec": {
   "display_name": "Python [conda root]",
   "language": "python",
   "name": "conda-root-py"
  },
  "language_info": {
   "codemirror_mode": {
    "name": "ipython",
    "version": 3
   },
   "file_extension": ".py",
   "mimetype": "text/x-python",
   "name": "python",
   "nbconvert_exporter": "python",
   "pygments_lexer": "ipython3",
   "version": "3.5.2"
  }
 },
 "nbformat": 4,
 "nbformat_minor": 1
}
