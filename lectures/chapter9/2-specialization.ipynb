{
 "cells": [
  {
   "cell_type": "markdown",
   "metadata": {
    "slideshow": {
     "slide_type": "slide"
    }
   },
   "source": [
    "<p style=\"text-align: center;\"><font size=\"8\"><b>Inheritance</b></font><br>\n",
    "<p style=\"text-align: center;\"><font size=\"6\"><b>Specialization</b></font><br>\n"
   ]
  },
  {
   "cell_type": "markdown",
   "metadata": {
    "slideshow": {
     "slide_type": "slide"
    }
   },
   "source": [
    "Last class we began looking at inheritance. Specifically we looked at **augmentation**, that is, creating a child class by adding member functions or data to a parent class. Today we will look at **specialization**, where we create a child class by overriding some of the existing methods in a parent class."
   ]
  },
  {
   "cell_type": "markdown",
   "metadata": {
    "slideshow": {
     "slide_type": "slide"
    }
   },
   "source": [
    "So far we've inherited from classes that we've written ourselves: the Point class, the Television class. We can also inherit from built-in classes. \n",
    "\n",
    "Let's say we wanted to create a sorted set. A sorted set is a collection of items that has the following properties:\n",
    "* no duplicate entries\n",
    "* the entries are at all times sorted (in some way)"
   ]
  },
  {
   "cell_type": "markdown",
   "metadata": {
    "slideshow": {
     "slide_type": "subslide"
    }
   },
   "source": [
    "In the spirit of top down design, let's imagine how we would call this class.\n",
    "\n",
    "    a = SortedSet() # create new sorted set\n",
    "    a.insert(1)     # insert 1\n",
    "    a.insert(-1)    # insert -1\n",
    "    a.insert(7)     # insert 7\n",
    "    a.insert(1)     # insert 1 again\n",
    "    print(a)\n",
    "    \n",
    "    [-1, 1, 7]"
   ]
  },
  {
   "cell_type": "markdown",
   "metadata": {
    "slideshow": {
     "slide_type": "subslide"
    }
   },
   "source": [
    "Python already provides a class to handle collections of items, the `list` class. This class provides many useful methods, e.g. `contains`, `getitem`, `len`, `eq`, `index`. Mutators such as `pop` and `remove` could also be useful since removing an item from a sorted set does not change the order of the set."
   ]
  },
  {
   "cell_type": "markdown",
   "metadata": {
    "slideshow": {
     "slide_type": "subslide"
    }
   },
   "source": [
    "Some methods from the list class are not appropriate however. For example the `append` method adds an item to the end of a list. This may make the set out of order. Likewise the `insert` method inserts an item at a specific index, this could also mess up the order of the set. In addition neither of these methods prevent the user from inserting duplicate entries. \n",
    "\n",
    "If we want to inherit from the `list` class, we will have to override these methods."
   ]
  },
  {
   "cell_type": "markdown",
   "metadata": {
    "slideshow": {
     "slide_type": "subslide"
    }
   },
   "source": [
    "To override methods, we simply declare them again inside the body of the child class. We will define an insert method that calls the `append` method of the parent class to add an item to our set, then calls the `sort` command inherited by the child class to sort the set. The `append` method of the child class will be rewritten to call the `insert` method."
   ]
  },
  {
   "cell_type": "code",
   "execution_count": null,
   "metadata": {
    "collapsed": true,
    "slideshow": {
     "slide_type": "subslide"
    }
   },
   "outputs": [],
   "source": [
    "class SortedSet(list):\n",
    "    \n",
    "    def insert(self, value):\n",
    "        if value not in self:\n",
    "            list.append(self, value)\n",
    "            list.sort(self)\n",
    "            \n",
    "    def append(self, value):\n",
    "        self.insert(value)"
   ]
  },
  {
   "cell_type": "code",
   "execution_count": null,
   "metadata": {
    "collapsed": false
   },
   "outputs": [],
   "source": [
    "a = SortedSet()\n",
    "a.insert(1)\n",
    "a.insert(-1)\n",
    "a.insert(7)\n",
    "a.insert(1)\n",
    "\n",
    "print(a)"
   ]
  },
  {
   "cell_type": "markdown",
   "metadata": {
    "slideshow": {
     "slide_type": "subslide"
    }
   },
   "source": [
    "We now have a working `SortedSet` class. \n",
    "\n",
    "There are additional methods that have been inherited from the `list` class and we want make sure that they all work when called by the `SortedSet` class. For example the `extend` method modifies a list by adding all elements of another list to the end. This could make our set unsorted or add duplicate entries. We will override this function in the child class by calling the `insert` method for each item in the incoming list."
   ]
  },
  {
   "cell_type": "code",
   "execution_count": null,
   "metadata": {
    "collapsed": true
   },
   "outputs": [],
   "source": [
    "def extend(self, other):\n",
    "    for element in other:\n",
    "        self.insert(element)"
   ]
  },
  {
   "cell_type": "markdown",
   "metadata": {
    "slideshow": {
     "slide_type": "subslide"
    }
   },
   "source": [
    "We should also overload the `__init__` routine. Starting an empty set is fine, but remember that the `list` constructor can take an initial sequence of elements as an input. This sequence may not conform to our `SortedSet` class. \n",
    "\n",
    "We can use the `extend` method to make sure that our `SortedSet` is initialized properly."
   ]
  },
  {
   "cell_type": "code",
   "execution_count": null,
   "metadata": {
    "collapsed": true
   },
   "outputs": [],
   "source": [
    "def __init__(self, initial=None): #default initial sequence is empty, i.e. []\n",
    "    \n",
    "    list.__init__(self) # call the parent constructor to initialize an empty list\n",
    "    \n",
    "    if initial: # if the initial sequence is not empty, add it to the sorted set\n",
    "        self.extend(initial)"
   ]
  },
  {
   "cell_type": "markdown",
   "metadata": {
    "slideshow": {
     "slide_type": "subslide"
    }
   },
   "source": [
    "Here is the `SortedSet` class so far."
   ]
  },
  {
   "cell_type": "code",
   "execution_count": null,
   "metadata": {
    "collapsed": true
   },
   "outputs": [],
   "source": [
    "class SortedSet(list):\n",
    "    \n",
    "    def insert(self, value):\n",
    "        if value not in self:\n",
    "            list.append(self, value)\n",
    "            list.sort(self)\n",
    "            \n",
    "    def append(self, value):\n",
    "        self.insert(value)\n",
    "        \n",
    "    def extend(self, other):\n",
    "        for element in other:\n",
    "            self.insert(element)\n",
    "            \n",
    "    def __init__(self, initial=None):\n",
    "        list.__init__(self) \n",
    "\n",
    "        if initial: \n",
    "            self.extend(initial)"
   ]
  },
  {
   "cell_type": "markdown",
   "metadata": {
    "slideshow": {
     "slide_type": "subslide"
    }
   },
   "source": [
    "We can test it."
   ]
  },
  {
   "cell_type": "code",
   "execution_count": null,
   "metadata": {
    "collapsed": false
   },
   "outputs": [],
   "source": [
    "a = SortedSet([1,2,-8,2,2,2,1,9,-10])\n",
    "print(a)\n",
    "a.extend([1,2,3,5,8,10])\n",
    "print(a)"
   ]
  },
  {
   "cell_type": "markdown",
   "metadata": {
    "slideshow": {
     "slide_type": "subslide"
    }
   },
   "source": [
    "## Exercise\n",
    "\n",
    "Use the `extend`  method of the `SortedSet` class to override the `__add__` method of the `list` class. \n",
    "\n",
    "Remember that the add method takes in a list and returns the a new concatenated list.\n",
    "e.g."
   ]
  },
  {
   "cell_type": "code",
   "execution_count": 3,
   "metadata": {
    "collapsed": false
   },
   "outputs": [
    {
     "name": "stdout",
     "output_type": "stream",
     "text": [
      "[1, -2, 3, 4, 2, -1, 2]\n"
     ]
    }
   ],
   "source": [
    "a = [1,-2,3]\n",
    "b = [4,2,-1,2]\n",
    "print(a+b)"
   ]
  },
  {
   "cell_type": "markdown",
   "metadata": {},
   "source": [
    "[Solution](https://raw.githubusercontent.com/lukasbystricky/ISC-3313/master/lectures/chapter9/code/SortedSet.py)"
   ]
  },
  {
   "cell_type": "markdown",
   "metadata": {
    "slideshow": {
     "slide_type": "subslide"
    }
   },
   "source": [
    "There are a few additional methods that `list` defines for us. The `sort` command for example does not do anything for the `SortedSet` class, as the the items are always sorted. The user could call `sort` and Python would attempt to sort the set, however this is wasteful. Instead we will make use of the **pass** command that does nothing at all when executed. "
   ]
  },
  {
   "cell_type": "code",
   "execution_count": 4,
   "metadata": {
    "collapsed": true
   },
   "outputs": [],
   "source": [
    "def sort(self):\n",
    "    pass"
   ]
  },
  {
   "cell_type": "markdown",
   "metadata": {
    "slideshow": {
     "slide_type": "subslide"
    }
   },
   "source": [
    "There are two other methods that simply do not fit in with the idea of a sorted set: `reverse` and `__setitem__`. When either of these commands are called we will throw a runtime error that will be displayed to the user."
   ]
  },
  {
   "cell_type": "code",
   "execution_count": 5,
   "metadata": {
    "collapsed": true
   },
   "outputs": [],
   "source": [
    "def reverse(self):\n",
    "    raise RuntimeError('SortedSet cannot be reversed')\n",
    "    \n",
    "def __setitem__(self, index, object):\n",
    "    raise RuntimeError('This syntax not supported by SortedSet')"
   ]
  },
  {
   "cell_type": "markdown",
   "metadata": {
    "slideshow": {
     "slide_type": "slide"
    }
   },
   "source": [
    "## Exercise\n",
    "\n",
    "Create a class `CirclePoint` that inherits from our `Point` class. This class is used to represent a point constrained to the unit circle $x^2 + y^2 = 1$. \n",
    "\n",
    "When initializing a Point, take in any values for $x$ and $y$, and then project them to the unit circle. Any point $(x,y)$ (with the exception of (0,0) ) can be projected to the nearest point on the unit circle $(x^*,y^*)$ by dividing it by its magnitude (defined by the \\__abs()\\__ method in the Point class). When adding or subtracting two CirclePoints, the sum must be also on the unit circle. \n",
    "\n",
    "![circlePoint](https://github.com/lukasbystricky/ISC-3313/blob/master/lectures/chapter9/images/circlePoint.png?raw=true)\n",
    "\n",
    "Override the following methods: \\__init()\\__, setX(), setY(), scale(), normalize(), \\__abs()\\__, \\__add()\\__, \\__sub()\\__\n",
    "\n",
    "[Solution](https://raw.githubusercontent.com/lukasbystricky/ISC-3313/master/lectures/chapter9/code/CirclePoint.py)"
   ]
  }
 ],
 "metadata": {
  "anaconda-cloud": {},
  "celltoolbar": "Slideshow",
  "kernelspec": {
   "display_name": "Python [Root]",
   "language": "python",
   "name": "Python [Root]"
  },
  "language_info": {
   "codemirror_mode": {
    "name": "ipython",
    "version": 3
   },
   "file_extension": ".py",
   "mimetype": "text/x-python",
   "name": "python",
   "nbconvert_exporter": "python",
   "pygments_lexer": "ipython3",
   "version": "3.5.2"
  }
 },
 "nbformat": 4,
 "nbformat_minor": 1
}
