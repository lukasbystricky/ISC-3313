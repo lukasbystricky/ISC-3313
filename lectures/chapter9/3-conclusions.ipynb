{
 "cells": [
  {
   "cell_type": "markdown",
   "metadata": {
    "slideshow": {
     "slide_type": "slide"
    }
   },
   "source": [
    "<p style=\"text-align: center;\"><font size=\"8\"><b>Inheritance</b></font><br>\n",
    "<p style=\"text-align: center;\"><font size=\"6\"><b>When should it be used?</b></font><br>\n"
   ]
  },
  {
   "cell_type": "markdown",
   "metadata": {
    "slideshow": {
     "slide_type": "slide"
    }
   },
   "source": [
    "The last two lectures we looked at inheritance. In particular we looked at augmentation (creating a Delux TV from a TV) and specialization (creating a sorted set from a list). \n",
    "\n",
    "Inheritance is a nice way to relate classes and derive behaviour from one class in another. It is not the only way however. "
   ]
  },
  {
   "cell_type": "markdown",
   "metadata": {
    "slideshow": {
     "slide_type": "slide"
    }
   },
   "source": [
    "Let's look again at a sorted set. Recall that a sorted set is a collection of items that has the following properties:\n",
    "* no duplicate entries\n",
    "* the entries are at all times sorted (in some way)"
   ]
  },
  {
   "cell_type": "markdown",
   "metadata": {
    "slideshow": {
     "slide_type": "subslide"
    }
   },
   "source": [
    "Last class we defined this class by inheriting from the list class. This worked well, however we saw that inheritance provides us with all the methods of the parent class. In particular for the SortedSet class, we had a `sort()` method that didn't do anything. Our `insert()` and `append()` methods did the exact same thing. We also had methods `reverse()` and `setitem()` that the make sense for lists, but not for SortedSets."
   ]
  },
  {
   "cell_type": "markdown",
   "metadata": {
    "slideshow": {
     "slide_type": "subslide"
    }
   },
   "source": [
    "Instead of inheriting from the `list` class, we could create a `SortedSet` class that has a `list` as an attribute. "
   ]
  },
  {
   "cell_type": "code",
   "execution_count": 1,
   "metadata": {
    "collapsed": true
   },
   "outputs": [],
   "source": [
    "class SortedSet:\n",
    "    \n",
    "    def __init__(self):\n",
    "        self._items = list()"
   ]
  },
  {
   "cell_type": "markdown",
   "metadata": {
    "slideshow": {
     "slide_type": "subslide"
    }
   },
   "source": [
    "Initially the list of items is empty. This relationship between `SortedSet` and `list` is called a **has-a-relationship**. The relationship between our previous `SortedSet` class and the `list` class (where we used inheritance) is called a **is-a-relationship**. \n",
    "\n",
    "Note that in a has-a-relationship, `SortedSet` has a `list`, but is itself not a `list`."
   ]
  },
  {
   "cell_type": "markdown",
   "metadata": {
    "slideshow": {
     "slide_type": "subslide"
    }
   },
   "source": [
    "Since when using a has-relationship we do not inherit anything from the parent class, we must explicitly provide support for any behaviors we want to offer. For example we might want to provide an `insert()` method."
   ]
  },
  {
   "cell_type": "code",
   "execution_count": 2,
   "metadata": {
    "collapsed": true
   },
   "outputs": [],
   "source": [
    "def insert(self, value):\n",
    "    if value not in self._items:\n",
    "        self._items.append(value)\n",
    "        self._items.sort()"
   ]
  },
  {
   "cell_type": "markdown",
   "metadata": {
    "slideshow": {
     "slide_type": "subslide"
    }
   },
   "source": [
    "The nice feature about this kind of implementation is that we don't inherit unnecessary methods like `reverse()` or `setitem()`. Unfortunately, we also do not inherit useful methods, like `remove()`. This needs to be implemented explicitly. "
   ]
  },
  {
   "cell_type": "code",
   "execution_count": 3,
   "metadata": {
    "collapsed": true
   },
   "outputs": [],
   "source": [
    "def remove(self, element):\n",
    "    self._items.remove(element)"
   ]
  },
  {
   "cell_type": "markdown",
   "metadata": {},
   "source": [
    "This function makes use of the `remove()` function of the `list` class. A function that makes an underlying call to a very similar function from another object is known as a **wrapper** function."
   ]
  },
  {
   "cell_type": "markdown",
   "metadata": {
    "slideshow": {
     "slide_type": "subslide"
    }
   },
   "source": [
    "There are some other methods we should define. For example `extend()`, `__add__` and `index()`. Here is a complete implementation."
   ]
  },
  {
   "cell_type": "code",
   "execution_count": 4,
   "metadata": {
    "collapsed": true
   },
   "outputs": [],
   "source": [
    "class SortedSet:\n",
    "    \n",
    "    def __init__(self):\n",
    "        self._items = list()\n",
    "        \n",
    "    def insert(self, value):\n",
    "        if value not in self._items:\n",
    "            self._items.append(value)\n",
    "            self._items.sort()\n",
    "            \n",
    "    def remove(self, element):\n",
    "        self._items.remove(element)\n",
    "        \n",
    "    def extend(self, other):\n",
    "        for element in other:\n",
    "            self.insert(element)\n",
    "            \n",
    "    def __add__(self, other):\n",
    "        result = SortedSet(self)\n",
    "        result.extend(other)\n",
    "        return result\n",
    "    \n",
    "    def index(self, value):\n",
    "        return self._items.index(value)"
   ]
  },
  {
   "cell_type": "markdown",
   "metadata": {
    "slideshow": {
     "slide_type": "subslide"
    }
   },
   "source": [
    "There is no clear-cut rule for when to use inheritance vs. when to use a has-a-relationship. The decision often comes down to how many inherited behaviors would be undesirable vs. how many useful behaviors would have to be explicitly regenerated using a has-a-relationship. \n",
    "\n",
    "As with many aspects of programming, with experience the decision will be more clear."
   ]
  },
  {
   "cell_type": "markdown",
   "metadata": {
    "slideshow": {
     "slide_type": "slide"
    }
   },
   "source": [
    "# Conclusions\n",
    "\n",
    "This concludes chapter 9 in your text book. \n",
    "\n",
    "Chapter 10 is the start of the \"Advanced Topics\" section. It begins with a discussion of memory and how exactly objects are referenced and stored in Python. "
   ]
  },
  {
   "cell_type": "markdown",
   "metadata": {
    "slideshow": {
     "slide_type": "slide"
    }
   },
   "source": [
    "## Where to next?\n",
    "\n",
    "\n",
    "By now you're familiar with Python. If you want to learn another language you'll have to learn a new set of syntax. \n",
    "\n",
    "The essential ideas behind programming however, for example: loops, conditional statements, functions, top-down design and bottom up implementation, are the same across any language."
   ]
  },
  {
   "cell_type": "markdown",
   "metadata": {
    "slideshow": {
     "slide_type": "subslide"
    }
   },
   "source": [
    "Depending on your interests, you may wish to follow along with the text book some more. Chapter 15 for example goes over designing graphical interfaces and chapter 16 goes over network programming. \n",
    "\n",
    "In addition there are plenty of other free Python textbooks and tutorials online.  "
   ]
  },
  {
   "cell_type": "markdown",
   "metadata": {
    "slideshow": {
     "slide_type": "subslide"
    }
   },
   "source": [
    "If you're interested in scientific computing, you may want to consider taking more courses in this department. [Our website](https://www.sc.fsu.edu/courses) goes over the courses offered in the fall. You can also e-mail me or our academic advisor Karey Fowler at  kgfowler@fsu.edu for more information."
   ]
  }
 ],
 "metadata": {
  "anaconda-cloud": {},
  "celltoolbar": "Slideshow",
  "kernelspec": {
   "display_name": "Python [Root]",
   "language": "python",
   "name": "Python [Root]"
  },
  "language_info": {
   "codemirror_mode": {
    "name": "ipython",
    "version": 3
   },
   "file_extension": ".py",
   "mimetype": "text/x-python",
   "name": "python",
   "nbconvert_exporter": "python",
   "pygments_lexer": "ipython3",
   "version": "3.5.2"
  }
 },
 "nbformat": 4,
 "nbformat_minor": 1
}
