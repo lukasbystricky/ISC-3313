{
 "cells": [
  {
   "cell_type": "markdown",
   "metadata": {
    "collapsed": true,
    "slideshow": {
     "slide_type": "slide"
    }
   },
   "source": [
    "<p style=\"text-align: center;\"><font size=\"8\"><b>Defining Our Own Classes</b></font><br>\n"
   ]
  },
  {
   "cell_type": "markdown",
   "metadata": {
    "slideshow": {
     "slide_type": "slide"
    }
   },
   "source": [
    "Hopefully by now you are all comfortable with functional programming, in other words defining and using functions. Python however is actually an object oriented programming language. So far we have avoided much discussion of what that actually means. Today's lecture mirrors chapter 6 in Goldwasser and Letscher."
   ]
  },
  {
   "cell_type": "markdown",
   "metadata": {
    "slideshow": {
     "slide_type": "slide"
    }
   },
   "source": [
    "Remember from way back how we defined objects and classes. An object in a single instance of a class. We have already several examples of classes. Remember backs to lists."
   ]
  },
  {
   "cell_type": "code",
   "execution_count": 1,
   "metadata": {
    "collapsed": false
   },
   "outputs": [
    {
     "data": {
      "text/plain": [
       "list"
      ]
     },
     "execution_count": 1,
     "metadata": {},
     "output_type": "execute_result"
    }
   ],
   "source": [
    "groceries = list()\n",
    "type(groceries)"
   ]
  },
  {
   "cell_type": "markdown",
   "metadata": {},
   "source": [
    "`groceries` is a *object* of type *list*. List is one of the classes built in to Python. A list has *attributes*, for example a length. It also has *methods*, for example `append`, or `pop`."
   ]
  },
  {
   "cell_type": "markdown",
   "metadata": {
    "slideshow": {
     "slide_type": "subslide"
    }
   },
   "source": [
    "A NumPy array is another example of an object."
   ]
  },
  {
   "cell_type": "code",
   "execution_count": 2,
   "metadata": {
    "collapsed": false
   },
   "outputs": [
    {
     "data": {
      "text/plain": [
       "numpy.ndarray"
      ]
     },
     "execution_count": 2,
     "metadata": {},
     "output_type": "execute_result"
    }
   ],
   "source": [
    "import numpy as np\n",
    "\n",
    "a = np.array([1,2,3])\n",
    "type(a)"
   ]
  },
  {
   "cell_type": "markdown",
   "metadata": {
    "slideshow": {
     "slide_type": "-"
    }
   },
   "source": [
    "Tuples and dictionaries are also objects."
   ]
  },
  {
   "cell_type": "markdown",
   "metadata": {
    "slideshow": {
     "slide_type": "slide"
    }
   },
   "source": [
    "Today we will look at designing our own classes. Classes can be used for many tasks. All of the algorithms we have already seen, for example Newton's method, or LCG random number generators could be written as part of a class, although we wrote them as standalone functions.\n",
    "\n",
    "This illustrates an important point. Python supports building classes, but unlike other object oriented languages (for example Java) it does not require them. You are likely proficient enough by now in Python to code up an algorithm without custom classes. So why do we need classes at all?"
   ]
  },
  {
   "cell_type": "markdown",
   "metadata": {
    "slideshow": {
     "slide_type": "subslide"
    }
   },
   "source": [
    "Classes are a nice way to group together a set of data and functions that operate on that data. This leads to modular code with more manageable (i.e. smaller) units. Even though you do not need classes (or functions for that mattter), they often provide a more elegant solution that is easier to extend late on.\n",
    "\n",
    "In addition, outside the world of mathematical programming, classes can be a very natural way of thinking about problems. Most modern software development is based on classes and objects. If you decide later on to learn Java or C++ for example, knowledge of objects will be a big help."
   ]
  },
  {
   "cell_type": "markdown",
   "metadata": {
    "slideshow": {
     "slide_type": "slide"
    }
   },
   "source": [
    "# A Point Class\n",
    "\n",
    "As our first example, we will create a simple `Point` class for representing a two dimensional point. We initialize the class by calling:\n",
    "\n",
    "    class Point:\n",
    "    \n",
    "The keyword **class** tells Python that we are defining a new class. The identifier `Point` is the name of the class. This name must follow standard naming conventions: it can only contain letters, digits and underscores, it cannot start with a digit and it cannot be a reserved word. The colon marks the beginning of the block of code the serves as the body of the class. As is the case with all other blocks of code, indentation is needed to separate the body of the class from the rest of the code."
   ]
  },
  {
   "cell_type": "markdown",
   "metadata": {
    "slideshow": {
     "slide_type": "subslide"
    }
   },
   "source": [
    "Within the body of the class we must define all the **methods** (a.k.a **member functions**) that will be supported by this class. The function definitions will be nested within the class body. The precise order of these functions is not important.\n",
    "\n"
   ]
  },
  {
   "cell_type": "markdown",
   "metadata": {
    "slideshow": {
     "slide_type": "subslide"
    }
   },
   "source": [
    "The first method we will look at is a special one named `__init__` (note *two* underscores before and after `init`). This is referred to as the **constructor**. Each time a caller creates a point, this method is automatically called by Python. Every class you define must have an `__init__` method. The primary purpose of the `__init__` method is to establish initial values for the **attributes** of the newly created object."
   ]
  },
  {
   "cell_type": "markdown",
   "metadata": {
    "slideshow": {
     "slide_type": "subslide"
    }
   },
   "source": [
    "The `__init__` function for our Point class might look like:"
   ]
  },
  {
   "cell_type": "code",
   "execution_count": 3,
   "metadata": {
    "collapsed": true
   },
   "outputs": [],
   "source": [
    "class Point:\n",
    "    def __init__(self):\n",
    "        self._x = 0\n",
    "        self._y = 0"
   ]
  },
  {
   "cell_type": "markdown",
   "metadata": {
    "slideshow": {
     "slide_type": "subslide"
    }
   },
   "source": [
    "We can noew create a Point object."
   ]
  },
  {
   "cell_type": "code",
   "execution_count": 4,
   "metadata": {
    "collapsed": false
   },
   "outputs": [
    {
     "data": {
      "text/plain": [
       "__main__.Point"
      ]
     },
     "execution_count": 4,
     "metadata": {},
     "output_type": "execute_result"
    }
   ],
   "source": [
    "p = Point() # call the constructor, store in p\n",
    "\n",
    "type(p) # check the type of p"
   ]
  },
  {
   "cell_type": "markdown",
   "metadata": {
    "slideshow": {
     "slide_type": "subslide"
    }
   },
   "source": [
    "As was the case with the stand-alone functions that we covered earlier, member function declarations begin with the `def` keyword followed by the name of the method and any parameters followed by the body of the function. One difference between stand-alone functions and member functions is the use of the `self` parameter in the function signature. \n",
    "\n",
    "A user instantiates a point using the syntax `Point()`, without sending any explicit parameter. The *implicit* parameter `self` serves to internally identify the particular instance being created. Eventually the user may create several different points, each of which will have its own state stored in memory. "
   ]
  },
  {
   "cell_type": "markdown",
   "metadata": {
    "slideshow": {
     "slide_type": "subslide"
    }
   },
   "source": [
    "The `self` identifier allows us to access members of this instance inside the class body using the standard syntax `object.membername`. For example in the `__init__` function we assign `self._x = 0` to establish an initial value for the attribute `_x`. This attributes becomes part of the object's internal representation. If instead we had called\n",
    "  \n",
    "    _x = 0\n",
    "we would have created a local variable `_x` and set it to 0. This would have no effect on the internal state of our point."
   ]
  },
  {
   "cell_type": "markdown",
   "metadata": {
    "slideshow": {
     "slide_type": "subslide"
    }
   },
   "source": [
    "The choice of attribute names is of course up to us. For this case `x` and `y` are natural choices, yet we intentionally choose `_x` and `_y`. This convention of prefixing underscores to member attributes is used to indicate that these attributes are for internal use only. Although it is possible to access the attributes outside the class, for reasons we'll discuss later we generally prefer to leave management of class attributes to the designers of the class."
   ]
  },
  {
   "cell_type": "markdown",
   "metadata": {
    "slideshow": {
     "slide_type": "subslide"
    }
   },
   "source": [
    "Since we don't want the user accessing `_x` and `_y` directly, we will provide them with **accessors** and **mutators** to get and modify these values."
   ]
  },
  {
   "cell_type": "code",
   "execution_count": 5,
   "metadata": {
    "collapsed": true
   },
   "outputs": [],
   "source": [
    "class Point:\n",
    "    def __init__(self):\n",
    "        self._x = 0\n",
    "        self._y = 0\n",
    "        \n",
    "    def getX(self):\n",
    "        return self._x\n",
    "    \n",
    "    def getY(self):\n",
    "        return self._y\n",
    "    \n",
    "    def setX(self,value):\n",
    "        self._x = value\n",
    "        \n",
    "    def setY(self, value):\n",
    "        self._y = value"
   ]
  },
  {
   "cell_type": "markdown",
   "metadata": {
    "slideshow": {
     "slide_type": "subslide"
    }
   },
   "source": [
    "The function `getX` returns the value of the attribute `_x` to the caller, while the function `setX` sets the value of `_x` to a given value. Note that all accessors and mutators take as the first parameter the implict `self` parameter. The mutators then take an additional argument to set the value. \n",
    "\n",
    "A typical call might look like:"
   ]
  },
  {
   "cell_type": "code",
   "execution_count": 6,
   "metadata": {
    "collapsed": false
   },
   "outputs": [
    {
     "name": "stdout",
     "output_type": "stream",
     "text": [
      "x = 0.5 y = 1\n"
     ]
    }
   ],
   "source": [
    "p1 = Point()\n",
    "p1.setX(0.5)\n",
    "p1.setY(1)\n",
    "\n",
    "print(\"x =\",p1.getX(), \"y =\",p1.getY())"
   ]
  },
  {
   "cell_type": "markdown",
   "metadata": {
    "slideshow": {
     "slide_type": "subslide"
    }
   },
   "source": [
    "Testing our class can be done in one of two ways. We can do exactly what we just did; that is defining a class and then testing the routines later in the same file or interpretive session. A better way to do test classes however is to save the class declaration in its own Python file. It can then by imported just like a module.\n",
    "\n",
    "I have saved the class declaration for the Point class [here](https://raw.githubusercontent.com/lukasbystricky/ISC-3313/master/lectures/chapter6/code/SimplePoint.py). If you save it in the same directory as either your notebook or an interactive session you can call load and test the class like so:"
   ]
  },
  {
   "cell_type": "code",
   "execution_count": 7,
   "metadata": {
    "collapsed": false
   },
   "outputs": [
    {
     "name": "stdout",
     "output_type": "stream",
     "text": [
      "x = 0.5 y = 1\n"
     ]
    }
   ],
   "source": [
    "from SimplePoint import Point\n",
    "\n",
    "p1 = Point()\n",
    "p1.setX(0.5)\n",
    "p1.setY(1)\n",
    "\n",
    "print(\"x =\",p1.getX(), \"y =\",p1.getY())"
   ]
  },
  {
   "cell_type": "markdown",
   "metadata": {
    "slideshow": {
     "slide_type": "subslide"
    }
   },
   "source": [
    "## Completing the Point class\n",
    "\n",
    "\n",
    "Let us know look at redesigning the Point class to support more interesting behaviour. \n",
    "\n",
    "To start with, suppose we didn't want the initial values of `_x` and `_y` to be 0. Suppose we want the user to be able to specify them. We can do this by passing in arguments to the constructor. Just like with functions, these arugments can be optional."
   ]
  },
  {
   "cell_type": "code",
   "execution_count": 8,
   "metadata": {
    "collapsed": true,
    "slideshow": {
     "slide_type": "subslide"
    }
   },
   "outputs": [],
   "source": [
    "class Point:\n",
    "    def __init__(self, x=0, y=0):\n",
    "        # x and y are optional, the default value for both is 0\n",
    "        self._x = x\n",
    "        self._y = y\n",
    "        \n",
    "p1 = Point(5,2) # a point at (5,2)"
   ]
  },
  {
   "cell_type": "markdown",
   "metadata": {
    "slideshow": {
     "slide_type": "subslide"
    }
   },
   "source": [
    "We may also want to define a scaling function that scaling both coordinate values by a single factor."
   ]
  },
  {
   "cell_type": "code",
   "execution_count": 9,
   "metadata": {
    "collapsed": true
   },
   "outputs": [],
   "source": [
    "def scale(self, factor):\n",
    "    self._x *= factor\n",
    "    self._y *= factor"
   ]
  },
  {
   "cell_type": "markdown",
   "metadata": {
    "slideshow": {
     "slide_type": "subslide"
    }
   },
   "source": [
    "We may also want to compute the distance between two points. Recall that the distance between two points $(x_1,y_1)$ and $(x_2,y_2)$ can be computed by the Pythagoras theorem:\n",
    "\n",
    "$$ d = \\sqrt{(x_1 - x_2)^2 + (y_1 - y_2)^2}.$$\n",
    "\n",
    "We can write a function that does just this."
   ]
  },
  {
   "cell_type": "code",
   "execution_count": 10,
   "metadata": {
    "collapsed": true,
    "slideshow": {
     "slide_type": "subslide"
    }
   },
   "outputs": [],
   "source": [
    "def distance(self, other):\n",
    "    dx = self._x - other._x\n",
    "    dy = self._y - other._y\n",
    "    \n",
    "    return np.sqrt(dx**2 + dy**2)"
   ]
  },
  {
   "cell_type": "markdown",
   "metadata": {
    "slideshow": {
     "slide_type": "-"
    }
   },
   "source": [
    "Here `other` is another instance of the class `Point`. Note that we use the NumPy function `sqrt`, so we have to make sure that the NumPy module has been imported earlier."
   ]
  },
  {
   "cell_type": "markdown",
   "metadata": {
    "slideshow": {
     "slide_type": "subslide"
    }
   },
   "source": [
    "Another possible useful function is a `normalize` function. This function scales our coordinates, so that the point has distance 1 from the origin. "
   ]
  },
  {
   "cell_type": "code",
   "execution_count": 11,
   "metadata": {
    "collapsed": true
   },
   "outputs": [],
   "source": [
    "def normalize(self):\n",
    "    mag = self.distance(Point()) # compute the distance from point to the origin\n",
    "    if mag > 0:\n",
    "        # if the magnitude is not 0, scale by 1 over magnitude\n",
    "        self.scale(1/mag)"
   ]
  },
  {
   "cell_type": "markdown",
   "metadata": {},
   "source": [
    "Note that this function does not take any additonal parameters, nor does it return anything. It simply modifies the `_x` and `_y` values."
   ]
  },
  {
   "cell_type": "markdown",
   "metadata": {
    "slideshow": {
     "slide_type": "subslide"
    }
   },
   "source": [
    "Let's test out our completed Point class. You can download the class file [here](https://raw.githubusercontent.com/lukasbystricky/ISC-3313/master/lectures/chapter6/code/CompletedPoint.py)."
   ]
  },
  {
   "cell_type": "code",
   "execution_count": 28,
   "metadata": {
    "collapsed": false
   },
   "outputs": [
    {
     "name": "stdout",
     "output_type": "stream",
     "text": [
      "Distance from p1 to p2 is 5.09901951359\n",
      "Distance from p1 to p2 is 9.19803902719\n"
     ]
    }
   ],
   "source": [
    "from CompletedPoint import Point\n",
    "\n",
    "p1 = Point(5,1)\n",
    "p2 = Point(10,2)\n",
    "\n",
    "print(\"Distance from p1 to p2 is\", p1.distance(p2))\n",
    "p1.normalize()\n",
    "print(\"Distance from p1 to p2 is\", p1.distance(p2))"
   ]
  },
  {
   "cell_type": "markdown",
   "metadata": {
    "slideshow": {
     "slide_type": "subslide"
    }
   },
   "source": [
    "## Doc Strings\n",
    "\n",
    "As with functions, classes can and should have doc strings. In the files you downloaded I've included docstrings. Make sure to use these whenever possible."
   ]
  },
  {
   "cell_type": "code",
   "execution_count": 13,
   "metadata": {
    "collapsed": false
   },
   "outputs": [
    {
     "name": "stdout",
     "output_type": "stream",
     "text": [
      "Help on function distance in module CompletedPoint:\n",
      "\n",
      "distance(self, other)\n",
      "    Computes the distance between this point and another point\n",
      "    \n",
      "    Parameters\n",
      "    ----------\n",
      "    other [Point] \n",
      "    \n",
      "    Returns\n",
      "    -------\n",
      "    d [float] : distance between this point and other point\n",
      "\n"
     ]
    }
   ],
   "source": [
    "help(Point.distance)"
   ]
  },
  {
   "cell_type": "markdown",
   "metadata": {
    "slideshow": {
     "slide_type": "subslide"
    }
   },
   "source": [
    "## Exercise\n",
    "\n",
    "Use the [CompletedPoint.py](https://raw.githubusercontent.com/lukasbystricky/ISC-3313/master/lectures/chapter6/code/CompletedPoint.py) class to complete the following tasks.\n",
    "\n",
    "1. Define the points (1,1), (10,2)\n",
    "2. Determine the distance between the two points after they have been normalized"
   ]
  },
  {
   "cell_type": "markdown",
   "metadata": {
    "slideshow": {
     "slide_type": "subslide"
    }
   },
   "source": [
    "## Exercise\n",
    "\n",
    "Create a class `Rectangle` that has the following attributes:\n",
    "* width\n",
    "* height\n",
    "\n",
    "It should also support the following operations:\n",
    "* accessors and mutators for width and height\n",
    "* a function to scale the width and another one to scale the height\n",
    "* a function to compute the area of the rectangle"
   ]
  },
  {
   "cell_type": "markdown",
   "metadata": {
    "slideshow": {
     "slide_type": "slide"
    }
   },
   "source": [
    "# Special Methods\n",
    "\n",
    "Some class methods have names starting and ending with a double underscore. We've already seen the `__init__` function for example. This constructor is called automatically when an instance is created. \n",
    "\n",
    "Other special methods allow us to perform arithmetic operations with other instances, for example \"+\", \"-\", \"\\*\" etc. \n",
    "\n",
    "Other languages may call this operator overloading."
   ]
  },
  {
   "cell_type": "markdown",
   "metadata": {
    "slideshow": {
     "slide_type": "subslide"
    }
   },
   "source": [
    "## Example, a Polynomial Class\n",
    "\n",
    "\n",
    "Let's create a class that represents a polynomial. A polynomial is a function $p(x)$ of the form:\n",
    "$$ p(x) = a_0 + a_1 x + a_2 x^2 + ... + a_n x^n.$$\n",
    "\n",
    "Our polynomial class will take a list of coefficients $a_i$, $0\\leq  i \\leq n$. "
   ]
  },
  {
   "cell_type": "markdown",
   "metadata": {
    "slideshow": {
     "slide_type": "subslide"
    }
   },
   "source": [
    "Let's start by defining the class and giving it a constructor."
   ]
  },
  {
   "cell_type": "code",
   "execution_count": 14,
   "metadata": {
    "collapsed": true
   },
   "outputs": [],
   "source": [
    "class Polynomial:\n",
    "    def __init__(self, coefficients):\n",
    "        self._coeff = coefficients"
   ]
  },
  {
   "cell_type": "markdown",
   "metadata": {
    "slideshow": {
     "slide_type": "subslide"
    }
   },
   "source": [
    "We will also want a way to evaluate the Polynomial at a point $x$. "
   ]
  },
  {
   "cell_type": "code",
   "execution_count": 22,
   "metadata": {
    "collapsed": true
   },
   "outputs": [],
   "source": [
    "class Polynomial:\n",
    "    def __init__(self, coefficients):\n",
    "        self._coeff = coefficients\n",
    "        \n",
    "    def evaluate(self, x):\n",
    "        p = 0\n",
    "        for i in range(len(self._coeff)):\n",
    "            p += self._coeff[i]*x**i\n",
    "            \n",
    "        return p"
   ]
  },
  {
   "cell_type": "markdown",
   "metadata": {
    "slideshow": {
     "slide_type": "subslide"
    }
   },
   "source": [
    "We can test this out on the function $p(x) = 1 + 3x + 5x^2$."
   ]
  },
  {
   "cell_type": "code",
   "execution_count": 23,
   "metadata": {
    "collapsed": false
   },
   "outputs": [
    {
     "name": "stdout",
     "output_type": "stream",
     "text": [
      "p( 0.5 ) = 3.75\n"
     ]
    }
   ],
   "source": [
    "p = Polynomial([1,3,5])\n",
    "x = 0.5\n",
    "\n",
    "print(\"p(\",x,\") =\", p.evaluate(x))"
   ]
  },
  {
   "cell_type": "markdown",
   "metadata": {
    "slideshow": {
     "slide_type": "subslide"
    }
   },
   "source": [
    "## Adding Objects\n",
    "\n",
    "Let `a` and `b` be instances of some class `C`. Can we write `a + b`? Yes, if class `C` has a special method, `__add__`. \n",
    "\n",
    "    class C:\n",
    "    ....\n",
    "        __add__(self, other):\n",
    "        .....\n",
    "        \n",
    "The `__add__` method should add the instances `self` and `other` (whatever that means for the class `C`) and return the result as an instance. \n",
    "\n",
    "When Python encounters `a+b` it will check if class `C` contains an `__add__` method and if it does interpret `a + b` as `a.__add__(b)`."
   ]
  },
  {
   "cell_type": "markdown",
   "metadata": {
    "slideshow": {
     "slide_type": "subslide"
    }
   },
   "source": [
    "Specifically, say we have two polynomials, $p_1 = 1 + 3x + 5x^2$ and $p_2 = 4 + 8x - 9x^2 + 4x^3$. We can say that $p_1 + p_2 = 5 + 11x - 4x^2 + 4x^3$. \n",
    "\n",
    "How can we code this up?"
   ]
  },
  {
   "cell_type": "code",
   "execution_count": 24,
   "metadata": {
    "collapsed": true,
    "slideshow": {
     "slide_type": "subslide"
    }
   },
   "outputs": [],
   "source": [
    "class Polynomial:\n",
    "    def __init__(self, coefficients):\n",
    "        self._coeff = coefficients\n",
    "        \n",
    "    def evaluate(self, x):\n",
    "        p = 0\n",
    "        for i in range(len(self._coeff)):\n",
    "            p += self._coeff[i]*x**i\n",
    "            \n",
    "        return p\n",
    "    \n",
    "    def __add__(self, other):\n",
    "        # start with the longer list of coefficents and add the other list\n",
    "        if len(self._coeff) > len(other._coeff):\n",
    "            sum_coeff = self._coeff\n",
    "            for i in range(len(other._coeff)):\n",
    "                sum_coeff[i] += other._coeff[i]\n",
    "                \n",
    "        else:\n",
    "            sum_coeff = other._coeff\n",
    "            for i in range(len(self._coeff)):\n",
    "                sum_coeff[i] += self._coeff[i]\n",
    "                \n",
    "        return Polynomial(sum_coeff)"
   ]
  },
  {
   "cell_type": "code",
   "execution_count": 25,
   "metadata": {
    "collapsed": false,
    "slideshow": {
     "slide_type": "subslide"
    }
   },
   "outputs": [
    {
     "name": "stdout",
     "output_type": "stream",
     "text": [
      "p3( 0.5 ) = 10.0\n"
     ]
    }
   ],
   "source": [
    "p1 = Polynomial([1,3,5])\n",
    "p2 = Polynomial([4,8,-9,4])\n",
    "\n",
    "p3 = p1 + p2\n",
    "x = 0.5\n",
    "print(\"p3(\",x,\") =\", p3.evaluate(x))"
   ]
  },
  {
   "cell_type": "markdown",
   "metadata": {
    "slideshow": {
     "slide_type": "subslide"
    }
   },
   "source": [
    "## Call Method\n",
    "\n",
    "Computing the value of the mathematical function represented by the polynomial class is done by calling the function `p.evaluate(x)`. If we could call `p(x)` instead this would look more like an ordinary function. \n",
    "\n",
    "Such a syntax is possible using the `__call__` special method. "
   ]
  },
  {
   "cell_type": "code",
   "execution_count": 26,
   "metadata": {
    "collapsed": true,
    "slideshow": {
     "slide_type": "subslide"
    }
   },
   "outputs": [],
   "source": [
    "class Polynomial:\n",
    "    def __init__(self, coefficients):\n",
    "        self._coeff = coefficients\n",
    "        \n",
    "    def __call__(self, x):\n",
    "        s = 0\n",
    "        for i in range(len(self._coeff)):\n",
    "            s += self._coeff[i]*x**i\n",
    "            \n",
    "        return s\n",
    "    \n",
    "    def __add__(self, other):\n",
    "        # start with the longer list of coefficents and add the other list\n",
    "        if len(self._coeff) > len(other._coeff):\n",
    "            sum_coeff = self._coeff\n",
    "            for i in range(len(other._coeff)):\n",
    "                sum_coeff[i] += other._coeff[i]\n",
    "                \n",
    "        else:\n",
    "            sum_coeff = other._coeff\n",
    "            for i in range(len(self._coeff)):\n",
    "                sum_coeff[i] += self._coeff[i]\n",
    "                \n",
    "        return Polynomial(sum_coeff)"
   ]
  },
  {
   "cell_type": "code",
   "execution_count": 27,
   "metadata": {
    "collapsed": false,
    "slideshow": {
     "slide_type": "subslide"
    }
   },
   "outputs": [
    {
     "name": "stdout",
     "output_type": "stream",
     "text": [
      "p( 0.5 ) = 3.0\n"
     ]
    }
   ],
   "source": [
    "p1 = Polynomial([1,2,4])\n",
    "x = 0.5\n",
    "print(\"p(\",x,\") =\", p1(x))"
   ]
  },
  {
   "cell_type": "markdown",
   "metadata": {
    "slideshow": {
     "slide_type": "subslide"
    }
   },
   "source": [
    "Note that we no longer need an `evaluate` function. A good convention is to include a `__call__` method in all classes that represent a mathematical function.\n",
    "\n",
    "Objects that include a `__call__` method are said to be *callable objects*. Plain functions are also called callable. \n",
    "\n",
    "The function `callable(a)` tests  whether `a` behaves as a callable, i.e. if `a` is a function or an object with a `__call__` method."
   ]
  },
  {
   "cell_type": "code",
   "execution_count": 21,
   "metadata": {
    "collapsed": false
   },
   "outputs": [
    {
     "data": {
      "text/plain": [
       "True"
      ]
     },
     "execution_count": 21,
     "metadata": {},
     "output_type": "execute_result"
    }
   ],
   "source": [
    "callable(p1)"
   ]
  },
  {
   "cell_type": "markdown",
   "metadata": {
    "slideshow": {
     "slide_type": "subslide"
    }
   },
   "source": [
    "## Other Special Methods\n",
    "\n",
    "Given two objects `a` and `b` the standard arithmetic operators are defined by the following special methods:\n",
    "* `a + b` : `a.__add__(b)`\n",
    "* `a - b` : `a.__sub__(b)`\n",
    "* `a * b` : `a.__mul__(b)`\n",
    "* `a / b` : `a.__div__(b)`\n",
    "* `a ** b` : `a.__pow__(b)`"
   ]
  },
  {
   "cell_type": "markdown",
   "metadata": {
    "slideshow": {
     "slide_type": "subslide"
    }
   },
   "source": [
    "In addition, there are other non arithmetic special methods:\n",
    "* `len(a)` : `a.__len__()`\n",
    "* `abs(a)` : `a.__abs__()`\n",
    "* `a == b` : `a.__eq__(b)`\n",
    "* `a > b` : `a.__gt__(b)`\n",
    "* `a >= b` : `a.__ge__(b)`\n",
    "* `a < b` : `a.__lt__(b)`\n",
    "* `a <= b` : `a.__le__(b)`\n",
    "* `a != b` : `a.__ne__(b)`\n",
    "* `-a`     : `a.__neg__()`\n",
    "\n",
    "There is also a boolean method `__bool__()` which returns true or false and allows us to call `if a` for example and the `__str__` method that returns a string representation of our object. This allows us to call `print` with our object as a parameter."
   ]
  },
  {
   "cell_type": "markdown",
   "metadata": {
    "collapsed": true,
    "slideshow": {
     "slide_type": "subslide"
    }
   },
   "source": [
    "## Exercise\n",
    "\n",
    "Add the following special methods to the `Point` class:\n",
    "* `__add__`\n",
    "* `__sub__`\n",
    "* `__neg__`\n",
    "* `__abs__` - returns the magnitude of the point (the distance from the origin)\n",
    "* `__eq__` - checks if both the x and y coordinates of two points are equal\n",
    "* `__str__` - returns a string representation of the point, i.e. \"(x,y)\"\n",
    "\n",
    "Test your methods using the points (1,1) and (1.8,2)."
   ]
  }
 ],
 "metadata": {
  "anaconda-cloud": {},
  "celltoolbar": "Slideshow",
  "kernelspec": {
   "display_name": "Python [Root]",
   "language": "python",
   "name": "Python [Root]"
  },
  "language_info": {
   "codemirror_mode": {
    "name": "ipython",
    "version": 3
   },
   "file_extension": ".py",
   "mimetype": "text/x-python",
   "name": "python",
   "nbconvert_exporter": "python",
   "pygments_lexer": "ipython3",
   "version": "3.5.2"
  }
 },
 "nbformat": 4,
 "nbformat_minor": 0
}
