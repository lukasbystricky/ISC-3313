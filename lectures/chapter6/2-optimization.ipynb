{
 "cells": [
  {
   "cell_type": "markdown",
   "metadata": {
    "slideshow": {
     "slide_type": "slide"
    }
   },
   "source": [
    "<p style=\"text-align: center;\"><font size=\"8\"><b>Optimization</b></font><br>"
   ]
  },
  {
   "cell_type": "markdown",
   "metadata": {
    "slideshow": {
     "slide_type": "slide"
    }
   },
   "source": [
    "A common task in science and engineering is to find the minimum (or maximum) of a function. For example we may want to find the shape of a wing that minimizes drag. Problems like these are called *optimization* problems. "
   ]
  },
  {
   "cell_type": "markdown",
   "metadata": {
    "slideshow": {
     "slide_type": "slide"
    }
   },
   "source": [
    "The formal definition of a minimization problem is:\n",
    "$$\\text{find } \\mathbf{x} \\text{ such that } f(\\mathbf{x}) \\text{ is as small as it can be.}$$\n",
    "That is for all $\\mathbf{y}$, $f(\\mathbf{y}) \\geq f(\\mathbf{x})$.\n",
    "\n",
    "For example the minimum of $f(x) = 1 + x^2$ is $x = 0$. "
   ]
  },
  {
   "cell_type": "markdown",
   "metadata": {
    "slideshow": {
     "slide_type": "slide"
    }
   },
   "source": [
    "## Global vs. Local Minimuma\n",
    "\n",
    "An important concept in optimization is that of global minimum vs. local minimuma. "
   ]
  },
  {
   "cell_type": "markdown",
   "metadata": {
    "slideshow": {
     "slide_type": "slide"
    }
   },
   "source": [
    "## Steepest Descent\n",
    "\n",
    "One method to compute a local minimum is known as the method of steepest descent. This method uses derivative information to iterate to the local mimimum of a function $f(x)$. Loosely speaking, starting from a point $x_0$, we take a step in the direction that the function is decreasing. The step size is somehow related to the size of the dirivative. If the derivative is large we take a large step, if it is small we take a small step.\n",
    "\n",
    "Starting from a point $x_0$, the sequence of iterates:\n",
    "$$ x_{k+1} = x_k - \\gamma_k f'(x_k)$$\n",
    "converges to the local minimum $x^*$, provided $\\gamma^k$ satisfies certain conditions. "
   ]
  },
  {
   "cell_type": "markdown",
   "metadata": {
    "slideshow": {
     "slide_type": "subslide"
    }
   },
   "source": [
    "How do we choose $\\gamma_k$? \n",
    "\n",
    "There are several methods we can use. We will use a backtracking line search. "
   ]
  },
  {
   "cell_type": "code",
   "execution_count": 1,
   "metadata": {
    "collapsed": true
   },
   "outputs": [],
   "source": [
    "import numpy as np\n",
    "import matplotlib.pyplot as plt\n",
    "%matplotlib inline"
   ]
  },
  {
   "cell_type": "code",
   "execution_count": 2,
   "metadata": {
    "collapsed": false
   },
   "outputs": [],
   "source": [
    "def backtrack_search(f, df, p, x, gamma = 10, c = 0.5, max_it = 100):\n",
    "    it_count = 0\n",
    "    while f(x + gamma*p) > f(x) + 0.5*gamma*np.dot(p,df(x)) and it_count < max_it:\n",
    "        it_count += 1\n",
    "        gamma = c*gamma\n",
    "\n",
    "    return gamma"
   ]
  },
  {
   "cell_type": "code",
   "execution_count": 3,
   "metadata": {
    "collapsed": false
   },
   "outputs": [],
   "source": [
    "f = lambda x: x**3 - 2*x**2 + 2\n",
    "df = lambda x: 3*x**2 - 4*x\n",
    "x = 2\n",
    "p = -df(x)/np.linalg.norm(df(x))\n",
    "gamma = backtrack_search(f, df, p, x)"
   ]
  },
  {
   "cell_type": "code",
   "execution_count": 4,
   "metadata": {
    "collapsed": false,
    "slideshow": {
     "slide_type": "slide"
    }
   },
   "outputs": [],
   "source": [
    "def steepest_descent(f, df, x0, gamma0 = 10, max_it = 1000, tol = 1e-6):\n",
    "    \n",
    "    # we'll keep track of our steps here, this is not really necessary\n",
    "    x = []\n",
    "    gamma = []\n",
    "    m = []\n",
    "    \n",
    "    x.append(x0)  \n",
    "    m.append(df(x0))\n",
    "    \n",
    "    it_count = 0\n",
    "    \n",
    "    while np.linalg.norm(m[-1]) > tol and it_count < max_it:\n",
    "        it_count += 1\n",
    "        xk = x[-1]\n",
    "        \n",
    "        # compute search direction\n",
    "        p = -df(xk)/np.linalg.norm(df(xk))\n",
    "\n",
    "        # compute step size\n",
    "        gamma.append(backtrack_search(f, df, p, xk)) \n",
    "        \n",
    "        # compute new approximation\n",
    "        x.append(xk + gamma[-1]*p)\n",
    "        m.append(df(x[-1]))\n",
    "     \n",
    "    return x, gamma, m"
   ]
  },
  {
   "cell_type": "code",
   "execution_count": 5,
   "metadata": {
    "collapsed": false
   },
   "outputs": [
    {
     "data": {
      "text/plain": [
       "[<matplotlib.lines.Line2D at 0x269760c1a90>]"
      ]
     },
     "execution_count": 5,
     "metadata": {},
     "output_type": "execute_result"
    },
    {
     "data": {
      "image/png": "[encoded data removed]",
      "text/plain": [
       "<matplotlib.figure.Figure at 0x26975fdea20>"
      ]
     },
     "metadata": {},
     "output_type": "display_data"
    }
   ],
   "source": [
    "f = lambda x: np.cos(x)\n",
    "df = lambda x: -np.sin(x)\n",
    "\n",
    "x1, gamma1, m1 = steepest_descent(f, df, 0.01)\n",
    "x2, gamma2, m2 = steepest_descent(f, df, 4)\n",
    "\n",
    "plt.plot(np.linspace(0,4*np.pi), f(np.linspace(0,4*np.pi)), 'b')\n",
    "plt.plot(x1[0:3], f(np.array(x1[0:3])), '-ro')\n",
    "plt.plot(x2, f(np.array(x2)), '-go')"
   ]
  },
  {
   "cell_type": "code",
   "execution_count": 6,
   "metadata": {
    "collapsed": false
   },
   "outputs": [
    {
     "data": {
      "text/plain": [
       "<matplotlib.text.Text at 0x26975ffa358>"
      ]
     },
     "execution_count": 6,
     "metadata": {},
     "output_type": "execute_result"
    },
    {
     "data": {
      "image/png": "[encoded data removed]",
      "text/plain": [
       "<matplotlib.figure.Figure at 0x26975fd2a90>"
      ]
     },
     "metadata": {},
     "output_type": "display_data"
    }
   ],
   "source": [
    "plt.semilogy(m1, 'r')\n",
    "plt.semilogy(m2, 'g')\n",
    "plt.xlabel(\"iteration\")\n",
    "plt.ylabel(\"slope\")"
   ]
  },
  {
   "cell_type": "markdown",
   "metadata": {
    "slideshow": {
     "slide_type": "subslide"
    }
   },
   "source": [
    "## Higher Dimensions\n",
    "\n",
    "In higher dimensions the derivative becomes a gradient. The method of steepest descent now looks like:\n",
    "\n",
    "$$ \\mathbf{x}_{k+1} =\\mathbf{x}_k - \\gamma_k \\nabla f(\\mathbf{x}_k). $$ \n",
    "\n"
   ]
  },
  {
   "cell_type": "code",
   "execution_count": 24,
   "metadata": {
    "collapsed": false
   },
   "outputs": [
    {
     "data": {
      "text/plain": [
       "[<matplotlib.lines.Line2D at 0x26976896f28>]"
      ]
     },
     "execution_count": 24,
     "metadata": {},
     "output_type": "execute_result"
    },
    {
     "data": {
      "image/png": "[encoded data removed]",
      "text/plain": [
       "<matplotlib.figure.Figure at 0x2697677f0f0>"
      ]
     },
     "metadata": {},
     "output_type": "display_data"
    }
   ],
   "source": [
    "f = lambda x: 8*x[0]**2 + x[1]**2 + 2*x[0]*x[1]\n",
    "df = lambda x: np.array([16*x[0] + 2*x[1],2*x[1] + 2*x[0]])\n",
    "\n",
    "a = np.array([2.4,2.5])\n",
    "b = np.array([-2.8,-3.8])\n",
    "\n",
    "x1, gamma1, grad1 = steepest_descent(f, df, a)\n",
    "\n",
    "x = np.linspace(-4,4)\n",
    "y = np.linspace(-4,4)\n",
    "X, Y = np.meshgrid(x,y)\n",
    "plt.contourf(X,Y,f(np.array([X,Y])),10)\n",
    "\n",
    "xa = np.array(x1)\n",
    "plt.plot(xa[:,0],xa[:,1], '-ro')"
   ]
  },
  {
   "cell_type": "code",
   "execution_count": 8,
   "metadata": {
    "collapsed": false
   },
   "outputs": [
    {
     "data": {
      "text/plain": [
       "<matplotlib.text.Text at 0x269767eba90>"
      ]
     },
     "execution_count": 8,
     "metadata": {},
     "output_type": "execute_result"
    },
    {
     "data": {
      "image/png": "[encoded data removed]",
      "text/plain": [
       "<matplotlib.figure.Figure at 0x26977921128>"
      ]
     },
     "metadata": {},
     "output_type": "display_data"
    }
   ],
   "source": [
    "plt.semilogy(np.linalg.norm(np.array(grad1), axis=1))\n",
    "plt.xlabel(\"iteration\")\n",
    "plt.ylabel(\"norm of gradient\")"
   ]
  },
  {
   "cell_type": "markdown",
   "metadata": {
    "slideshow": {
     "slide_type": "slide"
    }
   },
   "source": [
    "## Simulated Annealing\n",
    "\n",
    "Another method for optimization is the stochastic simulated annealing. Unlike gradient based methods, this method does not require any gradient information. It can be used to find the global minimum."
   ]
  },
  {
   "cell_type": "markdown",
   "metadata": {
    "slideshow": {
     "slide_type": "subslide"
    }
   },
   "source": [
    "The basic idea behind simulated annealing is to take a step in a random direction starting from a point $x_0$ to a point $x_1$. If the objective function decreases, we'll accept the step with probability $P_1$, set $x_0$ to $x_1$ and repeat the process. Otherwise we'll reject the step and try another step from $x_0$. \n",
    "\n",
    "If the function value increases, we may still accept this step with probability $P_2$\n",
    "\n",
    "Thus we will be hopefully in general decreasing the function, however we may increase the function occasionally. This prevents us from becoming stuck in a local minimum."
   ]
  },
  {
   "cell_type": "code",
   "execution_count": 9,
   "metadata": {
    "collapsed": true
   },
   "outputs": [],
   "source": [
    "def temperature(k, T0):\n",
    "    return T0*0.9**k"
   ]
  },
  {
   "cell_type": "code",
   "execution_count": 10,
   "metadata": {
    "collapsed": true
   },
   "outputs": [],
   "source": [
    "def accept(T, df):\n",
    "    p_accept = np.exp(-df/T)\n",
    "    return p_accept > np.random.rand()"
   ]
  },
  {
   "cell_type": "code",
   "execution_count": 11,
   "metadata": {
    "collapsed": false
   },
   "outputs": [],
   "source": [
    "def annealing_step(x, T):\n",
    "    direction = np.random.randint(0,2)\n",
    "    if direction == 0: # step to the right\n",
    "        x_tmp = x + T\n",
    "    else: # step to the left\n",
    "        x_tmp = x - T\n",
    "        \n",
    "    return x_tmp"
   ]
  },
  {
   "cell_type": "code",
   "execution_count": 20,
   "metadata": {
    "collapsed": false
   },
   "outputs": [],
   "source": [
    "def simulated_annealing(f, x0, T0 = 30, max_it = 1000, tol = 1e-5):\n",
    "    \n",
    "    k = 0\n",
    "    diff = 2*tol\n",
    "    \n",
    "    x = []\n",
    "    fx = []\n",
    "    \n",
    "    x.append(x0)\n",
    "    fx.append(f(x0))\n",
    "    min_so_far = fx[-1]\n",
    "    x_best = x[-1]\n",
    "    restarts = 0\n",
    "    \n",
    "    while diff > tol and k < max_it:\n",
    "        \n",
    "        k = k + 1\n",
    "        \n",
    "        # update temperature\n",
    "        T = temperature(k, T0)\n",
    "            \n",
    "        # take step\n",
    "        x_tmp = annealing_step(x[-1], T)      \n",
    " \n",
    "        # compute difference in objective function\n",
    "        df = f(x_tmp) - f(x[-1])\n",
    "        \n",
    "        # decide whether to accept or reject the step\n",
    "        if df < 0: # accept step\n",
    "            x.append(x_tmp)\n",
    "            fx.append(f(x_tmp))\n",
    "        else: # accept with probability P\n",
    "            if accept(T, df):\n",
    "                x.append(x_tmp)\n",
    "                fx.append(f(x_tmp))\n",
    "                \n",
    "        if fx[-1] < min_so_far:\n",
    "            min_so_far = fx[-1]\n",
    "            x_best = x[-1]\n",
    "       \n",
    "        # every 20 steps go back to the best x so far\n",
    "        if k % 20 == 0:\n",
    "            restarts += 1\n",
    "            x[-1] = x_best\n",
    "            T = T0/restarts**2\n",
    "            \n",
    "        if len(x) > 1:\n",
    "            diff = abs(x[-2] - x[-1])\n",
    "                \n",
    "    return x, fx"
   ]
  },
  {
   "cell_type": "code",
   "execution_count": 21,
   "metadata": {
    "collapsed": false
   },
   "outputs": [
    {
     "data": {
      "text/plain": [
       "[<matplotlib.lines.Line2D at 0x26977b90cc0>]"
      ]
     },
     "execution_count": 21,
     "metadata": {},
     "output_type": "execute_result"
    },
    {
     "data": {
      "image/png": "[encoded data removed]",
      "text/plain": [
       "<matplotlib.figure.Figure at 0x26977b90f60>"
      ]
     },
     "metadata": {},
     "output_type": "display_data"
    }
   ],
   "source": [
    "f = lambda x: np.cos(x)*np.exp(-x**2/100)\n",
    "\n",
    "xa, fx = simulated_annealing(f, 15)\n",
    "x= np.linspace(min(xa), max(xa), 1000)\n",
    "\n",
    "plt.plot(x, f(x))\n",
    "plt.plot(xa, f(np.array(xa)), 'r.')"
   ]
  },
  {
   "cell_type": "code",
   "execution_count": 22,
   "metadata": {
    "collapsed": false
   },
   "outputs": [
    {
     "data": {
      "image/png": "[encoded data removed]",
      "text/plain": [
       "<matplotlib.figure.Figure at 0x26977cd3518>"
      ]
     },
     "metadata": {},
     "output_type": "display_data"
    }
   ],
   "source": [
    "from matplotlib.animation import FuncAnimation\n",
    "from matplotlib import rc\n",
    "import matplotlib.pyplot as plt\n",
    "\n",
    "# configure matplotlib animations to display in notebook\n",
    "rc('animation', html='html5')\n",
    "\n",
    "# create an empty figure and axis\n",
    "fig, ax = plt.subplots()\n",
    "\n",
    "# set axis limits, these will not change during the animation\n",
    "ax.set_xlim((min(xa),max(xa)))\n",
    "ax.set_ylim((-1,1))\n",
    "\n",
    "# plot f(x), this will be on every frame\n",
    "x= np.linspace(min(xa), max(xa), 1000)\n",
    "plt.plot(x, f(x))\n",
    "\n",
    "# add blank line for annealing data, we will edit this every frame\n",
    "line_annealing, = ax.plot([],[],'-r')\n",
    "\n",
    "# at this point since we matplotlib is in inline mode, it prints a blank figure"
   ]
  },
  {
   "cell_type": "code",
   "execution_count": 23,
   "metadata": {
    "collapsed": false,
    "scrolled": true
   },
   "outputs": [
    {
     "data": {
      "text/html": [
       "<video width=\"432.0\" height=\"288.0\" controls autoplay loop>\n",
       "  <source type=\"video/mp4\" src=\"data:video/mp4;base64,AAAAHGZ0eXBNNFYgAAACAGlzb21pc28yYXZjMQAAAAhmcmVlAABXyG1kYXQAAAKuBgX//6rcRem9\n",
       "5tlIt5Ys2CDZI+7veDI2NCAtIGNvcmUgMTQ4IHIyNjM4IDc1OTkyMTAgLSBILjI2NC9NUEVHLTQg\n",
       "QVZDIGNvZGVjIC0gQ29weWxlZnQgMjAwMy0yMDE1IC0gaHR0cDovL3d3dy52aWRlb2xhbi5vcmcv\n",
       "eDI2NC5odG1sIC0gb3B0aW9uczogY2FiYWM9MSByZWY9MyBkZWJsb2NrPTE6MDowIGFuYWx5c2U9\n",
       "MHgzOjB4MTEzIG1lPWhleCBzdWJtZT03IHBzeT0xIHBzeV9yZD0xLjAwOjAuMDAgbWl4ZWRfcmVm\n",
       "PTEgbWVfcmFuZ2U9MTYgY2hyb21hX21lPTEgdHJlbGxpcz0xIDh4OGRjdD0xIGNxbT0wIGRlYWR6\n",
       "b25lPTIxLDExIGZhc3RfcHNraXA9MSBjaHJvbWFfcXBfb2Zmc2V0PS0yIHRocmVhZHM9OSBsb29r\n",
       "YWhlYWRfdGhyZWFkcz0xIHNsaWNlZF90aHJlYWRzPTAgbnI9MCBkZWNpbWF0ZT0xIGludGVybGFj\n",
       "ZWQ9MCBibHVyYXlfY29tcGF0PTAgY29uc3RyYWluZWRfaW50cmE9MCBiZnJhbWVzPTMgYl9weXJh\n",
       "bWlkPTIgYl9hZGFwdD0xIGJfYmlhcz0wIGRpcmVjdD0xIHdlaWdodGI9MSBvcGVuX2dvcD0wIHdl\n",
       "aWdodHA9MiBrZXlpbnQ9MjUwIGtleWludF9taW49MTAgc2NlbmVjdXQ9NDAgaW50cmFfcmVmcmVz\n",
       "aD0wIHJjX2xvb2thaGVhZD00MCByYz1jcmYgbWJ0cmVlPTEgY3JmPTIzLjAgcWNvbXA9MC42MCBx\n",
       "cG1pbj0wIHFwbWF4PTY5IHFwc3RlcD00IGlwX3JhdGlvPTEuNDAgYXE9MToxLjAwAIAAABlmZYiE\n",
       "ABH//veIHzLLafk613IR560urR9Q7kZxXqS9/iAAAAMAFpyu1+iP0RL7MAiLBtAttZ3waNkymNNm\n",
       "u1a6i5aylqJ8Wl5QoN6a438Ak1kgzdf4uZJxZUpayTmtknuhluAjUCjxGRribe+861j4SaW85Uot\n",
       "4mz0N0BBaCy9ndsLrPfc65+KGudUBtHJ55bHN/dZR/AA/aDYWAWXUBgWi4sut0fZv///qm4H7cLp\n",
       "p7Y8vePGQXJ8+j1W3RVkFMe7+ldzwTUwFQAduKa4/Pn6BJfFs+CT3b7SvUzBaw0yV3kce5CPBBJ0\n",
       "aMrNDS/3sGCJq1tuwsqMWm/VzKjvQNLeJePUGfI0kpTcKathVWWRMMH+jO8fnbuUViKdnMX5e4yG\n",
       "0OJhoFumaItFEHbWKOQg8RhKcQey4mSm0TVQ//3sU8WsnkYr/q09Lr+O44QaK6+HWG4reh87B3eJ\n",
       "cZY+VMVgUxqc4v9T2jOIVTWRZo+sfNEi3fuYBz00kf6sq4DzsWHK4SayU5AqIomCQVfaUdY8TzZ2\n",
       "GczflSh17lqiG5BUE6fT0kdzM+Ca9TIS3OcCrs8smndGG3AhKXZhMS7ycVwR7RWsn9zQYITC1SZo\n",
       "a9g21LvBIr8EzlqJKAMQgOrC42jvG28bML018SAqn2A4TYJargob/dy4b90MRg5EUeGnF5KmLM9M\n",
       "EprD7dseyTBrabi9mlUk8EkHYAMVAgjk2ZaBs+YUu7T5wqx+0XGtBK55faqnncGJCkNM5St6jjXI\n",
       "iYZSZ04ribhNvm82CiaDUCxq4fwIFS2NRrTAbJ1dtAV70EVUamSyFc6Sw54MU4o0RSnWdan/Tw/e\n",
       "rzvoyTAHzL7/s5DpYOSPmPs41iwKuUDYBpovfM1JlEClGIBRmtPi11qHZapyni5+3y5B+0kE8wlq\n",
       "yerJGePWH7+627aWHWR/6CR/HK6h2/OXc11GB+rZGR6qHsqiZU3Us3BnHTIaGR0Kh7DyXbVSMD+I\n",
       "GZ2lwWn5tYd2xU7uW2QOV5yviJfXV5V7hcjfR40cRU+hA1+LUVu4yY4N81HyC8FxbGC0eddrNzJx\n",
       "kGzvSX1BOt3UPiBbVduTSNShvQnCh/+HBr/GUkPiO+Qw7KRJXUpGwOE1uvBbcEO16X4jKpjVWDLy\n",
       "HMAtbMzTCDVd25bzyjshUGApUe2f9ewwoEIZh+24BgagvkqKm1+pBL+luO6jSzL63glsaFqRjc1p\n",
       "NdEwj5GqxZ2FQ2m9R60GOLCvfo17Oatc0DDNrMXpnW5gZ0jVrx3xeqR9CWzMpqEqkL+TRxihzHDJ\n",
       "OqUK1KJsyvShVCLg2ZBxtJGzVm+Gj8vWRQlV3anUnTGVhdOMB4KTDgAAVah8L857Y3u5etsWWESS\n",
       "1MTsv/EYzcnO56GiYzwxm2Qcy9MKUhHJNt6S/XYGeMoVNWmyxOlldxnjvWqdVYTYpYBn1ILmWS5Z\n",
       "F98FM1wrKDtlq9+6pbQB8HV8v6XFISaX/X+0MDAqfiUQRztSKsHEQ1Qbl6/0z8jz3ExochazlwVh\n",
       "pFL+uu0U6kR3gydpx42BxhEfdFPs0hvSgcjA6tJfUml53HUhpiOvGEBS2o+WHKjFkQorrBsHgqew\n",
       "ZtpmCT8xBYblfPmYXt/EU1i69iSVF8WREewTJhq58+oSJMAbA3XJELfhRVXhOTZckAJJSZxKkgGm\n",
       "a5lMT3R95zPOchEZ072KdMaFCes9uzyk25+9v++tQ+Tr4nFMC479wZ358eVMRY/tkqo7WOIEK4uh\n",
       "2fYN2jw7ar+F1uulEtnnJMmHA95Vnh7jWQxeqO5untWUDRaoylEBRwjds1f80BFQ24vooRjWD6b6\n",
       "3uuRU5qbPuK+lcQ+gISPpeIYEz1ILiCZWhmaXIExc3FrjJ7eB0IXNeZIK3QEMkoucMxm1C79y5JP\n",
       "j4UT/78igIOxdb1NJpygYaeqZpxNHjcgxL0vyC/uO0JBMZYIjWK/NEmgiIZYV8MjLh7nGJs2xqS7\n",
       "D+saoCNO9nNOzZQ3cL2DunIX3R4oRQtV37oFdqptfLldRwrc+A6BesJYCkQVf65WvyCJIfyiUU1m\n",
       "/YRwsyV2WLKDf6DzPo9IfcJjJ0woRk0cnrsIDIXOUWRptjE6evTisaL7wJ8+/5/4gU9Ei5ta4RB8\n",
       "V1kYgXE/ekXvZFaI4OnkITHPyoVv7rUg9kJXO7fIAACOfaysKhQQgAW5cxMcpHOPel8VXrqqKDYX\n",
       "ytZLt96eh7L88nL4FAan1Xrp8fIV9ZBz5wiWI98967H1ehxguqQXqy7AUKsYUSX/H8+tS9D7Ae3i\n",
       "/TlQKFwaKCL5/qezxtJ6YkFqUuGHUz9uwFNNAT7anJL2q/3pzKIdxU6NQ9pneIzc2/mvdfgmhC8I\n",
       "MWt0xo2GkpTDqWyi8njCQyqESzRfemmHdN//UQiD1X2zpb0weol4Wic6piOB6m+pw5yOB8UH68eq\n",
       "sl3azJTnqn2PNE0wCq+/0DOlMLUUcZgWSPQEKO+HvK3dCPww+6obrv/733dM5rj6UtrnD52C+YgP\n",
       "uooYFKSqwJ9IjW/clj45Njun9Hl+a6bKfhD7FonthD67IClFt1kF8apKVQj/8Ds18fV8+ksOLQZs\n",
       "xWoBBLe1ZsU1ZVhk6EJNkm0CqyUAl7bLGcyCTGOHtcoM5Z0Cew2ld0PQas+t5TkVPkJ+S4RkuaUZ\n",
       "TFLZ+K85D8fQcSbKxGfjelx46IgN4QFK/FlzVe0nDoTP3QyUpcN/AUaJ9lTcD51CfoUpYks3z5Om\n",
       "mLPICKBzI15T+Wg6uIKpgAlYh8QjSlfyz2SSz3XcCldErx5f6b+PvXgh+mLJW52oUO8hUwsL8NxT\n",
       "csk9Hdk14l4FBzAk7oNEj2HqUHr+A4XbKEzJuOZ1JlGQB7x/cZCR67YjhZ9sIm3UrgD7oYO46wOs\n",
       "xPc+wtW/bw/0wvn9hjRlIH9RP0kB0u3Bd+xODFamHV68DSuQu2acOcXlWvO50Yve0dKGpOkJnKmH\n",
       "sXnId0T7Mpt1Y8X9/PYRAbM+gSBu8KC57g/RpIAoDKpvvFuHRDOEqU7azFgUb2UOJsSs2Hw8twMc\n",
       "gnhBKL9OxjIEOe9INbnWeZKd/O1czkMZYXfh3JhOwXFFcb2Il0ru//LG8HQKM7eIUVeaIF3a010z\n",
       "ijmO6ZSwGgWZPjpMexk9LcKBB+tGUEch6jHbyWWKJvx0baLpWGCmqrQEXVd4h630tuVkuItjZpto\n",
       "TPCvyhkfhxJ07eiSmXqnmiEBeduVuUnLG4JdPK0JR8G+a/omc5T+REF/LWq8U2H8dDNZuzTxSj7i\n",
       "7jlcDNTi1NWss39uE8N4O9fbIrWnksnh3g3aJAw101AOCBiOuGd2p80HBgDfqVRUDO/Ta6HSJGdd\n",
       "6DTw1b0BwXp6uu419t6wUZqQKP5CrRpIEgBZkJcjvvRysxMIhMRiVhX3aXw8gZizZfUhmn5HpVtA\n",
       "QJRy41Bw+pOSf7sY1nxKIX42r2vZ2CuB4RkZapBkpi+c6EiC6cNkFn7kt+Nzo/QZs6JH0DDiq0md\n",
       "5ifrVYuJf7nwD5toyZ6QlpTXPqV01zOYNFniU/AViw/FASQiIpUEdBCITlu7sxxYBniiL0oG9oa6\n",
       "S/UecBeWtLHbbQ/89bk0/ViOxtbrNGv4DlJjV/aJ7WP7VmiwCT8Lm+72LIRKPG/V+4wgXLK1RVmm\n",
       "EqhR+d2H49o/AV+MUuIxo+lI/u2YLilYHgHeS46cNAiYIKOuwrrvvsMST0haZASUeeeGwEBsRB6P\n",
       "ubmHcEnNcHZ87YsFZGlXURTo2UdOQzBznYfQ/+MrJPO1MZDTfTYOfFSCrqdSwl+H/ImyqHf9NG4G\n",
       "eV3IEdv/q0BSVK59r9xd+7fGfh8B+a49MNjnohEBk/+rlAsivOUGkZe5me3dRrFjOAvF2vJffiJK\n",
       "RvZRYxqe777q5dscJ53HgJAMTKyLP3Duk61GwV6n4KAKbuxlYYGQhTG40ip1wT3oIBcyES3WzdIk\n",
       "CcLOG8/KGE0sPnBzadmk7KH4ZXj37Ku29h93u6R9PTNpPgCbarjgCKyBmE5jGNqRHl/nv8QKzafz\n",
       "1Jc+vh6Ec3EKwboc1dP2n3lg6w3EmkD/wenPIKtNXN9F5+ALjC0DA/5Jryjg9Hsp/wbZoXWUHgYR\n",
       "0uK3DELOqDXR+u9U+DWTiTeDs+MloRDBKcKkG+WXYcTAonp6atVaK7XOANdOxJnYyk3G3ToqUUO7\n",
       "wxHASgJts7dZqWe5DKSFbQK1k2G2LmtJJaNPKCFb+Ppi9FsBBhMoH+31ZIEz7xI145xepIw/4ISR\n",
       "42tvYaZRTjsh0ywkAvYkSy+Ba7oHHaBmBV4MuLl15lisNRqw5DgdJ2Lh/gsy7hfGP6aDNitGLddk\n",
       "8GYwg9NviaYhsGscT5+aIZvIrXNWxNw6hX3MktCXoSSLsfjx9Pfs2ynGYzo3yZ46x9HHrBVoi7cz\n",
       "ANugPaaftIzqmada9aXUYH3s2s7tMF/QG1e9maiZ5QH6TPGA7M+ePPDNe67Ctm5SQ9HzD7IHY/vZ\n",
       "Jrc1O7Be0Hh0AYC01EGRLpH+ggLlY2q17nI63mYOWLe1wOM3FVYD0tkkZiJR4GO/4RSqb94H00Ip\n",
       "RcYz6PZWesntRjTQeyVIrPY0FJYdzh/Q2+tXganTHj7RD2cnfobK/erMQ5Yz9x6aCu4kE8TjSmNT\n",
       "pFcsbukdPlutgi+7B1dsBF2g3F1kbzuO18IVhTD7u1pHjYuA9d3XvPMyVVLXn7B8cAek1YycR09d\n",
       "U6rpW6lJMhEeazbnUlKAmaDiZBMNNXaeI26F1+eiJIFFQnSoaULkKSuPvcf7ZuV0Y3MZe3/eozzd\n",
       "7BR80UEsfTxos5OdYawAlq3KsxydhvRYV4mprv7BtITX3re3w5bt0REvLGn/Hc2fAl3uCMZcnL2q\n",
       "0Gx+yGevi3oWCkCTHANbhdEENyJ5iDrDoREeFggwOScjmOItmFtpmWg9EAkHLtINVCYhx5hMZAct\n",
       "h99j9vVasRvnhtIXBatdmm0yAHv3KRMEOGee7w9IbMUAgSS8n0uUvLDhy273mbsSgrGZfwuSi6vj\n",
       "PZMRyc42RIH6puFEHyC5xInk+5JlgFXeTstPZ6C7yCxhj7WPgYVp19/cXaWnPCGTGeHmTfgTpPJ2\n",
       "vOD3Kk3w87mqn2VndeSe5edQuMaP2hqdPsnGgMR9X8ClPTves9V77+UpPurshtuHg9GRIB1OjqKp\n",
       "4bIxg8Vqppc7jQDMCHDg14QNiyGkFl6OOXmEOXI7YfVpuf8oOEn/XyCvon0k4SrUrgXZkGfx/bNe\n",
       "oK07aOPEfCZ2EtETW7OWfovclGk5lfloO2umKauIddrVk2cx8mwL1ok/BwmnSG0yAYd/LBTvZB5u\n",
       "X3n9MVwrFDahm09oAKlV9pCMVws0c4p+wkyj0MzKptbelyoa6pt4cbgVqnJHAKAsDdPqK04VuBf3\n",
       "QjelYNCeS98Mt/SRurahJg01tMTY6Opp1fZBgCQpmKrIIeM8kwSG1LSOfeWMLQwAL6vw5vsMT++c\n",
       "tTwSpg8v7ZpbicXp1YX1cZrBYAvCY+Ygqlk3cDPGMZJ6MCO8u6whwojcVanePdKVDpCQ6LRrzI2h\n",
       "jMHBPnjDXdgniDDs5tBMQY4501MTFyNuqOYsOIKAB/3LnmSUVKdviHeuWAammMxUJraTemOoXAET\n",
       "ZPIxrse0WDIg2HkIfNMGJh/5LfR/M5TtVuQD+K/bAPbGHvANlJGVaQU5vCSoAxkX24RqwDDtqgpu\n",
       "aF3TWgtA64kB1IVcuhStchQhxrr+hfOFtQn/om8nuQnyYP39YVRwprRwo63QZPEwgeEQfFO6MqQq\n",
       "G+6IhWEkmc13bN3Pk7MJKtaMCDsJOxrsDbLe7FVoWhRMEXR5IsQLFsqJEEznUcQ1L1nwmDtrehN3\n",
       "52sMkEHlZ7fJEwK5kQJwizulzB3QKiK5S32FyZPr67SZqEZwU5JKtpp1ylMX+gc8lFoRmlVYR5dP\n",
       "X0EvVFc7y6tZ8v0Tt/87XDGGN+c6S182vBmS3menmLclKxtD88wi0jPjUfn1g+e1Zpi6eYp03rG0\n",
       "CdzVPbQqGl23Swy5pWlIZbs5w1/77q6ZEkLZkZoPJOZ56aZV+EsDA1kWZTZBt/q4gRCVh1jR1wRW\n",
       "55CiUgMXZVANzI4lULIdjqNBWXmHAu4YDehjw549JVFXYliyVsf2jEnvZMiliUDN1OVwoD4PINBY\n",
       "mpLbEonKif4mE3dPsyHqx+f/tZ76CFMhlXQQcSuInACdfpZO9bl/+C/ZIit8hwxvHHTDmSzgJBXz\n",
       "d9twZ+4f2tZq3VKZw802Xi01Q+14E/djLMsMgCT/Dszbf/7SZPlhNrZUZ7QXwTQlhnTFzGAwO/8d\n",
       "GOeRWNZU1eT3iZC+xWjr7Cdj4vGkeY/x2Tw2kYu97aTPgzzqgBTDHTG3+KB3MspSyP5mttH/1IF+\n",
       "GpFK0KWN98ddEU12lsO2NYeeRfzxOkP7TyUhhL70khm2b+U6tutdlXNQ5z8R96l9MCXP/mjPCVBx\n",
       "hIbSK/TpGYKdZz7izh0jBUJjGP7fqzrwA8mVYrkYin5LtRKmZmsBnO457ukkaMkwLKoExbuqA/iW\n",
       "yT/pM2pl+Sdxb76QWpbGUVM6kI4/ngfbLLQU2T/U5k4/p1xujaTzPuW17VaQrJExsqG7Hr9mFKDi\n",
       "A/P3u5fkWRBwwS+g6XBzesttSNQBNBRxqwp+8x1YREWp0RIv/yVexDdKCpkBs7XEj2M2tvdqmam2\n",
       "KL85zuGi0mJdiiJPm67Zq8keN1+v7JsdP2CAK+f0oB9+Pju8VvVC9dhPCYNge4befw0TVIiSP5/l\n",
       "T9TnU/YvdLx87RCrGjVICtDG/WiNuqTyx+c0e1+w5mxM45eogdYRjOXDDB4DkxI1/OjKruWw/BDf\n",
       "kAnmfesw0QIn2J3Bok5QF/Uc/dQcIO53bJKN7yc7uUsM2ZTbTpkrQQhKu69dqlKeui8ePEWisFN9\n",
       "dwj7H0YGkaluDkMebO++1vkA7c+JJvHEmlTvgE6k1uBFp570qq51AQhnuqmmvJi3/i7eTdgFzoLI\n",
       "+tHuTSYU00+DtH/BH8n+hub7fsrDi2f2eaOqS1q0mWgrKwF4FDh1f3C7P2dNSGLi9AhidI0DIMKC\n",
       "JoxLK43914RLABUoW1NNUZn3Ok8kzJzc4BAyPaCMG4xBZWfLSELABDJmkHPXs0VPavc0vV7CCBTO\n",
       "NPBSfBtOrmz6oeJf5bQeHP4zKTLx9J4npg2qn51ekQXF96ata86AFz7LxQJZRE79CvuQt8YtH1vW\n",
       "HYmL/3OeJaoIz2qfr/5i9T4Yn4vez/Js+kkbKNURBQkeff09j8LpYun0gxw1/BSAslIlEF0OosMk\n",
       "zx674w01mBqIEICYcrMSTcthmVAtfVsZLERM/DnQfBl9+wnD3ARjnJk240ojH4d+3AVKSJDRCIQ1\n",
       "OHMx/bfCaGhaaBxhIgO3NE1Wi/z6ESOJHjXOwI0eV2aXeYf5lVrBqxEdr+qmlfud12IbMNbYvEHu\n",
       "pt6qxFFPrHCJkZsO/6IOdamfKKS60KInHeSWEFTxrJz3do3L9D2Si3YxabXu0J5dJHluRhHNWzfT\n",
       "G+mCus56O2FUP5n00KsC7zLFBNVldCDtLwUaXJwlHir8Gl/Kr87suDozUSLma/NR2EtKF3g+vk9M\n",
       "QLZFQ6Kvf3+tYEkXdYWqvZvoRnw81J0Pfm3VvbPRzJ5L2tSeJ+HIAkSE3xbtEUZlXpMOSwWKeEyD\n",
       "nNzMRUU5lYA6NV0YDi0ZGi/58R3I/SYt1y8Htei7JHWUgq5DcdpSDgUSGZKLdKITwoi/L28mhVLJ\n",
       "ssaYGZOqvv7BD+j3P/VHxeAeMy1MMq+QHxGuGE126cCsxAHOy4a4cgBGAos1YPfewSjaRMMAIkhQ\n",
       "7VNVOfREI2zUy13L1laVudjDKmjBQSVN7lfKNyqZAEXpBNyiyAQHMCYvRpS+DonaArKbzvROtGFc\n",
       "Ll31HfAL4brbpklxFJjgWT3zWoaI4tLOlUhBfLhqshLVr/IpQnWX5CzED4c//4GG/oFL+osVtol2\n",
       "DCPDFnQT2kEOKgiNjOTA6cMLos/2tJQNFwOUARc6UhzIoO4Ze8LuQQVuUlCtXh4SLYkV7OqMqhKZ\n",
       "7LOkApF+DA3jTztqXqWGN10B8SyHS0hx7IwOyzujZ/Y8U6J3q4XuVqSMpT254SOSOzdgtzpLKQHl\n",
       "XDNJWUrZqbC5bfHakaTYNfbQ+VxFz9LukaIsGebodPxqZDij/6i7u8SitH+O6nMWKLfEa/EfEbcw\n",
       "lQMjyDndgpCSQdmfxoNw3q8B76fpltnjayz6kJf5O1aGohuCpxb0TLye8QzsT8kmyQBUta6CEmcS\n",
       "nKxOsCceOuEjOsMGbV7+NM2rtuDcRZZbYuiAXY0xHLAHMi0dpUSrsMYaD2QtfBFYaI5tG2hlm0oO\n",
       "WQZ3rBFIlXykQw94CsR/1PXmxI4JnY5zOxkA9fTGM6YCHVfWrbhFfk+l/xq+PayBMzq0RBYtKjqt\n",
       "ZbxQoXhPrObPf5HaktYfa9Mlm32iPFeXu4YtJyzMFt71d1fCB++8p7baYih/GPaEs1ja1OcseahR\n",
       "ShT8R58f2OjOUffu6mLh88fsULGJNaLkCWR49tsAQSjxO570IF2KwRHTMJKX2dXEDYgDbw80mL9O\n",
       "LTrLw/3Rjq1IyDvUaAoHnwaNaLwwKx0ruSlShLynb3EwzhOY0t7q/7N7jrGY36o6wAADjWWpAx7s\n",
       "gQAAAc1BmiRsQR/+tSqC8p1IATX6Vli3v+HxzJAOjYY5+ZWiPRWbsTUV6zblUNOPno+gkLuX3oes\n",
       "GQYcHvbMtNqQKZ/3xGa4y5qvm5OOB5vAsswc81YohbBneRxBK7C9PbKnIp2ki0fE9EhRSD4+rXUY\n",
       "+usqANdOtqc0xLKSj7KfchN2AjPTcFOPlBrCX0f73Giar3zvT/kO4TopRQqPnCuphFApkZmgSIwK\n",
       "2ceJKSxsHyMEXD5f/gxkMLpXzEQQZ3BsWqFWMnyp4SibTMHAFPoNXIphI5q9IQP/3/uBD9emFt6o\n",
       "4o0QE7dxs4R8/uL1vbqGlZUqBlks4ng6Hk/Tw4pqZspGmkmHw3vM2YWOZcd2Jr1BBxdumpsAMb3i\n",
       "JF9orxWViC/iW8pdOX7O+MlpCSr8GJI93TcXc2emnCUxO82s3laD58eq/2AJoDzmlW7zQoyPFCIk\n",
       "QIvT0SNxgb3XG8OnTig/m5hUcKQq8zy4FQvRaBDmw5s2YrUAXPSc4uZ8uCRJa+wBbJYg7dCa0jpJ\n",
       "zTyEu5TDhnEajfyjZSXZt6d/J+GrNxxq4fC86dPj0Rc02/QSv5aiiI1/nQn1SaEy+rZgTBA7TuD8\n",
       "M0T93s6u6qsKgAAAALxBnkJ4h38BS6ouUpiNAB2ZoWzaXG17Mip55U4n2eiPEuKWZPcezHTxnDQW\n",
       "Uv4nTWpVyVUH8TG2qr1f6f1cGIhcn+Hc1PtvLnaBSFvAS/xS4GlUbZdvwzneJhsFnKP2WqTv78PH\n",
       "LiDP0746l0nPadBcsxW/zFqz0me8TBobVmkKs0qwIC9Sww6N8Dn19kGFECq2RpuDxClouU1rwGjb\n",
       "WWdGyy7md4Bpi0KB/W4TsIfks8czN1wSpY3yQ9YuYQAAAEMBnmF0Q38BzO/D+EZGkCdBt8cTHB+u\n",
       "TueD33MmJoyoG4qOLAHLTbWmcNbOTv7yTvtnvQ1vou3Nby9CcAbymsl0HQPiAAABegGeY2pDfwFH\n",
       "F1ACE6GlzPa6PSlHaNg9XI3RC34c5PA7qj+aqeBqUoGoiYlopeSetZcj/DZeApoOL//3/HzDKmpB\n",
       "IVQOiwTp7aV5W8tK/1MtX8tof7AsufaV6kAsCwwbmzvJgnFhYRgIRQeqLPwL+EgMqOPtFwQ7aiu6\n",
       "evD3tdzaxmtN5dPAI3MIvSVN7toRGJFP1YJm3y5XpvTNA3j7CGlrBDUVYuPn6Fl1u8cQXvFwtQV6\n",
       "6PVJOmLZX9xXCYjr6IxWU1P2LRavKuIiZa0ZNc2gcGsmOtq9TT/UlEoyViTiOL+t78TLWjNQVOII\n",
       "W2VprOx/pE3A5SF7sC/8EXVCTdmDsxMkcyFMGxGNuk/H4KKZndHZ+6JNHM2eC2tO8AaQ/C01ynGs\n",
       "QKPhsVz8ElWtGafBiMd0xkVT6cSR+u49KnJyNGcY3USQcmZa0ZFZuRyS9ob5euNF2ENtmqCCBWiK\n",
       "ZlQLajYLhqDLRFpnSRLo0ZZsGfvnl7nOt3hawQAAALlBmmhJqEFomUwIIf/+qlUAcxZPgAXaQGdY\n",
       "MHwX/pMdsBQ6K9fkCocHSeyKqdZqUy+CnGa6vuOaYtrdJvtVGl7FSPDRqc7D7CUjIIPkXVev/1KZ\n",
       "G3qf5S+Tih+un0hsswl53CMZ4I3qrkdgQ+9aTlA8q/TdefLZJCYsYrAnonXr7cCBBVYrWdVjaDuR\n",
       "4StRkYx0n/9APAAAiIAAAAmZkAAAX7UgADbspvBBKSPsi/YtZqGm2gAAAwDIgQAAASdBnoZFESw7\n",
       "/wC17EWeAC+SwJvx+xmdEoQR09rpE/wOxkDe9YYNZozgGRbM3jHINhwg94TQrQhBl8/gkDF+8kw0\n",
       "IZv0jTM9uGZoA0MTR4gEo/+cIwSiBR3LFO2A8f4AvVs//6B6FvrYYhGrA1mz7dSFlf1Qs8FrdLck\n",
       "FGrIUC3xCxh36q5Tck2aGhQPHWneyDb52ihv9V4XKeT272rE44ltMuffq1REh9aQPwccAxHtSO7R\n",
       "RFLphDphFqBTxRjJcYLOV06jjQyR29FzeNDvLurKKqvRlXuwlJZKDrqdeGY8g+V8f+pufHqUIlQg\n",
       "3FfqsvMMJ47ee0ASWiOra6soo9WRsVFdTX45LBghsf3xNXwxpzOboRaSxU+juTJ3o/xGuMtzkP9e\n",
       "mUSlAAABfgGepXRDfwFHlTwAbSZQuA357RdwX1nNKoe6e4hFzPLVmaN8mNj0opUAcjU83NFtJ3ul\n",
       "DtElmnmEYOjPjfHb71OT7gJ8PNLbyPTPsEXNngz0FHLHwcVHJtUNg8MK8h4ckxEzFb+rPkCcaHK4\n",
       "0UC+gb4UQ3xDnc0fdurJ5vfwI3kBkaOonscmDLBWHRjmPWFppWa3pjjwrIqMKD3em0mvznUU65+G\n",
       "R3vm9jk/cc4nxtc3jqJV9ZqCQn4bvorz1ai/BpktxsOvooUYFNFsSGXRy2im+ZpRC4DEq6bZv2Dn\n",
       "kz3bzvb/q/EF8+QNq+pn2G0hmEc0ag0GiXA4kfHZ/KiaFbWtotCHySgH4MRSuZZEPbrbjMa/yPC7\n",
       "nJavVJeZMQWfAAm5k0HF/jv1w0b48l3IA7LgxB90/+CSEvVbH74nVbWVxlakFqXzIfQVvnYGGk10\n",
       "IEr0StbaoVICMMFT8nM6U45ImsvQQsFg4/ig+foy+J+9PWzL34Pv7BfPerzpmf8AAACqAZ6nakN/\n",
       "AQGOhz7wAbSZQuZ7XR6Uv1lyHm2HG1vSEJEZ7bOPPjBt/DA8DUpQNRExLRS8E67nPQlbh3bqM27+\n",
       "W4AVzirfVsxFd11aUZVf9MQBMVUvtfmQaxcNdqB/veEww8RpJ/NXI61KJz7lW84F7ThcZF/zyZS8\n",
       "xUm0LCPEj3mjcGE366l272eMXEMM+5ZXjLVkqAmFCdfscpaDDQ2EpFRtn6ukzytHojIAAAC0QZqp\n",
       "SahBbJlMCCH//qpVAJWMTUAC1BxnXpydr2cONna9Zf7eZie+hoMfTMvQlihXt/OhxnnWzoNBOEG3\n",
       "P4N2QK6+hidW1KvVj6f3ZNbHbADHRkMCBfjRJwf3ALn5AJeoj4TxHl8JqVLn1kCg+hGtIQpUz3JS\n",
       "2tBqZCIZzoGunV4zjbfNvkLj5PJWTyk8K+/6Vw7tUkoRRuBR+SlKIbBWcNqIcbrCYIWKBvy+Jn1I\n",
       "llvXnoU8AAAA60GayknhClJlMCCP//61KoBwXUsACjh5iz6P83c/M+yGlRC6waMGZpB6re0n1sH/\n",
       "8A/8t9ogBcfsXTKuMw5mzfIySo2EaHFhMB2PXZTT//5e9BvfjUlE/YwlxV8QzZVjP+9RNycUSNiK\n",
       "e/ZjkJy7VUbe8zwZWk0r6lyxdZIlNU+wx/HwhhnmyizT161YHYf63X6H7PGc0i3w3QM0NEmBYa5+\n",
       "rqgNyvfaqngGbpSdoP3U/PLjJFBcgrVgKuIYJM5L+5vnL2eKybRzgfhTXzsjYCy9UrxvgFFdM2U5\n",
       "pOpRsakQjv9qsKRKoQkTIaUAAAFWQZruSeEOiZTAgj/+tSqAfs/SABxa16EVRG8uJBpeHZDm9CMG\n",
       "621xofHpRO4AH4MKysHf0cqS9KqZ28V8B2nDWYIo/Yc/mUIFI16liN0mDVFXFLUCBhp/4KsJBBPw\n",
       "EOKVkWefCI5SIbHAYDuw/tzY1iX04o60JsmlPeDIwT7a9g6Mm+oT7fFy5ra6vOmYdpnH/YNhESxk\n",
       "srZ253b17JXfKDgGzUflY3uS+MDTEkacoTV2r5vyVEKY8ZoosoIoy8/Bi0WAVuJoXf4Y7Mbds+nf\n",
       "YQ8oZrwMyroVQwwMriRIArG2ZCA1kdKX6NQwBHVWtzfhHHur3/LK6isqq/65bHFPZpdGkQIKLVF5\n",
       "6GzPl7BVvp3HP14jNBiFuWWvdmlbnFh5yRH9nVmUUJGkyG46VcQFlKasMuyceeQ8wLjec3WZ2hwL\n",
       "le/B+8doq+FQjqocGkGhhOzPdI8gAAABkkGfDEURPDv/ANp7tAA7M0LZtLja9mrpLNmrJcFnkGUf\n",
       "WAgEo/7br55yeVF8JgUr6up3QLyVJes8lETldk6lziRudE0Rbu5aEX+hF2Z4oZUnhrca+hJe5iUx\n",
       "bH4nNvDfhRkwcf9y3PMA2eG/QCQLyELv5wN5dhwCiWtDoHq5MHeMlqj5pmJOdlMxDnAYw7Nrbkqe\n",
       "UM1+LLh/UL+sZKN1dQrBKYLvWeMQvGboUT8njkQ1vV74iPPfid7ld0p+FybvgmyWtw28pAliVRJ+\n",
       "7476SQ/K07UPjJNX8YtC0I471ZOf1SGvaWcd612zGNhz8MRuX6WP2VCLq07UEI0cPvFmrtXrM8uZ\n",
       "9qMvPa0mTADRJVrZhNAhkXpm6zWsGn6OzqqMmxtOZwZ7fB2KADCnu8+bcQkP/luu1C3gTblv5bBJ\n",
       "67sN1jo0oUik0yJu7Rrk7+hKeeae5V7yMESc1k04q2pmm2DZzEAfEU3OJ/8/tFxf/F0K/Ws0KyD0\n",
       "LAwf8W9OTR4lvdzJXKcVdtWpr/1u9sJJTnQ1IAAAAZYBnyt0Q38BNXmpTyACIPQPcl/lyq4KtXmy\n",
       "JgS0y8AhHJiMJgalKTbZnm4Vm+478HmE3/wVmH/OGXlxDSjV/vsLc+qgRcbtt/3naTzjP96dLSkj\n",
       "Tn5mX3Fx/6Svt+B4YWjGQexjaUABfgHHkbdwYJQPxTYBdg8QJw6DLGjcD2n9DnhBPqdp9kKRCYge\n",
       "1ThW7OtRx0sVXWk9PUJQshMogCSQBCbe9iuNj/y7HSgb5AagZ5HKydB2DiVLl0ar+2JdvhTQcX//\n",
       "/5jJxlQ8ZPKA/SBM828MucAzv6wDMtKY13Rup083LKw7/kb3ogrEY5pVTgVXKwFA+ZFBYj5b7r5s\n",
       "ARllJYQIC90AHlfmrf93UHvum6LZh57wcvj95IpEFv3FKPZiBh1ZmDuaasOYjW9fl7nVRZT0o8VQ\n",
       "jSFRkMXO6TyYfGyOJdaef1DykwBnmKG1sxOufiaUvjSiVmNPUBhWRjKzaFZnCdLY9QL1GFHdBnHe\n",
       "akbivBNEFAkEfjowbw8NOofXOogKKTEetUKcOd4bgOhzwg1ayAW9AAABZgGfLWpDfwE1GnHCXABt\n",
       "VpvuUfvpkLDbBzyadL94RDBHJh7fLXi/iqr70kHzzpyBDNn6O7TnndmZ4arRmWTyd4RcoES8xAfo\n",
       "IWzIf+WOo2qjWvkhwz8B+sqZDShQPviFwRqkEoPgXtjo0VdiHTMTtISOxcnfys15XE2pvFTSceXa\n",
       "DEankmUERlrHM91b89qCTg9yN2dCTqizdy/lbPZzjRltieC8kXWs3pRJ8Nqp6YkXaoDldKtc5BfE\n",
       "8Rl3/dE4RsnDF0LHXT1BNFwB8MVo1KWO+CpJpSmVNvU2wArXypYNYbFmQSZDXKgVNWEzqJ/16/gc\n",
       "6e6dKhO0Bgm7CidTfk5azWLIEgw65kzbj7MajeljVrTTeUisS4Kg9EMGhGdGgIU+RnRpQtUICzVS\n",
       "URow3IRnRoIkUIzo0vXXU+BX8CC3VebXrjQP7fYGXZiV9TpJD3+Og8HI8WXzxd3HJFebkQ2FfAvg\n",
       "WEEAAAF4QZsySahBaJlMCCH//qpVAR5Ngl4AF2kB+OTnvX+1hGZgb8gLVg6TsEGCe0lrE56+gdWW\n",
       "oW8csd4X/5/AQck8vrczg2QJrVwDB+lE0Dy0XnTvn8H1x5MeyP1949rK8MG1EzkpDoc/Rrrehuls\n",
       "cwPuTEAQtqsz/vUbMzXW3dIVG2y8UICAaSUwxB0fG/33aBBIipypWp6JVyMRQCydiqbrBUCQuMK5\n",
       "yah39ojQipm1jcK79UoKyozcQgq8e/PgwLvmFjkHr09Cx+aWjsRWkWRm0vrGSlpPM0CMNdOyVJYC\n",
       "3ZybU1Ht9ILvAcZjYlCaCgQUgoysMpX0QSjHpdYm7KTa4soRc9cPS3QaEXNkV9zroiljXWzFBiFP\n",
       "yZKqu0tUmsd+t6cNPuaIgKYDv+sfqFXP68x3ZTWEvEQATFKVMH7YUH5yA0hk/ykkEiBPDBpuwNVo\n",
       "Nazww7i8btF05nHTUE5ACzdBYdti3EC9iIqa7lKrW0GtsWWrqBnR4QAAAWxBn1BFESw7/wDaQ1AA\n",
       "7S1vZNYYe0Kq8PbLwUlbgAv3qTRseN6RVQs5bWeBSkPG32NaNyp9w7+isi3g+cZJKJ+t41/nwi0X\n",
       "P1LK2zkFlH5SgkcYl9HnZJtPTX7SGYgwCpdR6z1uvNbOrGhuclne3X8wvCQGaOmwd0eBGd+YXXLv\n",
       "UF/VrcQwhdX6U2bgd/RokfIiFiy53MHFLkvJLnN/UbDWQRvQVzVfYGtkGWJ8fIhiIkAZX8SvaKXX\n",
       "5wjfWUp4lnJZTBb3fSuzd1eSDeva67TeMJjFvj9nH4RqFlNG299Vl7pc3WFUBvMoPdEXQcByeKG9\n",
       "5J8lhShWTk1ehsrXxx8ImOEVyh+F6eyp2axViWoSAX9G+LVD520XEm452zlKTiw4c+4qxFjncWfD\n",
       "rUB8dRitp+IHtrg2ZGt/LIJCFXKvQ/f+kMF2njR1RgjY7eXnezL06nyz8z/8l9xy/0D+JnIT3+3t\n",
       "4ShiaZb92KKAAAABlgGfb3RDfwEbl7gBCdDS4Hd/tqZc8h5th4wLo4FWMI5MWiMDUpQNRExLRStG\n",
       "Yu/cr42Q2dcGGDo2G1+Q+gNyqmBxkJMVMWfKhGuftd9qnt82seIIhSt5Upo5/Loajrt8DRgh4jkN\n",
       "BzwBewG0uh6Kq2yrmshHuNeiB4y4NONzAS6gDIXkgpaADDznLyw4A3MQRiquzHGaZbnpYwio+e1n\n",
       "MfG0+fFYPTlttPyzWKyzdLrpLzMACz09IBlsrpI60nk0HF//9fMY3vzy3WxSB2OTcoT9nqDyPspx\n",
       "TQpm2rAXpWApgfTXNl9BPTnWTEb2O7D+A+vnWjzSe6gO0qfMWqIscu3IuqrJyYwDQSoiZ5qrErhm\n",
       "9K4cP7gTF27tg8vEKL7TeGmnWYgWGGMPc8mkDqFhKRIMG0iiJBj7dw7W+LvlGnJYuNPILA2Gcq6O\n",
       "Ny2WaGO48lb//1BbpmuWNl6BjRRkFShXPpJ7EYfLTA0JRofTSpxOaGmLEpbgOZRGMrwHEMMPgV3I\n",
       "zB9DWJ3ajfR7h4lARHzy8w5ijegAAAFqAZ9xakN/ATUacU8gAh+hpcBvz2j+Nef5TTBsLsdbgjkx\n",
       "aIwNSg7upqlIAMjSoXGhrNeZH7x7gLQugMyyfVv87qkjfmID9I3DZJH2xwP5M6F6fKBH309+Ow6p\n",
       "CRx/dPCS23RusLLi4qC+v52sKxQI4cmb8qnr2JKMkRdVIeVzQbBOyzI+ltywHRCQor1wMuDh6AqX\n",
       "ZZHLykRMuEtkfeeHJ1djyq6BYlbXbWfi60n1baWWk3EmAXUeB3fUD/v7d2x1trA+Exp7cECspo2E\n",
       "N50Tpk3p0O0wzBBuavD8NARkkV5GF3kF+Kg3NG6Ki9a1Muhg097gIVAzfQeh35Aj1uda2VNz2+F6\n",
       "Nib7mxYswB286VGFOUqamHFvXAEPjtKRNwu5BRnAfOmVvW/8y0yt64A7EOv2QvLw//FhZo1ecbK+\n",
       "aNXnJ24SfJq3ttEFIpZzZmm/9o+ieOwVjixfYpS039y95AWjp8Kt486uHjEAAAD6QZtzSahBbJlM\n",
       "CCH//qpVAR8CtVLlAAC7BxnWJpvG03RzFJpTy1TH417NIC2StyL4/Qb4qBiVlB3v/ULqIvOG4/tI\n",
       "gBG0i+9IB1qYfJaT4DZ9BMqkQRbzjCFrdgigufn9LbyqxZfpL4HJl7MW7+D3pX4p/rgE+Rg2zMmY\n",
       "ltM/gvRALwNxNY+RK8bprkztzWFJGHarU5yCgZAxYO2SDyaoZoxsVXtj/+v+28zwNDtmL4S1Xlyj\n",
       "dSMhQVRUt0ur1ezgTDThGCqpoLHcPsaEZPQqRukNPyykPw4Hr3orRrNyMCwJ3ug7oSlRxEwXUKZi\n",
       "zV5W1ESZDeAPxTtMxwAAAe1Bm5RJ4QpSZTAgj//+tSqBC6tCASKnlaGrjM+3mXyvmG+CticuRHVe\n",
       "GVIpHqesjn79wVAb4iS6if+KmorOyaVt7vV9BgibNlCdUve1oKtEskjxg6Divm6bv/QXCZftF8n/\n",
       "5vHIHwpvhuE+QcFLox7dxcsG21xwsRG4TGgfoRic8b39XoMQlnl3dZBXsZSfPZNd9QnREMSh7E1o\n",
       "EV4T8mrmV5cxPI4vmHLb6v2vtug94oDvErm0ifAcrYCnVWvQJE0ktD5waOsuWdBM+V7DGOxKsz5g\n",
       "xiYJ1wPj6PaZ3/4vM3gg8TfiDckUw2DXKaGm6xdE5nB9QVd6FF8hfGBin3GtfrxGnu4e9x/vn3Il\n",
       "sGj+W33Qjnfw8FPLVzb6xuWlULGg8MInDUlzgNdTQVSulBxpXiNQe8MAc9BH1vkVleiN1Xh9R/Eo\n",
       "Yi7tIf6eE1315YU9fu4/cZHz0ojdqxNm7w38TMPOJY6V7xEABQlb2Srf+LCtFhYvSbUM97RsYn5/\n",
       "UZWkfP35ta0blud4z9g3C8Qct7Xgu+tlzNIMj7ttCN64yIeE5htDgrY8wGTWq5r8dUckGtEX7MH5\n",
       "J8gwsRBPjKhJLyk+4xyyBQ0fe5BgQ8D8awrSdk7zL5o1VSlCUShyuehM0JF8SXBRcYW/K6CAAAAB\n",
       "x0GbuEnhDomUwIIf/qpVAbaELCBUABQEdQiu6Vto5c8TLn5w4Bn5VZQ8p6On/4KCzXBijcKO7/wP\n",
       "wE6tNOWRG5Cs5esGuTnJ+vub4Y3yQdpVJX9BDl1ir9E7g/83HMm8uw9utAROZ9fJSFOTTVG/5IqQ\n",
       "9PGJABekgwymSYy7ctyo9gsseurvlIowVXUGJ8tEQAgfKdLQSIKKi17L2mbHn+0n1cd8Kp3RTVZx\n",
       "NH82XBh4vrmRI6DZYdGLk4tm6bz/M6UzJW5hjm/snq+imhK2lskG29k7ChVNIfsnxgplA9++/WgR\n",
       "3BSOSp3+0WqrjYkhnqghBcJTDapbgWhcX2Zia4waVEg0GZWfa8zZ+Ag1tiUyMoIOM2EV0idTbN7p\n",
       "bPBWtebYEwucHeVuB/G/SixUOccH3qUwghnpTauy/I9F/uOgz+2X/bMiA2q1ds6+WANyJDuFEC93\n",
       "M9dg2hg4bekDkvxmnW5PcnV8uOY3IWIi8rx4x2BSNFAFmp90NfdyRnSB8VOfvFTrehnTkOUrKr4s\n",
       "7wBjGEWYVup0Yo1peeBgEv8+pGHHLMlMrhA5sRf2IwQ8yrNXv/9JVYJ/o+xrdw/XwIhs9SqLbrKB\n",
       "AAAAOEGf1kURPDv/ANlQG3DrNSeqH9LA3ZY8FKFAsjMxdB+rqjfhv7p92pvDa2OJX1I5bcwjYlc3\n",
       "YIwIAAABkAGf9XRDfwE0+9XACE6Glx8Uns0YwyU2tqVV+hjpE0HF/6Xr+KHPKi9+wOi8YmXQLyVJ\n",
       "bAdvyxdRwVbkZ7yYrwr9IKczxQyl4aMAY6hJe5iUxQTFx/7NZvpy1cj+2GJRuqWY7Dna2CUFrCaj\n",
       "TabN9VhjDgR7lih5OWKQoGKh7OCJSWv3lpifmziH2mNB2hSsMbVw+LHqvN/2O0W0SoEph0+3BNwV\n",
       "Ax3qOxTUxDqC62XqxNnchWRqatGntNPOLt4PK3KvAG4j6/haqIm7ynK0Ddio4DndrB7WZP1S+mXK\n",
       "+2SqhBdzCBg/XrqVBAFuVuzf+D7/C1JeA5YdAHAsCTj1A5n/6TiAysG96GTCmro27ric/tBmEM12\n",
       "jFpboXwEoM7ApeQMJGCiY5yMEKb3B647tESgeDuS5NPltQ9QmzCfpd1WBkBScacR8+VyV+IzhS1A\n",
       "CWS+l/oRu9gy+dLmVcm3KJsR7MjPDKdh1MyM8MqM7d0zaDVC9odxlpVd16Mvfcvde0e4A2Ip08Rj\n",
       "rc6WVgg/xpUAAAGNAZ/3akN/ATZaIAEP0NLme10elL9wpSxUP3YnMc90sMjD/+/7tsDHE+eoHRet\n",
       "mRRr2YIvA7foQ0iSpfpmH3yKVO6fQMKq7UJRQ5cEtKqCsZQGfN7kFQt70dTiXgSmHRIA4gKCtNA3\n",
       "5VUKPTh7lYGpXR89rAUW3z8jfKchYp2YqFIRj22303HAeaJCOnim9vQ1tgHWsoC1LD60Nw0IdMVT\n",
       "M71Zkl1kngYTfqt5mhnXNoypnZaYnN2LgJirwQ9kXYslZF4j5Lx036WknoN7YcMlqjwybCEnXqGY\n",
       "ZynZkvFxdea8AUIDz4oNifN7xetX6/Om4a1lVHJvvcn3Jb7XDjhyzoZ9OZUL5p0sYtkgnBXTKnU6\n",
       "25V9ZYGkjFOm//TVCVYhk4NpFx5QEC8Fmyr6PcAJUmjIbi/rhVMnEcX9hXDwZH8uSmtYKVU62xMn\n",
       "EcX9pvox3TGRTHsH/bXDbWxOPNkY7pjIp/tSDo4v7gjoiFkAijD0iJthC0FvsRoQu1q0vHsagEr0\n",
       "/3Ihr4kOuDLBvwAAACVBm/xJqEFomUwIf//+qZYAApPObANT3Qo34SXOSeiyBbERy0CAAAABBkGe\n",
       "GkURLDv/AM+U/TwAfwZxk6CZIMbU/WHw////bXIBfwOl/p+fMlwt6YB+D8qUNOrm2zLkx01fYCvC\n",
       "VoUenzV6uyo8NazADtUmJxiDymE+nUXG+V2M5Xk5IvKNFajByD6o9miMCFbPfK9aDEE+ciLX/9gG\n",
       "eg16g0daVj00+Ftp5kFGtHNPjcUlLw+rGv+w2wYJ/dqvx4yuxZDrf38/9cAmzkEyLUr7ViRbPf1V\n",
       "OdJMbOvwV+BQH2dnIaol0Sx8akgInaQUbCkz/8opLnkNmWqPv0NkI6Q2POf/dlTbkytgPVxP7/Av\n",
       "P+Z48OVSBF1yctoM6CSPQjwoPjhQRZ6H6v1ZajbTijkAAAFbAZ45dEN/ASfHUoKAEKege7SO6PSl\n",
       "+pVxGoQtzX4Ek5z+HVnqrAwrMpjmipuSGXsunxmlRdqRYgsz7SMGMMzXE+T9HKvLL2YTQ/MYDI77\n",
       "N5h+0Gx2l0kVNrgZk6kbeK/oa/gqzN3VC6X2aMqqjvtubLi7bZ0hgqfc/VPv/ueMlAg/nL6SyVB8\n",
       "wByU/YnhOQoV5gyVIEz15X5kjgrJ61B+EVVDa4nXDgcrVrZOI07Y4lRS47gxx4DmGuUbRXK3dLMe\n",
       "RvKRfqLIjxMsU7fOS5WDYTZscOKqJTaIgL9K+AghLupKxcFlF0dzd2ivJZ/1UIDX/32umoyjlY0t\n",
       "sYf4W/fhm9iGWBcVg+hkEUwUY3C57M3xaP0G2mcbmdjn/dBcmqh52mCrabYr0NckaIaVDE0Ujj74\n",
       "93YPjBd6Z26+lL/X+gDV1Hi3Hfa+DCnRzfZBwmXMMwFjok0KcRA8uKgAAAIgAZ47akN/ATXaAAZ8\n",
       "OoyWDOZ5ztfKh23bMdMtOYe9X/7xU5/DNXGNqsYWxNuKzwO2vMXIkzuAjHakuTGq/lp3IRFmnqrP\n",
       "0B72wAF/EnVnf2PdsBqsUlTh2MP01uNAlyfkY7D47/Dl/uC/FoJPMV7tPnjnK15jvWGBNWeuxroy\n",
       "BogoWMwlyKuOkrC+RcsauC+ftXYyOQbE5Riew1Bd/QOVPF7ECU5yyKTNV7ci5XtbQ5O7En7r3kKX\n",
       "+zBZZLILT7ElbruCVZL9J8LX2mO5+UW7tsKHhNmls1yzbhMbJFZfLXRTY75pf2wX8oRLa45SzMRA\n",
       "FOxIhiFuN+rFN6zRb79EgwjqDnrs9eM8NR4NSM02cWfs9mrC7yWDdNap0JmN8tGzt5M6k/MeBqds\n",
       "eFcUkYpWc1ldsV3p41hIPuWO+91XXrJ+6lwTg/YxbnrrWwySIuXNEdk+rsnqZudbgshx6xQV1ziw\n",
       "bCcSZPoBICtD57dTRsCoN43d4EHHVOMStGQLjgm+h6zYFu0vgR8f33fZm+PYZSeLqHgjvfZ1iSl8\n",
       "m/KRCTsG5lLNds/dYdoo+DIpiN3wGvq7vENsHNkxASk5akOCQoF6wti9EdLFgBJnkZVgntWVrHNh\n",
       "iauYxDjvW3Kc4r5NOUT/gHJ6GSvrIUaSoD2aAv2KuVoixQByBu9s+HAOU3NOsL8++CJtjeI1juH0\n",
       "MF4Makfzvv4r7+sih96Ro4gkIQAAAx9Bmj1JqEFsmUwIf//+qZYF3+bABb/2+h7a/DF2Kvsl/JuB\n",
       "dBB4sXyBqYJlXHxRPdDQoEU8tqBAMOk1CeUILOe/nKhOcbsMXcuc//f0/1lM5StxlW7MU3EqJeSM\n",
       "zUT5LPQYRAPQRmQbMtiV9MmDyJpqPnQ0RuZ+MwSrqUygOkVe5MosvOhdxa603mmvwISVh1VETPrf\n",
       "64l6ubSjivJDao/FZ0YCtezKxZZJph328a11MXQnXhtnwS4MoF0S1leoz63oKJN5Y2xIBTsyNkU4\n",
       "VrrD2Ydxwy+vvgcdc8OfHMhmZAABImWax+ShemWBOlVIJawO6ajTJrFIVZQZV+E7bhZJAGiD071D\n",
       "/d7yJF4ZEBehVBDC6Jfi2nbAqAMiA7zYB00dWc+mpURLwnIbv0eLt5FyIdZfxeoKYgggCuzrxxGL\n",
       "FqUvnnX3o3dXtCZ4rkl0Y9PnMreLfd3/zFT3h3LU0Qan/syHQDhsmxzeO0ZZAkKEzCwlEkIixyei\n",
       "WhzCqq4HaCui3l4AxS39cUuL2p8+41cErVKkIExN6HV9lTRgi0m9EE/qJ/LRb5v2l0IQjx/MJ7aN\n",
       "w4qf+x/VARxYhNJcmWR4mq2fLupv3VCkYEfSZ/qAGAgZ4E3MQvAjoebfa8iBzcr7hnP5ZPj1ZS3p\n",
       "SBy0A2r1fTZJoXr27hOLIXDondc0w/PvUqIx/FjnFbxeK295yaK8IdaGmvFUWR6EHZWECxjDF4UN\n",
       "jaj4ZbUfAhXVqwZgV4ddFqVCaiTl5c1vbD9WLDXToMTUcHitqBuhu/mGE63YzQOsP1iiiqMdcqYY\n",
       "4ayYZvpecSOiMsx34PY1POrpS9mQDs6GEzefqbJIepIx/HGYJ4U8DCYHg5r99bjUkRSX1jIARhLI\n",
       "C9z3dwsZd8IWoBQgwpoZWYCKUAeu4SReE2nHQZpge2FPrBDLaxVCKIfwgslwsB75G6gUmVY5A6MV\n",
       "1dQo9JoXpg9zQ6Qf+3ODVBy82RVliR747afj/IILn2ciB0HjAktDpPy3gESLQZQzI+0pOgt18zZf\n",
       "bHl658gWa3V+zouIaYWJUcJGiOgkpnylAAABb0GaXknhClJlMCCH//6qVQG2hp4ALYOM7CoSK5Tb\n",
       "cBuBUc69ga3E2mHWxGHINWRl/Rrrf/+96G4F1QK5hAdqZoMrhlI7xsD7CNLte8j/cEDHq2PgOdMt\n",
       "iwBgWZ+n91OqUx/A1SNvvuBcYNCrAYy5DSQPOb2VHIfuMs/GdrtujZ9BRi5Kpf4HoaBUetZSzsYx\n",
       "g9qecFsmo0mZstTLOISl4xIAFkOSwk0wZrnBdJUxWun77mwNp5iAizaLPN+6iMXDiC4R2NqzxgZm\n",
       "KcpMzyDgWsI2FxZnRtX+8KHuHRN/jnAbfNaluzQ5RGOHXPjdMi2Zihb8Wb1neI4ne6c6zNrRK9BO\n",
       "E5sq9HLSopTO4BTaSTjFoNkegW1AzJV57ELc22ll+JbomkUs7U2pMmSzervhspqg8IkeaWsAaHVu\n",
       "LRVUpW7gHUZGENYJG9HCcC7nH6aysXmORAkcO63CnHb1PxFy3eIoChyiSrfcH1tuAoqlFeQAAAEz\n",
       "QZp/SeEOiZTAgh/+qlUBtt3PgBGJ5nZnUrZk3qX8uX+zYJP8ovvxoX018wdPdC/6V+NN6dYP0EdU\n",
       "Vsolu7in5bualOO3AbEP/00tc2j0x4VlKXtvF/MxYxj+96lRJJ0Ufrug+9dbMX9FrqiYimfhnF7Z\n",
       "DHPQcAwOhFdUJ4OrQDhFs0GYMSCj/9S6TjDbcQhd8xBzoua3XmPkFQTKq101fR9s0Xqc3j3mRS4n\n",
       "lSEBJ2pRJZ9ls+TR/ofeUIsurfCiO2ULT7ODjSn/z8Fepj4kBv5cskXaXRL2EiiQNhO/YP7FBMC7\n",
       "LhWlArGQQRidVfHKMkE9tz3pxHY3+saLHpBFDZPVNbNfsxR+jHfPt+YhVd1WVKEkN4ALLLBVvj4H\n",
       "ruFSwNc/OLxiU8GUjUu/8Ja0rrtCQAAAAY5BmoBJ4Q8mUwIIf/6qVQG67VTPgBv1r1H+UYU5ct9S\n",
       "m/4JpCMQ0r4ahRxa2FqJlmvrs7+zevELti/7FOj/UK62lYUC0U+ENmNM5Oy1zOteatBJ3xcODKzL\n",
       "GvJ3rHeEIn63qNs2uk3ylgzrJwL7UNP5+/Pl1Ufm3+G4RT4pRe9ZG9VjD+N1c9ApdeIPFqUAnHuE\n",
       "VwLANZFXmeFyxp11R01skPw7Br9fPiudeCQ7zc+197BaUB0J4SlgjR5D+1RnQ9/lYtrcwPAUvlt7\n",
       "v3PQBnY6341PEl8bypioVVN9PUKctaG0gZmhscZpKyxyX/IkwdyAAsAlZKFrgfU04n2qpJhzV6Y5\n",
       "B+XH7fBihqCaf/frFabeZOnDgyrPjitCQKfcVfamlR2wnHyMb6CnaQSM0vyGdy/QhnDAGYkYmKJN\n",
       "yS/awj3uQgCz5ZYcO9J8C+H0ma8XMuweiokRmlIHtaw7IDg+UDhMoPgvYTknIjqnHj4gxCRSolIi\n",
       "+Osl+XOBJCQX3IBM7KKW9nkRgokhgJgV8QAAAhBBmqFJ4Q8mUwII//61KoDemvjzQAiU+ehE6GEO\n",
       "AnGvGKgdCEDAWmfAEKQX8Fy3b1Y7+7/8bLEZQq1lb///gqKBOpQlNKNYrM8XN9h8IA0yFNbJ81er\n",
       "/quOUz0eRXztO8csb6HgH8jMJ/kRaXQl3k6qH2S3HKgC91GlWaqgCAzoJQ2HLl9nTApaEvj+3aZA\n",
       "r69qo3VRSR4zjhh0kPGt9vM46mGYK3WsxR+i09wwGI+cR39aSAruJF+ZijiinZeqalBaTFvRQd0G\n",
       "80rpRurkpRmfrfel4IZqmhEWzP1WKd2LN0co46bsSUwgIldb4CufOJ0YUM/TVRNcPkhxabWDV1Oe\n",
       "ThTR3SpG7IYeup/6DNU1zK+pI17pe8i8pK0o0VzxKYwNIutwAsY44b/rBHcpNa+7MSqpxA0AgFvA\n",
       "LKmto3yMlNt+/VmheiHbqamaYZEUpbIlca2bdW7LkTAoapMVqbhd6j9zWC289PiquI0oNp/7jkE0\n",
       "fzkJzwcG5+Uqu/OED7aY6W2MNldkRkonvKUAqukRGclhH2fTVHxBh88C0oaOCajdlwXv+HMk2AXh\n",
       "sPxxmLUP62OYpDBAiBlflQfiW1B8IM+PR7s0/LWZDdvxIkB3DbNXuBg2RITTzqJqSXWETBphZAJh\n",
       "V1k8yBXkcEHWgg///+r7LQLdcSBpt/qGcEIq9HDRlgMHZJ64DvjTGrfNqjAAAAFEQZrFSeEPJlMC\n",
       "CP/+tSqA3pr0NWSvg2oAcgocfYLsacCi/wNOeAsPKRnxE7OOtGkHecnkdN462TpKoiwlLCwFnhT0\n",
       "4h6WjNSCY27VJNPM56CmCC+XYbEY3bh2/bjQhwPeC1hWlsvUYeQHWt3vvHnwcqkSTEGxTIFKIz+X\n",
       "Bkg9xHa1CepNkt7TUmR343MxUggLm51V1b6x1zF6Ee1tTlM+jVGp2dGEmrh8tE4AVWTLG8IhFvKS\n",
       "79+0s66sDAWtmka7qGzlwlQm4Tp/nlTcNjBoWQX/t0vzm4YRq91z7dcx2JVVneH0zjA/MMYPHVxa\n",
       "F7XmhvcYryzMJ5aTucQaTK1vYJY8zUAFd7BfM1DKzxS1FarzBO2Z5nsxAOcTUdUeIIza0hUUcOIJ\n",
       "5Mh49iCcytie0Vbd+0EOvh8Qdd4OtOIiMfTPnmeBAAAAMUGe40URPDv/ANl/C46YyjDXra/kcnfZ\n",
       "2gm5airh4RSciADzcDaco0kJ3QIR0LH7pVQAAABcAZ8CdEN/ATU3O5ohN+CFKVlmwspC9ZcOwAe9\n",
       "CNHo6uhiWyDIruaUPeZ9+9bUkGw/PWcZzjYcYtZMl+nQ1lQfDvhcJcH0B7AkSfNdLiz56BkhPONA\n",
       "ESJNHlX65IEAAAC5AZ8EakN/ATRO5GeAD44WnQ3KHV1opmi8mgr2f+CmrMGSSrM1mnigdwbaAANb\n",
       "vCFJcbOGgfs232AT9EWrDxp6NQ5Fa+qYx8eX8+5fite+hCP6YKuvAf/Co1lMYZAv9tPh95sqZDea\n",
       "MmtiAcrggKqj6h/pvIaTV90t5aclDKiJ6GCcNAjN3/o4HSsbE8yU6qoxIrwPHdrauFmEJs29mS/L\n",
       "MoQb2jUs7sSx8PlGg0ARuW3IV84l0HhOkNsAAAA8QZsJSahBaJlMCCP//rUqgNqpIV9MoAhA8gEw\n",
       "vnU47TNZvZZul2eGPzOQ77LeNsvrYtOx3j4tbOfzRDDLAAAAz0GfJ0URLDv/ANi4of4AB/eUjSym\n",
       "RkvUU1Q+TRCbQOU8vrXxb8E0Z2EU07vw3Lb35whlY5WZbRNmObJy/LLSitOd3I9yRGMFkI/EqJTk\n",
       "Ky9KE9PJaJsCe36z4OaEiSWLTo5M2woVEPNhqeILoTnWVnyEUCib2WPzGLnfkaqrmgF7B++JG2KA\n",
       "iULFFQKktUGOGBsDZBUCkgWJmMIeabOM1u2duKIvXq9Al8f9KuPDBpWsplvoOUWSyyALSb5cWk9S\n",
       "0JvuaMbECK0G0hTHqkAMeQAAAHEBn0Z0Q38BNXjwmMn5EWDA2+DVg4iPnVe33hpACb1Dt7FjNTFd\n",
       "+0qLoCH27ug79oS1JT2btgVRdfi+mkZ7NMinhbq0Taq6GlFK+Me94A1aElc4UX900WVSshzLIDPW\n",
       "D9+JlmZ7paHT/+37qv7ydDtc8AAAAD0Bn0hqQ38BNRm2kgDt/Qhap9GLo4tpUYATT0iM4MFVL1G8\n",
       "lnfyVpboGlwdXzrIUE+tpwmY3nI8oSHijXGrAAAA6UGbTUmoQWyZTAgj//61KoDeo81MAJ+RiNMj\n",
       "Q2v7bYSC0bb/TwsH1nsrkeJbkYpDPLhGzkMtBcUAAVrnm401LePdmypVVR1UDxbxKJKYiTuW3kid\n",
       "afcPsMCJi17mWkI72ZKLwBfmTHLPukkAOrXJIkcUpRCL74DlliVfzvJo9Urwm1LZgEYGYj1VRa7h\n",
       "jYYTiAK7VvVtnaq86pY/tWZa7bNz5S9BSj5rL2VdX9bjANbT47/r3SOyePoMLuq6r1KgXq7e2NGZ\n",
       "AinQKSI5RvxBAOwsTdSGGL96Qp4oPdAlCfHA57SlLoQ8mbe1AAAAPkGfa0UVLDv/ANlQem18JD1j\n",
       "4u0BojTgAk6J23blRMI3teQTOaPGBTGS628UtLDMqHUAnH/rbaitLGy79zKqAAAAKwGfinRDfwE0\n",
       "+xrmgIPJvJLOpekX51w9+vynlWPuViHAbzvZve3wmRw9qMgAAAAeAZ+MakN/ADzGf4oYgkPGyREi\n",
       "AV7AViL4xce0RyxBAAABzkGbkUmoQWyZTAgj//61KoEAyhiVvXbZk/9M00VRq3Hk/pihZpSgBr3l\n",
       "44CpNOi70cFAn1Fe/B6+lM251WFan+kUyy9mAJ4Hh5D3V0vWDZtIcFFEJlBVY7NXMQfFxS1FcPbD\n",
       "l73Y8lQCQWeYh1quymn/7/DqqCA36nJyF46ROr/AHDv8IltPJronityDrGSinRCr1Jw+ffim2GAV\n",
       "hJ9P56/eG7mSQJ8nF7qyAalwLh7dj1/TLkkeGMT/vn+syMIRwVDC8oQIFHL8YpHj9P8xD1XVb8pw\n",
       "di5ImvD6EHMi9/nZRAgX/y55NLpS8kf5ZChjnQOu9P84+hNn0ESdYQace3wHgrYJK6UhxpnPlJzF\n",
       "14p2k4cq3GA70h7Ul+cjX6FmA7/RMFUK4WeT25uhDbSeSfoxsK+anDUKM4veTSwoPUWZCeuaiGF0\n",
       "59Wfdie3gcyqEBXb91IOtH4gF9y6ivCK8+g4VkuTO7T5CKufdBHZXq1E+Q8N/LQl04AqJ6jJ+yTp\n",
       "J8nZu70vPiP10df/QeIth7K09k24WvU4w12QSmIMbilwwOtGTSHyZEwOPNQukmwPIhBbHMPdRZJs\n",
       "WWWKaSaMw4KMMiuOH2chrjmiXR34gQAAAExBn69FFSw7/wDlD9eoUfDM708yJdtkcMLBYJhoP4kD\n",
       "nsACcCTb+QU7m5vMRBfDqfvjRcV6lgBq4HzyFngoRJpzd3VyrbzhJne+IDjhAAAAHAGfznRDfwA8\n",
       "ungxDDVXuUiE3jeKVcrNd8BuofgAAAAyAZ/QakN/AUWIokmRUvB3r9jT2swf1HBWRA/ooNgfuhXX\n",
       "3D3IAP6+Iqrauwfz5A4Vh6wAAAAqQZvVSahBbJlMCCP//rUqgAAYKDg9y89e4x3QARJsif9hZ/W3\n",
       "p8rEf7KvAAAAIEGf80UVLDv/ADj1vv2+kqvN1E9a2KK1Bhx+ciTJIOOAAAAAFQGeEnRDfwA8ungo\n",
       "gytp1gl3fwpA3wAAABQBnhRqQ38APMUQKIVrP+jnpPRl4QAAABdBmhlJqEFsmUwII//+tSqAAABi\n",
       "ppI7ggAAABxBnjdFFSw7/wA49b79vpKsS+F7h35UWNDKMCnhAAAAFAGeVnRDfwA8ungogytmpT9H\n",
       "e5eBAAAAFAGeWGpDfwA8xRAohWs/6Oek9GXgAAAC+UGaXUmoQWyZTAgj//61KoEL5+rqJU4A3FYi\n",
       "wNSdv7JtBXDyzqZXMLgPMON2+4wdBxXzdRKL0F3DNEqZa2PJNxqL5dIKjKBMOz926IKVwKjuU9+J\n",
       "yCscefhFSnjREo9ddsRGEc5b7nLIglvredbbKPRuhNS/uwl8zO1ONQ57PIN6Qnjo/876GGTH9ypr\n",
       "WJn82MvJvamuDIjIrOYYV1mtHlbzL1D9aLsIt0YOLdLpdLKKveRN1mpglYDAADYnwYRm0YiTRsm1\n",
       "QlHh6YRZ0JwyvzoGmmlBVTJq6IyCGKfQR/cqQvbu9iHk9obQmXEHHHMd/HJsZpcUa6oQAa4GfPzJ\n",
       "mennflKpXhXNiz+MPLjdcfKWxqtbYkUCTWhyXD0Zl7xat4LhF2yOyzhW/e+Zki8jTzvTbdtn/8Dq\n",
       "p36OWZcr1g41gjAOOBkBb2CDU+6OmWtutSiFjiJP4O5M3MgUIfSHRGZGAQzsAjU1Wa0gfjwzpKK0\n",
       "xUOzQxYTbwtfETjSC19S+SsktLpBgjNWffivnpHTGayaLwJw8pZu8D8eoY4EKM+w4ccOEUL/drW+\n",
       "LkR7X27GRA19EEY0OnheVau2yBWwOaTk53UMCk+4Ak/k5fIxcEaRTTKIdUXhiNk2/sM1PLGKJMbG\n",
       "G0q9efEI6F43zpPwSlOfnoirrgrm1e7YrEJjVYtqssG7r6u7vgL+ia+jNEgUDy5qOh7TSanI40ee\n",
       "f/plz9sjGZwMQ8tnfRePUy5xDk81W6f+wHSIyHgW5cUDSfJwZ2J2UarhpWjdLTjGCPUkmpyfHDJ7\n",
       "M8EYVXx5iMqwANXuM9z0B04Pk4WpfBm1LVrFT9lmYF4c+7vDK+ptwd9IWlY418giwbrvf2XRGk9y\n",
       "RaqfV97uj02Jp42ZeOiqF/TSigiOuLdZEv4q5hSMPQrSRyXuQW8YjwDzmV2/nbHyabDWj95fTbVt\n",
       "Rst46vY1xkJYLUGaMueJIq6/TLbjrhctmEZAgLNZ3EQ/JY/CPwhX+TZGKWuJaqYFUgIdAAAANUGe\n",
       "e0UVLDv/AORJEoXtiAX+EziYrC/Xgcx+jVbF0jMFILXrAuUoD4AHqckUcK0SZf9hc8LWAAAAIwGe\n",
       "mnRDfwFGDM2GJLTHddWdxChpnh7j5mKBF4o6ditcmGdNAAAAJgGenGpDfwFGLpQZtSwpeLi2SA2a\n",
       "8FK8qFgs7ojtl+C3proIjStHAAAAGUGagUmoQWyZTAgj//61KoAAAMZQfnTjJMAAAAAfQZ6/RRUs\n",
       "O/8AOPW+/b6SrEvhhvaZAcNgoprxXmTBxwAAABUBnt50Q38APLp4KIMradYJd38KQN8AAAAUAZ7A\n",
       "akN/ADzFECiFaz/o56T0ZeAAAAAUQZrFSahBbJlMCCP//rUqgAAAHrEAAAAcQZ7jRRUsO/8AOPW+\n",
       "/b6SrEvhe4d+VFjQyjAp4AAAABQBnwJ0Q38APLp4KIMrZqU/R3uXgQAAABQBnwRqQ38APMUQKIVr\n",
       "P+jnpPRl4QAAABRBmwlJqEFsmUwII//+tSqAAAAesQAAABxBnydFFSw7/wA49b79vpKsS+F7h35U\n",
       "WNDKMCnhAAAAFAGfRnRDfwA8ungogytmpT9He5eAAAAAFAGfSGpDfwA8xRAohWs/6Oek9GXgAAAA\n",
       "FEGbTUmoQWyZTAgj//61KoAAAB6xAAAAHEGfa0UVLDv/ADj1vv2+kqxL4XuHflRY0MowKeAAAAAU\n",
       "AZ+KdEN/ADy6eCiDK2alP0d7l4AAAAAUAZ+MakN/ADzFECiFaz/o56T0ZeEAAAAVQZuRSahBbJlM\n",
       "CCH//qpVAAADAD1hAAAAHEGfr0UVLDv/ADj1vv2+kqxL4XuHflRY0MowKeEAAAAUAZ/OdEN/ADy6\n",
       "eCiDK2alP0d7l4AAAAAUAZ/QakN/ADzFECiFaz/o56T0ZeAAAAAVQZvVSahBbJlMCHf//qmWAAAD\n",
       "APCBAAAAHEGf80UVLDv/ADj1vv2+kqxL4XuHflRY0MowKeAAAAAUAZ4SdEN/ADy6eCiDK2alP0d7\n",
       "l4AAAAAUAZ4UakN/ADzFECiFaz/o56T0ZeEAAAAUQZoWSahBbJlMCG///qeEAAADAd0AAAcSbW9v\n",
       "dgAAAGxtdmhkAAAAAAAAAAAAAAAAAAAD6AAAIfwAAQAAAQAAAAAAAAAAAAAAAAEAAAAAAAAAAAAA\n",
       "AAAAAAABAAAAAAAAAAAAAAAAAABAAAAAAAAAAAAAAAAAAAAAAAAAAAAAAAAAAAAAAAAAAgAABjx0\n",
       "cmFrAAAAXHRraGQAAAADAAAAAAAAAAAAAAABAAAAAAAAIfwAAAAAAAAAAAAAAAAAAAAAAAEAAAAA\n",
       "AAAAAAAAAAAAAAABAAAAAAAAAAAAAAAAAABAAAAAAbAAAAEgAAAAAAAkZWR0cwAAABxlbHN0AAAA\n",
       "AAAAAAEAACH8AAAIAAABAAAAAAW0bWRpYQAAACBtZGhkAAAAAAAAAAAAAAAAAAAoAAABXABVxAAA\n",
       "AAAALWhkbHIAAAAAAAAAAHZpZGUAAAAAAAAAAAAAAABWaWRlb0hhbmRsZXIAAAAFX21pbmYAAAAU\n",
       "dm1oZAAAAAEAAAAAAAAAAAAAACRkaW5mAAAAHGRyZWYAAAAAAAAAAQAAAAx1cmwgAAAAAQAABR9z\n",
       "dGJsAAAAs3N0c2QAAAAAAAAAAQAAAKNhdmMxAAAAAAAAAAEAAAAAAAAAAAAAAAAAAAAAAbABIABI\n",
       "AAAASAAAAAAAAAABAAAAAAAAAAAAAAAAAAAAAAAAAAAAAAAAAAAAAAAAAAAAGP//AAAAMWF2Y0MB\n",
       "ZAAV/+EAGGdkABWs2UGwloQAAAMABAAAAwBQPFi2WAEABmjr48siwAAAABx1dWlka2hA8l8kT8W6\n",
       "OaUbzwMj8wAAAAAAAAAYc3R0cwAAAAAAAAABAAAAVwAABAAAAAAUc3RzcwAAAAAAAAABAAAAAQAA\n",
       "AphjdHRzAAAAAAAAAFEAAAABAAAIAAAAAAEAABQAAAAAAQAACAAAAAABAAAAAAAAAAEAAAQAAAAA\n",
       "AQAAFAAAAAABAAAIAAAAAAEAAAAAAAAAAQAABAAAAAACAAAIAAAAAAEAABQAAAAAAQAACAAAAAAB\n",
       "AAAAAAAAAAEAAAQAAAAAAQAAFAAAAAABAAAIAAAAAAEAAAAAAAAAAQAABAAAAAACAAAIAAAAAAEA\n",
       "ABQAAAAAAQAACAAAAAABAAAAAAAAAAEAAAQAAAAAAQAAFAAAAAABAAAIAAAAAAEAAAAAAAAAAQAA\n",
       "BAAAAAAFAAAIAAAAAAEAABQAAAAAAQAACAAAAAABAAAAAAAAAAEAAAQAAAAAAQAAFAAAAAABAAAI\n",
       "AAAAAAEAAAAAAAAAAQAABAAAAAABAAAUAAAAAAEAAAgAAAAAAQAAAAAAAAABAAAEAAAAAAEAABQA\n",
       "AAAAAQAACAAAAAABAAAAAAAAAAEAAAQAAAAAAQAAFAAAAAABAAAIAAAAAAEAAAAAAAAAAQAABAAA\n",
       "AAABAAAUAAAAAAEAAAgAAAAAAQAAAAAAAAABAAAEAAAAAAEAABQAAAAAAQAACAAAAAABAAAAAAAA\n",
       "AAEAAAQAAAAAAQAAFAAAAAABAAAIAAAAAAEAAAAAAAAAAQAABAAAAAABAAAUAAAAAAEAAAgAAAAA\n",
       "AQAAAAAAAAABAAAEAAAAAAEAABQAAAAAAQAACAAAAAABAAAAAAAAAAEAAAQAAAAAAQAAFAAAAAAB\n",
       "AAAIAAAAAAEAAAAAAAAAAQAABAAAAAABAAAUAAAAAAEAAAgAAAAAAQAAAAAAAAABAAAEAAAAAAEA\n",
       "ABQAAAAAAQAACAAAAAABAAAAAAAAAAEAAAQAAAAAAQAACAAAAAAcc3RzYwAAAAAAAAABAAAAAQAA\n",
       "AFcAAAABAAABcHN0c3oAAAAAAAAAAAAAAFcAABwcAAAB0QAAAMAAAABHAAABfgAAAL0AAAErAAAB\n",
       "ggAAAK4AAAC4AAAA7wAAAVoAAAGWAAABmgAAAWoAAAF8AAABcAAAAZoAAAFuAAAA/gAAAfEAAAHL\n",
       "AAAAPAAAAZQAAAGRAAAAKQAAAQoAAAFfAAACJAAAAyMAAAFzAAABNwAAAZIAAAIUAAABSAAAADUA\n",
       "AABgAAAAvQAAAEAAAADTAAAAdQAAAEEAAADtAAAAQgAAAC8AAAAiAAAB0gAAAFAAAAAgAAAANgAA\n",
       "AC4AAAAkAAAAGQAAABgAAAAbAAAAIAAAABgAAAAYAAAC/QAAADkAAAAnAAAAKgAAAB0AAAAjAAAA\n",
       "GQAAABgAAAAYAAAAIAAAABgAAAAYAAAAGAAAACAAAAAYAAAAGAAAABgAAAAgAAAAGAAAABgAAAAZ\n",
       "AAAAIAAAABgAAAAYAAAAGQAAACAAAAAYAAAAGAAAABgAAAAUc3RjbwAAAAAAAAABAAAALAAAAGJ1\n",
       "ZHRhAAAAWm1ldGEAAAAAAAAAIWhkbHIAAAAAAAAAAG1kaXJhcHBsAAAAAAAAAAAAAAAALWlsc3QA\n",
       "AAAlqXRvbwAAAB1kYXRhAAAAAQAAAABMYXZmNTYuNDAuMTAx\n",
       "\">\n",
       "  Your browser does not support the video tag.\n",
       "</video>"
      ],
      "text/plain": [
       "<matplotlib.animation.FuncAnimation at 0x26976880438>"
      ]
     },
     "execution_count": 23,
     "metadata": {},
     "output_type": "execute_result"
    }
   ],
   "source": [
    "\n",
    "# define initialization function\n",
    "def init():\n",
    "    line_annealing.set_data([xa[0], xa[0]], [-2, 2])\n",
    "\n",
    "# define update function\n",
    "def update(k):\n",
    "    # may want to print k here\n",
    "    line_annealing.set_data([xa[k], xa[k]], [-2, 2])\n",
    "\n",
    "anim = FuncAnimation(fig, update, init_func=init, frames=range(0,len(xa)), interval=100)\n",
    "anim"
   ]
  },
  {
   "cell_type": "code",
   "execution_count": null,
   "metadata": {
    "collapsed": true
   },
   "outputs": [],
   "source": []
  },
  {
   "cell_type": "code",
   "execution_count": null,
   "metadata": {
    "collapsed": true
   },
   "outputs": [],
   "source": []
  },
  {
   "cell_type": "code",
   "execution_count": null,
   "metadata": {
    "collapsed": true
   },
   "outputs": [],
   "source": []
  },
  {
   "cell_type": "code",
   "execution_count": null,
   "metadata": {
    "collapsed": true
   },
   "outputs": [],
   "source": []
  }
 ],
 "metadata": {
  "anaconda-cloud": {},
  "celltoolbar": "Slideshow",
  "kernelspec": {
   "display_name": "Python [Root]",
   "language": "python",
   "name": "Python [Root]"
  },
  "language_info": {
   "codemirror_mode": {
    "name": "ipython",
    "version": 3
   },
   "file_extension": ".py",
   "mimetype": "text/x-python",
   "name": "python",
   "nbconvert_exporter": "python",
   "pygments_lexer": "ipython3",
   "version": "3.5.2"
  }
 },
 "nbformat": 4,
 "nbformat_minor": 0
}
