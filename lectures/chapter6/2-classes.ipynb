{
 "cells": [
  {
   "cell_type": "markdown",
   "metadata": {
    "slideshow": {
     "slide_type": "slide"
    }
   },
   "source": [
    "<p style=\"text-align: center;\"><font size=\"8\"><b>More on Classes</b></font><br>"
   ]
  },
  {
   "cell_type": "markdown",
   "metadata": {
    "slideshow": {
     "slide_type": "slide"
    }
   },
   "source": [
    "Last lecture we were introduced to **classes**. Recall that classes are are way to encapsulate data and operations into a single object. We looked at classes for a 2D point and a polynomial and showed how to initialize them and define methods. We also looked at special methods to define things such as addition and subtraction between objects."
   ]
  },
  {
   "cell_type": "markdown",
   "metadata": {
    "slideshow": {
     "slide_type": "subslide"
    }
   },
   "source": [
    "Today we will continue our discussion of classes. Again this lecture follows closely to chapter 6 in Goldwasser and Letscher."
   ]
  },
  {
   "cell_type": "markdown",
   "metadata": {
    "slideshow": {
     "slide_type": "slide"
    }
   },
   "source": [
    "# A Fraction Class\n",
    "\n",
    "We'll begin by looking at another example of a class: a fraction class. \n",
    "\n",
    "A fraction has both a numerator and a denominator. In our implementation fractions will be reduced to their lowest terms, i.e. 2/4 would be represented as 1/2. In addition we want any negative signs to appear only in the numerator."
   ]
  },
  {
   "cell_type": "markdown",
   "metadata": {
    "slideshow": {
     "slide_type": "subslide"
    }
   },
   "source": [
    "We will make this class immutable. Thus, after the numerator and denominator are set they cannot be changed. To allow for this we must let the user pass in a numerator and a denominator to the constructor. For example to initialize the fraction 2/1 we would call:\n",
    "\n",
    "      f = Fraction(2,1)"
   ]
  },
  {
   "cell_type": "markdown",
   "metadata": {
    "slideshow": {
     "slide_type": "subslide"
    }
   },
   "source": [
    "To reduce the fraction, we will use the module [gcd.py](code/gcd.py) to compute the greatest common divisor of the numerator and the denominator. We will then divide both the numerator and denominator by this factor. \n",
    "\n",
    "In addition we will have to check if the denominator is 0. In this case, instead of following through with a division by 0, we will set both the numerator and denominator to 0. \n",
    "\n",
    "The `__str__` method will also be defined to allow us to print the fraction."
   ]
  },
  {
   "cell_type": "code",
   "execution_count": 1,
   "metadata": {
    "collapsed": true,
    "slideshow": {
     "slide_type": "subslide"
    }
   },
   "outputs": [],
   "source": [
    "from gcd import gcd\n",
    "\n",
    "class Fraction:\n",
    "    def __init__(self, numerator = 1, denominator = 1):\n",
    "        if denominator == 0:\n",
    "            self._top = 0\n",
    "            self._bottom = 0\n",
    "        \n",
    "        else:\n",
    "            factor = gcd(abs(numerator), abs(denominator))\n",
    "            \n",
    "            if denominator < 0:\n",
    "                factor = -factor\n",
    "                \n",
    "            self._top = numerator // factor\n",
    "            self._bottom = denominator // factor\n",
    "            \n",
    "    def __str__(self): \n",
    "        \n",
    "        return str(self._top) + \"/\" + str(self._bottom)"
   ]
  },
  {
   "cell_type": "code",
   "execution_count": 2,
   "metadata": {
    "collapsed": false,
    "slideshow": {
     "slide_type": "subslide"
    }
   },
   "outputs": [
    {
     "name": "stdout",
     "output_type": "stream",
     "text": [
      "64/5\n"
     ]
    }
   ],
   "source": [
    "f1 = Fraction(128,10)\n",
    "print(f1)"
   ]
  },
  {
   "cell_type": "markdown",
   "metadata": {
    "slideshow": {
     "slide_type": "subslide"
    }
   },
   "source": [
    "## Additional methods\n",
    "\n",
    "We would like a way to view our Fraction as a decimal number. A special method `__float__` allows us to specify how to convert an object to a float. For Fractions this is the obvious way, simply divide the numerator by the denominator."
   ]
  },
  {
   "cell_type": "code",
   "execution_count": 3,
   "metadata": {
    "collapsed": true
   },
   "outputs": [],
   "source": [
    "from gcd import gcd\n",
    "\n",
    "class Fraction:\n",
    "    def __init__(self, numerator = 1, denominator = 1):\n",
    "        if denominator == 0:\n",
    "            self._top = 0\n",
    "            self._bottom = 0\n",
    "        \n",
    "        else:\n",
    "            factor = gcd(abs(numerator), abs(denominator))\n",
    "            \n",
    "            if denominator < 0:\n",
    "                factor = -factor\n",
    "                \n",
    "            self._top = numerator // factor\n",
    "            self._bottom = denominator // factor\n",
    "            \n",
    "    def __str__(self): \n",
    "        \n",
    "        return str(self._top) + \"/\" + str(self._bottom)\n",
    "    \n",
    "    def __float__(self):\n",
    "        \n",
    "        return self._top/self._bottom"
   ]
  },
  {
   "cell_type": "code",
   "execution_count": 4,
   "metadata": {
    "collapsed": false,
    "slideshow": {
     "slide_type": "subslide"
    }
   },
   "outputs": [
    {
     "name": "stdout",
     "output_type": "stream",
     "text": [
      "0.75\n"
     ]
    }
   ],
   "source": [
    "f1 = Fraction(3,4)\n",
    "print(float(f1))"
   ]
  },
  {
   "cell_type": "markdown",
   "metadata": {
    "slideshow": {
     "slide_type": "subslide"
    }
   },
   "source": [
    "\n",
    "We would also like to implement the standard artmetic operators, +, -, * and /.\n",
    "\n",
    "Recall how two fractions are added:\n",
    "\n",
    "$$ \\frac{a}{b} + \\frac{c}{d} = \\frac{ad + cb}{bd}.$$"
   ]
  },
  {
   "cell_type": "markdown",
   "metadata": {
    "slideshow": {
     "slide_type": "subslide"
    }
   },
   "source": [
    "This lets us define the `__add__` method as:"
   ]
  },
  {
   "cell_type": "code",
   "execution_count": 5,
   "metadata": {
    "collapsed": true
   },
   "outputs": [],
   "source": [
    "def __add__(self, other):\n",
    "    \n",
    "    return Fraction(self._top * other._bottom + self._bottom * other._top, self._bottom * other._bottom)"
   ]
  },
  {
   "cell_type": "markdown",
   "metadata": {
    "slideshow": {
     "slide_type": "subslide"
    }
   },
   "source": [
    "Note that using this construction, we do not have to worry about dividing by 0 or finding the greatest common divisor. That is all taken care of by the constructor."
   ]
  },
  {
   "cell_type": "markdown",
   "metadata": {
    "slideshow": {
     "slide_type": "subslide"
    }
   },
   "source": [
    "There is also a slate of comparisons that we could implement. For example we may want: ==, !=, <, >, <= or >=. These are the special methods `__eq__`, `__ne__`, `__lt__`, `__gt__` `__le__` and `__ge__` respectively.\n",
    "\n",
    "Luckily, instead of defining all of these methods, if we define only, say `__eq__` and `__lt__` Python will by default infer the other comparisons. For instance `x ! = y` is just `not(x == y)`, `x > y` is `y > x`, and `x <= y` is `x < y` or `x == y`. "
   ]
  },
  {
   "cell_type": "markdown",
   "metadata": {
    "slideshow": {
     "slide_type": "subslide"
    }
   },
   "source": [
    "## Exercise\n",
    "\n",
    "Add the following methods to the Fraction class:\n",
    "* \\__sub__\n",
    "* \\__mul__\n",
    "* \\__truediv__\n",
    "* \\__eq__\n",
    "* \\__lt__\n",
    "\n",
    "Save your fraction class in a file called Fraction.py. Test your code on the following operations:"
   ]
  },
  {
   "cell_type": "code",
   "execution_count": null,
   "metadata": {
    "collapsed": true
   },
   "outputs": [],
   "source": [
    "from Fraction import Fraction\n",
    "\n",
    "f1 = Fraction(2,3)\n",
    "f2 = Fraction(8,5)\n",
    "\n",
    "print(f1 + f2)\n",
    "print(f1 - f2)\n",
    "print(f1 * f2)\n",
    "print(f1 / f2)\n",
    "\n",
    "print(f1 > f2)\n",
    "print(f1 != f2)"
   ]
  },
  {
   "cell_type": "markdown",
   "metadata": {
    "slideshow": {
     "slide_type": "slide"
    }
   },
   "source": [
    "# UML Diagrams\n",
    "\n",
    "Unified Modeling Language diagrams are often used to depict visually a class. UML can describe very complicated interactions between classes and are often used to show the workflow of an entire project. The important thing about UML is that it is independent of the programming language. The same diagram could be used by developpers in Python, Java, C#, C++ etc. "
   ]
  },
  {
   "cell_type": "markdown",
   "metadata": {
    "slideshow": {
     "slide_type": "subslide"
    }
   },
   "source": [
    "We'll talk more about UML diagrams later on when we talk about good software practices. For now however, we'll look at a diagram for a single class. "
   ]
  },
  {
   "cell_type": "markdown",
   "metadata": {
    "slideshow": {
     "slide_type": "subslide"
    }
   },
   "source": [
    "![bank account UML](images/bank.png)\n",
    "\n",
    "This is a UML diagram for a class representing a bank account. A typical class diagram is split into three compartments:\n",
    "\n",
    "1. Top compartment that contains the name of the class in bold letters\n",
    "2. Middle compartment that contains the class attributes and their types\n",
    "3. Bottom compartment that contains the class methods"
   ]
  },
  {
   "cell_type": "markdown",
   "metadata": {
    "slideshow": {
     "slide_type": "subslide"
    }
   },
   "source": [
    "So here we're seing that the BankAccount class has an owner (a string) and a balance that is initially set to 0. We can deposit and withdraw money from the account."
   ]
  },
  {
   "cell_type": "markdown",
   "metadata": {
    "slideshow": {
     "slide_type": "subslide"
    }
   },
   "source": [
    "How we implement this class is delibrately not given. It is entirely up to us to choose what language to use and how to code it up. Below is a Python implmentation."
   ]
  },
  {
   "cell_type": "code",
   "execution_count": null,
   "metadata": {
    "collapsed": true
   },
   "outputs": [],
   "source": [
    "class BankAccount:\n",
    "    \n",
    "    def __init__(self, owner, balance = 0):\n",
    "        self._owner = owner\n",
    "        self._balance = balance\n",
    "        \n",
    "    def deposit(self, amount):\n",
    "        self._balance += amount\n",
    "        \n",
    "    def withdraw(self, amount):\n",
    "        self._balance -= amount\n"
   ]
  },
  {
   "cell_type": "code",
   "execution_count": null,
   "metadata": {
    "collapsed": false,
    "slideshow": {
     "slide_type": "subslide"
    }
   },
   "outputs": [],
   "source": [
    "account1 = BankAccount(\"Lukas\", 100)\n",
    "account1.deposit(150)\n",
    "account1.withdraw(200)\n",
    "\n",
    "print(\"The balance in the account owned by\", account1._owner, \"is $\", account1._balance)"
   ]
  },
  {
   "cell_type": "markdown",
   "metadata": {
    "slideshow": {
     "slide_type": "subslide"
    }
   },
   "source": [
    "## Exercise\n",
    "\n",
    "Implement the following simplified model of a television. \n",
    "\n",
    "![televsion UML](images/television.png)"
   ]
  },
  {
   "cell_type": "markdown",
   "metadata": {
    "slideshow": {
     "slide_type": "slide"
    }
   },
   "source": [
    "# Polymorphism\n",
    "\n",
    "Sometimes we want an operation to do different things depending on context. This is called **polymorphism**. For example the plus operator can add two numbers, in `1 + 3` for example. Or if we've appropriately defined the `__add__` method in our Point class for example it can add two Points `p + q`."
   ]
  },
  {
   "cell_type": "markdown",
   "metadata": {
    "slideshow": {
     "slide_type": "subslide"
    }
   },
   "source": [
    "What if we want to define multiplication (i.e. the `__mul__` method)? For example we may want to multiply a point by a number:\n",
    "    \n",
    "    p = Point(1,2)\n",
    "    q = p*3 # scales p by 3, but returns a new Point\n",
    "    \n",
    "This form of multiplication would be similar to the `scale()` method, however instead of modifying `p`, it would return a new Point. "
   ]
  },
  {
   "cell_type": "markdown",
   "metadata": {
    "slideshow": {
     "slide_type": "subslide"
    }
   },
   "source": [
    "This could be implemented like this:"
   ]
  },
  {
   "cell_type": "code",
   "execution_count": null,
   "metadata": {
    "collapsed": true
   },
   "outputs": [],
   "source": [
    "def __mul__(self, other):\n",
    "    \"\"\"\n",
    "    Multiplies this point by a number\n",
    "    \n",
    "    Parameters\n",
    "    ---------\n",
    "    other [int/float]\n",
    "    \n",
    "    Returns\n",
    "    -------\n",
    "    [Point] - new point scaled by other\n",
    "    \"\"\"\n",
    "    \n",
    "    return Point(other*self._x, other*self._y)"
   ]
  },
  {
   "cell_type": "markdown",
   "metadata": {
    "slideshow": {
     "slide_type": "subslide"
    }
   },
   "source": [
    "What if instead we wanted to multiply two points together? \n",
    "\n",
    "    p = Point(1,2)\n",
    "    q = Point(4,3)\n",
    "    w = p*q\n",
    "    \n",
    "What does this mean? One interpretation would be the vector dot product defined as:\n",
    "$$ w = \\mathbf{p}\\cdot\\mathbf{q} = p_x q_x + p_y q_y.$$\n",
    "\n",
    "In other words we multiply the $x$ components of $\\mathbf{p}$ and $\\mathbf{q}$ and add this to the product of the $y$ components."
   ]
  },
  {
   "cell_type": "markdown",
   "metadata": {
    "slideshow": {
     "slide_type": "subslide"
    }
   },
   "source": [
    "We could implement this as follows:"
   ]
  },
  {
   "cell_type": "code",
   "execution_count": null,
   "metadata": {
    "collapsed": true
   },
   "outputs": [],
   "source": [
    "def __mul__(self, other):\n",
    "    \"\"\"\n",
    "    Defines the dot product of two points\n",
    "    \n",
    "    Parameters\n",
    "    ---------\n",
    "    other [Point]\n",
    "    \n",
    "    Returns\n",
    "    -------\n",
    "    [float] - dot product of this Point and another Point\n",
    "    \"\"\"\n",
    "    \n",
    "    return self._x*other._x + self._y*other._y"
   ]
  },
  {
   "cell_type": "markdown",
   "metadata": {
    "slideshow": {
     "slide_type": "subslide"
    }
   },
   "source": [
    "Of course once we define one method of multiplication we are stuck using that one. If we define multiplication to be the dot product, we cannot then call `q = p*3`.\n",
    "\n",
    "But there is a way to allow us to define `__mul__` to do both operations. This invloves using the function `isinstance` that tests if an object is of a specific type. "
   ]
  },
  {
   "cell_type": "code",
   "execution_count": null,
   "metadata": {
    "collapsed": true,
    "slideshow": {
     "slide_type": "subslide"
    }
   },
   "outputs": [],
   "source": [
    "def __mul__(self, other):\n",
    "    \"\"\"\n",
    "    Defines the multiplication operator\n",
    "    \n",
    "    Parameters\n",
    "    ----------\n",
    "    other [Point/int/float]\n",
    "    \n",
    "    Returns\n",
    "    [Point/float] - depending on the type of other, returns this point multiplied by other if other is an int/float\n",
    "            returns a float giving the dot product if other is a Point\n",
    "    \"\"\"\n",
    "    \n",
    "    if isinstance(other, (int,float)): # multiply by constant\n",
    "        return Point(self._x * other, self._y * other)\n",
    "    elif isinstance(other, Point): # dot product\n",
    "        return self._x * other._x + self._y * other._y"
   ]
  },
  {
   "cell_type": "code",
   "execution_count": null,
   "metadata": {
    "collapsed": false,
    "slideshow": {
     "slide_type": "subslide"
    }
   },
   "outputs": [],
   "source": [
    "from CompletedPoint import Point\n",
    "\n",
    "p = Point(3,3)\n",
    "q = Point(10,2)\n",
    "\n",
    "print(p*3)\n",
    "print(p*q)"
   ]
  },
  {
   "cell_type": "markdown",
   "metadata": {
    "slideshow": {
     "slide_type": "-"
    }
   },
   "source": [
    "Note that we cannot call `3*p`, instead of `p*3`, because the \"\\*\" operator we call in the first case is the one defined for the `int` class. This operator has not been defined for multiplication by a Point. "
   ]
  },
  {
   "cell_type": "markdown",
   "metadata": {
    "slideshow": {
     "slide_type": "subslide"
    }
   },
   "source": [
    "## Exercise\n",
    "\n",
    "Add the `__div__` method to the [Point class](https://raw.githubusercontent.com/lukasbystricky/ISC-3313/master/lectures/chapter6/code/CompletedPoint.py). If the \"other\" parameter is a float or an int, this method should return a new Point with the $x$ and $y$ components divided by other.\n",
    "\n",
    "If the other parameter is a Point, it should return a new Point defined by the pointwise division of the two Points.\n",
    "\n",
    "For example:\n",
    "\n",
    "    p = Point(4,12)\n",
    "    q = Point(2,3)\n",
    "    \n",
    "    w = p/2  #w = (2,6)\n",
    "    z = p/q  #z = (2,4)"
   ]
  }
 ],
 "metadata": {
  "anaconda-cloud": {},
  "celltoolbar": "Slideshow",
  "kernelspec": {
   "display_name": "Python [Root]",
   "language": "python",
   "name": "Python [Root]"
  },
  "language_info": {
   "codemirror_mode": {
    "name": "ipython",
    "version": 3
   },
   "file_extension": ".py",
   "mimetype": "text/x-python",
   "name": "python",
   "nbconvert_exporter": "python",
   "pygments_lexer": "ipython3",
   "version": "3.5.2"
  }
 },
 "nbformat": 4,
 "nbformat_minor": 0
}
