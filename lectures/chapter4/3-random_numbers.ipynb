{
 "cells": [
  {
   "cell_type": "markdown",
   "metadata": {
    "slideshow": {
     "slide_type": "slide"
    }
   },
   "source": [
    "<p style=\"text-align: center;\"><font size=\"8\"><b>Random Numbers</b></font><br>"
   ]
  },
  {
   "cell_type": "markdown",
   "metadata": {
    "slideshow": {
     "slide_type": "slide"
    }
   },
   "source": [
    "In scientific computing and statistics random numbers are very important. This lecture will cover some techniques to create random numbers and introduce some important algorithms that make use up random numbers."
   ]
  },
  {
   "cell_type": "markdown",
   "metadata": {
    "slideshow": {
     "slide_type": "slide"
    }
   },
   "source": [
    "## Histograms\n",
    "\n",
    "Today we will be plotting plenty of histograms. A histogram is a kind of bar graph. Given some data over a range, the range is binned. We then count how much of our data falls in each bin and do a bar graph of those numbers. The `hist()` function in matplotlib.pyplot does this for us."
   ]
  },
  {
   "cell_type": "code",
   "execution_count": 83,
   "metadata": {
    "collapsed": false
   },
   "outputs": [
    {
     "data": {
      "image/png": "[encoded data removed]",
      "text/plain": [
       "<matplotlib.figure.Figure at 0x2a2dfd2ba58>"
      ]
     },
     "metadata": {},
     "output_type": "display_data"
    }
   ],
   "source": [
    "%matplotlib inline\n",
    "import matplotlib.pyplot as plt\n",
    "import numpy as np\n",
    "\n",
    "x = np.linspace(0,2*np.pi,100)\n",
    "y = np.sin(x)\n",
    "\n",
    "plt.hist(y);"
   ]
  },
  {
   "cell_type": "markdown",
   "metadata": {
    "slideshow": {
     "slide_type": "subslide"
    }
   },
   "source": [
    "The `hist()` function takes in an optional second argument that specifies where the bins should be placed. "
   ]
  },
  {
   "cell_type": "code",
   "execution_count": 88,
   "metadata": {
    "collapsed": false
   },
   "outputs": [
    {
     "data": {
      "image/png": "[encoded data removed]",
      "text/plain": [
       "<matplotlib.figure.Figure at 0x2a2dffa0710>"
      ]
     },
     "metadata": {},
     "output_type": "display_data"
    }
   ],
   "source": [
    "x = np.linspace(0,2*np.pi,100)\n",
    "y = np.sin(x)\n",
    "\n",
    "plt.hist(y,np.linspace(-1,1,40));"
   ]
  },
  {
   "cell_type": "markdown",
   "metadata": {
    "slideshow": {
     "slide_type": "slide"
    }
   },
   "source": [
    "# Probability Density Functions\n",
    "\n",
    "Before we talk about random numbers a quick word about probabilities is in order. \n",
    "\n",
    "Even though a fast-food chain might advertise a hamburger as weighing a quarter-pound, you can well imagine that it is not exactly 0.25 pounds. One randomly selected hamburger might weigh 0.22 pounds while another might weigh 0.26 pounds.  What is the probability that a randomly selected hamburger weighs between 0.23 and 0.27 pounds? That is, if we let X denote the weight of a randomly selected quarter-pound hamburger in pounds, what is P(0.23 < X < 0.27)?\n",
    "\n",
    "*example courtesy of Penn State: https://onlinecourses.science.psu.edu/stat414/node/97*\n"
   ]
  },
  {
   "cell_type": "markdown",
   "metadata": {
    "slideshow": {
     "slide_type": "subslide"
    }
   },
   "source": [
    "You might imagine that it is likely that most of the hamburgers weigh close to 0.25 pounds. Probably very few weigh 0.05 pounds or 0.5 pounds for example. \n",
    "\n",
    "We could buy say 100 hamburgers and create a histogram of their weights:\n",
    "\n",
    "![hamburger weights](https://github.com/lukasbystricky/ISC-3313/blob/master/lectures/chapter4/images/hamburger.png?raw=true)"
   ]
  },
  {
   "cell_type": "markdown",
   "metadata": {
    "slideshow": {
     "slide_type": "subslide"
    }
   },
   "source": [
    "We can take more samples. Let's try to buy 100,000 hamburgers:\n",
    "\n",
    "![hamburger histogram](https://github.com/lukasbystricky/ISC-3313/blob/master/lectures/chapter4/images/hamburger_more_samples.png?raw=true)"
   ]
  },
  {
   "cell_type": "markdown",
   "metadata": {
    "slideshow": {
     "slide_type": "subslide"
    }
   },
   "source": [
    "We can also refine our histogram, by making the bin sizes smaller.\n",
    "\n",
    "![hamburger histogram](https://github.com/lukasbystricky/ISC-3313/blob/master/lectures/chapter4/images/hamburger_small_bins.png?raw=true)"
   ]
  },
  {
   "cell_type": "markdown",
   "metadata": {
    "slideshow": {
     "slide_type": "subslide"
    }
   },
   "source": [
    "If we take this the limit, i.e. buying an infinite amount of hamburgers and creating bins with length 0, we get a continuous distribution:\n",
    "\n",
    "![hamburger pdf](https://github.com/lukasbystricky/ISC-3313/blob/master/lectures/chapter4/images/hamburger_pdf.png?raw=true)\n",
    "\n",
    "This is called a *probability density function* (PDF for short). A PDF, $p(x)$ has several properties:\n",
    "1. $p(x)$ is positive everywhere\n",
    "2. the probability that $x$ lies in an interval $[a,b]$ is given by $\\int_a^b p(x)\\text{d}x$\n",
    "3. consequently, the area under all of $p(x)$ is 1, i.e. $\\int_{-\\infty}^{\\infty} p(x)\\text{d}x = 1$\n"
   ]
  },
  {
   "cell_type": "markdown",
   "metadata": {
    "slideshow": {
     "slide_type": "subslide"
    }
   },
   "source": [
    "We are now ready to answer our hamburger question. What is the probability of buying a hamburger that weights between 0.23 and 0.27 pounds?\n",
    "\n",
    "![hamburger pdf probability](https://github.com/lukasbystricky/ISC-3313/blob/master/lectures/chapter4/images/hamburger_pdf_integrate.png?raw=true)\n",
    "\n",
    "The integral between 0.23 and 0.27 tells us that probability. If we know beforehand a formula for the PDF we may be able to do this integral analytically. Otherwise, if the PDF is of a certain type, lookup tables might exist. Failing these two options, we can always compute this integral numerically, for example using Riemann sums."
   ]
  },
  {
   "cell_type": "markdown",
   "metadata": {
    "slideshow": {
     "slide_type": "subslide"
    }
   },
   "source": [
    "It's important to know what a PDF does and does not tell us. A PDF tells us the probablity that a value $x$ lies within a given range. \n",
    "\n",
    "For continuous distributions (like this) it **does not** tell us the probablity of a single value. If we asked what is the probability of getting a hamburger weighing exactly 0.25 pounds, this is not simply $p(0.5)$. In fact the probablity of getting a hamburger weighing *exactly* 0.25 pounds is 0. This weight will always be off by at least some small amount. "
   ]
  },
  {
   "cell_type": "markdown",
   "metadata": {
    "slideshow": {
     "slide_type": "subslide"
    }
   },
   "source": [
    "## Mean\n",
    "\n",
    "If you a point from a distribution, what is the expected outcome? This number is called the expected value, or the *mean*. \n",
    "\n",
    "The mean for a continuous distribution is defined mathematically as: \n",
    "$$ \\mu = \\int_{-\\infty}^{\\infty} x p(x)\\text{d}x.$$\n",
    "\n",
    "To compute the mean of a distribution, one way is to draw a large number of points $N$ and then take their average, i.e.:\n",
    "$$ \\mu \\approx \\frac{1}{N}\\sum\\limits_{i=1}^N x_i.$$"
   ]
  },
  {
   "cell_type": "markdown",
   "metadata": {
    "slideshow": {
     "slide_type": "subslide"
    }
   },
   "source": [
    "## Variance\n",
    "\n",
    "The *variance* of a distribution is the expected distance from the mean. For \"peaked\" distributions this is small, while for more \"flat\" distributions this is large. We denote the variance as $\\sigma^2$, where $\\sigma$ is the standard deviation of the distribution.\n",
    "\n",
    "For a continuous distribution, the variance is given by:\n",
    "$$ \\sigma^2 = \\int_{-\\infty}^{\\infty} (x-\\mu)^2p(x)\\text{d}x.$$\n",
    "\n",
    "To compute the average, one way is again to draw a large number of points $N$ and then compute their average squared distance from the mean, i.e.:\n",
    "$$ \\sigma^2 \\approx \\frac{1}{N} \\sum\\limits_{i=1}^N (x_i - \\mu)^2.$$\n"
   ]
  },
  {
   "cell_type": "markdown",
   "metadata": {
    "slideshow": {
     "slide_type": "subslide"
    }
   },
   "source": [
    "## Distributions\n",
    "\n",
    "A PDF may be known or unknown before we attempt an experiment. For the hamburger example above, it is in general not known. You may be more likely to get a hamburger than is heavier than 0.25 than one that is lighter for example. \n",
    "\n",
    "There are some common distributions however. We will look at the two most common and well known: *uniform random distributions* and *normal distributions*."
   ]
  },
  {
   "cell_type": "markdown",
   "metadata": {
    "slideshow": {
     "slide_type": "subslide"
    }
   },
   "source": [
    "### Uniform distribution\n",
    "\n",
    "A uniform distribution is a distribution over an interval $[a,b]$, such that all values have the same probability of being picked. In other words $p(x)$ is constant over $[a,b]$. Since $p(x)$ must integrate to 1, this means that $p(x)$ must be equal to $1/(b-a)$ over the interval.\n",
    "\n"
   ]
  },
  {
   "cell_type": "markdown",
   "metadata": {
    "slideshow": {
     "slide_type": "subslide"
    }
   },
   "source": [
    "![uniform distribution](https://github.com/lukasbystricky/ISC-3313/blob/master/lectures/chapter4/images/uniform_distribution.png?raw=true)"
   ]
  },
  {
   "cell_type": "markdown",
   "metadata": {
    "slideshow": {
     "slide_type": "subslide"
    }
   },
   "source": [
    "The mean of a uniform distribution can be computed analytically:\n",
    "$$\\begin{align*}\n",
    "    \\mu = \\int_{-\\infty}^{\\infty} \\frac{1}{b - a}x\\text{d}x &= \\frac{1}{b - a}\\int_a^b x\\text{d}x\\\\\n",
    "    &= \\frac{1}{b - a}\\frac{b^2 - a^2}{2} = \\frac{b+a}{2}\n",
    "\\end{align*}$$"
   ]
  },
  {
   "cell_type": "markdown",
   "metadata": {
    "slideshow": {
     "slide_type": "subslide"
    }
   },
   "source": [
    "As can its variance:\n",
    "$$\\begin{align*}\n",
    "    \\sigma^2 = \\int_{-\\infty}^{\\infty} (x-\\mu)^2p(x)\\text{d}x &= \\int_a^b \\left(x - \\frac{b+a}{2}\\right)^2 \\frac{1}{b-a}\\text{d}x\\\\\n",
    "    &= \\frac{1}{12}(b-a)^2\n",
    "\\end{align*}$$"
   ]
  },
  {
   "cell_type": "markdown",
   "metadata": {
    "slideshow": {
     "slide_type": "subslide"
    }
   },
   "source": [
    "## Exercise\n",
    "\n",
    "Assuming that the weight of hamburgers follows a uniform distribution between 0.2 and 0.3 pounds, what is the probability of getting a hamburger weighing between 0.23 and 0.27 pounds? Use a left Riemann sum to compute this probability. Does it make sense?"
   ]
  },
  {
   "cell_type": "markdown",
   "metadata": {
    "slideshow": {
     "slide_type": "subslide"
    }
   },
   "source": [
    "### Normal Distribution\n",
    "\n",
    "Normal distributions, also known as Gaussian or bell curve, is a very common probabilty distribution. The PDF is given by:\n",
    "\n",
    "$$ p(x) = \\frac{1}{\\sqrt{2\\pi\\sigma^2}}e^{-\\frac{(x - \\mu)^2}{2\\sigma^2}}.$$"
   ]
  },
  {
   "cell_type": "markdown",
   "metadata": {
    "slideshow": {
     "slide_type": "subslide"
    }
   },
   "source": [
    "![normal distribution](https://github.com/lukasbystricky/ISC-3313/blob/master/lectures/chapter4/images/normal.png?raw=true)"
   ]
  },
  {
   "cell_type": "markdown",
   "metadata": {
    "slideshow": {
     "slide_type": "subslide"
    }
   },
   "source": [
    "A particularily important normal distribution is the standard normal distribution, with $\\mu = 0$ and $\\sigma=1$. This distribution. \n",
    "\n",
    "$$ N(x) = \\frac{1}{\\sqrt{2\\pi}}e^{-\\frac{x^2}{2}}.$$"
   ]
  },
  {
   "cell_type": "markdown",
   "metadata": {},
   "source": [
    "## Exercise\n",
    "\n",
    "Assuming that the weight of hamburgers follows a normal distribution with mean 25 and variance 1, what is the probability of getting a hamburger weighing between 0.23 and 0.27 pounds? Use a left Riemann sum to compute this probability.\n",
    "\n",
    "Recall the PDF for a normal distribution:\n",
    "$$ p(x) = \\frac{1}{\\sqrt{2\\pi\\sigma^2}}e^{-\\frac{(x - \\mu)^2}{2\\sigma^2}}.$$"
   ]
  },
  {
   "cell_type": "markdown",
   "metadata": {
    "slideshow": {
     "slide_type": "slide"
    }
   },
   "source": [
    "# Random vs. Pseudo-random\n",
    "\n",
    "There are things in nature which are truly random. For example: \n",
    "* atmospheric noise\n",
    "* qunatum phenomena\n",
    "* stock markets\n",
    "\n",
    "A computer cannot directly create truly random numbers, however it can create sequences of numbers that appear random. These are known an *pseudo-random* numbers."
   ]
  },
  {
   "cell_type": "markdown",
   "metadata": {
    "slideshow": {
     "slide_type": "subslide"
    }
   },
   "source": [
    "A series of pseudo-random numbers is typically determined by a fixed number known as a *seed*. Given the same seed value, the series of pseudo-random numbers is completely determined. \n",
    "\n",
    "For example, a common pseudo-random number generator is called the linear congruential generator (LCG), which uses the recurrence relation:\n",
    "\n",
    "$$ X_{k+1} = \\mod(aX_k + b, m),$$\n",
    "\n",
    "where $a$, $b$ and $m$ are large integers. \n",
    "\n",
    "Once we divide $X_k$ by $m$,  $X_k$ is distributed according to a *uniform random distribution* on the interval [0,1].\n",
    "\n",
    "Common values of $a$, $b$ and $m$ are: $a=1664525$, $b=1013904223$ and $m = 2^{32}$."
   ]
  },
  {
   "cell_type": "markdown",
   "metadata": {
    "slideshow": {
     "slide_type": "subslide"
    }
   },
   "source": [
    "Here is an implementation of an LCG:"
   ]
  },
  {
   "cell_type": "code",
   "execution_count": 11,
   "metadata": {
    "collapsed": true
   },
   "outputs": [],
   "source": [
    "# initialize seed, a, b and m\n",
    "seed = 0\n",
    "a=1664525\n",
    "b=1013904223\n",
    "m=2**32\n",
    "\n",
    "# N is the number of random numbers\n",
    "N = 1000\n",
    "\n",
    "# initialize list and compute first pseudo-random number from seed\n",
    "X = [(a*seed + b) % m]\n",
    "\n",
    "# apply reccurence relation\n",
    "for i in range(N):\n",
    "    X.append((a*X[i] + b) % m)\n",
    "\n",
    "# divide everything by m to get all numbers in the range [0,1]\n",
    "X = [r/m for r in X]"
   ]
  },
  {
   "cell_type": "code",
   "execution_count": 12,
   "metadata": {
    "collapsed": false,
    "slideshow": {
     "slide_type": "subslide"
    }
   },
   "outputs": [
    {
     "data": {
      "image/png": "[encoded data removed]",
      "text/plain": [
       "<matplotlib.figure.Figure at 0x2a2dc23a208>"
      ]
     },
     "metadata": {},
     "output_type": "display_data"
    }
   ],
   "source": [
    "plt.plot(X, '.');"
   ]
  },
  {
   "cell_type": "markdown",
   "metadata": {
    "slideshow": {
     "slide_type": "subslide"
    }
   },
   "source": [
    "We can do a histogram of the points to see that they are approximately uniformly distributed."
   ]
  },
  {
   "cell_type": "code",
   "execution_count": 13,
   "metadata": {
    "collapsed": false
   },
   "outputs": [
    {
     "data": {
      "image/png": "[encoded data removed]",
      "text/plain": [
       "<matplotlib.figure.Figure at 0x2a2de615a58>"
      ]
     },
     "metadata": {},
     "output_type": "display_data"
    }
   ],
   "source": [
    "import numpy as np\n",
    "plt.hist(X, np.linspace(0,1));"
   ]
  },
  {
   "cell_type": "markdown",
   "metadata": {
    "slideshow": {
     "slide_type": "subslide"
    }
   },
   "source": [
    "## Exercise\n",
    "\n",
    "Using the formulas for the mean and variance shown earlier, compute the mean of 10000 randomly generated numbers. Compare to the theoretical mean and variance for the uniform distribution on [0,1].\n",
    "\n",
    "$$ \\mu \\approx \\frac{1}{N}\\sum\\limits_{i=1}^N x_i$$\n",
    "\n",
    "$$ \\sigma^2 \\approx \\frac{1}{N} \\sum\\limits_{i=1}^N (x_i - \\mu)^2$$"
   ]
  },
  {
   "cell_type": "markdown",
   "metadata": {
    "slideshow": {
     "slide_type": "subslide"
    }
   },
   "source": [
    "## Normal Distributions\n",
    "\n",
    "To generate samples from a standard normal distribution we can use the **Box-Muller transform**. \n",
    "\n",
    "Given two uniformly distributed random numbers in the interval (0,1), call them $X_1$ and $X_2$, we can get two independent random variables with a standard normal distribution, call them $Z_1$ and $Z_2$ using the tranformations:\n",
    "$$\n",
    "\\begin{align*}\n",
    "    Z_1 &= \\sqrt{-2 \\log X_1}\\cos(2\\pi X_2)\\\\\n",
    "    Z_2 &= \\sqrt{-2 \\log X_1}\\sin(2\\pi X_2)\n",
    "\\end{align*}\n",
    "$$\n"
   ]
  },
  {
   "cell_type": "code",
   "execution_count": 14,
   "metadata": {
    "collapsed": false,
    "slideshow": {
     "slide_type": "subslide"
    }
   },
   "outputs": [
    {
     "name": "stdout",
     "output_type": "stream",
     "text": [
      "X1 =  0.23606797284446657\n",
      "X2 =  0.278566908556968\n",
      "Z1 =  -0.303355886649\n",
      "Z2 =  1.67189897896\n"
     ]
    }
   ],
   "source": [
    "seed = 0\n",
    "a=1664525\n",
    "b=1013904223\n",
    "m=2**32\n",
    "\n",
    "# generate X1 and X2\n",
    "X1 = (a*seed_x + b) % m\n",
    "X2 = (a*X1 + b) % m\n",
    "\n",
    "# put into interval (0,1)\n",
    "X1 /= m\n",
    "X2 /= m\n",
    "\n",
    "# appy Box-Muller transform\n",
    "Z1 = np.sqrt(-2*np.log(X1))*np.cos(2*np.pi*X2)\n",
    "Z2 = np.sqrt(-2*np.log(X1))*np.sin(2*np.pi*X2)\n",
    "\n",
    "print(\"X1 = \", X1)\n",
    "print(\"X2 = \", X2)\n",
    "print(\"Z1 = \", Z1)\n",
    "print(\"Z2 = \", Z2)"
   ]
  },
  {
   "cell_type": "markdown",
   "metadata": {
    "slideshow": {
     "slide_type": "subslide"
    }
   },
   "source": [
    "Let's generate an entire distribution of random numbers with a standard normal distribution."
   ]
  },
  {
   "cell_type": "code",
   "execution_count": 15,
   "metadata": {
    "collapsed": false
   },
   "outputs": [],
   "source": [
    "# initialize seed, a, b and m\n",
    "seed_x = 0\n",
    "seed_y = 1\n",
    "a=1664525\n",
    "b=1013904223\n",
    "m=2**32\n",
    "\n",
    "# N is the number of random numbers\n",
    "N = 1000\n",
    "\n",
    "# initialize lists and compute first pseudo-random number from seed\n",
    "\n",
    "X = [(a*seed_x + b) % m]\n",
    "Y = [(a*seed_y + b) % m]\n",
    "\n",
    "# apply reccurence relation\n",
    "for i in range(N):\n",
    "    X.append((a*X[i] + b) % m)\n",
    "    Y.append((a*Y[i] + b) % m)\n",
    "\n",
    "# divide everything by m to get all numbers in the range [0,1]\n",
    "X = [r/m for r in X]\n",
    "Y = [r/m for r in Y]\n",
    "\n",
    "# create normal distribution\n",
    "Z = []\n",
    "for i in range(N):\n",
    "    Z.append(np.sqrt(-2*np.log(X[i]))*np.cos(2*np.pi*Y[i]))\n",
    "    Z.append(np.sqrt(-2*np.log(X[i]))*np.sin(2*np.pi*Y[i]))\n",
    "    "
   ]
  },
  {
   "cell_type": "code",
   "execution_count": 16,
   "metadata": {
    "collapsed": false,
    "slideshow": {
     "slide_type": "subslide"
    }
   },
   "outputs": [
    {
     "data": {
      "image/png": "[encoded data removed]",
      "text/plain": [
       "<matplotlib.figure.Figure at 0x2a2de623f98>"
      ]
     },
     "metadata": {},
     "output_type": "display_data"
    }
   ],
   "source": [
    "plt.plot(Z, '.');"
   ]
  },
  {
   "cell_type": "code",
   "execution_count": 17,
   "metadata": {
    "collapsed": false,
    "slideshow": {
     "slide_type": "subslide"
    }
   },
   "outputs": [
    {
     "data": {
      "image/png": "[encoded data removed]",
      "text/plain": [
       "<matplotlib.figure.Figure at 0x2a2de7550b8>"
      ]
     },
     "metadata": {},
     "output_type": "display_data"
    }
   ],
   "source": [
    "plt.hist(Z,np.linspace(-4,4));"
   ]
  },
  {
   "cell_type": "markdown",
   "metadata": {
    "slideshow": {
     "slide_type": "subslide"
    }
   },
   "source": [
    "## Exercise\n",
    "\n",
    "Using the formulas for the mean and variance shown earlier, compute the mean of 10000 randomly generated numbers from the standard normal distribution. Compare to the theoretical mean and variance."
   ]
  },
  {
   "cell_type": "markdown",
   "metadata": {
    "slideshow": {
     "slide_type": "subslide"
    }
   },
   "source": [
    "## Properties of LCG\n",
    "\n",
    "What are some of the properties of this list of numbers?\n",
    "\n",
    "* Periodicity: this sequence will eventually be periodic. The maximum period is $m$. It has a period of exactly $m$ if and only if: \n",
    "    * $m$ and $c$ are relatively prime\n",
    "    * $a-1$ is divisible by all prime factors of $m$\n",
    "    * $a-1$ is divisible by 4 if $m$ is divisible by 4  \n",
    "\n",
    "\n",
    "* Randomness: we can think of each number as being drawn uniformly random from the interval [0,1]\n",
    "* Defects: in addition to periodicity, in $n$ dimensional space, points will lie on at most $(n!m)^{1/n}$ hyperplanes"
   ]
  },
  {
   "cell_type": "markdown",
   "metadata": {
    "slideshow": {
     "slide_type": "subslide"
    }
   },
   "source": [
    "In 2D this defect isn't so bad because $(n!m)^{1/n} = (2m)^{1/2}$. If $m=2^{32}$ this is $2^{33/2}$ which is still quite large.\n",
    "\n",
    "In 3D however we have $(n!m)^{1/3} = (6m)^{1/3}$. If $m = 2^{32}$, this now on the order of $2^{11} = 2048$.\n",
    "\n",
    "![3d lcg](https://github.com/lukasbystricky/ISC-3313/blob/master/lectures/chapter5/images/lcg.gif?raw=true)"
   ]
  },
  {
   "cell_type": "markdown",
   "metadata": {
    "slideshow": {
     "slide_type": "slide"
    }
   },
   "source": [
    "# Random Library\n",
    "\n",
    "NumPy implements a random number library under `numpy.random`. The `rand()` function from this library returns a uniform random number on [0,1]."
   ]
  },
  {
   "cell_type": "code",
   "execution_count": 21,
   "metadata": {
    "collapsed": false
   },
   "outputs": [
    {
     "data": {
      "text/plain": [
       "0.3151343176743189"
      ]
     },
     "execution_count": 21,
     "metadata": {},
     "output_type": "execute_result"
    }
   ],
   "source": [
    "import numpy.random as rand\n",
    "\n",
    "rand.rand()"
   ]
  },
  {
   "cell_type": "code",
   "execution_count": 22,
   "metadata": {
    "collapsed": false,
    "slideshow": {
     "slide_type": "-"
    }
   },
   "outputs": [
    {
     "data": {
      "text/plain": [
       "0.8236095032433643"
      ]
     },
     "execution_count": 22,
     "metadata": {},
     "output_type": "execute_result"
    }
   ],
   "source": [
    "rand.rand()"
   ]
  },
  {
   "cell_type": "markdown",
   "metadata": {
    "slideshow": {
     "slide_type": "subslide"
    }
   },
   "source": [
    "The random number generator used by NumPy is the [Mersenne Twister](https://en.wikipedia.org/wiki/Mersenne_Twister) algorithm. Like LCG this is a pseudorandom number from a seeded deterministic algorithm. The seed can be specified using the `random.seed()` function."
   ]
  },
  {
   "cell_type": "markdown",
   "metadata": {
    "slideshow": {
     "slide_type": "-"
    }
   },
   "source": [
    "An optional second parameter can be specified, which is the number of random samples to draw. The default is 1."
   ]
  },
  {
   "cell_type": "code",
   "execution_count": 23,
   "metadata": {
    "collapsed": false
   },
   "outputs": [
    {
     "data": {
      "text/plain": [
       "array([ 0.06748528,  0.33494299,  0.36839425,  0.48359485])"
      ]
     },
     "execution_count": 23,
     "metadata": {},
     "output_type": "execute_result"
    }
   ],
   "source": [
    "rand.seed(1222)\n",
    "rand.rand(4)"
   ]
  },
  {
   "cell_type": "code",
   "execution_count": 24,
   "metadata": {
    "collapsed": false
   },
   "outputs": [
    {
     "data": {
      "text/plain": [
       "array([ 0.06748528,  0.33494299,  0.36839425,  0.48359485])"
      ]
     },
     "execution_count": 24,
     "metadata": {},
     "output_type": "execute_result"
    }
   ],
   "source": [
    "rand.seed(1222)\n",
    "rand.rand(4)"
   ]
  },
  {
   "cell_type": "markdown",
   "metadata": {
    "slideshow": {
     "slide_type": "subslide"
    }
   },
   "source": [
    "## Exercise\n",
    "\n",
    "Using the `rand()` function, generate 1000 random numbers and plot a histogram using the `hist()` function from `matplotlib.pyplot`. Calculate the mean and variance."
   ]
  },
  {
   "cell_type": "markdown",
   "metadata": {
    "slideshow": {
     "slide_type": "subslide"
    }
   },
   "source": [
    "The `normal()` function takes in two parameters, a mean and a standard deviation and returns a number drawn from the appropriate normal distribution. \n",
    "\n",
    "Note that an input is the standard deviation $\\sigma$ and not the variance $\\sigma^2$."
   ]
  },
  {
   "cell_type": "code",
   "execution_count": 28,
   "metadata": {
    "collapsed": false
   },
   "outputs": [
    {
     "name": "stdout",
     "output_type": "stream",
     "text": [
      "4.710007371802641\n",
      "0.7934476958547285\n"
     ]
    }
   ],
   "source": [
    "x1 = rand.normal(1,2) # mean is 1 and variance is 2^2 = 4\n",
    "print(x1)\n",
    "\n",
    "x2 = rand.normal(1,2)\n",
    "print(x2)"
   ]
  },
  {
   "cell_type": "markdown",
   "metadata": {
    "slideshow": {
     "slide_type": "subslide"
    }
   },
   "source": [
    "As with `rand()`, an optional parameter can be input to generate multiple numbers at once."
   ]
  },
  {
   "cell_type": "code",
   "execution_count": 41,
   "metadata": {
    "collapsed": false
   },
   "outputs": [
    {
     "name": "stdout",
     "output_type": "stream",
     "text": [
      "[ 3.86885118  3.05316514  2.47176544  1.56499041  1.59532368 -2.38926737\n",
      "  1.67267646  0.10452868 -1.43799122 -1.97407029]\n"
     ]
    }
   ],
   "source": [
    "x = rand.normal(1,2,10)\n",
    "print(x)"
   ]
  },
  {
   "cell_type": "markdown",
   "metadata": {
    "slideshow": {
     "slide_type": "subslide"
    }
   },
   "source": [
    "## Exercise\n",
    "\n",
    "Using the `normal()` function, generate 1000 random numbers from the normal distribution with mean 4 and standard deviation 2. Plot a histogram using the `hist()` function from `matplotlib.pyplot`. Calculate the mean and variance."
   ]
  },
  {
   "cell_type": "markdown",
   "metadata": {
    "slideshow": {
     "slide_type": "subslide"
    }
   },
   "source": [
    "The `numpy.random` module also includes a function `randint()` that returns a random integer. This function takes in two arguments, $x_1$ and $x_2$ and returns a random integer from the range $x_1$ up to *but not including* $x_2$"
   ]
  },
  {
   "cell_type": "code",
   "execution_count": 25,
   "metadata": {
    "collapsed": false,
    "slideshow": {
     "slide_type": "-"
    }
   },
   "outputs": [
    {
     "name": "stdout",
     "output_type": "stream",
     "text": [
      "3\n"
     ]
    }
   ],
   "source": [
    "x = rand.randint(1,7)\n",
    "print(x)"
   ]
  },
  {
   "cell_type": "markdown",
   "metadata": {
    "slideshow": {
     "slide_type": "subslide"
    }
   },
   "source": [
    "## Exercise\n",
    "\n",
    "Create a histogram of 1000 numbers generated with the `randint()` function in the range 0 to 10. "
   ]
  },
  {
   "cell_type": "markdown",
   "metadata": {
    "slideshow": {
     "slide_type": "slide"
    }
   },
   "source": [
    "# Monte Carlo Simulations\n",
    "\n",
    "Probability theory lets us compute the probablility that a certain event happens. For example, we can compute the probability of rolling two consecutive ones a six sided dice:\n",
    "$$ P(\\text{two consecutive ones}) = P(\\text{one})\\times P(\\text{one}) = \\frac{1}{6}\\times\\frac{1}{6} = \\frac{1}{36}$$\n",
    "\n",
    "We can use more complicated rules to compute things like the probability of rolling at least two ones in a five run stretch. Unfortunately, these calculations can become tedious or impossible if the problem becomes too complicated. "
   ]
  },
  {
   "cell_type": "markdown",
   "metadata": {
    "slideshow": {
     "slide_type": "subslide"
    }
   },
   "source": [
    "Monte Carolo simulations are a simple numerical way to compute probablilities. \n",
    "\n",
    "Assume we are performing $N$ experiments where the outcome of each one is random. Some event $A$ takes place $M$ times in these $N$ experiments. We can estimate the probability of the event as:\n",
    "$$ P(A) \\approx \\frac{M}{N}.$$\n",
    "\n",
    "This estimate becomes more accurate as $N$ increases and approaches the actual probability as $N\\to\\infty$. This is known as a Monte Carlo simulation. Monte Carlo methods were developped in the 1940s to help with the nuclear weapons research. They have since found uses throughout science and engineering. "
   ]
  },
  {
   "cell_type": "markdown",
   "metadata": {
    "slideshow": {
     "slide_type": "subslide"
    }
   },
   "source": [
    "## Example: Throwing Dice\n",
    "\n",
    "We'll return to our example from earlier. What is the probability of rolling two consecutive ones on a six sided dice? We know this should be $1/36$."
   ]
  },
  {
   "cell_type": "code",
   "execution_count": 42,
   "metadata": {
    "collapsed": false
   },
   "outputs": [
    {
     "name": "stdout",
     "output_type": "stream",
     "text": [
      "Actual P: 0.027777777777777776\n",
      "Simulated P: 0.026\n",
      "Simulation error: 0.0017777777777777774\n"
     ]
    }
   ],
   "source": [
    "# set N - the number of times we roll 2 dice\n",
    "N = 1000\n",
    "\n",
    "# initialize M to 0\n",
    "M = 0\n",
    "\n",
    "# we know actual probability\n",
    "p_act = 1.0/36\n",
    "\n",
    "for i in range(N):\n",
    "    \n",
    "    r1 = rand.randint(1,7)\n",
    "    r2 = rand.randint(1,7)\n",
    "    \n",
    "    if (r1 == 1 and r2 == 1):\n",
    "        M += 1\n",
    "\n",
    "print(\"Actual P:\", p_act)\n",
    "print(\"Simulated P:\", M/N)\n",
    "print(\"Simulation error:\", abs(p_act - M/N))"
   ]
  },
  {
   "cell_type": "markdown",
   "metadata": {
    "slideshow": {
     "slide_type": "subslide"
    }
   },
   "source": [
    "Let's try for various values of $N$:"
   ]
  },
  {
   "cell_type": "code",
   "execution_count": 43,
   "metadata": {
    "collapsed": false
   },
   "outputs": [
    {
     "name": "stdout",
     "output_type": "stream",
     "text": [
      "[0.1, 0.03, 0.023, 0.029, 0.02844]\n"
     ]
    },
    {
     "data": {
      "image/png": "[encoded data removed]",
      "text/plain": [
       "<matplotlib.figure.Figure at 0x2a2de600f60>"
      ]
     },
     "metadata": {},
     "output_type": "display_data"
    }
   ],
   "source": [
    "%matplotlib inline\n",
    "import matplotlib.pyplot as plt\n",
    "\n",
    "N = [10, 100, 1000, 10000, 100000]\n",
    "P = []\n",
    "P_err = []\n",
    "\n",
    "# we know actual probability\n",
    "p_act = 1.0/36\n",
    "\n",
    "for n in N:\n",
    "    M = 0\n",
    "\n",
    "    for i in range(n):\n",
    "    \n",
    "        r1 = rand.randint(1,7)\n",
    "        r2 = rand.randint(1,7)\n",
    "    \n",
    "        if (r1 == 1 and r2 == 1):\n",
    "            M += 1\n",
    "            \n",
    "    P.append(M / n)\n",
    "    P_err.append(abs(p_act - M / n))\n",
    "    \n",
    "print(P)\n",
    "plt.loglog(N,P_err, '-o');"
   ]
  },
  {
   "cell_type": "markdown",
   "metadata": {
    "slideshow": {
     "slide_type": "subslide"
    }
   },
   "source": [
    "What is the probability of rolling at least two ones in fives throws?"
   ]
  },
  {
   "cell_type": "code",
   "execution_count": 44,
   "metadata": {
    "collapsed": false
   },
   "outputs": [
    {
     "name": "stdout",
     "output_type": "stream",
     "text": [
      "Simulated P: 0.183\n"
     ]
    }
   ],
   "source": [
    "# set N - the number of times we roll 2 dice\n",
    "N = 1000\n",
    "\n",
    "# initialize M to 0\n",
    "M = 0\n",
    "\n",
    "for i in range(N):\n",
    "    \n",
    "    n_ones = 0\n",
    "    \n",
    "    # roll 6 dice\n",
    "    for roll in range(5):\n",
    "        \n",
    "        r = rand.randint(1,7)\n",
    "        \n",
    "        # check if you rolled a one\n",
    "        if r == 1:\n",
    "            n_ones += 1\n",
    "      \n",
    "    # if you rolled at least 2 ones, mark trial as success\n",
    "    if n_ones >= 2:\n",
    "        M += 1\n",
    "\n",
    "print(\"Simulated P:\", M/N)"
   ]
  },
  {
   "cell_type": "markdown",
   "metadata": {
    "collapsed": true,
    "slideshow": {
     "slide_type": "slide"
    }
   },
   "source": [
    "## Monty Hall Problem\n",
    "\n",
    "\"Suppose you're on a game show, and you're given the choice of three doors: Behind one door is a car; behind the others, goats. You pick a door, say No. 1, and the host, who knows what's behind the doors, opens another door, say No. 3, which has a goat. He then says to you, \"Do you want to pick door No. 2?\" Is it to your advantage to switch your choice?\""
   ]
  },
  {
   "cell_type": "code",
   "execution_count": 53,
   "metadata": {
    "collapsed": false,
    "slideshow": {
     "slide_type": "subslide"
    }
   },
   "outputs": [
    {
     "name": "stdout",
     "output_type": "stream",
     "text": [
      "probability of winning after switching is 0.6648\n"
     ]
    }
   ],
   "source": [
    "import numpy as np\n",
    "\n",
    "N = 10000\n",
    "M = 0\n",
    "\n",
    "for i in range(N):\n",
    "    \n",
    "    # define prizes\n",
    "    prizes = [\"goat\", \"goat\", \"car\"]\n",
    "    \n",
    "    # shuffle list\n",
    "    np.random.shuffle(prizes)\n",
    "    \n",
    "    # player picks random number\n",
    "    guess = np.random.randint(3)\n",
    "    player_prize = prizes.pop(guess)\n",
    "    \n",
    "    # now prizes contains one or two goats\n",
    "    # host reveals a goat\n",
    "    goat_index = prizes.index(\"goat\")\n",
    "    \n",
    "    # player switches\n",
    "    prizes.pop(goat_index)\n",
    "    player_prize = prizes[0]\n",
    "    \n",
    "    if player_prize == \"car\":\n",
    "        M += 1\n",
    "        \n",
    "p = M/N\n",
    "print(\"probability of winning after switching is\", p)"
   ]
  },
  {
   "cell_type": "markdown",
   "metadata": {
    "collapsed": true,
    "slideshow": {
     "slide_type": "slide"
    }
   },
   "source": [
    "## Exercise\n",
    "\n",
    "Imagine we flip a coin 10 times. What is the probability of us getting exactly 8 heads?\n",
    "\n",
    "Run a simulation 10000 times and plot a histogram of the number of heads."
   ]
  }
 ],
 "metadata": {
  "anaconda-cloud": {},
  "celltoolbar": "Slideshow",
  "kernelspec": {
   "display_name": "Python [Root]",
   "language": "python",
   "name": "Python [Root]"
  },
  "language_info": {
   "codemirror_mode": {
    "name": "ipython",
    "version": 3
   },
   "file_extension": ".py",
   "mimetype": "text/x-python",
   "name": "python",
   "nbconvert_exporter": "python",
   "pygments_lexer": "ipython3",
   "version": "3.5.2"
  }
 },
 "nbformat": 4,
 "nbformat_minor": 0
}
