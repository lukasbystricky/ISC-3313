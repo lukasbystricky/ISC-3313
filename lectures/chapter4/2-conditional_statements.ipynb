{
 "cells": [
  {
   "cell_type": "markdown",
   "metadata": {
    "slideshow": {
     "slide_type": "slide"
    }
   },
   "source": [
    "<p style=\"text-align: center;\"><font size=\"8\"><b>Conditional Statements</b></font><br>\n"
   ]
  },
  {
   "cell_type": "markdown",
   "metadata": {
    "slideshow": {
     "slide_type": "slide"
    }
   },
   "source": [
    "Another important control structure is the *conitional statement*, more commonly known as an *if statement*. This structure allows us to specify a block of instructions that are to be executed only when a certain value is true. \n",
    "\n",
    "This is a extremely valuable tool as it allows the execution to vary depending on values that are not necessarily known until the program is running."
   ]
  },
  {
   "cell_type": "markdown",
   "metadata": {
    "slideshow": {
     "slide_type": "subslide"
    }
   },
   "source": [
    "As a simple example consider the following code snippet."
   ]
  },
  {
   "cell_type": "code",
   "execution_count": 3,
   "metadata": {
    "collapsed": false
   },
   "outputs": [
    {
     "name": "stdout",
     "output_type": "stream",
     "text": [
      "This is a long string!\n"
     ]
    }
   ],
   "source": [
    "string = \"is this a long string?\"\n",
    "if len(string)>20:\n",
    "    print(\"This is a long string!\")\n"
   ]
  },
  {
   "cell_type": "code",
   "execution_count": 4,
   "metadata": {
    "collapsed": false
   },
   "outputs": [],
   "source": [
    "string = \"how about this?\"\n",
    "if len(string)>20:\n",
    "    print(\"This is a long string!\")"
   ]
  },
  {
   "cell_type": "markdown",
   "metadata": {},
   "source": [
    "Clearly the code only prints \"This is a long string\" if the length of the string is greater than 20."
   ]
  },
  {
   "cell_type": "markdown",
   "metadata": {
    "slideshow": {
     "slide_type": "subslide"
    }
   },
   "source": [
    "## The Condition\n",
    "\n",
    "The condition (e.g. `len(string) > 20`) can be an arbitrary boolean expression. This may be a single variable of type `bool` or a more complex expression that evaluates to a boolean (actaully any expression can be evaluated to a boolean in Python, but this is generally discouraged as it makes code hard to read)."
   ]
  },
  {
   "cell_type": "code",
   "execution_count": 5,
   "metadata": {
    "collapsed": false
   },
   "outputs": [
    {
     "name": "stdout",
     "output_type": "stream",
     "text": [
      "This is a long string, and it contains the letter s!\n"
     ]
    }
   ],
   "source": [
    "string = \"is this a long string?\"\n",
    "if len(string)>20 and \"s\" in string:\n",
    "    print(\"This is a long string, and it contains the letter s!\")"
   ]
  },
  {
   "cell_type": "code",
   "execution_count": 7,
   "metadata": {
    "collapsed": false
   },
   "outputs": [],
   "source": [
    "string = \"how about this?\"\n",
    "if len(string)>20 and \"s\" in string:\n",
    "    print(\"This is a long string, and it contains the letter s!\")"
   ]
  },
  {
   "cell_type": "markdown",
   "metadata": {},
   "source": [
    "In this case the first string is longer than 20 **and** contains the letter s, while the second string also contains the letter s but is still shorter than 20."
   ]
  },
  {
   "cell_type": "markdown",
   "metadata": {
    "slideshow": {
     "slide_type": "subslide"
    }
   },
   "source": [
    "![if statement flow chart](images/if_flowchart.png)"
   ]
  },
  {
   "cell_type": "markdown",
   "metadata": {
    "slideshow": {
     "slide_type": "subslide"
    }
   },
   "source": [
    "As with for loops, the body of an if statement can contain any valid Python code. This includes other if statements or for loops. For example we could have a nested if statement."
   ]
  },
  {
   "cell_type": "code",
   "execution_count": 3,
   "metadata": {
    "collapsed": false
   },
   "outputs": [],
   "source": [
    "string = \"how about this?\"\n",
    "if len(string)>20:\n",
    "    if \"s\" in string:\n",
    "        print(\"This is a long string, and it contains the letter s!\")"
   ]
  },
  {
   "cell_type": "markdown",
   "metadata": {
    "slideshow": {
     "slide_type": "-"
    }
   },
   "source": [
    "This is actually exactly equivalent to an example from earlier."
   ]
  },
  {
   "cell_type": "code",
   "execution_count": 4,
   "metadata": {
    "collapsed": true
   },
   "outputs": [],
   "source": [
    "if len(string)>20 and \"s\" in string:\n",
    "    print(\"This is a long string, and it contains the letter s!\")"
   ]
  },
  {
   "cell_type": "markdown",
   "metadata": {
    "slideshow": {
     "slide_type": "subslide"
    }
   },
   "source": [
    "## Exercise\n",
    "\n",
    "Write a code fragment that prints the number of occurances of the letter \"t\" in a string __only if__ there are more than 3."
   ]
  },
  {
   "cell_type": "code",
   "execution_count": 9,
   "metadata": {
    "collapsed": false
   },
   "outputs": [],
   "source": [
    "s = \"This is a string that contains the letter t\""
   ]
  },
  {
   "cell_type": "markdown",
   "metadata": {
    "slideshow": {
     "slide_type": "subslide"
    }
   },
   "source": [
    "## Exercise\n",
    "\n",
    "In the last exercise you probably used the `count` method. Write a code fragement that uses for loops and an if statement to mimic the count method. Test it to count the number of \"t\"s in the world \"triceratops\"."
   ]
  },
  {
   "cell_type": "markdown",
   "metadata": {
    "slideshow": {
     "slide_type": "slide"
    }
   },
   "source": [
    "## else\n",
    "\n",
    "We use `if` to specify steps that are executed when a given condition is true. An alternative set of steps can be expressed as an `else` clause, to be executed when the condition is false."
   ]
  },
  {
   "cell_type": "code",
   "execution_count": 14,
   "metadata": {
    "collapsed": false
   },
   "outputs": [
    {
     "name": "stdout",
     "output_type": "stream",
     "text": [
      "This is a long string!\n"
     ]
    }
   ],
   "source": [
    "string = \"is this a long string?\"\n",
    "if len(string)>20:\n",
    "    print(\"This is a long string!\")\n",
    "else:\n",
    "    print(\"This is not a long string :-(\")"
   ]
  },
  {
   "cell_type": "code",
   "execution_count": 15,
   "metadata": {
    "collapsed": false
   },
   "outputs": [
    {
     "name": "stdout",
     "output_type": "stream",
     "text": [
      "This is not a long string :-(\n"
     ]
    }
   ],
   "source": [
    "string = \"how about this?\"\n",
    "if len(string)>20:\n",
    "    print(\"This is a long string!\")\n",
    "else:\n",
    "    print(\"This is not a long string :-(\")"
   ]
  },
  {
   "cell_type": "markdown",
   "metadata": {
    "slideshow": {
     "slide_type": "subslide"
    }
   },
   "source": [
    "![if esle statement flow chart](images/ifelse_flowchart.png)"
   ]
  },
  {
   "cell_type": "markdown",
   "metadata": {
    "slideshow": {
     "slide_type": "subslide"
    }
   },
   "source": [
    "## Exercise (4.29 in Goldwasser and Letscher)\n",
    "\n",
    "The precise value of the mathematical constant p is equal to the following infinite series:\n",
    "$$ \\pi = 4\\left(\\frac{1}{1} - \\frac{1}{3} + \\frac{1}{5} - \\frac{1}{7} + \\dots\\right)$$\n",
    "\n",
    "Although we cannot compute the entire infinite series, we get an approximation to the value by computing the beginning of such a sequence. Write a program that approximates p by computing the first n terms, for some n. Test your code with $n=20$ (compare to the exact value of $\\pi$)."
   ]
  },
  {
   "cell_type": "markdown",
   "metadata": {
    "slideshow": {
     "slide_type": "subslide"
    }
   },
   "source": [
    "## elif\n",
    "\n",
    "Sometimes we may have more than 2 possible outcomes. For example:"
   ]
  },
  {
   "cell_type": "code",
   "execution_count": 17,
   "metadata": {
    "collapsed": false
   },
   "outputs": [
    {
     "name": "stdout",
     "output_type": "stream",
     "text": [
      "Sort of...\n"
     ]
    }
   ],
   "source": [
    "string = \"how about this?\"\n",
    "if len(string)>20:\n",
    "    print(\"This is a long string!\")\n",
    "else:\n",
    "    if (len(string) > 10):\n",
    "        print(\"Sort of...\")\n",
    "    else:\n",
    "        print(\"This is not a long string :-(\")"
   ]
  },
  {
   "cell_type": "markdown",
   "metadata": {},
   "source": [
    "Here we first check if the string is longer than 20 characters, if it's not we check if it's longer than 10 characters and if it's not we print \"This is not a long string :-(\". "
   ]
  },
  {
   "cell_type": "markdown",
   "metadata": {
    "slideshow": {
     "slide_type": "subslide"
    }
   },
   "source": [
    "An alternative syntax is to use the `elif` command."
   ]
  },
  {
   "cell_type": "code",
   "execution_count": 18,
   "metadata": {
    "collapsed": false
   },
   "outputs": [
    {
     "name": "stdout",
     "output_type": "stream",
     "text": [
      "Sort of...\n"
     ]
    }
   ],
   "source": [
    "string = \"how about this?\"\n",
    "if len(string)>20:\n",
    "    print(\"This is a long string!\")\n",
    "elif (len(string) > 10):\n",
    "    print(\"Sort of...\")\n",
    "else:\n",
    "    print(\"This is not a long string :-(\")"
   ]
  },
  {
   "cell_type": "markdown",
   "metadata": {},
   "source": [
    "The advantage of this syntax is that it doens't require us to keep indenting for each new if statement."
   ]
  },
  {
   "cell_type": "markdown",
   "metadata": {
    "slideshow": {
     "slide_type": "subslide"
    }
   },
   "source": [
    "## break\n",
    "\n",
    "The `break` command, when called from inside a loop causes an immediate stop to the entire loop. The current iteration is interrupted and control skips beyond the end of the loop. Typically we call `break` if a condition has been met."
   ]
  },
  {
   "cell_type": "code",
   "execution_count": 19,
   "metadata": {
    "collapsed": false
   },
   "outputs": [
    {
     "name": "stdout",
     "output_type": "stream",
     "text": [
      "10\n",
      "9\n",
      "8\n",
      "7\n",
      "6\n"
     ]
    }
   ],
   "source": [
    "for i in range(10,0,-1):\n",
    "    if i > 5:\n",
    "        print(i)\n",
    "    else:\n",
    "        break"
   ]
  },
  {
   "cell_type": "markdown",
   "metadata": {
    "slideshow": {
     "slide_type": "slide"
    }
   },
   "source": [
    "## Finding Prime Numbers\n",
    "\n",
    "A prime number is a number that has exactly 2 factors, itself and 1. For example 5 is a prime number because the only way to factor 5 is as $5\\times 1$. On the other hand 27 is not a prime number because $27=9\\times 3$.\n",
    "\n",
    "One way (definitely *not* the best way) to determine if a number $a$ is prime is to look at all integers from 2 to $a/2$ and see if it is a factor of $a$. If at least one of them is a factor of $a$ than $a$ is not prime, otherwise it is prime."
   ]
  },
  {
   "cell_type": "markdown",
   "metadata": {
    "slideshow": {
     "slide_type": "subslide"
    }
   },
   "source": [
    "To put this into code we will use a for loop to loop from 2 to $a/2$. For each integer $k$ in this range we will check if $a/k$ is an integer. To do this, we will check if mod(a,k)=0 (i.e. the remainder of a/k is 0).\n"
   ]
  },
  {
   "cell_type": "code",
   "execution_count": 10,
   "metadata": {
    "collapsed": false
   },
   "outputs": [
    {
     "name": "stdout",
     "output_type": "stream",
     "text": [
      "325633 is not a prime,  7  is a factor\n"
     ]
    }
   ],
   "source": [
    "a = 325633\n",
    "prime = True\n",
    "\n",
    "for k in range(2,round(a/2)):\n",
    "    if a%k == 0:\n",
    "        prime = False\n",
    "        print(a, \"is not a prime, \", k,\" is a factor\")\n",
    "        break\n",
    "\n",
    "if prime:\n",
    "    print(a, \"is a prime\")\n"
   ]
  },
  {
   "cell_type": "markdown",
   "metadata": {
    "slideshow": {
     "slide_type": "subslide"
    }
   },
   "source": [
    "## Exercise\n",
    "\n",
    "A perfect number is defined as a positive integer that is equal to the sum of its divisors (excluding the number itself). For example 6 is a perfect number because its divisors are 1, 2 and 3 (and 6, but we exclude this) and 1 + 2 + 3 = 6.\n",
    "\n",
    "Write a code fragement to test if a number is perfect. Test on the numbers 496 and 1296."
   ]
  },
  {
   "cell_type": "code",
   "execution_count": 7,
   "metadata": {
    "collapsed": false
   },
   "outputs": [],
   "source": [
    "n = 496\n",
    "\n",
    "# create list of divisors\n",
    "divisors = [1] # 1 is always a divisor"
   ]
  },
  {
   "cell_type": "markdown",
   "metadata": {
    "slideshow": {
     "slide_type": "subslide"
    }
   },
   "source": [
    "## Exercise \n",
    "\n",
    "Use your code from the previous exercise to test if a perfect number exist in a given range. Test on the range 500 to 9000. In other words, test each number in the range sequentially. If one of them is perfect, print out that number and break the loop."
   ]
  },
  {
   "cell_type": "markdown",
   "metadata": {
    "slideshow": {
     "slide_type": "subslide"
    }
   },
   "source": [
    "# List Comprehension\n",
    "\n",
    "At the end of our discussion of for loops we talked about list comprehension. For example:"
   ]
  },
  {
   "cell_type": "code",
   "execution_count": 11,
   "metadata": {
    "collapsed": false
   },
   "outputs": [
    {
     "name": "stdout",
     "output_type": "stream",
     "text": [
      "[0.1, 0.3, 0.5, 1.9]\n"
     ]
    }
   ],
   "source": [
    "numbers = [1, 3, 5, 19]\n",
    "\n",
    "numbers = [n/10 for n in numbers]\n",
    "print(numbers)"
   ]
  },
  {
   "cell_type": "markdown",
   "metadata": {},
   "source": [
    "Recall that this used the syntax\n",
    "\n",
    "     results = [expression for identifier in sequence]"
   ]
  },
  {
   "cell_type": "markdown",
   "metadata": {
    "slideshow": {
     "slide_type": "subslide"
    }
   },
   "source": [
    "Python supports adding an optional condition by employing the syntax\n",
    "\n",
    "     results = [expression for identifier in sequence if condition]\n",
    "\n",
    "This expression is evaluated as:\n",
    "\n",
    "    result = []\n",
    "    for identifier in sequence:\n",
    "        if condition:\n",
    "            result.append(expression)\n",
    "            \n",
    "For example:"
   ]
  },
  {
   "cell_type": "code",
   "execution_count": 17,
   "metadata": {
    "collapsed": false
   },
   "outputs": [
    {
     "name": "stdout",
     "output_type": "stream",
     "text": [
      "[2, 6, 10]\n"
     ]
    }
   ],
   "source": [
    "numbers = [1, 3, 5, 19]\n",
    "\n",
    "numbers = [2*n for n in numbers if n < 10]\n",
    "print(numbers)"
   ]
  },
  {
   "cell_type": "markdown",
   "metadata": {
    "slideshow": {
     "slide_type": "subslide"
    }
   },
   "source": [
    "## Exercise\n",
    "\n",
    "List comprehension is a nice way to create mathematical sets. For example, consider the sets:\n",
    "$$\n",
    "\\begin{align*}\n",
    "    S &= \\{x^2 : x\\in\\{0, \\dots, 9\\}\\}\\\\\n",
    "    V &= \\{1, 2, 4, 8, \\dots, 2^{12}\\}\\\\\n",
    "    M &= \\{x \\,| \\, x\\in S \\text{ and } x \\text{ even }\\}\n",
    "\\end{align*}\n",
    "$$\n",
    "\n",
    "Python can create these sets by calling:"
   ]
  },
  {
   "cell_type": "code",
   "execution_count": 3,
   "metadata": {
    "collapsed": false
   },
   "outputs": [],
   "source": [
    "S = [x**2 for x in range(0,10)]\n",
    "V = [2**x for x in range(0,13)]\n",
    "M = [x for x in S if x % 2 == 0]"
   ]
  },
  {
   "cell_type": "markdown",
   "metadata": {
    "slideshow": {
     "slide_type": "-"
    }
   },
   "source": [
    "Use list comprehension to generate the following set:\n",
    "$$ W = \\{ x : x\\in \\{-10, 10\\} \\text{ and } x^2 < 50\\}$$ "
   ]
  }
 ],
 "metadata": {
  "anaconda-cloud": {},
  "celltoolbar": "Slideshow",
  "kernelspec": {
   "display_name": "Python [Root]",
   "language": "python",
   "name": "Python [Root]"
  },
  "language_info": {
   "codemirror_mode": {
    "name": "ipython",
    "version": 3
   },
   "file_extension": ".py",
   "mimetype": "text/x-python",
   "name": "python",
   "nbconvert_exporter": "python",
   "pygments_lexer": "ipython3",
   "version": "3.5.2"
  }
 },
 "nbformat": 4,
 "nbformat_minor": 0
}
