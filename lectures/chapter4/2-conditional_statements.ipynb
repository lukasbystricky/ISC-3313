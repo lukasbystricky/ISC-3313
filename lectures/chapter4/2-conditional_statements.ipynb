{
 "cells": [
  {
   "cell_type": "markdown",
   "metadata": {
    "slideshow": {
     "slide_type": "slide"
    }
   },
   "source": [
    "<p style=\"text-align: center;\"><font size=\"8\"><b>Conditional Statements</b></font><br>\n"
   ]
  },
  {
   "cell_type": "markdown",
   "metadata": {
    "slideshow": {
     "slide_type": "slide"
    }
   },
   "source": [
    "Another important control structure is the *conitional statement*, more commonly known as an *if statement*. This structure allows us to specify a block of instructions that are to be executed only when a certain value is true. \n",
    "\n",
    "This is a extremely valuable tool as it allows the execution to vary depending on values that are not necessarily known until the program is running."
   ]
  },
  {
   "cell_type": "markdown",
   "metadata": {
    "slideshow": {
     "slide_type": "subslide"
    }
   },
   "source": [
    "As a simple example consider the following code snippet."
   ]
  },
  {
   "cell_type": "code",
   "execution_count": 3,
   "metadata": {
    "collapsed": false
   },
   "outputs": [
    {
     "name": "stdout",
     "output_type": "stream",
     "text": [
      "This is a long string!\n"
     ]
    }
   ],
   "source": [
    "string = \"is this a long string?\"\n",
    "if len(string)>20:\n",
    "    print(\"This is a long string!\")\n"
   ]
  },
  {
   "cell_type": "code",
   "execution_count": 4,
   "metadata": {
    "collapsed": false
   },
   "outputs": [],
   "source": [
    "string = \"how about this?\"\n",
    "if len(string)>20:\n",
    "    print(\"This is a long string!\")"
   ]
  },
  {
   "cell_type": "markdown",
   "metadata": {},
   "source": [
    "Clearly the code only prints \"This is a long string\" if the length of the string is greater than 20."
   ]
  },
  {
   "cell_type": "markdown",
   "metadata": {
    "slideshow": {
     "slide_type": "subslide"
    }
   },
   "source": [
    "## The Condition\n",
    "\n",
    "The condition (e.g. `len(string) > 20`) can be an arbitrary boolean expression. This may be a single variable of type `bool` or a more complex expression that evaluates to a boolean. "
   ]
  },
  {
   "cell_type": "code",
   "execution_count": 5,
   "metadata": {
    "collapsed": false
   },
   "outputs": [
    {
     "name": "stdout",
     "output_type": "stream",
     "text": [
      "This is a long string, and it contains the letter s!\n"
     ]
    }
   ],
   "source": [
    "string = \"is this a long string?\"\n",
    "if len(string)>20 and \"s\" in string:\n",
    "    print(\"This is a long string, and it contains the letter s!\")"
   ]
  },
  {
   "cell_type": "code",
   "execution_count": 7,
   "metadata": {
    "collapsed": false
   },
   "outputs": [],
   "source": [
    "string = \"how about this?\"\n",
    "if len(string)>20 and \"s\" in string:\n",
    "    print(\"This is a long string, and it contains the letter s!\")"
   ]
  },
  {
   "cell_type": "markdown",
   "metadata": {},
   "source": [
    "In this case the first string is longer than 20 **and** contains the letter s, while the second string also contains the letter s but is still shorter than 20."
   ]
  },
  {
   "cell_type": "markdown",
   "metadata": {
    "slideshow": {
     "slide_type": "subslide"
    }
   },
   "source": [
    "![if statement flow chart](images/if_flowchart.png)"
   ]
  },
  {
   "cell_type": "markdown",
   "metadata": {
    "slideshow": {
     "slide_type": "subslide"
    }
   },
   "source": [
    "As with for loops, the body of an if statement can contain any valid Python code. This includes other if statements or for loops. For example we could have a nested if statement."
   ]
  },
  {
   "cell_type": "code",
   "execution_count": 3,
   "metadata": {
    "collapsed": false
   },
   "outputs": [],
   "source": [
    "string = \"how about this?\"\n",
    "if len(string)>20:\n",
    "    if \"s\" in string:\n",
    "        print(\"This is a long string, and it contains the letter s!\")"
   ]
  },
  {
   "cell_type": "markdown",
   "metadata": {
    "slideshow": {
     "slide_type": "-"
    }
   },
   "source": [
    "This is actually exactly equivalent to an example from earlier."
   ]
  },
  {
   "cell_type": "code",
   "execution_count": 4,
   "metadata": {
    "collapsed": true
   },
   "outputs": [],
   "source": [
    "if len(string)>20 and \"s\" in string:\n",
    "    print(\"This is a long string, and it contains the letter s!\")"
   ]
  },
  {
   "cell_type": "markdown",
   "metadata": {
    "slideshow": {
     "slide_type": "subslide"
    }
   },
   "source": [
    "## Exercise\n",
    "\n",
    "Write a code fragment that prints the number of occurances of the letter \"t\" in a string __only if__ there are more than 3."
   ]
  },
  {
   "cell_type": "code",
   "execution_count": 9,
   "metadata": {
    "collapsed": false
   },
   "outputs": [],
   "source": [
    "s = \"This is a string that contains the letter t\""
   ]
  },
  {
   "cell_type": "markdown",
   "metadata": {
    "slideshow": {
     "slide_type": "slide"
    }
   },
   "source": [
    "## else\n",
    "\n",
    "We use `if` to specify steps that are executed when a given condition is true. An alternative set of steps can be expressed as an `else` clause, to be executed when the condition is false."
   ]
  },
  {
   "cell_type": "code",
   "execution_count": 14,
   "metadata": {
    "collapsed": false
   },
   "outputs": [
    {
     "name": "stdout",
     "output_type": "stream",
     "text": [
      "This is a long string!\n"
     ]
    }
   ],
   "source": [
    "string = \"is this a long string?\"\n",
    "if len(string)>20:\n",
    "    print(\"This is a long string!\")\n",
    "else:\n",
    "    print(\"This is not a long string :-(\")"
   ]
  },
  {
   "cell_type": "code",
   "execution_count": 15,
   "metadata": {
    "collapsed": false
   },
   "outputs": [
    {
     "name": "stdout",
     "output_type": "stream",
     "text": [
      "This is not a long string :-(\n"
     ]
    }
   ],
   "source": [
    "string = \"how about this?\"\n",
    "if len(string)>20:\n",
    "    print(\"This is a long string!\")\n",
    "else:\n",
    "    print(\"This is not a long string :-(\")"
   ]
  },
  {
   "cell_type": "markdown",
   "metadata": {
    "slideshow": {
     "slide_type": "subslide"
    }
   },
   "source": [
    "![if esle statement flow chart](images/ifelse_flowchart.png)"
   ]
  },
  {
   "cell_type": "markdown",
   "metadata": {
    "slideshow": {
     "slide_type": "subslide"
    }
   },
   "source": [
    "## elif\n",
    "\n",
    "Sometimes we may have more than 2 possible outcomes. For example:"
   ]
  },
  {
   "cell_type": "code",
   "execution_count": 17,
   "metadata": {
    "collapsed": false
   },
   "outputs": [
    {
     "name": "stdout",
     "output_type": "stream",
     "text": [
      "Sort of...\n"
     ]
    }
   ],
   "source": [
    "string = \"how about this?\"\n",
    "if len(string)>20:\n",
    "    print(\"This is a long string!\")\n",
    "else:\n",
    "    if (len(string) > 10):\n",
    "        print(\"Sort of...\")\n",
    "    else:\n",
    "        print(\"This is not a long string :-(\")"
   ]
  },
  {
   "cell_type": "markdown",
   "metadata": {},
   "source": [
    "Here we first check if the string is longer than 20 characters, if it's not we check if it's longer than 10 characters and if it's not we print \"This is not a long string :-(\". "
   ]
  },
  {
   "cell_type": "markdown",
   "metadata": {
    "slideshow": {
     "slide_type": "subslide"
    }
   },
   "source": [
    "An alternative syntax is to use the `elif` command."
   ]
  },
  {
   "cell_type": "code",
   "execution_count": 18,
   "metadata": {
    "collapsed": false
   },
   "outputs": [
    {
     "name": "stdout",
     "output_type": "stream",
     "text": [
      "Sort of...\n"
     ]
    }
   ],
   "source": [
    "string = \"how about this?\"\n",
    "if len(string)>20:\n",
    "    print(\"This is a long string!\")\n",
    "elif (len(string) > 10):\n",
    "    print(\"Sort of...\")\n",
    "else:\n",
    "    print(\"This is not a long string :-(\")"
   ]
  },
  {
   "cell_type": "markdown",
   "metadata": {},
   "source": [
    "The advantage of this syntax is that it doens't require us to keep indenting for each new if statement."
   ]
  },
  {
   "cell_type": "markdown",
   "metadata": {
    "slideshow": {
     "slide_type": "subslide"
    }
   },
   "source": [
    "## break\n",
    "\n",
    "The `break` command, when called from inside a loop causes an immediate stop to the entire loop. The current iteration is interrupted and control skips beyond the end of the loop. Typically we call `break` if a condition has been met."
   ]
  },
  {
   "cell_type": "code",
   "execution_count": 19,
   "metadata": {
    "collapsed": false
   },
   "outputs": [
    {
     "name": "stdout",
     "output_type": "stream",
     "text": [
      "10\n",
      "9\n",
      "8\n",
      "7\n",
      "6\n"
     ]
    }
   ],
   "source": [
    "for i in range(10,0,-1):\n",
    "    if i > 5:\n",
    "        print(i)\n",
    "    else:\n",
    "        break"
   ]
  },
  {
   "cell_type": "markdown",
   "metadata": {
    "slideshow": {
     "slide_type": "slide"
    }
   },
   "source": [
    "## Finding Prime Numbers\n",
    "\n",
    "A prime number is a number that has exactly 2 factors, itself and 1. For example 5 is a prime number because the only way to factor 5 is as $5\\times 1$. On the other hand 27 is not a prime number because $27=9\\times 3$.\n",
    "\n",
    "One way (definitely *not* the best way) to determine if a number $a$ is prime is to look at all integers from 2 to $a/2$ and see if it is a factor of $a$. If at least one of them is a factor of $a$ than $a$ is not prime, otherwise it is prime."
   ]
  },
  {
   "cell_type": "markdown",
   "metadata": {
    "slideshow": {
     "slide_type": "subslide"
    }
   },
   "source": [
    "To put this into code we will use a for loop to loop from 2 to $a/2$. For each integer $k$ in this range we will check if $a/k$ is an integer. To do this, we will check if mod(a,k)=0 (i.e. the remainder of a/k is 0).\n"
   ]
  },
  {
   "cell_type": "code",
   "execution_count": 10,
   "metadata": {
    "collapsed": false
   },
   "outputs": [
    {
     "name": "stdout",
     "output_type": "stream",
     "text": [
      "325633 is not a prime,  7  is a factor\n"
     ]
    }
   ],
   "source": [
    "a = 325633\n",
    "prime = True\n",
    "\n",
    "for k in range(2,round(a/2)):\n",
    "    if a%k == 0:\n",
    "        prime = False\n",
    "        print(a, \"is not a prime, \", k,\" is a factor\")\n",
    "        break\n",
    "\n",
    "if prime:\n",
    "    print(a, \"is a prime\")\n"
   ]
  },
  {
   "cell_type": "markdown",
   "metadata": {
    "slideshow": {
     "slide_type": "subslide"
    }
   },
   "source": [
    "# List Comprehension\n",
    "\n",
    "At the end of our discussion of for loops we talked about list comprehension. For example:"
   ]
  },
  {
   "cell_type": "code",
   "execution_count": 11,
   "metadata": {
    "collapsed": false
   },
   "outputs": [
    {
     "name": "stdout",
     "output_type": "stream",
     "text": [
      "[0.1, 0.3, 0.5, 1.9]\n"
     ]
    }
   ],
   "source": [
    "numbers = [1, 3, 5, 19]\n",
    "\n",
    "numbers = [n/10 for n in numbers]\n",
    "print(numbers)"
   ]
  },
  {
   "cell_type": "markdown",
   "metadata": {},
   "source": [
    "Recall that this used the syntax\n",
    "\n",
    "     results = [expression for identifier in sequence]"
   ]
  },
  {
   "cell_type": "markdown",
   "metadata": {
    "slideshow": {
     "slide_type": "subslide"
    }
   },
   "source": [
    "Python supports adding an optional condition by employing the syntax\n",
    "\n",
    "     results = [expression for identifier in sequence if condition]\n",
    "\n",
    "This expression is evaluated as:\n",
    "\n",
    "    result = []\n",
    "    for identifier in sequence:\n",
    "        if condition:\n",
    "            result.append(expression)\n",
    "            \n",
    "For example:"
   ]
  },
  {
   "cell_type": "code",
   "execution_count": 17,
   "metadata": {
    "collapsed": false
   },
   "outputs": [
    {
     "name": "stdout",
     "output_type": "stream",
     "text": [
      "[2, 6, 10]\n"
     ]
    }
   ],
   "source": [
    "numbers = [1, 3, 5, 19]\n",
    "\n",
    "numbers = [2*n for n in numbers if n < 10]\n",
    "print(numbers)"
   ]
  },
  {
   "cell_type": "code",
   "execution_count": null,
   "metadata": {
    "collapsed": true
   },
   "outputs": [],
   "source": []
  }
 ],
 "metadata": {
  "celltoolbar": "Slideshow",
  "kernelspec": {
   "display_name": "Python [Root]",
   "language": "python",
   "name": "Python [Root]"
  },
  "language_info": {
   "codemirror_mode": {
    "name": "ipython",
    "version": 3
   },
   "file_extension": ".py",
   "mimetype": "text/x-python",
   "name": "python",
   "nbconvert_exporter": "python",
   "pygments_lexer": "ipython3",
   "version": "3.5.2"
  }
 },
 "nbformat": 4,
 "nbformat_minor": 0
}
