{
 "cells": [
  {
   "cell_type": "markdown",
   "metadata": {
    "collapsed": false,
    "slideshow": {
     "slide_type": "slide"
    }
   },
   "source": [
    "<p style=\"text-align: center;\"><font size=\"8\"><b>For Loops</b></font><br>\n"
   ]
  },
  {
   "cell_type": "markdown",
   "metadata": {
    "collapsed": false,
    "slideshow": {
     "slide_type": "slide"
    }
   },
   "source": [
    "Now that we know some basic Python commands, we will turn *control structures*. By default, statements are exectuted in the order in which they are given. Control structures let us specify a different order. \n",
    "\n",
    "Specifically we will look at two of the most common control structures. The first, a *for loop* lets us repeat a sequence of commands. The second, an *if statement* specifies a sequences of commands to be exectuted only if a condition is true. This section mirrors chapter 4 in the Goldwasser and Letscher textbook. \n",
    "\n",
    "Today we will look at for loops."
   ]
  },
  {
   "cell_type": "code",
   "execution_count": 1,
   "metadata": {
    "collapsed": false,
    "slideshow": {
     "slide_type": "subslide"
    }
   },
   "outputs": [
    {
     "data": {
      "image/jpeg": "[encoded data removed]",
      "text/html": [
       "\n",
       "        <iframe\n",
       "            width=\"400\"\n",
       "            height=\"300\"\n",
       "            src=\"https://www.youtube.com/embed/lxtwZReoQd0?start=61\"\n",
       "            frameborder=\"0\"\n",
       "            allowfullscreen\n",
       "        ></iframe>\n",
       "        "
      ],
      "text/plain": [
       "<IPython.lib.display.YouTubeVideo at 0x27402d03b38>"
      ]
     },
     "execution_count": 1,
     "metadata": {},
     "output_type": "execute_result"
    }
   ],
   "source": [
    "from IPython.display import YouTubeVideo\n",
    "YouTubeVideo('lxtwZReoQd0',start=61)"
   ]
  },
  {
   "cell_type": "markdown",
   "metadata": {
    "collapsed": true,
    "slideshow": {
     "slide_type": "subslide"
    }
   },
   "source": [
    "Often we need to repeat a series of steps for each item of a sequence. Such a repetition is called an *iteration* and can be expressed using a control structure known as a for loop. \n",
    "\n",
    "A for loop always begins with the syntax\n",
    "\n",
    "    for identifier in sequence:\n",
    "\n",
    "This is followed by a block of code we call the *body* of the loop. "
   ]
  },
  {
   "cell_type": "markdown",
   "metadata": {
    "collapsed": true,
    "slideshow": {
     "slide_type": "subslide"
    }
   },
   "source": [
    "For example, given a list of names, we can print each name on its own line using a for loop."
   ]
  },
  {
   "cell_type": "code",
   "execution_count": 2,
   "metadata": {
    "collapsed": false
   },
   "outputs": [
    {
     "name": "stdout",
     "output_type": "stream",
     "text": [
      "Hi Matthew\n",
      "Hi Mark\n",
      "Hi Luke\n",
      "Hi John\n"
     ]
    }
   ],
   "source": [
    "guests = [\"Matthew\", \"Mark\", \"Luke\", \"John\"]\n",
    "for person in guests:\n",
    "    print(\"Hi\", person)"
   ]
  },
  {
   "cell_type": "markdown",
   "metadata": {
    "slideshow": {
     "slide_type": "subslide"
    }
   },
   "source": [
    "Here `guests` is the sequence, and `person` is called the *loop variable*. A sequence can be any object that represents a sequence of elements, for example a list, an array, a range or a tuple. \n",
    "\n",
    "The body itself (in the is case the command `print person`) specifies the commands to be exectuted each iteration. The body must be indented, although the precise amount of indentation depends on the programmer. It is important to be consistent though, so I highly reccomend using the tab key."
   ]
  },
  {
   "cell_type": "markdown",
   "metadata": {
    "slideshow": {
     "slide_type": "subslide"
    }
   },
   "source": [
    "In the loop above the actual flow of control is equivalent to the following series of statements."
   ]
  },
  {
   "cell_type": "code",
   "execution_count": 3,
   "metadata": {
    "collapsed": false
   },
   "outputs": [
    {
     "name": "stdout",
     "output_type": "stream",
     "text": [
      "Hi Matthew\n",
      "Hi Mark\n",
      "Hi Luke\n",
      "Hi John\n"
     ]
    }
   ],
   "source": [
    "person = \"Matthew\"\n",
    "print(\"Hi\", person)\n",
    "person = \"Mark\"\n",
    "print(\"Hi\", person)\n",
    "person = \"Luke\"\n",
    "print(\"Hi\", person)\n",
    "person = \"John\"\n",
    "print(\"Hi\", person)"
   ]
  },
  {
   "cell_type": "markdown",
   "metadata": {},
   "source": [
    "The advantage of the loop syntax is that it is much shorter, requires less typing and is easier to maintain."
   ]
  },
  {
   "cell_type": "markdown",
   "metadata": {
    "slideshow": {
     "slide_type": "subslide"
    }
   },
   "source": [
    "To see how it is easier to maintain, consider the following example. What if, instead of \"Hi\" we wanted to print \"Hello\". Using a loop would require us to change one line of code. "
   ]
  },
  {
   "cell_type": "code",
   "execution_count": 4,
   "metadata": {
    "collapsed": false
   },
   "outputs": [
    {
     "name": "stdout",
     "output_type": "stream",
     "text": [
      "Hello Matthew\n",
      "Hello Mark\n",
      "Hello Luke\n",
      "Hello John\n"
     ]
    }
   ],
   "source": [
    "guests = [\"Matthew\", \"Mark\", \"Luke\", \"John\"]\n",
    "for person in guests:\n",
    "    print(\"Hello\", person)"
   ]
  },
  {
   "cell_type": "markdown",
   "metadata": {},
   "source": [
    "Without loops we would have to change one line per person. This would be tedious if there were say 1000 people in the list."
   ]
  },
  {
   "cell_type": "markdown",
   "metadata": {
    "slideshow": {
     "slide_type": "subslide"
    }
   },
   "source": [
    "## Exercise\n",
    "\n",
    "Given a list of cities in Texas write a for loop that prints out the following verse of Jump On It by Sir Mix-A-Lot:\n",
    "\n",
    "\"What's up Dallas, what's up (x2)\n",
    "\n",
    "Dallas jump on it, jump on it, jump on it\n",
    "\n",
    "What's up San Antonio, what's up (x2)\n",
    "\n",
    "San Antonio jump on it, jump on it, jump on it\n",
    "\n",
    "What's up Austin, what's up (x2)\n",
    "\n",
    "Austin jump on it, jump on it, jump on it\n",
    "\n",
    "What's up Houston, what's up (x2)\n",
    "\n",
    "Houston jump on it, jump on it, jump on it\""
   ]
  },
  {
   "cell_type": "code",
   "execution_count": 5,
   "metadata": {
    "collapsed": false
   },
   "outputs": [],
   "source": [
    "texas_cities = [\"Dallas\", \"San Antonio\", \"Austin\", \"Houston\"]"
   ]
  },
  {
   "cell_type": "markdown",
   "metadata": {
    "slideshow": {
     "slide_type": "slide"
    }
   },
   "source": [
    "# Index Based Loops\n",
    "\n",
    "The range object can be thought of as a list of integers. This can be very convenient for iteration. For example, the following code produces a countdown for a rocket launch."
   ]
  },
  {
   "cell_type": "code",
   "execution_count": 5,
   "metadata": {
    "collapsed": false
   },
   "outputs": [
    {
     "name": "stdout",
     "output_type": "stream",
     "text": [
      "10\n",
      "9\n",
      "8\n",
      "7\n",
      "6\n",
      "5\n",
      "4\n",
      "3\n",
      "2\n",
      "1\n",
      "BLASTOFF\n"
     ]
    }
   ],
   "source": [
    "for count in range(10,0,-1):\n",
    "    print(count)    \n",
    "print(\"BLASTOFF\")"
   ]
  },
  {
   "cell_type": "markdown",
   "metadata": {
    "slideshow": {
     "slide_type": "-"
    }
   },
   "source": [
    "Note that the `print(\"BLASTOFF\")` command is in line with the for loop and is thus not part of its body."
   ]
  },
  {
   "cell_type": "markdown",
   "metadata": {
    "slideshow": {
     "slide_type": "subslide"
    }
   },
   "source": [
    "We can also uses ranges to serve as a sequence of valid indices of a list. For example, let's say we wanted to number each guest. We could do that using the following code."
   ]
  },
  {
   "cell_type": "code",
   "execution_count": 6,
   "metadata": {
    "collapsed": false
   },
   "outputs": [
    {
     "name": "stdout",
     "output_type": "stream",
     "text": [
      "1. Matthew\n",
      "2. Mark\n",
      "3. Luke\n",
      "4. John\n"
     ]
    }
   ],
   "source": [
    "for i in range(len(guests)):\n",
    "    print(str(i+1)+\".\", guests[i])\n"
   ]
  },
  {
   "cell_type": "markdown",
   "metadata": {},
   "source": [
    "The range object is essentially a list starting at 0 and going up to but not including the length of the guest list. In our case it is the list [0,1,2,3]. Since we want our displayed numbers to start at 1 and go up to 4 we have to add 1 to i before we print it."
   ]
  },
  {
   "cell_type": "markdown",
   "metadata": {
    "slideshow": {
     "slide_type": "subslide"
    }
   },
   "source": [
    "Index based looping is very useful for tasks that require an explicit knowledge of the position of an element within a list. Suppose we want to convert all the guest's names to lower case. The command `lower` produces a lower case version of a string."
   ]
  },
  {
   "cell_type": "code",
   "execution_count": 7,
   "metadata": {
    "collapsed": false
   },
   "outputs": [
    {
     "data": {
      "text/plain": [
       "'yelling'"
      ]
     },
     "execution_count": 7,
     "metadata": {},
     "output_type": "execute_result"
    }
   ],
   "source": [
    "s = \"YELLING\"\n",
    "s.lower()"
   ]
  },
  {
   "cell_type": "markdown",
   "metadata": {},
   "source": [
    "It's important to remember that strings are immutable, so `s.lower()` does not change s itself. We can convert s to lower case by assigning `s.lower()` to s."
   ]
  },
  {
   "cell_type": "code",
   "execution_count": 8,
   "metadata": {
    "collapsed": false
   },
   "outputs": [
    {
     "name": "stdout",
     "output_type": "stream",
     "text": [
      "YELLING\n",
      "yelling\n"
     ]
    }
   ],
   "source": [
    "s.lower()\n",
    "print(s)\n",
    "s = s.lower()\n",
    "print(s)"
   ]
  },
  {
   "cell_type": "markdown",
   "metadata": {
    "slideshow": {
     "slide_type": "subslide"
    }
   },
   "source": [
    "So let's try this:"
   ]
  },
  {
   "cell_type": "code",
   "execution_count": 9,
   "metadata": {
    "collapsed": false
   },
   "outputs": [
    {
     "name": "stdout",
     "output_type": "stream",
     "text": [
      "['Matthew', 'Mark', 'Luke', 'John']\n"
     ]
    }
   ],
   "source": [
    "for person in guests:\n",
    "    person = person.lower()\n",
    "print(guests)"
   ]
  },
  {
   "cell_type": "markdown",
   "metadata": {
    "slideshow": {
     "slide_type": "subslide"
    }
   },
   "source": [
    "This didn't work. Why not? \n",
    "\n",
    "It's because the loop variable `person` is not actually part of the list. What we are doing here would be akin to:\n"
   ]
  },
  {
   "cell_type": "code",
   "execution_count": 10,
   "metadata": {
    "collapsed": false
   },
   "outputs": [
    {
     "name": "stdout",
     "output_type": "stream",
     "text": [
      "matthew\n",
      "['Matthew', 'Mark', 'Luke', 'John']\n"
     ]
    }
   ],
   "source": [
    "person = guests[0]\n",
    "person = person.lower()\n",
    "print(person)\n",
    "print(guests)"
   ]
  },
  {
   "cell_type": "markdown",
   "metadata": {
    "slideshow": {
     "slide_type": "subslide"
    }
   },
   "source": [
    "We cannot mutate the original elements of the list, however we can mutate the list itself. We can replace each element of the list with a new value. This requires explicit knowledge of each element's index within the list.\n",
    "\n",
    "Let's try instead:"
   ]
  },
  {
   "cell_type": "code",
   "execution_count": 11,
   "metadata": {
    "collapsed": false,
    "slideshow": {
     "slide_type": "subslide"
    }
   },
   "outputs": [
    {
     "name": "stdout",
     "output_type": "stream",
     "text": [
      "['matthew', 'mark', 'luke', 'john']\n"
     ]
    }
   ],
   "source": [
    "for i in range(len(guests)):\n",
    "    guests[i] = guests[i].lower()\n",
    "print(guests)"
   ]
  },
  {
   "cell_type": "markdown",
   "metadata": {
    "slideshow": {
     "slide_type": "subslide"
    }
   },
   "source": [
    "## Fibonacci Numbers\n",
    "\n",
    "The Fibonacci numbers are the series of numbers characterized by the fact that every number after the first two is the sum of the two preceding ones. For example:\n",
    "\n",
    "     0,1,1,2,3,5,8,13,21,34,55,89,144,...\n",
    "     \n",
    "By definition the first two numbers are 0 and 1. In mathematical terms $F_i$ is given by the formula:\n",
    "\n",
    "$$ F_i = \\begin{cases} 0 & i = 0\\\\ 1 & i = 1\\\\ F_{i-1} + F_{i-2} & \\text{otherwise}\\end{cases}$$\n",
    "\n"
   ]
  },
  {
   "cell_type": "markdown",
   "metadata": {
    "slideshow": {
     "slide_type": "subslide"
    }
   },
   "source": [
    "We can calculate the first $N$ Fibonacci numbers using for loops."
   ]
  },
  {
   "cell_type": "code",
   "execution_count": 12,
   "metadata": {
    "collapsed": false
   },
   "outputs": [
    {
     "name": "stdout",
     "output_type": "stream",
     "text": [
      "[0, 1, 1, 2, 3, 5, 8, 13, 21, 34, 55, 89, 144, 233, 377, 610, 987, 1597, 2584, 4181]\n"
     ]
    }
   ],
   "source": [
    "# set number or terms in sequence\n",
    "N = 20\n",
    "\n",
    "# create list of Fibonacci numbers, append first two numbers\n",
    "fib = []\n",
    "fib.append(0)\n",
    "fib.append(1)\n",
    "\n",
    "# loop from 2 to N-1 (giving you N total terms)\n",
    "for i in range(2,N):\n",
    "    # apply reccurance relation\n",
    "    fib.append(fib[i-1]+fib[i-2])\n",
    "print(fib)"
   ]
  },
  {
   "cell_type": "markdown",
   "metadata": {
    "slideshow": {
     "slide_type": "slide"
    }
   },
   "source": [
    "# Nested Loops\n",
    "\n",
    "The body of a loop can contain several statements. It can even include other loops. This technique of using one control structure within the body of another is called *nesting*. "
   ]
  },
  {
   "cell_type": "markdown",
   "metadata": {
    "slideshow": {
     "slide_type": "subslide"
    }
   },
   "source": [
    "Consider a 2D NumPy array. Let's print each number in the array on its own line, along with its row and column."
   ]
  },
  {
   "cell_type": "code",
   "execution_count": 13,
   "metadata": {
    "collapsed": false
   },
   "outputs": [
    {
     "name": "stdout",
     "output_type": "stream",
     "text": [
      "row 0 column 0 is 1.5\n",
      "row 0 column 1 is 2.1\n",
      "row 1 column 0 is 3.1\n",
      "row 1 column 1 is 3.8\n"
     ]
    }
   ],
   "source": [
    "import numpy as np\n",
    "A = np.array([[1.5,2.1],[3.1,3.8]])\n",
    "\n",
    "for r in range(A.shape[0]):\n",
    "    for c in range(A.shape[1]):\n",
    "        print(\"row\",r,\"column\",c,\"is\",A[r,c])\n",
    "        "
   ]
  },
  {
   "cell_type": "markdown",
   "metadata": {
    "slideshow": {
     "slide_type": "subslide"
    }
   },
   "source": [
    "The loop over `r` is called the *outer loop*. The body of the outer loop contains an *inner loop* over `c` and inside its body we execute a print command.  \n",
    "\n",
    "If we look at this code sequentially it is equivalent to:"
   ]
  },
  {
   "cell_type": "code",
   "execution_count": 14,
   "metadata": {
    "collapsed": false
   },
   "outputs": [
    {
     "name": "stdout",
     "output_type": "stream",
     "text": [
      "row 0 column 0 is 1.5\n",
      "row 0 column 1 is 2.1\n",
      "row 1 column 0 is 3.1\n",
      "row 1 column 1 is 3.8\n"
     ]
    }
   ],
   "source": [
    "r = 0\n",
    "c = 0\n",
    "print(\"row\",r,\"column\",c,\"is\",A[r,c])\n",
    "c = 1\n",
    "print(\"row\",r,\"column\",c,\"is\",A[r,c])\n",
    "r = 1\n",
    "c = 0\n",
    "print(\"row\",r,\"column\",c,\"is\",A[r,c])\n",
    "c = 1\n",
    "print(\"row\",r,\"column\",c,\"is\",A[r,c])"
   ]
  },
  {
   "cell_type": "markdown",
   "metadata": {
    "slideshow": {
     "slide_type": "slide"
    }
   },
   "source": [
    "# Case Study: DNA to RNA Transcription\n",
    "\n",
    "A strand of DNA is composes of a long sequence of four distinct bases called adenine (A), cytosine (C), guanine (G) and thymine (T). RNA is a complementary structure created from DNA in a process known as *transcription*. RNA is then used to create proteins. \n",
    "\n",
    "RNA also consists of four bases: A, C, G and uracil (U). Transcription creates an RNA sequence by matching a complementary base to each oriningal base in the DNA using the following substitutions:\n",
    "\n",
    "|DNA  |RNA |\n",
    "|-----|----|\n",
    "| A | U|\n",
    "|C | G|\n",
    "|G | C|\n",
    "|T|A|\n"
   ]
  },
  {
   "cell_type": "markdown",
   "metadata": {
    "slideshow": {
     "slide_type": "subslide"
    }
   },
   "source": [
    "Starting with a DNA strand, we will loop over all the bases in the strand and convert it to the appropriate RNA charcter. We'll append this RNA base to a list. At the end of the loop we will convert this list to a string before printing it."
   ]
  },
  {
   "cell_type": "code",
   "execution_count": 15,
   "metadata": {
    "collapsed": false
   },
   "outputs": [
    {
     "name": "stdout",
     "output_type": "stream",
     "text": [
      "AGGTCAAGTCCCTA\n",
      "UCCAGUUCAGGGAU\n"
     ]
    }
   ],
   "source": [
    "# define bases for DNA and corresponding RNA bases\n",
    "dnaCodes = \"ACGT\"\n",
    "rnaCodes = \"UGCA\"\n",
    "\n",
    "# DNA sequence\n",
    "dna = \"AGGTCAAGTCCCTA\"\n",
    "rnaList = []\n",
    "\n",
    "# loop over bases in DNA sequence\n",
    "for base in dna:\n",
    "    # find index of DNA base in dnaCodes (either 0, 1, 2 or 3)\n",
    "    codeIndex=dnaCodes.index(base)\n",
    "    \n",
    "    # find corresponding base in rnaCodes\n",
    "    rnaLetter = rnaCodes[codeIndex]\n",
    "    \n",
    "    # append to list\n",
    "    rnaList.append(rnaLetter)\n",
    "    \n",
    "# join to empty string to make list a single string    \n",
    "rna = \"\".join(rnaList)\n",
    "\n",
    "# print DNA and RNA\n",
    "print(dna)\n",
    "print(rna)"
   ]
  }
 ],
 "metadata": {
  "anaconda-cloud": {},
  "celltoolbar": "Slideshow",
  "kernelspec": {
   "display_name": "Python [Root]",
   "language": "python",
   "name": "Python [Root]"
  },
  "language_info": {
   "codemirror_mode": {
    "name": "ipython",
    "version": 3
   },
   "file_extension": ".py",
   "mimetype": "text/x-python",
   "name": "python",
   "nbconvert_exporter": "python",
   "pygments_lexer": "ipython3",
   "version": "3.5.2"
  }
 },
 "nbformat": 4,
 "nbformat_minor": 1
}
