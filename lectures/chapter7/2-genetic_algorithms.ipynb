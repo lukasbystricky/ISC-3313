{
 "cells": [
  {
   "cell_type": "markdown",
   "metadata": {
    "slideshow": {
     "slide_type": "slide"
    }
   },
   "source": [
    "<p style=\"text-align: center;\"><font size=\"8\"><b>Genetic Algorithms</b></font><br>"
   ]
  },
  {
   "cell_type": "markdown",
   "metadata": {
    "slideshow": {
     "slide_type": "slide"
    }
   },
   "source": [
    "In many science and engineering applications we are interested in finding the best possible solution to a problem. This is called **optimization**. For example, we may want to find the shape of a wing the creates the most possible lift.\n",
    "\n",
    "![airfoils](images/airfoils.png)\n"
   ]
  },
  {
   "cell_type": "markdown",
   "metadata": {
    "slideshow": {
     "slide_type": "subslide"
    }
   },
   "source": [
    "In the previous example, we are trying to **maximize** the possible lift. To do this we can change the shape of the wing. The wing shape may be specified by a number of control points. By varying these control points we change the shape of the wing. The control points are called **parameters** and the lift is called the **objective function**. "
   ]
  },
  {
   "cell_type": "markdown",
   "metadata": {
    "slideshow": {
     "slide_type": "subslide"
    }
   },
   "source": [
    "We will solve a more general problem. Consider a function $f(x)$. We will call $x$ our parameter and $f(x)$ our objective function. Remembering back to calculus, this function has an extrema at a point $x^*$ with $f'(x^*) = 0$, i.e. where the first derivative is 0. \n",
    "\n",
    "This point $x^*$ is a local maximum if $f''(x^*) < 0$ and a local minimum if $f''(x^*) > 0$."
   ]
  },
  {
   "cell_type": "markdown",
   "metadata": {
    "slideshow": {
     "slide_type": "subslide"
    }
   },
   "source": [
    "We say *local* maximum/minimum because these points may or may not give the best possible value for the objective function. All that we can say for sure is that locally these points are extrema. "
   ]
  },
  {
   "cell_type": "markdown",
   "metadata": {
    "slideshow": {
     "slide_type": "-"
    }
   },
   "source": [
    "![extrema](images/extrema.png)"
   ]
  },
  {
   "cell_type": "markdown",
   "metadata": {
    "slideshow": {
     "slide_type": "subslide"
    }
   },
   "source": [
    "Sometimes we will be interested in local extrema, however often we will be most interested in the global extrema of a function. Finding the global extrema can be a challenging task, especially as the number of parameters increase. \n",
    "\n",
    "In general, if we are dealing with a smooth function with few parameters *gradient based* methods are prefered. These methods use information about the derivative of the objective function and can converge quite quickly to local optimiums. Examples of these are Newton's method for optimization or the method of steepest descent."
   ]
  },
  {
   "cell_type": "markdown",
   "metadata": {
    "slideshow": {
     "slide_type": "subslide"
    }
   },
   "source": [
    "Non-gradient based methods are useful when the objective function is not smooth, or it takes in a large number of parameters. These methods do not rely on any information about the derivative of the function and can be applied to continuous or discrete objective functions.\n",
    "\n",
    "Examples of theses are simulated annealing, pattern search methods or our topic today: **genetic algorithms**."
   ]
  },
  {
   "cell_type": "markdown",
   "metadata": {
    "slideshow": {
     "slide_type": "slide"
    }
   },
   "source": [
    "Genetic algorithms (GA) are part of a class of algorithms called *evolutionary algorithms* that mirror the process of natural selection. \n",
    "\n",
    "In natural selection the most fit individuals breed to produce children that may or may not be more fit. Random mutations can occur and these mutations be positive (think X-men) or negative. Over a long enough time period (many generations) this combination of mutations and natural selection makes the population as a whole more fit."
   ]
  },
  {
   "cell_type": "markdown",
   "metadata": {
    "slideshow": {
     "slide_type": "slide"
    }
   },
   "source": [
    "# Brief description of algorithm\n",
    "1. Create a random initial population (generation 0)\n",
    "2. Create a new sequence of populations. Each new generation is determined from the previous generation as follows:\n",
    "    - Each individual is assigned a fittness score\n",
    "    - Parents are selected based on their fitness\n",
    "    - Some individuals in the current population are chosen as *elite*. These individuals are passed directly to the next generation\n",
    "    - Children are created from parents, either from *mutation* of a single parent or by combining parents somehow (*crossover*)\n",
    "3. The algorithm stops when some stopping criteria is met (more on this later)"
   ]
  },
  {
   "cell_type": "markdown",
   "metadata": {
    "slideshow": {
     "slide_type": "slide"
    }
   },
   "source": [
    "That probably all makes no sense right now. Let's go through a concrete example. \n",
    "\n",
    "Say we want to find the minimum of the function \n",
    "\n",
    "$$ f(x,y) = 8x^2 + y^2.$$"
   ]
  },
  {
   "cell_type": "markdown",
   "metadata": {
    "slideshow": {
     "slide_type": "subslide"
    }
   },
   "source": [
    "So how would we program this? What will we need?\n",
    "\n",
    "Let's think of the final product (remember top-down design). We could use classes to do this, however today we will implement this algorithm using functions only. \n",
    "\n",
    "In the end we will have a function `ga()` that takes in an objective function and possibly some other parameters and returns the optimum value. For example to maximize the function $f(x,y) = 8x^2 + y^2$ we would call:\n",
    "\n",
    "    f = lambda x : 8*x[0]**2 + x[1]**2\n",
    "    x_opt = ga(f)"
   ]
  },
  {
   "cell_type": "markdown",
   "metadata": {
    "slideshow": {
     "slide_type": "subslide"
    }
   },
   "source": [
    "So `ga()` will be our top level function. What other methods will we need?\n",
    "\n",
    "1. It will need a method to determine an initial population, let's say `initial_population`\n",
    "2. It will need another method to determine subsequent generations, let's call this method `next_generation`\n",
    "\n",
    "How will we create the next generation? From the algorithm description, we will need the following:\n",
    "- elite children\n",
    "- mutation children\n",
    "- crossover children"
   ]
  },
  {
   "cell_type": "markdown",
   "metadata": {
    "slideshow": {
     "slide_type": "-"
    }
   },
   "source": [
    "We'll go over all the functions we'll need step by step. As we go you should put all these functions in a module `genetic_algorithm.py`. "
   ]
  },
  {
   "cell_type": "markdown",
   "metadata": {
    "slideshow": {
     "slide_type": "slide"
    }
   },
   "source": [
    "## Initial Population\n",
    "\n",
    "The first step is to create a random initial population. What does this mean?\n",
    "\n",
    "If we say an individual can be represented as a point $(x_k, y_k)$, then the initial population would be a set of individuals represented by points $\\{x_k, y_k\\}$, where $k$ goes from 0 to some large number $K$ (say around 1000). "
   ]
  },
  {
   "cell_type": "markdown",
   "metadata": {
    "slideshow": {
     "slide_type": "subslide"
    }
   },
   "source": [
    "So let's write a function that does this. We'll need an upper and lower bound for both $x$ and $y$. These will be inputs to the function, along with the number of individuals $K$."
   ]
  },
  {
   "cell_type": "code",
   "execution_count": 1,
   "metadata": {
    "collapsed": false
   },
   "outputs": [],
   "source": [
    "import numpy as np\n",
    "\n",
    "def _initial_population(K=1000, xmin=-1, xmax=1, ymin=-1, ymax=1):\n",
    "    # create a random array of K rows and 2 columns \n",
    "    population = np.random.rand(K, 2) \n",
    "    \n",
    "    # scale from range (0,1)x(0,1) to (xmin,xmax)x(ymin,ymax)\n",
    "    for k in range(K):\n",
    "        population[k,0] = population[k,0]*(xmax-xmin) + xmin\n",
    "        population[k,1] = population[k,1]*(ymax-ymin) + ymin\n",
    "        \n",
    "    return population"
   ]
  },
  {
   "cell_type": "markdown",
   "metadata": {
    "slideshow": {
     "slide_type": "subslide"
    }
   },
   "source": [
    "Why did we preface the function `initial_population()` with an underscore? \n",
    "\n",
    "As with classes there are some functions in modules that we don't want to be called outside the module. These functions are by convention prefaced with an underscore. In addition these functions are *not* imported automatically when the user imports with the * wildcard.\n",
    "\n",
    "In our case the only function in the module that should be truely public is the `ga()` function."
   ]
  },
  {
   "cell_type": "markdown",
   "metadata": {
    "slideshow": {
     "slide_type": "subslide"
    }
   },
   "source": [
    "We can test out this function. Let's create an initial population of size 1000 in the range (-10,10)x(-10,10)."
   ]
  },
  {
   "cell_type": "code",
   "execution_count": 60,
   "metadata": {
    "collapsed": false
   },
   "outputs": [
    {
     "data": {
      "image/png": "[encoded data removed]",
      "text/plain": [
       "<matplotlib.figure.Figure at 0x2537f45f588>"
      ]
     },
     "metadata": {},
     "output_type": "display_data"
    }
   ],
   "source": [
    "import matplotlib.pyplot as plt\n",
    "%matplotlib inline\n",
    "\n",
    "p0 = _initial_population(1000,-10,10,-10,10)\n",
    "plt.plot(p0[:,0], p0[:,1], '.');\n",
    "plt.title(\"Initial population\");"
   ]
  },
  {
   "cell_type": "markdown",
   "metadata": {
    "slideshow": {
     "slide_type": "slide"
    }
   },
   "source": [
    "## Creating the Next Generation\n",
    "\n",
    "As mentioned above, the next generation is created from the current generation. First we have the assign a fitness score to all the individuals in the current generation. To score them we will simply plug each point into $f(x,y)$.\n",
    "\n",
    "Again we can create function that does this for us:"
   ]
  },
  {
   "cell_type": "code",
   "execution_count": 61,
   "metadata": {
    "collapsed": false
   },
   "outputs": [],
   "source": [
    "def _score_population(p, f):\n",
    "    \n",
    "    # plug every row of p into f\n",
    "    scores = np.apply_along_axis(f, 1, p)\n",
    "    scores = scores.reshape(len(scores),1)\n",
    "    # sort scores\n",
    "    \n",
    "    # first append population as last two columns to score\n",
    "    # matrix will now look like (x,y,score)\n",
    "    scores = np.append(p, scores, 1)\n",
    "    \n",
    "    # sort by last column \n",
    "    scores = scores[scores[:,-1].argsort()]\n",
    "    \n",
    "    return scores"
   ]
  },
  {
   "cell_type": "markdown",
   "metadata": {
    "slideshow": {
     "slide_type": "subslide"
    }
   },
   "source": [
    "Let's test this function on the objective function $f(x) = 8x^2 + y^2$."
   ]
  },
  {
   "cell_type": "code",
   "execution_count": 62,
   "metadata": {
    "collapsed": false,
    "slideshow": {
     "slide_type": "-"
    }
   },
   "outputs": [
    {
     "data": {
      "image/png": "[encoded data removed]",
      "text/plain": [
       "<matplotlib.figure.Figure at 0x2537fe6e828>"
      ]
     },
     "metadata": {},
     "output_type": "display_data"
    }
   ],
   "source": [
    "f = lambda x: 8*x[0]**2 + x[1]**2\n",
    "scores = _score_population(p0, f)\n",
    "plt.plot(scores[:,2]);\n",
    "plt.xlabel(\"point #\");\n",
    "plt.ylabel(\"score\");"
   ]
  },
  {
   "cell_type": "markdown",
   "metadata": {
    "slideshow": {
     "slide_type": "subslide"
    }
   },
   "source": [
    "## Exercise\n",
    "\n",
    "Test the initial population function and score function on the objective function $f(x,y) = 16\\sin(x)\\cos(y)$. Create 500 points on the domain $-1 \\leq x,y\\leq 1$."
   ]
  },
  {
   "cell_type": "markdown",
   "metadata": {
    "slideshow": {
     "slide_type": "slide"
    }
   },
   "source": [
    "### Elite Children\n",
    "\n",
    "To generate the next generation, we first find the *elite children*. These children are passed directly to the next generation. These will typically be the best scoring members of the generation. The number of elite children is up to the user, but is typically small, around 2-4. "
   ]
  },
  {
   "cell_type": "code",
   "execution_count": 63,
   "metadata": {
    "collapsed": false
   },
   "outputs": [],
   "source": [
    "def _elite_children(p, n=2):\n",
    "    \n",
    "    # take elite children (no score)\n",
    "    elite = p[0:n,0:-1]\n",
    "    \n",
    "    # remove from population\n",
    "    p = np.delete(p, np.arange(0,n), 0)\n",
    "    \n",
    "    return elite, p"
   ]
  },
  {
   "cell_type": "code",
   "execution_count": 64,
   "metadata": {
    "collapsed": false
   },
   "outputs": [
    {
     "name": "stdout",
     "output_type": "stream",
     "text": [
      "[[-0.24604383 -0.39094853]\n",
      " [-0.24654907  0.47085599]]\n",
      "[[ -4.09342901e-01   3.09315962e-01   1.43616925e+00]\n",
      " [ -2.10639188e-01  -1.27566897e+00   1.98228227e+00]\n",
      " [  1.54451418e-01   1.41737832e+00   2.19980322e+00]\n",
      " ..., \n",
      " [ -9.93607097e+00   7.75957312e+00   8.50015025e+02]\n",
      " [  9.90132986e+00  -9.28313025e+00   8.70467171e+02]\n",
      " [ -9.91690395e+00  -9.38154009e+00   8.74773167e+02]]\n"
     ]
    }
   ],
   "source": [
    "elite, scores = _elite_children(scores)\n",
    "print(elite)\n",
    "print(scores)"
   ]
  },
  {
   "cell_type": "markdown",
   "metadata": {
    "slideshow": {
     "slide_type": "slide"
    }
   },
   "source": [
    "### Selecting Parents\n",
    "\n",
    "From the remaining population, we have to select a number of parents. Let's call this number $N$. There are many ways to choose these parents. A simple way is choose a random set of $M$ individuals and make the most fit individual from this group a parent. Typically $M$ will be relatively small, for example 4. \n",
    "\n",
    "There's no good way to choose $N$, but setting it to be 25% of the total population often works well."
   ]
  },
  {
   "cell_type": "code",
   "execution_count": 7,
   "metadata": {
    "collapsed": true
   },
   "outputs": [],
   "source": [
    "def _select_parents(scores, n = 0.25, M = 4):\n",
    "    \n",
    "    # compute number of parents\n",
    "    N = int(n*len(scores))\n",
    "    \n",
    "    parents = []\n",
    "    for i in range(N):\n",
    "        \n",
    "        # create pool of possible parents\n",
    "        pool = []\n",
    "        for j in range(M):\n",
    "            r = np.random.randint(0,len(scores))\n",
    "            pool.append(scores[r,:])\n",
    "        \n",
    "        # sort pool\n",
    "        pool = np.array(pool)\n",
    "        pool = pool[pool[:,-1].argsort()]\n",
    "        \n",
    "        # add individual with best score\n",
    "        parents.append(pool[0,:])\n",
    "        \n",
    "    return np.array(parents)   "
   ]
  },
  {
   "cell_type": "code",
   "execution_count": 8,
   "metadata": {
    "collapsed": false,
    "slideshow": {
     "slide_type": "slide"
    }
   },
   "outputs": [
    {
     "data": {
      "image/png": "[encoded data removed]",
      "text/plain": [
       "<matplotlib.figure.Figure at 0x2537fe6e860>"
      ]
     },
     "metadata": {},
     "output_type": "display_data"
    }
   ],
   "source": [
    "parents = _select_parents(scores)\n",
    "plt.plot(parents[:,2]);"
   ]
  },
  {
   "cell_type": "markdown",
   "metadata": {
    "slideshow": {
     "slide_type": "slide"
    }
   },
   "source": [
    "### Crossover Children\n",
    "\n",
    "To make crossover children we will take two parents and \"combine their genes\". What does this mean?\n",
    "\n",
    "One interpretation (there are others) is to look at the coordinates of the parents as genes. We can create a random binary vector of the same length as the genes and then select genes from parent 1 where the binary vector is 0 and genes from parent 2 where the binary vector is 1.\n",
    "\n",
    "For example, suppose parent 1 has genes [a, b] and parent 2 has genes [c, d]. The random binary vector [1, 0] would then create the child [c, b]. Note that in this case [0, 0] would create the child [a,b], and [1,1] would create the child [c,d], i.e. the parents are passed directly to the next generation as children. "
   ]
  },
  {
   "cell_type": "code",
   "execution_count": 9,
   "metadata": {
    "collapsed": true,
    "slideshow": {
     "slide_type": "subslide"
    }
   },
   "outputs": [],
   "source": [
    "def _crossover_children(parents, N):\n",
    "    \n",
    "    children = []    \n",
    "    for i in range(N):\n",
    "        \n",
    "        # create random binary vector\n",
    "        r = np.array([np.random.randint(0,2),np.random.randint(0,2)])\n",
    "        \n",
    "        # choose 2 parents\n",
    "        p1 = parents[np.random.randint(0,len(parents)), 0:2]\n",
    "        p2 = parents[np.random.randint(0,len(parents)), 0:2]\n",
    "        \n",
    "        # get genes\n",
    "        if r[0] == 0:\n",
    "            g1 = p1[0]\n",
    "        else:\n",
    "            g1 = p2[0]\n",
    "            \n",
    "        if r[1] == 0:\n",
    "            g2 = p1[1]\n",
    "        else:\n",
    "            g2 = p2[1]\n",
    "            \n",
    "        children.append(np.array([g1,g2]))\n",
    "        \n",
    "    return np.array(children)"
   ]
  },
  {
   "cell_type": "code",
   "execution_count": 10,
   "metadata": {
    "collapsed": false,
    "slideshow": {
     "slide_type": "subslide"
    }
   },
   "outputs": [
    {
     "data": {
      "image/png": "[encoded data removed]",
      "text/plain": [
       "<matplotlib.figure.Figure at 0x2537fe63518>"
      ]
     },
     "metadata": {},
     "output_type": "display_data"
    }
   ],
   "source": [
    "crossover = _crossover_children(parents, 800)\n",
    "plt.plot(crossover[:,0],crossover[:,1], '.');"
   ]
  },
  {
   "cell_type": "markdown",
   "metadata": {
    "slideshow": {
     "slide_type": "slide"
    }
   },
   "source": [
    "### Mutation Children\n",
    "\n",
    "To make mutation children we will take a random parent and add a normal random number to each gene. The mean of the distribution will be 0 and the standard deviation will depend upon the generation number. Initially we want this standard deviation to be large in order to more fully explore the space, however as we progress we want to decrease the standard deviation. We will use the formula:\n",
    "\n",
    "$\\sigma_k = \\sigma_0\\left(1 - \\frac{k}{G}\\right)$\n",
    "where $G$ is the maximum possible number of generations. Thus when $k = G$ the standard deviation is 0 and there is effectively no mutation."
   ]
  },
  {
   "cell_type": "code",
   "execution_count": 11,
   "metadata": {
    "collapsed": true,
    "slideshow": {
     "slide_type": "subslide"
    }
   },
   "outputs": [],
   "source": [
    "def _mutation_children(parents, N, k, sigma0 = 2, G = 20):\n",
    "    \n",
    "    # compute standard deviation\n",
    "    sigma = sigma0*(1 - k/G)\n",
    "    \n",
    "    children = []\n",
    "    for i in range(N):\n",
    "        r = np.random.randint(0,len(parents))\n",
    "        \n",
    "        g1 = parents[r,0] + sigma*np.random.randn()\n",
    "        g2 = parents[r,1] + sigma*np.random.randn()\n",
    "        \n",
    "        children.append(np.array([g1,g2]))\n",
    "        \n",
    "    return np.array(children)"
   ]
  },
  {
   "cell_type": "code",
   "execution_count": 12,
   "metadata": {
    "collapsed": false,
    "slideshow": {
     "slide_type": "subslide"
    }
   },
   "outputs": [
    {
     "data": {
      "image/png": "[encoded data removed]",
      "text/plain": [
       "<matplotlib.figure.Figure at 0x25301226470>"
      ]
     },
     "metadata": {},
     "output_type": "display_data"
    }
   ],
   "source": [
    "mutations = _mutation_children(parents, 200, 0)\n",
    "plt.plot(mutations[:,0],mutations[:,1], '.');"
   ]
  },
  {
   "cell_type": "markdown",
   "metadata": {
    "slideshow": {
     "slide_type": "slide"
    }
   },
   "source": [
    "## Putting It All Together"
   ]
  },
  {
   "cell_type": "code",
   "execution_count": 16,
   "metadata": {
    "collapsed": false
   },
   "outputs": [],
   "source": [
    "def ga(f, xmin, xmax, ymin, ymax, N, Gmax=20):\n",
    "    \n",
    "    population = []\n",
    "    population.append(_initial_population(N, xmin,xmax,ymin,ymax))\n",
    "    \n",
    "    for k in range(Gmax):\n",
    "\n",
    "        scores = _score_population(population[-1], f)\n",
    "        elites, scores = _elite_children(scores)\n",
    "        \n",
    "        parents = _select_parents(scores)\n",
    "        crossovers = _crossover_children(parents, int(0.8*N))\n",
    "        mutations = _mutation_children(parents, int(0.2*N), k)\n",
    "        \n",
    "        # create next generation\n",
    "        all_children = np.append(elites, crossovers, 0)\n",
    "        all_children = np.append(all_children, mutations, 0)\n",
    "        \n",
    "        population.append(all_children)\n",
    "        \n",
    "    # sort final population by scores, extract best parameters\n",
    "    scores = _score_population(population[-1], f)\n",
    "    x_opt = scores[0,:-1]\n",
    "    \n",
    "    return population, x_opt"
   ]
  },
  {
   "cell_type": "code",
   "execution_count": 36,
   "metadata": {
    "collapsed": false,
    "slideshow": {
     "slide_type": "subslide"
    }
   },
   "outputs": [
    {
     "data": {
      "image/png": "[encoded data removed]",
      "text/plain": [
       "<matplotlib.figure.Figure at 0x25301248b00>"
      ]
     },
     "metadata": {},
     "output_type": "display_data"
    }
   ],
   "source": [
    "f = lambda x: 8*x[0]**2 + x[1]**2\n",
    "max_generations = 10\n",
    "N = 1000\n",
    "(generations,x_opt) = ga(f, -4, 4, -4, 4, N, max_generations)\n",
    "\n",
    "plt.plot(generations[-1][:,0], generations[-1][:,1], '.');"
   ]
  },
  {
   "cell_type": "markdown",
   "metadata": {
    "slideshow": {
     "slide_type": "subslide"
    }
   },
   "source": [
    "## Exercise\n",
    "\n",
    "Determine how accurate this method is as the number of generations increases. We know that $f(x^*)$ (global minimum) should be 0. Plot $f(x^*)$ as a function of generation number up to generation 30."
   ]
  },
  {
   "cell_type": "code",
   "execution_count": 39,
   "metadata": {
    "collapsed": false
   },
   "outputs": [
    {
     "data": {
      "text/plain": [
       "[<matplotlib.lines.Line2D at 0x253013b5cf8>]"
      ]
     },
     "execution_count": 39,
     "metadata": {},
     "output_type": "execute_result"
    },
    {
     "data": {
      "image/png": "[encoded data removed]",
      "text/plain": [
       "<matplotlib.figure.Figure at 0x2530134f0b8>"
      ]
     },
     "metadata": {},
     "output_type": "display_data"
    }
   ],
   "source": [
    "f_opt = []\n",
    "\n",
    "for i in range(1,30):\n",
    "    (generations,x_opt) = ga(f, -4, 4, -4, 4, N, i)\n",
    "    f_opt.append(f(x_opt))\n",
    "    \n",
    "plt.semilogy(f_opt)"
   ]
  },
  {
   "cell_type": "code",
   "execution_count": 15,
   "metadata": {
    "collapsed": false,
    "slideshow": {
     "slide_type": "subslide"
    }
   },
   "outputs": [
    {
     "data": {
      "image/png": "[encoded data removed]",
      "text/plain": [
       "<matplotlib.figure.Figure at 0x25301264eb8>"
      ]
     },
     "metadata": {},
     "output_type": "display_data"
    }
   ],
   "source": [
    "f = lambda x: 20 + x[0]**2 - 20*np.cos(2*np.pi*x[0]) +  x[1]**2 - 20*np.cos(2*np.pi*x[1])\n",
    "max_generations = 20\n",
    "N = 1000\n",
    "generations = ga(f, -4, 4, -4, 4, N, max_generations)\n",
    "\n",
    "plt.plot(generations[-1][:,0], generations[-1][:,1], '.');"
   ]
  },
  {
   "cell_type": "code",
   "execution_count": null,
   "metadata": {
    "collapsed": false
   },
   "outputs": [],
   "source": [
    "from matplotlib.animation import FuncAnimation\n",
    "from matplotlib import rc\n",
    "\n",
    "# take matplotlib out of inline mode\n",
    "% matplotlib \n",
    "# configure matplotlib animations to display in notebook\n",
    "rc('animation', html='html5')\n",
    "\n",
    "# create an empty figure and axis\n",
    "fig, ax = plt.subplots()\n",
    "\n",
    "# set axis limits, these will not change during the animation\n",
    "xmin = -4\n",
    "xmax = 4\n",
    "ymin = -4\n",
    "ymax = 4\n",
    "ax.set_xlim((xmin,xmax))\n",
    "ax.set_ylim((ymin,ymax))\n",
    "\n",
    "# plot f(x,y), this will be on every frame\n",
    "x = np.linspace(xmin,xmax,1000)\n",
    "y = np.linspace(ymin,ymax,1000)\n",
    "X, Y = np.meshgrid(x,y)\n",
    "plt.contourf(X,Y,f(np.array([X,Y])),50)\n",
    "\n",
    "# add data set for generations data, we will edit this every frame\n",
    "population, = ax.plot([],[],'.r')\n",
    "\n",
    "# at this point since we matplotlib is in inline mode, it prints a blank figure"
   ]
  },
  {
   "cell_type": "code",
   "execution_count": null,
   "metadata": {
    "collapsed": false
   },
   "outputs": [],
   "source": [
    "# define initialization function\n",
    "def init():\n",
    "    population.set_data(generations[0][:,0], generations[0][:,1])\n",
    "\n",
    "# define update function\n",
    "def update(k):\n",
    "    ax.set_title(\"Generation \" + str(k))\n",
    "    population.set_data(generations[k][:,0], generations[k][:,1])\n",
    "\n",
    "anim = FuncAnimation(fig, update, init_func=init, frames=range(0,max_generations), interval=500)\n",
    "anim"
   ]
  },
  {
   "cell_type": "code",
   "execution_count": null,
   "metadata": {
    "collapsed": true
   },
   "outputs": [],
   "source": []
  }
 ],
 "metadata": {
  "anaconda-cloud": {},
  "celltoolbar": "Slideshow",
  "kernelspec": {
   "display_name": "Python [Root]",
   "language": "python",
   "name": "Python [Root]"
  },
  "language_info": {
   "codemirror_mode": {
    "name": "ipython",
    "version": 3
   },
   "file_extension": ".py",
   "mimetype": "text/x-python",
   "name": "python",
   "nbconvert_exporter": "python",
   "pygments_lexer": "ipython3",
   "version": "3.5.2"
  }
 },
 "nbformat": 4,
 "nbformat_minor": 0
}
