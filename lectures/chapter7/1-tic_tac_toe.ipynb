{
 "cells": [
  {
   "cell_type": "markdown",
   "metadata": {
    "collapsed": true,
    "slideshow": {
     "slide_type": "slide"
    }
   },
   "source": [
    "<p style=\"text-align: center;\"><font size=\"8\"><b>Good Software Practices</b></font><br>\n"
   ]
  },
  {
   "cell_type": "markdown",
   "metadata": {
    "slideshow": {
     "slide_type": "slide"
    }
   },
   "source": [
    "The last few lectures have introduced classes. You should by now be somewhat confident in designing and writing simple classes. With a little more thought, these concepts can be extended to design larger and more complicated programs. \n",
    "\n",
    "Larger programs require more time spent on design, testing and documentation. This lecture will cover these topics by going over how to design and implement a simple Tic-Tac-Toe game. It follows loosely chapter 7 in Goldwasser and Letscher. "
   ]
  },
  {
   "cell_type": "markdown",
   "metadata": {
    "collapsed": true,
    "slideshow": {
     "slide_type": "slide"
    }
   },
   "source": [
    "# Tic-Tac-Toe\n",
    "\n",
    "You probably know the rules of Tic-Tac-Toe, but just to clarify:\n",
    "\n",
    "1. Starting with an empty 3x3 board, a player marks a cell with an \"x\"\n",
    "2. The computer then marks an empty cell with an \"o\"\n",
    "3. The player marks an empty cell with an \"x\"\n",
    "4. This process repeats until we have a line of either three \"x\"s or three \"o\"s."
   ]
  },
  {
   "cell_type": "markdown",
   "metadata": {
    "slideshow": {
     "slide_type": "slide"
    }
   },
   "source": [
    "# Top-down design\n",
    "\n",
    "The tempation now is to start coding right away. This temptation should be avoided. It is better to spend a few minutes (or hours/days/months depending on the size of the problem) deciding the best way to implement a program. \n",
    "\n"
   ]
  },
  {
   "cell_type": "markdown",
   "metadata": {
    "slideshow": {
     "slide_type": "subslide"
    }
   },
   "source": [
    "The first step is to envision the final project. In our case this mean deciding what the final Tic-Tac-Toe game will look like. This will be the top-level class. From there we expand the design to include classes that the top level class will need. This is known as **top-down design**."
   ]
  },
  {
   "cell_type": "markdown",
   "metadata": {
    "slideshow": {
     "slide_type": "subslide"
    }
   },
   "source": [
    "For example, let's say we want our top level class to be called `TicTacToe`. This class might have a method `play()` that starts the game. "
   ]
  },
  {
   "cell_type": "code",
   "execution_count": null,
   "metadata": {
    "collapsed": true
   },
   "outputs": [],
   "source": [
    "game = TicTacToe()\n",
    "game.play()"
   ]
  },
  {
   "cell_type": "markdown",
   "metadata": {
    "slideshow": {
     "slide_type": "subslide"
    }
   },
   "source": [
    "What happens next?\n",
    "\n",
    "We'll make a game that is played entirely on the console. So after we start the game, perhaps we display a blank board and ask the player for a move. To to this, the player will have to specify both a row and column, and we will have to read this in somehow and make sure it is a valid move.\n",
    "\n",
    "    - - -\n",
    "    - - -\n",
    "    - - -\n",
    "    \n",
    "    Select row:\n",
    "    Select column:"
   ]
  },
  {
   "cell_type": "markdown",
   "metadata": {
    "slideshow": {
     "slide_type": "subslide"
    }
   },
   "source": [
    "Next we will have to update the board. The player's move should be recorded and the computer should make a move somehow. Assume the player marks their moves with an x and the computer with and o. \n",
    "\n",
    "We should then print the board with the player and computer moves and ask for another move from the player.\n",
    "\n",
    "\n",
    "    - x -\n",
    "    - - o\n",
    "    - - -\n",
    "    \n",
    "    Select row:\n",
    "    Select column:"
   ]
  },
  {
   "cell_type": "markdown",
   "metadata": {
    "slideshow": {
     "slide_type": "subslide"
    }
   },
   "source": [
    "We'll keep repeating this until either there is a winner, or the board is full and the game is a tie.\n",
    "\n",
    "    - x -\n",
    "    - x o\n",
    "    o x -\n",
    "    \n",
    "    PLAYER WINS!"
   ]
  },
  {
   "cell_type": "markdown",
   "metadata": {
    "slideshow": {
     "slide_type": "subslide"
    }
   },
   "source": [
    "So that's the top level class. *How* it works has yet to be determined, but at least we know *what* it should do. \n",
    "\n",
    "To actually implement it we will need to store and manipulate the board. To do this we could use a dedicated `Board` class. "
   ]
  },
  {
   "cell_type": "markdown",
   "metadata": {
    "slideshow": {
     "slide_type": "subslide"
    }
   },
   "source": [
    "What should the `Board` class do?\n",
    "\n",
    "For starters it will need to store the board, as well as any player and computer moves. It will also have to be able to print the board to the console. Being able to print to the console means we should be able to pass a Board into the `print` command. This means our Board class will have to implement the `__str__` special method."
   ]
  },
  {
   "cell_type": "markdown",
   "metadata": {
    "slideshow": {
     "slide_type": "subslide"
    }
   },
   "source": [
    "It will also need to verify that a move is valid and add it to the Board. There are two types of moves: player and computer. The player specifies exactly what their move is, while the computer move must be determined somehow. "
   ]
  },
  {
   "cell_type": "markdown",
   "metadata": {
    "slideshow": {
     "slide_type": "subslide"
    }
   },
   "source": [
    "Finally, the Board class must be able to determine if the game is over. In other words after every move, check if:\n",
    "* the player has won\n",
    "* the compuer has won\n",
    "* the board is full (tie)"
   ]
  },
  {
   "cell_type": "markdown",
   "metadata": {
    "slideshow": {
     "slide_type": "subslide"
    }
   },
   "source": [
    "We can represent these two classes with UML diagrams.\n",
    "\n",
    "![tic tac toe UML](https://github.com/lukasbystricky/ISC-3313/blob/master/lectures/chapter7/images/tic-tac-toe_UML.png?raw=true)"
   ]
  },
  {
   "cell_type": "markdown",
   "metadata": {
    "slideshow": {
     "slide_type": "slide"
    }
   },
   "source": [
    "# Bottom-up Implementation\n",
    "\n",
    "This completes the design stage. Now we actually have to implement these classes. Implementation typically starts at the lowest level. This is known as **bottom-up implementation**. For this to work properly, each component must be tested thouroughly before moving to the next level. \n",
    "\n",
    "For us, our lowest level is the `Board` class."
   ]
  },
  {
   "cell_type": "markdown",
   "metadata": {
    "slideshow": {
     "slide_type": "subslide"
    }
   },
   "source": [
    "## Board class\n",
    "\n",
    "The Board class must contain some sort of way to represent the state of the board. One way (not the only way) is to use a 2D NumPy array. For example the board \n",
    "   \n",
    "    x - - \n",
    "    - o -\n",
    "    - x o\n",
    "\n",
    "could be represented by:\n",
    "\n",
    "    np.array([[\"x\",\"-\",\"-\"], [\"-\",\"o\",\"-\"], [\"-\",\"x\",\"o\"]])"
   ]
  },
  {
   "cell_type": "markdown",
   "metadata": {
    "slideshow": {
     "slide_type": "subslide"
    }
   },
   "source": [
    "An empty board would be represented by:\n",
    "\n",
    "    np.array([[\"-\",\"-\",\"-\"],[\"-\",\"-\",\"-\"],[\"-\",\"-\",\"-\"]])"
   ]
  },
  {
   "cell_type": "markdown",
   "metadata": {
    "slideshow": {
     "slide_type": "subslide"
    }
   },
   "source": [
    "So we are ready to start creating the Board class. The `__init__` routine should set the `board` member to be an empty board."
   ]
  },
  {
   "cell_type": "code",
   "execution_count": null,
   "metadata": {
    "collapsed": true
   },
   "outputs": [],
   "source": [
    "import numpy as np\n",
    "\n",
    "class Board:\n",
    "    \n",
    "    def __init__(self):\n",
    "         self.board = np.array([[\"-\",\"-\",\"-\"],[\"-\",\"-\",\"-\"],[\"-\",\"-\",\"-\"]])"
   ]
  },
  {
   "cell_type": "markdown",
   "metadata": {
    "slideshow": {
     "slide_type": "subslide"
    }
   },
   "source": [
    "Next we will want a method to convert the board to a string that can be printed to the console. This of course is the `__str__` method. Numpy arrays can already be converted to strings."
   ]
  },
  {
   "cell_type": "code",
   "execution_count": 17,
   "metadata": {
    "collapsed": false
   },
   "outputs": [
    {
     "name": "stdout",
     "output_type": "stream",
     "text": [
      "[['-' '-' '-']\n",
      " ['-' '-' '-']\n",
      " ['-' '-' '-']]\n"
     ]
    }
   ],
   "source": [
    "a = np.array([[\"-\",\"-\",\"-\"],[\"-\",\"-\",\"-\"],[\"-\",\"-\",\"-\"]])\n",
    "print(a)"
   ]
  },
  {
   "cell_type": "markdown",
   "metadata": {
    "slideshow": {
     "slide_type": "subslide"
    }
   },
   "source": [
    "This is close to what we want, but we will have to clean it up a bit."
   ]
  },
  {
   "cell_type": "code",
   "execution_count": 19,
   "metadata": {
    "collapsed": true
   },
   "outputs": [],
   "source": [
    "class Board:\n",
    "    \n",
    "    def __init__(self):\n",
    "        self._board = np.array([[\"-\",\"-\",\"-\"],[\"-\",\"-\",\"-\"],[\"-\",\"-\",\"-\"]])\n",
    "        \n",
    "    def __str__(self):\n",
    "        b_string = str(self._board)\n",
    "        b_string = b_string.replace(\"[\",\"\")\n",
    "        b_string = b_string.replace(\"]\",\"\")\n",
    "        b_string = b_string.replace(\"\\'\",\"\")\n",
    "        b_string = b_string.replace(\"\\n \",\"\\n\")\n",
    "        return b_string"
   ]
  },
  {
   "cell_type": "markdown",
   "metadata": {
    "slideshow": {
     "slide_type": "subslide"
    }
   },
   "source": [
    "At this point we can already begin to test our Board class by printing the empty board to the console."
   ]
  },
  {
   "cell_type": "code",
   "execution_count": 18,
   "metadata": {
    "collapsed": false
   },
   "outputs": [
    {
     "name": "stdout",
     "output_type": "stream",
     "text": [
      "- - -\n",
      "- - -\n",
      "- - -\n"
     ]
    }
   ],
   "source": [
    "b = Board()\n",
    "print(b)"
   ]
  },
  {
   "cell_type": "markdown",
   "metadata": {
    "slideshow": {
     "slide_type": "-"
    }
   },
   "source": [
    "Seems to work well enough so far. This is a nice feature of the bottom-up implementation. We can test every function we write as soon as we write it. This will lead to more robust code down the road."
   ]
  },
  {
   "cell_type": "markdown",
   "metadata": {
    "slideshow": {
     "slide_type": "subslide"
    }
   },
   "source": [
    "The next method we should implement is a method to test if the game has been won. Remember what it means for a game to be won. A game has been if any of the following are true:\n",
    "\n",
    "1. any of the diagonals are all the same character (either \"x\" or \"o\")\n",
    "2. any of the rows are all the same character\n",
    "3. any of the columns are all the same character\n",
    "\n",
    "We will write a function `check_winner()` that takes in as a parameter a character (either \"x\" or \"o\") and checks to see if that that character qualifies as a winner."
   ]
  },
  {
   "cell_type": "markdown",
   "metadata": {
    "slideshow": {
     "slide_type": "subslide"
    }
   },
   "source": [
    "We will make use of the `np.all()` function. The `np.all()` function takes in an array of booleans and returns True if they are all True and False otherwise. Our `check_winner()` function might thus look like:"
   ]
  },
  {
   "cell_type": "code",
   "execution_count": null,
   "metadata": {
    "collapsed": true
   },
   "outputs": [],
   "source": [
    "def check_winner(self, character):\n",
    "\n",
    "    winner = False\n",
    "    # find all entries on the board that are the character\n",
    "    boardTmp = self._board == character\n",
    "\n",
    "    # Check diagonals\n",
    "    d1 = np.array([boardTmp[0,0], boardTmp[1,1], boardTmp[2,2]])\n",
    "    d2 = np.array([boardTmp[0,2], boardTmp[1,1], boardTmp[2,0]])\n",
    "\n",
    "    if np.all(d1) or np.all(d2):\n",
    "            winner = True\n",
    "\n",
    "    # Check rows and columns \n",
    "    if not(winner):\n",
    "        for i in range(3):\n",
    "\n",
    "            if np.all(boardTmp[i,:]) or np.all(boardTmp[:,i]):\n",
    "                winner = True\n",
    "                break\n",
    "\n",
    "    return winner"
   ]
  },
  {
   "cell_type": "markdown",
   "metadata": {
    "slideshow": {
     "slide_type": "subslide"
    }
   },
   "source": [
    "Adding this method to the Board class:"
   ]
  },
  {
   "cell_type": "code",
   "execution_count": 20,
   "metadata": {
    "collapsed": false
   },
   "outputs": [],
   "source": [
    "class Board:\n",
    "    \n",
    "    def __init__(self):\n",
    "        self._board = np.array([[\"-\",\"-\",\"-\"],[\"-\",\"-\",\"-\"],[\"-\",\"-\",\"-\"]])\n",
    "        \n",
    "    def __str__(self):\n",
    "        b_string = str(self._board)\n",
    "        b_string = b_string.replace(\"[\",\"\")\n",
    "        b_string = b_string.replace(\"]\",\"\")\n",
    "        b_string = b_string.replace(\"\\'\",\"\")\n",
    "        b_string = b_string.replace(\"\\n \",\"\\n\")\n",
    "        return b_string\n",
    "    \n",
    "    def check_winner(self, character):\n",
    "\n",
    "        winner = False\n",
    "        # find all entries on the board that are the character\n",
    "        boardTmp = self._board == character\n",
    "\n",
    "        # Check diagonals\n",
    "        d1 = np.array([boardTmp[0,0], boardTmp[1,1], boardTmp[2,2]])\n",
    "        d2 = np.array([boardTmp[0,2], boardTmp[1,1], boardTmp[2,0]])\n",
    "\n",
    "        if np.all(d1) or np.all(d2):\n",
    "                winner = True\n",
    "\n",
    "        # Check rows and columns \n",
    "        if not(winner):\n",
    "            for i in range(3):\n",
    "\n",
    "                if np.all(boardTmp[i,:]) or np.all(boardTmp[:,i]):\n",
    "                    winner = True\n",
    "                    break\n",
    "\n",
    "        return winner"
   ]
  },
  {
   "cell_type": "markdown",
   "metadata": {
    "slideshow": {
     "slide_type": "subslide"
    }
   },
   "source": [
    "To test our winner method, we can modify the `_board` member."
   ]
  },
  {
   "cell_type": "code",
   "execution_count": 21,
   "metadata": {
    "collapsed": false
   },
   "outputs": [
    {
     "name": "stdout",
     "output_type": "stream",
     "text": [
      "False\n",
      "False\n",
      "True\n"
     ]
    }
   ],
   "source": [
    "b = Board()\n",
    "\n",
    "print(b.check_winner(\"x\"))\n",
    "b._board = np.array([[\"x\", \"x\", \"x\"],[ \"-\", \"-\", \"-\"], [\"o\", \"x\", \"o\"]])\n",
    "print(b.check_winner(\"o\"))\n",
    "print(b.check_winner(\"x\"))"
   ]
  },
  {
   "cell_type": "markdown",
   "metadata": {
    "slideshow": {
     "slide_type": "subslide"
    }
   },
   "source": [
    "## Exercise\n",
    "\n",
    "Create a file Board.py containing the `Board` class. Write a code snippet that tests our Board class to make sure `check_winner()` works for a Board with \"x\" down the diagonal."
   ]
  },
  {
   "cell_type": "markdown",
   "metadata": {
    "slideshow": {
     "slide_type": "subslide"
    }
   },
   "source": [
    "We will also need to check if the board is full. If it is (and there is no winner), the game is a tie. \n",
    "\n",
    "This is actually not difficult. We will again make use of the `np.any()` function. First we will compare the `_board` member to \"-\" to create an array of booleans. Then we will check if this array is `True` anywhere. If it is not, then the board is not full."
   ]
  },
  {
   "cell_type": "code",
   "execution_count": 10,
   "metadata": {
    "collapsed": true
   },
   "outputs": [],
   "source": [
    "def full_board(self):\n",
    "        boardTmp = self._board == \"-\"\n",
    "        return not(np.any(boardTmp))"
   ]
  },
  {
   "cell_type": "markdown",
   "metadata": {
    "slideshow": {
     "slide_type": "subslide"
    }
   },
   "source": [
    "## Exercise\n",
    "\n",
    "Add the `full_board()` function to the `Board` class and test to make sure it works."
   ]
  },
  {
   "cell_type": "markdown",
   "metadata": {
    "slideshow": {
     "slide_type": "subslide"
    }
   },
   "source": [
    "The next method we will need to a method to read in a player move and update the board. To do this we will make use of the `input()` function. \n",
    "\n",
    "The `input()` function takes in a string as an argument and displays it to the console. Typically this string is some sort of prompt. The user can then type in an answer and press enter. Whatever the user types is then returned by the `input()` function."
   ]
  },
  {
   "cell_type": "markdown",
   "metadata": {
    "slideshow": {
     "slide_type": "subslide"
    }
   },
   "source": [
    "For example:"
   ]
  },
  {
   "cell_type": "code",
   "execution_count": 22,
   "metadata": {
    "collapsed": false
   },
   "outputs": [
    {
     "name": "stdout",
     "output_type": "stream",
     "text": [
      "Please enter your name:John\n",
      "Your name is John\n"
     ]
    }
   ],
   "source": [
    "name = input(\"Please enter your name:\")\n",
    "print(\"Your name is\", name)"
   ]
  },
  {
   "cell_type": "markdown",
   "metadata": {
    "slideshow": {
     "slide_type": "subslide"
    }
   },
   "source": [
    "The idea is that we will use the input function to ask the user for both a row and a column to mark with the letter \"x\". The numbers the user enters must satisfy two conditions:\n",
    "\n",
    "1. They must both be in the range 1 to 3. The user cannot enter -1 or 8 for either the row or column number for example\n",
    "2. The cell the user selects must be empty"
   ]
  },
  {
   "cell_type": "markdown",
   "metadata": {
    "slideshow": {
     "slide_type": "subslide"
    }
   },
   "source": [
    "What do we do if the user enters an invalid cell? \n",
    "\n",
    "We first ask the user for a cell, then we check if it is valid. If it is, we mark the cell with an \"x\" and check if the game has been won. If it's not valid, we display an error message and ask again.\n",
    "\n",
    "After the user enters a valid cell, it needs to check if the player has won or if the board is full. It will return two booleans indicating which, if any of these scenarios is true."
   ]
  },
  {
   "cell_type": "code",
   "execution_count": null,
   "metadata": {
    "collapsed": true,
    "slideshow": {
     "slide_type": "subslide"
    }
   },
   "outputs": [],
   "source": [
    "def player_move(self):\n",
    "\n",
    "    valid = False\n",
    "    while not(valid):\n",
    "        row = int(input(\"Select row: \"))\n",
    "        column = int(input(\"Select column: \"))\n",
    "\n",
    "        if row < 1 or row > 3 or column < 1 or column > 3:\n",
    "            print(\"Row and column number must be between 1 and 3\")\n",
    "\n",
    "        elif self._board[row-1,column-1] != \"-\":\n",
    "            print(\"Please select an empty cell\")\n",
    "\n",
    "        else:\n",
    "            self._board[row-1,column-1] = \"x\"\n",
    "            valid = True\n",
    "\n",
    "    return self.check_winner(\"x\"), self.full_board()"
   ]
  },
  {
   "cell_type": "markdown",
   "metadata": {
    "slideshow": {
     "slide_type": "subslide"
    }
   },
   "source": [
    "## Excerise \n",
    "\n",
    "Add the `player_move()` function to the `Board` class and test it."
   ]
  },
  {
   "cell_type": "markdown",
   "metadata": {
    "slideshow": {
     "slide_type": "subslide"
    }
   },
   "source": [
    "The final function needed for the `Board` class is the computer move function. \n",
    "\n",
    "We'll assume that the computer has no particular strategy and is just picking cells at random. Of course, the cell has to by empty. As with the player move, we will use a while loop to keep picking cells until we pick a valid one."
   ]
  },
  {
   "cell_type": "code",
   "execution_count": 15,
   "metadata": {
    "collapsed": true,
    "slideshow": {
     "slide_type": "subslide"
    }
   },
   "outputs": [],
   "source": [
    "def computer_move(self):\n",
    "\n",
    "    valid = False\n",
    "    while not(valid):\n",
    "        row = np.random.randint(0,3)\n",
    "        column = np.random.randint(0,3)\n",
    "\n",
    "        if self._board[row,column] == \"-\":\n",
    "            self._board[row,column] = \"o\"\n",
    "            valid = True\n",
    "\n",
    "    return self.check_winner(\"o\"), self.full_board()"
   ]
  },
  {
   "cell_type": "markdown",
   "metadata": {
    "slideshow": {
     "slide_type": "subslide"
    }
   },
   "source": [
    "## Exercise\n",
    "\n",
    "Add the `computer_move()` function to the `Board` class and test it."
   ]
  },
  {
   "cell_type": "markdown",
   "metadata": {
    "slideshow": {
     "slide_type": "slide"
    }
   },
   "source": [
    "## TicTacToe class\n",
    "\n",
    "Having completed the `Board` class, we now turn to the highest level class, the `TicTacToe` class."
   ]
  },
  {
   "cell_type": "markdown",
   "metadata": {
    "slideshow": {
     "slide_type": "subslide"
    }
   },
   "source": [
    "Recall that the `TicTacToe` class has a single member variable of type `Board`. We will create this object in the `__init__` function."
   ]
  },
  {
   "cell_type": "code",
   "execution_count": 16,
   "metadata": {
    "collapsed": true
   },
   "outputs": [],
   "source": [
    "class TicTacToe:\n",
    "    \n",
    "    def __init__(self):\n",
    "        self._board = Board() # creates a blank Board\n",
    "        \n",
    "    "
   ]
  },
  {
   "cell_type": "markdown",
   "metadata": {
    "slideshow": {
     "slide_type": "subslide"
    }
   },
   "source": [
    "There is a single member function that must be added to the `TicTacToe` class. This is the `play()` method. \n",
    "\n",
    "As long as the game is not over (player or computer wins or tie), the `play()` method will print the board and ask the player for a move. Then provided the game is not over it will ask for a computer move. When the game is over a message will be displayed the gives the outcome of the game.\n"
   ]
  },
  {
   "cell_type": "code",
   "execution_count": null,
   "metadata": {
    "collapsed": true,
    "slideshow": {
     "slide_type": "subslide"
    }
   },
   "outputs": [],
   "source": [
    "def play(self):\n",
    "    \n",
    "    keep_playing = True\n",
    "    while (keep_playing):\n",
    "        print(str(self._board))\n",
    "        [winner_player, full_board] = self._board.player_move()\n",
    "        keep_playing = not(winner_player or full_board)\n",
    "\n",
    "        if keep_playing:\n",
    "            [winner_computer, full_board] = self._board.computer_move()                     \n",
    "            keep_playing = not(winner_computer or full_board)\n",
    "\n",
    "    print(str(self._board))\n",
    "\n",
    "    if winner_player:\n",
    "        print(\"Player wins!\")\n",
    "\n",
    "    elif winner_computer:\n",
    "        print(\"Computer_wins!\")\n",
    "\n",
    "    else:\n",
    "        print(\"Tie!\")\n",
    "            "
   ]
  },
  {
   "cell_type": "markdown",
   "metadata": {
    "collapsed": false,
    "slideshow": {
     "slide_type": "subslide"
    }
   },
   "source": [
    "## Exercise\n",
    "\n",
    "Create a file TicTacToe.py containing the code for the `TicTacToe` class (don't forget to import the `Board` class). Add the `play()` method to the class and test to make sure the program works as expected."
   ]
  }
 ],
 "metadata": {
  "anaconda-cloud": {},
  "celltoolbar": "Slideshow",
  "kernelspec": {
   "display_name": "Python [Root]",
   "language": "python",
   "name": "Python [Root]"
  },
  "language_info": {
   "codemirror_mode": {
    "name": "ipython",
    "version": 3
   },
   "file_extension": ".py",
   "mimetype": "text/x-python",
   "name": "python",
   "nbconvert_exporter": "python",
   "pygments_lexer": "ipython3",
   "version": "3.5.2"
  }
 },
 "nbformat": 4,
 "nbformat_minor": 0
}
