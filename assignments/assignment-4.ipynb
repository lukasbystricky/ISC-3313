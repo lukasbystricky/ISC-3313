{
 "cells": [
  {
   "cell_type": "markdown",
   "metadata": {},
   "source": [
    "# Assignment 4\n",
    "\n",
    "Due: Friday July 28th, 2017 at 11:59 pm\n",
    "\n",
    "Name:"
   ]
  },
  {
   "cell_type": "markdown",
   "metadata": {},
   "source": [
    "## Defining Classes\n",
    "\n",
    "## 1 (40 points)\n",
    "\n",
    "Let's create a class to represent 3D vectors. Such a vector will have the form:\n",
    "$$ \\mathbf{x} = a \\hat{\\mathbf{i}} + b\\hat{\\mathbf{j}} + c\\hat{\\mathbf{k}},$$\n",
    "where $\\hat{\\mathbf{i}}$, $\\hat{\\mathbf{j}}$, $\\hat{\\mathbf{k}}$ are the three cartesian coordinate unit vectors. We can also represent $\\mathbf{x}$ using the notation $\\mathbf{x} = \\langle a,b,c\\rangle$.\n",
    "\n",
    "Recall some definitions:\n",
    "\n",
    "Given two vectors $\\mathbf{x} = \\langle a,b,c\\rangle$ and $\\mathbf{y} = \\langle d,e,f\\rangle$ the following operations are defined:\n",
    "* $\\mathbf{x} + \\mathbf{y} = \\langle a + d, b + e, c + f\\rangle$\n",
    "* $\\mathbf{y} - \\mathbf{y} = \\langle a - d, b - e, c - f\\rangle$\n",
    "* $\\mathbf{x}\\cdot\\mathbf{y} = ad + be + cf$ (dot product)\n",
    "* $\\mathbf{x}\\times\\mathbf{y} = \\langle bf - ec, dc - af, ae - db\\rangle$ (cross product)\n",
    "* $|\\mathbf{x}| = \\sqrt{a^2 + b^2 + c^2}$ (magnitude)\n",
    "\n",
    "Your task will be to define a class `Vector` which contains the following functionality for Vectors `x` and `y`:\n",
    "* addition and subtraction, `x + y`, `x - y`\n",
    "* dot product, `x.dot(y)`\n",
    "* cross product, `x.cross(y)`\n",
    "* magnitude of the vector, `abs(x)`\n",
    "* conversion to string, `str(x)`\n",
    "\n",
    "The string conversion should print out the vector in the following format:\n",
    "\n",
    "     a*i + b*j + c*k\n"
   ]
  },
  {
   "cell_type": "markdown",
   "metadata": {},
   "source": [
    "## Software Design\n",
    "\n",
    "## 2 (60 points)\n",
    "\n",
    "We're going to create a console based version of the game [Connect Four](https://en.wikipedia.org/wiki/Connect_Four). This game will be for two players. Player 1 will mark their moves with \"x\" and Player 2 will mark their moves with \"o\". \n",
    "\n",
    "In the spirt of top-down design, let's imagine what the final product will look like. We'll start with an empty board of seven columns an six rows. The computer will then ask and read in a move for Player 1 and print out the state of the board.\n",
    "\n",
    "    - - - - - - -\n",
    "    - - - - - - -\n",
    "    - - - - - - -\n",
    "    - - - - - - -\n",
    "    - - - - - - -\n",
    "    - - - - - - -\n",
    "\n",
    "    1 2 3 4 5 6 7\n",
    "    \n",
    "    Player 1: Please select column: 1\n",
    "    \n",
    "    - - - - - - -\n",
    "    - - - - - - -\n",
    "    - - - - - - -\n",
    "    - - - - - - -\n",
    "    - - - - - - -\n",
    "    x - - - - - -\n",
    "\n",
    "    1 2 3 4 5 6 7\n",
    "    \n",
    "This process repeats for Player 2.\n",
    "\n",
    "    Player 2: Please select column: 1\n",
    "    \n",
    "    - - - - - - -\n",
    "    - - - - - - -\n",
    "    - - - - - - -\n",
    "    - - - - - - -\n",
    "    o - - - - - -\n",
    "    x - - - - - -\n",
    "\n",
    "    1 2 3 4 5 6 7\n",
    "    \n",
    "This completes the first turn. We keep asking Player 1 and 2 for moves until the game is over, i.e. one player has connected four pieces, or the board is full.\n",
    "\n",
    "Player 1: Please select column: 4\n",
    "\n",
    "    - - - - - - -\n",
    "    - - - - - - -\n",
    "    x - - - - - -\n",
    "    o - - - - - -\n",
    "    o o - - - - -\n",
    "    x x x x o - -\n",
    "\n",
    "    1 2 3 4 5 6 7\n",
    "\n",
    "    Player 1 wins!\n",
    "    \n",
    "So that's what the game should look like. You are free to implement this however you like, however below I will provide some non-binding suggestions. Your code will be graded on whether or not it meets the following criteria:\n",
    "* The game works, i.e. it can read in moves and update the board and spot a winner\n",
    "* The instructions to the players are clear; the board gets printed out exactly as above (including column numbers)\n",
    "* Players are not allowed to make illegal moves\n",
    "* Your code is commented and easy to understand\n",
    "\n",
    "### Suggestions\n",
    "\n",
    "As with the Tic-Tac-Toe game it probably makes sense to do this using classes. A class called `ConnectFour` with a method `play()` for example would make sense as the high level class. Another class would be a `Board` class that contains information about the board. This class could contain the following methods:\n",
    "* \\__str\\__ \n",
    "* full_board(): checks if the board is full\n",
    "* place_piece(piece,column): drops a piece in a column\n",
    "* check_winner(piece): checks if the game has been won by either \"x\" or \"o\"\n",
    "* column_full(column): checks if a column is full\n",
    "* player_move(piece): reads in a player move and updates the board\n",
    "\n",
    "To write the `check_winner()` function, it may be useful to define an additional class `SubBoard` that represents a 4x4 board of pieces. To determine if there is a winner, loop through every 4x4 board and check and see if that sub-board has any 4 connecting pieces. \n",
    "\n",
    "Here is UML diagram for this implementation.\n",
    "\n",
    "\n",
    "![connect four UML](images/connect_four_UML.png)\n",
    "\n",
    "Make sure to test each function after you write them. Here is a possible implementation of the `SubBoard` class that you can use."
   ]
  },
  {
   "cell_type": "code",
   "execution_count": 1,
   "metadata": {
    "collapsed": true
   },
   "outputs": [],
   "source": [
    "class SubBoard:\n",
    "    \"\"\"\n",
    "    A class representing a 4x4 board.   \n",
    "    \"\"\"\n",
    "    def __init__(self, board):\n",
    "\n",
    "        self.board = board\n",
    "        \n",
    "    def check_winner(self, piece):        \n",
    "        winner = False\n",
    "        boardTmp = self.board == piece\n",
    "        \n",
    "        (n_rows, n_columns) = self.board.shape\n",
    "        \n",
    "        # check rows\n",
    "        for i in range(n_rows):\n",
    "                if np.all(boardTmp[i,:]):\n",
    "                    winner = True\n",
    "                    break\n",
    "                    \n",
    "        # check columns\n",
    "        if not winner:\n",
    "            for i in range(n_columns):\n",
    "                if np.all(boardTmp[:,i]):\n",
    "                    winner = True             \n",
    "                    break\n",
    "        \n",
    "        # check diagonals\n",
    "        if not winner:\n",
    "            d1 = np.diag(boardTmp)\n",
    "            d2 = np.diag(np.fliplr(boardTmp))\n",
    "            \n",
    "            if np.all(d1) or np.all(d2):\n",
    "                winner = True\n",
    "                \n",
    "        return winner"
   ]
  },
  {
   "cell_type": "markdown",
   "metadata": {},
   "source": [
    "And here is a sample call:"
   ]
  },
  {
   "cell_type": "code",
   "execution_count": 3,
   "metadata": {
    "collapsed": false
   },
   "outputs": [
    {
     "name": "stdout",
     "output_type": "stream",
     "text": [
      "True\n",
      "False\n"
     ]
    }
   ],
   "source": [
    "import numpy as np\n",
    "board = np.array([[\"x\", \"-\", \"-\", \"-\"], [\"x\", \"o\", \"-\", \"-\"], [\"x\", \"o\", \"x\",\"-\"], [\"x\", \"o\",\" x\", \"-\"]])\n",
    "b = SubBoard(board)\n",
    "\n",
    "print(b.check_winner(\"x\"))\n",
    "print(b.check_winner(\"o\"))"
   ]
  }
 ],
 "metadata": {
  "anaconda-cloud": {},
  "kernelspec": {
   "display_name": "Python [Root]",
   "language": "python",
   "name": "Python [Root]"
  },
  "language_info": {
   "codemirror_mode": {
    "name": "ipython",
    "version": 3
   },
   "file_extension": ".py",
   "mimetype": "text/x-python",
   "name": "python",
   "nbconvert_exporter": "python",
   "pygments_lexer": "ipython3",
   "version": "3.5.2"
  }
 },
 "nbformat": 4,
 "nbformat_minor": 0
}
