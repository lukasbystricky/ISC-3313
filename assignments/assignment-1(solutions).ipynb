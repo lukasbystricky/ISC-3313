{
 "cells": [
  {
   "cell_type": "markdown",
   "metadata": {},
   "source": [
    "# Assignment 1\n",
    "\n",
    "This is your first assignment. Please complete this workbook and e-mail it to lb13f@my.fsu.edu."
   ]
  },
  {
   "cell_type": "markdown",
   "metadata": {},
   "source": [
    "## Simple Formulas\n",
    "\n",
    "## 1 (20 points)\n",
    "\n",
    "Since I'm Canadian, I'm familiar with Celsius and have trouble figuring out the temperature here sometimes. \n",
    "\n",
    "The formula to conver Fahrenheit to Celsius is given by\n",
    "$$ C = \\frac{5}{9}(F - 32) $$\n",
    "\n",
    "Write a code snippet to calculate the temperature in Celsius rounded to the nearest tenth of a degree. "
   ]
  },
  {
   "cell_type": "code",
   "execution_count": 1,
   "metadata": {
    "collapsed": false
   },
   "outputs": [
    {
     "name": "stdout",
     "output_type": "stream",
     "text": [
      "31.1\n"
     ]
    }
   ],
   "source": [
    "F = 88\n",
    "C = (5/9)*(F - 32)\n",
    "\n",
    "print(round(C,1))"
   ]
  },
  {
   "cell_type": "markdown",
   "metadata": {},
   "source": [
    "Alternatively you could use text formatting."
   ]
  },
  {
   "cell_type": "code",
   "execution_count": 1,
   "metadata": {
    "collapsed": false
   },
   "outputs": [
    {
     "name": "stdout",
     "output_type": "stream",
     "text": [
      "31.1\n"
     ]
    }
   ],
   "source": [
    "F = 88\n",
    "C = (5/9)*(F - 32)\n",
    "\n",
    "print(\"%.1f\"%C)"
   ]
  },
  {
   "cell_type": "markdown",
   "metadata": {},
   "source": [
    "## Boolean Expressions\n",
    "\n",
    "## 2 (20 points)\n",
    "\n",
    "(Taken from Practice 2.15 in text) Write a code fragement that prints \"true\" if two strings are identical in a case insensitive manner and \"false\" otherwise. For example if the two strings are \"Hello\" and \"HeLLO\", your code should print \"true\""
   ]
  },
  {
   "cell_type": "code",
   "execution_count": null,
   "metadata": {
    "collapsed": false
   },
   "outputs": [],
   "source": [
    "s1 = \"Hello\"\n",
    "s2 = \"HeLLO\"\n",
    "\n",
    "print(s1.capitalize() == s2.capitalize())"
   ]
  },
  {
   "cell_type": "markdown",
   "metadata": {},
   "source": [
    "The `upper` or `lower` functions would also work."
   ]
  },
  {
   "cell_type": "markdown",
   "metadata": {},
   "source": [
    "## String Manipulations, Indexing\n",
    "\n",
    "## 3 (30 points) \n",
    "\n",
    "(Taken from exercise 2.37 in text) DNA can be modeled as a string of characters using the alphabet: `A`, `C`, `G`, and `T`. One form of DNA mutation occurs when a substring of the DNA is reversed during the replication process. Usually, such a reversal occurs between what are termed inverted pairs. For example, if the pattern `TGAA` is later followed by the inverted pattern `AAGT`, it is possible that the slice of DNA delimited by those patterns could be inverted and reattached, since the bonds at each end will be locally the same.\n",
    "\n",
    "An example is shown here.\n",
    "![dna inversion](images/dna_inversion.png)\n",
    "\n",
    "Design a program that works as follows. Given an original DNA string as well as the particular pattern that is inverted, locate the leftmost occurrence of that pattern, and the next subsequent occurrence of the inverted pattern. Print the mutated DNA, with the segment between the inverted pair reversed. Test your code on the example above.\n",
    "\n",
    "This problem is not trivial, but can be done using only string manipulation. Please ask if you need any hints. :-)"
   ]
  },
  {
   "cell_type": "code",
   "execution_count": 2,
   "metadata": {
    "collapsed": false
   },
   "outputs": [
    {
     "name": "stdout",
     "output_type": "stream",
     "text": [
      "TGAACATTAAGT\n",
      "TGAATTACAAGT\n"
     ]
    }
   ],
   "source": [
    "dna = \"TGAACATTAAGT\"\n",
    "pattern = \"TGAA\"\n",
    "\n",
    "# invert pattern\n",
    "# HINT: use slicing with negative step size\n",
    "pattern_inv = pattern[::-1]\n",
    "\n",
    "# find end index of first occurence of pattern\n",
    "# HINT: find the index in DNA sequence where pattern starts, then add the length of the pattern\n",
    "index1 = dna.find(pattern) + len(pattern) \n",
    "\n",
    "#find beginning of first occurence of inverted pattern\n",
    "index2 = dna.find(pattern_inv)\n",
    "\n",
    "# concatenate everything together\n",
    "# HINT: mutated DNA will look like:\n",
    "# (dna from 0 up to index1 - 1) + (reverse dna from index1 to index2 - 1) + (dna from index2 to the end)\n",
    "dna_mut = dna[:index1] + dna[index2-1:index1-1:-1] + dna[index2:]\n",
    "\n",
    "print(dna)\n",
    "print(dna_mut)"
   ]
  },
  {
   "cell_type": "markdown",
   "metadata": {},
   "source": [
    "## More Complicated Formulas, Order of Operations\n",
    "\n",
    "## 2 (30 points)\n",
    "\n",
    "The bell-shaped Gaussian is given by\n",
    "\n",
    "$$ f(x)  = \\frac{1}{\\sqrt{2\\pi}s}\\exp\\left(-\\frac{1}{2}\\left(\\frac{x - m}{s}\\right)^2\\right)$$\n",
    "\n",
    "Given $s$, $m$ and $x$, write a code snippet to evaluate $f(x)$. (Hint, you will need to import the `math` module.)"
   ]
  },
  {
   "cell_type": "code",
   "execution_count": 2,
   "metadata": {
    "collapsed": false
   },
   "outputs": [
    {
     "name": "stdout",
     "output_type": "stream",
     "text": [
      "0.17603266338214976\n"
     ]
    }
   ],
   "source": [
    "from math import *\n",
    "x = 1\n",
    "m = 0\n",
    "s = 2\n",
    "f = (1/(sqrt(2*pi)*s))*exp(-0.5*((x-m)/s)**2)\n",
    "\n",
    "print(f)"
   ]
  },
  {
   "cell_type": "markdown",
   "metadata": {
    "collapsed": true
   },
   "source": [
    "The $s$ is actually outside the square root. This is hard to see so I didn't dock marks if you put it inside the square root."
   ]
  }
 ],
 "metadata": {
  "anaconda-cloud": {},
  "kernelspec": {
   "display_name": "Python [Root]",
   "language": "python",
   "name": "Python [Root]"
  },
  "language_info": {
   "codemirror_mode": {
    "name": "ipython",
    "version": 3
   },
   "file_extension": ".py",
   "mimetype": "text/x-python",
   "name": "python",
   "nbconvert_exporter": "python",
   "pygments_lexer": "ipython3",
   "version": "3.5.2"
  }
 },
 "nbformat": 4,
 "nbformat_minor": 0
}
