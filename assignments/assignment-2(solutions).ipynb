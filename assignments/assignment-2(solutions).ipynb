{
 "cells": [
  {
   "cell_type": "markdown",
   "metadata": {},
   "source": [
    "# Assignment 2\n",
    "\n",
    "This is your second assignment. Please complete this workbook and e-mail it to lb13f@my.fsu.edu by 11:59 pm on Friday June 16th, 2017.\n",
    "\n",
    "Name:\n"
   ]
  },
  {
   "cell_type": "code",
   "execution_count": 3,
   "metadata": {
    "collapsed": true
   },
   "outputs": [],
   "source": [
    "# import NumPy\n",
    "\n",
    "import numpy as np"
   ]
  },
  {
   "cell_type": "markdown",
   "metadata": {},
   "source": [
    "## NumPy Arrays - Operations and Functions\n",
    "\n",
    "## 1a (10 points)\n",
    "\n",
    "Write a code fragement that computes the average value of a 2D array. Test it on the array:\n",
    "\n",
    "$$\\begin{bmatrix} 0.1 & 0.8 & 0.8\\\\0.2 & 0.4 & 1.1\\\\ 1.3 & 0.9 & 1.1\\end{bmatrix}$$\n",
    "\n",
    "Do not hard code in the number of elements in the array. Your code should work for a 2D array of any size.\n",
    "\n",
    "Hint: use the `sum` function."
   ]
  },
  {
   "cell_type": "code",
   "execution_count": 4,
   "metadata": {
    "collapsed": false
   },
   "outputs": [
    {
     "name": "stdout",
     "output_type": "stream",
     "text": [
      "0.744444444444\n"
     ]
    }
   ],
   "source": [
    "# code for 1a\n",
    "\n",
    "A = np.array([[0.1,0.8,0.8],[0.2,0.4,1.1],[1.3,0.9,1.1]])\n",
    "\n",
    "avg = np.sum(A)/A.size\n",
    "print(avg)"
   ]
  },
  {
   "cell_type": "markdown",
   "metadata": {},
   "source": [
    "Alternatively, the `np.average` function does this directly."
   ]
  },
  {
   "cell_type": "code",
   "execution_count": 5,
   "metadata": {
    "collapsed": false
   },
   "outputs": [
    {
     "name": "stdout",
     "output_type": "stream",
     "text": [
      "0.744444444444\n"
     ]
    }
   ],
   "source": [
    "print(np.average(A))"
   ]
  },
  {
   "cell_type": "markdown",
   "metadata": {},
   "source": [
    "## 1b (10 points)\n",
    "\n",
    "Write a code fragment that computes the average of each column in the above array. Do not hard code in the number of rows. Your code should work for a 2D array of any size."
   ]
  },
  {
   "cell_type": "code",
   "execution_count": 23,
   "metadata": {
    "collapsed": false
   },
   "outputs": [
    {
     "name": "stdout",
     "output_type": "stream",
     "text": [
      "[ 0.53333333  0.7         1.        ]\n"
     ]
    }
   ],
   "source": [
    "# code for 1b\n",
    "\n",
    "A = np.array([[0.1,0.8,0.8],[0.2,0.4,1.1],[1.3,0.9,1.1]])\n",
    "col_avg = np.sum(A, axis=0)/A.shape[0]\n",
    "\n",
    "print(col_avg)"
   ]
  },
  {
   "cell_type": "markdown",
   "metadata": {},
   "source": [
    "## NumPy Arrays - Indexing and Slicing\n",
    "\n",
    "## 2 (20 points)\n",
    "\n",
    "Create an $n\\times n$ 2D array that contains 1s along the edges and 0s everywhere else. For example the $n=4$ array looks like:\n",
    "\n",
    "$$ \\begin{bmatrix} 1 & 1 & 1 & 1\\\\ 1 & 0 & 0 & 1\\\\1 & 0 & 0 & 1\\\\1 & 1 & 1& 1\\end{bmatrix} $$.\n",
    "\n",
    "Hint: the command `np.zeros((n,n))` creates an $n\\times n$ array of all 0s."
   ]
  },
  {
   "cell_type": "code",
   "execution_count": 27,
   "metadata": {
    "collapsed": false
   },
   "outputs": [
    {
     "name": "stdout",
     "output_type": "stream",
     "text": [
      "[[ 1.  1.  1.  1.  1.  1.  1.  1.  1.  1.]\n",
      " [ 1.  0.  0.  0.  0.  0.  0.  0.  0.  1.]\n",
      " [ 1.  0.  0.  0.  0.  0.  0.  0.  0.  1.]\n",
      " [ 1.  0.  0.  0.  0.  0.  0.  0.  0.  1.]\n",
      " [ 1.  0.  0.  0.  0.  0.  0.  0.  0.  1.]\n",
      " [ 1.  0.  0.  0.  0.  0.  0.  0.  0.  1.]\n",
      " [ 1.  0.  0.  0.  0.  0.  0.  0.  0.  1.]\n",
      " [ 1.  0.  0.  0.  0.  0.  0.  0.  0.  1.]\n",
      " [ 1.  0.  0.  0.  0.  0.  0.  0.  0.  1.]\n",
      " [ 1.  1.  1.  1.  1.  1.  1.  1.  1.  1.]]\n"
     ]
    }
   ],
   "source": [
    "# code for 2\n",
    "\n",
    "n = 10\n",
    "\n",
    "A = np.zeros((n,n))\n",
    "A[0,:] = 1\n",
    "A[:,0] = 1\n",
    "A[:,-1] = 1\n",
    "A[-1,:] = 1\n",
    "\n",
    "print(A)"
   ]
  },
  {
   "cell_type": "markdown",
   "metadata": {
    "collapsed": true
   },
   "source": [
    "## Finite Difference\n",
    "\n",
    "## 3a (20 points)\n",
    "\n",
    "We saw in class how to apply finite difference to compute the velocity of of a runner from a table of positions. We can also use finite difference to compute the derivate of a known function $f(x)$. \n",
    "\n",
    "The forward finite difference can be expressed as:\n",
    "\n",
    "$$f'(x) \\approx \\frac{f(x + h) - f(x)}{h}$$\n",
    "\n",
    "Backward finite difference as:\n",
    "$$f'(x) \\approx \\frac{f(x) - f(x - h)}{h}$$\n",
    "\n",
    "Centered finite difference as:\n",
    "$$f'(x) \\approx \\frac{f(x+h) - f(x-h)}{2h}$$\n",
    "\n",
    "Use these formulas to approximate the derivate of the function $f(x) = \\sin(x)$ at the point $x = 0.5$. I'd like you to complete the following table:\n",
    "\n",
    "| h|  ffd error | bfd error | cfd error|\n",
    "|-----------|------|\n",
    "|0.5 |  | | |\n",
    "|0.25 | |  | | \n",
    "|0.125 |  | | |\n",
    "|0.0625|  | | | \n",
    "\n",
    "Where ffd, bfd and cfd are the errors in the forward, backward and center finite difference approximation respectively. To compute the error remember that we actually know the exact derivative, $f'(0.5) = \\cos(0.5)$. \n",
    "\n",
    "(By complete the table, I mean compute and print enough information that I could fill it in if I wanted to.)"
   ]
  },
  {
   "cell_type": "code",
   "execution_count": 2,
   "metadata": {
    "collapsed": false
   },
   "outputs": [
    {
     "name": "stdout",
     "output_type": "stream",
     "text": [
      "[0.15349166948298576, 0.06872967621384829, 0.032208687200299124, 0.015548402981298892]\n",
      "[0.08126851531803325, 0.050503755508347514, 0.027641514254870714, 0.014405940513866788]\n",
      "[0.036111577082476254, 0.009112960352750443, 0.0022835864727142052, 0.0005712312337160519]\n"
     ]
    }
   ],
   "source": [
    "from math import sin, cos\n",
    "\n",
    "# initialize empty lists\n",
    "ffd_error = []\n",
    "bfd_error = []\n",
    "cfd_error = []\n",
    "\n",
    "# define x\n",
    "x = 0.5\n",
    "\n",
    "h = 0.5\n",
    "# compute errors with h=0.5\n",
    "ffd_error.append(abs((sin(x + h) - sin(x))/h - cos(x)))\n",
    "bfd_error.append(abs((sin(x) - sin(x - h))/h - cos(x)))\n",
    "cfd_error.append(abs((sin(x+h)-sin(x-h))/(2*h) - cos(x)))\n",
    "\n",
    "h = 0.25\n",
    "# compute errors with h=0.25\n",
    "ffd_error.append(abs((sin(x + h) - sin(x))/h - cos(x)))\n",
    "bfd_error.append(abs((sin(x) - sin(x - h))/h - cos(x)))\n",
    "cfd_error.append(abs((sin(x+h)-sin(x-h))/(2*h) - cos(x)))\n",
    "\n",
    "h = 0.125\n",
    "# compute errors with h=0.25\n",
    "ffd_error.append(abs((sin(x + h) - sin(x))/h - cos(x)))\n",
    "bfd_error.append(abs((sin(x) - sin(x - h))/h - cos(x)))\n",
    "cfd_error.append(abs((sin(x+h)-sin(x-h))/(2*h) - cos(x)))\n",
    "\n",
    "h = 0.0625\n",
    "# compute errors with h=0.25\n",
    "ffd_error.append(abs((sin(x + h) - sin(x))/h - cos(x)))\n",
    "bfd_error.append(abs((sin(x) - sin(x - h))/h - cos(x)))\n",
    "cfd_error.append(abs((sin(x+h)-sin(x-h))/(2*h) - cos(x)))\n",
    "\n",
    "print(ffd_error)\n",
    "print(bfd_error)\n",
    "print(cfd_error)"
   ]
  },
  {
   "cell_type": "markdown",
   "metadata": {},
   "source": [
    "## 3b (10 points)\n",
    "\n",
    "Plot the errors vs. h on the same plot. Include a legend, axis labels and title. What is this plot telling you?"
   ]
  },
  {
   "cell_type": "code",
   "execution_count": 3,
   "metadata": {
    "collapsed": false
   },
   "outputs": [
    {
     "data": {
      "text/plain": [
       "<matplotlib.legend.Legend at 0x151904f5668>"
      ]
     },
     "execution_count": 3,
     "metadata": {},
     "output_type": "execute_result"
    },
    {
     "data": {
      "image/png": "[encoded data removed]",
      "text/plain": [
       "<matplotlib.figure.Figure at 0x1518e4a1dd8>"
      ]
     },
     "metadata": {},
     "output_type": "display_data"
    }
   ],
   "source": [
    "%matplotlib inline\n",
    "import matplotlib.pyplot as plt\n",
    "\n",
    "plt.plot([0.5,0.25,0.125,0.0625], ffd_error)\n",
    "plt.plot([0.5,0.25,0.125,0.0625], bfd_error)\n",
    "plt.plot([0.5,0.25,0.125,0.0625], cfd_error)\n",
    "\n",
    "plt.legend([\"forward finite difference\", \"backward finite difference\", \"centered finite difference\"])"
   ]
  },
  {
   "cell_type": "markdown",
   "metadata": {},
   "source": [
    "## Reimann Sums\n",
    "\n",
    "## 4a (20 points)\n",
    "\n",
    "In class we saw the left and right Reimann sums. Recall that if we split the domain into $N$ equally spaced intervals of length $h$ the formula to compute these sums are given by:\n",
    "\n",
    "$$\\int_a^b f(x)\\text{d}x \\approx R_{L} = h\\sum\\limits_{k=0}^{N-1} f(x_k)$$\n",
    "$$\\int_a^b f(x)\\text{d}x \\approx R_{R} = h\\sum\\limits_{k=1}^{N} f(x_k)$$\n",
    "\n",
    "Reimann sums approximate integrals with the sum of a bunch of rectangles. Another similar way to compute these integrals is with the sum of trapezoids. \n"
   ]
  },
  {
   "cell_type": "code",
   "execution_count": 31,
   "metadata": {
    "collapsed": false
   },
   "outputs": [
    {
     "data": {
      "text/plain": [
       "<matplotlib.text.Text at 0x151909c5550>"
      ]
     },
     "execution_count": 31,
     "metadata": {},
     "output_type": "execute_result"
    },
    {
     "data": {
      "image/png": "[encoded data removed]",
      "text/plain": [
       "<matplotlib.figure.Figure at 0x15190952278>"
      ]
     },
     "metadata": {},
     "output_type": "display_data"
    }
   ],
   "source": [
    "\n",
    "x_rem = np.array([0, 0.25, 0.25, 0.5, 0.5, 0.75, 0.75, 1])\n",
    "y_rem = np.exp(-x_rem**2)\n",
    "plt.fill_between(x_rem, 0, y_rem, facecolor=\"r\", alpha = 0.2)\n",
    "x = np.linspace(0,1,100)\n",
    "plt.plot(x, np.exp(-x**2))\n",
    "plt.title(\"Trapezoid Sum\")"
   ]
  },
  {
   "cell_type": "markdown",
   "metadata": {},
   "source": [
    "Recall that the area of a trapezoid with width $h$ and side lengths $L_1$ and $L_2$ is given by:\n",
    "$$ A = h\\frac{L_1 + L_2}{2}$$.\n",
    "\n",
    "Now if the length of the sides is just the height of the function at two discrete points, $x_i$ and $x_{i+1}$, then this area is given by:\n",
    "$$ A = h\\frac{f(x_i) + f(x_{i+1})}{2}$$\n",
    "\n",
    "The total area is then the sum of these trapezoids. Since the left edge of a trapezoid is equivalent to the right side of its left neighbor we when we add them together the factor of 1/2 disappears. This happens for all the points except the left most and the right most. (If this doesn't make sense to you don't worry about it.) The formula for the trapezoid rule is then just:\n",
    "\n",
    "\n",
    "$$\\int_a^b f(x)\\text{d}x \\approx R_{T} = h\\sum\\limits_{k=1}^{N-1} f(x_k) + \\frac{h}{2}f(x_0) + \\frac{h}{2}f(x_N)$$\n",
    "\n",
    "Write some code to approximate the integral of the function $y = \\sin(x)$ on the interval $0\\leq x\\leq 1$ using the trapezoid rule. Compute the error (given that the exact solution is $cos(0) - cos(1) = 1 - cos(1)$) using the trapezoid rule and compare it to the error using the left and right Reimann sums. As in 3a, give me enough information to compute the table:\n",
    "\n",
    "| N|  left error | right error | trapezoid error|\n",
    "|-----------|------|\n",
    "|4 |  | | |\n",
    "|8 | |  | | \n",
    "|16 |  | | |\n",
    "|32|  | | | |\n"
   ]
  },
  {
   "cell_type": "code",
   "execution_count": 33,
   "metadata": {
    "collapsed": false
   },
   "outputs": [
    {
     "name": "stdout",
     "output_type": "stream",
     "text": [
      "[0.10278711654062889, 0.051993215910354884, 0.026146317355601356, 0.013110573234598966]\n",
      "[0.10758062966134518, 0.053190657190632096, 0.026445619194892189, 0.013185395040647807]\n",
      "[0.0023967565603580931, 0.00059872064013866133, 0.00014965091964547206, 3.7410903024281961e-05]\n"
     ]
    }
   ],
   "source": [
    "# initialize empty lists\n",
    "left_error = []\n",
    "right_error = []\n",
    "trap_error = []\n",
    "\n",
    "\n",
    "N = 4\n",
    "# compute errors with N=4\n",
    "x = np.linspace(0,1,N+1)\n",
    "h = 1/N\n",
    "\n",
    "left_error.append(abs(h*np.sum(np.sin(x[1:])) - (1 - np.cos(1))))\n",
    "right_error.append(abs(h*np.sum(np.sin(x[0:-1])) - (1 - np.cos(1))))\n",
    "trap_error.append(abs(h*np.sum(np.sin(x[1:-1])) + 0.5*h*(np.sin(x[0]) + np.sin(x[-1])) - (1 - np.cos(1))))\n",
    "\n",
    "N = 8\n",
    "# compute errors with N=8\n",
    "x = np.linspace(0,1,N+1)\n",
    "h = 1/N\n",
    "\n",
    "left_error.append(abs(h*np.sum(np.sin(x[1:])) - (1 - np.cos(1))))\n",
    "right_error.append(abs(h*np.sum(np.sin(x[0:-1])) - (1 - np.cos(1))))\n",
    "trap_error.append(abs(h*np.sum(np.sin(x[1:-1])) + 0.5*h*(np.sin(x[0]) + np.sin(x[-1])) - (1 - np.cos(1))))\n",
    "\n",
    "N = 16\n",
    "# compute errors with N=16\n",
    "x = np.linspace(0,1,N+1)\n",
    "h = 1/N\n",
    "\n",
    "left_error.append(abs(h*np.sum(np.sin(x[1:])) - (1 - np.cos(1))))\n",
    "right_error.append(abs(h*np.sum(np.sin(x[0:-1])) - (1 - np.cos(1))))\n",
    "trap_error.append(abs(h*np.sum(np.sin(x[1:-1])) + 0.5*h*(np.sin(x[0]) + np.sin(x[-1])) - (1 - np.cos(1))))\n",
    "\n",
    "N=32\n",
    "# compute errors with N=32\n",
    "x = np.linspace(0,1,N+1)\n",
    "h = 1/N\n",
    "\n",
    "left_error.append(abs(h*np.sum(np.sin(x[1:])) - (1 - np.cos(1))))\n",
    "right_error.append(abs(h*np.sum(np.sin(x[0:-1])) - (1 - np.cos(1))))\n",
    "trap_error.append(abs(h*np.sum(np.sin(x[1:-1])) + 0.5*h*(np.sin(x[0]) + np.sin(x[-1])) - (1 - np.cos(1))))\n",
    "\n",
    "print(left_error)\n",
    "print(right_error)\n",
    "print(trap_error)"
   ]
  },
  {
   "cell_type": "markdown",
   "metadata": {},
   "source": [
    "## 4b (10 points)\n",
    "\n",
    "Plot the errors vs. N on the same plot. Include a legend, axis labels and title. What is this plot telling you?"
   ]
  },
  {
   "cell_type": "code",
   "execution_count": 34,
   "metadata": {
    "collapsed": false
   },
   "outputs": [
    {
     "data": {
      "text/plain": [
       "<matplotlib.legend.Legend at 0x15190a60e80>"
      ]
     },
     "execution_count": 34,
     "metadata": {},
     "output_type": "execute_result"
    },
    {
     "data": {
      "image/png": "[encoded data removed]",
      "text/plain": [
       "<matplotlib.figure.Figure at 0x15190a46710>"
      ]
     },
     "metadata": {},
     "output_type": "display_data"
    }
   ],
   "source": [
    "plt.plot([4,8,16,32], left_error)\n",
    "plt.plot([4,8,16,32], right_error)\n",
    "plt.plot([4,8,16,32], trap_error)\n",
    "\n",
    "plt.legend([\"left Reimann sum\", \"right Reimann sum\", \"trapezoid rule\"])"
   ]
  },
  {
   "cell_type": "code",
   "execution_count": null,
   "metadata": {
    "collapsed": true
   },
   "outputs": [],
   "source": []
  }
 ],
 "metadata": {
  "anaconda-cloud": {},
  "kernelspec": {
   "display_name": "Python [Root]",
   "language": "python",
   "name": "Python [Root]"
  },
  "language_info": {
   "codemirror_mode": {
    "name": "ipython",
    "version": 3
   },
   "file_extension": ".py",
   "mimetype": "text/x-python",
   "name": "python",
   "nbconvert_exporter": "python",
   "pygments_lexer": "ipython3",
   "version": "3.5.2"
  }
 },
 "nbformat": 4,
 "nbformat_minor": 0
}
