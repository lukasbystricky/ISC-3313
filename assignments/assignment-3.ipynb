{
 "cells": [
  {
   "cell_type": "markdown",
   "metadata": {},
   "source": [
    "# Assignment 3\n",
    "\n",
    "Due: Friday July 7th, 2017 at 11:59 pm"
   ]
  },
  {
   "cell_type": "markdown",
   "metadata": {},
   "source": [
    "## For Loops, Recurrence Relations\n",
    "\n",
    "## 1a (20 points)\n",
    "\n",
    "H. Vogel proposed the following model for the pattern for florests in the head of a sunflower. In polar coordinates, the position of floret $n$ is given by:\n",
    "\n",
    "$$ \\theta_n = \\frac{2\\pi}{\\phi^2}n, \\qquad r_n = c\\sqrt{n},$$\n",
    "\n",
    "where $\\phi = \\left(1+\\sqrt{5}\\right)/2$ and $c$ is a constant scaling factor. We will take $c=1$.\n",
    "\n",
    "Compute and plot the first 500 such coordinates. It may be useful to recall the relationship between Cartesian and polar coordinates:\n",
    "\n",
    "$$x = r\\cos(\\theta), \\qquad  y = r\\sin(\\theta).$$"
   ]
  },
  {
   "cell_type": "code",
   "execution_count": null,
   "metadata": {
    "collapsed": false
   },
   "outputs": [],
   "source": [
    "# display plots inline\n",
    "%matplotlib inline\n",
    "\n",
    "# import NumPy and matplotlib\n",
    "import numpy as np\n",
    "import matplotlib.pyplot as plt\n",
    "\n",
    "# set N, create empty list for x and y coordinates\n",
    "N = 500\n",
    "x = []\n",
    "y = []\n",
    "\n",
    "# set phi and c\n",
    "phi = 0.5*(1 + np.sqrt(5))\n",
    "c = 1\n",
    "\n",
    "# loop from 0 to N-1\n",
    "for n in range(N):\n",
    "    # compute theta and r\n",
    "     \n",
    "    # convert (theta, r) to (x,y), append to list\n",
    "\n",
    "# plot points as black dots\n",
    "plt.plot(x,y,\"k.\")\n",
    "plt.axis('equal')"
   ]
  },
  {
   "cell_type": "markdown",
   "metadata": {},
   "source": [
    "## 1b (10 points)\n",
    "\n",
    "The parameter $\\phi$ determines the *spiral angle*. The value $\\left(1+\\sqrt{5}\\right)/2$ is known as the \"golden angle\". Suppose we wish to study the Vogel patterns at different values of $\\phi$, say, \n",
    "\n",
    "$$\\phi_j = \\frac{1+\\sqrt{5}}{2} + \\frac{2\\pi j}{360}, \\qquad j= -2,-1,1,2.$$ \n",
    "\n",
    "These perturbations ($2\\pi j/360$) correspond to a difference of $j$ degrees but since $\\phi$ is in radians we have to convert the perturbation to radians. \n",
    "\n",
    "Using a nested for loop, plot the Vogel patterns for the four values of $j$ above in a single subplot. For clarity use $N=50$."
   ]
  },
  {
   "cell_type": "code",
   "execution_count": null,
   "metadata": {
    "collapsed": false
   },
   "outputs": [],
   "source": [
    "# set N\n",
    "N = 50\n",
    "\n",
    "# create list containing perturbations\n",
    "perturbations = [-2,-1,1,2]\n",
    "\n",
    "# set c\n",
    "c = 1\n",
    "# loop over perturbations\n",
    "for j in range(len(perturbations)):\n",
    "    # set phi\n",
    "    phi = 0.5*(1 + np.sqrt(5)) + 2*np.pi*perturbations[j]/360\n",
    "    \n",
    "    # create empty list for x and y\n",
    "    x = []\n",
    "    y = []\n",
    "    # loop from 0 to N-1\n",
    "    for n in range(N):\n",
    "        # compute theta and r\n",
    "        \n",
    "    \n",
    "        # convert (theta, r) to (x,y), append to list\n",
    "\n",
    "\n",
    "    # plot points as black dots\n",
    "    plt.subplot(2,2,j+1)\n",
    "    \n",
    "# make subplots spacing better\n",
    "plt.tight_layout()"
   ]
  },
  {
   "cell_type": "markdown",
   "metadata": {},
   "source": [
    "## Reimann Sums Revisited, More For Loops\n",
    "\n",
    "## 2a (20 points)\n",
    "\n",
    "Consider again the Reimann sum. Earlier we wrote it by passing in a NumPy array of values to the function. Recall the left Reimann sum: "
   ]
  },
  {
   "cell_type": "code",
   "execution_count": 2,
   "metadata": {
    "collapsed": false
   },
   "outputs": [
    {
     "name": "stdout",
     "output_type": "stream",
     "text": [
      "error =  0.000167836106007\n"
     ]
    }
   ],
   "source": [
    "N = 100\n",
    "a = 0\n",
    "b = np.pi\n",
    "h = (b - a)/(N-1)\n",
    "x = np.linspace(a, b, N)\n",
    "x = x[:-1]\n",
    "I = np.sum(np.sin(x))*h\n",
    "print(\"error = \", abs(I - 2))"
   ]
  },
  {
   "cell_type": "markdown",
   "metadata": {},
   "source": [
    "We can also implement Reimann sums using for loops. Write a code snippet that evaluates the left Reimann sum to approximate $\\int_0^\\pi \\sin(x)\\text{d}x$ without using `np.linspace`. Make sure that your error with N=100 is the same as above."
   ]
  },
  {
   "cell_type": "code",
   "execution_count": null,
   "metadata": {
    "collapsed": true
   },
   "outputs": [],
   "source": [
    "N = 100\n",
    "a = 0\n",
    "b = np.pi\n",
    "h = (b - a)/(N-1)\n",
    "\n",
    "I = 0\n",
    "for i in range(N):\n",
    "    \n",
    "print(\"error = \", abs(I - 2))"
   ]
  },
  {
   "cell_type": "markdown",
   "metadata": {},
   "source": [
    "## 2b (10 points)\n",
    "\n",
    "Now we have two methods to evaluate the Reimann sum. Which one runs faster?\n",
    "\n",
    "To figure this out we will use the `time` module. Calling `time.time()` returns the number of seconds since January 1st 1970.\n"
   ]
  },
  {
   "cell_type": "code",
   "execution_count": null,
   "metadata": {
    "collapsed": false
   },
   "outputs": [],
   "source": [
    "import time\n",
    "print(time.time())"
   ]
  },
  {
   "cell_type": "markdown",
   "metadata": {},
   "source": [
    "To tell how long a code snippet takes to run, we calculate the time before the code executes and after the code executes. The difference tells us how long the code took to run. The process looks something like this:\n",
    "\n",
    "    t0 = time.time()\n",
    "    code ....\n",
    "    t1 = time.time()\n",
    "    print(\"code took\", t1 - t0, \"seconds to execute\")\n",
    "    \n",
    "The Reimann sum code executes quite quickly, so to get meaningful results we should use a big N, say N = 100000. Time your linspace code and your for loop code. Which one is faster? "
   ]
  },
  {
   "cell_type": "code",
   "execution_count": null,
   "metadata": {
    "collapsed": false
   },
   "outputs": [],
   "source": [
    "# import time module\n",
    "import time\n",
    "\n",
    "# set N, a, b and compute h\n",
    "N = 100000\n",
    "a = 0\n",
    "b = np.pi\n",
    "h = (b - a)/(N-1)\n",
    "\n",
    "# time linspace version of code\n",
    "t0 = time.time()\n",
    "\n",
    "t1 = time.time()\n",
    "\n",
    "# compute elapsed time\n",
    "t_linspace = t1 - t0\n",
    "\n",
    "# time for loop version of code\n",
    "t0 = time.time()\n",
    "\n",
    "t1 = time.time()\n",
    "\n",
    "# compute elapsed time\n",
    "t_for = t1 - t0\n",
    "\n",
    "# print results.\n",
    "print(\"linspace took\", t_linspace, \"seconds\")\n",
    "print(\"for loop took\", t_for, \"seconds\")"
   ]
  },
  {
   "cell_type": "markdown",
   "metadata": {
    "collapsed": true
   },
   "source": [
    "## Monte Carlo, Statistics and Chaotic Maps\n",
    "\n",
    "Consider the logistic map:\n",
    "\n",
    "$$ x_i = r x_i(1 - x_i),$$\n",
    "\n",
    "where $r$ is a constant bewteen 0 and 4. This can be thought of as a simple population model. In particular it captures two effects:\n",
    "1. reproduction is proportional to the current population when the population is small\n",
    "2. starvation causes a decrease in the growth rate as the population gets larger\n",
    "\n",
    "## 3a (10 points)\n",
    "\n",
    "Complete the following function that determines the first $N$ numbers in the logistic map."
   ]
  },
  {
   "cell_type": "code",
   "execution_count": null,
   "metadata": {
    "collapsed": false
   },
   "outputs": [],
   "source": [
    "import numpy as np\n",
    "\n",
    "def logistic_map(x0, r, N):\n",
    "    \"\"\"\n",
    "    Returns the first N points in the logistic map starting from x0\n",
    "    \n",
    "    Parameters\n",
    "    ----------\n",
    "    x0 : float\n",
    "        initial x value\n",
    "    r  : float\n",
    "        constant in logisitic map\n",
    "    N  : int\n",
    "        the number of points to compute\n",
    "        \n",
    "    Returns\n",
    "    -------\n",
    "    x  : list\n",
    "        a list of all N x values\n",
    "    \n",
    "    \"\"\"\n",
    "    \n",
    "        \n",
    "    return x"
   ]
  },
  {
   "cell_type": "markdown",
   "metadata": {},
   "source": [
    "## 3b (10 points)\n",
    "\n",
    "Test your function with the following values of $r$:\n",
    "\n",
    "a) $r=0.5$\n",
    "\n",
    "b) $r=1.5$\n",
    "\n",
    "c) $r=3$\n",
    "\n",
    "d) $r=3.75$\n",
    "\n",
    "Plot the first 50 steps for each case starting from $x_0 = 0.5$. The plot can contain 4 lines, but make sure to include a legend."
   ]
  },
  {
   "cell_type": "code",
   "execution_count": null,
   "metadata": {
    "collapsed": false
   },
   "outputs": [],
   "source": []
  },
  {
   "cell_type": "markdown",
   "metadata": {
    "collapsed": true
   },
   "source": [
    "## 3c (20 points)\n",
    "\n",
    "As you should have noticed in part b, the behaviour of the population as $i$ increases depends on the value of $r$. For some values of $r$ the population dies off (goes to 0), for others it reaches a steady non-zero population and for others it either oscillates between two population population levels or displays an unpredicatable (chaotic) pattern.\n",
    "\n",
    "Suppose that we do not know the exact value of $r$, but we know that it follows a normal distribution with mean 1.1 and standard deviation 0.3. Write a Monte Carlo simulation to determine the probablility that the population dies off. \n",
    "\n",
    "To test this, run 10,000 simulations with an $r$ value drawn from the appropriate distribution. Call your logistic function with that $r$ value, initial condition $x_0=0.5$ and $N=1000$. To determine if the population has died off, check if the last value in the sequence is less than $10^{-5}$."
   ]
  },
  {
   "cell_type": "code",
   "execution_count": null,
   "metadata": {
    "collapsed": false
   },
   "outputs": [],
   "source": [
    "    "
   ]
  }
 ],
 "metadata": {
  "anaconda-cloud": {},
  "kernelspec": {
   "display_name": "Python [Root]",
   "language": "python",
   "name": "Python [Root]"
  },
  "language_info": {
   "codemirror_mode": {
    "name": "ipython",
    "version": 3
   },
   "file_extension": ".py",
   "mimetype": "text/x-python",
   "name": "python",
   "nbconvert_exporter": "python",
   "pygments_lexer": "ipython3",
   "version": "3.5.2"
  }
 },
 "nbformat": 4,
 "nbformat_minor": 0
}
