{
 "cells": [
  {
   "cell_type": "markdown",
   "metadata": {},
   "source": [
    "# Assignment 2\n",
    "\n",
    "This is your second assignment. Please complete this workbook and e-mail it to lb13f@my.fsu.edu by 11:59 pm on Friday June 16th, 2017.\n",
    "\n",
    "Name:\n"
   ]
  },
  {
   "cell_type": "code",
   "execution_count": 2,
   "metadata": {
    "collapsed": true
   },
   "outputs": [],
   "source": [
    "# import NumPy\n",
    "\n",
    "import numpy as np"
   ]
  },
  {
   "cell_type": "markdown",
   "metadata": {},
   "source": [
    "## NumPy Arrays - Operations and Functions\n",
    "\n",
    "## 1a (10 points)\n",
    "\n",
    "Write a code fragement that computes the average value of a 2D array. Test it on the array:\n",
    "\n",
    "$$\\begin{bmatrix} 0.1 & 0.8 & 0.8\\\\0.2 & 0.4 & 1.1\\\\ 1.3 & 0.9 & 1.1\\end{bmatrix}$$\n",
    "\n",
    "Do not hard code in the number of elements in the array. Your code should work for a 2D array of any size.\n",
    "\n",
    "Hint: use the `sum` function."
   ]
  },
  {
   "cell_type": "code",
   "execution_count": null,
   "metadata": {
    "collapsed": false
   },
   "outputs": [],
   "source": [
    "# code for 1a\n",
    "\n",
    "A = ...\n",
    "\n",
    "avg = ...\n",
    "print(avg)"
   ]
  },
  {
   "cell_type": "markdown",
   "metadata": {},
   "source": [
    "## 1b (10 points)\n",
    "\n",
    "Write a code fragment that computes the average of each column in the above array. Do not hard code in the number of rows. Your code should work for a 2D array of any size."
   ]
  },
  {
   "cell_type": "code",
   "execution_count": null,
   "metadata": {
    "collapsed": false
   },
   "outputs": [],
   "source": [
    "# code for 1b\n",
    "\n",
    "col_avg = ...\n",
    "\n",
    "print(col_avg)"
   ]
  },
  {
   "cell_type": "markdown",
   "metadata": {},
   "source": [
    "## NumPy Arrays - Indexing and Slicing\n",
    "\n",
    "## 2 (20 points)\n",
    "\n",
    "Create an $n\\times n$ 2D array that contains 1s along the edges and 0s everywhere else. For example the $n=4$ array looks like:\n",
    "\n",
    "$$ \\begin{bmatrix} 1 & 1 & 1 & 1\\\\ 1 & 0 & 0 & 1\\\\1 & 0 & 0 & 1\\\\1 & 1 & 1& 1\\end{bmatrix} $$.\n",
    "\n",
    "Hint: the command `np.zeros((n,n))` creates an $n\\times n$ array of all 0s."
   ]
  },
  {
   "cell_type": "code",
   "execution_count": null,
   "metadata": {
    "collapsed": false
   },
   "outputs": [],
   "source": [
    "# code for 2\n",
    "\n",
    "n = 10\n",
    "\n",
    "A = np.zeros((n,n))\n",
    "....\n",
    "\n",
    "print(A)"
   ]
  },
  {
   "cell_type": "markdown",
   "metadata": {
    "collapsed": true
   },
   "source": [
    "## Finite Difference\n",
    "\n",
    "## 3a (20 points)\n",
    "\n",
    "We saw in class how to apply finite difference to compute the velocity of of a runner from a table of positions. We can also use finite difference to compute the derivate of a known function $f(x)$. \n",
    "\n",
    "The forward finite difference can be expressed as:\n",
    "\n",
    "$$f'(x) \\approx \\frac{f(x + h) - f(x)}{h}$$\n",
    "\n",
    "Backward finite difference as:\n",
    "$$f'(x) \\approx \\frac{f(x) - f(x - h)}{h}$$\n",
    "\n",
    "Centered finite difference as:\n",
    "$$f'(x) \\approx \\frac{f(x+h) - f(x-h)}{2h}$$\n",
    "\n",
    "Use these formulas to approximate the derivate of the function $f(x) = \\sin(x)$ at the point $x = 0.5$. I'd like you to complete the following table:\n",
    "\n",
    "| h|  ffd error | bfd error | cfd error|\n",
    "|-----------|------|\n",
    "|0.5 |  | | |\n",
    "|0.25 | |  | | \n",
    "|0.125 |  | | |\n",
    "|0.0625|  | | | |\n",
    "\n",
    "Where ffd, bfd and cfd are the errors in the forward, backward and center finite difference approximation respectively. To compute the error remember that we actually know the exact derivative, $f'(0.5) = \\cos(0.5)$. \n",
    "\n",
    "(By complete the table, I mean compute and print enough information that I could fill it in if I wanted to.)"
   ]
  },
  {
   "cell_type": "code",
   "execution_count": null,
   "metadata": {
    "collapsed": false
   },
   "outputs": [],
   "source": [
    "#code for 3a\n",
    "\n",
    "# initialize empty lists\n",
    "ffd_error = []\n",
    "bfd_error = []\n",
    "cfd_error = []\n",
    "\n",
    "# define x\n",
    "x = 0.5\n",
    "\n",
    "h = 0.5\n",
    "# compute errors with h=0.5\n",
    "...\n",
    "\n",
    "h = 0.25\n",
    "# compute errors with h=0.25\n",
    "...\n",
    "\n",
    "h = 0.125\n",
    "# compute errors with h=0.25\n",
    "...\n",
    "\n",
    "h = 0.0625\n",
    "# compute errors with h=0.25\n",
    "...\n",
    "\n",
    "print(ffd_error)\n",
    "print(bfd_error)\n",
    "print(cfd_error)"
   ]
  },
  {
   "cell_type": "markdown",
   "metadata": {},
   "source": [
    "## 3b (10 points)\n",
    "\n",
    "Plot the errors vs. h on the same plot. Include a legend, axis labels and title. What is this plot telling you?"
   ]
  },
  {
   "cell_type": "code",
   "execution_count": 4,
   "metadata": {
    "collapsed": false
   },
   "outputs": [],
   "source": [
    "# code for 3b\n",
    "\n",
    "%matplotlib inline\n",
    "import matplotlib.pyplot as plt\n",
    "\n",
    "..."
   ]
  },
  {
   "cell_type": "markdown",
   "metadata": {},
   "source": [
    "## Reimann Sums\n",
    "\n",
    "## 4a (20 points)\n",
    "\n",
    "In class we saw the left and right Reimann sums. Recall that if we split the domain into $N$ equally spaced intervals of length $h$ the formula to compute these sums are given by:\n",
    "\n",
    "$$\\int_a^b f(x)\\text{d}x \\approx R_{L} = h\\sum\\limits_{k=0}^{N-1} f(x_k)$$\n",
    "$$\\int_a^b f(x)\\text{d}x \\approx R_{R} = h\\sum\\limits_{k=1}^{N} f(x_k)$$\n",
    "\n",
    "Reimann sums approximate integrals with the sum of a bunch of rectangles. Another similar way to compute these integrals is with the sum of trapezoids. \n"
   ]
  },
  {
   "cell_type": "code",
   "execution_count": 5,
   "metadata": {
    "collapsed": false
   },
   "outputs": [
    {
     "data": {
      "text/plain": [
       "<matplotlib.text.Text at 0x1541559bb38>"
      ]
     },
     "execution_count": 5,
     "metadata": {},
     "output_type": "execute_result"
    },
    {
     "data": {
      "image/png": "[encoded data removed]",
      "text/plain": [
       "<matplotlib.figure.Figure at 0x154154faa58>"
      ]
     },
     "metadata": {},
     "output_type": "display_data"
    }
   ],
   "source": [
    "x_rem = np.array([0, 0.25, 0.25, 0.5, 0.5, 0.75, 0.75, 1])\n",
    "y_rem = np.exp(-x_rem**2)\n",
    "plt.fill_between(x_rem, 0, y_rem, facecolor=\"r\", alpha = 0.2)\n",
    "x = np.linspace(0,1,100)\n",
    "plt.plot(x, np.exp(-x**2))\n",
    "plt.title(\"Trapezoid Sum\")"
   ]
  },
  {
   "cell_type": "markdown",
   "metadata": {},
   "source": [
    "Recall that the area of a trapezoid with width $h$ and side lengths $L_1$ and $L_2$ is given by:\n",
    "$$ A = h\\frac{L_1 + L_2}{2}$$.\n",
    "\n",
    "Now if the length of the sides is just the height of the function at two discrete points, $x_i$ and $x_{i+1}$, then this area is given by:\n",
    "$$ A = h\\frac{f(x_i) + f(x_{i+1})}{2}$$\n",
    "\n",
    "The total area is then the sum of these trapezoids. Since the left edge of a trapezoid is equivalent to the right side of its left neighbor we when we add them together the factor of 1/2 disappears. This happens for all the points except the left most and the right most. (If this doesn't make sense to you it's not hugely important - feel free to ask me about it though.) The formula for the trapezoid rule is then just:\n",
    "\n",
    "\n",
    "$$\\int_a^b f(x)\\text{d}x \\approx R_{T} = h\\sum\\limits_{k=1}^{N-1} f(x_k) + \\frac{h}{2}f(x_0) + \\frac{h}{2}f(x_N)$$\n",
    "\n",
    "Write some code to approximate the integral of the function $y = \\sin(x)$ on the interval $0\\leq x\\leq 1$ using the trapezoid rule. Compute the error (given that the exact solution is $cos(0) - cos(1) = 1 - cos(1)$) using the trapezoid rule and compare it to the error using the left and right Reimann sums. As in 3a, give me enough information to compute the table:\n",
    "\n",
    "| N|  left error | right error | trapezoid error|\n",
    "|-----------|------|\n",
    "|4 |  | | |\n",
    "|8 | |  | | \n",
    "|16 |  | | |\n",
    "|32|  | | | |\n"
   ]
  },
  {
   "cell_type": "code",
   "execution_count": null,
   "metadata": {
    "collapsed": false
   },
   "outputs": [],
   "source": [
    "# code for 4a\n",
    "\n",
    "# initialize empty lists\n",
    "left_error = []\n",
    "right_error = []\n",
    "trap_error = []\n",
    "\n",
    "\n",
    "N = 4\n",
    "# compute errors with N=4\n",
    "x = np.linspace(0,1,N+1)\n",
    "h = 1/N\n",
    "\n",
    "...\n",
    "\n",
    "N = 8\n",
    "# compute errors with N=8\n",
    "\n",
    "...\n",
    "\n",
    "N = 16\n",
    "# compute errors with N=16\n",
    "\n",
    "...\n",
    "\n",
    "N=32\n",
    "\n",
    "...\n",
    "\n",
    "print(left_error)\n",
    "print(right_error)\n",
    "print(trap_error)"
   ]
  },
  {
   "cell_type": "markdown",
   "metadata": {},
   "source": [
    "## 4b (10 points)\n",
    "\n",
    "Plot the errors vs. N on the same plot. Include a legend, axis labels and title. What is this plot telling you?"
   ]
  },
  {
   "cell_type": "code",
   "execution_count": null,
   "metadata": {
    "collapsed": false
   },
   "outputs": [],
   "source": [
    "# code for 4b"
   ]
  }
 ],
 "metadata": {
  "kernelspec": {
   "display_name": "Python [Root]",
   "language": "python",
   "name": "Python [Root]"
  },
  "language_info": {
   "codemirror_mode": {
    "name": "ipython",
    "version": 3
   },
   "file_extension": ".py",
   "mimetype": "text/x-python",
   "name": "python",
   "nbconvert_exporter": "python",
   "pygments_lexer": "ipython3",
   "version": "3.5.2"
  }
 },
 "nbformat": 4,
 "nbformat_minor": 0
}
